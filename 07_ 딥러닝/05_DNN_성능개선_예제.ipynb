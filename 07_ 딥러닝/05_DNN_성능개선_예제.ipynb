{
 "cells": [
  {
   "cell_type": "markdown",
   "id": "1cd0fd76",
   "metadata": {},
   "source": [
    "### 0. 준비"
   ]
  },
  {
   "cell_type": "markdown",
   "id": "38f403a2",
   "metadata": {},
   "source": [
    "#### import"
   ]
  },
  {
   "cell_type": "code",
   "execution_count": 1,
   "id": "cc1c5f3e",
   "metadata": {
    "ExecuteTime": {
     "end_time": "2022-03-22T09:37:12.200675Z",
     "start_time": "2022-03-22T09:37:05.936843Z"
    }
   },
   "outputs": [],
   "source": [
    "import numpy as np\n",
    "import tensorflow as tf\n",
    "from tensorflow import keras\n",
    "from tensorflow.keras import layers\n",
    "\n",
    "import matplotlib.pyplot as plt\n",
    "\n",
    "np.random.seed(0)\n",
    "tf.random.set_seed(0)"
   ]
  },
  {
   "cell_type": "markdown",
   "id": "42b12364",
   "metadata": {},
   "source": [
    "#### 학습결과 시각화 함수\n",
    "\n",
    "- 재사용을 위해 함수화"
   ]
  },
  {
   "cell_type": "code",
   "execution_count": 2,
   "id": "fab503f6",
   "metadata": {
    "ExecuteTime": {
     "end_time": "2022-03-22T09:39:41.382532Z",
     "start_time": "2022-03-22T09:39:41.366876Z"
    }
   },
   "outputs": [],
   "source": [
    "\n",
    "def plot_loss(epochs, history):\n",
    "    \"\"\"\n",
    "    epoch 별 학습 loss의 변화를 시각화 하는 함수\n",
    "    \"\"\"\n",
    "    plt.figure(figsize=(8,7))\n",
    "    plt.plot(range(1, epochs+1), history.history['loss'], label='Train Loss')\n",
    "    plt.plot(range(1, epochs+1), history.history['val_loss'], label='Validation Loss')\n",
    "    plt.title(\"Loss\")\n",
    "    plt.xlabel('Epochs')\n",
    "    plt.ylabel('Loss')\n",
    "    plt.legend()\n",
    "    plt.show()    "
   ]
  },
  {
   "cell_type": "code",
   "execution_count": 3,
   "id": "62e40346",
   "metadata": {
    "ExecuteTime": {
     "end_time": "2022-03-22T09:39:41.948779Z",
     "start_time": "2022-03-22T09:39:41.933156Z"
    }
   },
   "outputs": [],
   "source": [
    "def plot_accuracy(epochs, history):\n",
    "    \"\"\"\n",
    "    epoch 별 학습 Accuracy의 변화를 시각화 하는 함수\n",
    "    \"\"\"\n",
    "    plt.figure(figsize=(8,7))\n",
    "    plt.plot(range(1, epochs+1), history.history['accuracy'], label='Train Accuracy')\n",
    "    plt.plot(range(1, epochs+1), history.history['val_accuracy'], \n",
    "                                                 label='Validation Accuracy')\n",
    "    plt.title(\"Accuracy\")\n",
    "    plt.xlabel('Epochs')\n",
    "    plt.ylabel('Accuracy')\n",
    "    plt.legend()\n",
    "    plt.show()  "
   ]
  },
  {
   "cell_type": "markdown",
   "id": "b1e9a352",
   "metadata": {},
   "source": [
    "#### 데이터 로딩\n",
    "- MNIST 숫자 손글씨 데이터"
   ]
  },
  {
   "cell_type": "code",
   "execution_count": 4,
   "id": "d2c7fccd",
   "metadata": {
    "ExecuteTime": {
     "end_time": "2022-03-22T09:39:46.396625Z",
     "start_time": "2022-03-22T09:39:45.332969Z"
    }
   },
   "outputs": [],
   "source": [
    "(train_image, train_label), (test_image, test_label) = keras.datasets.mnist.load_data()"
   ]
  },
  {
   "cell_type": "code",
   "execution_count": 5,
   "id": "43b13e86",
   "metadata": {
    "ExecuteTime": {
     "end_time": "2022-03-22T09:39:47.301251Z",
     "start_time": "2022-03-22T09:39:47.277313Z"
    }
   },
   "outputs": [
    {
     "data": {
      "text/plain": [
       "((60000, 28, 28), (10000, 28, 28))"
      ]
     },
     "execution_count": 5,
     "metadata": {},
     "output_type": "execute_result"
    }
   ],
   "source": [
    "train_image.shape, test_image.shape"
   ]
  },
  {
   "cell_type": "markdown",
   "id": "38ce2e89",
   "metadata": {},
   "source": [
    "#### 하이퍼파라미터 변수 정의"
   ]
  },
  {
   "cell_type": "code",
   "execution_count": 6,
   "id": "a41ffcf5",
   "metadata": {
    "ExecuteTime": {
     "end_time": "2022-03-22T09:39:54.134007Z",
     "start_time": "2022-03-22T09:39:54.119046Z"
    }
   },
   "outputs": [],
   "source": [
    "# 하이퍼파라미터 변수\n",
    "LEARNING_RATE = 0.001 # 학습률 - optimizer 에 설정\n",
    "N_EPOCHS = 20 # epoch 수\n",
    "N_BATCHS = 100 # batch size\n",
    "\n",
    "# train/test 데이터의 개수를 변수 정의\n",
    "N_TRAIN = train_image.shape[0] # shuffle 할 때 쓰려고\n",
    "N_TEST = test_image.shape[0] # 쓸일없고"
   ]
  },
  {
   "cell_type": "markdown",
   "id": "c3287797",
   "metadata": {},
   "source": [
    "#### 전처리\n",
    "- image : 0 ~ 1 사이의 값으로 정규화, float32 \n",
    "    - 이미지 pixel은 양수의 범위의 값으로 표현하며, 보통 8bit로 표현가능하기에 unit8 (0-255) 이다. 그러나, unit8 로 계산을 하기 어렵다. 255 + 10 이라면 265는 표현할 수 없기에 다시 0부터 돌아가는 순환을 하게 된다. 그래서 265는 10 이 되며 색의 농도가 바껴버린다. 이러한 문제가 발생하지 않도록 float32 0 ~ 1 로 변환하는 것.\n",
    "- label : one hot encoding (다중분류문제이므로)"
   ]
  },
  {
   "cell_type": "code",
   "execution_count": 7,
   "id": "53e505cb",
   "metadata": {
    "ExecuteTime": {
     "end_time": "2022-03-22T09:40:13.983247Z",
     "start_time": "2022-03-22T09:40:13.803657Z"
    }
   },
   "outputs": [],
   "source": [
    "X_train = (train_image).astype(\"float32\")/255.0\n",
    "X_test = (test_image).astype('float32')/255.0"
   ]
  },
  {
   "cell_type": "code",
   "execution_count": 8,
   "id": "22a24d90",
   "metadata": {
    "ExecuteTime": {
     "end_time": "2022-03-22T09:40:16.477036Z",
     "start_time": "2022-03-22T09:40:16.463071Z"
    }
   },
   "outputs": [],
   "source": [
    "y_train = keras.utils.to_categorical(train_label)\n",
    "y_test = keras.utils.to_categorical(test_label)"
   ]
  },
  {
   "cell_type": "code",
   "execution_count": 9,
   "id": "2f84d781",
   "metadata": {
    "ExecuteTime": {
     "end_time": "2022-03-22T09:40:20.077097Z",
     "start_time": "2022-03-22T09:40:20.015263Z"
    }
   },
   "outputs": [
    {
     "data": {
      "text/plain": [
       "(0.0, 1.0, 0.0, 1.0)"
      ]
     },
     "execution_count": 9,
     "metadata": {},
     "output_type": "execute_result"
    }
   ],
   "source": [
    "np.min(X_train), np.max(X_train), np.min(X_test), np.max(X_test)"
   ]
  },
  {
   "cell_type": "code",
   "execution_count": 10,
   "id": "caf088f1",
   "metadata": {
    "ExecuteTime": {
     "end_time": "2022-03-22T09:40:31.889613Z",
     "start_time": "2022-03-22T09:40:31.871660Z"
    }
   },
   "outputs": [
    {
     "data": {
      "text/plain": [
       "((60000, 10), (10000, 10))"
      ]
     },
     "execution_count": 10,
     "metadata": {},
     "output_type": "execute_result"
    }
   ],
   "source": [
    "y_train.shape, y_test.shape"
   ]
  },
  {
   "cell_type": "markdown",
   "id": "b0d202b6",
   "metadata": {},
   "source": [
    "#### Dataset 생성"
   ]
  },
  {
   "cell_type": "code",
   "execution_count": 11,
   "id": "03dbad6c",
   "metadata": {
    "ExecuteTime": {
     "end_time": "2022-03-22T09:41:14.044282Z",
     "start_time": "2022-03-22T09:41:14.006380Z"
    }
   },
   "outputs": [],
   "source": [
    "train_dataset = tf.data.Dataset.from_tensor_slices((X_train, y_train))\\\n",
    "                               .shuffle(N_TRAIN)\\\n",
    "                               .batch(N_BATCHS, drop_remainder=True)\n",
    "\n",
    "test_dataset = tf.data.Dataset.from_tensor_slices((X_test, y_test)).batch(N_BATCHS)"
   ]
  },
  {
   "cell_type": "markdown",
   "id": "2f5572ac",
   "metadata": {},
   "source": [
    "# 1.모델의 크기 변경"
   ]
  },
  {
   "cell_type": "markdown",
   "id": "d5d522f9",
   "metadata": {
    "ExecuteTime": {
     "end_time": "2021-12-02T02:18:21.191909Z",
     "start_time": "2021-12-02T02:18:21.182933Z"
    }
   },
   "source": [
    "#### 작은 모델"
   ]
  },
  {
   "cell_type": "code",
   "execution_count": 15,
   "id": "91af98cd",
   "metadata": {
    "ExecuteTime": {
     "end_time": "2022-03-22T09:41:38.052727Z",
     "start_time": "2022-03-22T09:41:38.030785Z"
    }
   },
   "outputs": [],
   "source": [
    "def create_small_model():\n",
    "    #모델생성\n",
    "    model = keras.Sequential()\n",
    "    # 레이어 추가 - Hidden\n",
    "    model.add(layers.Flatten(input_shape=(28,28)))\n",
    "    model.add(layers.Dense(units=1, activation='relu'))\n",
    "    # 출력레이어 - 다중 분류 문제 : unit 수 -클래스수, activation-softmax\n",
    "    model.add(layers.Dense(units=10, activation='softmax'))\n",
    "    return model"
   ]
  },
  {
   "cell_type": "code",
   "execution_count": 16,
   "id": "c64b36dc",
   "metadata": {
    "ExecuteTime": {
     "end_time": "2022-03-22T09:41:43.521012Z",
     "start_time": "2022-03-22T09:41:43.447623Z"
    }
   },
   "outputs": [],
   "source": [
    "# 모델 생성, 컴파일\n",
    "small_model =  create_small_model()\n",
    "# 다중분류 : Loss-categoricla_crossentropy\n",
    "small_model.compile(optimizer=keras.optimizers.Adam(learning_rate=LEARNING_RATE),\n",
    "                    loss='categorical_crossentropy',\n",
    "                    metrics=['accuracy'])"
   ]
  },
  {
   "cell_type": "code",
   "execution_count": 17,
   "id": "df9bfbef",
   "metadata": {
    "ExecuteTime": {
     "end_time": "2022-03-22T09:41:44.581424Z",
     "start_time": "2022-03-22T09:41:44.559483Z"
    }
   },
   "outputs": [
    {
     "name": "stdout",
     "output_type": "stream",
     "text": [
      "Model: \"sequential\"\n",
      "_________________________________________________________________\n",
      " Layer (type)                Output Shape              Param #   \n",
      "=================================================================\n",
      " flatten (Flatten)           (None, 784)               0         \n",
      "                                                                 \n",
      " dense (Dense)               (None, 1)                 785       \n",
      "                                                                 \n",
      " dense_1 (Dense)             (None, 10)                20        \n",
      "                                                                 \n",
      "=================================================================\n",
      "Total params: 805\n",
      "Trainable params: 805\n",
      "Non-trainable params: 0\n",
      "_________________________________________________________________\n"
     ]
    }
   ],
   "source": [
    "small_model.summary()"
   ]
  },
  {
   "cell_type": "code",
   "execution_count": null,
   "id": "a52212cf",
   "metadata": {
    "ExecuteTime": {
     "end_time": "2022-03-22T09:41:45.291814Z",
     "start_time": "2022-03-22T09:41:45.270867Z"
    }
   },
   "outputs": [],
   "source": [
    "keras.utils.plot_model(small_model, show_shapes=True)"
   ]
  },
  {
   "cell_type": "code",
   "execution_count": 18,
   "id": "d87885a6",
   "metadata": {
    "ExecuteTime": {
     "end_time": "2022-03-22T09:42:22.599458Z",
     "start_time": "2022-03-22T09:41:48.638763Z"
    },
    "scrolled": false
   },
   "outputs": [
    {
     "name": "stdout",
     "output_type": "stream",
     "text": [
      "Epoch 1/20\n",
      "600/600 [==============================] - 6s 8ms/step - loss: 2.0981 - accuracy: 0.1922 - val_loss: 1.9758 - val_accuracy: 0.2240\n",
      "Epoch 2/20\n",
      "600/600 [==============================] - 3s 5ms/step - loss: 1.9096 - accuracy: 0.2301 - val_loss: 1.8601 - val_accuracy: 0.2478\n",
      "Epoch 3/20\n",
      "600/600 [==============================] - 3s 4ms/step - loss: 1.8248 - accuracy: 0.2455 - val_loss: 1.7992 - val_accuracy: 0.2550\n",
      "Epoch 4/20\n",
      "600/600 [==============================] - 3s 4ms/step - loss: 1.7779 - accuracy: 0.2595 - val_loss: 1.7630 - val_accuracy: 0.2738\n",
      "Epoch 5/20\n",
      "600/600 [==============================] - 2s 3ms/step - loss: 1.7476 - accuracy: 0.2717 - val_loss: 1.7367 - val_accuracy: 0.2688\n",
      "Epoch 6/20\n",
      "600/600 [==============================] - 3s 5ms/step - loss: 1.7259 - accuracy: 0.2754 - val_loss: 1.7191 - val_accuracy: 0.2709\n",
      "Epoch 7/20\n",
      "600/600 [==============================] - 3s 5ms/step - loss: 1.7098 - accuracy: 0.2796 - val_loss: 1.7028 - val_accuracy: 0.2833\n",
      "Epoch 8/20\n",
      "600/600 [==============================] - 2s 3ms/step - loss: 1.6979 - accuracy: 0.2796 - val_loss: 1.6933 - val_accuracy: 0.2763\n",
      "Epoch 9/20\n",
      "600/600 [==============================] - 2s 3ms/step - loss: 1.6882 - accuracy: 0.2859 - val_loss: 1.6854 - val_accuracy: 0.2932\n",
      "Epoch 10/20\n",
      "600/600 [==============================] - 2s 3ms/step - loss: 1.6813 - accuracy: 0.2872 - val_loss: 1.6783 - val_accuracy: 0.2947\n",
      "Epoch 11/20\n",
      "600/600 [==============================] - 2s 3ms/step - loss: 1.6752 - accuracy: 0.2891 - val_loss: 1.6739 - val_accuracy: 0.2932\n",
      "Epoch 12/20\n",
      "600/600 [==============================] - 2s 3ms/step - loss: 1.6700 - accuracy: 0.2894 - val_loss: 1.6692 - val_accuracy: 0.2958\n",
      "Epoch 13/20\n",
      "600/600 [==============================] - 2s 3ms/step - loss: 1.6656 - accuracy: 0.2909 - val_loss: 1.6660 - val_accuracy: 0.2946\n",
      "Epoch 14/20\n",
      "600/600 [==============================] - 2s 3ms/step - loss: 1.6619 - accuracy: 0.2919 - val_loss: 1.6636 - val_accuracy: 0.2936\n",
      "Epoch 15/20\n",
      "600/600 [==============================] - 2s 3ms/step - loss: 1.6586 - accuracy: 0.2925 - val_loss: 1.6600 - val_accuracy: 0.2976\n",
      "Epoch 16/20\n",
      "600/600 [==============================] - 2s 3ms/step - loss: 1.6555 - accuracy: 0.2955 - val_loss: 1.6584 - val_accuracy: 0.2941\n",
      "Epoch 17/20\n",
      "600/600 [==============================] - 2s 3ms/step - loss: 1.6523 - accuracy: 0.3035 - val_loss: 1.6541 - val_accuracy: 0.3085\n",
      "Epoch 18/20\n",
      "600/600 [==============================] - 2s 3ms/step - loss: 1.6493 - accuracy: 0.3113 - val_loss: 1.6510 - val_accuracy: 0.3049\n",
      "Epoch 19/20\n",
      "600/600 [==============================] - 2s 3ms/step - loss: 1.6452 - accuracy: 0.3256 - val_loss: 1.6483 - val_accuracy: 0.3402\n",
      "Epoch 20/20\n",
      "600/600 [==============================] - 2s 3ms/step - loss: 1.6390 - accuracy: 0.3369 - val_loss: 1.6405 - val_accuracy: 0.3074\n"
     ]
    }
   ],
   "source": [
    "hist = small_model.fit(train_dataset, epochs=N_EPOCHS, \n",
    "                       validation_data=test_dataset)"
   ]
  },
  {
   "cell_type": "code",
   "execution_count": 19,
   "id": "609b2a63",
   "metadata": {
    "ExecuteTime": {
     "end_time": "2022-03-22T09:43:08.648462Z",
     "start_time": "2022-03-22T09:43:08.415749Z"
    }
   },
   "outputs": [
    {
     "data": {
      "image/png": "[encoded data removed]",
      "text/plain": [
       "<Figure size 576x504 with 1 Axes>"
      ]
     },
     "metadata": {
      "needs_background": "light"
     },
     "output_type": "display_data"
    }
   ],
   "source": [
    "plot_loss(N_EPOCHS, hist)\n",
    "\n",
    "# 크게 개선 되지 않았다."
   ]
  },
  {
   "cell_type": "code",
   "execution_count": 20,
   "id": "1158f45c",
   "metadata": {
    "ExecuteTime": {
     "end_time": "2022-03-22T09:43:09.720048Z",
     "start_time": "2022-03-22T09:43:09.542742Z"
    }
   },
   "outputs": [
    {
     "data": {
      "image/png": "[encoded data removed]",
      "text/plain": [
       "<Figure size 576x504 with 1 Axes>"
      ]
     },
     "metadata": {
      "needs_background": "light"
     },
     "output_type": "display_data"
    }
   ],
   "source": [
    "plot_accuracy(N_EPOCHS, hist)\n",
    "\n",
    "# 크게 개선되지 않았다. 개선 속도가 느림. \n",
    "# => 데이터에 비해 모델의 크기가 너무 작지 않은가."
   ]
  },
  {
   "cell_type": "markdown",
   "id": "0bcfb450",
   "metadata": {
    "ExecuteTime": {
     "end_time": "2021-12-02T02:34:37.778103Z",
     "start_time": "2021-12-02T02:34:37.761151Z"
    }
   },
   "source": [
    "#### 모델의 크기를 크게\n",
    "-  Layer나 Unit 개수를 늘린다."
   ]
  },
  {
   "cell_type": "code",
   "execution_count": 21,
   "id": "41dd4c49",
   "metadata": {
    "ExecuteTime": {
     "end_time": "2022-03-22T09:44:10.466136Z",
     "start_time": "2022-03-22T09:44:10.447185Z"
    }
   },
   "outputs": [],
   "source": [
    "def create_bigger_model():\n",
    "    model = keras.Sequential()\n",
    "    #은닉층\n",
    "    model.add(layers.Flatten(input_shape=(28,28)))\n",
    "    \n",
    "    model.add(layers.Dense(units=256, activation='relu'))\n",
    "    model.add(layers.Dense(units=256, activation='relu'))\n",
    "    model.add(layers.Dense(units=128, activation='relu'))\n",
    "    model.add(layers.Dense(units=128, activation='relu'))\n",
    "    #출력층\n",
    "    model.add(layers.Dense(units=10, activation='softmax'))\n",
    "    return model"
   ]
  },
  {
   "cell_type": "code",
   "execution_count": 22,
   "id": "4ffd1b89",
   "metadata": {
    "ExecuteTime": {
     "end_time": "2022-03-22T09:44:16.796868Z",
     "start_time": "2022-03-22T09:44:16.718913Z"
    }
   },
   "outputs": [],
   "source": [
    "bigger_model = create_bigger_model()\n",
    "bigger_model.compile(optimizer=keras.optimizers.Adam(learning_rate=LEARNING_RATE),\n",
    "                     loss='categorical_crossentropy',\n",
    "                     metrics=['accuracy'])"
   ]
  },
  {
   "cell_type": "code",
   "execution_count": 23,
   "id": "243c1794",
   "metadata": {
    "ExecuteTime": {
     "end_time": "2022-03-22T09:44:17.893381Z",
     "start_time": "2022-03-22T09:44:17.865487Z"
    }
   },
   "outputs": [
    {
     "name": "stdout",
     "output_type": "stream",
     "text": [
      "Model: \"sequential_1\"\n",
      "_________________________________________________________________\n",
      " Layer (type)                Output Shape              Param #   \n",
      "=================================================================\n",
      " flatten_1 (Flatten)         (None, 784)               0         \n",
      "                                                                 \n",
      " dense_2 (Dense)             (None, 256)               200960    \n",
      "                                                                 \n",
      " dense_3 (Dense)             (None, 256)               65792     \n",
      "                                                                 \n",
      " dense_4 (Dense)             (None, 128)               32896     \n",
      "                                                                 \n",
      " dense_5 (Dense)             (None, 128)               16512     \n",
      "                                                                 \n",
      " dense_6 (Dense)             (None, 10)                1290      \n",
      "                                                                 \n",
      "=================================================================\n",
      "Total params: 317,450\n",
      "Trainable params: 317,450\n",
      "Non-trainable params: 0\n",
      "_________________________________________________________________\n"
     ]
    }
   ],
   "source": [
    "bigger_model.summary()"
   ]
  },
  {
   "cell_type": "code",
   "execution_count": 24,
   "id": "42e38a13",
   "metadata": {
    "ExecuteTime": {
     "end_time": "2022-03-22T09:45:31.390957Z",
     "start_time": "2022-03-22T09:44:18.879793Z"
    }
   },
   "outputs": [
    {
     "name": "stdout",
     "output_type": "stream",
     "text": [
      "Epoch 1/20\n",
      "600/600 [==============================] - 10s 14ms/step - loss: 0.2487 - accuracy: 0.9250 - val_loss: 0.1196 - val_accuracy: 0.9619\n",
      "Epoch 2/20\n",
      "600/600 [==============================] - 7s 11ms/step - loss: 0.0944 - accuracy: 0.9709 - val_loss: 0.0859 - val_accuracy: 0.9739\n",
      "Epoch 3/20\n",
      "600/600 [==============================] - 9s 14ms/step - loss: 0.0631 - accuracy: 0.9804 - val_loss: 0.0871 - val_accuracy: 0.9737\n",
      "Epoch 4/20\n",
      "600/600 [==============================] - 8s 12ms/step - loss: 0.0497 - accuracy: 0.9840 - val_loss: 0.0778 - val_accuracy: 0.9784\n",
      "Epoch 5/20\n",
      "600/600 [==============================] - 6s 9ms/step - loss: 0.0410 - accuracy: 0.9866 - val_loss: 0.0814 - val_accuracy: 0.9768\n",
      "Epoch 6/20\n",
      "600/600 [==============================] - 8s 13ms/step - loss: 0.0325 - accuracy: 0.9891 - val_loss: 0.0873 - val_accuracy: 0.9754\n",
      "Epoch 7/20\n",
      "600/600 [==============================] - 6s 9ms/step - loss: 0.0287 - accuracy: 0.9906 - val_loss: 0.0783 - val_accuracy: 0.9772\n",
      "Epoch 8/20\n",
      "600/600 [==============================] - 6s 9ms/step - loss: 0.0257 - accuracy: 0.9917 - val_loss: 0.0918 - val_accuracy: 0.9753\n",
      "Epoch 9/20\n",
      "600/600 [==============================] - 6s 9ms/step - loss: 0.0223 - accuracy: 0.9926 - val_loss: 0.0830 - val_accuracy: 0.9794\n",
      "Epoch 10/20\n",
      "600/600 [==============================] - 5s 8ms/step - loss: 0.0217 - accuracy: 0.9930 - val_loss: 0.0725 - val_accuracy: 0.9811\n",
      "Epoch 11/20\n",
      "600/600 [==============================] - 6s 9ms/step - loss: 0.0153 - accuracy: 0.9952 - val_loss: 0.0852 - val_accuracy: 0.9807\n",
      "Epoch 12/20\n",
      "600/600 [==============================] - 6s 9ms/step - loss: 0.0159 - accuracy: 0.9949 - val_loss: 0.0852 - val_accuracy: 0.9805\n",
      "Epoch 13/20\n",
      "600/600 [==============================] - 6s 10ms/step - loss: 0.0153 - accuracy: 0.9951 - val_loss: 0.0909 - val_accuracy: 0.9791\n",
      "Epoch 14/20\n",
      "600/600 [==============================] - 6s 10ms/step - loss: 0.0132 - accuracy: 0.9956 - val_loss: 0.0926 - val_accuracy: 0.9776\n",
      "Epoch 15/20\n",
      "600/600 [==============================] - 6s 9ms/step - loss: 0.0173 - accuracy: 0.9944 - val_loss: 0.0728 - val_accuracy: 0.9809\n",
      "Epoch 16/20\n",
      "600/600 [==============================] - 6s 9ms/step - loss: 0.0114 - accuracy: 0.9965 - val_loss: 0.0835 - val_accuracy: 0.9820\n",
      "Epoch 17/20\n",
      "600/600 [==============================] - 6s 10ms/step - loss: 0.0133 - accuracy: 0.9960 - val_loss: 0.0897 - val_accuracy: 0.9808\n",
      "Epoch 18/20\n",
      "600/600 [==============================] - 6s 9ms/step - loss: 0.0093 - accuracy: 0.9972 - val_loss: 0.0899 - val_accuracy: 0.9790\n",
      "Epoch 19/20\n",
      "600/600 [==============================] - 6s 9ms/step - loss: 0.0113 - accuracy: 0.9963 - val_loss: 0.0916 - val_accuracy: 0.9805\n",
      "Epoch 20/20\n",
      "600/600 [==============================] - 6s 10ms/step - loss: 0.0119 - accuracy: 0.9963 - val_loss: 0.0877 - val_accuracy: 0.9801\n"
     ]
    }
   ],
   "source": [
    "hist = bigger_model.fit(train_dataset, \n",
    "                        epochs=N_EPOCHS, \n",
    "                        validation_data=test_dataset)"
   ]
  },
  {
   "cell_type": "markdown",
   "id": "0235d596",
   "metadata": {},
   "source": [
    "- Epoch 19/20\n",
    "600/600 [==============================] - 6s 9ms/step - loss: 0.0113 - accuracy: 0.9963 - val_loss: 0.0916 - val_accuracy: 0.9805\n",
    "\n",
    "\n",
    "- Epoch 20/20\n",
    "600/600 [==============================] - 6s 10ms/step - loss: 0.0119 - accuracy: 0.9963 - val_loss: 0.0877 - val_accuracy: 0.9801\n",
    "                \n",
    "\n",
    "- 19, 20 epoch 을 비교했을 때,accurancy 는 20 epoch 에서 안 좋아지지만, loss는 더 좋아진다.\n",
    "    - => 성능을 비교할 때는 항상 loss가 기준이다. 정확도는 참고사항\n",
    "        - 19 가 더 좋은 성능\n",
    "\n",
    "\n",
    "- 그렇다면 왜 다르게 나올까? \n",
    "    - 정확도는 label로 몇 개 중에 몇 개가 맞았는 지를 보는 것인데,\n",
    "    - loss는 얼만큼의 확률로 맞췄는지까지 보는 것이다.\n",
    "        - 그렇다면, 틀리더라도 맞춘게 높은 확률로 확실하게 맞춘 모델과 다 맞긴 해도 애매한 확률로 겨우 맞춘 모델을 비교했을 때, 더 틀려도(정확도가 낮아도) 확실하게 높은 확률로 맞춘(loss가 적은) 모델이 좋다. "
   ]
  },
  {
   "cell_type": "code",
   "execution_count": 25,
   "id": "18af8878",
   "metadata": {
    "ExecuteTime": {
     "end_time": "2022-03-22T09:45:54.476953Z",
     "start_time": "2022-03-22T09:45:54.280702Z"
    },
    "scrolled": true
   },
   "outputs": [
    {
     "data": {
      "image/png": "[encoded data removed]",
      "text/plain": [
       "<Figure size 576x504 with 1 Axes>"
      ]
     },
     "metadata": {
      "needs_background": "light"
     },
     "output_type": "display_data"
    }
   ],
   "source": [
    "plot_loss(N_EPOCHS, hist)"
   ]
  },
  {
   "cell_type": "code",
   "execution_count": 26,
   "id": "4672e60f",
   "metadata": {
    "ExecuteTime": {
     "end_time": "2022-03-22T09:45:55.392624Z",
     "start_time": "2022-03-22T09:45:55.174839Z"
    },
    "scrolled": true
   },
   "outputs": [
    {
     "data": {
      "image/png": "[encoded data removed]",
      "text/plain": [
       "<Figure size 576x504 with 1 Axes>"
      ]
     },
     "metadata": {
      "needs_background": "light"
     },
     "output_type": "display_data"
    }
   ],
   "source": [
    "plot_accuracy(N_EPOCHS, hist)"
   ]
  },
  {
   "cell_type": "markdown",
   "id": "30a5c3ca",
   "metadata": {},
   "source": [
    "## Dropout 적용\n",
    "- layers.Dropout 객체를 이용\n",
    "\n",
    "- 하이퍼파라미터 dropout rate는 보통 0.2 ~ 0.5 정도로 설정\n",
    "    - 규제 강도는 rate를 크게 잡을 수록 커진다.(모델이 단순화됨.)\n",
    "- dropout node를 가질 Layer 앞에 추가."
   ]
  },
  {
   "cell_type": "code",
   "execution_count": 27,
   "id": "8ade2d69",
   "metadata": {
    "ExecuteTime": {
     "end_time": "2022-03-22T09:46:36.895855Z",
     "start_time": "2022-03-22T09:46:36.878933Z"
    }
   },
   "outputs": [],
   "source": [
    "def create_dropout_model():\n",
    "    model = keras.Sequential()\n",
    "    model.add(layers.Flatten(input_shape=(28,28)))\n",
    "    \n",
    "    model.add(layers.Dropout(0.5))\n",
    "    model.add(layers.Dense(units=256, activation='relu'))\n",
    "    \n",
    "    model.add(layers.Dropout(0.5))\n",
    "    model.add(layers.Dense(units=256, activation='relu'))\n",
    "    \n",
    "    model.add(layers.Dropout(0.3))\n",
    "    model.add(layers.Dense(units=128, activation='relu'))\n",
    "    \n",
    "    model.add(layers.Dropout(0.3))\n",
    "    model.add(layers.Dense(units=128, activation='relu'))\n",
    "    \n",
    "    model.add(layers.Dropout(0.3))\n",
    "    model.add(layers.Dense(units=10, activation='softmax'))\n",
    "    return model"
   ]
  },
  {
   "cell_type": "code",
   "execution_count": 28,
   "id": "1d378d13",
   "metadata": {
    "ExecuteTime": {
     "end_time": "2022-03-22T09:46:37.899983Z",
     "start_time": "2022-03-22T09:46:37.798423Z"
    }
   },
   "outputs": [],
   "source": [
    "dropout_model = create_dropout_model()\n",
    "dropout_model.compile(optimizer=keras.optimizers.Adam(learning_rate=LEARNING_RATE),\n",
    "                      loss='categorical_crossentropy', \n",
    "                      metrics=['accuracy'])"
   ]
  },
  {
   "cell_type": "code",
   "execution_count": 29,
   "id": "eb7af265",
   "metadata": {
    "ExecuteTime": {
     "end_time": "2022-03-22T09:46:38.773040Z",
     "start_time": "2022-03-22T09:46:38.733147Z"
    }
   },
   "outputs": [
    {
     "name": "stdout",
     "output_type": "stream",
     "text": [
      "Model: \"sequential_2\"\n",
      "_________________________________________________________________\n",
      " Layer (type)                Output Shape              Param #   \n",
      "=================================================================\n",
      " flatten_2 (Flatten)         (None, 784)               0         \n",
      "                                                                 \n",
      " dropout (Dropout)           (None, 784)               0         \n",
      "                                                                 \n",
      " dense_7 (Dense)             (None, 256)               200960    \n",
      "                                                                 \n",
      " dropout_1 (Dropout)         (None, 256)               0         \n",
      "                                                                 \n",
      " dense_8 (Dense)             (None, 256)               65792     \n",
      "                                                                 \n",
      " dropout_2 (Dropout)         (None, 256)               0         \n",
      "                                                                 \n",
      " dense_9 (Dense)             (None, 128)               32896     \n",
      "                                                                 \n",
      " dropout_3 (Dropout)         (None, 128)               0         \n",
      "                                                                 \n",
      " dense_10 (Dense)            (None, 128)               16512     \n",
      "                                                                 \n",
      " dropout_4 (Dropout)         (None, 128)               0         \n",
      "                                                                 \n",
      " dense_11 (Dense)            (None, 10)                1290      \n",
      "                                                                 \n",
      "=================================================================\n",
      "Total params: 317,450\n",
      "Trainable params: 317,450\n",
      "Non-trainable params: 0\n",
      "_________________________________________________________________\n"
     ]
    }
   ],
   "source": [
    "dropout_model.summary()"
   ]
  },
  {
   "cell_type": "code",
   "execution_count": 30,
   "id": "19a68f77",
   "metadata": {
    "ExecuteTime": {
     "end_time": "2022-03-22T09:49:45.470530Z",
     "start_time": "2022-03-22T09:48:59.368205Z"
    },
    "scrolled": false
   },
   "outputs": [
    {
     "name": "stdout",
     "output_type": "stream",
     "text": [
      "Epoch 1/30\n",
      "600/600 [==============================] - 11s 16ms/step - loss: 0.8477 - accuracy: 0.7170 - val_loss: 0.2501 - val_accuracy: 0.9280\n",
      "Epoch 2/30\n",
      "600/600 [==============================] - 8s 13ms/step - loss: 0.4386 - accuracy: 0.8701 - val_loss: 0.1758 - val_accuracy: 0.9504\n",
      "Epoch 3/30\n",
      "600/600 [==============================] - 8s 13ms/step - loss: 0.3603 - accuracy: 0.8948 - val_loss: 0.1464 - val_accuracy: 0.9590\n",
      "Epoch 4/30\n",
      "600/600 [==============================] - 9s 14ms/step - loss: 0.3258 - accuracy: 0.9057 - val_loss: 0.1285 - val_accuracy: 0.9626\n",
      "Epoch 5/30\n",
      "600/600 [==============================] - 8s 13ms/step - loss: 0.3002 - accuracy: 0.9138 - val_loss: 0.1223 - val_accuracy: 0.9628\n",
      "Epoch 6/30\n",
      "600/600 [==============================] - 8s 13ms/step - loss: 0.2805 - accuracy: 0.9186 - val_loss: 0.1088 - val_accuracy: 0.9668\n",
      "Epoch 7/30\n",
      "600/600 [==============================] - 7s 11ms/step - loss: 0.2673 - accuracy: 0.9236 - val_loss: 0.1082 - val_accuracy: 0.9672\n",
      "Epoch 8/30\n",
      "600/600 [==============================] - 7s 11ms/step - loss: 0.2561 - accuracy: 0.9269 - val_loss: 0.1003 - val_accuracy: 0.9712\n",
      "Epoch 9/30\n",
      "600/600 [==============================] - 7s 11ms/step - loss: 0.2459 - accuracy: 0.9292 - val_loss: 0.1005 - val_accuracy: 0.9707\n",
      "Epoch 10/30\n",
      "600/600 [==============================] - 7s 11ms/step - loss: 0.2401 - accuracy: 0.9298 - val_loss: 0.0925 - val_accuracy: 0.9746\n",
      "Epoch 11/30\n",
      "600/600 [==============================] - 7s 11ms/step - loss: 0.2353 - accuracy: 0.9314 - val_loss: 0.1002 - val_accuracy: 0.9703\n",
      "Epoch 12/30\n",
      "600/600 [==============================] - 7s 11ms/step - loss: 0.2291 - accuracy: 0.9347 - val_loss: 0.0942 - val_accuracy: 0.9737\n",
      "Epoch 13/30\n",
      "600/600 [==============================] - 7s 12ms/step - loss: 0.2235 - accuracy: 0.9354 - val_loss: 0.0842 - val_accuracy: 0.9744\n",
      "Epoch 14/30\n",
      "600/600 [==============================] - 8s 12ms/step - loss: 0.2171 - accuracy: 0.9363 - val_loss: 0.0907 - val_accuracy: 0.9743\n",
      "Epoch 15/30\n",
      "600/600 [==============================] - 7s 11ms/step - loss: 0.2124 - accuracy: 0.9381 - val_loss: 0.0854 - val_accuracy: 0.9746\n",
      "Epoch 16/30\n",
      "600/600 [==============================] - 7s 10ms/step - loss: 0.2155 - accuracy: 0.9366 - val_loss: 0.0866 - val_accuracy: 0.9742\n",
      "Epoch 17/30\n",
      "600/600 [==============================] - 6s 10ms/step - loss: 0.2085 - accuracy: 0.9384 - val_loss: 0.0864 - val_accuracy: 0.9742\n",
      "Epoch 18/30\n",
      "600/600 [==============================] - 7s 12ms/step - loss: 0.2077 - accuracy: 0.9394 - val_loss: 0.0820 - val_accuracy: 0.9765\n",
      "Epoch 19/30\n",
      "600/600 [==============================] - 7s 12ms/step - loss: 0.2022 - accuracy: 0.9404 - val_loss: 0.0819 - val_accuracy: 0.9766\n",
      "Epoch 20/30\n",
      "600/600 [==============================] - 10s 17ms/step - loss: 0.2073 - accuracy: 0.9401 - val_loss: 0.0812 - val_accuracy: 0.9763\n",
      "Epoch 21/30\n",
      "600/600 [==============================] - 10s 16ms/step - loss: 0.1999 - accuracy: 0.9421 - val_loss: 0.0820 - val_accuracy: 0.9765\n",
      "Epoch 22/30\n",
      "600/600 [==============================] - 7s 12ms/step - loss: 0.1998 - accuracy: 0.9416 - val_loss: 0.0838 - val_accuracy: 0.9740\n",
      "Epoch 23/30\n",
      "600/600 [==============================] - 7s 12ms/step - loss: 0.1976 - accuracy: 0.9420 - val_loss: 0.0815 - val_accuracy: 0.9773\n",
      "Epoch 24/30\n",
      "600/600 [==============================] - 8s 12ms/step - loss: 0.1988 - accuracy: 0.9423 - val_loss: 0.0769 - val_accuracy: 0.9785\n",
      "Epoch 25/30\n",
      "600/600 [==============================] - 6s 10ms/step - loss: 0.1912 - accuracy: 0.9439 - val_loss: 0.0821 - val_accuracy: 0.9767\n",
      "Epoch 26/30\n",
      "600/600 [==============================] - 6s 10ms/step - loss: 0.1865 - accuracy: 0.9457 - val_loss: 0.0744 - val_accuracy: 0.9778\n",
      "Epoch 27/30\n",
      "600/600 [==============================] - 6s 10ms/step - loss: 0.1927 - accuracy: 0.9447 - val_loss: 0.0790 - val_accuracy: 0.9768\n",
      "Epoch 28/30\n",
      "600/600 [==============================] - 6s 10ms/step - loss: 0.1856 - accuracy: 0.9472 - val_loss: 0.0832 - val_accuracy: 0.9767\n",
      "Epoch 29/30\n",
      "600/600 [==============================] - 7s 11ms/step - loss: 0.1821 - accuracy: 0.9467 - val_loss: 0.0773 - val_accuracy: 0.9779\n",
      "Epoch 30/30\n",
      "600/600 [==============================] - 7s 11ms/step - loss: 0.1854 - accuracy: 0.9459 - val_loss: 0.0755 - val_accuracy: 0.9776\n"
     ]
    }
   ],
   "source": [
    "# Dropout Layer 를 추가한 경우에는 epoch 를 더 늘려준다.\n",
    "\n",
    "# 학습이 안되게 하는 것 학습 자체를 줄이는 게 목적이 아니라,\n",
    "# 모든 유닛이 step 돌 때 마다 모두 되는 것을 방지하는 것이다.\n",
    "\n",
    "hist = dropout_model.fit(train_dataset, \n",
    "                         epochs=N_EPOCHS+10,\n",
    "                         validation_data=test_dataset)\n",
    "\n",
    "# dropout 규제를 하니, 오히려 train set 의 성능이 떨어지는 것을 볼 수 있다.\n",
    "# val 성능이 올라감. => 과대적합 해결\n"
   ]
  },
  {
   "cell_type": "code",
   "execution_count": 32,
   "id": "fb4add4f",
   "metadata": {
    "ExecuteTime": {
     "end_time": "2022-03-22T09:48:30.203555Z",
     "start_time": "2022-03-22T09:48:30.018533Z"
    }
   },
   "outputs": [
    {
     "data": {
      "image/png": "[encoded data removed]",
      "text/plain": [
       "<Figure size 576x504 with 1 Axes>"
      ]
     },
     "metadata": {
      "needs_background": "light"
     },
     "output_type": "display_data"
    }
   ],
   "source": [
    "plot_loss(N_EPOCHS+10, hist)"
   ]
  },
  {
   "cell_type": "code",
   "execution_count": 33,
   "id": "34b84d72",
   "metadata": {
    "ExecuteTime": {
     "end_time": "2022-03-22T09:48:33.615205Z",
     "start_time": "2022-03-22T09:48:33.411040Z"
    }
   },
   "outputs": [
    {
     "data": {
      "image/png": "[encoded data removed]",
      "text/plain": [
       "<Figure size 576x504 with 1 Axes>"
      ]
     },
     "metadata": {
      "needs_background": "light"
     },
     "output_type": "display_data"
    }
   ],
   "source": [
    "plot_accuracy(N_EPOCHS+10, hist)"
   ]
  },
  {
   "cell_type": "markdown",
   "id": "44a36091",
   "metadata": {},
   "source": [
    "## Batch Normalization\n",
    "- Dense -> BN -> Activation  순서로 적용\n",
    "> Dense Layer : 가중합 처리 (X @ W + B)\n",
    "> Dense(units=36) => 36개의 unit 을 가지는 dense layer를 생성. 각 unit 은 가중합 처리\n",
    "> Dense(units=36, activation='relu') => 36개의 unit들이 가중합 처리하고 그 결과를 activation(relu) layer에 전달해서 처리. => Dense layer + Activation layer\n",
    "- layers.BatchNormalization 사용"
   ]
  },
  {
   "cell_type": "code",
   "execution_count": null,
   "id": "a702313a",
   "metadata": {},
   "outputs": [],
   "source": [
    "# 참고. logistic (sigmoid) 는 함수 없음. \n",
    "layers.Activation('sigmoid') # 이렇게 layer 생성"
   ]
  },
  {
   "cell_type": "code",
   "execution_count": 12,
   "id": "ed2bd929",
   "metadata": {
    "ExecuteTime": {
     "end_time": "2022-03-22T09:51:04.840025Z",
     "start_time": "2022-03-22T09:51:04.821079Z"
    }
   },
   "outputs": [],
   "source": [
    "def create_bn_model():\n",
    "    model = keras.Sequential()\n",
    "    model.add(layers.Flatten(input_shape=(28,28)))\n",
    "    \n",
    "    model.add(layers.Dense(units=256)) # 가중합 계산\n",
    "    model.add(layers.BatchNormalization()) # Batch Normalization - 평균:0+beta, 표준편차: 1*gamma 의 분포\n",
    "    model.add(layers.ReLU()) # activation Layer : Relu\n",
    "    \n",
    "    # Dropout 같이 사용하는 경우(둘 다 하는 게 좋다고 함)\n",
    "    # Droput - Dense - BatchNormalization - Activation\n",
    "    model.add(layers.Dropout(0.3))\n",
    "    model.add(layers.Dense(units=128))\n",
    "    model.add(layers.BatchNormalization())\n",
    "    model.add(layers.ReLU())\n",
    "    \n",
    "    # 출력\n",
    "    model.add(layers.Dropout(0.3))\n",
    "    model.add(layers.Dense(units=10))\n",
    "    model.add(layers.BatchNormalization())\n",
    "    model.add(layers.Softmax()) \n",
    "    \n",
    "    return model"
   ]
  },
  {
   "cell_type": "code",
   "execution_count": 13,
   "id": "2c08dc66",
   "metadata": {
    "ExecuteTime": {
     "end_time": "2022-03-22T09:51:05.277898Z",
     "start_time": "2022-03-22T09:51:05.142664Z"
    }
   },
   "outputs": [],
   "source": [
    "bn_model = create_bn_model()\n",
    "bn_model.compile(optimizer=keras.optimizers.Adam(learning_rate=LEARNING_RATE),\n",
    "                 loss='categorical_crossentropy',\n",
    "                 metrics=['accuracy'])"
   ]
  },
  {
   "cell_type": "code",
   "execution_count": 14,
   "id": "985b3fa8",
   "metadata": {
    "ExecuteTime": {
     "end_time": "2022-03-22T09:51:06.753296Z",
     "start_time": "2022-03-22T09:51:06.702464Z"
    },
    "scrolled": true
   },
   "outputs": [
    {
     "name": "stdout",
     "output_type": "stream",
     "text": [
      "Model: \"sequential\"\n",
      "_________________________________________________________________\n",
      " Layer (type)                Output Shape              Param #   \n",
      "=================================================================\n",
      " flatten (Flatten)           (None, 784)               0         \n",
      "                                                                 \n",
      " dense (Dense)               (None, 256)               200960    \n",
      "                                                                 \n",
      " batch_normalization (BatchN  (None, 256)              1024      \n",
      " ormalization)                                                   \n",
      "                                                                 \n",
      " re_lu (ReLU)                (None, 256)               0         \n",
      "                                                                 \n",
      " dropout (Dropout)           (None, 256)               0         \n",
      "                                                                 \n",
      " dense_1 (Dense)             (None, 128)               32896     \n",
      "                                                                 \n",
      " batch_normalization_1 (Batc  (None, 128)              512       \n",
      " hNormalization)                                                 \n",
      "                                                                 \n",
      " re_lu_1 (ReLU)              (None, 128)               0         \n",
      "                                                                 \n",
      " dropout_1 (Dropout)         (None, 128)               0         \n",
      "                                                                 \n",
      " dense_2 (Dense)             (None, 10)                1290      \n",
      "                                                                 \n",
      " batch_normalization_2 (Batc  (None, 10)               40        \n",
      " hNormalization)                                                 \n",
      "                                                                 \n",
      " softmax (Softmax)           (None, 10)                0         \n",
      "                                                                 \n",
      "=================================================================\n",
      "Total params: 236,722\n",
      "Trainable params: 235,934\n",
      "Non-trainable params: 788\n",
      "_________________________________________________________________\n"
     ]
    }
   ],
   "source": [
    "# layer 이름 지정(공백 들어가면 안됨) 안 하면 알아서 소문자로 지정된다. 만약 중복이라면 숫자 1부터 붙인다.\n",
    "bn_model.summary()\n",
    "\n",
    "#  batch_normalization (None, 256) 1024 - 학습으로 나온 파라미터 감마 베타"
   ]
  },
  {
   "cell_type": "code",
   "execution_count": null,
   "id": "adf0386b",
   "metadata": {},
   "outputs": [],
   "source": [
    "# 사실 이 데이터 셋은 성능이 향상된 것을 크게 볼 수 없지만\n",
    "# 수업 상으로 배우기 위해"
   ]
  },
  {
   "cell_type": "code",
   "execution_count": 15,
   "id": "e8e47c6a",
   "metadata": {
    "ExecuteTime": {
     "end_time": "2022-03-22T09:52:20.227875Z",
     "start_time": "2022-03-22T09:51:07.357647Z"
    },
    "scrolled": false
   },
   "outputs": [
    {
     "name": "stdout",
     "output_type": "stream",
     "text": [
      "Epoch 1/20\n",
      "600/600 [==============================] - 9s 10ms/step - loss: 0.5888 - accuracy: 0.8886 - val_loss: 0.2742 - val_accuracy: 0.9559\n",
      "Epoch 2/20\n",
      "600/600 [==============================] - 6s 10ms/step - loss: 0.2949 - accuracy: 0.9426 - val_loss: 0.1540 - val_accuracy: 0.9685\n",
      "Epoch 3/20\n",
      "600/600 [==============================] - 6s 9ms/step - loss: 0.2020 - accuracy: 0.9575 - val_loss: 0.1147 - val_accuracy: 0.9744\n",
      "Epoch 4/20\n",
      "600/600 [==============================] - 6s 10ms/step - loss: 0.1596 - accuracy: 0.9641 - val_loss: 0.0962 - val_accuracy: 0.9773\n",
      "Epoch 5/20\n",
      "600/600 [==============================] - 5s 9ms/step - loss: 0.1320 - accuracy: 0.9692 - val_loss: 0.0792 - val_accuracy: 0.9801\n",
      "Epoch 6/20\n",
      "600/600 [==============================] - 5s 9ms/step - loss: 0.1121 - accuracy: 0.9714 - val_loss: 0.0720 - val_accuracy: 0.9796\n",
      "Epoch 7/20\n",
      "600/600 [==============================] - 5s 8ms/step - loss: 0.0994 - accuracy: 0.9744 - val_loss: 0.0697 - val_accuracy: 0.9788\n",
      "Epoch 8/20\n",
      "600/600 [==============================] - 5s 9ms/step - loss: 0.0873 - accuracy: 0.9771 - val_loss: 0.0635 - val_accuracy: 0.9822\n",
      "Epoch 9/20\n",
      "600/600 [==============================] - 6s 9ms/step - loss: 0.0763 - accuracy: 0.9803 - val_loss: 0.0611 - val_accuracy: 0.9812\n",
      "Epoch 10/20\n",
      "600/600 [==============================] - 6s 10ms/step - loss: 0.0728 - accuracy: 0.9807 - val_loss: 0.0569 - val_accuracy: 0.9822\n",
      "Epoch 11/20\n",
      "600/600 [==============================] - 5s 8ms/step - loss: 0.0661 - accuracy: 0.9816 - val_loss: 0.0588 - val_accuracy: 0.9827\n",
      "Epoch 12/20\n",
      "600/600 [==============================] - 7s 11ms/step - loss: 0.0651 - accuracy: 0.9817 - val_loss: 0.0572 - val_accuracy: 0.9825\n",
      "Epoch 13/20\n",
      "600/600 [==============================] - 5s 8ms/step - loss: 0.0563 - accuracy: 0.9845 - val_loss: 0.0537 - val_accuracy: 0.9836\n",
      "Epoch 14/20\n",
      "600/600 [==============================] - 5s 9ms/step - loss: 0.0550 - accuracy: 0.9842 - val_loss: 0.0564 - val_accuracy: 0.9836\n",
      "Epoch 15/20\n",
      "600/600 [==============================] - 6s 9ms/step - loss: 0.0513 - accuracy: 0.9852 - val_loss: 0.0535 - val_accuracy: 0.9835\n",
      "Epoch 16/20\n",
      "600/600 [==============================] - 5s 8ms/step - loss: 0.0492 - accuracy: 0.9858 - val_loss: 0.0523 - val_accuracy: 0.9838\n",
      "Epoch 17/20\n",
      "600/600 [==============================] - 5s 9ms/step - loss: 0.0465 - accuracy: 0.9868 - val_loss: 0.0564 - val_accuracy: 0.9824\n",
      "Epoch 18/20\n",
      "600/600 [==============================] - 5s 8ms/step - loss: 0.0439 - accuracy: 0.9874 - val_loss: 0.0531 - val_accuracy: 0.9838\n",
      "Epoch 19/20\n",
      "600/600 [==============================] - 6s 10ms/step - loss: 0.0426 - accuracy: 0.9875 - val_loss: 0.0580 - val_accuracy: 0.9815\n",
      "Epoch 20/20\n",
      "600/600 [==============================] - 7s 11ms/step - loss: 0.0412 - accuracy: 0.9877 - val_loss: 0.0524 - val_accuracy: 0.9836\n"
     ]
    }
   ],
   "source": [
    "hist = bn_model.fit(train_dataset, epochs=N_EPOCHS,\n",
    "                    validation_data=test_dataset)"
   ]
  },
  {
   "cell_type": "code",
   "execution_count": 16,
   "id": "ddb7d2f1",
   "metadata": {
    "ExecuteTime": {
     "end_time": "2022-03-22T09:52:20.435326Z",
     "start_time": "2022-03-22T09:52:20.233866Z"
    }
   },
   "outputs": [
    {
     "data": {
      "image/png": "[encoded data removed]",
      "text/plain": [
       "<Figure size 576x504 with 1 Axes>"
      ]
     },
     "metadata": {
      "needs_background": "light"
     },
     "output_type": "display_data"
    }
   ],
   "source": [
    "# 처음엔 train 보다 val 의 성능이 잘 나오는 이유 : val은 한 번 학습 후 검증하니 \n",
    "plot_loss(N_EPOCHS, hist)"
   ]
  },
  {
   "cell_type": "code",
   "execution_count": 17,
   "id": "ec27d371",
   "metadata": {
    "ExecuteTime": {
     "end_time": "2022-03-22T09:52:20.864539Z",
     "start_time": "2022-03-22T09:52:20.439318Z"
    }
   },
   "outputs": [
    {
     "data": {
      "image/png": "[encoded data removed]",
      "text/plain": [
       "<Figure size 576x504 with 1 Axes>"
      ]
     },
     "metadata": {
      "needs_background": "light"
     },
     "output_type": "display_data"
    }
   ],
   "source": [
    "plot_accuracy(N_EPOCHS, hist)"
   ]
  },
  {
   "cell_type": "markdown",
   "id": "bc2a0238",
   "metadata": {},
   "source": [
    "## 3. Learning Rate 조정을 이용한 성능향상\n",
    "\n",
    "### Learning Rate Decay\n",
    "- 일정한 step마다 일정 비율로 Learning rate를 조정"
   ]
  },
  {
   "cell_type": "code",
   "execution_count": 18,
   "id": "a94d11a0",
   "metadata": {
    "ExecuteTime": {
     "end_time": "2022-03-22T09:52:20.880505Z",
     "start_time": "2022-03-22T09:52:20.868490Z"
    }
   },
   "outputs": [],
   "source": [
    "def create_model():\n",
    "    model = keras.Sequential()\n",
    "    model.add(layers.Flatten(input_shape=(28,28)))\n",
    "    model.add(layers.Dense(units=256, activation='relu'))\n",
    "    model.add(layers.Dense(units=128, activation='relu'))\n",
    "    model.add(layers.Dense(units=128, activation='relu'))\n",
    "    model.add(layers.Dense(units=10, activation='softmax'))\n",
    "    return model"
   ]
  },
  {
   "cell_type": "code",
   "execution_count": 19,
   "id": "45647cf1",
   "metadata": {
    "ExecuteTime": {
     "end_time": "2022-03-22T09:52:20.944209Z",
     "start_time": "2022-03-22T09:52:20.882501Z"
    }
   },
   "outputs": [],
   "source": [
    "model = create_model()"
   ]
  },
  {
   "cell_type": "code",
   "execution_count": null,
   "id": "d35e5578",
   "metadata": {
    "ExecuteTime": {
     "end_time": "2022-03-22T09:52:20.976162Z",
     "start_time": "2022-03-22T09:52:20.951196Z"
    }
   },
   "outputs": [],
   "source": [
    "# len(dataset객체) : epoch 당 step 수\n",
    "\n",
    "len(train_dataset)*10  #10에폭의 step수"
   ]
  },
  {
   "cell_type": "markdown",
   "id": "22c7a09b",
   "metadata": {
    "ExecuteTime": {
     "end_time": "2022-03-22T09:52:20.992130Z",
     "start_time": "2022-03-22T09:52:20.980117Z"
    }
   },
   "source": [
    "##### keras.optimizers.schedules.ExponentialDecay()\n",
    "\n",
    "- decay_rate : 변경비율\n",
    "    - 시작 learning rate 를 크게 잡아주고 갈수록 줄어들도록 규칙을 정한다.\n",
    "    - learning rate 키우는 비율 설정을 하면 안된다. 매 step 마다 끝없이 커짐으로."
   ]
  },
  {
   "cell_type": "code",
   "execution_count": 20,
   "id": "7a0e5fbe",
   "metadata": {
    "ExecuteTime": {
     "end_time": "2022-03-22T09:52:20.992130Z",
     "start_time": "2022-03-22T09:52:20.980117Z"
    }
   },
   "outputs": [],
   "source": [
    "lr_scheduler = keras.optimizers.schedules.ExponentialDecay(\n",
    "                    initial_learning_rate=LEARNING_RATE, # 시작 Learning Rate\n",
    "                    decay_steps=len(train_dataset)*5, # 5에폭당 late 변경 # 몇 step 마다 변경할 것인지(에폭단위가 아니라 step 단위)\n",
    "                    decay_rate=0.2, # 변경비율. 현재_Learning_rate * decay_rate = 새로운  Learning rate\n",
    "                    staircase=True, # 계단식 변경 여부(default = False : 매 스텝마다 조금씩 변경), True : 지정한 step에서 한번에 변경. - 보통 계단식으로 함\n",
    "                    )\n",
    "\n",
    "# learning Decay 객체(.ExponentialDecay) 를 컴파일 할 때 optimizer 의 learning_rate 매개변수에 전달\n"
   ]
  },
  {
   "cell_type": "code",
   "execution_count": 21,
   "id": "c98b4792",
   "metadata": {
    "ExecuteTime": {
     "end_time": "2022-03-22T09:52:21.023828Z",
     "start_time": "2022-03-22T09:52:20.998071Z"
    }
   },
   "outputs": [],
   "source": [
    "model.compile(optimizer=keras.optimizers.Adam(learning_rate=lr_scheduler), # learning_rate 에 learningRate scheduler 를 값(0.0001) 대신 설정.\n",
    "              loss='categorical_crossentropy',\n",
    "              metrics=['accuracy'])"
   ]
  },
  {
   "cell_type": "code",
   "execution_count": 22,
   "id": "8eef85b0",
   "metadata": {
    "ExecuteTime": {
     "end_time": "2022-03-22T09:53:19.041070Z",
     "start_time": "2022-03-22T09:52:21.030816Z"
    },
    "scrolled": false
   },
   "outputs": [
    {
     "name": "stdout",
     "output_type": "stream",
     "text": [
      "Epoch 1/20\n",
      "600/600 [==============================] - 8s 10ms/step - loss: 0.2515 - accuracy: 0.9256 - val_loss: 0.1173 - val_accuracy: 0.9625\n",
      "Epoch 2/20\n",
      "600/600 [==============================] - 5s 8ms/step - loss: 0.0944 - accuracy: 0.9707 - val_loss: 0.1045 - val_accuracy: 0.9692\n",
      "Epoch 3/20\n",
      "600/600 [==============================] - 5s 8ms/step - loss: 0.0637 - accuracy: 0.9797 - val_loss: 0.0707 - val_accuracy: 0.9775\n",
      "Epoch 4/20\n",
      "600/600 [==============================] - 5s 8ms/step - loss: 0.0483 - accuracy: 0.9844 - val_loss: 0.0757 - val_accuracy: 0.9766\n",
      "Epoch 5/20\n",
      "600/600 [==============================] - 6s 10ms/step - loss: 0.0365 - accuracy: 0.9880 - val_loss: 0.0754 - val_accuracy: 0.9778\n",
      "Epoch 6/20\n",
      "600/600 [==============================] - 5s 8ms/step - loss: 0.0129 - accuracy: 0.9964 - val_loss: 0.0590 - val_accuracy: 0.9837\n",
      "Epoch 7/20\n",
      "600/600 [==============================] - 5s 8ms/step - loss: 0.0075 - accuracy: 0.9982 - val_loss: 0.0630 - val_accuracy: 0.9821\n",
      "Epoch 8/20\n",
      "600/600 [==============================] - 6s 10ms/step - loss: 0.0055 - accuracy: 0.9989 - val_loss: 0.0599 - val_accuracy: 0.9840\n",
      "Epoch 9/20\n",
      "600/600 [==============================] - 6s 9ms/step - loss: 0.0040 - accuracy: 0.9992 - val_loss: 0.0624 - val_accuracy: 0.9844\n",
      "Epoch 10/20\n",
      "600/600 [==============================] - 6s 10ms/step - loss: 0.0032 - accuracy: 0.9994 - val_loss: 0.0677 - val_accuracy: 0.9833\n",
      "Epoch 11/20\n",
      "600/600 [==============================] - 6s 9ms/step - loss: 0.0019 - accuracy: 0.9997 - val_loss: 0.0649 - val_accuracy: 0.9839\n",
      "Epoch 12/20\n",
      "600/600 [==============================] - 5s 8ms/step - loss: 0.0014 - accuracy: 0.9999 - val_loss: 0.0655 - val_accuracy: 0.9845\n",
      "Epoch 13/20\n",
      "600/600 [==============================] - 6s 10ms/step - loss: 0.0012 - accuracy: 0.9999 - val_loss: 0.0662 - val_accuracy: 0.9842\n",
      "Epoch 14/20\n",
      "600/600 [==============================] - 5s 9ms/step - loss: 0.0011 - accuracy: 0.9999 - val_loss: 0.0671 - val_accuracy: 0.9841\n",
      "Epoch 15/20\n",
      "600/600 [==============================] - 6s 9ms/step - loss: 9.4827e-04 - accuracy: 1.0000 - val_loss: 0.0672 - val_accuracy: 0.9840\n",
      "Epoch 16/20\n",
      "600/600 [==============================] - 5s 8ms/step - loss: 7.7470e-04 - accuracy: 1.0000 - val_loss: 0.0679 - val_accuracy: 0.9843\n",
      "Epoch 17/20\n",
      "600/600 [==============================] - 5s 9ms/step - loss: 7.4365e-04 - accuracy: 1.0000 - val_loss: 0.0684 - val_accuracy: 0.9842\n",
      "Epoch 18/20\n",
      "600/600 [==============================] - 6s 10ms/step - loss: 7.1402e-04 - accuracy: 1.0000 - val_loss: 0.0692 - val_accuracy: 0.9841\n",
      "Epoch 19/20\n",
      "600/600 [==============================] - 5s 7ms/step - loss: 6.9207e-04 - accuracy: 1.0000 - val_loss: 0.0694 - val_accuracy: 0.9845\n",
      "Epoch 20/20\n",
      "600/600 [==============================] - 5s 9ms/step - loss: 6.6165e-04 - accuracy: 1.0000 - val_loss: 0.0698 - val_accuracy: 0.9844\n"
     ]
    }
   ],
   "source": [
    "hist = model.fit(train_dataset, \n",
    "                 epochs=N_EPOCHS, \n",
    "                 validation_data=test_dataset)"
   ]
  },
  {
   "cell_type": "code",
   "execution_count": null,
   "id": "38346a6a",
   "metadata": {
    "ExecuteTime": {
     "end_time": "2022-03-22T09:53:19.230572Z",
     "start_time": "2022-03-22T09:53:19.049041Z"
    }
   },
   "outputs": [],
   "source": [
    "plot_loss(N_EPOCHS, hist)"
   ]
  },
  {
   "cell_type": "markdown",
   "id": "0397c696",
   "metadata": {},
   "source": [
    "### Callback 을 이용한 학습률 조정\n",
    "- ReduceLROnPlateau callback을 이용\n",
    "    - 학습시 성능이 개선이 안되는 경우 LR를 조정"
   ]
  },
  {
   "cell_type": "code",
   "execution_count": 24,
   "id": "4fc5c1d5",
   "metadata": {
    "ExecuteTime": {
     "end_time": "2022-03-22T09:53:19.309470Z",
     "start_time": "2022-03-22T09:53:19.233606Z"
    }
   },
   "outputs": [],
   "source": [
    "model = create_model()\n",
    "model.compile(optimizer=keras.optimizers.Adam(learning_rate=LEARNING_RATE),\n",
    "              loss='categorical_crossentropy',\n",
    "              metrics=['accuracy'])"
   ]
  },
  {
   "cell_type": "code",
   "execution_count": null,
   "id": "b006ecd0",
   "metadata": {},
   "outputs": [],
   "source": [
    "# 나중에배움.\n",
    "\n",
    "# EarlyStopping : 더이상 성능 개선이 없으면 epoch 더 이상 돌지 않고 멈추게 하는 함수\n",
    "        # 이 또한 시점을 모르기 때문에 callback 사용.\n",
    "    \n",
    "# ModelCheckpoint : epoch 당 학습이 끝나면 저장. epoch 별로 저장. 성능이 개선될 때 경우에 저장"
   ]
  },
  {
   "cell_type": "code",
   "execution_count": 25,
   "id": "7a0d0557",
   "metadata": {
    "ExecuteTime": {
     "end_time": "2022-03-22T09:53:19.325412Z",
     "start_time": "2022-03-22T09:53:19.314454Z"
    }
   },
   "outputs": [],
   "source": [
    "# ReduceLROnPlateau : 학습 도중에 성능이 개선이 되지 않으면 Learning Rate 를 조정(처리)\n",
    "\n",
    "from keras.callbacks import ReduceLROnPlateau, EarlyStopping, ModelCheckpoint\n",
    "\n",
    "lr_cb = ReduceLROnPlateau(monitor='val_loss', # 어떤 성능 확인할지 (어떤 성능이 개선되지 않으면) (def = val_loss)\n",
    "                          factor=0.2, # 변경비율 (현재 LR * factor = 새로운 LR)\n",
    "                          patience=3, # 세번까지 봤는데 성능 개선이 안 됐을 때# 성능 개선이 안되는 것을 몇 epoch 까지 볼 것인지. 설정한 에폭 안에 성능 개선이 안되면 LR를 변경(보통 5, 10). 일시적(순간적)인 변화가 아닌, 추세적인 변화를 봐야 한다.\n",
    "                          verbose=2) # 로그(기록) 출력"
   ]
  },
  {
   "cell_type": "code",
   "execution_count": 26,
   "id": "5d4a97e1",
   "metadata": {
    "ExecuteTime": {
     "end_time": "2022-03-22T09:53:52.179369Z",
     "start_time": "2022-03-22T09:53:19.329365Z"
    },
    "scrolled": false
   },
   "outputs": [
    {
     "name": "stdout",
     "output_type": "stream",
     "text": [
      "Epoch 1/20\n",
      "600/600 [==============================] - 6s 8ms/step - loss: 0.2536 - accuracy: 0.9252 - val_loss: 0.1160 - val_accuracy: 0.9639 - lr: 0.0010\n",
      "Epoch 2/20\n",
      "600/600 [==============================] - 5s 9ms/step - loss: 0.0969 - accuracy: 0.9702 - val_loss: 0.0875 - val_accuracy: 0.9714 - lr: 0.0010\n",
      "Epoch 3/20\n",
      "600/600 [==============================] - 6s 9ms/step - loss: 0.0629 - accuracy: 0.9800 - val_loss: 0.0772 - val_accuracy: 0.9757 - lr: 0.0010\n",
      "Epoch 4/20\n",
      "600/600 [==============================] - 5s 8ms/step - loss: 0.0463 - accuracy: 0.9852 - val_loss: 0.0743 - val_accuracy: 0.9772 - lr: 0.0010\n",
      "Epoch 5/20\n",
      "600/600 [==============================] - 6s 9ms/step - loss: 0.0373 - accuracy: 0.9881 - val_loss: 0.0920 - val_accuracy: 0.9744 - lr: 0.0010\n",
      "Epoch 6/20\n",
      "600/600 [==============================] - 5s 9ms/step - loss: 0.0308 - accuracy: 0.9899 - val_loss: 0.0784 - val_accuracy: 0.9778 - lr: 0.0010\n",
      "Epoch 7/20\n",
      "594/600 [============================>.] - ETA: 0s - loss: 0.0241 - accuracy: 0.9923\n",
      "Epoch 7: ReduceLROnPlateau reducing learning rate to 0.00020000000949949026.\n",
      "600/600 [==============================] - 5s 8ms/step - loss: 0.0244 - accuracy: 0.9922 - val_loss: 0.0747 - val_accuracy: 0.9789 - lr: 0.0010\n",
      "Epoch 8/20\n",
      "600/600 [==============================] - 6s 9ms/step - loss: 0.0082 - accuracy: 0.9977 - val_loss: 0.0619 - val_accuracy: 0.9837 - lr: 2.0000e-04\n",
      "Epoch 9/20\n",
      "600/600 [==============================] - 5s 9ms/step - loss: 0.0036 - accuracy: 0.9993 - val_loss: 0.0667 - val_accuracy: 0.9826 - lr: 2.0000e-04\n",
      "Epoch 10/20\n",
      "600/600 [==============================] - 5s 9ms/step - loss: 0.0025 - accuracy: 0.9996 - val_loss: 0.0636 - val_accuracy: 0.9836 - lr: 2.0000e-04\n",
      "Epoch 11/20\n",
      "594/600 [============================>.] - ETA: 0s - loss: 0.0016 - accuracy: 0.9998\n",
      "Epoch 11: ReduceLROnPlateau reducing learning rate to 4.0000001899898055e-05.\n",
      "600/600 [==============================] - 6s 9ms/step - loss: 0.0016 - accuracy: 0.9998 - val_loss: 0.0677 - val_accuracy: 0.9839 - lr: 2.0000e-04\n",
      "Epoch 12/20\n",
      "600/600 [==============================] - 6s 9ms/step - loss: 9.9898e-04 - accuracy: 0.9999 - val_loss: 0.0675 - val_accuracy: 0.9840 - lr: 4.0000e-05\n",
      "Epoch 13/20\n",
      "600/600 [==============================] - 5s 8ms/step - loss: 8.4623e-04 - accuracy: 0.9999 - val_loss: 0.0676 - val_accuracy: 0.9843 - lr: 4.0000e-05\n",
      "Epoch 14/20\n",
      "593/600 [============================>.] - ETA: 0s - loss: 7.5490e-04 - accuracy: 1.0000\n",
      "Epoch 14: ReduceLROnPlateau reducing learning rate to 8.000000525498762e-06.\n",
      "600/600 [==============================] - 6s 10ms/step - loss: 7.5247e-04 - accuracy: 1.0000 - val_loss: 0.0682 - val_accuracy: 0.9841 - lr: 4.0000e-05\n",
      "Epoch 15/20\n",
      "600/600 [==============================] - 6s 9ms/step - loss: 6.2976e-04 - accuracy: 1.0000 - val_loss: 0.0686 - val_accuracy: 0.9840 - lr: 8.0000e-06\n",
      "Epoch 16/20\n",
      "600/600 [==============================] - 6s 9ms/step - loss: 6.1172e-04 - accuracy: 1.0000 - val_loss: 0.0688 - val_accuracy: 0.9839 - lr: 8.0000e-06\n",
      "Epoch 17/20\n",
      "600/600 [==============================] - ETA: 0s - loss: 5.8939e-04 - accuracy: 1.0000\n",
      "Epoch 17: ReduceLROnPlateau reducing learning rate to 1.6000001778593287e-06.\n",
      "600/600 [==============================] - 6s 9ms/step - loss: 5.8939e-04 - accuracy: 1.0000 - val_loss: 0.0691 - val_accuracy: 0.9842 - lr: 8.0000e-06\n",
      "Epoch 18/20\n",
      "600/600 [==============================] - 5s 9ms/step - loss: 5.5803e-04 - accuracy: 1.0000 - val_loss: 0.0692 - val_accuracy: 0.9842 - lr: 1.6000e-06\n",
      "Epoch 19/20\n",
      "600/600 [==============================] - 5s 8ms/step - loss: 5.5202e-04 - accuracy: 1.0000 - val_loss: 0.0692 - val_accuracy: 0.9842 - lr: 1.6000e-06\n",
      "Epoch 20/20\n",
      "593/600 [============================>.] - ETA: 0s - loss: 5.4790e-04 - accuracy: 1.0000\n",
      "Epoch 20: ReduceLROnPlateau reducing learning rate to 3.200000264769187e-07.\n",
      "600/600 [==============================] - 5s 8ms/step - loss: 5.4582e-04 - accuracy: 1.0000 - val_loss: 0.0693 - val_accuracy: 0.9841 - lr: 1.6000e-06\n"
     ]
    }
   ],
   "source": [
    "# callback 은 fit() 메소드의 callbacks 매겨변수에 리스트에 담아서 전달.\n",
    "hist = model.fit(train_dataset, epochs=N_EPOCHS, \n",
    "                 validation_data=test_dataset,\n",
    "                 callbacks=[lr_cb])"
   ]
  },
  {
   "cell_type": "code",
   "execution_count": null,
   "id": "8f4ea051",
   "metadata": {},
   "outputs": [],
   "source": [
    "Epoch 4/20\n",
    "600/600 [==============================] - 5s 8ms/step - loss: 0.0463 - accuracy: 0.9852 - val_loss: 0.0743 - val_accuracy: 0.9772 - lr: 0.0010\n",
    "Epoch 5/20\n",
    "600/600 [==============================] - 6s 9ms/step - loss: 0.0373 - accuracy: 0.9881 - val_loss: 0.0920 - val_accuracy: 0.9744 - lr: 0.0010\n",
    "Epoch 6/20\n",
    "600/600 [==============================] - 5s 9ms/step - loss: 0.0308 - accuracy: 0.9899 - val_loss: 0.0784 - val_accuracy: 0.9778 - lr: 0.0010\n",
    "\n",
    "            \n",
    "# learning rate 바꾼다.\n",
    "Epoch 7/20\n",
    "594/600 [============================>.] - ETA: 0s - loss: 0.0241 - accuracy: 0.9923\n",
    "\n",
    "Epoch 7: ReduceLROnPlateau reducing learning rate to 0.00020000000949949026.\n",
    "600/600 [==============================] - 5s 8ms/step - loss: 0.0244 - accuracy: 0.9922 - val_loss: 0.0747 - val_accuracy: 0.9789 - lr: 0.0010\n",
    "\n",
    "Epoch 8/20\n",
    "600/600 [==============================] - 6s 9ms/step - loss: 0.0082 - accuracy: 0.9977 - val_loss: 0.0619 - val_accuracy: 0.9837 - lr: 2.0000e-04"
   ]
  },
  {
   "cell_type": "code",
   "execution_count": null,
   "id": "7fce70b4",
   "metadata": {},
   "outputs": [],
   "source": []
  },
  {
   "cell_type": "code",
   "execution_count": null,
   "id": "82cb2c1a",
   "metadata": {},
   "outputs": [],
   "source": []
  },
  {
   "cell_type": "code",
   "execution_count": null,
   "id": "85527d07",
   "metadata": {},
   "outputs": [],
   "source": []
  }
 ],
 "metadata": {
  "kernelspec": {
   "display_name": "Python 3 (ipykernel)",
   "language": "python",
   "name": "python3"
  },
  "language_info": {
   "codemirror_mode": {
    "name": "ipython",
    "version": 3
   },
   "file_extension": ".py",
   "mimetype": "text/x-python",
   "name": "python",
   "nbconvert_exporter": "python",
   "pygments_lexer": "ipython3",
   "version": "3.9.12"
  },
  "toc": {
   "base_numbering": 1,
   "nav_menu": {},
   "number_sections": false,
   "sideBar": true,
   "skip_h1_title": false,
   "title_cell": "Table of Contents",
   "title_sidebar": "Contents",
   "toc_cell": false,
   "toc_position": {},
   "toc_section_display": true,
   "toc_window_display": false
  },
  "varInspector": {
   "cols": {
    "lenName": 16,
    "lenType": 16,
    "lenVar": 40
   },
   "kernels_config": {
    "python": {
     "delete_cmd_postfix": "",
     "delete_cmd_prefix": "del ",
     "library": "var_list.py",
     "varRefreshCmd": "print(var_dic_list())"
    },
    "r": {
     "delete_cmd_postfix": ") ",
     "delete_cmd_prefix": "rm(",
     "library": "var_list.r",
     "varRefreshCmd": "cat(var_dic_list()) "
    }
   },
   "types_to_exclude": [
    "module",
    "function",
    "builtin_function_or_method",
    "instance",
    "_Feature"
   ],
   "window_display": false
  }
 },
 "nbformat": 4,
 "nbformat_minor": 5
}
