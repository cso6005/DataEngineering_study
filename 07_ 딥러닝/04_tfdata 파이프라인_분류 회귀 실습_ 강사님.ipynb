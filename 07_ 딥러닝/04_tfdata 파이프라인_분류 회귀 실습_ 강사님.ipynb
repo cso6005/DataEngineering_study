{
 "cells": [
  {
   "cell_type": "markdown",
   "metadata": {
    "slideshow": {
     "slide_type": "slide"
    }
   },
   "source": [
    "# tf.data 모듈\n",
    "- 데이터 입력 파이프라인을 위한 모듈\n",
    "    - 모델 학습/평가를 위한 대용량 데이터셋을 제공(feeding)하기 위한 모듈\n",
    "    - raw dataset 에서 입력을 위한 **전처리**, **배치 크키**, **shuffling**등을 한번에 처리할 수 있게 한다.\n",
    "- tf.data.Dataset 추상클래스에서 상속된 여러가지 클래스들을 제공\n",
    "    - 입력 소스의 제공 형태에 따라 다양한 방식을 제공"
   ]
  },
  {
   "cell_type": "markdown",
   "metadata": {
    "slideshow": {
     "slide_type": "fragment"
    }
   },
   "source": [
    "## Dataset API 사용\n",
    "1. **Dataset 생성**\n",
    "    - raw dataset을 지정 (Loading)\n",
    "    - from_tensor_slices(), from_generator() 클래스 메소드, tf.data.TFRecordDataset 클래스등를 사용해 메모리나 파일에 있는 데이터를 Dataset으로 만든다.\n",
    "    - **from_tensor_slices()**: 메모리의 리스트, 넘파이배열, 텐서플로 자료형에서 데이터를 생성한다."
   ]
  },
  {
   "cell_type": "markdown",
   "metadata": {
    "slideshow": {
     "slide_type": "fragment"
    }
   },
   "source": [
    "2. **제공 데이터 전처리**\n",
    "    - **map(함수)**: 하나 하나의 데이터를 변환\n",
    "        - 함수: 값을 변환할 함수로 입력데이터셋의 개수만큼 매개변수 선언\n",
    "    - **filter(함수)**: 특정 조건의 데이터만 제공하도록 처리.\n",
    "        - 함수: 제공할 값의 조건을 정의한 함수로 입력데이터셋의 개수만큼 매개변수 선언하고 bool 값을 반환."
   ]
  },
  {
   "cell_type": "code",
   "execution_count": 1,
   "metadata": {
    "ExecuteTime": {
     "end_time": "2022-07-13T03:31:49.834012Z",
     "start_time": "2022-07-13T03:31:49.819053Z"
    }
   },
   "outputs": [],
   "source": [
    "def a():\n",
    "    l = [1,2,3]\n",
    "    for i in l:\n",
    "        yield i"
   ]
  },
  {
   "cell_type": "code",
   "execution_count": 2,
   "metadata": {
    "ExecuteTime": {
     "end_time": "2022-07-13T03:32:06.777144Z",
     "start_time": "2022-07-13T03:32:06.768168Z"
    }
   },
   "outputs": [
    {
     "data": {
      "text/plain": [
       "1"
      ]
     },
     "execution_count": 2,
     "metadata": {},
     "output_type": "execute_result"
    }
   ],
   "source": [
    "g = a()\n",
    "next(g)"
   ]
  },
  {
   "cell_type": "code",
   "execution_count": 3,
   "metadata": {
    "ExecuteTime": {
     "end_time": "2022-07-13T03:32:21.285781Z",
     "start_time": "2022-07-13T03:32:21.233931Z"
    }
   },
   "outputs": [
    {
     "data": {
      "text/plain": [
       "2"
      ]
     },
     "execution_count": 3,
     "metadata": {},
     "output_type": "execute_result"
    }
   ],
   "source": [
    "next(g)"
   ]
  },
  {
   "cell_type": "markdown",
   "metadata": {
    "slideshow": {
     "slide_type": "fragment"
    }
   },
   "source": [
    "3. **데이터 제공 설정 관련**\n",
    "    - **batch(size)**: 학습/평가시 한번에 제공할 batch size 지정\n",
    "        - size: int. batch size 지정\n",
    "        - drop_remainder: bool. True일 경우 마지막 제공시 남은 데이터수가 batch size보다 작으면 제공하지 않는다.\n",
    "    - **shuffle(buffer 크기)**: dataset의 원소들의 순서를 섞는다. \n",
    "        - buffer 크기: int. buffer 크기는 섞는 공간의 크기로  **데이터보다 크거나 같으면** 완전셔플, **적으면 일부만 가져와서 섞어** 완전셔플이 안된다.\n",
    "        - 데이터 사이즈가 너무 커서 메모리가 부족할 경우 버퍼크기를 적게 준다.\n",
    "        - 메모리가 충분하다면 데이터의 개수와 동일하게 주면된다.\n",
    "    - **repeat(count)**: 전체 데이터를 한번 다 제공한 뒤 다시 데이터를 제공한다.\n",
    "        - count: 몇번 제공할지 반복 횟수\n",
    "        - shuffle이 적용된 Dataset의 경우 다음 반복 제공마다 shuffle을 진행한다. (에폭단위)\n",
    "        "
   ]
  },
  {
   "cell_type": "markdown",
   "metadata": {
    "slideshow": {
     "slide_type": "fragment"
    }
   },
   "source": [
    "- 각 tf.data 함수들은 각 기능에 맞게 데이터를 처리하는 Dataset 객체를 반환한다."
   ]
  },
  {
   "cell_type": "markdown",
   "metadata": {
    "slideshow": {
     "slide_type": "fragment"
    }
   },
   "source": [
    "### Dataset 메소드\n",
    "- take(개수): 지정한 개수만큼의 데이터만 제공한다."
   ]
  },
  {
   "cell_type": "code",
   "execution_count": 4,
   "metadata": {
    "ExecuteTime": {
     "end_time": "2022-07-13T02:29:42.876357Z",
     "start_time": "2022-07-13T02:29:37.412719Z"
    },
    "slideshow": {
     "slide_type": "slide"
    }
   },
   "outputs": [],
   "source": [
    "import tensorflow as tf\n",
    "import numpy as np"
   ]
  },
  {
   "cell_type": "code",
   "execution_count": 5,
   "metadata": {
    "ExecuteTime": {
     "end_time": "2022-07-13T03:48:46.588860Z",
     "start_time": "2022-07-13T03:48:46.573883Z"
    }
   },
   "outputs": [
    {
     "data": {
      "text/plain": [
       "'2.9.1'"
      ]
     },
     "execution_count": 5,
     "metadata": {},
     "output_type": "execute_result"
    }
   ],
   "source": [
    "tf.__version__"
   ]
  },
  {
   "cell_type": "markdown",
   "metadata": {
    "slideshow": {
     "slide_type": "fragment"
    }
   },
   "source": [
    "##### Tensor\n",
    "- TensorFlow의 기본 data type. \n",
    "- numpy가 ndarray를 이용해 데이터를 관리하듯이 tensorflow를 Tensor를 이용해 데이터를 관리한다.\n",
    "    - Tesorflow의 모델이 학습, 평가할때 사용하는 데이터셋(train dataset, validation dataset, test dataset)은 tf.Tensor 타입이어야 한다.\n",
    "        - 학습/평가(model.fit(), model.evaluate()) 할때 ndarray를 입력 데이터셋으로 넣어주면 내부적으로 tf.Tensor로 변형해서 처리.\n",
    "        - tf.Tensor는 데이터셋을 ndarray로 가지고 있다."
   ]
  },
  {
   "cell_type": "code",
   "execution_count": 6,
   "metadata": {
    "ExecuteTime": {
     "end_time": "2022-07-13T03:08:04.809486Z",
     "start_time": "2022-07-13T03:08:04.798514Z"
    },
    "slideshow": {
     "slide_type": "fragment"
    }
   },
   "outputs": [
    {
     "data": {
      "text/plain": [
       "<tf.Tensor: shape=(3,), dtype=float32, numpy=array([1., 2., 3.], dtype=float32)>"
      ]
     },
     "execution_count": 6,
     "metadata": {},
     "output_type": "execute_result"
    }
   ],
   "source": [
    "t = tf.constant([1,2,3], dtype=\"float32\")\n",
    "t"
   ]
  },
  {
   "cell_type": "code",
   "execution_count": 7,
   "metadata": {
    "ExecuteTime": {
     "end_time": "2022-07-13T03:08:45.268583Z",
     "start_time": "2022-07-13T03:08:45.250633Z"
    },
    "slideshow": {
     "slide_type": "fragment"
    }
   },
   "outputs": [
    {
     "data": {
      "text/plain": [
       "array([1., 2., 3.], dtype=float32)"
      ]
     },
     "execution_count": 7,
     "metadata": {},
     "output_type": "execute_result"
    }
   ],
   "source": [
    "# tensor=>numpy 변환\n",
    "a = t.numpy()  #Tensor객체.numpy()\n",
    "a"
   ]
  },
  {
   "cell_type": "code",
   "execution_count": 8,
   "metadata": {
    "ExecuteTime": {
     "end_time": "2022-07-13T03:09:01.163314Z",
     "start_time": "2022-07-13T03:09:01.143356Z"
    },
    "slideshow": {
     "slide_type": "fragment"
    }
   },
   "outputs": [
    {
     "data": {
      "text/plain": [
       "<tf.Tensor: shape=(3,), dtype=float32, numpy=array([1., 2., 3.], dtype=float32)>"
      ]
     },
     "execution_count": 8,
     "metadata": {},
     "output_type": "execute_result"
    }
   ],
   "source": [
    "# numpy/list => tensor 변환\n",
    "t2 = tf.constant(a)\n",
    "t2"
   ]
  },
  {
   "cell_type": "code",
   "execution_count": 9,
   "metadata": {
    "ExecuteTime": {
     "end_time": "2022-07-13T03:09:14.869982Z",
     "start_time": "2022-07-13T03:09:14.859012Z"
    },
    "slideshow": {
     "slide_type": "fragment"
    }
   },
   "outputs": [
    {
     "data": {
      "text/plain": [
       "<tf.Tensor: shape=(3,), dtype=float32, numpy=array([1., 2., 3.], dtype=float32)>"
      ]
     },
     "execution_count": 9,
     "metadata": {},
     "output_type": "execute_result"
    }
   ],
   "source": [
    "# numpy/list => tensor 변환\n",
    "t3 = tf.convert_to_tensor(a)\n",
    "t3"
   ]
  },
  {
   "cell_type": "markdown",
   "metadata": {
    "slideshow": {
     "slide_type": "slide"
    }
   },
   "source": [
    "## Dataset 예제"
   ]
  },
  {
   "cell_type": "code",
   "execution_count": 10,
   "metadata": {
    "ExecuteTime": {
     "end_time": "2022-07-13T02:31:14.859052Z",
     "start_time": "2022-07-13T02:31:14.843090Z"
    },
    "slideshow": {
     "slide_type": "fragment"
    }
   },
   "outputs": [
    {
     "data": {
      "text/plain": [
       "array([0, 1, 2, 3, 4, 5, 6, 7, 8, 9])"
      ]
     },
     "execution_count": 10,
     "metadata": {},
     "output_type": "execute_result"
    }
   ],
   "source": [
    "raw_data1 = np.arange(10)\n",
    "raw_data1  # ndarray -> 메모리"
   ]
  },
  {
   "cell_type": "code",
   "execution_count": 11,
   "metadata": {
    "ExecuteTime": {
     "end_time": "2022-07-13T02:34:17.544466Z",
     "start_time": "2022-07-13T02:34:17.509557Z"
    },
    "slideshow": {
     "slide_type": "fragment"
    }
   },
   "outputs": [
    {
     "name": "stdout",
     "output_type": "stream",
     "text": [
      "<class 'tensorflow.python.data.ops.dataset_ops.TensorSliceDataset'>\n"
     ]
    }
   ],
   "source": [
    "# 메모리에 있는 ndarray(Tensor)들을 읽어 들이는 Dataset을 생성. Dataset.from_tesnsor_slices(변수) 클래스 메소드를 사용.\n",
    "\n",
    "dataset = tf.data.Dataset.from_tensor_slices(raw_data1)\n",
    "print(type(dataset))\n",
    "# model.fit(dataset)\n",
    "# Dataset은 생성시 데이터를 읽어오거나 처리하지 않는다.\n",
    "#   그 데이터셋을 사용하는 시점(모델학습, 평가)에 읽어온다. ==> Lazy 실행."
   ]
  },
  {
   "cell_type": "code",
   "execution_count": 12,
   "metadata": {
    "ExecuteTime": {
     "end_time": "2022-07-13T02:40:46.912233Z",
     "start_time": "2022-07-13T02:40:46.881317Z"
    },
    "slideshow": {
     "slide_type": "fragment"
    }
   },
   "outputs": [
    {
     "name": "stdout",
     "output_type": "stream",
     "text": [
      "tf.Tensor(0, shape=(), dtype=int32)\n",
      "tf.Tensor(1, shape=(), dtype=int32)\n",
      "tf.Tensor(2, shape=(), dtype=int32)\n",
      "tf.Tensor(3, shape=(), dtype=int32)\n",
      "tf.Tensor(4, shape=(), dtype=int32)\n",
      "tf.Tensor(5, shape=(), dtype=int32)\n",
      "tf.Tensor(6, shape=(), dtype=int32)\n",
      "tf.Tensor(7, shape=(), dtype=int32)\n",
      "tf.Tensor(8, shape=(), dtype=int32)\n",
      "tf.Tensor(9, shape=(), dtype=int32)\n"
     ]
    }
   ],
   "source": [
    "# Dataset들은 iterable 타입 (for in 문에서 사용할 수 있다.)\n",
    "# for in 문 Dataset이 가지고 있는 원소들(데이터들)을 하나씩(batch size 단위) 제공한다.\n",
    "for data in dataset:\n",
    "    print(data)"
   ]
  },
  {
   "cell_type": "markdown",
   "metadata": {
    "slideshow": {
     "slide_type": "slide"
    }
   },
   "source": [
    "##### x, y 묶어서 제공\n",
    "- 두개 이상의 데이터셋을 묶어서 제공할 경우 Tuple로 묶어준다.\n",
    "    - Dataset이 feeding 할 때는 같은 index의 값들을 tuple로 묶어서 제공 (zip()과 동일)"
   ]
  },
  {
   "cell_type": "code",
   "execution_count": 13,
   "metadata": {
    "ExecuteTime": {
     "end_time": "2022-07-13T03:10:41.754017Z",
     "start_time": "2022-07-13T03:10:41.740090Z"
    },
    "slideshow": {
     "slide_type": "fragment"
    }
   },
   "outputs": [
    {
     "data": {
      "text/plain": [
       "array([10, 11, 12, 13, 14, 15, 16, 17, 18, 19])"
      ]
     },
     "execution_count": 13,
     "metadata": {},
     "output_type": "execute_result"
    }
   ],
   "source": [
    "raw_data2 = np.arange(10,20)\n",
    "raw_data2"
   ]
  },
  {
   "cell_type": "code",
   "execution_count": 14,
   "metadata": {
    "ExecuteTime": {
     "end_time": "2022-07-13T03:10:53.935923Z",
     "start_time": "2022-07-13T03:10:53.923953Z"
    },
    "slideshow": {
     "slide_type": "fragment"
    }
   },
   "outputs": [
    {
     "name": "stdout",
     "output_type": "stream",
     "text": [
      "[0 1 2 3 4 5 6 7 8 9]\n",
      "[10 11 12 13 14 15 16 17 18 19]\n"
     ]
    }
   ],
   "source": [
    "print(raw_data1) # 0 ~ 9\n",
    "print(raw_data2) # 10 ~ 19"
   ]
  },
  {
   "cell_type": "code",
   "execution_count": 15,
   "metadata": {
    "ExecuteTime": {
     "end_time": "2022-07-13T03:13:57.024902Z",
     "start_time": "2022-07-13T03:13:57.003958Z"
    },
    "slideshow": {
     "slide_type": "fragment"
    }
   },
   "outputs": [
    {
     "name": "stdout",
     "output_type": "stream",
     "text": [
      "tf.Tensor(0, shape=(), dtype=int32) ||| tf.Tensor(10, shape=(), dtype=int32)\n",
      "tf.Tensor(1, shape=(), dtype=int32) ||| tf.Tensor(11, shape=(), dtype=int32)\n",
      "tf.Tensor(2, shape=(), dtype=int32) ||| tf.Tensor(12, shape=(), dtype=int32)\n",
      "tf.Tensor(3, shape=(), dtype=int32) ||| tf.Tensor(13, shape=(), dtype=int32)\n",
      "tf.Tensor(4, shape=(), dtype=int32) ||| tf.Tensor(14, shape=(), dtype=int32)\n",
      "tf.Tensor(5, shape=(), dtype=int32) ||| tf.Tensor(15, shape=(), dtype=int32)\n",
      "tf.Tensor(6, shape=(), dtype=int32) ||| tf.Tensor(16, shape=(), dtype=int32)\n",
      "tf.Tensor(7, shape=(), dtype=int32) ||| tf.Tensor(17, shape=(), dtype=int32)\n",
      "tf.Tensor(8, shape=(), dtype=int32) ||| tf.Tensor(18, shape=(), dtype=int32)\n",
      "tf.Tensor(9, shape=(), dtype=int32) ||| tf.Tensor(19, shape=(), dtype=int32)\n"
     ]
    }
   ],
   "source": [
    "dataset2 = tf.data.Dataset.from_tensor_slices((raw_data1, raw_data2)) \n",
    "# for a in dataset2:\n",
    "#     print(a)  # tuple(raw_data1원소, raw_data2원소) 같은 index의 것들을 튜플로 묶어서 반환\n",
    "#     break\n",
    "for X, y in dataset2:  # tuple 대입\n",
    "    print(X, y, sep=\" ||| \")"
   ]
  },
  {
   "cell_type": "code",
   "execution_count": 16,
   "metadata": {
    "ExecuteTime": {
     "end_time": "2022-07-13T03:21:21.191819Z",
     "start_time": "2022-07-13T03:21:21.165861Z"
    },
    "slideshow": {
     "slide_type": "fragment"
    }
   },
   "outputs": [
    {
     "name": "stdout",
     "output_type": "stream",
     "text": [
      "<class 'tensorflow.python.data.ops.dataset_ops.TakeDataset'>\n",
      "tf.Tensor(0, shape=(), dtype=int32)\n",
      "tf.Tensor(1, shape=(), dtype=int32)\n"
     ]
    }
   ],
   "source": [
    "dataset = tf.data.Dataset.from_tensor_slices(raw_data1)\n",
    "dataset3 = dataset.take(2)  # 지정한 개수만큼만 조회. Dataset 값을 조회해볼때 사용.\n",
    "# Pipeline: TensorSliceDataset(dataset) -- TakeDataset(dataset3)\n",
    "#    dataset3이용해 값을 조회 => dataset이 데이터를 읽어오기 -> dataset3이 값을 3개까지 제공하는 기능을 제공.9  \n",
    "print(type(dataset3))\n",
    "for data in dataset3:\n",
    "    print(data)"
   ]
  },
  {
   "cell_type": "markdown",
   "metadata": {
    "slideshow": {
     "slide_type": "slide"
    }
   },
   "source": [
    "##### shuffle"
   ]
  },
  {
   "cell_type": "code",
   "execution_count": 17,
   "metadata": {
    "ExecuteTime": {
     "end_time": "2022-07-13T03:35:26.017915Z",
     "start_time": "2022-07-13T03:35:25.980980Z"
    },
    "slideshow": {
     "slide_type": "fragment"
    }
   },
   "outputs": [
    {
     "name": "stdout",
     "output_type": "stream",
     "text": [
      "<class 'tensorflow.python.data.ops.dataset_ops.ShuffleDataset'>\n",
      "tf.Tensor(5, shape=(), dtype=int32)\n",
      "tf.Tensor(7, shape=(), dtype=int32)\n",
      "tf.Tensor(4, shape=(), dtype=int32)\n",
      "tf.Tensor(9, shape=(), dtype=int32)\n",
      "tf.Tensor(6, shape=(), dtype=int32)\n",
      "tf.Tensor(1, shape=(), dtype=int32)\n",
      "tf.Tensor(0, shape=(), dtype=int32)\n",
      "tf.Tensor(8, shape=(), dtype=int32)\n",
      "tf.Tensor(2, shape=(), dtype=int32)\n",
      "tf.Tensor(3, shape=(), dtype=int32)\n"
     ]
    }
   ],
   "source": [
    "dataset4 = dataset.shuffle(10)  #buffer size: 10 (dataset의 원소개수와 동일 => 완전셔플)\n",
    "# raw_data1 -읽기---> TensorSliceDataset(dataset) -섞기-> ShuffleDataset(dataset4)\n",
    "print(type(dataset4))\n",
    "for data in dataset4:\n",
    "    print(data)"
   ]
  },
  {
   "cell_type": "markdown",
   "metadata": {
    "slideshow": {
     "slide_type": "slide"
    }
   },
   "source": [
    "##### batch\n",
    "- drop_remainder: boolean(기본-False)\n",
    "    - batch로 제공할 데이터의 개수가 설정한 batch_size 보다 적으면 제공하지 않는다.\n",
    "    - Train dataset을 만들때 True로 설정하여 항상 일정한 batch size로 학습할 수 있도록 한다. drop 되는 데이터는 다른 epoch을 반복할 때 사용된다."
   ]
  },
  {
   "cell_type": "code",
   "execution_count": 18,
   "metadata": {
    "ExecuteTime": {
     "end_time": "2022-07-13T03:38:56.466710Z",
     "start_time": "2022-07-13T03:38:56.437786Z"
    },
    "slideshow": {
     "slide_type": "fragment"
    }
   },
   "outputs": [
    {
     "name": "stdout",
     "output_type": "stream",
     "text": [
      "<class 'tensorflow.python.data.ops.dataset_ops.BatchDataset'>\n",
      "tf.Tensor([0 1 2], shape=(3,), dtype=int32)\n",
      "tf.Tensor([3 4 5], shape=(3,), dtype=int32)\n",
      "tf.Tensor([6 7 8], shape=(3,), dtype=int32)\n",
      "tf.Tensor([9], shape=(1,), dtype=int32)\n"
     ]
    }
   ],
   "source": [
    "dataset5 = dataset.batch(3)#, drop_remainder = True)\n",
    "# raw_data1 --읽기-->TensorSliceDataset(dataset) -배치처리->BatchDataset(dataset5)\n",
    "print(type(dataset5))\n",
    "for data in dataset5:\n",
    "    print(data)"
   ]
  },
  {
   "cell_type": "code",
   "execution_count": 43,
   "metadata": {
    "ExecuteTime": {
     "end_time": "2022-07-13T03:42:05.032740Z",
     "start_time": "2022-07-13T03:42:05.000807Z"
    },
    "slideshow": {
     "slide_type": "fragment"
    }
   },
   "outputs": [
    {
     "name": "stdout",
     "output_type": "stream",
     "text": [
      "tf.Tensor([8 0 9], shape=(3,), dtype=int32)\n",
      "tf.Tensor([4 6 5], shape=(3,), dtype=int32)\n",
      "tf.Tensor([1 3 7], shape=(3,), dtype=int32)\n",
      "tf.Tensor([2], shape=(1,), dtype=int32)\n"
     ]
    }
   ],
   "source": [
    "dataset6 = dataset.shuffle(10).batch(3) \n",
    "# raw_data1 --읽기-->TensorSliceDataset(dataset) -섞기->ShuffleDataset(shuffle(10))-배치처리->BatchDataset(batch(3): dataset6)\n",
    "for d in dataset6:\n",
    "    print(d)"
   ]
  },
  {
   "cell_type": "markdown",
   "metadata": {
    "slideshow": {
     "slide_type": "slide"
    }
   },
   "source": [
    "##### repeat"
   ]
  },
  {
   "cell_type": "code",
   "execution_count": 20,
   "metadata": {
    "ExecuteTime": {
     "end_time": "2022-07-13T03:44:11.667562Z",
     "start_time": "2022-07-13T03:43:25.488506Z"
    },
    "slideshow": {
     "slide_type": "fragment"
    }
   },
   "outputs": [
    {
     "name": "stdout",
     "output_type": "stream",
     "text": [
      "<class 'tensorflow.python.data.ops.dataset_ops.RepeatDataset'>\n",
      "tf.Tensor(0, shape=(), dtype=int32)\n",
      "tf.Tensor(1, shape=(), dtype=int32)\n",
      "tf.Tensor(2, shape=(), dtype=int32)\n",
      "tf.Tensor(3, shape=(), dtype=int32)\n",
      "tf.Tensor(4, shape=(), dtype=int32)\n",
      "tf.Tensor(5, shape=(), dtype=int32)\n",
      "tf.Tensor(6, shape=(), dtype=int32)\n",
      "tf.Tensor(7, shape=(), dtype=int32)\n",
      "tf.Tensor(8, shape=(), dtype=int32)\n",
      "tf.Tensor(9, shape=(), dtype=int32)\n",
      "tf.Tensor(0, shape=(), dtype=int32)\n",
      "tf.Tensor(1, shape=(), dtype=int32)\n",
      "tf.Tensor(2, shape=(), dtype=int32)\n",
      "tf.Tensor(3, shape=(), dtype=int32)\n",
      "tf.Tensor(4, shape=(), dtype=int32)\n",
      "tf.Tensor(5, shape=(), dtype=int32)\n",
      "tf.Tensor(6, shape=(), dtype=int32)\n",
      "tf.Tensor(7, shape=(), dtype=int32)\n",
      "tf.Tensor(8, shape=(), dtype=int32)\n",
      "tf.Tensor(9, shape=(), dtype=int32)\n"
     ]
    }
   ],
   "source": [
    "dataset7 = dataset.repeat(2)  #반복횟수를 생략하면 무한제공.\n",
    "# raw_data1 --읽기-->TensorSliceDataset(dataset) --데이터를반복제공-->RepeatDataset(dataset7)\n",
    "print(type(dataset7))\n",
    "for data in dataset7:\n",
    "    print(data)"
   ]
  },
  {
   "cell_type": "code",
   "execution_count": 19,
   "metadata": {
    "ExecuteTime": {
     "end_time": "2022-07-13T03:45:35.753680Z",
     "start_time": "2022-07-13T03:45:35.712789Z"
    },
    "slideshow": {
     "slide_type": "fragment"
    }
   },
   "outputs": [
    {
     "name": "stdout",
     "output_type": "stream",
     "text": [
      "tf.Tensor([2 6 1 0 5], shape=(5,), dtype=int32)\n",
      "tf.Tensor([8 4 3 7 9], shape=(5,), dtype=int32)\n",
      "tf.Tensor([9 8 6 1 5], shape=(5,), dtype=int32)\n",
      "tf.Tensor([2 7 0 4 3], shape=(5,), dtype=int32)\n",
      "tf.Tensor([3 4 7 0 8], shape=(5,), dtype=int32)\n",
      "tf.Tensor([1 5 9 2 6], shape=(5,), dtype=int32)\n"
     ]
    }
   ],
   "source": [
    "dataset8 = dataset.shuffle(10).batch(5).repeat(3)\n",
    "for data in dataset8:\n",
    "    print(data)"
   ]
  },
  {
   "cell_type": "markdown",
   "metadata": {
    "slideshow": {
     "slide_type": "slide"
    }
   },
   "source": [
    "##### map"
   ]
  },
  {
   "cell_type": "code",
   "execution_count": 50,
   "metadata": {
    "ExecuteTime": {
     "end_time": "2022-07-13T05:24:18.037098Z",
     "start_time": "2022-07-13T05:24:18.008169Z"
    },
    "collapsed": true
   },
   "outputs": [
    {
     "name": "stdout",
     "output_type": "stream",
     "text": [
      "tf.Tensor(0, shape=(), dtype=int32)\n",
      "tf.Tensor(1, shape=(), dtype=int32)\n",
      "tf.Tensor(2, shape=(), dtype=int32)\n",
      "tf.Tensor(3, shape=(), dtype=int32)\n",
      "tf.Tensor(4, shape=(), dtype=int32)\n",
      "tf.Tensor(5, shape=(), dtype=int32)\n",
      "tf.Tensor(6, shape=(), dtype=int32)\n",
      "tf.Tensor(7, shape=(), dtype=int32)\n",
      "tf.Tensor(8, shape=(), dtype=int32)\n",
      "tf.Tensor(9, shape=(), dtype=int32)\n"
     ]
    }
   ],
   "source": [
    "for i in dataset:\n",
    "    print(i)"
   ]
  },
  {
   "cell_type": "code",
   "execution_count": 53,
   "metadata": {
    "ExecuteTime": {
     "end_time": "2022-07-13T05:29:25.130230Z",
     "start_time": "2022-07-13T05:29:25.045397Z"
    },
    "scrolled": true,
    "slideshow": {
     "slide_type": "fragment"
    }
   },
   "outputs": [
    {
     "name": "stdout",
     "output_type": "stream",
     "text": [
      "<class 'tensorflow.python.data.ops.dataset_ops.MapDataset'>\n",
      "tf.Tensor(0, shape=(), dtype=int32)\n",
      "tf.Tensor(1, shape=(), dtype=int32)\n",
      "tf.Tensor(4, shape=(), dtype=int32)\n",
      "tf.Tensor(9, shape=(), dtype=int32)\n",
      "tf.Tensor(16, shape=(), dtype=int32)\n",
      "tf.Tensor(25, shape=(), dtype=int32)\n",
      "tf.Tensor(36, shape=(), dtype=int32)\n",
      "tf.Tensor(49, shape=(), dtype=int32)\n",
      "tf.Tensor(64, shape=(), dtype=int32)\n",
      "tf.Tensor(81, shape=(), dtype=int32)\n"
     ]
    }
   ],
   "source": [
    "def mapping_func(x):\n",
    "#     dataset의 원소를 하나 받아서 처리하는 함수.\n",
    "#     매개변수: 원소개수에 맞춰서 변수를 선언\n",
    "#     반환값: 받은 원소를 처리한 값\n",
    "    return x**2\n",
    "\n",
    "dataset9 = dataset.map(mapping_func)\n",
    "# raw_data1 -읽기->TensorSliceDataset(dataset) -mapping처리->MapDataset(dataset9)\n",
    "print(type(dataset9))\n",
    "for data in dataset9:\n",
    "    print(data)"
   ]
  },
  {
   "cell_type": "code",
   "execution_count": 54,
   "metadata": {
    "ExecuteTime": {
     "end_time": "2022-07-13T05:29:56.739326Z",
     "start_time": "2022-07-13T05:29:56.707399Z"
    },
    "collapsed": true
   },
   "outputs": [
    {
     "name": "stdout",
     "output_type": "stream",
     "text": [
      "(<tf.Tensor: shape=(), dtype=int32, numpy=0>, <tf.Tensor: shape=(), dtype=int32, numpy=10>)\n",
      "(<tf.Tensor: shape=(), dtype=int32, numpy=1>, <tf.Tensor: shape=(), dtype=int32, numpy=11>)\n",
      "(<tf.Tensor: shape=(), dtype=int32, numpy=2>, <tf.Tensor: shape=(), dtype=int32, numpy=12>)\n",
      "(<tf.Tensor: shape=(), dtype=int32, numpy=3>, <tf.Tensor: shape=(), dtype=int32, numpy=13>)\n",
      "(<tf.Tensor: shape=(), dtype=int32, numpy=4>, <tf.Tensor: shape=(), dtype=int32, numpy=14>)\n",
      "(<tf.Tensor: shape=(), dtype=int32, numpy=5>, <tf.Tensor: shape=(), dtype=int32, numpy=15>)\n",
      "(<tf.Tensor: shape=(), dtype=int32, numpy=6>, <tf.Tensor: shape=(), dtype=int32, numpy=16>)\n",
      "(<tf.Tensor: shape=(), dtype=int32, numpy=7>, <tf.Tensor: shape=(), dtype=int32, numpy=17>)\n",
      "(<tf.Tensor: shape=(), dtype=int32, numpy=8>, <tf.Tensor: shape=(), dtype=int32, numpy=18>)\n",
      "(<tf.Tensor: shape=(), dtype=int32, numpy=9>, <tf.Tensor: shape=(), dtype=int32, numpy=19>)\n"
     ]
    }
   ],
   "source": [
    "for i in dataset2: # (raw_data1, raw_data2)  #dataset2가 제공하는 원소: 튜플 (x, y)\n",
    "    print(i)\n",
    "    \n",
    "    "
   ]
  },
  {
   "cell_type": "code",
   "execution_count": 55,
   "metadata": {
    "ExecuteTime": {
     "end_time": "2022-07-13T05:32:35.278925Z",
     "start_time": "2022-07-13T05:32:35.176221Z"
    },
    "slideshow": {
     "slide_type": "fragment"
    }
   },
   "outputs": [],
   "source": [
    "def mapping_func2(x, y):  # dataset2의 원소: 튜플(raw_data1원소,  raw_data2원소) -> 매개변수: 튜플대입\n",
    "    # raw_data1의 세제곱한 값, y값을 처리하지 않은 값(그대로).\n",
    "    return x**3, y\n",
    "dataset2 = tf.data.Dataset.from_tensor_slices((raw_data1, raw_data2))\n",
    "dataset10 = dataset2.map(mapping_func2)"
   ]
  },
  {
   "cell_type": "code",
   "execution_count": 57,
   "metadata": {
    "ExecuteTime": {
     "end_time": "2022-07-13T05:33:19.149567Z",
     "start_time": "2022-07-13T05:33:19.121641Z"
    },
    "slideshow": {
     "slide_type": "fragment"
    }
   },
   "outputs": [
    {
     "name": "stdout",
     "output_type": "stream",
     "text": [
      "tf.Tensor(0, shape=(), dtype=int32) tf.Tensor(10, shape=(), dtype=int32)\n",
      "tf.Tensor(1, shape=(), dtype=int32) tf.Tensor(11, shape=(), dtype=int32)\n",
      "tf.Tensor(8, shape=(), dtype=int32) tf.Tensor(12, shape=(), dtype=int32)\n",
      "tf.Tensor(27, shape=(), dtype=int32) tf.Tensor(13, shape=(), dtype=int32)\n",
      "tf.Tensor(64, shape=(), dtype=int32) tf.Tensor(14, shape=(), dtype=int32)\n",
      "tf.Tensor(125, shape=(), dtype=int32) tf.Tensor(15, shape=(), dtype=int32)\n",
      "tf.Tensor(216, shape=(), dtype=int32) tf.Tensor(16, shape=(), dtype=int32)\n",
      "tf.Tensor(343, shape=(), dtype=int32) tf.Tensor(17, shape=(), dtype=int32)\n",
      "tf.Tensor(512, shape=(), dtype=int32) tf.Tensor(18, shape=(), dtype=int32)\n",
      "tf.Tensor(729, shape=(), dtype=int32) tf.Tensor(19, shape=(), dtype=int32)\n"
     ]
    }
   ],
   "source": [
    "for data1, data2 in dataset10:\n",
    "    print(data1, data2)"
   ]
  },
  {
   "cell_type": "code",
   "execution_count": 58,
   "metadata": {
    "ExecuteTime": {
     "end_time": "2022-07-13T05:34:25.456304Z",
     "start_time": "2022-07-13T05:34:25.369542Z"
    },
    "scrolled": true,
    "slideshow": {
     "slide_type": "fragment"
    }
   },
   "outputs": [
    {
     "name": "stdout",
     "output_type": "stream",
     "text": [
      "tf.Tensor(0, shape=(), dtype=int32)\n",
      "tf.Tensor(1, shape=(), dtype=int32)\n",
      "tf.Tensor(4, shape=(), dtype=int32)\n",
      "tf.Tensor(9, shape=(), dtype=int32)\n",
      "tf.Tensor(16, shape=(), dtype=int32)\n",
      "tf.Tensor(25, shape=(), dtype=int32)\n",
      "tf.Tensor(36, shape=(), dtype=int32)\n",
      "tf.Tensor(49, shape=(), dtype=int32)\n",
      "tf.Tensor(64, shape=(), dtype=int32)\n",
      "tf.Tensor(81, shape=(), dtype=int32)\n"
     ]
    }
   ],
   "source": [
    "# 함수 대신 lambda 식\n",
    "dataset11 = dataset.map(lambda x: x**2)\n",
    "for data in dataset11:\n",
    "    print(data)"
   ]
  },
  {
   "cell_type": "code",
   "execution_count": 60,
   "metadata": {
    "ExecuteTime": {
     "end_time": "2022-07-13T05:35:15.303144Z",
     "start_time": "2022-07-13T05:35:15.214378Z"
    },
    "scrolled": true,
    "slideshow": {
     "slide_type": "fragment"
    }
   },
   "outputs": [
    {
     "name": "stdout",
     "output_type": "stream",
     "text": [
      "(<tf.Tensor: shape=(), dtype=int32, numpy=0>, <tf.Tensor: shape=(), dtype=int32, numpy=100>)\n",
      "(<tf.Tensor: shape=(), dtype=int32, numpy=1>, <tf.Tensor: shape=(), dtype=int32, numpy=121>)\n",
      "(<tf.Tensor: shape=(), dtype=int32, numpy=8>, <tf.Tensor: shape=(), dtype=int32, numpy=144>)\n",
      "(<tf.Tensor: shape=(), dtype=int32, numpy=27>, <tf.Tensor: shape=(), dtype=int32, numpy=169>)\n",
      "(<tf.Tensor: shape=(), dtype=int32, numpy=64>, <tf.Tensor: shape=(), dtype=int32, numpy=196>)\n",
      "(<tf.Tensor: shape=(), dtype=int32, numpy=125>, <tf.Tensor: shape=(), dtype=int32, numpy=225>)\n",
      "(<tf.Tensor: shape=(), dtype=int32, numpy=216>, <tf.Tensor: shape=(), dtype=int32, numpy=256>)\n",
      "(<tf.Tensor: shape=(), dtype=int32, numpy=343>, <tf.Tensor: shape=(), dtype=int32, numpy=289>)\n",
      "(<tf.Tensor: shape=(), dtype=int32, numpy=512>, <tf.Tensor: shape=(), dtype=int32, numpy=324>)\n",
      "(<tf.Tensor: shape=(), dtype=int32, numpy=729>, <tf.Tensor: shape=(), dtype=int32, numpy=361>)\n"
     ]
    }
   ],
   "source": [
    "dataset12 = dataset2.map(lambda x, y: (x**3, y**2))\n",
    "for data in dataset12:\n",
    "    print(data)"
   ]
  },
  {
   "cell_type": "markdown",
   "metadata": {
    "slideshow": {
     "slide_type": "slide"
    }
   },
   "source": [
    "##### filter"
   ]
  },
  {
   "cell_type": "code",
   "execution_count": 63,
   "metadata": {
    "ExecuteTime": {
     "end_time": "2022-07-13T05:38:37.045027Z",
     "start_time": "2022-07-13T05:38:37.024563Z"
    }
   },
   "outputs": [
    {
     "data": {
      "text/plain": [
       "False"
      ]
     },
     "execution_count": 63,
     "metadata": {},
     "output_type": "execute_result"
    }
   ],
   "source": [
    "filter_func(9)"
   ]
  },
  {
   "cell_type": "code",
   "execution_count": 64,
   "metadata": {
    "ExecuteTime": {
     "end_time": "2022-07-13T05:40:16.651596Z",
     "start_time": "2022-07-13T05:40:16.630650Z"
    },
    "slideshow": {
     "slide_type": "fragment"
    }
   },
   "outputs": [
    {
     "name": "stdout",
     "output_type": "stream",
     "text": [
      "<class 'tensorflow.python.data.ops.dataset_ops.FilterDataset'>\n"
     ]
    }
   ],
   "source": [
    "def filter_func(x):\n",
    "#     filter 함수: 제공할 데이터의 조건 정의. 이 조건을 만족하는(True)인 원소들만 모델에 제공(feeding)\n",
    "#  매개변수: Dataset으로 부터 원소를 받을 변수\n",
    "#  반환: bool \n",
    "    return x%2 == 0 #2의 배수인지 여부\n",
    "\n",
    "dataset13 = dataset.filter(filter_func)\n",
    "# raw_data1 -읽기->TensorSliceDataset(dataset) -filter처리->FilterDataset(dataset13)\n",
    "\n",
    "print(type(dataset13))"
   ]
  },
  {
   "cell_type": "code",
   "execution_count": 65,
   "metadata": {
    "ExecuteTime": {
     "end_time": "2022-07-13T05:40:29.982489Z",
     "start_time": "2022-07-13T05:40:29.945591Z"
    }
   },
   "outputs": [
    {
     "name": "stdout",
     "output_type": "stream",
     "text": [
      "tf.Tensor(0, shape=(), dtype=int32)\n",
      "tf.Tensor(2, shape=(), dtype=int32)\n",
      "tf.Tensor(4, shape=(), dtype=int32)\n",
      "tf.Tensor(6, shape=(), dtype=int32)\n",
      "tf.Tensor(8, shape=(), dtype=int32)\n"
     ]
    }
   ],
   "source": [
    "for i in dataset13:\n",
    "    print(i)"
   ]
  },
  {
   "cell_type": "code",
   "execution_count": 66,
   "metadata": {
    "ExecuteTime": {
     "end_time": "2022-07-13T05:42:07.485510Z",
     "start_time": "2022-07-13T05:42:07.419633Z"
    },
    "slideshow": {
     "slide_type": "fragment"
    }
   },
   "outputs": [
    {
     "name": "stdout",
     "output_type": "stream",
     "text": [
      "tf.Tensor(6, shape=(), dtype=int32)\n",
      "tf.Tensor(7, shape=(), dtype=int32)\n",
      "tf.Tensor(8, shape=(), dtype=int32)\n",
      "tf.Tensor(9, shape=(), dtype=int32)\n"
     ]
    }
   ],
   "source": [
    "dataset14 = dataset.filter(lambda x : x > 5)  #조건: 5초과하는 값\n",
    "for data in dataset14:\n",
    "    print(data)"
   ]
  },
  {
   "cell_type": "markdown",
   "metadata": {
    "slideshow": {
     "slide_type": "slide"
    }
   },
   "source": [
    "##### 종합"
   ]
  },
  {
   "cell_type": "code",
   "execution_count": 89,
   "metadata": {
    "ExecuteTime": {
     "end_time": "2022-07-13T05:48:58.908155Z",
     "start_time": "2022-07-13T05:48:58.897185Z"
    },
    "slideshow": {
     "slide_type": "fragment"
    }
   },
   "outputs": [
    {
     "ename": "IndentationError",
     "evalue": "unexpected indent (880735383.py, line 8)",
     "output_type": "error",
     "traceback": [
      "\u001b[1;36m  Input \u001b[1;32mIn [89]\u001b[1;36m\u001b[0m\n\u001b[1;33m    .filter(lambda x:x>=0)\u001b[0m\n\u001b[1;37m    ^\u001b[0m\n\u001b[1;31mIndentationError\u001b[0m\u001b[1;31m:\u001b[0m unexpected indent\n"
     ]
    }
   ],
   "source": [
    "raw_data = np.arange(-10,11)\n",
    "# raw_data(-10~10:ndarray) -읽기->       TensorSliceDataset \n",
    "#                          -filter처리-> FilterDataset\n",
    "#                          -map처리 ---> MapDataset\n",
    "#                          -섞기-------> ShuffleDataset\n",
    "#                          -배치처리---> BatchDataset  (dataset_final)\n",
    "dataset_final = tf.data.Dataset.from_tensor_slices(raw_data)\\\n",
    "                               .filter(lambda x:x>=0)\\\n",
    "                               .map(lambda y:y+10)\\\n",
    "                               .shuffle(raw_data.size)\\\n",
    "                               .batch(3)"
   ]
  },
  {
   "cell_type": "code",
   "execution_count": 88,
   "metadata": {
    "ExecuteTime": {
     "end_time": "2022-07-13T05:48:11.764325Z",
     "start_time": "2022-07-13T05:48:11.730417Z"
    },
    "slideshow": {
     "slide_type": "fragment"
    }
   },
   "outputs": [
    {
     "name": "stdout",
     "output_type": "stream",
     "text": [
      "tf.Tensor([10 13 20], shape=(3,), dtype=int32)\n",
      "tf.Tensor([12 14 11], shape=(3,), dtype=int32)\n",
      "tf.Tensor([18 15 16], shape=(3,), dtype=int32)\n",
      "tf.Tensor([17 19], shape=(2,), dtype=int32)\n"
     ]
    }
   ],
   "source": [
    "for data in dataset_final:\n",
    "    print(data)"
   ]
  },
  {
   "cell_type": "markdown",
   "metadata": {
    "slideshow": {
     "slide_type": "slide"
    }
   },
   "source": [
    "# 문제 유형별 MLP 네트워크\n",
    "- Multi Layer Perceptron (Deep Neural Network - DNN)\n",
    "    - Fully Connected Layer(Dense Layer)로 구성된 네트워크\n",
    "        - 모든 입력 Feature에 가중합을 계산해서 처리하는 Node(Unit, Neuron)들로 구성된 Layer"
   ]
  },
  {
   "cell_type": "markdown",
   "metadata": {
    "slideshow": {
     "slide_type": "fragment"
    }
   },
   "source": [
    "# Regression(회귀)\n",
    "\n",
    "## Boston Housing Dataset\n",
    "보스턴 주택가격 dataset은 다음과 같은 속성을 바탕으로 해당 타운 주택 가격의 중앙값을 예측하는 문제.\n",
    "- CRIM: 범죄율\n",
    "- ZN: 25,000 평방피트당 주거지역 비율\n",
    "- INDUS: 비소매 상업지구 비율\n",
    "- CHAS: 찰스강에 인접해 있는지 여부(인접:1, 아니면:0)\n",
    "- NOX: 일산화질소 농도(단위: 0.1ppm)\n",
    "- RM: 주택당 방의 수\n",
    "- AGE: 1940년 이전에 건설된 주택의 비율\n",
    "- DIS: 5개의 보스턴 직업고용센터와의 거리(가중 평균)\n",
    "- RAD: 고속도로 접근성\n",
    "- TAX: 재산세율\n",
    "- PTRATIO: 학생/교사 비율\n",
    "- B: 흑인 비율\n",
    "- LSTAT: 하위 계층 비율\n",
    "<br><br>\n",
    "- **Target**\n",
    "    - MEDV: 타운의 주택가격 중앙값(단위: 1,000달러)"
   ]
  },
  {
   "cell_type": "code",
   "execution_count": 90,
   "metadata": {
    "ExecuteTime": {
     "end_time": "2022-07-13T06:20:07.058669Z",
     "start_time": "2022-07-13T06:20:07.045703Z"
    },
    "slideshow": {
     "slide_type": "slide"
    }
   },
   "outputs": [],
   "source": [
    "import numpy as np\n",
    "\n",
    "import tensorflow as tf\n",
    "from tensorflow import keras\n",
    "\n",
    "# Layer 클래스들을 제공하는 모듈\n",
    "from tensorflow.keras import layers"
   ]
  },
  {
   "cell_type": "code",
   "execution_count": null,
   "metadata": {
    "ExecuteTime": {
     "end_time": "2021-11-03T00:18:32.570713Z",
     "start_time": "2021-11-03T00:18:32.551682Z"
    },
    "slideshow": {
     "slide_type": "fragment"
    }
   },
   "outputs": [],
   "source": [
    "# random seed 설정.\n",
    "np.random.seed(0)  #넘파이(dataset) random seed\n",
    "tf.random.set_seed(0) # Tensorflow(모델) random seed"
   ]
  },
  {
   "cell_type": "markdown",
   "metadata": {
    "slideshow": {
     "slide_type": "slide"
    }
   },
   "source": [
    "##### 데이터 로딩"
   ]
  },
  {
   "cell_type": "code",
   "execution_count": 91,
   "metadata": {
    "ExecuteTime": {
     "end_time": "2022-07-13T06:24:10.546166Z",
     "start_time": "2022-07-13T06:24:10.380848Z"
    },
    "slideshow": {
     "slide_type": "fragment"
    }
   },
   "outputs": [
    {
     "name": "stdout",
     "output_type": "stream",
     "text": [
      "Downloading data from https://storage.googleapis.com/tensorflow/tf-keras-datasets/boston_housing.npz\n",
      "57026/57026 [==============================] - 0s 0us/step\n",
      "(404, 13) (102, 13)\n",
      "(404,) (102,)\n"
     ]
    }
   ],
   "source": [
    "# keras 제공 Boston dataset loading\n",
    "(train_X, train_y), (test_X, test_y) = keras.datasets.boston_housing.load_data()\n",
    "print(train_X.shape, test_X.shape)\n",
    "print(train_y.shape, test_y.shape)"
   ]
  },
  {
   "cell_type": "code",
   "execution_count": 92,
   "metadata": {
    "ExecuteTime": {
     "end_time": "2022-07-13T06:24:58.734255Z",
     "start_time": "2022-07-13T06:24:58.712279Z"
    },
    "collapsed": true,
    "slideshow": {
     "slide_type": "fragment"
    }
   },
   "outputs": [
    {
     "data": {
      "text/plain": [
       "array([[1.23247e+00, 0.00000e+00, 8.14000e+00, 0.00000e+00, 5.38000e-01,\n",
       "        6.14200e+00, 9.17000e+01, 3.97690e+00, 4.00000e+00, 3.07000e+02,\n",
       "        2.10000e+01, 3.96900e+02, 1.87200e+01],\n",
       "       [2.17700e-02, 8.25000e+01, 2.03000e+00, 0.00000e+00, 4.15000e-01,\n",
       "        7.61000e+00, 1.57000e+01, 6.27000e+00, 2.00000e+00, 3.48000e+02,\n",
       "        1.47000e+01, 3.95380e+02, 3.11000e+00],\n",
       "       [4.89822e+00, 0.00000e+00, 1.81000e+01, 0.00000e+00, 6.31000e-01,\n",
       "        4.97000e+00, 1.00000e+02, 1.33250e+00, 2.40000e+01, 6.66000e+02,\n",
       "        2.02000e+01, 3.75520e+02, 3.26000e+00],\n",
       "       [3.96100e-02, 0.00000e+00, 5.19000e+00, 0.00000e+00, 5.15000e-01,\n",
       "        6.03700e+00, 3.45000e+01, 5.98530e+00, 5.00000e+00, 2.24000e+02,\n",
       "        2.02000e+01, 3.96900e+02, 8.01000e+00],\n",
       "       [3.69311e+00, 0.00000e+00, 1.81000e+01, 0.00000e+00, 7.13000e-01,\n",
       "        6.37600e+00, 8.84000e+01, 2.56710e+00, 2.40000e+01, 6.66000e+02,\n",
       "        2.02000e+01, 3.91430e+02, 1.46500e+01]])"
      ]
     },
     "execution_count": 92,
     "metadata": {},
     "output_type": "execute_result"
    }
   ],
   "source": [
    "train_X[:5]"
   ]
  },
  {
   "cell_type": "code",
   "execution_count": 93,
   "metadata": {
    "ExecuteTime": {
     "end_time": "2022-07-13T06:25:13.956544Z",
     "start_time": "2022-07-13T06:25:13.936559Z"
    },
    "slideshow": {
     "slide_type": "fragment"
    }
   },
   "outputs": [
    {
     "data": {
      "text/plain": [
       "array([15.2, 42.3, 50. , 21.1, 17.7])"
      ]
     },
     "execution_count": 93,
     "metadata": {},
     "output_type": "execute_result"
    }
   ],
   "source": [
    "train_y[:5]"
   ]
  },
  {
   "cell_type": "markdown",
   "metadata": {
    "slideshow": {
     "slide_type": "slide"
    }
   },
   "source": [
    "##### 하이퍼파라미터, 변수 정의"
   ]
  },
  {
   "cell_type": "code",
   "execution_count": 94,
   "metadata": {
    "ExecuteTime": {
     "end_time": "2022-07-13T06:31:29.133331Z",
     "start_time": "2022-07-13T06:31:29.125363Z"
    },
    "slideshow": {
     "slide_type": "fragment"
    }
   },
   "outputs": [],
   "source": [
    "# 하이퍼파라미터 - 튜닝대상 (변경될 가능이 높은 변수) => 한군데 몰아서 선언하는 것이 좋다.\n",
    "LEARNING_RATE = 0.001  # 학습률\n",
    "N_EPOCHS  = 200        # epoch수: traindataset을 몇번 학습할지 횟수.\n",
    "N_BATCHS = 32          # batch size: 1 step당 몇개의 데이터를 학습할지 (2의 거듭제곱한 값)\n",
    "\n",
    "# 사용할 변수를 미리선언\n",
    "N_TRAIN = train_X.shape[0]  # train data의 개수\n",
    "N_TEST = test_X.shape[0]    # test data의 개수"
   ]
  },
  {
   "cell_type": "markdown",
   "metadata": {
    "slideshow": {
     "slide_type": "fragment"
    }
   },
   "source": [
    "##### X, y 전처리\n",
    "- MLP는 선형모델을 기반으로 하므로 Feature scaling을 해준다."
   ]
  },
  {
   "cell_type": "code",
   "execution_count": 95,
   "metadata": {
    "ExecuteTime": {
     "end_time": "2022-07-13T06:32:31.916710Z",
     "start_time": "2022-07-13T06:32:30.922989Z"
    },
    "slideshow": {
     "slide_type": "fragment"
    }
   },
   "outputs": [],
   "source": [
    "from sklearn.preprocessing import StandardScaler\n",
    "\n",
    "scaler = StandardScaler()\n",
    "X_train = scaler.fit_transform(train_X)\n",
    "X_test = scaler.transform(test_X)"
   ]
  },
  {
   "cell_type": "markdown",
   "metadata": {
    "slideshow": {
     "slide_type": "slide"
    }
   },
   "source": [
    "##### Dataset 생성"
   ]
  },
  {
   "cell_type": "code",
   "execution_count": null,
   "metadata": {},
   "outputs": [],
   "source": [
    "model.fit(train-dataset)"
   ]
  },
  {
   "cell_type": "code",
   "execution_count": 98,
   "metadata": {
    "ExecuteTime": {
     "end_time": "2022-07-13T06:45:31.155121Z",
     "start_time": "2022-07-13T06:45:31.137169Z"
    },
    "slideshow": {
     "slide_type": "fragment"
    }
   },
   "outputs": [],
   "source": [
    "# train set을 위한 dataset을 생성\n",
    "\n",
    "train_dataset = tf.data.Dataset.from_tensor_slices((X_train, train_y))\\\n",
    "                                .shuffle(N_TRAIN)\\\n",
    "                                .batch(N_BATCHS, drop_remainder=True)  \n",
    "            #(X_train, y_train)을 묶어서 제공.\n",
    "            # shuffle -> epoch단위로 shuffle을 실행.\n",
    "            # batch size설정. Train set 에서는 보통 drop_remainder=True로 설정. 각 step마다 동일 개수의 데이터셋을 학습하도록 하기 위해.\n",
    "\n",
    "# validation dataset -> 학습하는 도중에 검증데이터로 사용할 dataset (생략)\n",
    "    \n",
    "# 최종 평가시 사용할 데이터셋\n",
    "test_dataset = tf.data.Dataset.from_tensor_slices((X_test, test_y)).batch(N_BATCHS) \n",
    "# test set의 batch_size : 전체 데이터를 묶어서 검증하는 것이 아니라 batch_size 개수별로 검증해서 그 평균을 최종 평가 결과로 반환."
   ]
  },
  {
   "cell_type": "markdown",
   "metadata": {
    "slideshow": {
     "slide_type": "slide"
    }
   },
   "source": [
    "##### 모델 구현\n",
    "1. 모델을 생성 - Sequential 방식\n",
    "2. 모델에 Layer를 순서대로 추가\n",
    "    - Input Layer\n",
    "    - Hidden Layer 들 (layer의 unit수, layer의 개수 => 튜닝대상 (개수가 많을 수록 복잡한 모델-overfitting발생할 수 있다.) \n",
    "    - Output Layer\n",
    "    \n",
    "3. 학습을 위해서 compile"
   ]
  },
  {
   "cell_type": "code",
   "execution_count": 99,
   "metadata": {
    "ExecuteTime": {
     "end_time": "2022-07-13T07:08:06.605772Z",
     "start_time": "2022-07-13T07:08:06.586765Z"
    }
   },
   "outputs": [
    {
     "data": {
      "text/plain": [
       "(404, 13)"
      ]
     },
     "execution_count": 99,
     "metadata": {},
     "output_type": "execute_result"
    }
   ],
   "source": [
    "X_train.shape"
   ]
  },
  {
   "cell_type": "code",
   "execution_count": 101,
   "metadata": {
    "ExecuteTime": {
     "end_time": "2022-07-13T07:23:42.305145Z",
     "start_time": "2022-07-13T07:23:42.289192Z"
    },
    "slideshow": {
     "slide_type": "fragment"
    }
   },
   "outputs": [],
   "source": [
    "def create_housing_model():\n",
    "    \n",
    "    model = keras.Sequential()\n",
    "#     1. Input Layer\n",
    "#     model.add(layers.InputLayer((13, )))  #Input Layer 추가 1. -> InputLayer생성=>Feature shape을 지정\n",
    "# Input Layer 추가 2 -> 첫번째 hidden layer추가하면서 input_shape 속성에 Feature에 shape을 지정\n",
    "    \n",
    "#     2. Hidden layer 추가.\n",
    "#  DenseLayer: units - unit의 개수, activation: 활성함수\n",
    "#  DenseLayer의 unit수는 점점 개수를 줄여나간다.(관례적으로), \n",
    "    model.add(layers.Dense(units=128, activation='relu', input_shape=(13,))) \n",
    "    model.add(layers.Dense(units=64, activation='relu'))\n",
    "    model.add(layers.Dense(units=32, activation='relu'))\n",
    "    model.add(layers.Dense(units=16, activation='relu'))\n",
    "    \n",
    "#     3. Output Layer 추가\n",
    "#    회귀문제에대한 output layer  - units: 추론한 결과값(정답)에 개수에 맞춘다. - 집값1개 (unit=1), activation=None(기본): 지정하지 않는다.\n",
    "    model.add(layers.Dense(units=1))\n",
    "    \n",
    "    return model"
   ]
  },
  {
   "cell_type": "code",
   "execution_count": 102,
   "metadata": {
    "ExecuteTime": {
     "end_time": "2022-07-13T07:23:42.858140Z",
     "start_time": "2022-07-13T07:23:42.836199Z"
    }
   },
   "outputs": [],
   "source": [
    "def create_housing_model2():\n",
    "#     모델에 추가할 layer들을 리스트로 묶어서 Sequential 생성할때 넣어준다.\n",
    "    model = keras.Sequential([\n",
    "        layers.Dense(units=128, activation='relu', input_shape=(13,)),\n",
    "        layers.Dense(units=64, activation='relu'),\n",
    "        layers.Dense(units=32, activation='relu'),\n",
    "        layers.Dense(units=16, activation='relu'),\n",
    "        layers.Dense(units=1)        \n",
    "    ])\n",
    "    return model"
   ]
  },
  {
   "cell_type": "code",
   "execution_count": 130,
   "metadata": {
    "ExecuteTime": {
     "end_time": "2022-07-13T08:21:43.185963Z",
     "start_time": "2022-07-13T08:21:43.086195Z"
    },
    "slideshow": {
     "slide_type": "fragment"
    }
   },
   "outputs": [],
   "source": [
    "# 모델생성\n",
    "model = create_housing_model()\n",
    "\n",
    "# 모델 컴파일 - 모델을 학습할 수 있게 만들어 준다. => 모델에 optimizer와 loss함수를 추가.\n",
    "# 회귀문제를 위한 모델 컴파일 -> loss: mse(mean squared error)\n",
    "# optimizer=옵티마이저 객체-learning rate등 설정을 할경우., 문자열-기본설정을 사용할 경우. (\"adam\")\n",
    "model.compile(optimizer=keras.optimizers.Adam(learning_rate=LEARNING_RATE), loss='mse')"
   ]
  },
  {
   "cell_type": "code",
   "execution_count": 107,
   "metadata": {
    "ExecuteTime": {
     "end_time": "2022-07-13T07:36:16.411627Z",
     "start_time": "2022-07-13T07:36:16.392680Z"
    }
   },
   "outputs": [
    {
     "data": {
      "text/plain": [
       "1792"
      ]
     },
     "execution_count": 107,
     "metadata": {},
     "output_type": "execute_result"
    }
   ],
   "source": [
    "# weight = 입력 features수 * unit 수\n",
    "# bias = unit수\n",
    "# layer의 파라미터수: weight + bias\n",
    "\n",
    "w = 13 * 128\n",
    "b = 128\n",
    "p = w + b\n",
    "p"
   ]
  },
  {
   "cell_type": "code",
   "execution_count": 108,
   "metadata": {
    "ExecuteTime": {
     "end_time": "2022-07-13T07:37:12.454227Z",
     "start_time": "2022-07-13T07:37:12.432288Z"
    }
   },
   "outputs": [
    {
     "data": {
      "text/plain": [
       "8256"
      ]
     },
     "execution_count": 108,
     "metadata": {},
     "output_type": "execute_result"
    }
   ],
   "source": [
    "128*64 + 64"
   ]
  },
  {
   "cell_type": "code",
   "execution_count": 104,
   "metadata": {
    "ExecuteTime": {
     "end_time": "2022-07-13T07:29:27.877959Z",
     "start_time": "2022-07-13T07:29:27.850035Z"
    },
    "collapsed": true,
    "slideshow": {
     "slide_type": "fragment"
    }
   },
   "outputs": [
    {
     "name": "stdout",
     "output_type": "stream",
     "text": [
      "Model: \"sequential\"\n",
      "_________________________________________________________________\n",
      " Layer (type)                Output Shape              Param #   \n",
      "=================================================================\n",
      " dense (Dense)               (None, 128)               1792      \n",
      "                                                                 \n",
      " dense_1 (Dense)             (None, 64)                8256      \n",
      "                                                                 \n",
      " dense_2 (Dense)             (None, 32)                2080      \n",
      "                                                                 \n",
      " dense_3 (Dense)             (None, 16)                528       \n",
      "                                                                 \n",
      " dense_4 (Dense)             (None, 1)                 17        \n",
      "                                                                 \n",
      "=================================================================\n",
      "Total params: 12,673\n",
      "Trainable params: 12,673\n",
      "Non-trainable params: 0\n",
      "_________________________________________________________________\n"
     ]
    }
   ],
   "source": [
    "# 생성된 모델의 구조를 확인.\n",
    "model.summary()"
   ]
  },
  {
   "cell_type": "code",
   "execution_count": 111,
   "metadata": {
    "ExecuteTime": {
     "end_time": "2022-07-13T07:43:44.377800Z",
     "start_time": "2022-07-13T07:43:43.904788Z"
    },
    "collapsed": true,
    "slideshow": {
     "slide_type": "fragment"
    }
   },
   "outputs": [
    {
     "data": {
      "image/png": "[encoded data removed]",
      "text/plain": [
       "<IPython.core.display.Image object>"
      ]
     },
     "execution_count": 111,
     "metadata": {},
     "output_type": "execute_result"
    }
   ],
   "source": [
    "# keras.utils.plot_model(model)  # 모델의 구조를 graphviz를 이용해서 시각화. -> 파일로 저장 (model.png)\n",
    "# keras.utils.plot_model(model, show_shapes=True) # 각 layer의 input shape과 output shape을 같이 시각화\n",
    "keras.utils.plot_model(model, show_shapes=True, to_file='housing_model.png')  #to_file: 저장 파일경로 지정."
   ]
  },
  {
   "cell_type": "markdown",
   "metadata": {
    "slideshow": {
     "slide_type": "slide"
    }
   },
   "source": [
    "##### 학습(Train)"
   ]
  },
  {
   "cell_type": "code",
   "execution_count": 132,
   "metadata": {
    "ExecuteTime": {
     "end_time": "2022-07-13T08:22:43.305900Z",
     "start_time": "2022-07-13T08:22:18.629935Z"
    },
    "scrolled": true,
    "slideshow": {
     "slide_type": "fragment"
    }
   },
   "outputs": [
    {
     "name": "stdout",
     "output_type": "stream",
     "text": [
      "Epoch 1/200\n",
      "12/12 [==============================] - 0s 7ms/step - loss: 1.4397 - val_loss: 12.0301\n",
      "Epoch 2/200\n",
      "12/12 [==============================] - 0s 5ms/step - loss: 1.4585 - val_loss: 11.7503\n",
      "Epoch 3/200\n",
      "12/12 [==============================] - 0s 8ms/step - loss: 1.4240 - val_loss: 11.5121\n",
      "Epoch 4/200\n",
      "12/12 [==============================] - 0s 7ms/step - loss: 1.2589 - val_loss: 12.0681\n",
      "Epoch 5/200\n",
      "12/12 [==============================] - 0s 7ms/step - loss: 1.3494 - val_loss: 11.6067\n",
      "Epoch 6/200\n",
      "12/12 [==============================] - 0s 9ms/step - loss: 1.3422 - val_loss: 11.3388\n",
      "Epoch 7/200\n",
      "12/12 [==============================] - 0s 7ms/step - loss: 1.3011 - val_loss: 11.8777\n",
      "Epoch 8/200\n",
      "12/12 [==============================] - 0s 9ms/step - loss: 1.3690 - val_loss: 12.2248\n",
      "Epoch 9/200\n",
      "12/12 [==============================] - 0s 8ms/step - loss: 1.5797 - val_loss: 11.6914\n",
      "Epoch 10/200\n",
      "12/12 [==============================] - 0s 9ms/step - loss: 1.7653 - val_loss: 11.8603\n",
      "Epoch 11/200\n",
      "12/12 [==============================] - 0s 10ms/step - loss: 1.8557 - val_loss: 11.6933\n",
      "Epoch 12/200\n",
      "12/12 [==============================] - 0s 10ms/step - loss: 1.3365 - val_loss: 12.0173\n",
      "Epoch 13/200\n",
      "12/12 [==============================] - 0s 10ms/step - loss: 1.4646 - val_loss: 11.3729\n",
      "Epoch 14/200\n",
      "12/12 [==============================] - 0s 10ms/step - loss: 1.6213 - val_loss: 11.4225\n",
      "Epoch 15/200\n",
      "12/12 [==============================] - 0s 9ms/step - loss: 1.7220 - val_loss: 11.7252\n",
      "Epoch 16/200\n",
      "12/12 [==============================] - 0s 7ms/step - loss: 1.5455 - val_loss: 11.6490\n",
      "Epoch 17/200\n",
      "12/12 [==============================] - 0s 9ms/step - loss: 1.3499 - val_loss: 11.7515\n",
      "Epoch 18/200\n",
      "12/12 [==============================] - 0s 9ms/step - loss: 1.3160 - val_loss: 12.6053\n",
      "Epoch 19/200\n",
      "12/12 [==============================] - 0s 8ms/step - loss: 1.2430 - val_loss: 11.3668\n",
      "Epoch 20/200\n",
      "12/12 [==============================] - 0s 11ms/step - loss: 1.2168 - val_loss: 11.4975\n",
      "Epoch 21/200\n",
      "12/12 [==============================] - 0s 9ms/step - loss: 1.4426 - val_loss: 11.7035\n",
      "Epoch 22/200\n",
      "12/12 [==============================] - 0s 10ms/step - loss: 1.1990 - val_loss: 11.7017\n",
      "Epoch 23/200\n",
      "12/12 [==============================] - 0s 14ms/step - loss: 1.1584 - val_loss: 12.1302\n",
      "Epoch 24/200\n",
      "12/12 [==============================] - 0s 12ms/step - loss: 1.3273 - val_loss: 11.5053\n",
      "Epoch 25/200\n",
      "12/12 [==============================] - 0s 7ms/step - loss: 1.3212 - val_loss: 12.1659\n",
      "Epoch 26/200\n",
      "12/12 [==============================] - 0s 11ms/step - loss: 1.3310 - val_loss: 11.4876\n",
      "Epoch 27/200\n",
      "12/12 [==============================] - 0s 10ms/step - loss: 1.2407 - val_loss: 12.0053\n",
      "Epoch 28/200\n",
      "12/12 [==============================] - 0s 12ms/step - loss: 1.4771 - val_loss: 11.7523\n",
      "Epoch 29/200\n",
      "12/12 [==============================] - 0s 13ms/step - loss: 1.1495 - val_loss: 11.8500\n",
      "Epoch 30/200\n",
      "12/12 [==============================] - 0s 29ms/step - loss: 1.0126 - val_loss: 11.6473\n",
      "Epoch 31/200\n",
      "12/12 [==============================] - 0s 23ms/step - loss: 1.1012 - val_loss: 12.3632\n",
      "Epoch 32/200\n",
      "12/12 [==============================] - 0s 26ms/step - loss: 1.0968 - val_loss: 12.6417\n",
      "Epoch 33/200\n",
      "12/12 [==============================] - 0s 16ms/step - loss: 1.3177 - val_loss: 11.7977\n",
      "Epoch 34/200\n",
      "12/12 [==============================] - 0s 12ms/step - loss: 1.1331 - val_loss: 11.8032\n",
      "Epoch 35/200\n",
      "12/12 [==============================] - 0s 11ms/step - loss: 1.1889 - val_loss: 12.0632\n",
      "Epoch 36/200\n",
      "12/12 [==============================] - 0s 14ms/step - loss: 1.0721 - val_loss: 12.5468\n",
      "Epoch 37/200\n",
      "12/12 [==============================] - 0s 9ms/step - loss: 1.1605 - val_loss: 11.9350\n",
      "Epoch 38/200\n",
      "12/12 [==============================] - 0s 19ms/step - loss: 1.0477 - val_loss: 11.6349\n",
      "Epoch 39/200\n",
      "12/12 [==============================] - 0s 23ms/step - loss: 1.1630 - val_loss: 11.8686\n",
      "Epoch 40/200\n",
      "12/12 [==============================] - 0s 16ms/step - loss: 1.1912 - val_loss: 11.5173\n",
      "Epoch 41/200\n",
      "12/12 [==============================] - 0s 14ms/step - loss: 1.0897 - val_loss: 11.9701\n",
      "Epoch 42/200\n",
      "12/12 [==============================] - 0s 16ms/step - loss: 1.1713 - val_loss: 11.3944\n",
      "Epoch 43/200\n",
      "12/12 [==============================] - 0s 21ms/step - loss: 1.0581 - val_loss: 11.7472\n",
      "Epoch 44/200\n",
      "12/12 [==============================] - 0s 12ms/step - loss: 1.1625 - val_loss: 12.3706\n",
      "Epoch 45/200\n",
      "12/12 [==============================] - 0s 12ms/step - loss: 1.0658 - val_loss: 11.8890\n",
      "Epoch 46/200\n",
      "12/12 [==============================] - 0s 11ms/step - loss: 0.9945 - val_loss: 12.3075\n",
      "Epoch 47/200\n",
      "12/12 [==============================] - 0s 16ms/step - loss: 1.0560 - val_loss: 12.2271\n",
      "Epoch 48/200\n",
      "12/12 [==============================] - 0s 26ms/step - loss: 1.1555 - val_loss: 11.6536\n",
      "Epoch 49/200\n",
      "12/12 [==============================] - 0s 12ms/step - loss: 1.0830 - val_loss: 12.1715\n",
      "Epoch 50/200\n",
      "12/12 [==============================] - 0s 15ms/step - loss: 1.0439 - val_loss: 11.8681\n",
      "Epoch 51/200\n",
      "12/12 [==============================] - 0s 10ms/step - loss: 1.1888 - val_loss: 12.4043\n",
      "Epoch 52/200\n",
      "12/12 [==============================] - 0s 11ms/step - loss: 1.2525 - val_loss: 12.7992\n",
      "Epoch 53/200\n",
      "12/12 [==============================] - 0s 7ms/step - loss: 1.1587 - val_loss: 12.4058\n",
      "Epoch 54/200\n",
      "12/12 [==============================] - 0s 8ms/step - loss: 1.1899 - val_loss: 13.4096\n",
      "Epoch 55/200\n",
      "12/12 [==============================] - 0s 8ms/step - loss: 1.0912 - val_loss: 12.2147\n",
      "Epoch 56/200\n",
      "12/12 [==============================] - 0s 8ms/step - loss: 0.9634 - val_loss: 12.6074\n",
      "Epoch 57/200\n",
      "12/12 [==============================] - 0s 6ms/step - loss: 0.9691 - val_loss: 11.2871\n",
      "Epoch 58/200\n",
      "12/12 [==============================] - 0s 9ms/step - loss: 0.9595 - val_loss: 12.3112\n",
      "Epoch 59/200\n",
      "12/12 [==============================] - 0s 14ms/step - loss: 0.9205 - val_loss: 11.7899\n",
      "Epoch 60/200\n",
      "12/12 [==============================] - 0s 10ms/step - loss: 0.8538 - val_loss: 11.7244\n",
      "Epoch 61/200\n",
      "12/12 [==============================] - 0s 11ms/step - loss: 0.8278 - val_loss: 11.8928\n",
      "Epoch 62/200\n",
      "12/12 [==============================] - 0s 11ms/step - loss: 0.9041 - val_loss: 11.9940\n",
      "Epoch 63/200\n",
      "12/12 [==============================] - 0s 13ms/step - loss: 1.0029 - val_loss: 11.6901\n",
      "Epoch 64/200\n",
      "12/12 [==============================] - 0s 10ms/step - loss: 1.0001 - val_loss: 12.6019\n",
      "Epoch 65/200\n",
      "12/12 [==============================] - 0s 15ms/step - loss: 0.9268 - val_loss: 11.6822\n",
      "Epoch 66/200\n",
      "12/12 [==============================] - 0s 5ms/step - loss: 0.8844 - val_loss: 12.4735\n",
      "Epoch 67/200\n",
      "12/12 [==============================] - 0s 17ms/step - loss: 0.8177 - val_loss: 12.5581\n",
      "Epoch 68/200\n",
      "12/12 [==============================] - 0s 14ms/step - loss: 0.8700 - val_loss: 12.3182\n",
      "Epoch 69/200\n",
      "12/12 [==============================] - 0s 14ms/step - loss: 0.9411 - val_loss: 12.4253\n",
      "Epoch 70/200\n",
      "12/12 [==============================] - 0s 10ms/step - loss: 0.9537 - val_loss: 11.8989\n",
      "Epoch 71/200\n",
      "12/12 [==============================] - 0s 11ms/step - loss: 1.0227 - val_loss: 11.6765\n",
      "Epoch 72/200\n",
      "12/12 [==============================] - 0s 11ms/step - loss: 0.9746 - val_loss: 12.3248\n",
      "Epoch 73/200\n",
      "12/12 [==============================] - 0s 11ms/step - loss: 0.8580 - val_loss: 11.7605\n",
      "Epoch 74/200\n",
      "12/12 [==============================] - 0s 9ms/step - loss: 1.0165 - val_loss: 11.7153\n",
      "Epoch 75/200\n",
      "12/12 [==============================] - 0s 12ms/step - loss: 0.9058 - val_loss: 12.1588\n",
      "Epoch 76/200\n",
      "12/12 [==============================] - 0s 16ms/step - loss: 0.8399 - val_loss: 11.8808\n",
      "Epoch 77/200\n",
      "12/12 [==============================] - 0s 9ms/step - loss: 0.8070 - val_loss: 11.9085\n",
      "Epoch 78/200\n",
      "12/12 [==============================] - 0s 22ms/step - loss: 0.7577 - val_loss: 11.8210\n",
      "Epoch 79/200\n",
      "12/12 [==============================] - 0s 15ms/step - loss: 0.7055 - val_loss: 12.0397\n",
      "Epoch 80/200\n",
      "12/12 [==============================] - 0s 11ms/step - loss: 0.7810 - val_loss: 11.7543\n",
      "Epoch 81/200\n",
      "12/12 [==============================] - 0s 14ms/step - loss: 0.7720 - val_loss: 11.8148\n",
      "Epoch 82/200\n",
      "12/12 [==============================] - 0s 13ms/step - loss: 0.8004 - val_loss: 11.9899\n",
      "Epoch 83/200\n",
      "12/12 [==============================] - 0s 10ms/step - loss: 0.8099 - val_loss: 12.4336\n",
      "Epoch 84/200\n",
      "12/12 [==============================] - 0s 8ms/step - loss: 0.8086 - val_loss: 12.2021\n",
      "Epoch 85/200\n",
      "12/12 [==============================] - 0s 10ms/step - loss: 0.8764 - val_loss: 12.5021\n",
      "Epoch 86/200\n",
      "12/12 [==============================] - 0s 10ms/step - loss: 0.7705 - val_loss: 11.8235\n",
      "Epoch 87/200\n",
      "12/12 [==============================] - 0s 13ms/step - loss: 0.8657 - val_loss: 12.9507\n",
      "Epoch 88/200\n",
      "12/12 [==============================] - 0s 9ms/step - loss: 0.9159 - val_loss: 12.1116\n",
      "Epoch 89/200\n",
      "12/12 [==============================] - 0s 8ms/step - loss: 1.0647 - val_loss: 13.1788\n",
      "Epoch 90/200\n",
      "12/12 [==============================] - 0s 9ms/step - loss: 0.9896 - val_loss: 11.7774\n",
      "Epoch 91/200\n",
      "12/12 [==============================] - 0s 7ms/step - loss: 0.9533 - val_loss: 12.7673\n",
      "Epoch 92/200\n",
      "12/12 [==============================] - 0s 4ms/step - loss: 0.8100 - val_loss: 11.9009\n",
      "Epoch 93/200\n",
      "12/12 [==============================] - 0s 4ms/step - loss: 0.7536 - val_loss: 12.6405\n",
      "Epoch 94/200\n",
      "12/12 [==============================] - 0s 7ms/step - loss: 0.7269 - val_loss: 12.1404\n",
      "Epoch 95/200\n",
      "12/12 [==============================] - 0s 7ms/step - loss: 0.7217 - val_loss: 12.5753\n",
      "Epoch 96/200\n",
      "12/12 [==============================] - 0s 9ms/step - loss: 0.8221 - val_loss: 12.6780\n",
      "Epoch 97/200\n",
      "12/12 [==============================] - 0s 6ms/step - loss: 0.8339 - val_loss: 12.4151\n",
      "Epoch 98/200\n",
      "12/12 [==============================] - 0s 6ms/step - loss: 0.7728 - val_loss: 12.8091\n",
      "Epoch 99/200\n",
      "12/12 [==============================] - 0s 5ms/step - loss: 0.7715 - val_loss: 12.9262\n",
      "Epoch 100/200\n",
      "12/12 [==============================] - 0s 8ms/step - loss: 0.8688 - val_loss: 12.2447\n",
      "Epoch 101/200\n",
      "12/12 [==============================] - 0s 7ms/step - loss: 0.8371 - val_loss: 12.5939\n",
      "Epoch 102/200\n",
      "12/12 [==============================] - 0s 7ms/step - loss: 0.7519 - val_loss: 12.4124\n",
      "Epoch 103/200\n",
      "12/12 [==============================] - 0s 6ms/step - loss: 0.8113 - val_loss: 12.5368\n",
      "Epoch 104/200\n",
      "12/12 [==============================] - 0s 5ms/step - loss: 0.6950 - val_loss: 12.1535\n",
      "Epoch 105/200\n",
      "12/12 [==============================] - 0s 3ms/step - loss: 0.7011 - val_loss: 12.3782\n",
      "Epoch 106/200\n",
      "12/12 [==============================] - 0s 9ms/step - loss: 0.7221 - val_loss: 12.3406\n",
      "Epoch 107/200\n",
      "12/12 [==============================] - 0s 7ms/step - loss: 0.7463 - val_loss: 12.3063\n",
      "Epoch 108/200\n",
      "12/12 [==============================] - 0s 6ms/step - loss: 0.9504 - val_loss: 12.2901\n",
      "Epoch 109/200\n",
      "12/12 [==============================] - 0s 4ms/step - loss: 0.9237 - val_loss: 12.4522\n",
      "Epoch 110/200\n",
      "12/12 [==============================] - 0s 8ms/step - loss: 0.6901 - val_loss: 12.6709\n",
      "Epoch 111/200\n",
      "12/12 [==============================] - 0s 7ms/step - loss: 0.6932 - val_loss: 12.2940\n",
      "Epoch 112/200\n",
      "12/12 [==============================] - 0s 3ms/step - loss: 0.6573 - val_loss: 12.8509\n",
      "Epoch 113/200\n",
      "12/12 [==============================] - 0s 6ms/step - loss: 0.7633 - val_loss: 12.4421\n",
      "Epoch 114/200\n",
      "12/12 [==============================] - 0s 8ms/step - loss: 0.7194 - val_loss: 12.7201\n",
      "Epoch 115/200\n",
      "12/12 [==============================] - 0s 8ms/step - loss: 0.6459 - val_loss: 12.6259\n",
      "Epoch 116/200\n",
      "12/12 [==============================] - 0s 8ms/step - loss: 0.6994 - val_loss: 13.3271\n",
      "Epoch 117/200\n",
      "12/12 [==============================] - 0s 6ms/step - loss: 0.7657 - val_loss: 13.7926\n",
      "Epoch 118/200\n",
      "12/12 [==============================] - 0s 6ms/step - loss: 0.9121 - val_loss: 12.8551\n",
      "Epoch 119/200\n",
      "12/12 [==============================] - 0s 5ms/step - loss: 0.7143 - val_loss: 12.6249\n",
      "Epoch 120/200\n",
      "12/12 [==============================] - 0s 5ms/step - loss: 0.6658 - val_loss: 12.7914\n",
      "Epoch 121/200\n",
      "12/12 [==============================] - 0s 8ms/step - loss: 0.6400 - val_loss: 12.9330\n",
      "Epoch 122/200\n",
      "12/12 [==============================] - 0s 4ms/step - loss: 0.6527 - val_loss: 13.0851\n",
      "Epoch 123/200\n",
      "12/12 [==============================] - 0s 5ms/step - loss: 0.5905 - val_loss: 12.3405\n",
      "Epoch 124/200\n",
      "12/12 [==============================] - 0s 7ms/step - loss: 0.6668 - val_loss: 13.2827\n",
      "Epoch 125/200\n",
      "12/12 [==============================] - 0s 9ms/step - loss: 0.6686 - val_loss: 12.7839\n",
      "Epoch 126/200\n",
      "12/12 [==============================] - 0s 5ms/step - loss: 0.6948 - val_loss: 13.4700\n",
      "Epoch 127/200\n",
      "12/12 [==============================] - 0s 6ms/step - loss: 0.5934 - val_loss: 12.6034\n",
      "Epoch 128/200\n",
      "12/12 [==============================] - 0s 7ms/step - loss: 0.5977 - val_loss: 13.3463\n",
      "Epoch 129/200\n",
      "12/12 [==============================] - 0s 7ms/step - loss: 0.7226 - val_loss: 12.7088\n",
      "Epoch 130/200\n",
      "12/12 [==============================] - 0s 7ms/step - loss: 0.7843 - val_loss: 12.8526\n",
      "Epoch 131/200\n",
      "12/12 [==============================] - 0s 5ms/step - loss: 0.8753 - val_loss: 13.3539\n",
      "Epoch 132/200\n",
      "12/12 [==============================] - 0s 7ms/step - loss: 0.6728 - val_loss: 13.1082\n",
      "Epoch 133/200\n",
      "12/12 [==============================] - 0s 8ms/step - loss: 0.5817 - val_loss: 13.1922\n",
      "Epoch 134/200\n",
      "12/12 [==============================] - 0s 5ms/step - loss: 0.6013 - val_loss: 12.7668\n",
      "Epoch 135/200\n",
      "12/12 [==============================] - 0s 4ms/step - loss: 0.5378 - val_loss: 13.4896\n",
      "Epoch 136/200\n",
      "12/12 [==============================] - 0s 8ms/step - loss: 0.6349 - val_loss: 12.8822\n",
      "Epoch 137/200\n",
      "12/12 [==============================] - 0s 7ms/step - loss: 0.6126 - val_loss: 12.8744\n",
      "Epoch 138/200\n",
      "12/12 [==============================] - 0s 8ms/step - loss: 0.5522 - val_loss: 12.7555\n",
      "Epoch 139/200\n",
      "12/12 [==============================] - 0s 5ms/step - loss: 0.5620 - val_loss: 13.1818\n",
      "Epoch 140/200\n",
      "12/12 [==============================] - 0s 7ms/step - loss: 0.6623 - val_loss: 13.1851\n",
      "Epoch 141/200\n",
      "12/12 [==============================] - 0s 6ms/step - loss: 0.6879 - val_loss: 12.9507\n",
      "Epoch 142/200\n",
      "12/12 [==============================] - 0s 9ms/step - loss: 0.6007 - val_loss: 12.9044\n",
      "Epoch 143/200\n",
      "12/12 [==============================] - 0s 8ms/step - loss: 0.5904 - val_loss: 12.8394\n",
      "Epoch 144/200\n",
      "12/12 [==============================] - 0s 7ms/step - loss: 0.6332 - val_loss: 13.2068\n",
      "Epoch 145/200\n",
      "12/12 [==============================] - 0s 4ms/step - loss: 0.6597 - val_loss: 13.1344\n",
      "Epoch 146/200\n",
      "12/12 [==============================] - 0s 5ms/step - loss: 0.5289 - val_loss: 12.8419\n",
      "Epoch 147/200\n",
      "12/12 [==============================] - 0s 8ms/step - loss: 0.6005 - val_loss: 12.9117\n",
      "Epoch 148/200\n",
      "12/12 [==============================] - 0s 7ms/step - loss: 0.5853 - val_loss: 12.8466\n",
      "Epoch 149/200\n",
      "12/12 [==============================] - 0s 7ms/step - loss: 0.5461 - val_loss: 13.2023\n",
      "Epoch 150/200\n",
      "12/12 [==============================] - 0s 6ms/step - loss: 0.4850 - val_loss: 12.9672\n",
      "Epoch 151/200\n",
      "12/12 [==============================] - 0s 5ms/step - loss: 0.5863 - val_loss: 13.0278\n",
      "Epoch 152/200\n",
      "12/12 [==============================] - 0s 9ms/step - loss: 0.6047 - val_loss: 13.3464\n",
      "Epoch 153/200\n",
      "12/12 [==============================] - 0s 7ms/step - loss: 0.7425 - val_loss: 12.9376\n",
      "Epoch 154/200\n",
      "12/12 [==============================] - 0s 4ms/step - loss: 0.6430 - val_loss: 13.2562\n",
      "Epoch 155/200\n",
      "12/12 [==============================] - 0s 7ms/step - loss: 0.6404 - val_loss: 13.4360\n",
      "Epoch 156/200\n",
      "12/12 [==============================] - 0s 7ms/step - loss: 0.5673 - val_loss: 12.9128\n",
      "Epoch 157/200\n",
      "12/12 [==============================] - 0s 8ms/step - loss: 0.6587 - val_loss: 13.1936\n",
      "Epoch 158/200\n",
      "12/12 [==============================] - 0s 6ms/step - loss: 0.5754 - val_loss: 13.5851\n",
      "Epoch 159/200\n",
      "12/12 [==============================] - 0s 9ms/step - loss: 0.6739 - val_loss: 13.7448\n",
      "Epoch 160/200\n",
      "12/12 [==============================] - 0s 8ms/step - loss: 0.6002 - val_loss: 13.4823\n",
      "Epoch 161/200\n"
     ]
    },
    {
     "name": "stdout",
     "output_type": "stream",
     "text": [
      "12/12 [==============================] - 0s 7ms/step - loss: 0.4358 - val_loss: 13.4941\n",
      "Epoch 162/200\n",
      "12/12 [==============================] - 0s 10ms/step - loss: 0.4419 - val_loss: 13.1140\n",
      "Epoch 163/200\n",
      "12/12 [==============================] - 0s 5ms/step - loss: 0.5128 - val_loss: 13.6237\n",
      "Epoch 164/200\n",
      "12/12 [==============================] - 0s 4ms/step - loss: 0.5436 - val_loss: 13.2722\n",
      "Epoch 165/200\n",
      "12/12 [==============================] - 0s 6ms/step - loss: 0.4754 - val_loss: 13.1696\n",
      "Epoch 166/200\n",
      "12/12 [==============================] - 0s 4ms/step - loss: 0.6656 - val_loss: 13.7248\n",
      "Epoch 167/200\n",
      "12/12 [==============================] - 0s 10ms/step - loss: 0.5925 - val_loss: 13.5950\n",
      "Epoch 168/200\n",
      "12/12 [==============================] - 0s 9ms/step - loss: 0.6685 - val_loss: 12.9268\n",
      "Epoch 169/200\n",
      "12/12 [==============================] - 0s 8ms/step - loss: 0.6423 - val_loss: 13.0590\n",
      "Epoch 170/200\n",
      "12/12 [==============================] - 0s 8ms/step - loss: 0.6701 - val_loss: 13.0623\n",
      "Epoch 171/200\n",
      "12/12 [==============================] - 0s 8ms/step - loss: 0.5657 - val_loss: 13.2222\n",
      "Epoch 172/200\n",
      "12/12 [==============================] - 0s 9ms/step - loss: 0.5393 - val_loss: 13.7847\n",
      "Epoch 173/200\n",
      "12/12 [==============================] - 0s 6ms/step - loss: 0.5263 - val_loss: 13.6111\n",
      "Epoch 174/200\n",
      "12/12 [==============================] - 0s 5ms/step - loss: 0.4965 - val_loss: 13.5482\n",
      "Epoch 175/200\n",
      "12/12 [==============================] - 0s 6ms/step - loss: 0.5832 - val_loss: 12.7878\n",
      "Epoch 176/200\n",
      "12/12 [==============================] - 0s 6ms/step - loss: 0.6863 - val_loss: 12.8228\n",
      "Epoch 177/200\n",
      "12/12 [==============================] - 0s 8ms/step - loss: 0.6964 - val_loss: 13.1174\n",
      "Epoch 178/200\n",
      "12/12 [==============================] - 0s 6ms/step - loss: 0.5622 - val_loss: 12.9122\n",
      "Epoch 179/200\n",
      "12/12 [==============================] - 0s 4ms/step - loss: 0.5466 - val_loss: 13.6574\n",
      "Epoch 180/200\n",
      "12/12 [==============================] - 0s 7ms/step - loss: 0.6013 - val_loss: 13.2205\n",
      "Epoch 181/200\n",
      "12/12 [==============================] - 0s 7ms/step - loss: 0.6420 - val_loss: 13.9836\n",
      "Epoch 182/200\n",
      "12/12 [==============================] - 0s 8ms/step - loss: 0.5739 - val_loss: 12.7385\n",
      "Epoch 183/200\n",
      "12/12 [==============================] - 0s 10ms/step - loss: 0.6463 - val_loss: 14.1924\n",
      "Epoch 184/200\n",
      "12/12 [==============================] - 0s 10ms/step - loss: 0.6236 - val_loss: 13.2646\n",
      "Epoch 185/200\n",
      "12/12 [==============================] - 0s 8ms/step - loss: 0.5685 - val_loss: 14.0005\n",
      "Epoch 186/200\n",
      "12/12 [==============================] - 0s 8ms/step - loss: 0.6174 - val_loss: 13.0192\n",
      "Epoch 187/200\n",
      "12/12 [==============================] - 0s 9ms/step - loss: 0.4768 - val_loss: 13.2496\n",
      "Epoch 188/200\n",
      "12/12 [==============================] - 0s 7ms/step - loss: 0.6333 - val_loss: 13.3528\n",
      "Epoch 189/200\n",
      "12/12 [==============================] - 0s 4ms/step - loss: 0.5389 - val_loss: 12.9432\n",
      "Epoch 190/200\n",
      "12/12 [==============================] - 0s 5ms/step - loss: 0.5626 - val_loss: 13.3174\n",
      "Epoch 191/200\n",
      "12/12 [==============================] - 0s 9ms/step - loss: 0.5571 - val_loss: 12.6295\n",
      "Epoch 192/200\n",
      "12/12 [==============================] - 0s 7ms/step - loss: 0.5738 - val_loss: 13.7976\n",
      "Epoch 193/200\n",
      "12/12 [==============================] - 0s 7ms/step - loss: 0.5394 - val_loss: 14.1159\n",
      "Epoch 194/200\n",
      "12/12 [==============================] - 0s 4ms/step - loss: 0.6884 - val_loss: 14.2490\n",
      "Epoch 195/200\n",
      "12/12 [==============================] - 0s 6ms/step - loss: 0.7911 - val_loss: 13.8234\n",
      "Epoch 196/200\n",
      "12/12 [==============================] - 0s 5ms/step - loss: 0.6307 - val_loss: 14.8984\n",
      "Epoch 197/200\n",
      "12/12 [==============================] - 0s 9ms/step - loss: 0.8987 - val_loss: 13.8512\n",
      "Epoch 198/200\n",
      "12/12 [==============================] - 0s 13ms/step - loss: 0.7784 - val_loss: 13.2735\n",
      "Epoch 199/200\n",
      "12/12 [==============================] - 0s 12ms/step - loss: 0.6226 - val_loss: 13.6703\n",
      "Epoch 200/200\n",
      "12/12 [==============================] - 0s 8ms/step - loss: 0.5729 - val_loss: 13.1856\n"
     ]
    }
   ],
   "source": [
    "# 모델.fit() : 반환 - History: 학습한 내역(epoch별 검증결과)를 묶어서 제공.\n",
    "hist = model.fit(train_dataset,   # train dataset(tf.data- batch+shuffle) - (X, y)\n",
    "                 epochs=N_EPOCHS, # epoch 수\n",
    "                 validation_data=test_dataset)  # validation dataset(tf.data) 제공 (X, y)\n",
    "# Dataset을 이용해서 학습할 경우 validatation_split을 사용할 수 없다."
   ]
  },
  {
   "cell_type": "code",
   "execution_count": 118,
   "metadata": {
    "ExecuteTime": {
     "end_time": "2022-07-13T08:11:01.174563Z",
     "start_time": "2022-07-13T08:11:01.153621Z"
    },
    "collapsed": true
   },
   "outputs": [
    {
     "name": "stdout",
     "output_type": "stream",
     "text": [
      "<class 'dict'>\n"
     ]
    },
    {
     "data": {
      "text/plain": [
       "{'loss': [573.97265625,\n",
       "  529.7014770507812,\n",
       "  415.3443603515625,\n",
       "  200.0448455810547,\n",
       "  68.7126693725586,\n",
       "  38.21321487426758,\n",
       "  27.730417251586914,\n",
       "  22.855295181274414,\n",
       "  20.93318748474121,\n",
       "  18.496910095214844,\n",
       "  17.71816635131836,\n",
       "  16.5079288482666,\n",
       "  15.492290496826172,\n",
       "  14.740364074707031,\n",
       "  13.879814147949219,\n",
       "  13.086426734924316,\n",
       "  12.376360893249512,\n",
       "  12.186575889587402,\n",
       "  11.21507740020752,\n",
       "  11.498808860778809,\n",
       "  10.811851501464844,\n",
       "  8.988255500793457,\n",
       "  10.814922332763672,\n",
       "  9.931567192077637,\n",
       "  10.078068733215332,\n",
       "  10.08855152130127,\n",
       "  10.221027374267578,\n",
       "  10.3018217086792,\n",
       "  9.47790813446045,\n",
       "  9.315930366516113,\n",
       "  9.265284538269043,\n",
       "  8.851627349853516,\n",
       "  8.8947172164917,\n",
       "  8.93535327911377,\n",
       "  8.705267906188965,\n",
       "  8.43432331085205,\n",
       "  8.180105209350586,\n",
       "  8.32833194732666,\n",
       "  8.184794425964355,\n",
       "  8.188965797424316,\n",
       "  8.259322166442871,\n",
       "  8.044373512268066,\n",
       "  7.290256977081299,\n",
       "  8.022368431091309,\n",
       "  7.801860809326172,\n",
       "  6.882209777832031,\n",
       "  7.805867671966553,\n",
       "  7.313704013824463,\n",
       "  7.0030670166015625,\n",
       "  7.124017238616943,\n",
       "  6.835566997528076,\n",
       "  6.8443779945373535,\n",
       "  6.885858535766602,\n",
       "  6.744113445281982,\n",
       "  6.776111125946045,\n",
       "  6.783243656158447,\n",
       "  6.693456649780273,\n",
       "  6.393991470336914,\n",
       "  6.527632236480713,\n",
       "  5.3781352043151855,\n",
       "  6.375782489776611,\n",
       "  6.227485656738281,\n",
       "  6.252079010009766,\n",
       "  5.9334588050842285,\n",
       "  5.990189075469971,\n",
       "  5.887936115264893,\n",
       "  5.9433159828186035,\n",
       "  6.078563213348389,\n",
       "  5.934754848480225,\n",
       "  6.006591320037842,\n",
       "  5.735654354095459,\n",
       "  5.537346363067627,\n",
       "  5.266927242279053,\n",
       "  5.543916702270508,\n",
       "  5.2056803703308105,\n",
       "  5.196316242218018,\n",
       "  5.113571643829346,\n",
       "  4.836513996124268,\n",
       "  4.78259801864624,\n",
       "  5.042203426361084,\n",
       "  4.756494045257568,\n",
       "  4.144813060760498,\n",
       "  4.534846782684326,\n",
       "  4.827266216278076,\n",
       "  4.575459003448486,\n",
       "  4.276031970977783,\n",
       "  4.246650695800781,\n",
       "  4.433963298797607,\n",
       "  4.093268871307373,\n",
       "  4.160995006561279,\n",
       "  4.090662002563477,\n",
       "  3.650799036026001,\n",
       "  4.211592197418213,\n",
       "  4.0447096824646,\n",
       "  3.9659643173217773,\n",
       "  3.9170472621917725,\n",
       "  3.6829121112823486,\n",
       "  3.6479456424713135,\n",
       "  3.613027572631836,\n",
       "  3.566324234008789,\n",
       "  3.5422346591949463,\n",
       "  3.6856095790863037,\n",
       "  3.8340909481048584,\n",
       "  3.6408023834228516,\n",
       "  3.571577310562134,\n",
       "  3.579824447631836,\n",
       "  3.2782819271087646,\n",
       "  3.555389642715454,\n",
       "  3.7117855548858643,\n",
       "  3.448955774307251,\n",
       "  3.376645088195801,\n",
       "  2.79152774810791,\n",
       "  3.214437484741211,\n",
       "  3.0745742321014404,\n",
       "  3.017184019088745,\n",
       "  3.04551100730896,\n",
       "  3.1377975940704346,\n",
       "  3.0208890438079834,\n",
       "  3.1989517211914062,\n",
       "  3.2383077144622803,\n",
       "  3.087327241897583,\n",
       "  2.7530758380889893,\n",
       "  2.6641297340393066,\n",
       "  2.862363576889038,\n",
       "  2.635809898376465,\n",
       "  2.725506067276001,\n",
       "  2.847787857055664,\n",
       "  3.1998989582061768,\n",
       "  2.6479809284210205,\n",
       "  2.796804428100586,\n",
       "  2.635314464569092,\n",
       "  2.579503297805786,\n",
       "  2.518786907196045,\n",
       "  2.424499988555908,\n",
       "  2.4136083126068115,\n",
       "  2.731602907180786,\n",
       "  2.5261306762695312,\n",
       "  2.3701658248901367,\n",
       "  2.4725430011749268,\n",
       "  2.5792205333709717,\n",
       "  2.6292121410369873,\n",
       "  2.408596992492676,\n",
       "  2.5770933628082275,\n",
       "  2.4432127475738525,\n",
       "  2.4003734588623047,\n",
       "  2.196979284286499,\n",
       "  2.1042895317077637,\n",
       "  2.4310169219970703,\n",
       "  2.1843674182891846,\n",
       "  2.2272872924804688,\n",
       "  2.026577949523926,\n",
       "  2.32818341255188,\n",
       "  2.4092280864715576,\n",
       "  2.115384817123413,\n",
       "  2.0731239318847656,\n",
       "  1.938571572303772,\n",
       "  1.9164894819259644,\n",
       "  1.9063886404037476,\n",
       "  1.9437894821166992,\n",
       "  2.0164291858673096,\n",
       "  2.413722038269043,\n",
       "  2.0332984924316406,\n",
       "  1.8895291090011597,\n",
       "  2.0408613681793213,\n",
       "  1.9279354810714722,\n",
       "  2.021375894546509,\n",
       "  1.976326584815979,\n",
       "  1.6853704452514648,\n",
       "  1.7879852056503296,\n",
       "  1.8426553010940552,\n",
       "  1.7662779092788696,\n",
       "  1.7722126245498657,\n",
       "  1.9629430770874023,\n",
       "  1.908481240272522,\n",
       "  1.8497041463851929,\n",
       "  1.761522889137268,\n",
       "  1.8687697649002075,\n",
       "  1.8888252973556519,\n",
       "  2.0502207279205322,\n",
       "  1.8095707893371582,\n",
       "  1.935012698173523,\n",
       "  1.6227949857711792,\n",
       "  1.7043005228042603,\n",
       "  1.8071621656417847,\n",
       "  1.9435973167419434,\n",
       "  1.5054155588150024,\n",
       "  1.502738356590271,\n",
       "  1.534537434577942,\n",
       "  1.5917190313339233,\n",
       "  1.4232319593429565,\n",
       "  1.4195318222045898,\n",
       "  1.3038853406906128,\n",
       "  1.599868655204773,\n",
       "  1.544304370880127,\n",
       "  1.4934391975402832,\n",
       "  1.6482728719711304,\n",
       "  1.5821553468704224,\n",
       "  1.6914390325546265,\n",
       "  1.5354520082473755,\n",
       "  1.4829665422439575],\n",
       " 'val_loss': [584.8519287109375,\n",
       "  504.33123779296875,\n",
       "  330.9917297363281,\n",
       "  94.42408752441406,\n",
       "  61.131561279296875,\n",
       "  36.03437423706055,\n",
       "  30.425987243652344,\n",
       "  29.063732147216797,\n",
       "  28.831201553344727,\n",
       "  27.768619537353516,\n",
       "  28.281145095825195,\n",
       "  26.17852020263672,\n",
       "  27.49907684326172,\n",
       "  26.0650691986084,\n",
       "  25.923280715942383,\n",
       "  25.265762329101562,\n",
       "  26.13265609741211,\n",
       "  26.0915470123291,\n",
       "  25.143770217895508,\n",
       "  25.161304473876953,\n",
       "  25.9514217376709,\n",
       "  24.671266555786133,\n",
       "  24.639404296875,\n",
       "  24.529937744140625,\n",
       "  23.561939239501953,\n",
       "  24.929792404174805,\n",
       "  24.392362594604492,\n",
       "  25.98873519897461,\n",
       "  24.45612144470215,\n",
       "  25.367753982543945,\n",
       "  23.398738861083984,\n",
       "  24.89369773864746,\n",
       "  23.295928955078125,\n",
       "  23.744081497192383,\n",
       "  24.035661697387695,\n",
       "  23.0126895904541,\n",
       "  23.712223052978516,\n",
       "  22.68852996826172,\n",
       "  23.32529067993164,\n",
       "  22.204919815063477,\n",
       "  23.443254470825195,\n",
       "  22.00884437561035,\n",
       "  21.180280685424805,\n",
       "  22.71965789794922,\n",
       "  21.141738891601562,\n",
       "  22.423715591430664,\n",
       "  20.32955551147461,\n",
       "  22.278093338012695,\n",
       "  20.483144760131836,\n",
       "  21.697893142700195,\n",
       "  20.873401641845703,\n",
       "  20.949722290039062,\n",
       "  22.27071189880371,\n",
       "  20.81890106201172,\n",
       "  20.803394317626953,\n",
       "  20.008838653564453,\n",
       "  20.00298309326172,\n",
       "  20.114099502563477,\n",
       "  19.56113052368164,\n",
       "  19.383403778076172,\n",
       "  18.78520965576172,\n",
       "  19.625810623168945,\n",
       "  18.725278854370117,\n",
       "  18.975187301635742,\n",
       "  20.012619018554688,\n",
       "  18.35434913635254,\n",
       "  18.25743293762207,\n",
       "  18.825775146484375,\n",
       "  18.434371948242188,\n",
       "  18.536792755126953,\n",
       "  17.067922592163086,\n",
       "  18.206693649291992,\n",
       "  17.630359649658203,\n",
       "  17.086875915527344,\n",
       "  18.15276336669922,\n",
       "  17.34711456298828,\n",
       "  17.246341705322266,\n",
       "  16.20037078857422,\n",
       "  16.97905731201172,\n",
       "  17.375885009765625,\n",
       "  16.58785629272461,\n",
       "  15.067646026611328,\n",
       "  16.217920303344727,\n",
       "  15.97932243347168,\n",
       "  15.4965181350708,\n",
       "  14.79262924194336,\n",
       "  16.474506378173828,\n",
       "  15.518852233886719,\n",
       "  14.966487884521484,\n",
       "  15.32326602935791,\n",
       "  15.319668769836426,\n",
       "  14.17727279663086,\n",
       "  15.849493026733398,\n",
       "  14.650036811828613,\n",
       "  15.164809226989746,\n",
       "  14.29015064239502,\n",
       "  14.866177558898926,\n",
       "  14.2708740234375,\n",
       "  13.59173583984375,\n",
       "  14.829812049865723,\n",
       "  14.021462440490723,\n",
       "  14.353652954101562,\n",
       "  15.086054801940918,\n",
       "  13.189091682434082,\n",
       "  14.308296203613281,\n",
       "  14.23884105682373,\n",
       "  13.128121376037598,\n",
       "  13.091995239257812,\n",
       "  14.351112365722656,\n",
       "  12.732149124145508,\n",
       "  13.454410552978516,\n",
       "  12.924246788024902,\n",
       "  13.390975952148438,\n",
       "  13.49697208404541,\n",
       "  13.078010559082031,\n",
       "  13.36983871459961,\n",
       "  13.676403999328613,\n",
       "  13.251266479492188,\n",
       "  13.104214668273926,\n",
       "  12.27879810333252,\n",
       "  12.746228218078613,\n",
       "  13.138212203979492,\n",
       "  13.059423446655273,\n",
       "  12.872366905212402,\n",
       "  12.77090835571289,\n",
       "  13.16789722442627,\n",
       "  12.313190460205078,\n",
       "  12.741585731506348,\n",
       "  13.14142894744873,\n",
       "  13.191564559936523,\n",
       "  12.317378997802734,\n",
       "  13.20740032196045,\n",
       "  13.015620231628418,\n",
       "  12.435522079467773,\n",
       "  13.678449630737305,\n",
       "  12.96838665008545,\n",
       "  12.71157169342041,\n",
       "  12.425532341003418,\n",
       "  14.906648635864258,\n",
       "  12.600582122802734,\n",
       "  12.713383674621582,\n",
       "  12.94299030303955,\n",
       "  12.96926498413086,\n",
       "  12.676618576049805,\n",
       "  12.299275398254395,\n",
       "  13.09314250946045,\n",
       "  13.007803916931152,\n",
       "  12.42099666595459,\n",
       "  13.522696495056152,\n",
       "  12.896982192993164,\n",
       "  12.588656425476074,\n",
       "  12.69091796875,\n",
       "  13.779598236083984,\n",
       "  13.270756721496582,\n",
       "  12.454046249389648,\n",
       "  12.898058891296387,\n",
       "  13.171483993530273,\n",
       "  13.143803596496582,\n",
       "  12.944134712219238,\n",
       "  12.396620750427246,\n",
       "  12.355026245117188,\n",
       "  13.626379013061523,\n",
       "  13.081499099731445,\n",
       "  12.733717918395996,\n",
       "  12.60541820526123,\n",
       "  13.308725357055664,\n",
       "  12.919194221496582,\n",
       "  13.19590950012207,\n",
       "  12.776334762573242,\n",
       "  12.572370529174805,\n",
       "  12.330392837524414,\n",
       "  13.27479362487793,\n",
       "  12.678739547729492,\n",
       "  13.159239768981934,\n",
       "  12.53227424621582,\n",
       "  12.490140914916992,\n",
       "  12.84701919555664,\n",
       "  12.715070724487305,\n",
       "  13.89888858795166,\n",
       "  13.926397323608398,\n",
       "  13.889248847961426,\n",
       "  12.604968070983887,\n",
       "  13.103434562683105,\n",
       "  13.687054634094238,\n",
       "  13.07589340209961,\n",
       "  12.973058700561523,\n",
       "  13.313721656799316,\n",
       "  13.639640808105469,\n",
       "  13.301484107971191,\n",
       "  12.677138328552246,\n",
       "  12.3751802444458,\n",
       "  13.04595947265625,\n",
       "  12.817731857299805,\n",
       "  13.131586074829102,\n",
       "  12.86674976348877,\n",
       "  13.12109088897705,\n",
       "  13.578974723815918,\n",
       "  14.262499809265137,\n",
       "  12.276074409484863,\n",
       "  12.906394004821777]}"
      ]
     },
     "execution_count": 118,
     "metadata": {},
     "output_type": "execute_result"
    }
   ],
   "source": [
    "print(type(hist.history))\n",
    "hist.history"
   ]
  },
  {
   "cell_type": "markdown",
   "metadata": {
    "slideshow": {
     "slide_type": "slide"
    }
   },
   "source": [
    "##### 결과 시각화"
   ]
  },
  {
   "cell_type": "code",
   "execution_count": 119,
   "metadata": {
    "ExecuteTime": {
     "end_time": "2022-07-13T08:11:11.754302Z",
     "start_time": "2022-07-13T08:11:10.386654Z"
    },
    "slideshow": {
     "slide_type": "fragment"
    }
   },
   "outputs": [],
   "source": [
    "import matplotlib.pyplot as plt"
   ]
  },
  {
   "cell_type": "code",
   "execution_count": 133,
   "metadata": {
    "ExecuteTime": {
     "end_time": "2022-07-13T08:24:07.693682Z",
     "start_time": "2022-07-13T08:24:07.387467Z"
    },
    "slideshow": {
     "slide_type": "fragment"
    }
   },
   "outputs": [
    {
     "data": {
      "image/png": "[encoded data removed]",
      "text/plain": [
       "<Figure size 576x432 with 1 Axes>"
      ]
     },
     "metadata": {
      "needs_background": "light"
     },
     "output_type": "display_data"
    }
   ],
   "source": [
    "plt.figure(figsize=(8,6))\n",
    "plt.plot(range(1,N_EPOCHS+1), hist.history['loss'], label='Train Loss')\n",
    "plt.plot(range(1,N_EPOCHS+1), hist.history['val_loss'], label='Validation Loss')\n",
    "plt.xlabel(\"Epochs\")\n",
    "plt.ylabel('Loss')\n",
    "plt.legend()\n",
    "plt.show()"
   ]
  },
  {
   "cell_type": "code",
   "execution_count": 121,
   "metadata": {
    "ExecuteTime": {
     "end_time": "2022-07-13T08:12:57.705259Z",
     "start_time": "2022-07-13T08:12:57.401494Z"
    },
    "slideshow": {
     "slide_type": "fragment"
    }
   },
   "outputs": [
    {
     "data": {
      "image/png": "[encoded data removed]",
      "text/plain": [
       "<Figure size 576x432 with 1 Axes>"
      ]
     },
     "metadata": {
      "needs_background": "light"
     },
     "output_type": "display_data"
    }
   ],
   "source": [
    "plt.figure(figsize=(8,6))\n",
    "plt.plot(range(1,N_EPOCHS+1), hist.history['loss'], label='Train Loss')\n",
    "plt.plot(range(1,N_EPOCHS+1), hist.history['val_loss'], label='Validation Loss')\n",
    "plt.xlabel(\"Epochs\")\n",
    "plt.ylabel('Loss')\n",
    "\n",
    "plt.ylim(0,50)  #y축 값의 범위를 제한\n",
    "\n",
    "plt.legend()\n",
    "plt.show()"
   ]
  },
  {
   "cell_type": "markdown",
   "metadata": {
    "slideshow": {
     "slide_type": "slide"
    }
   },
   "source": [
    "##### 최종 테스트"
   ]
  },
  {
   "cell_type": "code",
   "execution_count": 134,
   "metadata": {
    "ExecuteTime": {
     "end_time": "2022-07-13T08:24:17.801526Z",
     "start_time": "2022-07-13T08:24:17.744675Z"
    },
    "slideshow": {
     "slide_type": "fragment"
    }
   },
   "outputs": [
    {
     "name": "stdout",
     "output_type": "stream",
     "text": [
      "4/4 [==============================] - 0s 3ms/step - loss: 13.1856\n",
      "13.185626029968262 3.631201733581909\n"
     ]
    }
   ],
   "source": [
    "loss = model.evaluate(test_dataset)\n",
    "print(loss, np.sqrt(loss))"
   ]
  },
  {
   "cell_type": "markdown",
   "metadata": {
    "slideshow": {
     "slide_type": "slide"
    }
   },
   "source": [
    "##### 모델 네트워크 저장"
   ]
  },
  {
   "cell_type": "code",
   "execution_count": 124,
   "metadata": {
    "ExecuteTime": {
     "end_time": "2022-07-13T08:16:27.029971Z",
     "start_time": "2022-07-13T08:16:25.796859Z"
    },
    "slideshow": {
     "slide_type": "fragment"
    }
   },
   "outputs": [
    {
     "name": "stdout",
     "output_type": "stream",
     "text": [
      "INFO:tensorflow:Assets written to: models/boston_hosing_model\\assets\n"
     ]
    }
   ],
   "source": [
    "model.save('models/boston_hosing_model')"
   ]
  },
  {
   "cell_type": "markdown",
   "metadata": {
    "slideshow": {
     "slide_type": "slide"
    }
   },
   "source": [
    "##### 새로운 데이터 추론"
   ]
  },
  {
   "cell_type": "code",
   "execution_count": 125,
   "metadata": {
    "ExecuteTime": {
     "end_time": "2022-07-13T08:18:32.671116Z",
     "start_time": "2022-07-13T08:18:32.651134Z"
    },
    "slideshow": {
     "slide_type": "fragment"
    }
   },
   "outputs": [
    {
     "data": {
      "text/plain": [
       "(5, 13)"
      ]
     },
     "execution_count": 125,
     "metadata": {},
     "output_type": "execute_result"
    }
   ],
   "source": [
    "new_data = X_test[:5]\n",
    "new_data.shape"
   ]
  },
  {
   "cell_type": "code",
   "execution_count": 127,
   "metadata": {
    "ExecuteTime": {
     "end_time": "2022-07-13T08:19:26.611964Z",
     "start_time": "2022-07-13T08:19:26.352672Z"
    },
    "slideshow": {
     "slide_type": "fragment"
    }
   },
   "outputs": [
    {
     "name": "stdout",
     "output_type": "stream",
     "text": [
      "1/1 [==============================] - 0s 184ms/step\n"
     ]
    }
   ],
   "source": [
    "# model.predict(추론한 Feature): 추론결과\n",
    "pred = model.predict(new_data)"
   ]
  },
  {
   "cell_type": "code",
   "execution_count": 128,
   "metadata": {
    "ExecuteTime": {
     "end_time": "2022-07-13T08:19:29.677960Z",
     "start_time": "2022-07-13T08:19:29.665995Z"
    },
    "slideshow": {
     "slide_type": "fragment"
    }
   },
   "outputs": [
    {
     "data": {
      "text/plain": [
       "array([[ 7.6359487],\n",
       "       [18.099798 ],\n",
       "       [19.894531 ],\n",
       "       [34.950897 ],\n",
       "       [23.554142 ]], dtype=float32)"
      ]
     },
     "execution_count": 128,
     "metadata": {},
     "output_type": "execute_result"
    }
   ],
   "source": [
    " pred"
   ]
  },
  {
   "cell_type": "code",
   "execution_count": 129,
   "metadata": {
    "ExecuteTime": {
     "end_time": "2022-07-13T08:20:08.829384Z",
     "start_time": "2022-07-13T08:20:08.808452Z"
    },
    "slideshow": {
     "slide_type": "fragment"
    }
   },
   "outputs": [
    {
     "data": {
      "text/plain": [
       "array([ 7.2, 18.8, 19. , 27. , 22.2])"
      ]
     },
     "execution_count": 129,
     "metadata": {},
     "output_type": "execute_result"
    }
   ],
   "source": [
    "test_y[:5]"
   ]
  },
  {
   "cell_type": "markdown",
   "metadata": {
    "slideshow": {
     "slide_type": "slide"
    }
   },
   "source": [
    "# 분류 (Classification)\n",
    "\n",
    "## Fashion MNIST Dataset - 다중분류(Multi-Class Classification) 문제"
   ]
  },
  {
   "cell_type": "markdown",
   "metadata": {
    "slideshow": {
     "slide_type": "fragment"
    }
   },
   "source": [
    "10개의 범주(category)와 70,000개의 흑백 이미지로 구성된 [패션 MNIST](https://github.com/zalandoresearch/fashion-mnist) 데이터셋. \n",
    "이미지는 해상도(28x28 픽셀)가 낮고 다음처럼 개별 의류 품목을 나타낸다:\n",
    "\n",
    "<table>\n",
    "  <tr><td>\n",
    "    <img src=\"https://tensorflow.org/images/fashion-mnist-sprite.png\"\n",
    "         alt=\"Fashion MNIST sprite\"  width=\"600\">\n",
    "  </td></tr>\n",
    "  <tr><td align=\"center\">\n",
    "    <b>그림</b> <a href=\"https://github.com/zalandoresearch/fashion-mnist\">패션-MNIST 샘플</a> (Zalando, MIT License).<br/>&nbsp;\n",
    "  </td></tr>\n",
    "</table>"
   ]
  },
  {
   "cell_type": "markdown",
   "metadata": {
    "slideshow": {
     "slide_type": "fragment"
    }
   },
   "source": [
    "이미지는 28x28 크기이며 Gray scale이다. *레이블*(label)은 0에서 9까지의 정수 배열이다. 아래 표는 이미지에 있는 의류의 **클래스**(class)들이다.\n",
    "\n",
    "<table>\n",
    "  <tr>\n",
    "    <th>레이블</th>\n",
    "    <th>클래스</th>\n",
    "  </tr>\n",
    "  <tr>\n",
    "    <td>0</td>\n",
    "    <td>T-shirt/top</td>\n",
    "  </tr>\n",
    "  <tr>\n",
    "    <td>1</td>\n",
    "    <td>Trousers</td>\n",
    "  </tr>\n",
    "    <tr>\n",
    "    <td>2</td>\n",
    "    <td>Pullover</td>\n",
    "  </tr>\n",
    "    <tr>\n",
    "    <td>3</td>\n",
    "    <td>Dress</td>\n",
    "  </tr>\n",
    "    <tr>\n",
    "    <td>4</td>\n",
    "    <td>Coat</td>\n",
    "  </tr>\n",
    "    <tr>\n",
    "    <td>5</td>\n",
    "    <td>Sandal</td>\n",
    "  </tr>\n",
    "    <tr>\n",
    "    <td>6</td>\n",
    "    <td>Shirt</td>\n",
    "  </tr>\n",
    "    <tr>\n",
    "    <td>7</td>\n",
    "    <td>Sneaker</td>\n",
    "  </tr>\n",
    "    <tr>\n",
    "    <td>8</td>\n",
    "    <td>Bag</td>\n",
    "  </tr>\n",
    "    <tr>\n",
    "    <td>9</td>\n",
    "    <td>Ankle boot</td>\n",
    "  </tr>\n",
    "</table>\n",
    "\n",
    "각 이미지는 하나의 레이블에 매핑되어 있다. 데이터셋에 클래스 이름이 들어있지 않기 때문에 나중에 이미지를 출력할 때 사용하기 위해 별도의 변수를 만들어 저장한다."
   ]
  },
  {
   "cell_type": "code",
   "execution_count": null,
   "metadata": {
    "ExecuteTime": {
     "end_time": "2021-11-03T00:47:06.072078Z",
     "start_time": "2021-11-03T00:47:06.056411Z"
    },
    "slideshow": {
     "slide_type": "slide"
    }
   },
   "outputs": [],
   "source": [
    "import numpy as np\n",
    "import tensorflow as tf\n",
    "from tensorflow import keras\n",
    "from tensorflow.keras import layers\n",
    "import matplotlib.pyplot as plt\n",
    "\n",
    "np.random.seed(0)\n",
    "tf.random.set_seed(0)"
   ]
  },
  {
   "cell_type": "code",
   "execution_count": null,
   "metadata": {
    "ExecuteTime": {
     "end_time": "2021-11-03T00:47:08.417890Z",
     "start_time": "2021-11-03T00:47:08.409857Z"
    },
    "slideshow": {
     "slide_type": "fragment"
    }
   },
   "outputs": [],
   "source": [
    "class_names = np.array(['T-shirt/top', 'Trousers', 'Pullover', 'Dress', 'Coat', 'Sandal', 'Shirt', 'Sneaker', 'Bag', 'Ankle boot'])"
   ]
  },
  {
   "cell_type": "markdown",
   "metadata": {
    "slideshow": {
     "slide_type": "slide"
    }
   },
   "source": [
    "##### Data 로딩"
   ]
  },
  {
   "cell_type": "code",
   "execution_count": null,
   "metadata": {
    "ExecuteTime": {
     "end_time": "2021-11-03T00:47:16.054009Z",
     "start_time": "2021-11-03T00:47:15.714441Z"
    },
    "slideshow": {
     "slide_type": "fragment"
    }
   },
   "outputs": [],
   "source": [
    "(train_image, train_label), (test_image, test_label) = keras.datasets.fashion_mnist.load_data()"
   ]
  },
  {
   "cell_type": "markdown",
   "metadata": {
    "slideshow": {
     "slide_type": "fragment"
    }
   },
   "source": [
    "##### validata set  생성"
   ]
  },
  {
   "cell_type": "code",
   "execution_count": null,
   "metadata": {
    "ExecuteTime": {
     "end_time": "2021-11-03T00:47:26.450100Z",
     "start_time": "2021-11-03T00:47:26.393999Z"
    },
    "slideshow": {
     "slide_type": "fragment"
    }
   },
   "outputs": [],
   "source": [
    "from sklearn.model_selection import train_test_split\n",
    "train_image, val_image, train_label, val_label = train_test_split(train_image, train_label, test_size=0.2, stratify=train_label, random_state=0)"
   ]
  },
  {
   "cell_type": "markdown",
   "metadata": {
    "slideshow": {
     "slide_type": "slide"
    }
   },
   "source": [
    "##### 이미지 확인"
   ]
  },
  {
   "cell_type": "code",
   "execution_count": null,
   "metadata": {
    "ExecuteTime": {
     "end_time": "2021-11-03T00:49:25.876438Z",
     "start_time": "2021-11-03T00:49:25.130004Z"
    },
    "scrolled": false,
    "slideshow": {
     "slide_type": "fragment"
    }
   },
   "outputs": [],
   "source": [
    "plt.figure(figsize=(10,10))\n",
    "for i in range(25):\n",
    "    plt.subplot(5,5,i+1)\n",
    "    plt.xticks([])\n",
    "    plt.yticks([])\n",
    "    plt.imshow(train_image[i], cmap=\"Greys\")\n",
    "    plt.xlabel(class_names[train_label[i]])\n",
    "\n",
    "plt.tight_layout()\n",
    "plt.show()"
   ]
  },
  {
   "cell_type": "markdown",
   "metadata": {
    "slideshow": {
     "slide_type": "slide"
    }
   },
   "source": [
    "#### 하이퍼파라미터, 변수 설정"
   ]
  },
  {
   "cell_type": "code",
   "execution_count": null,
   "metadata": {
    "ExecuteTime": {
     "end_time": "2021-11-03T00:50:08.423973Z",
     "start_time": "2021-11-03T00:50:08.412998Z"
    },
    "slideshow": {
     "slide_type": "fragment"
    }
   },
   "outputs": [],
   "source": [
    "LEARNING_RATE = 0.001\n",
    "N_EPOCHS = 20\n",
    "N_BATCHS = 100\n",
    "\n",
    "N_TRAIN = train_image.shape[0]\n",
    "N_VAL = val_image.shape[0]\n",
    "N_TEST = test_image.shape[0]"
   ]
  },
  {
   "cell_type": "markdown",
   "metadata": {
    "slideshow": {
     "slide_type": "fragment"
    }
   },
   "source": [
    "#### X, y  전처리\n",
    "- y값 처리\n",
    "    - 다중 분류에서 label encoding 형식의 label을 one hot encoding 처리"
   ]
  },
  {
   "cell_type": "code",
   "execution_count": null,
   "metadata": {
    "ExecuteTime": {
     "end_time": "2021-11-03T00:50:14.644235Z",
     "start_time": "2021-11-03T00:50:14.627229Z"
    },
    "slideshow": {
     "slide_type": "fragment"
    }
   },
   "outputs": [],
   "source": [
    "y_train = keras.utils.to_categorical(train_label)\n",
    "y_val = keras.utils.to_categorical(val_label)\n",
    "y_test = keras.utils.to_categorical(test_label)\n",
    "print(y_train.shape, y_val.shape, y_test.shape)"
   ]
  },
  {
   "cell_type": "markdown",
   "metadata": {
    "slideshow": {
     "slide_type": "fragment"
    }
   },
   "source": [
    "- x값(이미지) 처리\n",
    "    - dtype을 uint8에서 float32로 변환한다.\n",
    "    - 0 ~ 1 정규화. X/255.0으로 나눈다.\n",
    "    "
   ]
  },
  {
   "cell_type": "code",
   "execution_count": null,
   "metadata": {
    "ExecuteTime": {
     "end_time": "2021-11-03T00:50:23.474850Z",
     "start_time": "2021-11-03T00:50:23.392977Z"
    },
    "slideshow": {
     "slide_type": "fragment"
    }
   },
   "outputs": [],
   "source": [
    "X_train = train_image.astype(np.float32)\n",
    "X_val = val_image.astype(np.float32)\n",
    "X_test = test_image.astype(np.float32)"
   ]
  },
  {
   "cell_type": "markdown",
   "metadata": {
    "slideshow": {
     "slide_type": "slide"
    }
   },
   "source": [
    "##### Dataset 생성"
   ]
  },
  {
   "cell_type": "code",
   "execution_count": null,
   "metadata": {
    "ExecuteTime": {
     "end_time": "2021-11-03T00:50:46.169253Z",
     "start_time": "2021-11-03T00:50:45.834414Z"
    },
    "slideshow": {
     "slide_type": "fragment"
    }
   },
   "outputs": [],
   "source": [
    "train_dataset = tf.data.Dataset.from_tensor_slices((X_train, y_train))\\\n",
    "                               .map(lambda x, y : (x/255, y))\\\n",
    "                               .shuffle(N_TRAIN)\\\n",
    "                               .batch(N_BATCHS, drop_remainder=True)\n",
    "\n",
    "val_dataset = tf.data.Dataset.from_tensor_slices((X_val, y_val)).map(lambda x, y:(x/255, y)).batch(N_BATCHS)\n",
    "test_dataset = tf.data.Dataset.from_tensor_slices((X_test, y_test)).map(lambda x, y:(x/255, y)).batch(N_BATCHS)"
   ]
  },
  {
   "cell_type": "code",
   "execution_count": null,
   "metadata": {
    "ExecuteTime": {
     "end_time": "2021-11-03T00:50:47.656028Z",
     "start_time": "2021-11-03T00:50:47.641016Z"
    },
    "slideshow": {
     "slide_type": "fragment"
    }
   },
   "outputs": [],
   "source": [
    "X_train.shape"
   ]
  },
  {
   "cell_type": "markdown",
   "metadata": {
    "slideshow": {
     "slide_type": "slide"
    }
   },
   "source": [
    "##### 모델 생성 및 컴파일"
   ]
  },
  {
   "cell_type": "code",
   "execution_count": null,
   "metadata": {
    "ExecuteTime": {
     "end_time": "2021-11-03T00:51:29.420936Z",
     "start_time": "2021-11-03T00:51:29.411925Z"
    },
    "slideshow": {
     "slide_type": "fragment"
    }
   },
   "outputs": [],
   "source": [
    "def create_fashionmnist_model():\n",
    "    model = keras.Sequential()\n",
    "    model.add(layers.Flatten(input_shape=(28,28)))\n",
    "    model.add(layers.Dense(units=256, activation='relu'))\n",
    "    model.add(layers.Dense(units=128, activation='relu'))\n",
    "    model.add(layers.Dense(units=64, activation='relu'))\n",
    "    \n",
    "    model.add(layers.Dense(units=10, activation='softmax'))\n",
    "    \n",
    "    return model"
   ]
  },
  {
   "cell_type": "code",
   "execution_count": null,
   "metadata": {
    "ExecuteTime": {
     "end_time": "2021-11-03T00:51:36.406169Z",
     "start_time": "2021-11-03T00:51:36.339074Z"
    },
    "slideshow": {
     "slide_type": "fragment"
    }
   },
   "outputs": [],
   "source": [
    "model = create_fashionmnist_model()\n",
    "model.compile(optimizer=keras.optimizers.Adam(learning_rate=LEARNING_RATE), \n",
    "              loss='categorical_crossentropy',\n",
    "              metrics=['accuracy'])"
   ]
  },
  {
   "cell_type": "code",
   "execution_count": null,
   "metadata": {
    "ExecuteTime": {
     "end_time": "2021-11-03T00:51:38.364828Z",
     "start_time": "2021-11-03T00:51:38.354855Z"
    },
    "slideshow": {
     "slide_type": "fragment"
    }
   },
   "outputs": [],
   "source": [
    "model.summary()"
   ]
  },
  {
   "cell_type": "code",
   "execution_count": null,
   "metadata": {
    "ExecuteTime": {
     "end_time": "2021-11-03T00:52:05.523556Z",
     "start_time": "2021-11-03T00:52:05.291154Z"
    },
    "slideshow": {
     "slide_type": "fragment"
    }
   },
   "outputs": [],
   "source": [
    "keras.utils.plot_model(model, show_shapes=True, to_file='fashion_mnist_model.png')"
   ]
  },
  {
   "cell_type": "markdown",
   "metadata": {
    "slideshow": {
     "slide_type": "slide"
    }
   },
   "source": [
    "##### Train(학습)"
   ]
  },
  {
   "cell_type": "code",
   "execution_count": null,
   "metadata": {
    "ExecuteTime": {
     "end_time": "2021-11-03T00:52:33.784862Z",
     "start_time": "2021-11-03T00:52:17.884056Z"
    },
    "scrolled": false,
    "slideshow": {
     "slide_type": "fragment"
    }
   },
   "outputs": [],
   "source": [
    "hist = model.fit(train_dataset,\n",
    "                 epochs=N_EPOCHS,\n",
    "                 validation_data=val_dataset)"
   ]
  },
  {
   "cell_type": "markdown",
   "metadata": {
    "slideshow": {
     "slide_type": "fragment"
    }
   },
   "source": [
    "##### 결과 시각화"
   ]
  },
  {
   "cell_type": "code",
   "execution_count": null,
   "metadata": {
    "ExecuteTime": {
     "end_time": "2021-11-03T00:53:47.655062Z",
     "start_time": "2021-11-03T00:53:47.523937Z"
    },
    "slideshow": {
     "slide_type": "fragment"
    }
   },
   "outputs": [],
   "source": [
    "plt.figure(figsize=(7,6))\n",
    "plt.plot(range(1, N_EPOCHS+1), hist.history['loss'], label='train loss')\n",
    "plt.plot(range(1, N_EPOCHS+1), hist.history['val_loss'], label='validation loss')\n",
    "plt.title(\"LOSS\", fontsize=20)\n",
    "plt.xlabel(\"Epochs\")\n",
    "plt.ylabel(\"Loss\")\n",
    "plt.legend()\n",
    "plt.show()"
   ]
  },
  {
   "cell_type": "code",
   "execution_count": null,
   "metadata": {
    "ExecuteTime": {
     "end_time": "2021-11-03T00:54:00.384594Z",
     "start_time": "2021-11-03T00:54:00.250062Z"
    },
    "scrolled": true,
    "slideshow": {
     "slide_type": "fragment"
    }
   },
   "outputs": [],
   "source": [
    "plt.figure(figsize=(7,6))\n",
    "plt.plot(range(1, N_EPOCHS+1), hist.history['accuracy'], label='train accuracy')\n",
    "plt.plot(range(1, N_EPOCHS+1), hist.history['val_accuracy'], label='validation accuracy')\n",
    "plt.title(\"Accuracy\", fontsize=20)\n",
    "plt.xlabel(\"Epochs\")\n",
    "plt.ylabel(\"Accuracy\")\n",
    "plt.legend()\n",
    "plt.show()"
   ]
  },
  {
   "cell_type": "markdown",
   "metadata": {
    "slideshow": {
     "slide_type": "slide"
    }
   },
   "source": [
    "#### 최종평가"
   ]
  },
  {
   "cell_type": "code",
   "execution_count": null,
   "metadata": {
    "ExecuteTime": {
     "end_time": "2021-11-03T00:54:08.281394Z",
     "start_time": "2021-11-03T00:54:07.619852Z"
    },
    "scrolled": true,
    "slideshow": {
     "slide_type": "fragment"
    }
   },
   "outputs": [],
   "source": [
    "loss, accuracy = model.evaluate(test_dataset)"
   ]
  },
  {
   "cell_type": "code",
   "execution_count": null,
   "metadata": {
    "ExecuteTime": {
     "end_time": "2021-11-03T00:54:12.226598Z",
     "start_time": "2021-11-03T00:54:12.218569Z"
    },
    "slideshow": {
     "slide_type": "fragment"
    }
   },
   "outputs": [],
   "source": [
    "print(loss, accuracy)"
   ]
  },
  {
   "cell_type": "markdown",
   "metadata": {},
   "source": [
    "####  모델저장"
   ]
  },
  {
   "cell_type": "code",
   "execution_count": null,
   "metadata": {},
   "outputs": [],
   "source": [
    "model.save('models/fashion_mnist_model')"
   ]
  },
  {
   "cell_type": "markdown",
   "metadata": {
    "slideshow": {
     "slide_type": "slide"
    }
   },
   "source": [
    "#### 새로운 데이터 추론"
   ]
  },
  {
   "cell_type": "code",
   "execution_count": null,
   "metadata": {
    "ExecuteTime": {
     "end_time": "2021-11-03T00:54:17.195599Z",
     "start_time": "2021-11-03T00:54:17.187618Z"
    },
    "slideshow": {
     "slide_type": "fragment"
    }
   },
   "outputs": [],
   "source": [
    "new_input = X_test[:5]\n",
    "new_input = new_input/255.0"
   ]
  },
  {
   "cell_type": "code",
   "execution_count": null,
   "metadata": {
    "ExecuteTime": {
     "end_time": "2021-11-03T00:56:14.884900Z",
     "start_time": "2021-11-03T00:56:14.836879Z"
    },
    "slideshow": {
     "slide_type": "fragment"
    }
   },
   "outputs": [],
   "source": [
    "pred = model.predict(new_input)\n",
    "pred[0]"
   ]
  },
  {
   "cell_type": "code",
   "execution_count": null,
   "metadata": {
    "ExecuteTime": {
     "end_time": "2021-11-03T00:54:20.055845Z",
     "start_time": "2021-11-03T00:54:20.043810Z"
    },
    "slideshow": {
     "slide_type": "fragment"
    }
   },
   "outputs": [],
   "source": [
    "pred_class = np.argmax(pred, axis=-1)\n",
    "pred_class"
   ]
  },
  {
   "cell_type": "code",
   "execution_count": null,
   "metadata": {
    "ExecuteTime": {
     "end_time": "2021-11-03T00:54:25.841265Z",
     "start_time": "2021-11-03T00:54:25.829247Z"
    },
    "slideshow": {
     "slide_type": "fragment"
    }
   },
   "outputs": [],
   "source": [
    "test_label[:5]"
   ]
  },
  {
   "cell_type": "code",
   "execution_count": null,
   "metadata": {
    "ExecuteTime": {
     "end_time": "2021-11-03T00:56:30.733619Z",
     "start_time": "2021-11-03T00:56:30.713647Z"
    },
    "slideshow": {
     "slide_type": "fragment"
    }
   },
   "outputs": [],
   "source": [
    "pred_class_name = class_names[pred_class]\n",
    "pred_class_name"
   ]
  },
  {
   "cell_type": "code",
   "execution_count": null,
   "metadata": {},
   "outputs": [],
   "source": [
    "pred_proba = np.max(pred, axis=-1)\n",
    "pred_proba"
   ]
  },
  {
   "cell_type": "code",
   "execution_count": null,
   "metadata": {},
   "outputs": [],
   "source": [
    "for idx, (name, proba) in enumerate(zip()):\n",
    "    print(f\"{idx}. {name}: {proba:.4f}\")"
   ]
  },
  {
   "cell_type": "markdown",
   "metadata": {
    "slideshow": {
     "slide_type": "slide"
    }
   },
   "source": [
    "## 위스콘신 유방암 데이터셋 - 이진분류(Binary Classification) 문제\n",
    "\n",
    "- **이진 분류 문제 처리 모델의 두가지 방법**\n",
    "    1. positive(1)일 확률을 출력하도록 구현\n",
    "    2. negative(0)일 확률과 positive(1)일 확률을 출력하도록 구현 => 다중분류 처리 방식으로 해결\n",
    "    \n",
    "\n",
    "- 위스콘신 대학교에서 제공한 종양의 악성/양성여부 분류를 위한 데이터셋\n",
    "- Feature\n",
    "    - 종양에 대한 다양한 측정값들\n",
    "- Target의 class\n",
    "    - 0 - malignant(악성종양)\n",
    "    - 1 - benign(양성종양)"
   ]
  },
  {
   "cell_type": "code",
   "execution_count": null,
   "metadata": {
    "ExecuteTime": {
     "end_time": "2021-11-03T00:57:04.860404Z",
     "start_time": "2021-11-03T00:57:04.769013Z"
    },
    "slideshow": {
     "slide_type": "slide"
    }
   },
   "outputs": [],
   "source": [
    "import numpy as np\n",
    "import tensorflow as tf\n",
    "from tensorflow import keras\n",
    "from tensorflow.keras import layers\n",
    "\n",
    "from sklearn.datasets import load_breast_cancer\n",
    "from sklearn.preprocessing import StandardScaler\n",
    "from sklearn.model_selection import train_test_split\n",
    "\n",
    "np.random.seed(0)\n",
    "tf.random.set_seed(0)"
   ]
  },
  {
   "cell_type": "markdown",
   "metadata": {
    "slideshow": {
     "slide_type": "slide"
    }
   },
   "source": [
    "##### 데이터 로딩, train/validation/test set 나누기"
   ]
  },
  {
   "cell_type": "code",
   "execution_count": null,
   "metadata": {
    "ExecuteTime": {
     "end_time": "2021-11-03T00:57:07.145465Z",
     "start_time": "2021-11-03T00:57:07.116460Z"
    },
    "slideshow": {
     "slide_type": "fragment"
    }
   },
   "outputs": [],
   "source": [
    "X, y = load_breast_cancer(return_X_y=True)\n",
    "X.shape, y.shape"
   ]
  },
  {
   "cell_type": "code",
   "execution_count": null,
   "metadata": {
    "ExecuteTime": {
     "end_time": "2021-11-03T00:57:08.000145Z",
     "start_time": "2021-11-03T00:57:07.964172Z"
    },
    "slideshow": {
     "slide_type": "fragment"
    }
   },
   "outputs": [],
   "source": [
    "X_train, X_test, y_train, y_test = train_test_split(X, y, test_size=0.2, stratify=y, random_state=0)\n",
    "\n",
    "X_train, X_val, y_train, y_val = train_test_split(X_train, y_train, test_size=0.2, stratify=y_train, random_state=0)\n",
    "\n",
    "X_train.shape, X_val.shape, X_test.shape"
   ]
  },
  {
   "cell_type": "code",
   "execution_count": null,
   "metadata": {
    "ExecuteTime": {
     "end_time": "2021-11-03T00:57:08.931182Z",
     "start_time": "2021-11-03T00:57:08.907148Z"
    },
    "slideshow": {
     "slide_type": "fragment"
    }
   },
   "outputs": [],
   "source": [
    "X_train[:3]"
   ]
  },
  {
   "cell_type": "code",
   "execution_count": null,
   "metadata": {
    "ExecuteTime": {
     "end_time": "2021-11-03T00:57:09.945394Z",
     "start_time": "2021-11-03T00:57:09.932401Z"
    },
    "slideshow": {
     "slide_type": "fragment"
    }
   },
   "outputs": [],
   "source": [
    "y_train[:3]"
   ]
  },
  {
   "cell_type": "markdown",
   "metadata": {
    "slideshow": {
     "slide_type": "slide"
    }
   },
   "source": [
    "#### 하이퍼파라미터, 변수 정의"
   ]
  },
  {
   "cell_type": "code",
   "execution_count": null,
   "metadata": {
    "ExecuteTime": {
     "end_time": "2021-11-03T00:57:16.677364Z",
     "start_time": "2021-11-03T00:57:16.673362Z"
    },
    "slideshow": {
     "slide_type": "fragment"
    }
   },
   "outputs": [],
   "source": [
    "LEARNING_RATE = 0.001\n",
    "N_EPOCHS = 150\n",
    "N_BATCHS = 50\n",
    "\n",
    "N_TRAIN = X_train.shape[0]\n",
    "N_VAL = X_val.shape[0]\n",
    "N_TEST = X_test.shape[0]"
   ]
  },
  {
   "cell_type": "markdown",
   "metadata": {
    "slideshow": {
     "slide_type": "fragment"
    }
   },
   "source": [
    "#### 데이터 전처리\n",
    "- 이진 분류\n",
    "    - 출력 레이어의 unit을 1개, activation 함수를 sigmoid를 사용하는 경우(1일 확률) => y:그대로 사용\n",
    "    - 출력 레이어의 unit을 2개, activation 함수를 sofmax를 사용하는 경우(0일 확률, 1일 확률) - 다중분류와 동일하게 구현 => y: one hot encoding\n",
    "- X: 테이블데이터\n",
    "    - 문자열(범주형): one hot encoding\n",
    "    - 연속형(수치형): feature scaling"
   ]
  },
  {
   "cell_type": "code",
   "execution_count": null,
   "metadata": {
    "ExecuteTime": {
     "end_time": "2021-11-03T00:57:18.884049Z",
     "start_time": "2021-11-03T00:57:18.866052Z"
    },
    "slideshow": {
     "slide_type": "fragment"
    }
   },
   "outputs": [],
   "source": [
    "scaler = StandardScaler()\n",
    "\n",
    "X_train_scaled = scaler.fit_transform(X_train)\n",
    "X_val_scaled = scaler.transform(X_val)\n",
    "X_test_scaled = scaler.transform(X_test)"
   ]
  },
  {
   "cell_type": "markdown",
   "metadata": {
    "slideshow": {
     "slide_type": "slide"
    }
   },
   "source": [
    "#### Dataset 생성"
   ]
  },
  {
   "cell_type": "code",
   "execution_count": null,
   "metadata": {
    "ExecuteTime": {
     "end_time": "2021-11-03T00:57:21.197269Z",
     "start_time": "2021-11-03T00:57:21.171240Z"
    },
    "slideshow": {
     "slide_type": "fragment"
    }
   },
   "outputs": [],
   "source": [
    "train_dataset = tf.data.Dataset.from_tensor_slices((X_train_scaled, y_train)).shuffle(N_TRAIN).batch(N_BATCHS, drop_remainder=True)\n",
    "\n",
    "val_dataset = tf.data.Dataset.from_tensor_slices((X_val_scaled, y_val)).batch(N_BATCHS)\n",
    "\n",
    "test_dataset = tf.data.Dataset.from_tensor_slices((X_test_scaled, y_test)).batch(N_BATCHS)"
   ]
  },
  {
   "cell_type": "markdown",
   "metadata": {
    "slideshow": {
     "slide_type": "slide"
    }
   },
   "source": [
    "#### model 생성, 컴파일"
   ]
  },
  {
   "cell_type": "code",
   "execution_count": null,
   "metadata": {
    "ExecuteTime": {
     "end_time": "2021-11-03T00:58:17.940097Z",
     "start_time": "2021-11-03T00:58:17.923072Z"
    },
    "slideshow": {
     "slide_type": "fragment"
    }
   },
   "outputs": [],
   "source": [
    "def create_wisconsin_model():\n",
    "    model = keras.Sequential()\n",
    "    model.add(layers.Dense(units=32, activation='relu', input_shape=(30, )))\n",
    "    model.add(layers.Dense(units=16, activation='relu'))\n",
    "    model.add(layers.Dense(units=8, activation='relu'))\n",
    "    \n",
    "    model.add(layers.Dense(units=1, activation='sigmoid', name='Output_layer'))\n",
    "    \n",
    "    return model"
   ]
  },
  {
   "cell_type": "code",
   "execution_count": null,
   "metadata": {
    "ExecuteTime": {
     "end_time": "2021-11-03T00:58:25.622242Z",
     "start_time": "2021-11-03T00:58:25.571472Z"
    },
    "slideshow": {
     "slide_type": "fragment"
    }
   },
   "outputs": [],
   "source": [
    "model = create_wisconsin_model()\n",
    "model.compile(optimizer=keras.optimizers.Adam(learning_rate=LEARNING_RATE), \n",
    "              loss='binary_crossentropy',\n",
    "              metrics=['accuracy'])"
   ]
  },
  {
   "cell_type": "code",
   "execution_count": null,
   "metadata": {
    "ExecuteTime": {
     "end_time": "2021-11-03T00:58:27.279253Z",
     "start_time": "2021-11-03T00:58:27.259253Z"
    },
    "slideshow": {
     "slide_type": "fragment"
    }
   },
   "outputs": [],
   "source": [
    "model.summary()"
   ]
  },
  {
   "cell_type": "code",
   "execution_count": null,
   "metadata": {
    "ExecuteTime": {
     "end_time": "2021-11-03T00:58:28.701187Z",
     "start_time": "2021-11-03T00:58:28.466270Z"
    },
    "slideshow": {
     "slide_type": "fragment"
    }
   },
   "outputs": [],
   "source": [
    "keras.utils.plot_model(model, show_shapes=True, to_file='cancer_model.png')"
   ]
  },
  {
   "cell_type": "markdown",
   "metadata": {
    "slideshow": {
     "slide_type": "slide"
    }
   },
   "source": [
    "#### Train(학습)"
   ]
  },
  {
   "cell_type": "code",
   "execution_count": null,
   "metadata": {
    "ExecuteTime": {
     "end_time": "2021-11-03T00:58:48.642635Z",
     "start_time": "2021-11-03T00:58:37.854173Z"
    },
    "slideshow": {
     "slide_type": "fragment"
    }
   },
   "outputs": [],
   "source": [
    "hist = model.fit(train_dataset, epochs=N_EPOCHS, validation_data=val_dataset)"
   ]
  },
  {
   "cell_type": "markdown",
   "metadata": {
    "slideshow": {
     "slide_type": "fragment"
    }
   },
   "source": [
    "#### 결과 시각화"
   ]
  },
  {
   "cell_type": "code",
   "execution_count": null,
   "metadata": {
    "ExecuteTime": {
     "end_time": "2021-11-03T00:58:56.334708Z",
     "start_time": "2021-11-03T00:58:56.043653Z"
    },
    "scrolled": true,
    "slideshow": {
     "slide_type": "fragment"
    }
   },
   "outputs": [],
   "source": [
    "import matplotlib.pyplot as plt\n",
    "\n",
    "plt.figure(figsize=(7,6))\n",
    "plt.plot(range(1, N_EPOCHS+1), hist.history['loss'], label='Train Loss')\n",
    "plt.plot(range(1, N_EPOCHS+1), hist.history['val_loss'], label='Validation Loss')\n",
    "plt.title('Loss', fontsize=20)\n",
    "plt.xlabel('Epochs')\n",
    "plt.ylabel('Loss')\n",
    "plt.legend()\n",
    "plt.show()"
   ]
  },
  {
   "cell_type": "code",
   "execution_count": null,
   "metadata": {
    "ExecuteTime": {
     "end_time": "2021-11-03T00:59:03.092059Z",
     "start_time": "2021-11-03T00:59:02.953881Z"
    },
    "scrolled": true,
    "slideshow": {
     "slide_type": "fragment"
    }
   },
   "outputs": [],
   "source": [
    "plt.figure(figsize=(7,6))\n",
    "plt.plot(range(1, N_EPOCHS+1), hist.history['accuracy'], label='Train Accuracy')\n",
    "plt.plot(range(1, N_EPOCHS+1), hist.history['val_accuracy'], label='Validation Accuracy')\n",
    "plt.title('Accuracy', fontsize=20)\n",
    "plt.xlabel('Epochs')\n",
    "plt.ylabel('Accuracy')\n",
    "plt.legend()\n",
    "plt.show()"
   ]
  },
  {
   "cell_type": "markdown",
   "metadata": {
    "slideshow": {
     "slide_type": "slide"
    }
   },
   "source": [
    "#### 최종평가"
   ]
  },
  {
   "cell_type": "code",
   "execution_count": null,
   "metadata": {
    "ExecuteTime": {
     "end_time": "2021-11-03T00:59:14.751255Z",
     "start_time": "2021-11-03T00:59:14.715247Z"
    },
    "slideshow": {
     "slide_type": "fragment"
    }
   },
   "outputs": [],
   "source": [
    "loss, acc = model.evaluate(test_dataset)"
   ]
  },
  {
   "cell_type": "code",
   "execution_count": null,
   "metadata": {
    "ExecuteTime": {
     "end_time": "2021-11-03T00:59:16.738914Z",
     "start_time": "2021-11-03T00:59:16.732879Z"
    },
    "slideshow": {
     "slide_type": "fragment"
    }
   },
   "outputs": [],
   "source": [
    "print(loss, acc)"
   ]
  },
  {
   "cell_type": "markdown",
   "metadata": {},
   "source": [
    "#### 모델저장"
   ]
  },
  {
   "cell_type": "code",
   "execution_count": null,
   "metadata": {},
   "outputs": [],
   "source": [
    "model.save('models/breast_cancer_model')"
   ]
  },
  {
   "cell_type": "markdown",
   "metadata": {
    "slideshow": {
     "slide_type": "slide"
    }
   },
   "source": [
    "#### 새로운 데이터 추론"
   ]
  },
  {
   "cell_type": "code",
   "execution_count": null,
   "metadata": {
    "ExecuteTime": {
     "end_time": "2021-11-03T00:59:19.086745Z",
     "start_time": "2021-11-03T00:59:19.083739Z"
    },
    "slideshow": {
     "slide_type": "fragment"
    }
   },
   "outputs": [],
   "source": [
    "new_data = X_test[:5]\n",
    "new_data_scaled = scaler.transform(new_data)"
   ]
  },
  {
   "cell_type": "code",
   "execution_count": null,
   "metadata": {
    "ExecuteTime": {
     "end_time": "2021-11-03T00:59:20.263087Z",
     "start_time": "2021-11-03T00:59:20.179596Z"
    },
    "slideshow": {
     "slide_type": "fragment"
    }
   },
   "outputs": [],
   "source": [
    "pred = model.predict(new_data_scaled)"
   ]
  },
  {
   "cell_type": "code",
   "execution_count": null,
   "metadata": {
    "ExecuteTime": {
     "end_time": "2021-11-03T00:59:21.138066Z",
     "start_time": "2021-11-03T00:59:21.123054Z"
    },
    "slideshow": {
     "slide_type": "fragment"
    }
   },
   "outputs": [],
   "source": [
    "pred"
   ]
  },
  {
   "cell_type": "code",
   "execution_count": null,
   "metadata": {
    "ExecuteTime": {
     "end_time": "2021-11-03T00:59:26.647416Z",
     "start_time": "2021-11-03T00:59:26.635411Z"
    },
    "slideshow": {
     "slide_type": "fragment"
    }
   },
   "outputs": [],
   "source": [
    "threshold = 0.5\n",
    "result = (pred > threshold).astype(np.int8)\n",
    "result"
   ]
  },
  {
   "cell_type": "code",
   "execution_count": null,
   "metadata": {
    "ExecuteTime": {
     "end_time": "2021-11-03T00:59:31.142907Z",
     "start_time": "2021-11-03T00:59:31.130884Z"
    },
    "slideshow": {
     "slide_type": "fragment"
    }
   },
   "outputs": [],
   "source": [
    "result_label = np.where(pred > threshold, \"양성-1\", \"악성-0\")\n",
    "result_label"
   ]
  },
  {
   "cell_type": "markdown",
   "metadata": {
    "slideshow": {
     "slide_type": "slide"
    }
   },
   "source": [
    "# Tensorflow 2.3이하 버전에서 Train dataset 구성 및 학습 \n",
    "- 위의 코드들은 2.4 이후 버전\n",
    "- 2.3 이하버전에서는 \n",
    "    1. train_dataset 구성시 repeat()를 추가\n",
    "    2. 학습시에 train/validation 1 epoch당 step 횟수를 추가\n",
    "        - steps_per_epoch: train set 에 대한 step 횟수\n",
    "        - validation_steps: validation set 에 대한 step 횟수"
   ]
  },
  {
   "cell_type": "code",
   "execution_count": null,
   "metadata": {
    "ExecuteTime": {
     "end_time": "2021-11-03T01:02:04.237421Z",
     "start_time": "2021-11-03T01:02:04.214435Z"
    },
    "slideshow": {
     "slide_type": "fragment"
    }
   },
   "outputs": [],
   "source": [
    "train_dataset2 = tf.data.Dataset.from_tensor_slices((X_train_scaled, y_train)).shuffle(N_TRAIN).batch(N_BATCHS, drop_remainder=True).repeat()\n",
    "\n",
    "val_dataset2 = tf.data.Dataset.from_tensor_slices((X_val_scaled, y_val)).batch(N_BATCHS)\n",
    "test_dataset2 = tf.data.Dataset.from_tensor_slices((X_test_scaled, y_test)).batch(N_BATCHS)"
   ]
  },
  {
   "cell_type": "code",
   "execution_count": null,
   "metadata": {
    "ExecuteTime": {
     "end_time": "2021-11-03T01:03:43.772869Z",
     "start_time": "2021-11-03T01:03:43.765843Z"
    },
    "slideshow": {
     "slide_type": "fragment"
    }
   },
   "outputs": [],
   "source": [
    "steps_per_epoch = N_TRAIN // N_BATCHS #repeat() 때문에 len()을 사용못함\n",
    "validation_steps = len(val_dataset2) #len(Dataset): step수 반환\n",
    "print(steps_per_epoch, validation_steps)"
   ]
  },
  {
   "cell_type": "code",
   "execution_count": null,
   "metadata": {
    "ExecuteTime": {
     "end_time": "2021-11-03T01:03:44.457988Z",
     "start_time": "2021-11-03T01:03:44.410963Z"
    },
    "slideshow": {
     "slide_type": "fragment"
    }
   },
   "outputs": [],
   "source": [
    "model = create_wisconsin_model()\n",
    "model.compile(optimizer=keras.optimizers.Adam(learning_rate=LEARNING_RATE), \n",
    "              loss='binary_crossentropy',\n",
    "              metrics=['accuracy'])"
   ]
  },
  {
   "cell_type": "code",
   "execution_count": null,
   "metadata": {
    "ExecuteTime": {
     "end_time": "2021-11-03T01:03:51.545411Z",
     "start_time": "2021-11-03T01:03:50.882537Z"
    },
    "scrolled": true,
    "slideshow": {
     "slide_type": "fragment"
    }
   },
   "outputs": [],
   "source": [
    "model.fit(train_dataset2, \n",
    "          steps_per_epoch=steps_per_epoch,\n",
    "          validation_data=val_dataset2,\n",
    "          validation_steps=validation_steps, \n",
    "          epochs=10)"
   ]
  }
 ],
 "metadata": {
  "kernelspec": {
   "display_name": "Python 3 (ipykernel)",
   "language": "python",
   "name": "python3"
  },
  "language_info": {
   "codemirror_mode": {
    "name": "ipython",
    "version": 3
   },
   "file_extension": ".py",
   "mimetype": "text/x-python",
   "name": "python",
   "nbconvert_exporter": "python",
   "pygments_lexer": "ipython3",
   "version": "3.9.12"
  },
  "toc": {
   "base_numbering": 1,
   "nav_menu": {},
   "number_sections": false,
   "sideBar": true,
   "skip_h1_title": false,
   "title_cell": "Table of Contents",
   "title_sidebar": "Contents",
   "toc_cell": false,
   "toc_position": {},
   "toc_section_display": true,
   "toc_window_display": false
  },
  "varInspector": {
   "cols": {
    "lenName": 16,
    "lenType": 16,
    "lenVar": 40
   },
   "kernels_config": {
    "python": {
     "delete_cmd_postfix": "",
     "delete_cmd_prefix": "del ",
     "library": "var_list.py",
     "varRefreshCmd": "print(var_dic_list())"
    },
    "r": {
     "delete_cmd_postfix": ") ",
     "delete_cmd_prefix": "rm(",
     "library": "var_list.r",
     "varRefreshCmd": "cat(var_dic_list()) "
    }
   },
   "position": {
    "height": "144.844px",
    "left": "1322px",
    "right": "20px",
    "top": "162px",
    "width": "350px"
   },
   "types_to_exclude": [
    "module",
    "function",
    "builtin_function_or_method",
    "instance",
    "_Feature"
   ],
   "window_display": false
  }
 },
 "nbformat": 4,
 "nbformat_minor": 2
}
