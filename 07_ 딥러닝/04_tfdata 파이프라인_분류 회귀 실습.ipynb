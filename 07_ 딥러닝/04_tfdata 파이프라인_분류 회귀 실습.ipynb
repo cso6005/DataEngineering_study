{
 "cells": [
  {
   "cell_type": "markdown",
   "metadata": {
    "slideshow": {
     "slide_type": "slide"
    }
   },
   "source": [
    "# tf.data 모듈\n",
    "- 데이터 입력 파이프라인을 위한 모듈 : 모델에 입력해줄 데이터를 만드는 파이프라인\n",
    "    - 모델 학습/평가를 위한 대용량 데이터셋을 제공(feeding)하기 위한 모듈\n",
    "    - 단계로 나눠진 처리(함수-데이터를 받아 처리하는)들이 파이프라인으로 묶여\n",
    "    - raw dataset 에서 입력을 위한 **전처리**, **배치 크키**, **shuffling**등을 한번에 처리할 수 있게 한다.\n",
    "- tf.data.Dataset 추상클래스에서 상속된 여러가지 클래스들을 제공\n",
    "    - 입력 소스의 제공 형태에 따라 다양한 방식을 제공"
   ]
  },
  {
   "cell_type": "markdown",
   "metadata": {
    "slideshow": {
     "slide_type": "fragment"
    }
   },
   "source": [
    "## Dataset API 사용\n",
    "1. **Dataset 생성**\n",
    "    - raw dataset을 지정 (Loading)\n",
    "    - from_tensor_slices(), from_generator() 클래스 메소드, tf.data.TFRecordDataset 클래스 등을 사용해 메모리나 파일에 있는 데이터를 Dataset으로 만든다.\n",
    "    - **from_tensor_slices()**: 메모리의 리스트, 넘파이배열, 텐서플로 자료형에서 데이터를 생성한다. 주로 이거 쓸 것이다."
   ]
  },
  {
   "cell_type": "markdown",
   "metadata": {
    "slideshow": {
     "slide_type": "fragment"
    }
   },
   "source": [
    "2. **제공 데이터 전처리**\n",
    "    - **map(함수)**: 하나 하나의 데이터를 변환\n",
    "        - 함수: 값을 변환할 함수로 입력데이터셋의 개수만큼 매개변수 선언\n",
    "    - **filter(함수)**: 특정 조건의 데이터만 제공하도록 처리.\n",
    "        - 함수: 제공할 값의 조건을 정의한 함수로 입력데이터셋의 개수만큼 매개변수 선언하고 bool 값을 반환."
   ]
  },
  {
   "cell_type": "markdown",
   "metadata": {
    "slideshow": {
     "slide_type": "fragment"
    }
   },
   "source": [
    "3. **데이터 제공 설정 관련**\n",
    "    - **batch(size)**: 학습/평가시 한번에 제공할 batch size 지정\n",
    "        - size: int. batch size 지정\n",
    "        - drop_remainder: bool. True일 경우 마지막 제공시 남은 데이터수가 batch size보다 작으면 제공하지 않는다.\n",
    "    - **shuffle(buffer 크기)**: dataset의 원소들의 순서를 섞어서 제공한다. - 1 epoch  한 번 데이터셋 처리할 때마다 섞는다.  \n",
    "        - buffer 크기: int. buffer 크기는 섞는 공간의 크기로  **데이터보다 크거나 같으면** 완전셔플, **적으면 일부만 가져와서 섞어** 완전셔플이 안된다.\n",
    "            - 내부적으로 섞는게 아니라 메모리 임시공간(buffer) 에서 섞는다.여기에 얼만큼 들고올지 size 를 결정할 수 있다.\n",
    "        - 데이터 사이즈가 너무 커서 메모리가 부족할 경우 버퍼크기를 적게 준다.\n",
    "        - 메모리가 충분하다면 데이터의 개수와 동일하게 주면된다.\n",
    "    - **repeat(count)**: 전체 데이터를 한번 다 제공한 뒤 다시 데이터를 제공한다.\n",
    "        - count: 몇번 제공할지 반복 횟수\n",
    "        - shuffle이 적용된 Dataset의 경우 다음 반복 제공마다 shuffle을 진행한다. (에폭단위)\n",
    "        "
   ]
  },
  {
   "cell_type": "markdown",
   "metadata": {
    "slideshow": {
     "slide_type": "fragment"
    }
   },
   "source": [
    "- 각 tf.data 함수들은 각 기능에 맞게 데이터를 처리하는 Dataset 객체를 반환한다."
   ]
  },
  {
   "cell_type": "markdown",
   "metadata": {
    "slideshow": {
     "slide_type": "fragment"
    }
   },
   "source": [
    "### Dataset 메소드\n",
    "- take(개수): 지정한 개수만큼의 데이터만 제공한다."
   ]
  },
  {
   "cell_type": "code",
   "execution_count": 97,
   "metadata": {
    "ExecuteTime": {
     "end_time": "2021-11-03T00:17:05.174429Z",
     "start_time": "2021-11-03T00:16:59.147864Z"
    },
    "slideshow": {
     "slide_type": "slide"
    }
   },
   "outputs": [],
   "source": [
    "import tensorflow as tf\n",
    "import numpy as np"
   ]
  },
  {
   "cell_type": "markdown",
   "metadata": {
    "slideshow": {
     "slide_type": "fragment"
    }
   },
   "source": [
    "##### Tensor\n",
    "- TensorFlow의 기본 data type. \n",
    "\n",
    "tf.Tensor : tensorflow 의 data 자료구조\n",
    "\n",
    "- numpy가 ndarray를 이용해 데이터를 관리하듯이 tensorflow를 Tensor를 이용해 데이터를 관리한다.\n",
    "    - Tensor 의 모델이 학습, 평가할 때 사용하는 데이터셋(train dataset, validation dataset, test dataset ) 은 tf.Tensor 타입이어야 한다.\n",
    "        - 학습/평가(model.fit(), model.evaluate()) 할 때 ndarray 를 입력 데이터셋으로 넣어주면 내부적으로 tf.Tensor 로 변형해서 처리.\n",
    "        - tf.Tensor 는 데이터 셋을 ndarray 로 가지고 있다."
   ]
  },
  {
   "cell_type": "code",
   "execution_count": 98,
   "metadata": {
    "ExecuteTime": {
     "end_time": "2021-11-03T00:17:11.522584Z",
     "start_time": "2021-11-03T00:17:06.881850Z"
    },
    "slideshow": {
     "slide_type": "fragment"
    }
   },
   "outputs": [
    {
     "data": {
      "text/plain": [
       "<tf.Tensor: shape=(3,), dtype=float32, numpy=array([1., 2., 3.], dtype=float32)>"
      ]
     },
     "execution_count": 98,
     "metadata": {},
     "output_type": "execute_result"
    }
   ],
   "source": [
    "t = tf.constant([1,2,3], dtype=\"float32\")\n",
    "t"
   ]
  },
  {
   "cell_type": "code",
   "execution_count": 99,
   "metadata": {
    "ExecuteTime": {
     "end_time": "2021-11-03T00:17:13.119903Z",
     "start_time": "2021-11-03T00:17:13.114902Z"
    },
    "slideshow": {
     "slide_type": "fragment"
    }
   },
   "outputs": [
    {
     "data": {
      "text/plain": [
       "array([1., 2., 3.], dtype=float32)"
      ]
     },
     "execution_count": 99,
     "metadata": {},
     "output_type": "execute_result"
    }
   ],
   "source": [
    "# tensor=>numpy 변환\n",
    "a = t.numpy()\n",
    "a"
   ]
  },
  {
   "cell_type": "code",
   "execution_count": 100,
   "metadata": {
    "ExecuteTime": {
     "end_time": "2021-11-03T00:17:14.439481Z",
     "start_time": "2021-11-03T00:17:14.428482Z"
    },
    "slideshow": {
     "slide_type": "fragment"
    }
   },
   "outputs": [
    {
     "data": {
      "text/plain": [
       "<tf.Tensor: shape=(3,), dtype=float32, numpy=array([1., 2., 3.], dtype=float32)>"
      ]
     },
     "execution_count": 100,
     "metadata": {},
     "output_type": "execute_result"
    }
   ],
   "source": [
    "# numpy/list => tensor 변환\n",
    "t2 = tf.constant(a)\n",
    "t2"
   ]
  },
  {
   "cell_type": "code",
   "execution_count": 101,
   "metadata": {
    "ExecuteTime": {
     "end_time": "2021-11-03T00:17:15.642829Z",
     "start_time": "2021-11-03T00:17:15.636860Z"
    },
    "slideshow": {
     "slide_type": "fragment"
    }
   },
   "outputs": [
    {
     "data": {
      "text/plain": [
       "<tf.Tensor: shape=(3,), dtype=float32, numpy=array([1., 2., 3.], dtype=float32)>"
      ]
     },
     "execution_count": 101,
     "metadata": {},
     "output_type": "execute_result"
    }
   ],
   "source": [
    "# numpy/list => tensor 변환\n",
    "t3 = tf.convert_to_tensor(a)\n",
    "t3"
   ]
  },
  {
   "cell_type": "markdown",
   "metadata": {
    "slideshow": {
     "slide_type": "slide"
    }
   },
   "source": [
    "## Dataset 예제"
   ]
  },
  {
   "cell_type": "markdown",
   "metadata": {},
   "source": [
    "##### 단계적으로 쪼개서 설명"
   ]
  },
  {
   "cell_type": "code",
   "execution_count": 102,
   "metadata": {
    "ExecuteTime": {
     "end_time": "2021-11-03T00:17:20.287779Z",
     "start_time": "2021-11-03T00:17:20.266782Z"
    },
    "slideshow": {
     "slide_type": "fragment"
    }
   },
   "outputs": [
    {
     "data": {
      "text/plain": [
       "array([0, 1, 2, 3, 4, 5, 6, 7, 8, 9])"
      ]
     },
     "execution_count": 102,
     "metadata": {},
     "output_type": "execute_result"
    }
   ],
   "source": [
    "raw_data1 = np.arange(10) # raw_data \n",
    "raw_data1 # ndarray -> 메모리"
   ]
  },
  {
   "cell_type": "code",
   "execution_count": 103,
   "metadata": {
    "ExecuteTime": {
     "end_time": "2021-11-03T00:17:22.506375Z",
     "start_time": "2021-11-03T00:17:22.491362Z"
    },
    "slideshow": {
     "slide_type": "fragment"
    }
   },
   "outputs": [
    {
     "name": "stdout",
     "output_type": "stream",
     "text": [
      "<class 'tensorflow.python.data.ops.dataset_ops.TensorSliceDataset'>\n"
     ]
    }
   ],
   "source": [
    "# 메모리에 있는 ndarray(Tensor) 등 을 읽어 들이는 Dataset 을 생성. \n",
    "# Dataset.from_tensor_slices(변수) 클래스 메소드를 사용. \n",
    "# 여기에 배열 객체를 넣으면 데이터셋으로 만들어준다.\n",
    "\n",
    "dataset = tf.data.Dataset.from_tensor_slices(raw_data1)\n",
    "print(type(dataset)) \n",
    "\n",
    "# .TensorSliceDataset \n",
    "# Dataset 생성 시 데이터를 읽어오거나 처리하지 않는다. - 이게 더 효율적. 미리할 필요없\n",
    "#  그 데이터셋을 사용하는 시점(모델학습, 평가) 에 읽어온다. ==> Lazy 실행 라 한다."
   ]
  },
  {
   "cell_type": "code",
   "execution_count": 104,
   "metadata": {
    "ExecuteTime": {
     "end_time": "2021-11-01T08:12:25.809643Z",
     "start_time": "2021-11-01T08:12:25.784653Z"
    },
    "slideshow": {
     "slide_type": "fragment"
    }
   },
   "outputs": [
    {
     "name": "stdout",
     "output_type": "stream",
     "text": [
      "tf.Tensor(0, shape=(), dtype=int32)\n",
      "tf.Tensor(1, shape=(), dtype=int32)\n",
      "tf.Tensor(2, shape=(), dtype=int32)\n",
      "tf.Tensor(3, shape=(), dtype=int32)\n",
      "tf.Tensor(4, shape=(), dtype=int32)\n",
      "tf.Tensor(5, shape=(), dtype=int32)\n",
      "tf.Tensor(6, shape=(), dtype=int32)\n",
      "tf.Tensor(7, shape=(), dtype=int32)\n",
      "tf.Tensor(8, shape=(), dtype=int32)\n",
      "tf.Tensor(9, shape=(), dtype=int32)\n"
     ]
    }
   ],
   "source": [
    "# Data 들을 iterable 타입(for in 문에서 사용할 수 있다.)\n",
    "# for in 문 Dataset이 가지고 있는 원소들(데이터들)을 하나씩(batch size 단위) 제공한다.\n",
    "# 이렇게 학습하는 batch 별로 내용들이 들어가 학습하는 것이다.\n",
    "\n",
    "for data in dataset:\n",
    "    print(data)"
   ]
  },
  {
   "cell_type": "code",
   "execution_count": null,
   "metadata": {},
   "outputs": [],
   "source": []
  },
  {
   "cell_type": "markdown",
   "metadata": {
    "slideshow": {
     "slide_type": "slide"
    }
   },
   "source": [
    "##### x, y 묶어서 제공\n",
    "- 두개 이상의 데이터셋을 묶어서 제공할 경우 Tuple로 묶어준다.\n",
    "    - Dataset이 feeding 할 때는 같은 index의 값들을 tuple로 묶어서 제공 (zip()과 동일)"
   ]
  },
  {
   "cell_type": "code",
   "execution_count": 105,
   "metadata": {
    "ExecuteTime": {
     "end_time": "2021-11-03T00:17:25.027859Z",
     "start_time": "2021-11-03T00:17:25.010861Z"
    },
    "slideshow": {
     "slide_type": "fragment"
    }
   },
   "outputs": [
    {
     "data": {
      "text/plain": [
       "array([10, 11, 12, 13, 14, 15, 16, 17, 18, 19])"
      ]
     },
     "execution_count": 105,
     "metadata": {},
     "output_type": "execute_result"
    }
   ],
   "source": [
    "raw_data2 = np.arange(10,20)\n",
    "raw_data2"
   ]
  },
  {
   "cell_type": "code",
   "execution_count": 106,
   "metadata": {
    "ExecuteTime": {
     "end_time": "2021-11-03T00:17:26.648816Z",
     "start_time": "2021-11-03T00:17:26.635809Z"
    },
    "slideshow": {
     "slide_type": "fragment"
    }
   },
   "outputs": [
    {
     "name": "stdout",
     "output_type": "stream",
     "text": [
      "[0 1 2 3 4 5 6 7 8 9]\n",
      "[10 11 12 13 14 15 16 17 18 19]\n"
     ]
    }
   ],
   "source": [
    "print(raw_data1)\n",
    "print(raw_data2)"
   ]
  },
  {
   "cell_type": "code",
   "execution_count": 107,
   "metadata": {
    "ExecuteTime": {
     "end_time": "2021-11-01T08:13:24.646546Z",
     "start_time": "2021-11-01T08:13:24.624519Z"
    },
    "slideshow": {
     "slide_type": "fragment"
    }
   },
   "outputs": [
    {
     "name": "stdout",
     "output_type": "stream",
     "text": [
      "tf.Tensor(0, shape=(), dtype=int32)|||tf.Tensor(10, shape=(), dtype=int32)\n",
      "tf.Tensor(1, shape=(), dtype=int32)|||tf.Tensor(11, shape=(), dtype=int32)\n",
      "tf.Tensor(2, shape=(), dtype=int32)|||tf.Tensor(12, shape=(), dtype=int32)\n",
      "tf.Tensor(3, shape=(), dtype=int32)|||tf.Tensor(13, shape=(), dtype=int32)\n",
      "tf.Tensor(4, shape=(), dtype=int32)|||tf.Tensor(14, shape=(), dtype=int32)\n",
      "tf.Tensor(5, shape=(), dtype=int32)|||tf.Tensor(15, shape=(), dtype=int32)\n",
      "tf.Tensor(6, shape=(), dtype=int32)|||tf.Tensor(16, shape=(), dtype=int32)\n",
      "tf.Tensor(7, shape=(), dtype=int32)|||tf.Tensor(17, shape=(), dtype=int32)\n",
      "tf.Tensor(8, shape=(), dtype=int32)|||tf.Tensor(18, shape=(), dtype=int32)\n",
      "tf.Tensor(9, shape=(), dtype=int32)|||tf.Tensor(19, shape=(), dtype=int32)\n"
     ]
    }
   ],
   "source": [
    "dataset2 = tf.data.Dataset.from_tensor_slices((raw_data1, raw_data2)) \n",
    "\n",
    "# for a in dataset2:\n",
    "#     print(a) # tuple(raw_data1 원소, raw_data2 원소) 같은 index의 것들을 튜플로 묶어서 반환\n",
    "#     break \n",
    "\n",
    "for X, y in dataset2: # tuple 대입\n",
    "    print(X, y, sep = '|||') \n",
    "    \n",
    "# fit 할 때 X, y 을 함께 dataset(X,y) 튜플로 묶어 넣어야 한다."
   ]
  },
  {
   "cell_type": "code",
   "execution_count": 108,
   "metadata": {
    "ExecuteTime": {
     "end_time": "2021-11-03T00:17:28.129666Z",
     "start_time": "2021-11-03T00:17:28.041820Z"
    },
    "slideshow": {
     "slide_type": "fragment"
    }
   },
   "outputs": [
    {
     "name": "stdout",
     "output_type": "stream",
     "text": [
      "<class 'tensorflow.python.data.ops.dataset_ops.TakeDataset'>\n",
      "tf.Tensor(0, shape=(), dtype=int32)\n",
      "tf.Tensor(1, shape=(), dtype=int32)\n",
      "tf.Tensor(2, shape=(), dtype=int32)\n"
     ]
    }
   ],
   "source": [
    "dataset3 = dataset.take(3) # 지정한 개수만큼만 조회. Dataset 값을 조회해볼 때 사용.\n",
    "\n",
    "# Pipeline : TensorSliceDataset(dataset) -- TakeDataset (dataset3)\n",
    "#     dataset3 이용해 값을 조회 => dataset이 데이터를 읽어오기 => dataset3이 값을 3개까지 제공하는 기능을 제공. \n",
    "\n",
    "# 이 단계가 아래의 코드로 각각 일어남. : 파이프라인\n",
    "# dataset2 = tf.data.Dataset.from_tensor_slices((raw_data1, raw_data2)) \n",
    "# dataset3 = dataset.take(3)\n",
    "\n",
    "\n",
    "print(type(dataset3)) # .TakeDataset'\n",
    "\n",
    "for data in dataset3:\n",
    "    print(data)"
   ]
  },
  {
   "cell_type": "markdown",
   "metadata": {
    "slideshow": {
     "slide_type": "slide"
    }
   },
   "source": [
    "##### shuffle"
   ]
  },
  {
   "cell_type": "code",
   "execution_count": 109,
   "metadata": {
    "ExecuteTime": {
     "end_time": "2021-11-01T08:14:17.513361Z",
     "start_time": "2021-11-01T08:14:17.496360Z"
    },
    "slideshow": {
     "slide_type": "fragment"
    }
   },
   "outputs": [
    {
     "name": "stdout",
     "output_type": "stream",
     "text": [
      "<class 'tensorflow.python.data.ops.dataset_ops.ShuffleDataset'>\n",
      "tf.Tensor(5, shape=(), dtype=int32)\n",
      "tf.Tensor(7, shape=(), dtype=int32)\n",
      "tf.Tensor(9, shape=(), dtype=int32)\n",
      "tf.Tensor(4, shape=(), dtype=int32)\n",
      "tf.Tensor(2, shape=(), dtype=int32)\n",
      "tf.Tensor(6, shape=(), dtype=int32)\n",
      "tf.Tensor(1, shape=(), dtype=int32)\n",
      "tf.Tensor(3, shape=(), dtype=int32)\n",
      "tf.Tensor(0, shape=(), dtype=int32)\n",
      "tf.Tensor(8, shape=(), dtype=int32)\n"
     ]
    }
   ],
   "source": [
    "dataset4 = dataset.shuffle(10) # buffer size : 10 (dataset 의 원소개수와 동일 => 완전셔플)\n",
    "# raw_data1 - 읽기 ---> TensorSliceDataset(dataset) -> 섞기 -> ShuffleDataset(dataset4)\n",
    "# 위 단계 또한 shuffle 의 기능 자신의 역할만을 한다. : 파이프라인\n",
    "print(type(dataset4))\n",
    "for data in dataset4:\n",
    "    print(data)"
   ]
  },
  {
   "cell_type": "markdown",
   "metadata": {
    "slideshow": {
     "slide_type": "slide"
    }
   },
   "source": [
    "##### batch\n",
    "- drop_remainder: boolean(기본-False)\n",
    "    - True : batch로 제공할 데이터의 개수가 설정한 batch_size 보다 적으면 제공하지 않는다.\n",
    "    - Train dataset을 만들때 True로 설정하여 항상 일정한 batch size로 학습할 수 있도록 한다. drop 되는 데이터는 다른 epoch을 반복할 때 사용된다."
   ]
  },
  {
   "cell_type": "code",
   "execution_count": 110,
   "metadata": {
    "ExecuteTime": {
     "end_time": "2021-11-03T00:17:32.506910Z",
     "start_time": "2021-11-03T00:17:32.489875Z"
    },
    "slideshow": {
     "slide_type": "fragment"
    }
   },
   "outputs": [
    {
     "name": "stdout",
     "output_type": "stream",
     "text": [
      "<class 'tensorflow.python.data.ops.dataset_ops.BatchDataset'>\n",
      "tf.Tensor([0 1 2], shape=(3,), dtype=int32)\n",
      "tf.Tensor([3 4 5], shape=(3,), dtype=int32)\n",
      "tf.Tensor([6 7 8], shape=(3,), dtype=int32)\n"
     ]
    }
   ],
   "source": [
    "# batch_size 설정\n",
    "dataset5 = dataset.batch(3, drop_remainder = True)\n",
    "# raw_data1 --읽기 --> TensorSliceDataset(dataset) - 배치처리-> BatchDataset(dataset5)\n",
    "\n",
    "\n",
    "print(type(dataset5)) # .BatchDataset'\n",
    "\n",
    "for data in dataset5:\n",
    "    print(data) # 3개씩 읽어온다. \n",
    "\n",
    "# drop_remainder = True : 나머지 원소 하나남은 것은 배치사이즈보다 작기에 제공하지 않는다."
   ]
  },
  {
   "cell_type": "code",
   "execution_count": 111,
   "metadata": {
    "ExecuteTime": {
     "end_time": "2021-11-03T00:17:33.957458Z",
     "start_time": "2021-11-03T00:17:33.929489Z"
    },
    "slideshow": {
     "slide_type": "fragment"
    }
   },
   "outputs": [
    {
     "name": "stdout",
     "output_type": "stream",
     "text": [
      "tf.Tensor([9 4 7], shape=(3,), dtype=int32)\n",
      "tf.Tensor([2 1 8], shape=(3,), dtype=int32)\n",
      "tf.Tensor([6 5 3], shape=(3,), dtype=int32)\n",
      "tf.Tensor([0], shape=(1,), dtype=int32)\n"
     ]
    }
   ],
   "source": [
    "dataset6 = dataset.shuffle(10).batch(3) #, drop_remainder = True)\n",
    "# raw_data1 --읽기--> TensorSliceDataset(dataset)-섞기->ShuffleDataset(shffle(10) -배치처리 ->BatchDataset(batch(3) : dataset6)\n",
    "\n",
    "for d in dataset6:\n",
    "    print(d) # 섞고 3개씩 들어온것"
   ]
  },
  {
   "cell_type": "markdown",
   "metadata": {
    "slideshow": {
     "slide_type": "slide"
    }
   },
   "source": [
    "##### repeat\n",
    "\n",
    "- 최신버전에서는 학습과 관련해서는 쓸 일 없음.  "
   ]
  },
  {
   "cell_type": "code",
   "execution_count": 112,
   "metadata": {
    "ExecuteTime": {
     "end_time": "2021-11-03T00:17:36.109496Z",
     "start_time": "2021-11-03T00:17:36.090507Z"
    },
    "slideshow": {
     "slide_type": "fragment"
    }
   },
   "outputs": [],
   "source": [
    "dataset7 = dataset.repeat(2) \n",
    "\n",
    "# 세번 반복 # 반복횟수를 생략하면 무한제공\n",
    "# raw_data1 --읽기-->TensorSliceDataset(dataset) -반복제공->RepeatDataset(dataset7)\n",
    "\n",
    "\n"
   ]
  },
  {
   "cell_type": "code",
   "execution_count": 17,
   "metadata": {
    "ExecuteTime": {
     "end_time": "2021-11-03T00:17:38.140537Z",
     "start_time": "2021-11-03T00:17:38.120543Z"
    },
    "slideshow": {
     "slide_type": "fragment"
    }
   },
   "outputs": [
    {
     "name": "stdout",
     "output_type": "stream",
     "text": [
      "tf.Tensor([3 7 2 4 0], shape=(5,), dtype=int32)\n",
      "tf.Tensor([5 1 8 6 9], shape=(5,), dtype=int32)\n",
      "tf.Tensor([8 6 5 7 1], shape=(5,), dtype=int32)\n",
      "tf.Tensor([9 2 4 0 3], shape=(5,), dtype=int32)\n",
      "tf.Tensor([4 1 5 8 2], shape=(5,), dtype=int32)\n",
      "tf.Tensor([7 9 6 3 0], shape=(5,), dtype=int32)\n"
     ]
    }
   ],
   "source": [
    "dataset8 = dataset.shuffle(10).batch(5).repeat(3) # 섞고 5개씩 3번 반복\n",
    "for data in dataset8:\n",
    "    print(data)"
   ]
  },
  {
   "cell_type": "markdown",
   "metadata": {},
   "source": [
    "##### map과 filter의 매개변수로 조건를 체크하는 함수가 들어가야 한다.\n",
    "- map - 하나 하나의 데이터를 변환\n",
    "- filter - true를 return 하는 것들만 반환"
   ]
  },
  {
   "cell_type": "markdown",
   "metadata": {
    "slideshow": {
     "slide_type": "slide"
    }
   },
   "source": [
    "##### map"
   ]
  },
  {
   "cell_type": "code",
   "execution_count": 117,
   "metadata": {},
   "outputs": [
    {
     "name": "stdout",
     "output_type": "stream",
     "text": [
      "(<tf.Tensor: shape=(), dtype=int32, numpy=0>, <tf.Tensor: shape=(), dtype=int32, numpy=10>)\n",
      "(<tf.Tensor: shape=(), dtype=int32, numpy=1>, <tf.Tensor: shape=(), dtype=int32, numpy=11>)\n",
      "(<tf.Tensor: shape=(), dtype=int32, numpy=2>, <tf.Tensor: shape=(), dtype=int32, numpy=12>)\n",
      "(<tf.Tensor: shape=(), dtype=int32, numpy=3>, <tf.Tensor: shape=(), dtype=int32, numpy=13>)\n",
      "(<tf.Tensor: shape=(), dtype=int32, numpy=4>, <tf.Tensor: shape=(), dtype=int32, numpy=14>)\n",
      "(<tf.Tensor: shape=(), dtype=int32, numpy=5>, <tf.Tensor: shape=(), dtype=int32, numpy=15>)\n",
      "(<tf.Tensor: shape=(), dtype=int32, numpy=6>, <tf.Tensor: shape=(), dtype=int32, numpy=16>)\n",
      "(<tf.Tensor: shape=(), dtype=int32, numpy=7>, <tf.Tensor: shape=(), dtype=int32, numpy=17>)\n",
      "(<tf.Tensor: shape=(), dtype=int32, numpy=8>, <tf.Tensor: shape=(), dtype=int32, numpy=18>)\n",
      "(<tf.Tensor: shape=(), dtype=int32, numpy=9>, <tf.Tensor: shape=(), dtype=int32, numpy=19>)\n"
     ]
    }
   ],
   "source": [
    "for i in dataset2: #\n",
    "    print(i)"
   ]
  },
  {
   "cell_type": "code",
   "execution_count": 118,
   "metadata": {
    "ExecuteTime": {
     "end_time": "2021-11-03T00:17:40.527048Z",
     "start_time": "2021-11-03T00:17:40.411788Z"
    },
    "scrolled": true,
    "slideshow": {
     "slide_type": "fragment"
    }
   },
   "outputs": [
    {
     "name": "stdout",
     "output_type": "stream",
     "text": [
      "<class 'tensorflow.python.data.ops.dataset_ops.MapDataset'>\n",
      "tf.Tensor(0, shape=(), dtype=int32)\n",
      "tf.Tensor(1, shape=(), dtype=int32)\n",
      "tf.Tensor(4, shape=(), dtype=int32)\n",
      "tf.Tensor(9, shape=(), dtype=int32)\n",
      "tf.Tensor(16, shape=(), dtype=int32)\n",
      "tf.Tensor(25, shape=(), dtype=int32)\n",
      "tf.Tensor(36, shape=(), dtype=int32)\n",
      "tf.Tensor(49, shape=(), dtype=int32)\n",
      "tf.Tensor(64, shape=(), dtype=int32)\n",
      "tf.Tensor(81, shape=(), dtype=int32)\n"
     ]
    }
   ],
   "source": [
    "def mapping_func(x):\n",
    "    # dataset 의 원소를 하나 받아서 처리하는 함수.\n",
    "    # 매개변수:원소개수를 맞춰서 변수를 선언\n",
    "    # 반환값 : 받은 원소를 처리한 값\n",
    "    return x**2\n",
    "\n",
    "dataset9 = dataset.map(mapping_func) # 주의 함수 호출이 아니라 객체를 넣어야 하므로. mapping_func() 아님.\n",
    "# raw_data1 -읽기-> TensorSliceDataset(dataset) -mapping처리->MapDataset(dataset9)\n",
    "print(type(dataset9))\n",
    "for data in dataset9:\n",
    "    print(data) # x**2 처리 됨."
   ]
  },
  {
   "cell_type": "code",
   "execution_count": 119,
   "metadata": {
    "ExecuteTime": {
     "end_time": "2021-11-03T00:17:41.551921Z",
     "start_time": "2021-11-03T00:17:41.505781Z"
    },
    "slideshow": {
     "slide_type": "fragment"
    }
   },
   "outputs": [],
   "source": [
    "def mapping_func2(x, y): # dataset2의 원소 : 튜플(raw_data1원소, raw_data2원소) -> 매개변수에 튜플 대입 적용\n",
    "    # rawd_data1의 세제곱한 값, y값을 처리하지 않은 값.(그대로 반환)\n",
    "    return x**3, y\n",
    "\n",
    "dataset2 = tf.data.Dataset.from_tensor_slices((raw_data1, raw_data2))\n",
    "dataset10 = dataset2.map(mapping_func2)"
   ]
  },
  {
   "cell_type": "code",
   "execution_count": 122,
   "metadata": {
    "ExecuteTime": {
     "end_time": "2021-11-03T00:17:45.511603Z",
     "start_time": "2021-11-03T00:17:45.480572Z"
    },
    "slideshow": {
     "slide_type": "fragment"
    }
   },
   "outputs": [
    {
     "name": "stdout",
     "output_type": "stream",
     "text": [
      "(<tf.Tensor: shape=(), dtype=int32, numpy=0>, <tf.Tensor: shape=(), dtype=int32, numpy=10>)\n",
      "(<tf.Tensor: shape=(), dtype=int32, numpy=1>, <tf.Tensor: shape=(), dtype=int32, numpy=11>)\n",
      "(<tf.Tensor: shape=(), dtype=int32, numpy=8>, <tf.Tensor: shape=(), dtype=int32, numpy=12>)\n",
      "(<tf.Tensor: shape=(), dtype=int32, numpy=27>, <tf.Tensor: shape=(), dtype=int32, numpy=13>)\n",
      "(<tf.Tensor: shape=(), dtype=int32, numpy=64>, <tf.Tensor: shape=(), dtype=int32, numpy=14>)\n",
      "(<tf.Tensor: shape=(), dtype=int32, numpy=125>, <tf.Tensor: shape=(), dtype=int32, numpy=15>)\n",
      "(<tf.Tensor: shape=(), dtype=int32, numpy=216>, <tf.Tensor: shape=(), dtype=int32, numpy=16>)\n",
      "(<tf.Tensor: shape=(), dtype=int32, numpy=343>, <tf.Tensor: shape=(), dtype=int32, numpy=17>)\n",
      "(<tf.Tensor: shape=(), dtype=int32, numpy=512>, <tf.Tensor: shape=(), dtype=int32, numpy=18>)\n",
      "(<tf.Tensor: shape=(), dtype=int32, numpy=729>, <tf.Tensor: shape=(), dtype=int32, numpy=19>)\n"
     ]
    }
   ],
   "source": [
    "for data in dataset10:\n",
    "    print(data)"
   ]
  },
  {
   "cell_type": "code",
   "execution_count": 121,
   "metadata": {
    "ExecuteTime": {
     "end_time": "2021-11-03T00:17:48.199845Z",
     "start_time": "2021-11-03T00:17:48.152694Z"
    },
    "scrolled": true,
    "slideshow": {
     "slide_type": "fragment"
    }
   },
   "outputs": [
    {
     "name": "stdout",
     "output_type": "stream",
     "text": [
      "tf.Tensor(0, shape=(), dtype=int32)\n",
      "tf.Tensor(1, shape=(), dtype=int32)\n",
      "tf.Tensor(4, shape=(), dtype=int32)\n",
      "tf.Tensor(9, shape=(), dtype=int32)\n",
      "tf.Tensor(16, shape=(), dtype=int32)\n",
      "tf.Tensor(25, shape=(), dtype=int32)\n",
      "tf.Tensor(36, shape=(), dtype=int32)\n",
      "tf.Tensor(49, shape=(), dtype=int32)\n",
      "tf.Tensor(64, shape=(), dtype=int32)\n",
      "tf.Tensor(81, shape=(), dtype=int32)\n"
     ]
    }
   ],
   "source": [
    "# 함수 대신 lambda 식 (결과 위랑 똑같)\n",
    "dataset11 = dataset.map(lambda x: x**2) \n",
    "for data in dataset11:\n",
    "    print(data)"
   ]
  },
  {
   "cell_type": "code",
   "execution_count": 23,
   "metadata": {
    "ExecuteTime": {
     "end_time": "2021-11-03T00:17:52.607608Z",
     "start_time": "2021-11-03T00:17:52.552682Z"
    },
    "slideshow": {
     "slide_type": "fragment"
    }
   },
   "outputs": [
    {
     "name": "stdout",
     "output_type": "stream",
     "text": [
      "(<tf.Tensor: shape=(), dtype=int32, numpy=0>, <tf.Tensor: shape=(), dtype=int32, numpy=100>)\n",
      "(<tf.Tensor: shape=(), dtype=int32, numpy=1>, <tf.Tensor: shape=(), dtype=int32, numpy=121>)\n",
      "(<tf.Tensor: shape=(), dtype=int32, numpy=8>, <tf.Tensor: shape=(), dtype=int32, numpy=144>)\n",
      "(<tf.Tensor: shape=(), dtype=int32, numpy=27>, <tf.Tensor: shape=(), dtype=int32, numpy=169>)\n",
      "(<tf.Tensor: shape=(), dtype=int32, numpy=64>, <tf.Tensor: shape=(), dtype=int32, numpy=196>)\n",
      "(<tf.Tensor: shape=(), dtype=int32, numpy=125>, <tf.Tensor: shape=(), dtype=int32, numpy=225>)\n",
      "(<tf.Tensor: shape=(), dtype=int32, numpy=216>, <tf.Tensor: shape=(), dtype=int32, numpy=256>)\n",
      "(<tf.Tensor: shape=(), dtype=int32, numpy=343>, <tf.Tensor: shape=(), dtype=int32, numpy=289>)\n",
      "(<tf.Tensor: shape=(), dtype=int32, numpy=512>, <tf.Tensor: shape=(), dtype=int32, numpy=324>)\n",
      "(<tf.Tensor: shape=(), dtype=int32, numpy=729>, <tf.Tensor: shape=(), dtype=int32, numpy=361>)\n"
     ]
    }
   ],
   "source": [
    "dataset12 = dataset2.map(lambda x, y: (x**3, y**2))\n",
    "for data in dataset12:\n",
    "    print(data)"
   ]
  },
  {
   "cell_type": "markdown",
   "metadata": {
    "slideshow": {
     "slide_type": "slide"
    }
   },
   "source": [
    "##### filter"
   ]
  },
  {
   "cell_type": "code",
   "execution_count": 24,
   "metadata": {
    "ExecuteTime": {
     "end_time": "2021-11-03T00:17:56.269694Z",
     "start_time": "2021-11-03T00:17:56.210225Z"
    },
    "slideshow": {
     "slide_type": "fragment"
    }
   },
   "outputs": [
    {
     "name": "stdout",
     "output_type": "stream",
     "text": [
      "<class 'tensorflow.python.data.ops.dataset_ops.FilterDataset'>\n"
     ]
    }
   ],
   "source": [
    "def filter_func(x):\n",
    "# filter 함수 : 제공할 데이터의 조건 정의. 이 조건을 만족하는 (True) 인 원소들만 모델에 제공(feeding)\n",
    "# 매개변수 : Dataset 으로부터 원소를 받을 변수\n",
    "# 반환 : bool\n",
    "    return x%2 == 0 # 2의 배수인지 여부\n",
    "\n",
    "dataset13 = dataset.filter(filter_func)\n",
    "# raw_data1 -읽기->TensorSliceDataset(dataset) - filter처리->FilterDataset(dataset13)\n",
    "\n",
    "print(type(dataset13))"
   ]
  },
  {
   "cell_type": "code",
   "execution_count": 25,
   "metadata": {},
   "outputs": [
    {
     "name": "stdout",
     "output_type": "stream",
     "text": [
      "tf.Tensor(0, shape=(), dtype=int32)\n",
      "tf.Tensor(2, shape=(), dtype=int32)\n",
      "tf.Tensor(4, shape=(), dtype=int32)\n",
      "tf.Tensor(6, shape=(), dtype=int32)\n",
      "tf.Tensor(8, shape=(), dtype=int32)\n"
     ]
    }
   ],
   "source": [
    "for i in dataset13:\n",
    "    print(i)"
   ]
  },
  {
   "cell_type": "code",
   "execution_count": 26,
   "metadata": {
    "ExecuteTime": {
     "end_time": "2021-11-03T00:17:57.209032Z",
     "start_time": "2021-11-03T00:17:57.166006Z"
    },
    "slideshow": {
     "slide_type": "fragment"
    }
   },
   "outputs": [
    {
     "name": "stdout",
     "output_type": "stream",
     "text": [
      "tf.Tensor(6, shape=(), dtype=int32)\n",
      "tf.Tensor(7, shape=(), dtype=int32)\n",
      "tf.Tensor(8, shape=(), dtype=int32)\n",
      "tf.Tensor(9, shape=(), dtype=int32)\n"
     ]
    }
   ],
   "source": [
    "# lambda식으로 구현\n",
    "dataset14 = dataset.filter(lambda x : x > 5) # 조건:5초과하는 값\n",
    "for data in dataset14:\n",
    "    print(data)"
   ]
  },
  {
   "cell_type": "markdown",
   "metadata": {
    "slideshow": {
     "slide_type": "slide"
    }
   },
   "source": [
    "##### 종합"
   ]
  },
  {
   "cell_type": "code",
   "execution_count": 27,
   "metadata": {
    "ExecuteTime": {
     "end_time": "2021-11-03T00:17:59.148304Z",
     "start_time": "2021-11-03T00:17:59.091243Z"
    },
    "slideshow": {
     "slide_type": "fragment"
    }
   },
   "outputs": [],
   "source": [
    "raw_data = np.arange(-10,11)\n",
    "\n",
    "#                           각각의 역할      처리 결과(가 다음 처리의 입력으로)\n",
    "# raw_data(-10~10:ndarray) - 읽기         ->TensorSliceDataset\n",
    "#                          - filter처리   -> FilterDataset\n",
    "#                          - map 처리     -> MapDataset\n",
    "#                          - 섞기         -> ShuffleDataset\n",
    "#                          - 배치처리     -> BatchDataset (dataset_final)\n",
    "\n",
    " # \\ : 한줄에 적어야 하는데 다음줄에 코드작성하기 위해서 - 이때 주석, 공백 다 안됨.\n",
    "    \n",
    "    \n",
    "dataset_final = tf.data.Dataset.from_tensor_slices(raw_data)\\\n",
    "                               .filter(lambda x:x>=0)\\\n",
    "                               .map(lambda y:y+10)\\\n",
    "                               .shuffle(raw_data.size)\\\n",
    "                               .batch(3)"
   ]
  },
  {
   "cell_type": "code",
   "execution_count": 28,
   "metadata": {
    "ExecuteTime": {
     "end_time": "2021-11-03T00:18:00.151996Z",
     "start_time": "2021-11-03T00:18:00.113989Z"
    },
    "slideshow": {
     "slide_type": "fragment"
    }
   },
   "outputs": [
    {
     "name": "stdout",
     "output_type": "stream",
     "text": [
      "tf.Tensor([19 14 17], shape=(3,), dtype=int32)\n",
      "tf.Tensor([20 18 11], shape=(3,), dtype=int32)\n",
      "tf.Tensor([12 15 13], shape=(3,), dtype=int32)\n",
      "tf.Tensor([16 10], shape=(2,), dtype=int32)\n"
     ]
    }
   ],
   "source": [
    "for data in dataset_final:\n",
    "    print(data)"
   ]
  },
  {
   "cell_type": "markdown",
   "metadata": {
    "slideshow": {
     "slide_type": "slide"
    }
   },
   "source": [
    "# 문제 유형별 MLP 네트워크\n",
    "- Multi Layer Perceptron (Deep Neural Network - DNN)\n",
    "    - Fully Connected Layer (Dense Layer) 로 구성된 네트워크\n",
    "        - 모든 입력 Feature에 가중합을 계산해서 처리하는 Node (Unit, Neuron)들로 구성된 Layer \n",
    "        \n",
    "- Fully Connected Layer 는 Dense(밀집) layer 라는 클래스를 이용해 구현."
   ]
  },
  {
   "cell_type": "markdown",
   "metadata": {
    "slideshow": {
     "slide_type": "fragment"
    }
   },
   "source": [
    "# 1. Regression(회귀)\n",
    "\n",
    "## Boston Housing Dataset\n",
    "보스턴 주택가격 dataset은 다음과 같은 속성을 바탕으로 해당 타운 주택 가격의 중앙값을 예측하는 문제.\n",
    "- **Feature**\n",
    "    - CRIM: 범죄율\n",
    "    - ZN: 25,000 평방피트당 주거지역 비율\n",
    "    - INDUS: 비소매 상업지구 비율\n",
    "    - CHAS: 찰스강에 인접해 있는지 여부(인접:1, 아니면:0)\n",
    "    - NOX: 일산화질소 농도(단위: 0.1ppm)\n",
    "    - RM: 주택당 방의 수\n",
    "    - AGE: 1940년 이전에 건설된 주택의 비율\n",
    "    - DIS: 5개의 보스턴 직업고용센터와의 거리(가중 평균)\n",
    "    - RAD: 고속도로 접근성\n",
    "    - TAX: 재산세율\n",
    "    - PTRATIO: 학생/교사 비율\n",
    "    - B: 흑인 비율\n",
    "    - LSTAT: 하위 계층 비율\n",
    "<br><br>\n",
    "- **Target**\n",
    "    - MEDV: 타운의 주택가격 중앙값(단위: 1,000달러)\n",
    "        - 예측 출력 값은 하나이다. => output layer는 1unit"
   ]
  },
  {
   "cell_type": "code",
   "execution_count": 2,
   "metadata": {
    "ExecuteTime": {
     "end_time": "2021-11-03T00:18:30.667027Z",
     "start_time": "2021-11-03T00:18:30.656991Z"
    },
    "slideshow": {
     "slide_type": "slide"
    }
   },
   "outputs": [],
   "source": [
    "import numpy as np\n",
    "\n",
    "import tensorflow as tf\n",
    "from tensorflow import keras\n",
    "\n",
    "# layer 클래스들을 제공하는 모듈\n",
    "from tensorflow.keras import layers"
   ]
  },
  {
   "cell_type": "code",
   "execution_count": 3,
   "metadata": {
    "ExecuteTime": {
     "end_time": "2021-11-03T00:18:32.570713Z",
     "start_time": "2021-11-03T00:18:32.551682Z"
    },
    "slideshow": {
     "slide_type": "fragment"
    }
   },
   "outputs": [],
   "source": [
    "# random seed 설정.\n",
    "# 데이터는 numpy 사용하고 모델은 TF 사용함. 둘 다 내부적으로 랜덤성 있어 둘다 seed 설정해준다.\n",
    "np.random.seed(0) # 넘파이(-dataset) random seed (머신러닝 sklearn? 과 달리 모델 생성 시 설정하는 것이 없어 공통적으로 처음에 설정해줌.)\n",
    "tf.random.set_seed(0) # Tensorflow(-모델) random seed"
   ]
  },
  {
   "cell_type": "markdown",
   "metadata": {
    "slideshow": {
     "slide_type": "slide"
    }
   },
   "source": [
    "##### 데이터 로딩"
   ]
  },
  {
   "cell_type": "code",
   "execution_count": 4,
   "metadata": {
    "ExecuteTime": {
     "end_time": "2021-11-03T00:18:34.586431Z",
     "start_time": "2021-11-03T00:18:34.555449Z"
    },
    "slideshow": {
     "slide_type": "fragment"
    }
   },
   "outputs": [
    {
     "name": "stdout",
     "output_type": "stream",
     "text": [
      "(404, 13) (102, 13)\n",
      "(404,) (102,)\n"
     ]
    }
   ],
   "source": [
    "# 머신러닝 때와 달리, tf 의 load는 train 과 test set 을 나눠 반환한다. 아래와 같이 튜플로 받는다.\n",
    "\n",
    "(train_X, train_y), (test_X, test_y) = keras.datasets.boston_housing.load_data()\n",
    "print(train_X.shape, test_X.shape)\n",
    "print(train_y.shape, test_y.shape)"
   ]
  },
  {
   "cell_type": "code",
   "execution_count": 5,
   "metadata": {
    "ExecuteTime": {
     "end_time": "2021-11-03T00:18:35.928293Z",
     "start_time": "2021-11-03T00:18:35.913288Z"
    },
    "slideshow": {
     "slide_type": "fragment"
    }
   },
   "outputs": [
    {
     "data": {
      "text/plain": [
       "array([[1.23247e+00, 0.00000e+00, 8.14000e+00, 0.00000e+00, 5.38000e-01,\n",
       "        6.14200e+00, 9.17000e+01, 3.97690e+00, 4.00000e+00, 3.07000e+02,\n",
       "        2.10000e+01, 3.96900e+02, 1.87200e+01],\n",
       "       [2.17700e-02, 8.25000e+01, 2.03000e+00, 0.00000e+00, 4.15000e-01,\n",
       "        7.61000e+00, 1.57000e+01, 6.27000e+00, 2.00000e+00, 3.48000e+02,\n",
       "        1.47000e+01, 3.95380e+02, 3.11000e+00],\n",
       "       [4.89822e+00, 0.00000e+00, 1.81000e+01, 0.00000e+00, 6.31000e-01,\n",
       "        4.97000e+00, 1.00000e+02, 1.33250e+00, 2.40000e+01, 6.66000e+02,\n",
       "        2.02000e+01, 3.75520e+02, 3.26000e+00],\n",
       "       [3.96100e-02, 0.00000e+00, 5.19000e+00, 0.00000e+00, 5.15000e-01,\n",
       "        6.03700e+00, 3.45000e+01, 5.98530e+00, 5.00000e+00, 2.24000e+02,\n",
       "        2.02000e+01, 3.96900e+02, 8.01000e+00],\n",
       "       [3.69311e+00, 0.00000e+00, 1.81000e+01, 0.00000e+00, 7.13000e-01,\n",
       "        6.37600e+00, 8.84000e+01, 2.56710e+00, 2.40000e+01, 6.66000e+02,\n",
       "        2.02000e+01, 3.91430e+02, 1.46500e+01]])"
      ]
     },
     "execution_count": 5,
     "metadata": {},
     "output_type": "execute_result"
    }
   ],
   "source": [
    "# 데이터 5개 확인 - 각 데이터에 대해 13개 feature 특성\n",
    "train_X[:5]"
   ]
  },
  {
   "cell_type": "code",
   "execution_count": 6,
   "metadata": {
    "ExecuteTime": {
     "end_time": "2021-11-03T00:18:40.002908Z",
     "start_time": "2021-11-03T00:18:39.992903Z"
    },
    "slideshow": {
     "slide_type": "fragment"
    }
   },
   "outputs": [
    {
     "data": {
      "text/plain": [
       "array([15.2, 42.3, 50. , 21.1, 17.7])"
      ]
     },
     "execution_count": 6,
     "metadata": {},
     "output_type": "execute_result"
    }
   ],
   "source": [
    "# 데이터 5개 정답 확인\n",
    "train_y[:5]"
   ]
  },
  {
   "cell_type": "markdown",
   "metadata": {
    "slideshow": {
     "slide_type": "slide"
    }
   },
   "source": [
    "##### 하이퍼파라미터, 변수 정의"
   ]
  },
  {
   "cell_type": "code",
   "execution_count": 7,
   "metadata": {
    "ExecuteTime": {
     "end_time": "2021-11-03T00:19:28.221512Z",
     "start_time": "2021-11-03T00:19:28.202545Z"
    },
    "slideshow": {
     "slide_type": "fragment"
    }
   },
   "outputs": [],
   "source": [
    "# 하이퍼파라미터는 앞서 한 공간에 변수 정의 해두는 것이 좋다.\n",
    "# 튜닝 하기 편하게\n",
    "\n",
    "# 하이퍼파라미터 - 튜닝대상 (변경될 가능성이 높은 변수) => 한군데 몰아서 선언하는 것이 좋다.\n",
    "LEARNING_RATE = 0.001 # 학습률\n",
    "N_EPOCHS  = 200 # epoch 수 : traindataset을 몇 번 학습할지 횟수.\n",
    "N_BATCHS = 32 # batch size : 1step 당 몇 개의 data를 학습할지 (2의 거듭제곱한 값)\n",
    "\n",
    "# 사용할 변수를 미리 선언 \n",
    "N_TRAIN = train_X.shape[0] # train data의 개수 404\n",
    "N_TEST = test_X.shape[0]   # test data의 개수 102"
   ]
  },
  {
   "cell_type": "markdown",
   "metadata": {
    "slideshow": {
     "slide_type": "fragment"
    }
   },
   "source": [
    "##### X, y 전처리\n",
    "- MLP는 선형모델을 기반으로 하므로 Feature scaling을 해준다."
   ]
  },
  {
   "cell_type": "code",
   "execution_count": 8,
   "metadata": {
    "ExecuteTime": {
     "end_time": "2021-11-03T00:22:46.672715Z",
     "start_time": "2021-11-03T00:22:45.928931Z"
    },
    "slideshow": {
     "slide_type": "fragment"
    }
   },
   "outputs": [],
   "source": [
    "from sklearn.preprocessing import StandardScaler \n",
    "# sklearn의 SS 를 사용.   데이터을 전처리하는 것이니 sklearn 으로 해도 됨\n",
    "\n",
    "scaler = StandardScaler()\n",
    "X_train = scaler.fit_transform(train_X)\n",
    "X_test = scaler.transform(test_X)"
   ]
  },
  {
   "cell_type": "code",
   "execution_count": 9,
   "metadata": {
    "ExecuteTime": {
     "end_time": "2021-11-03T00:22:46.672715Z",
     "start_time": "2021-11-03T00:22:45.928931Z"
    },
    "slideshow": {
     "slide_type": "fragment"
    }
   },
   "outputs": [],
   "source": [
    "# val data set 은 생략"
   ]
  },
  {
   "cell_type": "markdown",
   "metadata": {
    "slideshow": {
     "slide_type": "slide"
    }
   },
   "source": [
    "##### Dataset 생성"
   ]
  },
  {
   "cell_type": "code",
   "execution_count": 37,
   "metadata": {
    "ExecuteTime": {
     "end_time": "2021-11-03T00:22:49.378171Z",
     "start_time": "2021-11-03T00:22:49.346798Z"
    },
    "slideshow": {
     "slide_type": "fragment"
    }
   },
   "outputs": [],
   "source": [
    "# train set 을 위한 dataset 을 생성\n",
    "\n",
    "# (X_train, y_train) 을 묶어서 모델에 제공해야 하므로 묶어준다.\n",
    "# shuffle (epoch 단위로 shuffle 실행)-> 동일한 data set으로 여러 epoch로 학습하기에 섞어줄 필요가 있다. \n",
    "# batch size 실행. Train set 에서는 보통 drop_remainder=True로 설정(- 각 step 마다 동일 개수의 데이터셋을 학습하도록 하기 위해서. 어차피 epoch 돌 때 마다 섞으니깐 모든 데이터가 돌려지긴 할 것이다.)\n",
    "\n",
    "\n",
    "train_dataset = tf.data.Dataset.from_tensor_slices((X_train, train_y))\\\n",
    "                                .shuffle(N_TRAIN)\\\n",
    "                                .batch(N_BATCHS, drop_remainder=True)\n",
    "\n",
    "# validation dataset -> 학습하는 도중에 검증데이터로 사용할 dataset \n",
    "# split 해야하는데, 현 예제에서는 생략. \n",
    "# 현예제에서는 모든 검증 test_dataset로 \n",
    "\n",
    "# test set의 batch_size \n",
    "# : 전체 데이터를 묶어서 검증하는 것이 아니라 batch_size 개수 별로 검증해서 그 평균을 최종 평가 결과로 반환.\n",
    "\n",
    "test_dataset = tf.data.Dataset.from_tensor_slices((X_test, test_y)).batch(N_BATCHS)"
   ]
  },
  {
   "cell_type": "markdown",
   "metadata": {
    "slideshow": {
     "slide_type": "slide"
    }
   },
   "source": [
    "##### 모델 구현\n",
    "1. 모델을 생성 - Sequential 방식\n",
    "2. 모델에 Layer를 순서대로 추가\n",
    "    - Input Layer\n",
    "    - Hidden Layer 들 (layer의 unit 수, layer의 개수 => 튜닝대상 (- layer와 unit의 개수가 많을 수록 복잡한 모델 - overfitting 발생할 수 있다. ))\n",
    "    - Output Layer\n",
    "3. 학습을 위해서 compile \n",
    "\n",
    "- 사실 boston dataset은 딥러닝보다 머신러닝에 맞는 모델이다. 머신러닝에서 linear regresion 하나로도 충분히 성능을 보았다. 이것을 unit 128 개로 본다는 것은 충분히 과대적합이 나올 만 하다. "
   ]
  },
  {
   "cell_type": "code",
   "execution_count": 38,
   "metadata": {},
   "outputs": [
    {
     "data": {
      "text/plain": [
       "(404, 13)"
      ]
     },
     "execution_count": 38,
     "metadata": {},
     "output_type": "execute_result"
    }
   ],
   "source": [
    "X_train.shape # feature shape - 13개의 원소를 가진 1차원 배열"
   ]
  },
  {
   "cell_type": "code",
   "execution_count": 39,
   "metadata": {
    "ExecuteTime": {
     "end_time": "2021-11-03T00:25:45.682692Z",
     "start_time": "2021-11-03T00:25:45.665687Z"
    },
    "slideshow": {
     "slide_type": "fragment"
    }
   },
   "outputs": [],
   "source": [
    "# 재사용을 위해 모델 생성을 함수로 만들어줌. \n",
    "\n",
    "def create_housing_model():\n",
    "    \n",
    "    model = keras.Sequential() # sequntial model\n",
    "    \n",
    "    # 1. Input layer \n",
    "    #model.add(layers.InputLayer(13,)) # Input layer 추가 방법1 -> InputLayer 생성 => Feature shape을 지정\n",
    "    \n",
    "    # 2. Hidden Layer 추가. \n",
    "    # denselayer : units - unit의 개수, activation-활성함수\n",
    "    # denselayer 의 unit 수는 점점 갯수를 줄여나간다. 보통 2의 거듭제곱값으로. (관례적으로. 이렇게가 성능이 좋다.)\n",
    "    # 왜 ? 출력 결과의 갯수는 적다. 그에 맞춰 점점 줄이는 것이다. \n",
    "    # 1개에 맞춰 - 128 64 32 16 1\n",
    "    \n",
    "    model.add(layers.Dense(units=128, activation='relu', input_shape=(13,))) # Input layer 추가 방법2 => 첫번째 hidden Layer 추가하면서 input_shape 속성에 Feature에 shape 지정 (어차피 input 을 알려주는 역할의 layer 이므로 이렇게 하면 알아서 hidden layer 앞에 input layer 알아서 만들어줌.)\n",
    "    \n",
    "    model.add(layers.Dense(units=64, activation='relu'))\n",
    "    model.add(layers.Dense(units=32, activation='relu'))\n",
    "    model.add(layers.Dense(units=16, activation='relu'))\n",
    "    \n",
    "    # 3. Output Layer 추가\n",
    "    # 회귀문제에 대한 output layer - units : 추론한 결과값(정답)에 개수에 맞춘다. - 집값1개 (unit = 1), activateion=None (def) : 지정안함.(회귀)  \n",
    "    model.add(layers.Dense(units=1)) # units =1 : 출력 결과를 1개를 낸다.\n",
    "    \n",
    "    return model"
   ]
  },
  {
   "cell_type": "markdown",
   "metadata": {},
   "source": [
    "일단, layer를 몇 개 쌓고 몇 개의 unit 을 할 지 지금 생각할 필요 없다.\n",
    "그때그때마다 다르기 때문데"
   ]
  },
  {
   "cell_type": "code",
   "execution_count": 40,
   "metadata": {},
   "outputs": [],
   "source": [
    "def create_housing_model2():\n",
    "# 모델에 추가할 layer 들을 리스트로 묶어서 Sequential 생성할 때 넣어준다.    \n",
    "\n",
    "    model = keras.Sequential([\n",
    "        layers.Dense(units=128, activation='relu', input_shape=(13,)),\n",
    "        layers.Dense(units=64, activation='relu'),\n",
    "        layers.Dense(units=32, activation='relu'),\n",
    "        layers.Dense(units=16, activation='relu'),\n",
    "        \n",
    "        layers.Dense(units=1)\n",
    "                     \n",
    "    ])\n",
    "    return model"
   ]
  },
  {
   "cell_type": "code",
   "execution_count": 41,
   "metadata": {
    "ExecuteTime": {
     "end_time": "2021-11-03T00:25:46.309942Z",
     "start_time": "2021-11-03T00:25:46.258942Z"
    },
    "slideshow": {
     "slide_type": "fragment"
    }
   },
   "outputs": [],
   "source": [
    "# 모델 생성\n",
    "model = create_housing_model()\n",
    "\n",
    "# 일단 위 단계까지는 추론만 가능.\n",
    "\n",
    "# 모델 컴파일 - 모델을 학습할 수 있게 만들어준다. => 모델에 optimizer와 loss 함수를 추가\n",
    "# 회귀문제를 위한 모델 컴파일 : loss : mse(mean squared error) - 문제에 따라 정해져있음.\n",
    "\n",
    "# optimizer=옵티마이저객체나 문자열을 넣을 수 있다.\n",
    "   # 객체를 넣음 - learning rate 등 설정을 해야 할 경우\n",
    "   # \"adam\" 문자열 넣음 - 기본설정을 사용할 경우. (기본값)\n",
    "\n",
    "model.compile(optimizer=keras.optimizers.Adam(learning_rate=LEARNING_RATE), loss='mse')"
   ]
  },
  {
   "cell_type": "code",
   "execution_count": 42,
   "metadata": {
    "slideshow": {
     "slide_type": "fragment"
    }
   },
   "outputs": [
    {
     "name": "stdout",
     "output_type": "stream",
     "text": [
      "Model: \"sequential\"\n",
      "_________________________________________________________________\n",
      " Layer (type)                Output Shape              Param #   \n",
      "=================================================================\n",
      " dense (Dense)               (None, 128)               1792      \n",
      "                                                                 \n",
      " dense_1 (Dense)             (None, 64)                8256      \n",
      "                                                                 \n",
      " dense_2 (Dense)             (None, 32)                2080      \n",
      "                                                                 \n",
      " dense_3 (Dense)             (None, 16)                528       \n",
      "                                                                 \n",
      " dense_4 (Dense)             (None, 1)                 17        \n",
      "                                                                 \n",
      "=================================================================\n",
      "Total params: 12,673\n",
      "Trainable params: 12,673\n",
      "Non-trainable params: 0\n",
      "_________________________________________________________________\n"
     ]
    }
   ],
   "source": [
    "# 생성된 모델의 구조를 확인.\n",
    "\n",
    "model.summary()\n",
    "\n",
    "# output shape (None, 128) \n",
    "\n",
    "# -> None : batch size 마다 다르니 none 표시?\n",
    "# -> 128 : 하나의 layer에 128개의 unit에 있으니 결과가 128개 나옴."
   ]
  },
  {
   "cell_type": "code",
   "execution_count": 43,
   "metadata": {
    "slideshow": {
     "slide_type": "fragment"
    }
   },
   "outputs": [
    {
     "data": {
      "text/plain": [
       "1792"
      ]
     },
     "execution_count": 43,
     "metadata": {},
     "output_type": "execute_result"
    }
   ],
   "source": [
    "# Param\n",
    "\n",
    "# weight = 입력 feature 수 *unit수\n",
    "# bias = unit수\n",
    "# layer의 파라미터 수 : weight + bias\n",
    "    \n",
    "w = 13 * 128\n",
    "b = 128\n",
    "p = w + b\n",
    "p # 1792 \n",
    "\n",
    "# 모든 layer 파라미터 수 는 12673 개\n",
    "# 그리고 학습가능한 파라미터 수도 12673 개"
   ]
  },
  {
   "cell_type": "code",
   "execution_count": 44,
   "metadata": {
    "ExecuteTime": {
     "end_time": "2021-11-03T00:25:48.796508Z",
     "start_time": "2021-11-03T00:25:48.593053Z"
    },
    "slideshow": {
     "slide_type": "fragment"
    }
   },
   "outputs": [
    {
     "name": "stdout",
     "output_type": "stream",
     "text": [
      "You must install pydot (`pip install pydot`) and install graphviz (see instructions at https://graphviz.gitlab.io/download/) for plot_model/model_to_dot to work.\n"
     ]
    }
   ],
   "source": [
    "# 모델의 구조를 graphviz를 이용해서 시각화\n",
    "keras.utils.plot_model(model, show_shapes=True, to_file='hosing.png') \n",
    "\n",
    "# show_shapes : 각 layer의 input shape과 output shape를 같이 시각화\n",
    "# to_file : 저장 파일 경로 지정."
   ]
  },
  {
   "cell_type": "markdown",
   "metadata": {
    "slideshow": {
     "slide_type": "slide"
    }
   },
   "source": [
    "##### 학습(Train)"
   ]
  },
  {
   "cell_type": "code",
   "execution_count": 45,
   "metadata": {
    "ExecuteTime": {
     "end_time": "2021-11-03T00:26:09.427202Z",
     "start_time": "2021-11-03T00:25:52.255858Z"
    },
    "collapsed": true,
    "slideshow": {
     "slide_type": "fragment"
    }
   },
   "outputs": [
    {
     "name": "stdout",
     "output_type": "stream",
     "text": [
      "Epoch 1/200\n",
      "12/12 [==============================] - 1s 26ms/step - loss: 577.3932 - val_loss: 588.7253\n",
      "Epoch 2/200\n",
      "12/12 [==============================] - 0s 4ms/step - loss: 535.2090 - val_loss: 528.5541\n",
      "Epoch 3/200\n",
      "12/12 [==============================] - 0s 4ms/step - loss: 449.3878 - val_loss: 395.9603\n",
      "Epoch 4/200\n",
      "12/12 [==============================] - 0s 4ms/step - loss: 285.8776 - val_loss: 178.5870\n",
      "Epoch 5/200\n",
      "12/12 [==============================] - 0s 4ms/step - loss: 109.0843 - val_loss: 73.3984\n",
      "Epoch 6/200\n",
      "12/12 [==============================] - 0s 4ms/step - loss: 65.2827 - val_loss: 45.6336\n",
      "Epoch 7/200\n",
      "12/12 [==============================] - 0s 4ms/step - loss: 39.5779 - val_loss: 34.2212\n",
      "Epoch 8/200\n",
      "12/12 [==============================] - 0s 4ms/step - loss: 28.1576 - val_loss: 27.1693\n",
      "Epoch 9/200\n",
      "12/12 [==============================] - 0s 5ms/step - loss: 23.3589 - val_loss: 25.1918\n",
      "Epoch 10/200\n",
      "12/12 [==============================] - 0s 4ms/step - loss: 19.0858 - val_loss: 24.1037\n",
      "Epoch 11/200\n",
      "12/12 [==============================] - 0s 4ms/step - loss: 19.5038 - val_loss: 23.9689\n",
      "Epoch 12/200\n",
      "12/12 [==============================] - 0s 6ms/step - loss: 17.9861 - val_loss: 23.8935\n",
      "Epoch 13/200\n",
      "12/12 [==============================] - 0s 4ms/step - loss: 14.9528 - val_loss: 23.4286\n",
      "Epoch 14/200\n",
      "12/12 [==============================] - 0s 4ms/step - loss: 15.2748 - val_loss: 22.8110\n",
      "Epoch 15/200\n",
      "12/12 [==============================] - 0s 4ms/step - loss: 14.5906 - val_loss: 22.0151\n",
      "Epoch 16/200\n",
      "12/12 [==============================] - 0s 5ms/step - loss: 12.4829 - val_loss: 22.9588\n",
      "Epoch 17/200\n",
      "12/12 [==============================] - 0s 4ms/step - loss: 12.8525 - val_loss: 22.8017\n",
      "Epoch 18/200\n",
      "12/12 [==============================] - 0s 5ms/step - loss: 12.8073 - val_loss: 22.6519\n",
      "Epoch 19/200\n",
      "12/12 [==============================] - 0s 4ms/step - loss: 12.0775 - val_loss: 22.9794\n",
      "Epoch 20/200\n",
      "12/12 [==============================] - 0s 6ms/step - loss: 11.9680 - val_loss: 22.2735\n",
      "Epoch 21/200\n",
      "12/12 [==============================] - 0s 4ms/step - loss: 11.4987 - val_loss: 23.1313\n",
      "Epoch 22/200\n",
      "12/12 [==============================] - 0s 4ms/step - loss: 11.2265 - val_loss: 23.4070\n",
      "Epoch 23/200\n",
      "12/12 [==============================] - 0s 6ms/step - loss: 10.7187 - val_loss: 23.4471\n",
      "Epoch 24/200\n",
      "12/12 [==============================] - 0s 4ms/step - loss: 10.1350 - val_loss: 24.0132\n",
      "Epoch 25/200\n",
      "12/12 [==============================] - 0s 5ms/step - loss: 10.4290 - val_loss: 23.1797\n",
      "Epoch 26/200\n",
      "12/12 [==============================] - 0s 4ms/step - loss: 10.1144 - val_loss: 21.9743\n",
      "Epoch 27/200\n",
      "12/12 [==============================] - 0s 4ms/step - loss: 9.3101 - val_loss: 23.3581\n",
      "Epoch 28/200\n",
      "12/12 [==============================] - 0s 4ms/step - loss: 9.9603 - val_loss: 22.3168\n",
      "Epoch 29/200\n",
      "12/12 [==============================] - 0s 4ms/step - loss: 9.5686 - val_loss: 23.8144\n",
      "Epoch 30/200\n",
      "12/12 [==============================] - 0s 5ms/step - loss: 9.4564 - val_loss: 23.7639\n",
      "Epoch 31/200\n",
      "12/12 [==============================] - 0s 5ms/step - loss: 9.4679 - val_loss: 23.7512\n",
      "Epoch 32/200\n",
      "12/12 [==============================] - 0s 4ms/step - loss: 9.2971 - val_loss: 23.1163\n",
      "Epoch 33/200\n",
      "12/12 [==============================] - 0s 4ms/step - loss: 9.3193 - val_loss: 22.3858\n",
      "Epoch 34/200\n",
      "12/12 [==============================] - 0s 4ms/step - loss: 8.4993 - val_loss: 23.0815\n",
      "Epoch 35/200\n",
      "12/12 [==============================] - 0s 5ms/step - loss: 9.0766 - val_loss: 21.6565\n",
      "Epoch 36/200\n",
      "12/12 [==============================] - 0s 7ms/step - loss: 8.8368 - val_loss: 22.3627\n",
      "Epoch 37/200\n",
      "12/12 [==============================] - 0s 5ms/step - loss: 8.7469 - val_loss: 22.1714\n",
      "Epoch 38/200\n",
      "12/12 [==============================] - 0s 4ms/step - loss: 8.4356 - val_loss: 22.7598\n",
      "Epoch 39/200\n",
      "12/12 [==============================] - 0s 4ms/step - loss: 8.3183 - val_loss: 22.8468\n",
      "Epoch 40/200\n",
      "12/12 [==============================] - 0s 3ms/step - loss: 8.3826 - val_loss: 22.1944\n",
      "Epoch 41/200\n",
      "12/12 [==============================] - 0s 3ms/step - loss: 8.2722 - val_loss: 22.7475\n",
      "Epoch 42/200\n",
      "12/12 [==============================] - 0s 3ms/step - loss: 8.5546 - val_loss: 20.8881\n",
      "Epoch 43/200\n",
      "12/12 [==============================] - 0s 3ms/step - loss: 8.1958 - val_loss: 22.8062\n",
      "Epoch 44/200\n",
      "12/12 [==============================] - 0s 3ms/step - loss: 8.1359 - val_loss: 21.5673\n",
      "Epoch 45/200\n",
      "12/12 [==============================] - 0s 4ms/step - loss: 8.2443 - val_loss: 20.6093\n",
      "Epoch 46/200\n",
      "12/12 [==============================] - 0s 4ms/step - loss: 8.1503 - val_loss: 22.3120\n",
      "Epoch 47/200\n",
      "12/12 [==============================] - 0s 5ms/step - loss: 7.2994 - val_loss: 20.7976\n",
      "Epoch 48/200\n",
      "12/12 [==============================] - 0s 6ms/step - loss: 7.1838 - val_loss: 21.3242\n",
      "Epoch 49/200\n",
      "12/12 [==============================] - 0s 4ms/step - loss: 7.6558 - val_loss: 20.8395\n",
      "Epoch 50/200\n",
      "12/12 [==============================] - 0s 5ms/step - loss: 7.2745 - val_loss: 21.3178\n",
      "Epoch 51/200\n",
      "12/12 [==============================] - 0s 4ms/step - loss: 7.7235 - val_loss: 21.2130\n",
      "Epoch 52/200\n",
      "12/12 [==============================] - 0s 4ms/step - loss: 7.1573 - val_loss: 20.9504\n",
      "Epoch 53/200\n",
      "12/12 [==============================] - 0s 4ms/step - loss: 7.3972 - val_loss: 21.2285\n",
      "Epoch 54/200\n",
      "12/12 [==============================] - 0s 5ms/step - loss: 7.6225 - val_loss: 21.7027\n",
      "Epoch 55/200\n",
      "12/12 [==============================] - 0s 6ms/step - loss: 6.8362 - val_loss: 19.0617\n",
      "Epoch 56/200\n",
      "12/12 [==============================] - 0s 4ms/step - loss: 7.1779 - val_loss: 20.7588\n",
      "Epoch 57/200\n",
      "12/12 [==============================] - 0s 4ms/step - loss: 6.9715 - val_loss: 19.7976\n",
      "Epoch 58/200\n",
      "12/12 [==============================] - 0s 4ms/step - loss: 7.0688 - val_loss: 20.6880\n",
      "Epoch 59/200\n",
      "12/12 [==============================] - 0s 4ms/step - loss: 6.7415 - val_loss: 20.4745\n",
      "Epoch 60/200\n",
      "12/12 [==============================] - 0s 4ms/step - loss: 6.8929 - val_loss: 20.2320\n",
      "Epoch 61/200\n",
      "12/12 [==============================] - 0s 3ms/step - loss: 6.8719 - val_loss: 19.7147\n",
      "Epoch 62/200\n",
      "12/12 [==============================] - 0s 4ms/step - loss: 6.9101 - val_loss: 20.6450\n",
      "Epoch 63/200\n",
      "12/12 [==============================] - 0s 4ms/step - loss: 5.9334 - val_loss: 19.0396\n",
      "Epoch 64/200\n",
      "12/12 [==============================] - 0s 4ms/step - loss: 6.4497 - val_loss: 19.1525\n",
      "Epoch 65/200\n",
      "12/12 [==============================] - 0s 4ms/step - loss: 6.4878 - val_loss: 19.6961\n",
      "Epoch 66/200\n",
      "12/12 [==============================] - 0s 4ms/step - loss: 6.4116 - val_loss: 19.7942\n",
      "Epoch 67/200\n",
      "12/12 [==============================] - 0s 5ms/step - loss: 6.4037 - val_loss: 19.7909\n",
      "Epoch 68/200\n",
      "12/12 [==============================] - 0s 5ms/step - loss: 6.4111 - val_loss: 18.7297\n",
      "Epoch 69/200\n",
      "12/12 [==============================] - 0s 4ms/step - loss: 6.4017 - val_loss: 18.5085\n",
      "Epoch 70/200\n",
      "12/12 [==============================] - 0s 4ms/step - loss: 6.2631 - val_loss: 18.4908\n",
      "Epoch 71/200\n",
      "12/12 [==============================] - 0s 3ms/step - loss: 6.2122 - val_loss: 18.6117\n",
      "Epoch 72/200\n",
      "12/12 [==============================] - 0s 4ms/step - loss: 6.0772 - val_loss: 18.2473\n",
      "Epoch 73/200\n",
      "12/12 [==============================] - 0s 3ms/step - loss: 6.1674 - val_loss: 17.8369\n",
      "Epoch 74/200\n",
      "12/12 [==============================] - 0s 3ms/step - loss: 5.9168 - val_loss: 18.6683\n",
      "Epoch 75/200\n",
      "12/12 [==============================] - 0s 3ms/step - loss: 6.0352 - val_loss: 17.8342\n",
      "Epoch 76/200\n",
      "12/12 [==============================] - 0s 6ms/step - loss: 6.2115 - val_loss: 17.7750\n",
      "Epoch 77/200\n",
      "12/12 [==============================] - 0s 3ms/step - loss: 6.0603 - val_loss: 17.0421\n",
      "Epoch 78/200\n",
      "12/12 [==============================] - 0s 4ms/step - loss: 6.0553 - val_loss: 17.2563\n",
      "Epoch 79/200\n",
      "12/12 [==============================] - 0s 4ms/step - loss: 5.4521 - val_loss: 17.6628\n",
      "Epoch 80/200\n",
      "12/12 [==============================] - 0s 4ms/step - loss: 5.8394 - val_loss: 17.0523\n",
      "Epoch 81/200\n",
      "12/12 [==============================] - 0s 5ms/step - loss: 5.7647 - val_loss: 16.7521\n"
     ]
    },
    {
     "name": "stdout",
     "output_type": "stream",
     "text": [
      "Epoch 82/200\n",
      "12/12 [==============================] - 0s 5ms/step - loss: 5.7296 - val_loss: 17.0516\n",
      "Epoch 83/200\n",
      "12/12 [==============================] - 0s 5ms/step - loss: 5.6737 - val_loss: 16.5297\n",
      "Epoch 84/200\n",
      "12/12 [==============================] - 0s 4ms/step - loss: 5.5950 - val_loss: 16.6753\n",
      "Epoch 85/200\n",
      "12/12 [==============================] - 0s 4ms/step - loss: 5.4228 - val_loss: 16.0829\n",
      "Epoch 86/200\n",
      "12/12 [==============================] - 0s 4ms/step - loss: 5.3674 - val_loss: 16.9765\n",
      "Epoch 87/200\n",
      "12/12 [==============================] - 0s 4ms/step - loss: 5.2871 - val_loss: 15.7956\n",
      "Epoch 88/200\n",
      "12/12 [==============================] - 0s 4ms/step - loss: 5.2823 - val_loss: 17.2386\n",
      "Epoch 89/200\n",
      "12/12 [==============================] - 0s 4ms/step - loss: 5.2796 - val_loss: 16.0001\n",
      "Epoch 90/200\n",
      "12/12 [==============================] - 0s 4ms/step - loss: 5.1560 - val_loss: 15.1276\n",
      "Epoch 91/200\n",
      "12/12 [==============================] - 0s 4ms/step - loss: 5.1404 - val_loss: 15.2073\n",
      "Epoch 92/200\n",
      "12/12 [==============================] - 0s 4ms/step - loss: 5.1610 - val_loss: 15.9334\n",
      "Epoch 93/200\n",
      "12/12 [==============================] - 0s 4ms/step - loss: 5.1991 - val_loss: 15.2140\n",
      "Epoch 94/200\n",
      "12/12 [==============================] - 0s 4ms/step - loss: 5.2522 - val_loss: 15.4248\n",
      "Epoch 95/200\n",
      "12/12 [==============================] - 0s 4ms/step - loss: 5.0769 - val_loss: 15.8317\n",
      "Epoch 96/200\n",
      "12/12 [==============================] - 0s 4ms/step - loss: 4.8476 - val_loss: 14.5346\n",
      "Epoch 97/200\n",
      "12/12 [==============================] - 0s 4ms/step - loss: 4.7431 - val_loss: 14.8793\n",
      "Epoch 98/200\n",
      "12/12 [==============================] - 0s 4ms/step - loss: 4.7686 - val_loss: 14.9470\n",
      "Epoch 99/200\n",
      "12/12 [==============================] - 0s 4ms/step - loss: 4.3211 - val_loss: 14.2885\n",
      "Epoch 100/200\n",
      "12/12 [==============================] - 0s 4ms/step - loss: 4.6230 - val_loss: 14.3639\n",
      "Epoch 101/200\n",
      "12/12 [==============================] - 0s 3ms/step - loss: 4.9314 - val_loss: 15.3978\n",
      "Epoch 102/200\n",
      "12/12 [==============================] - 0s 4ms/step - loss: 4.8242 - val_loss: 14.0301\n",
      "Epoch 103/200\n",
      "12/12 [==============================] - 0s 7ms/step - loss: 4.9794 - val_loss: 15.7442\n",
      "Epoch 104/200\n",
      "12/12 [==============================] - 0s 5ms/step - loss: 4.5088 - val_loss: 13.3652\n",
      "Epoch 105/200\n",
      "12/12 [==============================] - 0s 4ms/step - loss: 4.3527 - val_loss: 13.4814\n",
      "Epoch 106/200\n",
      "12/12 [==============================] - 0s 4ms/step - loss: 4.6449 - val_loss: 14.0409\n",
      "Epoch 107/200\n",
      "12/12 [==============================] - 0s 4ms/step - loss: 4.5518 - val_loss: 13.7601\n",
      "Epoch 108/200\n",
      "12/12 [==============================] - 0s 4ms/step - loss: 4.3714 - val_loss: 14.2912\n",
      "Epoch 109/200\n",
      "12/12 [==============================] - 0s 4ms/step - loss: 4.4466 - val_loss: 13.5373\n",
      "Epoch 110/200\n",
      "12/12 [==============================] - 0s 4ms/step - loss: 4.1865 - val_loss: 13.2928\n",
      "Epoch 111/200\n",
      "12/12 [==============================] - 0s 4ms/step - loss: 4.4015 - val_loss: 13.4014\n",
      "Epoch 112/200\n",
      "12/12 [==============================] - 0s 4ms/step - loss: 4.4728 - val_loss: 13.1453\n",
      "Epoch 113/200\n",
      "12/12 [==============================] - 0s 4ms/step - loss: 3.8132 - val_loss: 13.1290\n",
      "Epoch 114/200\n",
      "12/12 [==============================] - 0s 4ms/step - loss: 4.1563 - val_loss: 14.4281\n",
      "Epoch 115/200\n",
      "12/12 [==============================] - 0s 5ms/step - loss: 4.4528 - val_loss: 13.3846\n",
      "Epoch 116/200\n",
      "12/12 [==============================] - 0s 4ms/step - loss: 4.1497 - val_loss: 12.3983\n",
      "Epoch 117/200\n",
      "12/12 [==============================] - 0s 4ms/step - loss: 3.9098 - val_loss: 12.7549\n",
      "Epoch 118/200\n",
      "12/12 [==============================] - 0s 4ms/step - loss: 3.7781 - val_loss: 12.8389\n",
      "Epoch 119/200\n",
      "12/12 [==============================] - 0s 4ms/step - loss: 3.8706 - val_loss: 12.7900\n",
      "Epoch 120/200\n",
      "12/12 [==============================] - 0s 4ms/step - loss: 3.9072 - val_loss: 12.4810\n",
      "Epoch 121/200\n",
      "12/12 [==============================] - 0s 4ms/step - loss: 4.0644 - val_loss: 13.2451\n",
      "Epoch 122/200\n",
      "12/12 [==============================] - 0s 5ms/step - loss: 3.9046 - val_loss: 12.8816\n",
      "Epoch 123/200\n",
      "12/12 [==============================] - 0s 5ms/step - loss: 3.7847 - val_loss: 13.1276\n",
      "Epoch 124/200\n",
      "12/12 [==============================] - 0s 4ms/step - loss: 3.8826 - val_loss: 14.9180\n",
      "Epoch 125/200\n",
      "12/12 [==============================] - 0s 6ms/step - loss: 3.7270 - val_loss: 11.7890\n",
      "Epoch 126/200\n",
      "12/12 [==============================] - 0s 4ms/step - loss: 3.6068 - val_loss: 12.4482\n",
      "Epoch 127/200\n",
      "12/12 [==============================] - 0s 4ms/step - loss: 3.7086 - val_loss: 12.7151\n",
      "Epoch 128/200\n",
      "12/12 [==============================] - 0s 4ms/step - loss: 3.4538 - val_loss: 12.4991\n",
      "Epoch 129/200\n",
      "12/12 [==============================] - 0s 4ms/step - loss: 3.4265 - val_loss: 12.1109\n",
      "Epoch 130/200\n",
      "12/12 [==============================] - 0s 4ms/step - loss: 3.6162 - val_loss: 13.0498\n",
      "Epoch 131/200\n",
      "12/12 [==============================] - 0s 4ms/step - loss: 3.5316 - val_loss: 12.1283\n",
      "Epoch 132/200\n",
      "12/12 [==============================] - 0s 4ms/step - loss: 3.1081 - val_loss: 12.3256\n",
      "Epoch 133/200\n",
      "12/12 [==============================] - 0s 4ms/step - loss: 3.4852 - val_loss: 12.5512\n",
      "Epoch 134/200\n",
      "12/12 [==============================] - 0s 4ms/step - loss: 3.2492 - val_loss: 11.6875\n",
      "Epoch 135/200\n",
      "12/12 [==============================] - 0s 4ms/step - loss: 3.1276 - val_loss: 12.0921\n",
      "Epoch 136/200\n",
      "12/12 [==============================] - 0s 5ms/step - loss: 3.6119 - val_loss: 12.5511\n",
      "Epoch 137/200\n",
      "12/12 [==============================] - 0s 5ms/step - loss: 3.4084 - val_loss: 11.9608\n",
      "Epoch 138/200\n",
      "12/12 [==============================] - 0s 5ms/step - loss: 3.0620 - val_loss: 13.3838\n",
      "Epoch 139/200\n",
      "12/12 [==============================] - 0s 4ms/step - loss: 3.4189 - val_loss: 13.4781\n",
      "Epoch 140/200\n",
      "12/12 [==============================] - 0s 4ms/step - loss: 3.3079 - val_loss: 11.5273\n",
      "Epoch 141/200\n",
      "12/12 [==============================] - 0s 4ms/step - loss: 3.1397 - val_loss: 11.5927\n",
      "Epoch 142/200\n",
      "12/12 [==============================] - 0s 4ms/step - loss: 3.1399 - val_loss: 11.9144\n",
      "Epoch 143/200\n",
      "12/12 [==============================] - 0s 5ms/step - loss: 3.1829 - val_loss: 12.0630\n",
      "Epoch 144/200\n",
      "12/12 [==============================] - 0s 4ms/step - loss: 2.9615 - val_loss: 12.2905\n",
      "Epoch 145/200\n",
      "12/12 [==============================] - 0s 5ms/step - loss: 3.1549 - val_loss: 11.5426\n",
      "Epoch 146/200\n",
      "12/12 [==============================] - 0s 5ms/step - loss: 3.0098 - val_loss: 12.6824\n",
      "Epoch 147/200\n",
      "12/12 [==============================] - 0s 6ms/step - loss: 3.1149 - val_loss: 11.7259\n",
      "Epoch 148/200\n",
      "12/12 [==============================] - 0s 6ms/step - loss: 3.0970 - val_loss: 11.6969\n",
      "Epoch 149/200\n",
      "12/12 [==============================] - 0s 4ms/step - loss: 3.0172 - val_loss: 12.1791\n",
      "Epoch 150/200\n",
      "12/12 [==============================] - 0s 4ms/step - loss: 2.8666 - val_loss: 11.9903\n",
      "Epoch 151/200\n",
      "12/12 [==============================] - 0s 4ms/step - loss: 2.8657 - val_loss: 11.8332\n",
      "Epoch 152/200\n",
      "12/12 [==============================] - 0s 4ms/step - loss: 2.8106 - val_loss: 11.8424\n",
      "Epoch 153/200\n",
      "12/12 [==============================] - 0s 4ms/step - loss: 2.8013 - val_loss: 11.3179\n",
      "Epoch 154/200\n",
      "12/12 [==============================] - 0s 4ms/step - loss: 2.7609 - val_loss: 12.3160\n",
      "Epoch 155/200\n",
      "12/12 [==============================] - 0s 4ms/step - loss: 2.6338 - val_loss: 12.1602\n",
      "Epoch 156/200\n",
      "12/12 [==============================] - 0s 4ms/step - loss: 2.7709 - val_loss: 11.9889\n",
      "Epoch 157/200\n",
      "12/12 [==============================] - 0s 6ms/step - loss: 2.7210 - val_loss: 12.3630\n",
      "Epoch 158/200\n",
      "12/12 [==============================] - 0s 5ms/step - loss: 2.8763 - val_loss: 11.9439\n",
      "Epoch 159/200\n",
      "12/12 [==============================] - 0s 6ms/step - loss: 2.7993 - val_loss: 12.0545\n",
      "Epoch 160/200\n",
      "12/12 [==============================] - 0s 4ms/step - loss: 2.8384 - val_loss: 11.7047\n",
      "Epoch 161/200\n",
      "12/12 [==============================] - 0s 4ms/step - loss: 2.7702 - val_loss: 12.5727\n",
      "Epoch 162/200\n",
      "12/12 [==============================] - 0s 4ms/step - loss: 2.8560 - val_loss: 12.4519\n",
      "Epoch 163/200\n",
      "12/12 [==============================] - 0s 4ms/step - loss: 2.8454 - val_loss: 11.8881\n",
      "Epoch 164/200\n",
      "12/12 [==============================] - 0s 4ms/step - loss: 2.6595 - val_loss: 11.3356\n",
      "Epoch 165/200\n",
      "12/12 [==============================] - 0s 5ms/step - loss: 2.5829 - val_loss: 11.1597\n",
      "Epoch 166/200\n",
      "12/12 [==============================] - 0s 4ms/step - loss: 2.6356 - val_loss: 11.4793\n",
      "Epoch 167/200\n",
      "12/12 [==============================] - 0s 4ms/step - loss: 2.5256 - val_loss: 11.7432\n",
      "Epoch 168/200\n",
      "12/12 [==============================] - 0s 4ms/step - loss: 2.4321 - val_loss: 11.5784\n",
      "Epoch 169/200\n",
      "12/12 [==============================] - 0s 4ms/step - loss: 2.4158 - val_loss: 11.9770\n",
      "Epoch 170/200\n",
      "12/12 [==============================] - 0s 4ms/step - loss: 2.4599 - val_loss: 11.4984\n",
      "Epoch 171/200\n",
      "12/12 [==============================] - 0s 4ms/step - loss: 2.3902 - val_loss: 11.7296\n",
      "Epoch 172/200\n",
      "12/12 [==============================] - 0s 5ms/step - loss: 2.4562 - val_loss: 11.2163\n",
      "Epoch 173/200\n",
      "12/12 [==============================] - 0s 4ms/step - loss: 2.5015 - val_loss: 11.7935\n",
      "Epoch 174/200\n",
      "12/12 [==============================] - 0s 5ms/step - loss: 2.5333 - val_loss: 12.0572\n",
      "Epoch 175/200\n",
      "12/12 [==============================] - 0s 5ms/step - loss: 2.4303 - val_loss: 11.9723\n",
      "Epoch 176/200\n",
      "12/12 [==============================] - 0s 5ms/step - loss: 2.4244 - val_loss: 11.5313\n",
      "Epoch 177/200\n",
      "12/12 [==============================] - 0s 4ms/step - loss: 2.2478 - val_loss: 11.7642\n",
      "Epoch 178/200\n",
      "12/12 [==============================] - 0s 4ms/step - loss: 2.2670 - val_loss: 12.8242\n",
      "Epoch 179/200\n",
      "12/12 [==============================] - 0s 4ms/step - loss: 2.3250 - val_loss: 11.5191\n",
      "Epoch 180/200\n",
      "12/12 [==============================] - 0s 4ms/step - loss: 2.2291 - val_loss: 11.5936\n",
      "Epoch 181/200\n",
      "12/12 [==============================] - 0s 4ms/step - loss: 2.2716 - val_loss: 12.0099\n",
      "Epoch 182/200\n",
      "12/12 [==============================] - 0s 4ms/step - loss: 2.0964 - val_loss: 12.8794\n",
      "Epoch 183/200\n",
      "12/12 [==============================] - 0s 4ms/step - loss: 2.4026 - val_loss: 12.0926\n",
      "Epoch 184/200\n",
      "12/12 [==============================] - 0s 4ms/step - loss: 2.5292 - val_loss: 12.2284\n",
      "Epoch 185/200\n",
      "12/12 [==============================] - 0s 4ms/step - loss: 2.5270 - val_loss: 12.3218\n",
      "Epoch 186/200\n",
      "12/12 [==============================] - 0s 4ms/step - loss: 2.1954 - val_loss: 12.2232\n",
      "Epoch 187/200\n",
      "12/12 [==============================] - 0s 4ms/step - loss: 2.0350 - val_loss: 11.7661\n",
      "Epoch 188/200\n",
      "12/12 [==============================] - 0s 4ms/step - loss: 2.2374 - val_loss: 11.2546\n",
      "Epoch 189/200\n",
      "12/12 [==============================] - 0s 5ms/step - loss: 2.1432 - val_loss: 12.0601\n",
      "Epoch 190/200\n",
      "12/12 [==============================] - 0s 4ms/step - loss: 2.0482 - val_loss: 12.0844\n",
      "Epoch 191/200\n",
      "12/12 [==============================] - 0s 4ms/step - loss: 1.9742 - val_loss: 11.6890\n",
      "Epoch 192/200\n",
      "12/12 [==============================] - 0s 5ms/step - loss: 1.9512 - val_loss: 11.7125\n",
      "Epoch 193/200\n",
      "12/12 [==============================] - 0s 5ms/step - loss: 2.0875 - val_loss: 12.3309\n",
      "Epoch 194/200\n",
      "12/12 [==============================] - 0s 6ms/step - loss: 2.2505 - val_loss: 13.1321\n",
      "Epoch 195/200\n",
      "12/12 [==============================] - 0s 4ms/step - loss: 2.0950 - val_loss: 12.5828\n",
      "Epoch 196/200\n",
      "12/12 [==============================] - 0s 3ms/step - loss: 1.8154 - val_loss: 12.5328\n",
      "Epoch 197/200\n",
      "12/12 [==============================] - 0s 4ms/step - loss: 2.0288 - val_loss: 12.0014\n",
      "Epoch 198/200\n",
      "12/12 [==============================] - 0s 4ms/step - loss: 1.8788 - val_loss: 11.8920\n",
      "Epoch 199/200\n",
      "12/12 [==============================] - 0s 4ms/step - loss: 1.7657 - val_loss: 12.5241\n",
      "Epoch 200/200\n",
      "12/12 [==============================] - 0s 4ms/step - loss: 1.9365 - val_loss: 12.5528\n"
     ]
    }
   ],
   "source": [
    "# 모델.fit() 의 반환값 - history : 학습한 내역 (epoch 별 검증결과)를 묶어서 제공.\n",
    "\n",
    "# tf.dataset 을 이용해서 학습할 경우 validation_split 을 사용할 수 없다.\n",
    "# 따로 넣어줘야 함. \n",
    "\n",
    "hist = model.fit(train_dataset, # ??\n",
    "                 epochs=N_EPOCHS, # epoch 수\n",
    "                 validation_data=test_dataset) # validation dataset(tf.data) 제공 (X,y)로 검증. => val_loss 값이 해당 data로 한 검증. - 지금은 test set로 넣음. "
   ]
  },
  {
   "cell_type": "code",
   "execution_count": 47,
   "metadata": {},
   "outputs": [
    {
     "name": "stdout",
     "output_type": "stream",
     "text": [
      "<class 'dict'>\n"
     ]
    },
    {
     "data": {
      "text/plain": [
       "{'loss': [577.3931884765625,\n",
       "  535.208984375,\n",
       "  449.3877868652344,\n",
       "  285.8775939941406,\n",
       "  109.0842514038086,\n",
       "  65.2826919555664,\n",
       "  39.57794952392578,\n",
       "  28.157583236694336,\n",
       "  23.358856201171875,\n",
       "  19.08578109741211,\n",
       "  19.503808975219727,\n",
       "  17.986074447631836,\n",
       "  14.95278263092041,\n",
       "  15.274794578552246,\n",
       "  14.59061050415039,\n",
       "  12.482925415039062,\n",
       "  12.852485656738281,\n",
       "  12.80727481842041,\n",
       "  12.077534675598145,\n",
       "  11.968045234680176,\n",
       "  11.498675346374512,\n",
       "  11.226523399353027,\n",
       "  10.718689918518066,\n",
       "  10.134995460510254,\n",
       "  10.428956031799316,\n",
       "  10.114441871643066,\n",
       "  9.310075759887695,\n",
       "  9.960305213928223,\n",
       "  9.568636894226074,\n",
       "  9.456395149230957,\n",
       "  9.467860221862793,\n",
       "  9.297135353088379,\n",
       "  9.319253921508789,\n",
       "  8.499343872070312,\n",
       "  9.076619148254395,\n",
       "  8.83675765991211,\n",
       "  8.7468843460083,\n",
       "  8.435558319091797,\n",
       "  8.318291664123535,\n",
       "  8.382620811462402,\n",
       "  8.272160530090332,\n",
       "  8.554557800292969,\n",
       "  8.195752143859863,\n",
       "  8.135892868041992,\n",
       "  8.244318962097168,\n",
       "  8.150341987609863,\n",
       "  7.299404144287109,\n",
       "  7.183816909790039,\n",
       "  7.655788898468018,\n",
       "  7.274533748626709,\n",
       "  7.7234930992126465,\n",
       "  7.157324314117432,\n",
       "  7.397247314453125,\n",
       "  7.622509002685547,\n",
       "  6.836175918579102,\n",
       "  7.177921772003174,\n",
       "  6.97151517868042,\n",
       "  7.0688157081604,\n",
       "  6.741517543792725,\n",
       "  6.892856121063232,\n",
       "  6.871913909912109,\n",
       "  6.91005277633667,\n",
       "  5.933434009552002,\n",
       "  6.449691295623779,\n",
       "  6.487773418426514,\n",
       "  6.411610126495361,\n",
       "  6.403669357299805,\n",
       "  6.411077976226807,\n",
       "  6.4017157554626465,\n",
       "  6.263091564178467,\n",
       "  6.212218761444092,\n",
       "  6.077151775360107,\n",
       "  6.16737174987793,\n",
       "  5.916839599609375,\n",
       "  6.035214900970459,\n",
       "  6.21154260635376,\n",
       "  6.0603413581848145,\n",
       "  6.0552802085876465,\n",
       "  5.452106475830078,\n",
       "  5.839367389678955,\n",
       "  5.764686107635498,\n",
       "  5.729581832885742,\n",
       "  5.673719882965088,\n",
       "  5.595012187957764,\n",
       "  5.422769069671631,\n",
       "  5.367364883422852,\n",
       "  5.287144184112549,\n",
       "  5.2822651863098145,\n",
       "  5.279608249664307,\n",
       "  5.156030178070068,\n",
       "  5.140378952026367,\n",
       "  5.161010265350342,\n",
       "  5.199105739593506,\n",
       "  5.252175331115723,\n",
       "  5.076897621154785,\n",
       "  4.847631931304932,\n",
       "  4.743095874786377,\n",
       "  4.76859188079834,\n",
       "  4.321122646331787,\n",
       "  4.623044013977051,\n",
       "  4.931356906890869,\n",
       "  4.824241638183594,\n",
       "  4.979358673095703,\n",
       "  4.508804798126221,\n",
       "  4.352682590484619,\n",
       "  4.644927501678467,\n",
       "  4.5517706871032715,\n",
       "  4.371432781219482,\n",
       "  4.446584224700928,\n",
       "  4.186479091644287,\n",
       "  4.401463031768799,\n",
       "  4.472825050354004,\n",
       "  3.813211679458618,\n",
       "  4.156284809112549,\n",
       "  4.452779293060303,\n",
       "  4.149700164794922,\n",
       "  3.909811019897461,\n",
       "  3.778129816055298,\n",
       "  3.8705806732177734,\n",
       "  3.9072325229644775,\n",
       "  4.064417839050293,\n",
       "  3.904550313949585,\n",
       "  3.784672498703003,\n",
       "  3.882560968399048,\n",
       "  3.727017402648926,\n",
       "  3.606823682785034,\n",
       "  3.708552360534668,\n",
       "  3.4538486003875732,\n",
       "  3.426469087600708,\n",
       "  3.616229772567749,\n",
       "  3.5315897464752197,\n",
       "  3.1081302165985107,\n",
       "  3.48520565032959,\n",
       "  3.249246835708618,\n",
       "  3.1276357173919678,\n",
       "  3.6119205951690674,\n",
       "  3.40840744972229,\n",
       "  3.062044382095337,\n",
       "  3.418926239013672,\n",
       "  3.30788254737854,\n",
       "  3.1396872997283936,\n",
       "  3.139925956726074,\n",
       "  3.182929039001465,\n",
       "  2.961529493331909,\n",
       "  3.1548702716827393,\n",
       "  3.009845495223999,\n",
       "  3.1149346828460693,\n",
       "  3.096991539001465,\n",
       "  3.0172126293182373,\n",
       "  2.8665926456451416,\n",
       "  2.8657066822052,\n",
       "  2.8106203079223633,\n",
       "  2.8013265132904053,\n",
       "  2.760891914367676,\n",
       "  2.6338160037994385,\n",
       "  2.770904541015625,\n",
       "  2.7210357189178467,\n",
       "  2.8763370513916016,\n",
       "  2.7992782592773438,\n",
       "  2.8383586406707764,\n",
       "  2.770177125930786,\n",
       "  2.8560497760772705,\n",
       "  2.845447301864624,\n",
       "  2.659459114074707,\n",
       "  2.5829017162323,\n",
       "  2.6355838775634766,\n",
       "  2.5256426334381104,\n",
       "  2.432131767272949,\n",
       "  2.415769338607788,\n",
       "  2.4599215984344482,\n",
       "  2.3902289867401123,\n",
       "  2.456174612045288,\n",
       "  2.501499891281128,\n",
       "  2.533264636993408,\n",
       "  2.4303481578826904,\n",
       "  2.424406051635742,\n",
       "  2.24784779548645,\n",
       "  2.2669990062713623,\n",
       "  2.325015068054199,\n",
       "  2.2290825843811035,\n",
       "  2.271641969680786,\n",
       "  2.096419334411621,\n",
       "  2.402621030807495,\n",
       "  2.5292320251464844,\n",
       "  2.5269906520843506,\n",
       "  2.19543194770813,\n",
       "  2.035005807876587,\n",
       "  2.237440347671509,\n",
       "  2.143216133117676,\n",
       "  2.0482089519500732,\n",
       "  1.9742302894592285,\n",
       "  1.9511866569519043,\n",
       "  2.087509870529175,\n",
       "  2.2504804134368896,\n",
       "  2.0950419902801514,\n",
       "  1.8153595924377441,\n",
       "  2.0288197994232178,\n",
       "  1.8787864446640015,\n",
       "  1.7656612396240234,\n",
       "  1.9364782571792603],\n",
       " 'val_loss': [588.725341796875,\n",
       "  528.5541381835938,\n",
       "  395.9602966308594,\n",
       "  178.58697509765625,\n",
       "  73.39835357666016,\n",
       "  45.63363265991211,\n",
       "  34.221221923828125,\n",
       "  27.16930389404297,\n",
       "  25.19184684753418,\n",
       "  24.103702545166016,\n",
       "  23.968873977661133,\n",
       "  23.893491744995117,\n",
       "  23.42860984802246,\n",
       "  22.81095314025879,\n",
       "  22.015127182006836,\n",
       "  22.958755493164062,\n",
       "  22.80170440673828,\n",
       "  22.65190887451172,\n",
       "  22.979381561279297,\n",
       "  22.273513793945312,\n",
       "  23.131284713745117,\n",
       "  23.40701675415039,\n",
       "  23.44706916809082,\n",
       "  24.013202667236328,\n",
       "  23.179651260375977,\n",
       "  21.974308013916016,\n",
       "  23.35805320739746,\n",
       "  22.316808700561523,\n",
       "  23.814393997192383,\n",
       "  23.76394271850586,\n",
       "  23.751182556152344,\n",
       "  23.116287231445312,\n",
       "  22.385786056518555,\n",
       "  23.081466674804688,\n",
       "  21.656484603881836,\n",
       "  22.362720489501953,\n",
       "  22.171424865722656,\n",
       "  22.759824752807617,\n",
       "  22.846763610839844,\n",
       "  22.19438934326172,\n",
       "  22.747486114501953,\n",
       "  20.888050079345703,\n",
       "  22.80617332458496,\n",
       "  21.567258834838867,\n",
       "  20.609331130981445,\n",
       "  22.312049865722656,\n",
       "  20.79763412475586,\n",
       "  21.324234008789062,\n",
       "  20.83954620361328,\n",
       "  21.317821502685547,\n",
       "  21.212987899780273,\n",
       "  20.950363159179688,\n",
       "  21.228500366210938,\n",
       "  21.702699661254883,\n",
       "  19.061738967895508,\n",
       "  20.758817672729492,\n",
       "  19.79756736755371,\n",
       "  20.68798828125,\n",
       "  20.47447967529297,\n",
       "  20.231971740722656,\n",
       "  19.714736938476562,\n",
       "  20.645038604736328,\n",
       "  19.039621353149414,\n",
       "  19.1524658203125,\n",
       "  19.696115493774414,\n",
       "  19.79416275024414,\n",
       "  19.79094123840332,\n",
       "  18.729711532592773,\n",
       "  18.508499145507812,\n",
       "  18.490842819213867,\n",
       "  18.611736297607422,\n",
       "  18.247251510620117,\n",
       "  17.836885452270508,\n",
       "  18.668306350708008,\n",
       "  17.834156036376953,\n",
       "  17.775022506713867,\n",
       "  17.04214096069336,\n",
       "  17.2563419342041,\n",
       "  17.662763595581055,\n",
       "  17.052322387695312,\n",
       "  16.7520694732666,\n",
       "  17.051557540893555,\n",
       "  16.529672622680664,\n",
       "  16.675277709960938,\n",
       "  16.082876205444336,\n",
       "  16.976516723632812,\n",
       "  15.795578002929688,\n",
       "  17.238595962524414,\n",
       "  16.000078201293945,\n",
       "  15.127580642700195,\n",
       "  15.207313537597656,\n",
       "  15.933448791503906,\n",
       "  15.214008331298828,\n",
       "  15.424823760986328,\n",
       "  15.831655502319336,\n",
       "  14.53464126586914,\n",
       "  14.879278182983398,\n",
       "  14.947035789489746,\n",
       "  14.288456916809082,\n",
       "  14.363855361938477,\n",
       "  15.397805213928223,\n",
       "  14.030051231384277,\n",
       "  15.744221687316895,\n",
       "  13.36523723602295,\n",
       "  13.481441497802734,\n",
       "  14.040878295898438,\n",
       "  13.760098457336426,\n",
       "  14.291241645812988,\n",
       "  13.53726577758789,\n",
       "  13.29284381866455,\n",
       "  13.401366233825684,\n",
       "  13.14533805847168,\n",
       "  13.129009246826172,\n",
       "  14.428122520446777,\n",
       "  13.384623527526855,\n",
       "  12.398293495178223,\n",
       "  12.754911422729492,\n",
       "  12.838948249816895,\n",
       "  12.789998054504395,\n",
       "  12.480999946594238,\n",
       "  13.245059967041016,\n",
       "  12.88158130645752,\n",
       "  13.127582550048828,\n",
       "  14.91798210144043,\n",
       "  11.78897762298584,\n",
       "  12.448234558105469,\n",
       "  12.715136528015137,\n",
       "  12.49907112121582,\n",
       "  12.110880851745605,\n",
       "  13.049761772155762,\n",
       "  12.128254890441895,\n",
       "  12.32556438446045,\n",
       "  12.55124282836914,\n",
       "  11.687485694885254,\n",
       "  12.092053413391113,\n",
       "  12.551115036010742,\n",
       "  11.960782051086426,\n",
       "  13.383764266967773,\n",
       "  13.47812271118164,\n",
       "  11.52733325958252,\n",
       "  11.592692375183105,\n",
       "  11.914352416992188,\n",
       "  12.063030242919922,\n",
       "  12.290485382080078,\n",
       "  11.5426025390625,\n",
       "  12.682442665100098,\n",
       "  11.72586727142334,\n",
       "  11.696930885314941,\n",
       "  12.179129600524902,\n",
       "  11.990283012390137,\n",
       "  11.833212852478027,\n",
       "  11.842435836791992,\n",
       "  11.317875862121582,\n",
       "  12.31598949432373,\n",
       "  12.160189628601074,\n",
       "  11.9889497756958,\n",
       "  12.362980842590332,\n",
       "  11.943925857543945,\n",
       "  12.054508209228516,\n",
       "  11.704729080200195,\n",
       "  12.572651863098145,\n",
       "  12.45188045501709,\n",
       "  11.888062477111816,\n",
       "  11.335627555847168,\n",
       "  11.159701347351074,\n",
       "  11.479255676269531,\n",
       "  11.743210792541504,\n",
       "  11.578361511230469,\n",
       "  11.976998329162598,\n",
       "  11.498361587524414,\n",
       "  11.729623794555664,\n",
       "  11.216285705566406,\n",
       "  11.793478965759277,\n",
       "  12.057193756103516,\n",
       "  11.972304344177246,\n",
       "  11.5313081741333,\n",
       "  11.76419734954834,\n",
       "  12.824175834655762,\n",
       "  11.519055366516113,\n",
       "  11.59360408782959,\n",
       "  12.00987434387207,\n",
       "  12.879365921020508,\n",
       "  12.092597961425781,\n",
       "  12.22835636138916,\n",
       "  12.32184886932373,\n",
       "  12.223163604736328,\n",
       "  11.766059875488281,\n",
       "  11.254583358764648,\n",
       "  12.060138702392578,\n",
       "  12.08437728881836,\n",
       "  11.688997268676758,\n",
       "  11.712458610534668,\n",
       "  12.330945014953613,\n",
       "  13.132083892822266,\n",
       "  12.582792282104492,\n",
       "  12.532770156860352,\n",
       "  12.001433372497559,\n",
       "  11.892046928405762,\n",
       "  12.524145126342773,\n",
       "  12.552796363830566]}"
      ]
     },
     "execution_count": 47,
     "metadata": {},
     "output_type": "execute_result"
    }
   ],
   "source": [
    "# key값으로 value 불러와 시각화\n",
    "print(type(hist.history))\n",
    "hist.history"
   ]
  },
  {
   "cell_type": "markdown",
   "metadata": {
    "slideshow": {
     "slide_type": "slide"
    }
   },
   "source": [
    "##### 결과 시각화"
   ]
  },
  {
   "cell_type": "code",
   "execution_count": 48,
   "metadata": {
    "ExecuteTime": {
     "end_time": "2021-11-03T00:26:20.841629Z",
     "start_time": "2021-11-03T00:26:20.515761Z"
    },
    "slideshow": {
     "slide_type": "fragment"
    }
   },
   "outputs": [],
   "source": [
    "import matplotlib.pyplot as plt"
   ]
  },
  {
   "cell_type": "code",
   "execution_count": 49,
   "metadata": {
    "ExecuteTime": {
     "end_time": "2021-11-03T00:26:23.852973Z",
     "start_time": "2021-11-03T00:26:23.696962Z"
    },
    "slideshow": {
     "slide_type": "fragment"
    }
   },
   "outputs": [
    {
     "data": {
      "image/png": "[encoded data removed]",
      "text/plain": [
       "<Figure size 576x432 with 1 Axes>"
      ]
     },
     "metadata": {
      "needs_background": "light"
     },
     "output_type": "display_data"
    }
   ],
   "source": [
    "plt.figure(figsize=(8,6))\n",
    "\n",
    "plt.plot(range(1,N_EPOCHS+1), hist.history['loss'], label='Train Loss')\n",
    "plt.plot(range(1,N_EPOCHS+1), hist.history['val_loss'], label='Validation Loss')\n",
    "\n",
    "plt.xlabel(\"Epochs\")\n",
    "plt.ylabel('Loss')\n",
    "plt.legend()\n",
    "plt.show()\n",
    "\n",
    "# 처음에 loss가 너무 커서"
   ]
  },
  {
   "cell_type": "code",
   "execution_count": 50,
   "metadata": {
    "ExecuteTime": {
     "end_time": "2021-11-03T00:26:26.920761Z",
     "start_time": "2021-11-03T00:26:26.792037Z"
    },
    "slideshow": {
     "slide_type": "fragment"
    }
   },
   "outputs": [
    {
     "data": {
      "image/png": "[encoded data removed]",
      "text/plain": [
       "<Figure size 576x432 with 1 Axes>"
      ]
     },
     "metadata": {
      "needs_background": "light"
     },
     "output_type": "display_data"
    }
   ],
   "source": [
    "plt.figure(figsize=(8,6))\n",
    "plt.plot(range(1,N_EPOCHS+1), hist.history['loss'], label='Train Loss')\n",
    "plt.plot(range(1,N_EPOCHS+1), hist.history['val_loss'], label='Validation Loss')\n",
    "plt.xlabel(\"Epochs\")\n",
    "plt.ylabel('Loss')\n",
    "\n",
    "# y축 값의 범위를 제한해서 \n",
    "plt.ylim(0,50)\n",
    "\n",
    "plt.legend()\n",
    "plt.show()\n",
    "\n",
    "# train - 진행될수록 줄어듦\n",
    "# test - 줄어들다가 늘어남. 또는 줄어들다가 유지\n",
    "    # 현재 줄어들다가 늘어남. => 적당한 epoch 수를 찾아야 함."
   ]
  },
  {
   "cell_type": "markdown",
   "metadata": {
    "slideshow": {
     "slide_type": "slide"
    }
   },
   "source": [
    "##### 최종 테스트"
   ]
  },
  {
   "cell_type": "code",
   "execution_count": 52,
   "metadata": {
    "ExecuteTime": {
     "end_time": "2021-11-03T00:26:48.210620Z",
     "start_time": "2021-11-03T00:26:48.162252Z"
    },
    "slideshow": {
     "slide_type": "fragment"
    }
   },
   "outputs": [
    {
     "name": "stdout",
     "output_type": "stream",
     "text": [
      "4/4 [==============================] - 0s 4ms/step - loss: 12.5528\n",
      "12.552796363830566 3.542992571800083\n"
     ]
    }
   ],
   "source": [
    "loss = model.evaluate(test_dataset)\n",
    "print(loss, np.sqrt(loss)) # loss 단위가 mse라, 원래 상태로 루트 씌우면 - 3.5429 정도의 오차가 생길 수 있다."
   ]
  },
  {
   "cell_type": "markdown",
   "metadata": {
    "slideshow": {
     "slide_type": "slide"
    }
   },
   "source": [
    "##### 모델 네트워크 저장"
   ]
  },
  {
   "cell_type": "code",
   "execution_count": 53,
   "metadata": {
    "ExecuteTime": {
     "end_time": "2021-11-03T00:27:08.142867Z",
     "start_time": "2021-11-03T00:27:07.489865Z"
    },
    "slideshow": {
     "slide_type": "fragment"
    }
   },
   "outputs": [
    {
     "name": "stdout",
     "output_type": "stream",
     "text": [
      "INFO:tensorflow:Assets written to: models/boston_hosing_model\\assets\n"
     ]
    }
   ],
   "source": [
    "# 이 결과는 메모리에 있기 때문에 재사용을 위해 저장해줘야 함.\n",
    "# 근데 데이터 로드 , 전처리를 해줘야 한다.\n",
    "\n",
    "model.save('models/boston_hosing_model')\n",
    "\n",
    "\n",
    "# variabel : weight bias 값들 따로 저장"
   ]
  },
  {
   "cell_type": "code",
   "execution_count": 10,
   "metadata": {},
   "outputs": [],
   "source": [
    "# 저장된 모델을 읽어오기\n",
    "from tensorflow import keras\n",
    "import numpy as np\n",
    "\n",
    "housing_model = keras.models.load_model('models/boston_hosing_model') # 파일로 저장된 모델을 Loading"
   ]
  },
  {
   "cell_type": "markdown",
   "metadata": {
    "slideshow": {
     "slide_type": "slide"
    }
   },
   "source": [
    "##### 새로운 데이터 추론"
   ]
  },
  {
   "cell_type": "code",
   "execution_count": 12,
   "metadata": {
    "ExecuteTime": {
     "end_time": "2021-11-03T00:28:25.092114Z",
     "start_time": "2021-11-03T00:28:24.972757Z"
    },
    "slideshow": {
     "slide_type": "fragment"
    }
   },
   "outputs": [
    {
     "name": "stdout",
     "output_type": "stream",
     "text": [
      "1/1 [==============================] - 0s 288ms/step\n"
     ]
    }
   ],
   "source": [
    "new_data = X_test[:5]\n",
    "\n",
    "# model.predict(추론할 Feature):추론결과 layer 쭉 거쳐 output layer가 출력한 값이 나옴.\n",
    "pred = housing_model.predict(new_data)"
   ]
  },
  {
   "cell_type": "code",
   "execution_count": 13,
   "metadata": {
    "ExecuteTime": {
     "end_time": "2021-11-03T00:28:26.346282Z",
     "start_time": "2021-11-03T00:28:26.339282Z"
    },
    "slideshow": {
     "slide_type": "fragment"
    }
   },
   "outputs": [
    {
     "data": {
      "text/plain": [
       "array([[ 8.571018],\n",
       "       [18.152143],\n",
       "       [20.61677 ],\n",
       "       [32.03618 ],\n",
       "       [24.65509 ]], dtype=float32)"
      ]
     },
     "execution_count": 13,
     "metadata": {},
     "output_type": "execute_result"
    }
   ],
   "source": [
    "pred"
   ]
  },
  {
   "cell_type": "code",
   "execution_count": 14,
   "metadata": {
    "ExecuteTime": {
     "end_time": "2021-11-03T00:28:28.308367Z",
     "start_time": "2021-11-03T00:28:28.297334Z"
    },
    "slideshow": {
     "slide_type": "fragment"
    }
   },
   "outputs": [
    {
     "data": {
      "text/plain": [
       "array([ 7.2, 18.8, 19. , 27. , 22.2])"
      ]
     },
     "execution_count": 14,
     "metadata": {},
     "output_type": "execute_result"
    }
   ],
   "source": [
    "test_y[:5]"
   ]
  },
  {
   "cell_type": "markdown",
   "metadata": {
    "slideshow": {
     "slide_type": "slide"
    }
   },
   "source": [
    "# 2. 분류 (Classification)\n",
    "\n",
    "## Fashion MNIST Dataset - 다중분류(Multi-Class Classification) 문제"
   ]
  },
  {
   "cell_type": "markdown",
   "metadata": {
    "slideshow": {
     "slide_type": "fragment"
    }
   },
   "source": [
    "10개의 범주(category)와 70,000개의 흑백 이미지로 구성된 [패션 MNIST](https://github.com/zalandoresearch/fashion-mnist) 데이터셋. \n",
    "이미지는 해상도(28x28 픽셀)가 낮고 다음처럼 개별 의류 품목을 나타낸다:\n",
    "\n",
    "<table>\n",
    "  <tr><td>\n",
    "    <img src=\"https://tensorflow.org/images/fashion-mnist-sprite.png\"\n",
    "         alt=\"Fashion MNIST sprite\"  width=\"600\">\n",
    "  </td></tr>\n",
    "  <tr><td align=\"center\">\n",
    "    <b>그림</b> <a href=\"https://github.com/zalandoresearch/fashion-mnist\">패션-MNIST 샘플</a> (Zalando, MIT License).<br/>&nbsp;\n",
    "  </td></tr>\n",
    "</table>"
   ]
  },
  {
   "cell_type": "markdown",
   "metadata": {
    "slideshow": {
     "slide_type": "fragment"
    }
   },
   "source": [
    "이미지는 28x28 크기이며 Gray scale이다. *레이블*(label)은 0에서 9까지의 정수 배열이다. 아래 표는 이미지에 있는 의류의 **클래스**(class)들이다.\n",
    "\n",
    "<table>\n",
    "  <tr>\n",
    "    <th>레이블</th>\n",
    "    <th>클래스</th>\n",
    "  </tr>\n",
    "  <tr>\n",
    "    <td>0</td>\n",
    "    <td>T-shirt/top</td>\n",
    "  </tr>\n",
    "  <tr>\n",
    "    <td>1</td>\n",
    "    <td>Trousers</td>\n",
    "  </tr>\n",
    "    <tr>\n",
    "    <td>2</td>\n",
    "    <td>Pullover</td>\n",
    "  </tr>\n",
    "    <tr>\n",
    "    <td>3</td>\n",
    "    <td>Dress</td>\n",
    "  </tr>\n",
    "    <tr>\n",
    "    <td>4</td>\n",
    "    <td>Coat</td>\n",
    "  </tr>\n",
    "    <tr>\n",
    "    <td>5</td>\n",
    "    <td>Sandal</td>\n",
    "  </tr>\n",
    "    <tr>\n",
    "    <td>6</td>\n",
    "    <td>Shirt</td>\n",
    "  </tr>\n",
    "    <tr>\n",
    "    <td>7</td>\n",
    "    <td>Sneaker</td>\n",
    "  </tr>\n",
    "    <tr>\n",
    "    <td>8</td>\n",
    "    <td>Bag</td>\n",
    "  </tr>\n",
    "    <tr>\n",
    "    <td>9</td>\n",
    "    <td>Ankle boot</td>\n",
    "  </tr>\n",
    "</table>\n",
    "\n",
    "각 이미지는 하나의 레이블에 매핑되어 있다. 데이터셋에 클래스 이름이 들어있지 않기 때문에 나중에 이미지를 출력할 때 사용하기 위해 별도의 변수를 만들어 저장한다."
   ]
  },
  {
   "cell_type": "code",
   "execution_count": 15,
   "metadata": {
    "ExecuteTime": {
     "end_time": "2021-11-03T00:47:06.072078Z",
     "start_time": "2021-11-03T00:47:06.056411Z"
    },
    "slideshow": {
     "slide_type": "slide"
    }
   },
   "outputs": [],
   "source": [
    "import numpy as np\n",
    "import tensorflow as tf\n",
    "from tensorflow import keras\n",
    "from tensorflow.keras import layers\n",
    "import matplotlib.pyplot as plt\n",
    "\n",
    "np.random.seed(0)\n",
    "tf.random.set_seed(0)"
   ]
  },
  {
   "cell_type": "code",
   "execution_count": 19,
   "metadata": {
    "ExecuteTime": {
     "end_time": "2021-11-03T00:47:08.417890Z",
     "start_time": "2021-11-03T00:47:08.409857Z"
    },
    "slideshow": {
     "slide_type": "fragment"
    }
   },
   "outputs": [],
   "source": [
    "# label 만들기. - 인덱스로 label 들고오기 위해\n",
    "# 펜시인덱싱 을 위해서 리스트가 아닌 넘파이 배열로 만들었다.\n",
    "class_names = np.array(['T-shirt/top', 'Trousers', 'Pullover', 'Dress', 'Coat', 'Sandal', 'Shirt', 'Sneaker', 'Bag', 'Ankle boot'])"
   ]
  },
  {
   "cell_type": "code",
   "execution_count": 20,
   "metadata": {
    "ExecuteTime": {
     "end_time": "2021-11-03T00:47:08.417890Z",
     "start_time": "2021-11-03T00:47:08.409857Z"
    },
    "slideshow": {
     "slide_type": "fragment"
    }
   },
   "outputs": [
    {
     "data": {
      "text/plain": [
       "array(['T-shirt/top', 'Coat'], dtype='<U11')"
      ]
     },
     "execution_count": 20,
     "metadata": {},
     "output_type": "execute_result"
    }
   ],
   "source": [
    "p = [0, 4]\n",
    "class_names[p]"
   ]
  },
  {
   "cell_type": "markdown",
   "metadata": {
    "slideshow": {
     "slide_type": "slide"
    }
   },
   "source": [
    "##### Data 로딩"
   ]
  },
  {
   "cell_type": "code",
   "execution_count": 21,
   "metadata": {
    "ExecuteTime": {
     "end_time": "2021-11-03T00:47:16.054009Z",
     "start_time": "2021-11-03T00:47:15.714441Z"
    },
    "slideshow": {
     "slide_type": "fragment"
    }
   },
   "outputs": [
    {
     "name": "stdout",
     "output_type": "stream",
     "text": [
      "Downloading data from https://storage.googleapis.com/tensorflow/tf-keras-datasets/train-labels-idx1-ubyte.gz\n",
      "29515/29515 [==============================] - 0s 0us/step\n",
      "Downloading data from https://storage.googleapis.com/tensorflow/tf-keras-datasets/train-images-idx3-ubyte.gz\n",
      "26421880/26421880 [==============================] - 2s 0us/step\n",
      "Downloading data from https://storage.googleapis.com/tensorflow/tf-keras-datasets/t10k-labels-idx1-ubyte.gz\n",
      "5148/5148 [==============================] - 0s 0s/step\n",
      "Downloading data from https://storage.googleapis.com/tensorflow/tf-keras-datasets/t10k-images-idx3-ubyte.gz\n",
      "4422102/4422102 [==============================] - 0s 0us/step\n"
     ]
    }
   ],
   "source": [
    "(train_image, train_label), (test_image, test_label) = keras.datasets.fashion_mnist.load_data()"
   ]
  },
  {
   "cell_type": "markdown",
   "metadata": {
    "slideshow": {
     "slide_type": "fragment"
    }
   },
   "source": [
    "##### validation data set  생성"
   ]
  },
  {
   "cell_type": "code",
   "execution_count": 22,
   "metadata": {
    "ExecuteTime": {
     "end_time": "2021-11-03T00:47:26.450100Z",
     "start_time": "2021-11-03T00:47:26.393999Z"
    },
    "slideshow": {
     "slide_type": "fragment"
    }
   },
   "outputs": [],
   "source": [
    "# 검증용 데이터 셋을 위해 Train dataset 을\n",
    "# 사이킨런의 train_test_split 을 사용하여 Train/Val 분리\n",
    "# 분류 문제니깐 stratify = \n",
    "from sklearn.model_selection import train_test_split\n",
    "train_image, val_image, train_label, val_label = train_test_split(train_image, train_label, test_size=0.2, stratify=train_label, random_state=0)"
   ]
  },
  {
   "cell_type": "code",
   "execution_count": 23,
   "metadata": {},
   "outputs": [
    {
     "data": {
      "text/plain": [
       "((48000, 28, 28), (12000, 28, 28), (10000, 28, 28))"
      ]
     },
     "execution_count": 23,
     "metadata": {},
     "output_type": "execute_result"
    }
   ],
   "source": [
    "train_image.shape, val_image.shape, test_image.shape"
   ]
  },
  {
   "cell_type": "markdown",
   "metadata": {
    "slideshow": {
     "slide_type": "slide"
    }
   },
   "source": [
    "##### 이미지 확인"
   ]
  },
  {
   "cell_type": "code",
   "execution_count": 27,
   "metadata": {
    "ExecuteTime": {
     "end_time": "2021-11-03T00:49:25.876438Z",
     "start_time": "2021-11-03T00:49:25.130004Z"
    },
    "scrolled": false,
    "slideshow": {
     "slide_type": "fragment"
    }
   },
   "outputs": [
    {
     "data": {
      "image/png": "[encoded data removed]",
      "text/plain": [
       "<Figure size 720x720 with 25 Axes>"
      ]
     },
     "metadata": {},
     "output_type": "display_data"
    }
   ],
   "source": [
    "plt.figure(figsize=(10,10))\n",
    "for i in range(25):\n",
    "    plt.subplot(5,5,i+1)\n",
    "    plt.xticks([])\n",
    "    plt.yticks([])\n",
    "    # plt.imshow(train_image[i], cmap=\"gray\") # 원래\n",
    "\n",
    "    plt.imshow(train_image[i], cmap=\"Greys\") # Greys : 0 (B -> W) ~ 255(W -> B)\n",
    "    plt.xlabel(class_names[train_label[i]])\n",
    "\n",
    "plt.tight_layout()\n",
    "plt.show()"
   ]
  },
  {
   "cell_type": "markdown",
   "metadata": {
    "slideshow": {
     "slide_type": "slide"
    }
   },
   "source": [
    "#### 하이퍼파라미터, 변수 설정"
   ]
  },
  {
   "cell_type": "code",
   "execution_count": 28,
   "metadata": {
    "ExecuteTime": {
     "end_time": "2021-11-03T00:50:08.423973Z",
     "start_time": "2021-11-03T00:50:08.412998Z"
    },
    "slideshow": {
     "slide_type": "fragment"
    }
   },
   "outputs": [],
   "source": [
    "LEARNING_RATE = 0.001\n",
    "N_EPOCHS = 20 # 처음엔 크게 잡고 나중에 줄여야하지만, 수업 시간 상 작게\n",
    "N_BATCHS = 100\n",
    "\n",
    "# 각 data set 의 데이터 개수를 변수에 저장\n",
    "N_TRAIN = train_image.shape[0]\n",
    "N_VAL = val_image.shape[0]\n",
    "N_TEST = test_image.shape[0]"
   ]
  },
  {
   "cell_type": "markdown",
   "metadata": {
    "slideshow": {
     "slide_type": "fragment"
    }
   },
   "source": [
    "#### X, y  전처리\n",
    "- y값 처리\n",
    "    - 다중 분류에서 label encoding 형식의 label을 one hot encoding 처리\n",
    "        - 모델이 각 클래스 별 확률을 출력하도록 구현 -> loss 계산을 위해 y(groud truth-정답)을 one hot encoding 처리."
   ]
  },
  {
   "cell_type": "code",
   "execution_count": 32,
   "metadata": {},
   "outputs": [
    {
     "data": {
      "text/plain": [
       "(48000,)"
      ]
     },
     "execution_count": 32,
     "metadata": {},
     "output_type": "execute_result"
    }
   ],
   "source": [
    "train_label.shape"
   ]
  },
  {
   "cell_type": "code",
   "execution_count": 29,
   "metadata": {},
   "outputs": [
    {
     "data": {
      "text/plain": [
       "array([6, 5, 0, 1, 0], dtype=uint8)"
      ]
     },
     "execution_count": 29,
     "metadata": {},
     "output_type": "execute_result"
    }
   ],
   "source": [
    "train_label[:5] # label이 1차원 배열 => 다중 => one hot encoding"
   ]
  },
  {
   "cell_type": "code",
   "execution_count": 30,
   "metadata": {
    "ExecuteTime": {
     "end_time": "2021-11-03T00:50:14.644235Z",
     "start_time": "2021-11-03T00:50:14.627229Z"
    },
    "slideshow": {
     "slide_type": "fragment"
    }
   },
   "outputs": [
    {
     "name": "stdout",
     "output_type": "stream",
     "text": [
      "(48000, 10) (12000, 10) (10000, 10)\n"
     ]
    }
   ],
   "source": [
    "y_train = keras.utils.to_categorical(train_label)\n",
    "y_val = keras.utils.to_categorical(val_label)\n",
    "y_test = keras.utils.to_categorical(test_label)\n",
    "\n",
    "print(y_train.shape, y_val.shape, y_test.shape)"
   ]
  },
  {
   "cell_type": "code",
   "execution_count": 31,
   "metadata": {},
   "outputs": [
    {
     "data": {
      "text/plain": [
       "array([[0., 0., 0., 0., 0., 0., 1., 0., 0., 0.],\n",
       "       [0., 0., 0., 0., 0., 1., 0., 0., 0., 0.],\n",
       "       [1., 0., 0., 0., 0., 0., 0., 0., 0., 0.],\n",
       "       [0., 1., 0., 0., 0., 0., 0., 0., 0., 0.],\n",
       "       [1., 0., 0., 0., 0., 0., 0., 0., 0., 0.]], dtype=float32)"
      ]
     },
     "execution_count": 31,
     "metadata": {},
     "output_type": "execute_result"
    }
   ],
   "source": [
    "y_train[:5]\n",
    "\n",
    "# array([[0., 0., 0., 0., 0., 0., 1., 0., 0., 0.],\n",
    "#   =>   [0.1, 0.,0.1, 0.,0.,0.,0.1, 0.8, 0., 0., 0.] 정답인 확률을 구한다.\n",
    "# 나머지는 필요없고 정답일 확률만을 원한다.\n",
    "# 둘을 곱하면 나머지 0 이고, 정답(1)일 확률 0.8 값 나옴 -- 이러한 처리를 위해 one hot encoding"
   ]
  },
  {
   "cell_type": "markdown",
   "metadata": {
    "slideshow": {
     "slide_type": "fragment"
    }
   },
   "source": [
    "- x값(이미지) 처리\n",
    "    - dtype을 uint8에서 float32로 변환한다.\n",
    "    - 0 ~ 1 정규화. X/255.0으로 나눈다.\n",
    "    "
   ]
  },
  {
   "cell_type": "code",
   "execution_count": 33,
   "metadata": {
    "ExecuteTime": {
     "end_time": "2021-11-03T00:50:23.474850Z",
     "start_time": "2021-11-03T00:50:23.392977Z"
    },
    "slideshow": {
     "slide_type": "fragment"
    }
   },
   "outputs": [],
   "source": [
    "X_train = train_image.astype(np.float32)\n",
    "X_val = val_image.astype(np.float32)\n",
    "X_test = test_image.astype(np.float32)\n",
    "\n",
    "# 255 로 나누는 작업은 dataset 생성 시 map 을 이용해서 처리하자.!\n",
    "# 실제 할 때는 직접 255 로 나누도록 한다. map 을 사용하는 것은 비효율적이다.\n",
    "# 수업 을 위해 map으로 "
   ]
  },
  {
   "cell_type": "markdown",
   "metadata": {
    "slideshow": {
     "slide_type": "slide"
    }
   },
   "source": [
    "##### Dataset 생성"
   ]
  },
  {
   "cell_type": "code",
   "execution_count": 35,
   "metadata": {
    "ExecuteTime": {
     "end_time": "2021-11-03T00:50:46.169253Z",
     "start_time": "2021-11-03T00:50:45.834414Z"
    },
    "slideshow": {
     "slide_type": "fragment"
    }
   },
   "outputs": [],
   "source": [
    "# map : x,y 를 받아서 x는 255로 나눠서 정규화 처리, y는 그대로 반환\n",
    "# shuffle : 완전셔플(train set 크기)\n",
    "# batch : 자투리 안 씀\n",
    "\n",
    "train_dataset = tf.data.Dataset.from_tensor_slices((X_train, y_train))\\\n",
    "                               .map(lambda x, y : (x/255, y))\\\n",
    "                               .shuffle(N_TRAIN)\\\n",
    "                               .batch(N_BATCHS, drop_remainder=True)\n",
    "\n",
    "# shuffle 필요없음\n",
    "val_dataset = tf.data.Dataset.from_tensor_slices((X_val, y_val)).map(lambda x, y:(x/255, y)).batch(N_BATCHS)\n",
    "test_dataset = tf.data.Dataset.from_tensor_slices((X_test, y_test)).map(lambda x, y:(x/255, y)).batch(N_BATCHS)"
   ]
  },
  {
   "cell_type": "code",
   "execution_count": 36,
   "metadata": {
    "ExecuteTime": {
     "end_time": "2021-11-03T00:50:47.656028Z",
     "start_time": "2021-11-03T00:50:47.641016Z"
    },
    "slideshow": {
     "slide_type": "fragment"
    }
   },
   "outputs": [
    {
     "data": {
      "text/plain": [
       "(48000, 28, 28)"
      ]
     },
     "execution_count": 36,
     "metadata": {},
     "output_type": "execute_result"
    }
   ],
   "source": [
    "X_train.shape"
   ]
  },
  {
   "cell_type": "markdown",
   "metadata": {
    "slideshow": {
     "slide_type": "slide"
    }
   },
   "source": [
    "##### 모델 생성 및 컴파일"
   ]
  },
  {
   "cell_type": "code",
   "execution_count": 37,
   "metadata": {
    "ExecuteTime": {
     "end_time": "2021-11-03T00:51:29.420936Z",
     "start_time": "2021-11-03T00:51:29.411925Z"
    },
    "slideshow": {
     "slide_type": "fragment"
    }
   },
   "outputs": [],
   "source": [
    "def create_fashionmnist_model():\n",
    "    model = keras.Sequential()\n",
    "    \n",
    "    # Hidden Layer\n",
    "    # 1. Flatten + input_shape 을 지정해서 InputLayer를 추가.\n",
    "    # model.add(Layers.InputLayer((28,28)))\n",
    "    \n",
    "    # .Flatten : 입력데이터의 shape이 다차원 배열 형태일 때 1차원 배열로 변환 (28,28) -> (28*28,)\n",
    "    #  => denselayer의 입력은 1차원 배열이여야 한다.\n",
    "    \n",
    "    # 1개의 이미지 데이터의 구성이 28 X 28 인 것이고 이게 (28,28) 로 표현된것이다.\n",
    "    # 가중치 연산은 data 1개 기준으로 data vector 과 weight vector 를 내적하는 것\n",
    "    # 1개의 이미지 데이터에 대해 data vector 로 이 이미지의 구성인 28X28 인 것이다.\n",
    "\n",
    "    # 그런데 2차원 배열을 그대로 dense layer에 넣으면 행렬(행28, 열28) 이 feature로 들어가는 것\n",
    "    # 행렬 과 weight 을 내적하게 되는 것.\n",
    "    # 한 유닛에 1개의 data 기준으로 보면 data vector와 weight vector 내적으로\n",
    "    # 한 이미지에 대해 하나의 분류 결과를 내는 건데 4개의 결과가 나옴. 원하는 연산이 아님.\n",
    "    \n",
    "    \n",
    "    # ==> 1차원 배열 (784, ) 로 바꿔서 layer 에 넣는다.\n",
    "\n",
    "    \n",
    "    model.add(layers.Flatten(input_shape=(28,28))) # input 변환해주는 layer\n",
    "    \n",
    "    model.add(layers.Dense(units=256, activation='relu'))\n",
    "    model.add(layers.Dense(units=128, activation='relu'))\n",
    "    model.add(layers.Dense(units=64, activation='relu'))\n",
    "    \n",
    "    # output layer: 다중분류 - unit수: class수 (각 unit 이 클래스 별 확률출력) \n",
    "    # - activation 함수 : softmax (확률로 바꿔주는 함수)\n",
    "    model.add(layers.Dense(units=10, activation='softmax'))\n",
    "    \n",
    "    return model"
   ]
  },
  {
   "cell_type": "code",
   "execution_count": 38,
   "metadata": {
    "ExecuteTime": {
     "end_time": "2021-11-03T00:51:36.406169Z",
     "start_time": "2021-11-03T00:51:36.339074Z"
    },
    "slideshow": {
     "slide_type": "fragment"
    }
   },
   "outputs": [],
   "source": [
    "model = create_fashionmnist_model()\n",
    "\n",
    "# 컴파일\n",
    "# 다중분류 : loss - categorical crossentropy (log loss) - 정답인 확률만 남겨 오차 계산으로 씀.\n",
    "model.compile(optimizer=keras.optimizers.Adam(learning_rate=LEARNING_RATE), \n",
    "              loss='categorical_crossentropy',\n",
    "              metrics=['accuracy']) # 평가지표 - accuracy 추가 (loss와 accuracy 두개를 평가지표로 확인.)"
   ]
  },
  {
   "cell_type": "code",
   "execution_count": 42,
   "metadata": {
    "ExecuteTime": {
     "end_time": "2021-11-03T00:51:38.364828Z",
     "start_time": "2021-11-03T00:51:38.354855Z"
    },
    "slideshow": {
     "slide_type": "fragment"
    }
   },
   "outputs": [
    {
     "name": "stdout",
     "output_type": "stream",
     "text": [
      "Model: \"sequential\"\n",
      "_________________________________________________________________\n",
      " Layer (type)                Output Shape              Param #   \n",
      "=================================================================\n",
      " flatten (Flatten)           (None, 784)               0         \n",
      "                                                                 \n",
      " dense (Dense)               (None, 256)               200960    \n",
      "                                                                 \n",
      " dense_1 (Dense)             (None, 128)               32896     \n",
      "                                                                 \n",
      " dense_2 (Dense)             (None, 64)                8256      \n",
      "                                                                 \n",
      " dense_3 (Dense)             (None, 10)                650       \n",
      "                                                                 \n",
      "=================================================================\n",
      "Total params: 242,762\n",
      "Trainable params: 242,762\n",
      "Non-trainable params: 0\n",
      "_________________________________________________________________\n"
     ]
    }
   ],
   "source": [
    "model.summary()\n",
    "\n",
    "# 28*28 => (784,) 1차원배열이 dense layer 로 들어감\n",
    "# none - batch size따라 달라 무시"
   ]
  },
  {
   "cell_type": "code",
   "execution_count": 43,
   "metadata": {
    "ExecuteTime": {
     "end_time": "2021-11-03T00:52:05.523556Z",
     "start_time": "2021-11-03T00:52:05.291154Z"
    },
    "slideshow": {
     "slide_type": "fragment"
    }
   },
   "outputs": [
    {
     "name": "stdout",
     "output_type": "stream",
     "text": [
      "You must install pydot (`pip install pydot`) and install graphviz (see instructions at https://graphviz.gitlab.io/download/) for plot_model/model_to_dot to work.\n"
     ]
    }
   ],
   "source": [
    "keras.utils.plot_model(model, show_shapes=True, to_file='fashion_mnist_model.png')"
   ]
  },
  {
   "cell_type": "markdown",
   "metadata": {
    "slideshow": {
     "slide_type": "slide"
    }
   },
   "source": [
    "##### Train(학습)"
   ]
  },
  {
   "cell_type": "code",
   "execution_count": 44,
   "metadata": {
    "ExecuteTime": {
     "end_time": "2021-11-03T00:52:33.784862Z",
     "start_time": "2021-11-03T00:52:17.884056Z"
    },
    "scrolled": false,
    "slideshow": {
     "slide_type": "fragment"
    }
   },
   "outputs": [
    {
     "name": "stdout",
     "output_type": "stream",
     "text": [
      "Epoch 1/20\n",
      "480/480 [==============================] - 7s 10ms/step - loss: 0.5414 - accuracy: 0.8082 - val_loss: 0.4762 - val_accuracy: 0.8232\n",
      "Epoch 2/20\n",
      "480/480 [==============================] - 5s 9ms/step - loss: 0.3803 - accuracy: 0.8624 - val_loss: 0.3740 - val_accuracy: 0.8620\n",
      "Epoch 3/20\n",
      "480/480 [==============================] - 5s 9ms/step - loss: 0.3400 - accuracy: 0.8766 - val_loss: 0.3469 - val_accuracy: 0.8735\n",
      "Epoch 4/20\n",
      "480/480 [==============================] - 5s 8ms/step - loss: 0.3121 - accuracy: 0.8858 - val_loss: 0.3173 - val_accuracy: 0.8829\n",
      "Epoch 5/20\n",
      "480/480 [==============================] - 5s 8ms/step - loss: 0.2931 - accuracy: 0.8905 - val_loss: 0.3226 - val_accuracy: 0.8812\n",
      "Epoch 6/20\n",
      "480/480 [==============================] - 4s 7ms/step - loss: 0.2782 - accuracy: 0.8957 - val_loss: 0.3216 - val_accuracy: 0.8819\n",
      "Epoch 7/20\n",
      "480/480 [==============================] - 5s 9ms/step - loss: 0.2656 - accuracy: 0.9015 - val_loss: 0.2965 - val_accuracy: 0.8923\n",
      "Epoch 8/20\n",
      "480/480 [==============================] - 5s 8ms/step - loss: 0.2522 - accuracy: 0.9054 - val_loss: 0.3044 - val_accuracy: 0.8892\n",
      "Epoch 9/20\n",
      "480/480 [==============================] - 5s 8ms/step - loss: 0.2420 - accuracy: 0.9080 - val_loss: 0.3195 - val_accuracy: 0.8860\n",
      "Epoch 10/20\n",
      "480/480 [==============================] - 5s 8ms/step - loss: 0.2325 - accuracy: 0.9114 - val_loss: 0.3124 - val_accuracy: 0.8862\n",
      "Epoch 11/20\n",
      "480/480 [==============================] - 4s 8ms/step - loss: 0.2248 - accuracy: 0.9139 - val_loss: 0.3042 - val_accuracy: 0.8924\n",
      "Epoch 12/20\n",
      "480/480 [==============================] - 5s 8ms/step - loss: 0.2175 - accuracy: 0.9182 - val_loss: 0.3127 - val_accuracy: 0.8874\n",
      "Epoch 13/20\n",
      "480/480 [==============================] - 5s 8ms/step - loss: 0.2089 - accuracy: 0.9207 - val_loss: 0.3208 - val_accuracy: 0.8877\n",
      "Epoch 14/20\n",
      "480/480 [==============================] - 5s 8ms/step - loss: 0.2019 - accuracy: 0.9219 - val_loss: 0.3093 - val_accuracy: 0.8895\n",
      "Epoch 15/20\n",
      "480/480 [==============================] - 5s 9ms/step - loss: 0.1936 - accuracy: 0.9262 - val_loss: 0.3108 - val_accuracy: 0.8944\n",
      "Epoch 16/20\n",
      "480/480 [==============================] - 5s 8ms/step - loss: 0.1874 - accuracy: 0.9284 - val_loss: 0.3065 - val_accuracy: 0.8940\n",
      "Epoch 17/20\n",
      "480/480 [==============================] - 5s 8ms/step - loss: 0.1830 - accuracy: 0.9295 - val_loss: 0.3334 - val_accuracy: 0.8916\n",
      "Epoch 18/20\n",
      "480/480 [==============================] - 6s 10ms/step - loss: 0.1762 - accuracy: 0.9331 - val_loss: 0.3567 - val_accuracy: 0.8864\n",
      "Epoch 19/20\n",
      "480/480 [==============================] - 5s 9ms/step - loss: 0.1698 - accuracy: 0.9340 - val_loss: 0.3306 - val_accuracy: 0.8935\n",
      "Epoch 20/20\n",
      "480/480 [==============================] - 5s 9ms/step - loss: 0.1674 - accuracy: 0.9362 - val_loss: 0.3321 - val_accuracy: 0.8947\n"
     ]
    }
   ],
   "source": [
    "hist = model.fit(train_dataset,\n",
    "                 epochs=N_EPOCHS,\n",
    "                 validation_data=val_dataset)"
   ]
  },
  {
   "cell_type": "markdown",
   "metadata": {
    "slideshow": {
     "slide_type": "fragment"
    }
   },
   "source": [
    "##### 결과 시각화\n",
    "\n",
    "- 학습 시 epoch 별 train/validation set 에 대한 검증 결과 시각화"
   ]
  },
  {
   "cell_type": "code",
   "execution_count": 45,
   "metadata": {
    "ExecuteTime": {
     "end_time": "2021-11-03T00:53:47.655062Z",
     "start_time": "2021-11-03T00:53:47.523937Z"
    },
    "slideshow": {
     "slide_type": "fragment"
    }
   },
   "outputs": [
    {
     "data": {
      "image/png": "[encoded data removed]",
      "text/plain": [
       "<Figure size 504x432 with 1 Axes>"
      ]
     },
     "metadata": {
      "needs_background": "light"
     },
     "output_type": "display_data"
    }
   ],
   "source": [
    "# loss 에 대한 시각화\n",
    "\n",
    "plt.figure(figsize=(7,6))\n",
    "plt.plot(range(1, N_EPOCHS+1), hist.history['loss'], label='train loss')\n",
    "plt.plot(range(1, N_EPOCHS+1), hist.history['val_loss'], label='validation loss')\n",
    "plt.title(\"LOSS\", fontsize=20)\n",
    "plt.xlabel(\"Epochs\")\n",
    "plt.ylabel(\"Loss\")\n",
    "plt.legend()\n",
    "plt.show()"
   ]
  },
  {
   "cell_type": "code",
   "execution_count": 46,
   "metadata": {
    "ExecuteTime": {
     "end_time": "2021-11-03T00:54:00.384594Z",
     "start_time": "2021-11-03T00:54:00.250062Z"
    },
    "scrolled": true,
    "slideshow": {
     "slide_type": "fragment"
    }
   },
   "outputs": [
    {
     "data": {
      "image/png": "[encoded data removed]",
      "text/plain": [
       "<Figure size 504x432 with 1 Axes>"
      ]
     },
     "metadata": {
      "needs_background": "light"
     },
     "output_type": "display_data"
    }
   ],
   "source": [
    "# accuracy 에 대한 시각화\n",
    "\n",
    "plt.figure(figsize=(7,6))\n",
    "plt.plot(range(1, N_EPOCHS+1), hist.history['accuracy'], label='train accuracy')\n",
    "plt.plot(range(1, N_EPOCHS+1), hist.history['val_accuracy'], label='validation accuracy')\n",
    "plt.title(\"Accuracy\", fontsize=20)\n",
    "plt.xlabel(\"Epochs\")\n",
    "plt.ylabel(\"Accuracy\")\n",
    "plt.legend()\n",
    "plt.show()\n",
    "\n",
    "# 20 번 보다 더 돌려봐서 train, val 차이가 더 벌어지는지를 보고\n",
    "# 벌어지다가 좋아질 수도 있으니\n"
   ]
  },
  {
   "cell_type": "markdown",
   "metadata": {
    "slideshow": {
     "slide_type": "slide"
    }
   },
   "source": [
    "#### 최종평가"
   ]
  },
  {
   "cell_type": "code",
   "execution_count": 47,
   "metadata": {
    "ExecuteTime": {
     "end_time": "2021-11-03T00:54:08.281394Z",
     "start_time": "2021-11-03T00:54:07.619852Z"
    },
    "scrolled": true,
    "slideshow": {
     "slide_type": "fragment"
    }
   },
   "outputs": [
    {
     "name": "stdout",
     "output_type": "stream",
     "text": [
      "100/100 [==============================] - 1s 4ms/step - loss: 0.3695 - accuracy: 0.8868\n"
     ]
    }
   ],
   "source": [
    "loss, accuracy = model.evaluate(test_dataset)"
   ]
  },
  {
   "cell_type": "code",
   "execution_count": 48,
   "metadata": {
    "ExecuteTime": {
     "end_time": "2021-11-03T00:54:12.226598Z",
     "start_time": "2021-11-03T00:54:12.218569Z"
    },
    "slideshow": {
     "slide_type": "fragment"
    }
   },
   "outputs": [
    {
     "name": "stdout",
     "output_type": "stream",
     "text": [
      "0.3695462942123413 0.8867999911308289\n"
     ]
    }
   ],
   "source": [
    "print(loss, accuracy)"
   ]
  },
  {
   "cell_type": "markdown",
   "metadata": {},
   "source": [
    "####  모델저장"
   ]
  },
  {
   "cell_type": "code",
   "execution_count": 49,
   "metadata": {},
   "outputs": [
    {
     "name": "stdout",
     "output_type": "stream",
     "text": [
      "INFO:tensorflow:Assets written to: models/fashion_mnist_model\\assets\n"
     ]
    }
   ],
   "source": [
    "model.save('models/fashion_mnist_model')"
   ]
  },
  {
   "cell_type": "code",
   "execution_count": 50,
   "metadata": {},
   "outputs": [],
   "source": [
    "# 불러오기\n",
    "f_model = keras.models.load_model('models/fashion_mnist_model')"
   ]
  },
  {
   "cell_type": "markdown",
   "metadata": {
    "slideshow": {
     "slide_type": "slide"
    }
   },
   "source": [
    "#### 새로운 데이터 추론"
   ]
  },
  {
   "cell_type": "code",
   "execution_count": 51,
   "metadata": {
    "ExecuteTime": {
     "end_time": "2021-11-03T00:54:17.195599Z",
     "start_time": "2021-11-03T00:54:17.187618Z"
    },
    "slideshow": {
     "slide_type": "fragment"
    }
   },
   "outputs": [],
   "source": [
    "new_input = X_test[:5]\n",
    "new_input = new_input/255.0 # X_test로 255 로 나누는 작업한 게 아니니"
   ]
  },
  {
   "cell_type": "code",
   "execution_count": 52,
   "metadata": {},
   "outputs": [
    {
     "data": {
      "text/plain": [
       "(5, 28, 28)"
      ]
     },
     "execution_count": 52,
     "metadata": {},
     "output_type": "execute_result"
    }
   ],
   "source": [
    "new_input.shape\n",
    "\n",
    "# 얘도 flatten layer 에서 1차원배열로 변환되어서 들어감."
   ]
  },
  {
   "cell_type": "code",
   "execution_count": 53,
   "metadata": {
    "ExecuteTime": {
     "end_time": "2021-11-03T00:56:14.884900Z",
     "start_time": "2021-11-03T00:56:14.836879Z"
    },
    "slideshow": {
     "slide_type": "fragment"
    }
   },
   "outputs": [
    {
     "name": "stdout",
     "output_type": "stream",
     "text": [
      "1/1 [==============================] - 0s 103ms/step\n"
     ]
    },
    {
     "data": {
      "text/plain": [
       "array([5.1911031e-09, 5.4278124e-09, 2.8471248e-11, 4.4128394e-09,\n",
       "       4.0627879e-12, 3.9276016e-05, 7.4298967e-10, 4.6825809e-03,\n",
       "       2.2125469e-08, 9.9527812e-01], dtype=float32)"
      ]
     },
     "execution_count": 53,
     "metadata": {},
     "output_type": "execute_result"
    }
   ],
   "source": [
    "pred = model.predict(new_input)\n",
    "pred[0]"
   ]
  },
  {
   "cell_type": "code",
   "execution_count": 55,
   "metadata": {
    "ExecuteTime": {
     "end_time": "2021-11-03T00:54:20.055845Z",
     "start_time": "2021-11-03T00:54:20.043810Z"
    },
    "slideshow": {
     "slide_type": "fragment"
    }
   },
   "outputs": [
    {
     "data": {
      "text/plain": [
       "array([9, 2, 1, 1, 6], dtype=int64)"
      ]
     },
     "execution_count": 55,
     "metadata": {},
     "output_type": "execute_result"
    }
   ],
   "source": [
    "# 예측한 label\n",
    "# (5,10) - 1번축 0~9 중 가장 큰 index 를 뽑는 것\n",
    "\n",
    "pred_class = np.argmax(pred, axis=-1) #argmax() : max값의 index\n",
    "pred_class"
   ]
  },
  {
   "cell_type": "code",
   "execution_count": 56,
   "metadata": {
    "ExecuteTime": {
     "end_time": "2021-11-03T00:54:25.841265Z",
     "start_time": "2021-11-03T00:54:25.829247Z"
    },
    "slideshow": {
     "slide_type": "fragment"
    }
   },
   "outputs": [
    {
     "data": {
      "text/plain": [
       "array([9, 2, 1, 1, 6], dtype=uint8)"
      ]
     },
     "execution_count": 56,
     "metadata": {},
     "output_type": "execute_result"
    }
   ],
   "source": [
    "test_label[:5]"
   ]
  },
  {
   "cell_type": "code",
   "execution_count": 57,
   "metadata": {
    "ExecuteTime": {
     "end_time": "2021-11-03T00:56:30.733619Z",
     "start_time": "2021-11-03T00:56:30.713647Z"
    },
    "slideshow": {
     "slide_type": "fragment"
    }
   },
   "outputs": [
    {
     "data": {
      "text/plain": [
       "array(['Ankle boot', 'Pullover', 'Trousers', 'Trousers', 'Shirt'],\n",
       "      dtype='<U11')"
      ]
     },
     "execution_count": 57,
     "metadata": {},
     "output_type": "execute_result"
    }
   ],
   "source": [
    "pred_class_name = class_names[pred_class]\n",
    "pred_class_name"
   ]
  },
  {
   "cell_type": "code",
   "execution_count": 58,
   "metadata": {},
   "outputs": [
    {
     "data": {
      "text/plain": [
       "array([0.9952781 , 0.99785966, 1.        , 1.        , 0.96146685],\n",
       "      dtype=float32)"
      ]
     },
     "execution_count": 58,
     "metadata": {},
     "output_type": "execute_result"
    }
   ],
   "source": [
    "# 예측한 정답에 대한 확률\n",
    "\n",
    "pred_proba = np.max(pred, axis=-1)\n",
    "pred_proba"
   ]
  },
  {
   "cell_type": "code",
   "execution_count": 60,
   "metadata": {},
   "outputs": [
    {
     "name": "stdout",
     "output_type": "stream",
     "text": [
      "0. Ankle boot: 0.9953\n",
      "1. Pullover: 0.9979\n",
      "2. Trousers: 1.0000\n",
      "3. Trousers: 1.0000\n",
      "4. Shirt: 0.9615\n"
     ]
    }
   ],
   "source": [
    "for idx, (name, proba) in enumerate(zip(pred_class_name, pred_proba)):\n",
    "    print(f\"{idx}. {name}: {proba:.4f}\")"
   ]
  },
  {
   "cell_type": "markdown",
   "metadata": {
    "slideshow": {
     "slide_type": "slide"
    }
   },
   "source": [
    "## 위스콘신 유방암 데이터셋 - 이진분류(Binary Classification) 문제\n",
    "\n",
    "- **이진 분류 문제 처리 모델의 두가지 방법**\n",
    "    1. positive(1)일 확률을 출력하도록 구현 (양성 여부 - o:양성, x:음성) ==> **본 예제**\n",
    "        - output layer - unit:1. activation:sigmoid(logistic 함수)\n",
    "        - loss : binary_crossentropy\n",
    "    2. negative(0)일 확률과 positive(1)일 확률을 출력하도록 구현 => 다중분류 처리 방식으로 해결\n",
    "        - output layer : unit-2, activation: softmax\n",
    "        - loss : categorical_crossentropy\n",
    "    "
   ]
  },
  {
   "cell_type": "markdown",
   "metadata": {
    "slideshow": {
     "slide_type": "slide"
    }
   },
   "source": [
    "- 위스콘신 대학교에서 제공한 종양의 악성/양성여부 분류를 위한 데이터셋\n",
    "- Feature\n",
    "    - 종양에 대한 다양한 측정값들\n",
    "- Target의 class\n",
    "    - 0 - malignant(악성종양)\n",
    "    - 1 - benign(양성종양)\n",
    "        => 양성종양 여부를 확인하는 모델 - positive(1)일 확률을 출력"
   ]
  },
  {
   "cell_type": "code",
   "execution_count": 62,
   "metadata": {
    "ExecuteTime": {
     "end_time": "2021-11-03T00:57:04.860404Z",
     "start_time": "2021-11-03T00:57:04.769013Z"
    },
    "slideshow": {
     "slide_type": "slide"
    }
   },
   "outputs": [],
   "source": [
    "import numpy as np\n",
    "\n",
    "import tensorflow as tf\n",
    "from tensorflow import keras\n",
    "from tensorflow.keras import layers\n",
    "\n",
    "from sklearn.datasets import load_breast_cancer # 데이터셋 - keras 에 없음\n",
    "from sklearn.preprocessing import StandardScaler\n",
    "from sklearn.model_selection import train_test_split\n",
    "\n",
    "np.random.seed(0)\n",
    "tf.random.set_seed(0)"
   ]
  },
  {
   "cell_type": "markdown",
   "metadata": {
    "slideshow": {
     "slide_type": "slide"
    }
   },
   "source": [
    "##### 데이터 로딩, train/validation/test set 나누기"
   ]
  },
  {
   "cell_type": "code",
   "execution_count": 63,
   "metadata": {
    "ExecuteTime": {
     "end_time": "2021-11-03T00:57:07.145465Z",
     "start_time": "2021-11-03T00:57:07.116460Z"
    },
    "slideshow": {
     "slide_type": "fragment"
    }
   },
   "outputs": [
    {
     "data": {
      "text/plain": [
       "((569, 30), (569,))"
      ]
     },
     "execution_count": 63,
     "metadata": {},
     "output_type": "execute_result"
    }
   ],
   "source": [
    "X, y = load_breast_cancer(return_X_y=True)\n",
    "X.shape, y.shape"
   ]
  },
  {
   "cell_type": "code",
   "execution_count": 64,
   "metadata": {
    "ExecuteTime": {
     "end_time": "2021-11-03T00:57:08.000145Z",
     "start_time": "2021-11-03T00:57:07.964172Z"
    },
    "slideshow": {
     "slide_type": "fragment"
    }
   },
   "outputs": [
    {
     "data": {
      "text/plain": [
       "((364, 30), (91, 30), (114, 30))"
      ]
     },
     "execution_count": 64,
     "metadata": {},
     "output_type": "execute_result"
    }
   ],
   "source": [
    "X_train, X_test, y_train, y_test = train_test_split(X, y, test_size=0.2, stratify=y, random_state=0)\n",
    "\n",
    "X_train, X_val, y_train, y_val = train_test_split(X_train, y_train, test_size=0.2, stratify=y_train, random_state=0)\n",
    "\n",
    "X_train.shape, X_val.shape, X_test.shape"
   ]
  },
  {
   "cell_type": "code",
   "execution_count": 65,
   "metadata": {
    "ExecuteTime": {
     "end_time": "2021-11-03T00:57:08.931182Z",
     "start_time": "2021-11-03T00:57:08.907148Z"
    },
    "slideshow": {
     "slide_type": "fragment"
    }
   },
   "outputs": [
    {
     "data": {
      "text/plain": [
       "array([[1.955e+01, 2.321e+01, 1.289e+02, 1.174e+03, 1.010e-01, 1.318e-01,\n",
       "        1.856e-01, 1.021e-01, 1.989e-01, 5.884e-02, 6.107e-01, 2.836e+00,\n",
       "        5.383e+00, 7.010e+01, 1.124e-02, 4.097e-02, 7.469e-02, 3.441e-02,\n",
       "        2.768e-02, 6.240e-03, 2.082e+01, 3.044e+01, 1.420e+02, 1.313e+03,\n",
       "        1.251e-01, 2.414e-01, 3.829e-01, 1.825e-01, 2.576e-01, 7.602e-02],\n",
       "       [1.378e+01, 1.579e+01, 8.837e+01, 5.859e+02, 8.817e-02, 6.718e-02,\n",
       "        1.055e-02, 9.937e-03, 1.405e-01, 5.848e-02, 3.563e-01, 4.833e-01,\n",
       "        2.235e+00, 2.934e+01, 6.432e-03, 1.156e-02, 7.741e-03, 5.657e-03,\n",
       "        1.227e-02, 2.564e-03, 1.527e+01, 1.750e+01, 9.790e+01, 7.066e+02,\n",
       "        1.072e-01, 1.071e-01, 3.517e-02, 3.312e-02, 1.859e-01, 6.810e-02],\n",
       "       [1.865e+01, 1.760e+01, 1.237e+02, 1.076e+03, 1.099e-01, 1.686e-01,\n",
       "        1.974e-01, 1.009e-01, 1.907e-01, 6.049e-02, 6.289e-01, 6.633e-01,\n",
       "        4.293e+00, 7.156e+01, 6.294e-03, 3.994e-02, 5.554e-02, 1.695e-02,\n",
       "        2.428e-02, 3.535e-03, 2.282e+01, 2.132e+01, 1.506e+02, 1.567e+03,\n",
       "        1.679e-01, 5.090e-01, 7.345e-01, 2.378e-01, 3.799e-01, 9.185e-02]])"
      ]
     },
     "execution_count": 65,
     "metadata": {},
     "output_type": "execute_result"
    }
   ],
   "source": [
    "X_train[:3]"
   ]
  },
  {
   "cell_type": "code",
   "execution_count": 66,
   "metadata": {
    "ExecuteTime": {
     "end_time": "2021-11-03T00:57:09.945394Z",
     "start_time": "2021-11-03T00:57:09.932401Z"
    },
    "slideshow": {
     "slide_type": "fragment"
    }
   },
   "outputs": [
    {
     "data": {
      "text/plain": [
       "array([0, 1, 0])"
      ]
     },
     "execution_count": 66,
     "metadata": {},
     "output_type": "execute_result"
    }
   ],
   "source": [
    "y_train[:3]"
   ]
  },
  {
   "cell_type": "markdown",
   "metadata": {
    "slideshow": {
     "slide_type": "slide"
    }
   },
   "source": [
    "#### 하이퍼파라미터, 변수 정의"
   ]
  },
  {
   "cell_type": "code",
   "execution_count": 67,
   "metadata": {
    "ExecuteTime": {
     "end_time": "2021-11-03T00:57:16.677364Z",
     "start_time": "2021-11-03T00:57:16.673362Z"
    },
    "slideshow": {
     "slide_type": "fragment"
    }
   },
   "outputs": [],
   "source": [
    "LEARNING_RATE = 0.001\n",
    "N_EPOCHS = 150\n",
    "N_BATCHS = 50\n",
    "\n",
    "N_TRAIN = X_train.shape[0]\n",
    "N_VAL = X_val.shape[0]\n",
    "N_TEST = X_test.shape[0]"
   ]
  },
  {
   "cell_type": "markdown",
   "metadata": {
    "slideshow": {
     "slide_type": "fragment"
    }
   },
   "source": [
    "#### 데이터 전처리\n",
    "- 이진 분류\n",
    "1. 출력 레이어의 unit을 1개, activation 함수를 sigmoid를 사용하는 경우(1일 확률) => y:그대로 사용\n",
    "2. 출력 레이어의 unit을 2개, activation 함수를 sofmax를 사용하는 경우(0일 확률, 1일 확률) - 다중분류와 동일하게 구현해줘야함 => y: one hot encoding 처리 해주기\n",
    "- X: 테이블데이터\n",
    "    - 문자열(범주형): one hot encoding\n",
    "    - 연속형(수치형): feature scaling"
   ]
  },
  {
   "cell_type": "code",
   "execution_count": 68,
   "metadata": {
    "ExecuteTime": {
     "end_time": "2021-11-03T00:57:18.884049Z",
     "start_time": "2021-11-03T00:57:18.866052Z"
    },
    "slideshow": {
     "slide_type": "fragment"
    }
   },
   "outputs": [],
   "source": [
    "scaler = StandardScaler()\n",
    "\n",
    "X_train_scaled = scaler.fit_transform(X_train)\n",
    "X_val_scaled = scaler.transform(X_val)\n",
    "X_test_scaled = scaler.transform(X_test)"
   ]
  },
  {
   "cell_type": "markdown",
   "metadata": {
    "slideshow": {
     "slide_type": "slide"
    }
   },
   "source": [
    "#### Dataset 생성\n",
    "- 기본적인 dataset 생성 전처리\n",
    "    - validation/test dataset 은 동일하게 파이프라인을 구성\n",
    "    - train dataset : shuffle 추가. batch에는 drop_reminder=True 로 설정\n",
    "    - map, filter가 추가될 경우, train/validation/test 모두 동일하게 적용해야 함."
   ]
  },
  {
   "cell_type": "code",
   "execution_count": 71,
   "metadata": {
    "ExecuteTime": {
     "end_time": "2021-11-03T00:57:21.197269Z",
     "start_time": "2021-11-03T00:57:21.171240Z"
    },
    "slideshow": {
     "slide_type": "fragment"
    }
   },
   "outputs": [],
   "source": [
    "# tf 2.4 버전 이후부터 이렇게. \n",
    "# 이후에서는 repeat() 로. - 아래에서 설명\n",
    "\n",
    "train_dataset = tf.data.Dataset.from_tensor_slices((X_train_scaled, y_train)).shuffle(N_TRAIN).batch(N_BATCHS, drop_remainder=True)\n",
    "\n",
    "val_dataset = tf.data.Dataset.from_tensor_slices((X_val_scaled, y_val)).batch(N_BATCHS)\n",
    "\n",
    "test_dataset = tf.data.Dataset.from_tensor_slices((X_test_scaled, y_test)).batch(N_BATCHS)"
   ]
  },
  {
   "cell_type": "markdown",
   "metadata": {
    "slideshow": {
     "slide_type": "slide"
    }
   },
   "source": [
    "#### model 생성, 컴파일"
   ]
  },
  {
   "cell_type": "code",
   "execution_count": 72,
   "metadata": {
    "ExecuteTime": {
     "end_time": "2021-11-03T00:58:17.940097Z",
     "start_time": "2021-11-03T00:58:17.923072Z"
    },
    "slideshow": {
     "slide_type": "fragment"
    }
   },
   "outputs": [],
   "source": [
    "def create_wisconsin_model():\n",
    "    model = keras.Sequential()\n",
    "    model.add(layers.Dense(units=32, activation='relu', input_shape=(30, ))) \n",
    "    \n",
    "    model.add(layers.Dense(units=16, activation='relu'))\n",
    "    model.add(layers.Dense(units=8, activation='relu'))\n",
    "    \n",
    "    # output layer - 이진분류(양성의 확률을 출력하도록 구현)\n",
    "    #    unit 수 - 1, activation - sigmoid (logistic 함수) : 모든 값이 0 ~ 1 => 1이 될 확률 => 0.5< 라면 양성\n",
    "    model.add(layers.Dense(units=1, activation='sigmoid', name='Output_layer'))\n",
    "    \n",
    "    return model"
   ]
  },
  {
   "cell_type": "code",
   "execution_count": 74,
   "metadata": {
    "ExecuteTime": {
     "end_time": "2021-11-03T00:58:25.622242Z",
     "start_time": "2021-11-03T00:58:25.571472Z"
    },
    "slideshow": {
     "slide_type": "fragment"
    }
   },
   "outputs": [],
   "source": [
    "model = create_wisconsin_model()\n",
    "\n",
    "# 이진 분류(양성의 확률을 출력하도록 구현한 모델)의 loss함수 : binary_crossentropy\n",
    "model.compile(optimizer=keras.optimizers.Adam(learning_rate=LEARNING_RATE), \n",
    "              loss='binary_crossentropy',\n",
    "              metrics=['accuracy'])"
   ]
  },
  {
   "cell_type": "code",
   "execution_count": 75,
   "metadata": {
    "ExecuteTime": {
     "end_time": "2021-11-03T00:58:27.279253Z",
     "start_time": "2021-11-03T00:58:27.259253Z"
    },
    "slideshow": {
     "slide_type": "fragment"
    }
   },
   "outputs": [
    {
     "name": "stdout",
     "output_type": "stream",
     "text": [
      "Model: \"sequential_2\"\n",
      "_________________________________________________________________\n",
      " Layer (type)                Output Shape              Param #   \n",
      "=================================================================\n",
      " dense_7 (Dense)             (None, 32)                992       \n",
      "                                                                 \n",
      " dense_8 (Dense)             (None, 16)                528       \n",
      "                                                                 \n",
      " dense_9 (Dense)             (None, 8)                 136       \n",
      "                                                                 \n",
      " Output_layer (Dense)        (None, 1)                 9         \n",
      "                                                                 \n",
      "=================================================================\n",
      "Total params: 1,665\n",
      "Trainable params: 1,665\n",
      "Non-trainable params: 0\n",
      "_________________________________________________________________\n"
     ]
    }
   ],
   "source": [
    "model.summary()"
   ]
  },
  {
   "cell_type": "code",
   "execution_count": 76,
   "metadata": {
    "ExecuteTime": {
     "end_time": "2021-11-03T00:58:28.701187Z",
     "start_time": "2021-11-03T00:58:28.466270Z"
    },
    "slideshow": {
     "slide_type": "fragment"
    }
   },
   "outputs": [
    {
     "name": "stdout",
     "output_type": "stream",
     "text": [
      "You must install pydot (`pip install pydot`) and install graphviz (see instructions at https://graphviz.gitlab.io/download/) for plot_model/model_to_dot to work.\n"
     ]
    }
   ],
   "source": [
    "keras.utils.plot_model(model, show_shapes=True, to_file='cancer_model.png')"
   ]
  },
  {
   "cell_type": "markdown",
   "metadata": {
    "slideshow": {
     "slide_type": "slide"
    }
   },
   "source": [
    "#### Train(학습)"
   ]
  },
  {
   "cell_type": "code",
   "execution_count": 77,
   "metadata": {
    "ExecuteTime": {
     "end_time": "2021-11-03T00:58:48.642635Z",
     "start_time": "2021-11-03T00:58:37.854173Z"
    },
    "slideshow": {
     "slide_type": "fragment"
    }
   },
   "outputs": [
    {
     "name": "stdout",
     "output_type": "stream",
     "text": [
      "Epoch 1/150\n",
      "7/7 [==============================] - 2s 56ms/step - loss: 0.6790 - accuracy: 0.5629 - val_loss: 0.5976 - val_accuracy: 0.7912\n",
      "Epoch 2/150\n",
      "7/7 [==============================] - 0s 9ms/step - loss: 0.5821 - accuracy: 0.8000 - val_loss: 0.5276 - val_accuracy: 0.9341\n",
      "Epoch 3/150\n",
      "7/7 [==============================] - 0s 9ms/step - loss: 0.5111 - accuracy: 0.8914 - val_loss: 0.4703 - val_accuracy: 0.9670\n",
      "Epoch 4/150\n",
      "7/7 [==============================] - 0s 8ms/step - loss: 0.4530 - accuracy: 0.9314 - val_loss: 0.4172 - val_accuracy: 0.9560\n",
      "Epoch 5/150\n",
      "7/7 [==============================] - 0s 8ms/step - loss: 0.3998 - accuracy: 0.9486 - val_loss: 0.3659 - val_accuracy: 0.9451\n",
      "Epoch 6/150\n",
      "7/7 [==============================] - 0s 6ms/step - loss: 0.3486 - accuracy: 0.9571 - val_loss: 0.3162 - val_accuracy: 0.9560\n",
      "Epoch 7/150\n",
      "7/7 [==============================] - 0s 7ms/step - loss: 0.2900 - accuracy: 0.9686 - val_loss: 0.2707 - val_accuracy: 0.9560\n",
      "Epoch 8/150\n",
      "7/7 [==============================] - 0s 7ms/step - loss: 0.2478 - accuracy: 0.9657 - val_loss: 0.2297 - val_accuracy: 0.9670\n",
      "Epoch 9/150\n",
      "7/7 [==============================] - 0s 7ms/step - loss: 0.2091 - accuracy: 0.9657 - val_loss: 0.1946 - val_accuracy: 0.9780\n",
      "Epoch 10/150\n",
      "7/7 [==============================] - 0s 7ms/step - loss: 0.1800 - accuracy: 0.9657 - val_loss: 0.1654 - val_accuracy: 0.9780\n",
      "Epoch 11/150\n",
      "7/7 [==============================] - 0s 7ms/step - loss: 0.1531 - accuracy: 0.9657 - val_loss: 0.1427 - val_accuracy: 0.9780\n",
      "Epoch 12/150\n",
      "7/7 [==============================] - 0s 9ms/step - loss: 0.1312 - accuracy: 0.9686 - val_loss: 0.1248 - val_accuracy: 0.9780\n",
      "Epoch 13/150\n",
      "7/7 [==============================] - 0s 9ms/step - loss: 0.1152 - accuracy: 0.9714 - val_loss: 0.1102 - val_accuracy: 0.9780\n",
      "Epoch 14/150\n",
      "7/7 [==============================] - 0s 8ms/step - loss: 0.1048 - accuracy: 0.9714 - val_loss: 0.0986 - val_accuracy: 0.9670\n",
      "Epoch 15/150\n",
      "7/7 [==============================] - 0s 7ms/step - loss: 0.0944 - accuracy: 0.9743 - val_loss: 0.0894 - val_accuracy: 0.9670\n",
      "Epoch 16/150\n",
      "7/7 [==============================] - 0s 8ms/step - loss: 0.0881 - accuracy: 0.9800 - val_loss: 0.0819 - val_accuracy: 0.9670\n",
      "Epoch 17/150\n",
      "7/7 [==============================] - 0s 10ms/step - loss: 0.0770 - accuracy: 0.9829 - val_loss: 0.0762 - val_accuracy: 0.9670\n",
      "Epoch 18/150\n",
      "7/7 [==============================] - 0s 10ms/step - loss: 0.0761 - accuracy: 0.9800 - val_loss: 0.0713 - val_accuracy: 0.9670\n",
      "Epoch 19/150\n",
      "7/7 [==============================] - 0s 10ms/step - loss: 0.0709 - accuracy: 0.9829 - val_loss: 0.0678 - val_accuracy: 0.9670\n",
      "Epoch 20/150\n",
      "7/7 [==============================] - 0s 9ms/step - loss: 0.0656 - accuracy: 0.9857 - val_loss: 0.0649 - val_accuracy: 0.9670\n",
      "Epoch 21/150\n",
      "7/7 [==============================] - 0s 8ms/step - loss: 0.0590 - accuracy: 0.9857 - val_loss: 0.0622 - val_accuracy: 0.9670\n",
      "Epoch 22/150\n",
      "7/7 [==============================] - 0s 11ms/step - loss: 0.0596 - accuracy: 0.9829 - val_loss: 0.0583 - val_accuracy: 0.9670\n",
      "Epoch 23/150\n",
      "7/7 [==============================] - 0s 10ms/step - loss: 0.0580 - accuracy: 0.9829 - val_loss: 0.0556 - val_accuracy: 0.9670\n",
      "Epoch 24/150\n",
      "7/7 [==============================] - 0s 9ms/step - loss: 0.0549 - accuracy: 0.9829 - val_loss: 0.0537 - val_accuracy: 0.9670\n",
      "Epoch 25/150\n",
      "7/7 [==============================] - 0s 11ms/step - loss: 0.0518 - accuracy: 0.9829 - val_loss: 0.0522 - val_accuracy: 0.9670\n",
      "Epoch 26/150\n",
      "7/7 [==============================] - 0s 8ms/step - loss: 0.0489 - accuracy: 0.9857 - val_loss: 0.0507 - val_accuracy: 0.9670\n",
      "Epoch 27/150\n",
      "7/7 [==============================] - 0s 9ms/step - loss: 0.0461 - accuracy: 0.9857 - val_loss: 0.0491 - val_accuracy: 0.9780\n",
      "Epoch 28/150\n",
      "7/7 [==============================] - 0s 8ms/step - loss: 0.0449 - accuracy: 0.9886 - val_loss: 0.0473 - val_accuracy: 0.9780\n",
      "Epoch 29/150\n",
      "7/7 [==============================] - 0s 13ms/step - loss: 0.0415 - accuracy: 0.9886 - val_loss: 0.0467 - val_accuracy: 0.9780\n",
      "Epoch 30/150\n",
      "7/7 [==============================] - 0s 16ms/step - loss: 0.0407 - accuracy: 0.9886 - val_loss: 0.0463 - val_accuracy: 0.9780\n",
      "Epoch 31/150\n",
      "7/7 [==============================] - 0s 22ms/step - loss: 0.0380 - accuracy: 0.9914 - val_loss: 0.0460 - val_accuracy: 0.9780\n",
      "Epoch 32/150\n",
      "7/7 [==============================] - 0s 11ms/step - loss: 0.0387 - accuracy: 0.9914 - val_loss: 0.0456 - val_accuracy: 0.9780\n",
      "Epoch 33/150\n",
      "7/7 [==============================] - 0s 10ms/step - loss: 0.0350 - accuracy: 0.9914 - val_loss: 0.0453 - val_accuracy: 0.9780\n",
      "Epoch 34/150\n",
      "7/7 [==============================] - 0s 9ms/step - loss: 0.0358 - accuracy: 0.9943 - val_loss: 0.0448 - val_accuracy: 0.9780\n",
      "Epoch 35/150\n",
      "7/7 [==============================] - 0s 8ms/step - loss: 0.0341 - accuracy: 0.9943 - val_loss: 0.0449 - val_accuracy: 0.9670\n",
      "Epoch 36/150\n",
      "7/7 [==============================] - 0s 7ms/step - loss: 0.0311 - accuracy: 0.9943 - val_loss: 0.0440 - val_accuracy: 0.9780\n",
      "Epoch 37/150\n",
      "7/7 [==============================] - 0s 12ms/step - loss: 0.0317 - accuracy: 0.9943 - val_loss: 0.0436 - val_accuracy: 0.9780\n",
      "Epoch 38/150\n",
      "7/7 [==============================] - 0s 18ms/step - loss: 0.0286 - accuracy: 0.9971 - val_loss: 0.0422 - val_accuracy: 0.9780\n",
      "Epoch 39/150\n",
      "7/7 [==============================] - 0s 15ms/step - loss: 0.0287 - accuracy: 0.9943 - val_loss: 0.0414 - val_accuracy: 0.9780\n",
      "Epoch 40/150\n",
      "7/7 [==============================] - 0s 7ms/step - loss: 0.0280 - accuracy: 0.9943 - val_loss: 0.0416 - val_accuracy: 0.9780\n",
      "Epoch 41/150\n",
      "7/7 [==============================] - 0s 8ms/step - loss: 0.0274 - accuracy: 0.9943 - val_loss: 0.0418 - val_accuracy: 0.9670\n",
      "Epoch 42/150\n",
      "7/7 [==============================] - 0s 9ms/step - loss: 0.0254 - accuracy: 0.9971 - val_loss: 0.0417 - val_accuracy: 0.9670\n",
      "Epoch 43/150\n",
      "7/7 [==============================] - 0s 9ms/step - loss: 0.0237 - accuracy: 0.9971 - val_loss: 0.0411 - val_accuracy: 0.9670\n",
      "Epoch 44/150\n",
      "7/7 [==============================] - 0s 7ms/step - loss: 0.0252 - accuracy: 0.9943 - val_loss: 0.0397 - val_accuracy: 0.9890\n",
      "Epoch 45/150\n",
      "7/7 [==============================] - 0s 7ms/step - loss: 0.0241 - accuracy: 0.9943 - val_loss: 0.0405 - val_accuracy: 0.9780\n",
      "Epoch 46/150\n",
      "7/7 [==============================] - 0s 8ms/step - loss: 0.0148 - accuracy: 1.0000 - val_loss: 0.0405 - val_accuracy: 0.9780\n",
      "Epoch 47/150\n",
      "7/7 [==============================] - 0s 7ms/step - loss: 0.0221 - accuracy: 0.9971 - val_loss: 0.0399 - val_accuracy: 0.9780\n",
      "Epoch 48/150\n",
      "7/7 [==============================] - 0s 7ms/step - loss: 0.0211 - accuracy: 0.9971 - val_loss: 0.0391 - val_accuracy: 0.9780\n",
      "Epoch 49/150\n",
      "7/7 [==============================] - 0s 7ms/step - loss: 0.0195 - accuracy: 0.9971 - val_loss: 0.0391 - val_accuracy: 0.9780\n",
      "Epoch 50/150\n",
      "7/7 [==============================] - 0s 6ms/step - loss: 0.0193 - accuracy: 0.9971 - val_loss: 0.0392 - val_accuracy: 0.9780\n",
      "Epoch 51/150\n",
      "7/7 [==============================] - 0s 10ms/step - loss: 0.0170 - accuracy: 0.9971 - val_loss: 0.0387 - val_accuracy: 0.9780\n",
      "Epoch 52/150\n",
      "7/7 [==============================] - 0s 8ms/step - loss: 0.0174 - accuracy: 0.9971 - val_loss: 0.0394 - val_accuracy: 0.9780\n",
      "Epoch 53/150\n",
      "7/7 [==============================] - 0s 9ms/step - loss: 0.0156 - accuracy: 0.9971 - val_loss: 0.0397 - val_accuracy: 0.9780\n",
      "Epoch 54/150\n",
      "7/7 [==============================] - 0s 9ms/step - loss: 0.0157 - accuracy: 0.9971 - val_loss: 0.0396 - val_accuracy: 0.9780\n",
      "Epoch 55/150\n",
      "7/7 [==============================] - 0s 11ms/step - loss: 0.0148 - accuracy: 0.9971 - val_loss: 0.0403 - val_accuracy: 0.9780\n",
      "Epoch 56/150\n",
      "7/7 [==============================] - 0s 8ms/step - loss: 0.0145 - accuracy: 0.9971 - val_loss: 0.0404 - val_accuracy: 0.9780\n",
      "Epoch 57/150\n",
      "7/7 [==============================] - 0s 12ms/step - loss: 0.0138 - accuracy: 0.9971 - val_loss: 0.0410 - val_accuracy: 0.9780\n",
      "Epoch 58/150\n",
      "7/7 [==============================] - 0s 11ms/step - loss: 0.0118 - accuracy: 0.9971 - val_loss: 0.0407 - val_accuracy: 0.9780\n",
      "Epoch 59/150\n",
      "7/7 [==============================] - 0s 11ms/step - loss: 0.0123 - accuracy: 0.9971 - val_loss: 0.0405 - val_accuracy: 0.9780\n",
      "Epoch 60/150\n",
      "7/7 [==============================] - 0s 14ms/step - loss: 0.0117 - accuracy: 0.9971 - val_loss: 0.0413 - val_accuracy: 0.9780\n",
      "Epoch 61/150\n",
      "7/7 [==============================] - 0s 9ms/step - loss: 0.0103 - accuracy: 1.0000 - val_loss: 0.0405 - val_accuracy: 0.9780\n",
      "Epoch 62/150\n",
      "7/7 [==============================] - 0s 12ms/step - loss: 0.0099 - accuracy: 1.0000 - val_loss: 0.0397 - val_accuracy: 0.9780\n",
      "Epoch 63/150\n",
      "7/7 [==============================] - 0s 11ms/step - loss: 0.0099 - accuracy: 1.0000 - val_loss: 0.0387 - val_accuracy: 0.9780\n",
      "Epoch 64/150\n",
      "7/7 [==============================] - 0s 16ms/step - loss: 0.0088 - accuracy: 1.0000 - val_loss: 0.0378 - val_accuracy: 0.9780\n",
      "Epoch 65/150\n",
      "7/7 [==============================] - 0s 11ms/step - loss: 0.0086 - accuracy: 1.0000 - val_loss: 0.0378 - val_accuracy: 0.9780\n",
      "Epoch 66/150\n",
      "7/7 [==============================] - 0s 9ms/step - loss: 0.0081 - accuracy: 1.0000 - val_loss: 0.0377 - val_accuracy: 0.9780\n",
      "Epoch 67/150\n",
      "7/7 [==============================] - 0s 9ms/step - loss: 0.0083 - accuracy: 1.0000 - val_loss: 0.0370 - val_accuracy: 0.9780\n",
      "Epoch 68/150\n",
      "7/7 [==============================] - 0s 10ms/step - loss: 0.0076 - accuracy: 1.0000 - val_loss: 0.0363 - val_accuracy: 0.9780\n",
      "Epoch 69/150\n",
      "7/7 [==============================] - 0s 10ms/step - loss: 0.0074 - accuracy: 1.0000 - val_loss: 0.0363 - val_accuracy: 0.9780\n",
      "Epoch 70/150\n",
      "7/7 [==============================] - 0s 17ms/step - loss: 0.0070 - accuracy: 1.0000 - val_loss: 0.0360 - val_accuracy: 0.9890\n",
      "Epoch 71/150\n",
      "7/7 [==============================] - 0s 13ms/step - loss: 0.0067 - accuracy: 1.0000 - val_loss: 0.0358 - val_accuracy: 0.9780\n",
      "Epoch 72/150\n",
      "7/7 [==============================] - 0s 15ms/step - loss: 0.0063 - accuracy: 1.0000 - val_loss: 0.0360 - val_accuracy: 0.9780\n",
      "Epoch 73/150\n",
      "7/7 [==============================] - 0s 11ms/step - loss: 0.0058 - accuracy: 1.0000 - val_loss: 0.0363 - val_accuracy: 0.9780\n",
      "Epoch 74/150\n",
      "7/7 [==============================] - 0s 13ms/step - loss: 0.0057 - accuracy: 1.0000 - val_loss: 0.0361 - val_accuracy: 0.9780\n",
      "Epoch 75/150\n",
      "7/7 [==============================] - 0s 11ms/step - loss: 0.0057 - accuracy: 1.0000 - val_loss: 0.0356 - val_accuracy: 0.9780\n",
      "Epoch 76/150\n",
      "7/7 [==============================] - 0s 11ms/step - loss: 0.0054 - accuracy: 1.0000 - val_loss: 0.0356 - val_accuracy: 0.9780\n",
      "Epoch 77/150\n",
      "7/7 [==============================] - 0s 16ms/step - loss: 0.0052 - accuracy: 1.0000 - val_loss: 0.0350 - val_accuracy: 0.9780\n",
      "Epoch 78/150\n",
      "7/7 [==============================] - 0s 13ms/step - loss: 0.0047 - accuracy: 1.0000 - val_loss: 0.0352 - val_accuracy: 0.9780\n",
      "Epoch 79/150\n",
      "7/7 [==============================] - 0s 12ms/step - loss: 0.0048 - accuracy: 1.0000 - val_loss: 0.0349 - val_accuracy: 0.9780\n",
      "Epoch 80/150\n",
      "7/7 [==============================] - 0s 15ms/step - loss: 0.0046 - accuracy: 1.0000 - val_loss: 0.0348 - val_accuracy: 0.9780\n",
      "Epoch 81/150\n",
      "7/7 [==============================] - 0s 12ms/step - loss: 0.0043 - accuracy: 1.0000 - val_loss: 0.0346 - val_accuracy: 0.9780\n",
      "Epoch 82/150\n",
      "7/7 [==============================] - 0s 12ms/step - loss: 0.0042 - accuracy: 1.0000 - val_loss: 0.0345 - val_accuracy: 0.9780\n",
      "Epoch 83/150\n",
      "7/7 [==============================] - 0s 14ms/step - loss: 0.0039 - accuracy: 1.0000 - val_loss: 0.0347 - val_accuracy: 0.9780\n",
      "Epoch 84/150\n",
      "7/7 [==============================] - 0s 11ms/step - loss: 0.0037 - accuracy: 1.0000 - val_loss: 0.0347 - val_accuracy: 0.9780\n",
      "Epoch 85/150\n",
      "7/7 [==============================] - 0s 10ms/step - loss: 0.0037 - accuracy: 1.0000 - val_loss: 0.0347 - val_accuracy: 0.9780\n",
      "Epoch 86/150\n",
      "7/7 [==============================] - 0s 16ms/step - loss: 0.0037 - accuracy: 1.0000 - val_loss: 0.0346 - val_accuracy: 0.9780\n",
      "Epoch 87/150\n",
      "7/7 [==============================] - 0s 15ms/step - loss: 0.0036 - accuracy: 1.0000 - val_loss: 0.0344 - val_accuracy: 0.9780\n",
      "Epoch 88/150\n",
      "7/7 [==============================] - 0s 11ms/step - loss: 0.0035 - accuracy: 1.0000 - val_loss: 0.0345 - val_accuracy: 0.9780\n",
      "Epoch 89/150\n",
      "7/7 [==============================] - 0s 11ms/step - loss: 0.0034 - accuracy: 1.0000 - val_loss: 0.0346 - val_accuracy: 0.9780\n",
      "Epoch 90/150\n",
      "7/7 [==============================] - 0s 9ms/step - loss: 0.0032 - accuracy: 1.0000 - val_loss: 0.0346 - val_accuracy: 0.9780\n",
      "Epoch 91/150\n",
      "7/7 [==============================] - 0s 10ms/step - loss: 0.0029 - accuracy: 1.0000 - val_loss: 0.0345 - val_accuracy: 0.9780\n",
      "Epoch 92/150\n",
      "7/7 [==============================] - 0s 13ms/step - loss: 0.0029 - accuracy: 1.0000 - val_loss: 0.0346 - val_accuracy: 0.9780\n",
      "Epoch 93/150\n",
      "7/7 [==============================] - 0s 14ms/step - loss: 0.0030 - accuracy: 1.0000 - val_loss: 0.0347 - val_accuracy: 0.9780\n",
      "Epoch 94/150\n",
      "7/7 [==============================] - 0s 15ms/step - loss: 0.0028 - accuracy: 1.0000 - val_loss: 0.0347 - val_accuracy: 0.9780\n",
      "Epoch 95/150\n",
      "7/7 [==============================] - 0s 10ms/step - loss: 0.0027 - accuracy: 1.0000 - val_loss: 0.0348 - val_accuracy: 0.9780\n",
      "Epoch 96/150\n",
      "7/7 [==============================] - 0s 11ms/step - loss: 0.0027 - accuracy: 1.0000 - val_loss: 0.0349 - val_accuracy: 0.9780\n",
      "Epoch 97/150\n",
      "7/7 [==============================] - 0s 9ms/step - loss: 0.0024 - accuracy: 1.0000 - val_loss: 0.0351 - val_accuracy: 0.9780\n",
      "Epoch 98/150\n",
      "7/7 [==============================] - 0s 9ms/step - loss: 0.0025 - accuracy: 1.0000 - val_loss: 0.0353 - val_accuracy: 0.9780\n",
      "Epoch 99/150\n",
      "7/7 [==============================] - 0s 11ms/step - loss: 0.0024 - accuracy: 1.0000 - val_loss: 0.0351 - val_accuracy: 0.9780\n",
      "Epoch 100/150\n",
      "7/7 [==============================] - 0s 21ms/step - loss: 0.0022 - accuracy: 1.0000 - val_loss: 0.0349 - val_accuracy: 0.9780\n",
      "Epoch 101/150\n",
      "7/7 [==============================] - 0s 18ms/step - loss: 0.0022 - accuracy: 1.0000 - val_loss: 0.0352 - val_accuracy: 0.9780\n",
      "Epoch 102/150\n",
      "7/7 [==============================] - 0s 19ms/step - loss: 0.0022 - accuracy: 1.0000 - val_loss: 0.0353 - val_accuracy: 0.9780\n",
      "Epoch 103/150\n",
      "7/7 [==============================] - 0s 22ms/step - loss: 0.0021 - accuracy: 1.0000 - val_loss: 0.0354 - val_accuracy: 0.9780\n",
      "Epoch 104/150\n",
      "7/7 [==============================] - 0s 11ms/step - loss: 0.0020 - accuracy: 1.0000 - val_loss: 0.0354 - val_accuracy: 0.9780\n",
      "Epoch 105/150\n",
      "7/7 [==============================] - 0s 14ms/step - loss: 0.0019 - accuracy: 1.0000 - val_loss: 0.0351 - val_accuracy: 0.9780\n",
      "Epoch 106/150\n",
      "7/7 [==============================] - 0s 9ms/step - loss: 0.0020 - accuracy: 1.0000 - val_loss: 0.0352 - val_accuracy: 0.9780\n",
      "Epoch 107/150\n",
      "7/7 [==============================] - 0s 11ms/step - loss: 0.0019 - accuracy: 1.0000 - val_loss: 0.0352 - val_accuracy: 0.9780\n",
      "Epoch 108/150\n",
      "7/7 [==============================] - 0s 19ms/step - loss: 0.0019 - accuracy: 1.0000 - val_loss: 0.0354 - val_accuracy: 0.9780\n",
      "Epoch 109/150\n",
      "7/7 [==============================] - 0s 11ms/step - loss: 0.0018 - accuracy: 1.0000 - val_loss: 0.0354 - val_accuracy: 0.9780\n",
      "Epoch 110/150\n",
      "7/7 [==============================] - 0s 12ms/step - loss: 0.0018 - accuracy: 1.0000 - val_loss: 0.0356 - val_accuracy: 0.9780\n",
      "Epoch 111/150\n",
      "7/7 [==============================] - 0s 13ms/step - loss: 0.0016 - accuracy: 1.0000 - val_loss: 0.0358 - val_accuracy: 0.9780\n",
      "Epoch 112/150\n",
      "7/7 [==============================] - 0s 10ms/step - loss: 0.0016 - accuracy: 1.0000 - val_loss: 0.0361 - val_accuracy: 0.9780\n",
      "Epoch 113/150\n",
      "7/7 [==============================] - 0s 15ms/step - loss: 0.0016 - accuracy: 1.0000 - val_loss: 0.0362 - val_accuracy: 0.9780\n",
      "Epoch 114/150\n",
      "7/7 [==============================] - 0s 13ms/step - loss: 0.0016 - accuracy: 1.0000 - val_loss: 0.0360 - val_accuracy: 0.9780\n",
      "Epoch 115/150\n",
      "7/7 [==============================] - 0s 11ms/step - loss: 0.0015 - accuracy: 1.0000 - val_loss: 0.0361 - val_accuracy: 0.9780\n",
      "Epoch 116/150\n",
      "7/7 [==============================] - 0s 9ms/step - loss: 0.0013 - accuracy: 1.0000 - val_loss: 0.0363 - val_accuracy: 0.9780\n",
      "Epoch 117/150\n"
     ]
    },
    {
     "name": "stdout",
     "output_type": "stream",
     "text": [
      "7/7 [==============================] - 0s 10ms/step - loss: 0.0015 - accuracy: 1.0000 - val_loss: 0.0365 - val_accuracy: 0.9780\n",
      "Epoch 118/150\n",
      "7/7 [==============================] - 0s 13ms/step - loss: 0.0014 - accuracy: 1.0000 - val_loss: 0.0367 - val_accuracy: 0.9780\n",
      "Epoch 119/150\n",
      "7/7 [==============================] - 0s 9ms/step - loss: 0.0014 - accuracy: 1.0000 - val_loss: 0.0367 - val_accuracy: 0.9780\n",
      "Epoch 120/150\n",
      "7/7 [==============================] - 0s 11ms/step - loss: 0.0014 - accuracy: 1.0000 - val_loss: 0.0366 - val_accuracy: 0.9780\n",
      "Epoch 121/150\n",
      "7/7 [==============================] - 0s 7ms/step - loss: 0.0014 - accuracy: 1.0000 - val_loss: 0.0367 - val_accuracy: 0.9780\n",
      "Epoch 122/150\n",
      "7/7 [==============================] - 0s 8ms/step - loss: 0.0013 - accuracy: 1.0000 - val_loss: 0.0367 - val_accuracy: 0.9780\n",
      "Epoch 123/150\n",
      "7/7 [==============================] - 0s 8ms/step - loss: 0.0012 - accuracy: 1.0000 - val_loss: 0.0366 - val_accuracy: 0.9780\n",
      "Epoch 124/150\n",
      "7/7 [==============================] - 0s 7ms/step - loss: 0.0012 - accuracy: 1.0000 - val_loss: 0.0367 - val_accuracy: 0.9780\n",
      "Epoch 125/150\n",
      "7/7 [==============================] - 0s 10ms/step - loss: 0.0012 - accuracy: 1.0000 - val_loss: 0.0368 - val_accuracy: 0.9780\n",
      "Epoch 126/150\n",
      "7/7 [==============================] - 0s 8ms/step - loss: 0.0012 - accuracy: 1.0000 - val_loss: 0.0368 - val_accuracy: 0.9780\n",
      "Epoch 127/150\n",
      "7/7 [==============================] - 0s 7ms/step - loss: 0.0012 - accuracy: 1.0000 - val_loss: 0.0369 - val_accuracy: 0.9780\n",
      "Epoch 128/150\n",
      "7/7 [==============================] - 0s 8ms/step - loss: 0.0011 - accuracy: 1.0000 - val_loss: 0.0371 - val_accuracy: 0.9780\n",
      "Epoch 129/150\n",
      "7/7 [==============================] - 0s 6ms/step - loss: 0.0011 - accuracy: 1.0000 - val_loss: 0.0373 - val_accuracy: 0.9780\n",
      "Epoch 130/150\n",
      "7/7 [==============================] - 0s 7ms/step - loss: 0.0011 - accuracy: 1.0000 - val_loss: 0.0376 - val_accuracy: 0.9780\n",
      "Epoch 131/150\n",
      "7/7 [==============================] - 0s 6ms/step - loss: 0.0010 - accuracy: 1.0000 - val_loss: 0.0377 - val_accuracy: 0.9780\n",
      "Epoch 132/150\n",
      "7/7 [==============================] - 0s 7ms/step - loss: 0.0010 - accuracy: 1.0000 - val_loss: 0.0377 - val_accuracy: 0.9780\n",
      "Epoch 133/150\n",
      "7/7 [==============================] - 0s 7ms/step - loss: 9.4351e-04 - accuracy: 1.0000 - val_loss: 0.0377 - val_accuracy: 0.9780\n",
      "Epoch 134/150\n",
      "7/7 [==============================] - 0s 9ms/step - loss: 9.5656e-04 - accuracy: 1.0000 - val_loss: 0.0378 - val_accuracy: 0.9780\n",
      "Epoch 135/150\n",
      "7/7 [==============================] - 0s 9ms/step - loss: 9.2385e-04 - accuracy: 1.0000 - val_loss: 0.0379 - val_accuracy: 0.9780\n",
      "Epoch 136/150\n",
      "7/7 [==============================] - 0s 7ms/step - loss: 9.2879e-04 - accuracy: 1.0000 - val_loss: 0.0380 - val_accuracy: 0.9780\n",
      "Epoch 137/150\n",
      "7/7 [==============================] - 0s 8ms/step - loss: 9.0498e-04 - accuracy: 1.0000 - val_loss: 0.0379 - val_accuracy: 0.9780\n",
      "Epoch 138/150\n",
      "7/7 [==============================] - 0s 6ms/step - loss: 8.5476e-04 - accuracy: 1.0000 - val_loss: 0.0381 - val_accuracy: 0.9780\n",
      "Epoch 139/150\n",
      "7/7 [==============================] - 0s 6ms/step - loss: 8.1169e-04 - accuracy: 1.0000 - val_loss: 0.0383 - val_accuracy: 0.9780\n",
      "Epoch 140/150\n",
      "7/7 [==============================] - 0s 8ms/step - loss: 6.9398e-04 - accuracy: 1.0000 - val_loss: 0.0384 - val_accuracy: 0.9780\n",
      "Epoch 141/150\n",
      "7/7 [==============================] - 0s 7ms/step - loss: 8.1893e-04 - accuracy: 1.0000 - val_loss: 0.0386 - val_accuracy: 0.9780\n",
      "Epoch 142/150\n",
      "7/7 [==============================] - 0s 7ms/step - loss: 8.0789e-04 - accuracy: 1.0000 - val_loss: 0.0386 - val_accuracy: 0.9780\n",
      "Epoch 143/150\n",
      "7/7 [==============================] - 0s 7ms/step - loss: 7.4205e-04 - accuracy: 1.0000 - val_loss: 0.0386 - val_accuracy: 0.9780\n",
      "Epoch 144/150\n",
      "7/7 [==============================] - 0s 8ms/step - loss: 7.7246e-04 - accuracy: 1.0000 - val_loss: 0.0387 - val_accuracy: 0.9780\n",
      "Epoch 145/150\n",
      "7/7 [==============================] - 0s 8ms/step - loss: 7.2011e-04 - accuracy: 1.0000 - val_loss: 0.0387 - val_accuracy: 0.9780\n",
      "Epoch 146/150\n",
      "7/7 [==============================] - 0s 9ms/step - loss: 6.7266e-04 - accuracy: 1.0000 - val_loss: 0.0389 - val_accuracy: 0.9780\n",
      "Epoch 147/150\n",
      "7/7 [==============================] - 0s 8ms/step - loss: 7.3059e-04 - accuracy: 1.0000 - val_loss: 0.0392 - val_accuracy: 0.9780\n",
      "Epoch 148/150\n",
      "7/7 [==============================] - 0s 8ms/step - loss: 6.8457e-04 - accuracy: 1.0000 - val_loss: 0.0393 - val_accuracy: 0.9780\n",
      "Epoch 149/150\n",
      "7/7 [==============================] - 0s 6ms/step - loss: 6.5009e-04 - accuracy: 1.0000 - val_loss: 0.0396 - val_accuracy: 0.9780\n",
      "Epoch 150/150\n",
      "7/7 [==============================] - 0s 7ms/step - loss: 6.7999e-04 - accuracy: 1.0000 - val_loss: 0.0396 - val_accuracy: 0.9780\n"
     ]
    }
   ],
   "source": [
    "hist = model.fit(train_dataset, epochs=N_EPOCHS, validation_data=val_dataset)"
   ]
  },
  {
   "cell_type": "markdown",
   "metadata": {
    "slideshow": {
     "slide_type": "fragment"
    }
   },
   "source": [
    "#### 결과 시각화"
   ]
  },
  {
   "cell_type": "code",
   "execution_count": 78,
   "metadata": {
    "ExecuteTime": {
     "end_time": "2021-11-03T00:58:56.334708Z",
     "start_time": "2021-11-03T00:58:56.043653Z"
    },
    "scrolled": true,
    "slideshow": {
     "slide_type": "fragment"
    }
   },
   "outputs": [
    {
     "data": {
      "image/png": "[encoded data removed]",
      "text/plain": [
       "<Figure size 504x432 with 1 Axes>"
      ]
     },
     "metadata": {
      "needs_background": "light"
     },
     "output_type": "display_data"
    }
   ],
   "source": [
    "import matplotlib.pyplot as plt\n",
    "\n",
    "plt.figure(figsize=(7,6))\n",
    "plt.plot(range(1, N_EPOCHS+1), hist.history['loss'], label='Train Loss')\n",
    "plt.plot(range(1, N_EPOCHS+1), hist.history['val_loss'], label='Validation Loss')\n",
    "plt.title('Loss', fontsize=20)\n",
    "plt.xlabel('Epochs')\n",
    "plt.ylabel('Loss')\n",
    "plt.legend()\n",
    "plt.show()"
   ]
  },
  {
   "cell_type": "code",
   "execution_count": 79,
   "metadata": {
    "ExecuteTime": {
     "end_time": "2021-11-03T00:59:03.092059Z",
     "start_time": "2021-11-03T00:59:02.953881Z"
    },
    "scrolled": true,
    "slideshow": {
     "slide_type": "fragment"
    }
   },
   "outputs": [
    {
     "data": {
      "image/png": "[encoded data removed]",
      "text/plain": [
       "<Figure size 504x432 with 1 Axes>"
      ]
     },
     "metadata": {
      "needs_background": "light"
     },
     "output_type": "display_data"
    }
   ],
   "source": [
    "plt.figure(figsize=(7,6))\n",
    "plt.plot(range(1, N_EPOCHS+1), hist.history['accuracy'], label='Train Accuracy')\n",
    "plt.plot(range(1, N_EPOCHS+1), hist.history['val_accuracy'], label='Validation Accuracy')\n",
    "plt.title('Accuracy', fontsize=20)\n",
    "plt.xlabel('Epochs')\n",
    "plt.ylabel('Accuracy')\n",
    "plt.legend()\n",
    "plt.show()"
   ]
  },
  {
   "cell_type": "markdown",
   "metadata": {
    "slideshow": {
     "slide_type": "slide"
    }
   },
   "source": [
    "#### 최종평가"
   ]
  },
  {
   "cell_type": "code",
   "execution_count": 80,
   "metadata": {
    "ExecuteTime": {
     "end_time": "2021-11-03T00:59:14.751255Z",
     "start_time": "2021-11-03T00:59:14.715247Z"
    },
    "slideshow": {
     "slide_type": "fragment"
    }
   },
   "outputs": [
    {
     "name": "stdout",
     "output_type": "stream",
     "text": [
      "3/3 [==============================] - 0s 4ms/step - loss: 0.1322 - accuracy: 0.9737\n"
     ]
    }
   ],
   "source": [
    "loss, acc = model.evaluate(test_dataset)"
   ]
  },
  {
   "cell_type": "code",
   "execution_count": 81,
   "metadata": {
    "ExecuteTime": {
     "end_time": "2021-11-03T00:59:16.738914Z",
     "start_time": "2021-11-03T00:59:16.732879Z"
    },
    "slideshow": {
     "slide_type": "fragment"
    }
   },
   "outputs": [
    {
     "name": "stdout",
     "output_type": "stream",
     "text": [
      "0.13224643468856812 0.9736841917037964\n"
     ]
    }
   ],
   "source": [
    "print(loss, acc)"
   ]
  },
  {
   "cell_type": "markdown",
   "metadata": {},
   "source": [
    "#### 모델저장"
   ]
  },
  {
   "cell_type": "code",
   "execution_count": 82,
   "metadata": {},
   "outputs": [
    {
     "name": "stdout",
     "output_type": "stream",
     "text": [
      "INFO:tensorflow:Assets written to: models/breast_cancer_model\\assets\n"
     ]
    }
   ],
   "source": [
    "model.save('models/breast_cancer_model')"
   ]
  },
  {
   "cell_type": "code",
   "execution_count": 83,
   "metadata": {},
   "outputs": [],
   "source": [
    "w_model = keras.models.load_model('models/breast_cancer_model')"
   ]
  },
  {
   "cell_type": "code",
   "execution_count": 84,
   "metadata": {},
   "outputs": [
    {
     "name": "stdout",
     "output_type": "stream",
     "text": [
      "Model: \"sequential_2\"\n",
      "_________________________________________________________________\n",
      " Layer (type)                Output Shape              Param #   \n",
      "=================================================================\n",
      " dense_7 (Dense)             (None, 32)                992       \n",
      "                                                                 \n",
      " dense_8 (Dense)             (None, 16)                528       \n",
      "                                                                 \n",
      " dense_9 (Dense)             (None, 8)                 136       \n",
      "                                                                 \n",
      " Output_layer (Dense)        (None, 1)                 9         \n",
      "                                                                 \n",
      "=================================================================\n",
      "Total params: 1,665\n",
      "Trainable params: 1,665\n",
      "Non-trainable params: 0\n",
      "_________________________________________________________________\n"
     ]
    }
   ],
   "source": [
    "w_model.summary()"
   ]
  },
  {
   "cell_type": "markdown",
   "metadata": {
    "slideshow": {
     "slide_type": "slide"
    }
   },
   "source": [
    "#### 새로운 데이터 추론"
   ]
  },
  {
   "cell_type": "code",
   "execution_count": 85,
   "metadata": {
    "ExecuteTime": {
     "end_time": "2021-11-03T00:59:19.086745Z",
     "start_time": "2021-11-03T00:59:19.083739Z"
    },
    "slideshow": {
     "slide_type": "fragment"
    }
   },
   "outputs": [],
   "source": [
    "new_data = X_test[:5]\n",
    "new_data_scaled = scaler.transform(new_data)"
   ]
  },
  {
   "cell_type": "code",
   "execution_count": 86,
   "metadata": {
    "ExecuteTime": {
     "end_time": "2021-11-03T00:59:20.263087Z",
     "start_time": "2021-11-03T00:59:20.179596Z"
    },
    "slideshow": {
     "slide_type": "fragment"
    }
   },
   "outputs": [
    {
     "name": "stdout",
     "output_type": "stream",
     "text": [
      "1/1 [==============================] - 0s 120ms/step\n"
     ]
    }
   ],
   "source": [
    "pred = model.predict(new_data_scaled)"
   ]
  },
  {
   "cell_type": "code",
   "execution_count": 87,
   "metadata": {
    "ExecuteTime": {
     "end_time": "2021-11-03T00:59:21.138066Z",
     "start_time": "2021-11-03T00:59:21.123054Z"
    },
    "slideshow": {
     "slide_type": "fragment"
    }
   },
   "outputs": [
    {
     "data": {
      "text/plain": [
       "array([[4.5448696e-06],\n",
       "       [2.3490991e-20],\n",
       "       [1.5001091e-07],\n",
       "       [9.9999911e-01],\n",
       "       [1.8852832e-07]], dtype=float32)"
      ]
     },
     "execution_count": 87,
     "metadata": {},
     "output_type": "execute_result"
    }
   ],
   "source": [
    "# 양성 1일 확률\n",
    "pred"
   ]
  },
  {
   "cell_type": "code",
   "execution_count": 91,
   "metadata": {},
   "outputs": [
    {
     "data": {
      "text/plain": [
       "array([0, 0, 0, 1, 0])"
      ]
     },
     "execution_count": 91,
     "metadata": {},
     "output_type": "execute_result"
    }
   ],
   "source": [
    "# 정답\n",
    "y_test[:5]"
   ]
  },
  {
   "cell_type": "markdown",
   "metadata": {},
   "source": [
    "##### 모델의 분류 예측 결과를 후처리 -> 모델이 출력한 확률을 class 로 변환\n",
    "\n",
    "- 다중분류(모델이 클래스별 확률 출력): np.argmax(예측결과, axis=-1)\n",
    "- 이진분류(모델이 양성의 확률을 출력): np.where(pred > threshold, '양성label', '음성 label')"
   ]
  },
  {
   "cell_type": "code",
   "execution_count": 89,
   "metadata": {
    "ExecuteTime": {
     "end_time": "2021-11-03T00:59:26.647416Z",
     "start_time": "2021-11-03T00:59:26.635411Z"
    },
    "slideshow": {
     "slide_type": "fragment"
    }
   },
   "outputs": [
    {
     "data": {
      "text/plain": [
       "array([[0],\n",
       "       [0],\n",
       "       [0],\n",
       "       [1],\n",
       "       [0]], dtype=int8)"
      ]
     },
     "execution_count": 89,
     "metadata": {},
     "output_type": "execute_result"
    }
   ],
   "source": [
    "# 결과 label \n",
    "\n",
    "threshold = 0.5\n",
    "\n",
    "# 방법1\n",
    "result = (pred > threshold).astype(np.int8) # bool => int 로 type 변환\n",
    "result"
   ]
  },
  {
   "cell_type": "code",
   "execution_count": 90,
   "metadata": {
    "ExecuteTime": {
     "end_time": "2021-11-03T00:59:31.142907Z",
     "start_time": "2021-11-03T00:59:31.130884Z"
    },
    "scrolled": true,
    "slideshow": {
     "slide_type": "fragment"
    }
   },
   "outputs": [
    {
     "data": {
      "text/plain": [
       "array([['악성-0'],\n",
       "       ['악성-0'],\n",
       "       ['악성-0'],\n",
       "       ['양성-1'],\n",
       "       ['악성-0']], dtype='<U4')"
      ]
     },
     "execution_count": 90,
     "metadata": {},
     "output_type": "execute_result"
    }
   ],
   "source": [
    "# 방법2 - 보통 이렇게 하면 됨.\n",
    "result_label = np.where(pred > threshold, \"양성-1\", \"악성-0\")\n",
    "result_label"
   ]
  },
  {
   "cell_type": "markdown",
   "metadata": {
    "slideshow": {
     "slide_type": "slide"
    }
   },
   "source": [
    "# Tensorflow 2.3이하 버전에서 Train dataset 구성 및 학습 \n",
    "- 위의 코드들은 2.4 이후 버전\n",
    "- 2.3 이하버전에서는 \n",
    "    1. train_dataset 구성시 repeat()를 추가\n",
    "        - 데이터가 10개면 무한반복으로 계속 10개씩 제공. \n",
    "        - epoch = 1 설정할 때 데이터를 계속 제공하니 언제 데이터 끝인지 모른다. 무한 반복. 그렇기에 2번 과정이 필요.\n",
    "    2. 학습시에 train/validation 1 epoch당 step 횟수를 추가\n",
    "        - steps_per_epoch: train set 에 대한 1 epoch 당 step 횟수\n",
    "        - validation_steps: validation set 에 대한 step 횟수"
   ]
  },
  {
   "cell_type": "code",
   "execution_count": 92,
   "metadata": {
    "ExecuteTime": {
     "end_time": "2021-11-03T01:02:04.237421Z",
     "start_time": "2021-11-03T01:02:04.214435Z"
    },
    "slideshow": {
     "slide_type": "fragment"
    }
   },
   "outputs": [],
   "source": [
    "train_dataset2 = tf.data.Dataset.from_tensor_slices((X_train_scaled, y_train)).shuffle(N_TRAIN).batch(N_BATCHS, drop_remainder=True).repeat()\n",
    "\n",
    "val_dataset2 = tf.data.Dataset.from_tensor_slices((X_val_scaled, y_val)).batch(N_BATCHS)\n",
    "test_dataset2 = tf.data.Dataset.from_tensor_slices((X_test_scaled, y_test)).batch(N_BATCHS)"
   ]
  },
  {
   "cell_type": "code",
   "execution_count": 93,
   "metadata": {
    "ExecuteTime": {
     "end_time": "2021-11-03T01:03:43.772869Z",
     "start_time": "2021-11-03T01:03:43.765843Z"
    },
    "slideshow": {
     "slide_type": "fragment"
    }
   },
   "outputs": [
    {
     "name": "stdout",
     "output_type": "stream",
     "text": [
      "7 2\n"
     ]
    }
   ],
   "source": [
    "# train set 에 대한 1 epoch 당 step 횟수\n",
    "steps_per_epoch = N_TRAIN // N_BATCHS #repeat() 때문에 len()을 사용못함(데이터 무제한 제공되니)\n",
    "\n",
    "# validation set 에 대한 step 횟수\n",
    "validation_steps = len(val_dataset2) #len(Dataset): step수 반환\n",
    "\n",
    "print(steps_per_epoch, validation_steps)"
   ]
  },
  {
   "cell_type": "code",
   "execution_count": 94,
   "metadata": {
    "ExecuteTime": {
     "end_time": "2021-11-03T01:03:44.457988Z",
     "start_time": "2021-11-03T01:03:44.410963Z"
    },
    "slideshow": {
     "slide_type": "fragment"
    }
   },
   "outputs": [],
   "source": [
    "model = create_wisconsin_model()\n",
    "model.compile(optimizer=keras.optimizers.Adam(learning_rate=LEARNING_RATE), \n",
    "              loss='binary_crossentropy',\n",
    "              metrics=['accuracy'])"
   ]
  },
  {
   "cell_type": "code",
   "execution_count": 95,
   "metadata": {
    "ExecuteTime": {
     "end_time": "2021-11-03T01:03:51.545411Z",
     "start_time": "2021-11-03T01:03:50.882537Z"
    },
    "scrolled": true,
    "slideshow": {
     "slide_type": "fragment"
    }
   },
   "outputs": [
    {
     "name": "stdout",
     "output_type": "stream",
     "text": [
      "Epoch 1/10\n",
      "7/7 [==============================] - 1s 46ms/step - loss: 0.6496 - accuracy: 0.7286 - val_loss: 0.6023 - val_accuracy: 0.8571\n",
      "Epoch 2/10\n",
      "7/7 [==============================] - 0s 6ms/step - loss: 0.5891 - accuracy: 0.8571 - val_loss: 0.5474 - val_accuracy: 0.9121\n",
      "Epoch 3/10\n",
      "7/7 [==============================] - 0s 7ms/step - loss: 0.5333 - accuracy: 0.8771 - val_loss: 0.4929 - val_accuracy: 0.9121\n",
      "Epoch 4/10\n",
      "7/7 [==============================] - 0s 7ms/step - loss: 0.4724 - accuracy: 0.8943 - val_loss: 0.4385 - val_accuracy: 0.9121\n",
      "Epoch 5/10\n",
      "7/7 [==============================] - 0s 7ms/step - loss: 0.4144 - accuracy: 0.9086 - val_loss: 0.3873 - val_accuracy: 0.9341\n",
      "Epoch 6/10\n",
      "7/7 [==============================] - 0s 6ms/step - loss: 0.3660 - accuracy: 0.9171 - val_loss: 0.3407 - val_accuracy: 0.9451\n",
      "Epoch 7/10\n",
      "7/7 [==============================] - 0s 9ms/step - loss: 0.3148 - accuracy: 0.9286 - val_loss: 0.2999 - val_accuracy: 0.9560\n",
      "Epoch 8/10\n",
      "7/7 [==============================] - 0s 7ms/step - loss: 0.2826 - accuracy: 0.9257 - val_loss: 0.2639 - val_accuracy: 0.9451\n",
      "Epoch 9/10\n",
      "7/7 [==============================] - 0s 8ms/step - loss: 0.2490 - accuracy: 0.9314 - val_loss: 0.2326 - val_accuracy: 0.9451\n",
      "Epoch 10/10\n",
      "7/7 [==============================] - 0s 6ms/step - loss: 0.2194 - accuracy: 0.9343 - val_loss: 0.2045 - val_accuracy: 0.9560\n"
     ]
    },
    {
     "data": {
      "text/plain": [
       "<keras.callbacks.History at 0x16c7d991e50>"
      ]
     },
     "execution_count": 95,
     "metadata": {},
     "output_type": "execute_result"
    }
   ],
   "source": [
    "model.fit(train_dataset2, \n",
    "          steps_per_epoch=steps_per_epoch,\n",
    "          validation_data=val_dataset2,\n",
    "          validation_steps=validation_steps, \n",
    "          epochs=10)"
   ]
  }
 ],
 "metadata": {
  "kernelspec": {
   "display_name": "Python 3 (ipykernel)",
   "language": "python",
   "name": "python3"
  },
  "language_info": {
   "codemirror_mode": {
    "name": "ipython",
    "version": 3
   },
   "file_extension": ".py",
   "mimetype": "text/x-python",
   "name": "python",
   "nbconvert_exporter": "python",
   "pygments_lexer": "ipython3",
   "version": "3.9.12"
  },
  "toc": {
   "base_numbering": 1,
   "nav_menu": {},
   "number_sections": false,
   "sideBar": true,
   "skip_h1_title": false,
   "title_cell": "Table of Contents",
   "title_sidebar": "Contents",
   "toc_cell": false,
   "toc_position": {},
   "toc_section_display": true,
   "toc_window_display": false
  },
  "varInspector": {
   "cols": {
    "lenName": 16,
    "lenType": 16,
    "lenVar": 40
   },
   "kernels_config": {
    "python": {
     "delete_cmd_postfix": "",
     "delete_cmd_prefix": "del ",
     "library": "var_list.py",
     "varRefreshCmd": "print(var_dic_list())"
    },
    "r": {
     "delete_cmd_postfix": ") ",
     "delete_cmd_prefix": "rm(",
     "library": "var_list.r",
     "varRefreshCmd": "cat(var_dic_list()) "
    }
   },
   "types_to_exclude": [
    "module",
    "function",
    "builtin_function_or_method",
    "instance",
    "_Feature"
   ],
   "window_display": false
  }
 },
 "nbformat": 4,
 "nbformat_minor": 2
}
