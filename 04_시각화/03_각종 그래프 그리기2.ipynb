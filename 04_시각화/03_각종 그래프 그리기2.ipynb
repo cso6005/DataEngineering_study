{
 "cells": [
  {
   "cell_type": "markdown",
   "metadata": {},
   "source": [
    "# 4. 파이차트 그리기\n",
    "## 4.1 파이차트\n",
    "- 각 범주(Category)가 데이터에서 차지하는 **비율**을 나타내는데 사용\n",
    "- `pie(x, abels = 대상)` 이용\n",
    "    - **x: 값** (값들을 100을 기준으로 비율을 계산해 크기 설정)\n",
    "    - **labels : 값들의 label**\n",
    "        - 세번째 매개변수이기에 키워드 인자로 써주기\n",
    "    - autopct: 조각내에 표시될 비율의 문자열 형식. '%fmt문자' \n",
    "        - fmt문자: f(실수), d(정수), %% (%)\n",
    "            "
   ]
  },
  {
   "cell_type": "code",
   "execution_count": 7,
   "metadata": {},
   "outputs": [
    {
     "data": {
      "text/plain": [
       "array([0.27272727, 0.09090909, 0.45454545, 0.18181818])"
      ]
     },
     "execution_count": 7,
     "metadata": {},
     "output_type": "execute_result"
    }
   ],
   "source": [
    "import matplotlib.pyplot as plt\n",
    "import numpy as np\n",
    "\n",
    "# 각 원소별 비율 계산\n",
    "np.array(counts)/np.sum(counts)"
   ]
  },
  {
   "cell_type": "markdown",
   "metadata": {},
   "source": [
    "- x축(y=0) 부터 출발"
   ]
  },
  {
   "cell_type": "code",
   "execution_count": 82,
   "metadata": {},
   "outputs": [
    {
     "data": {
      "image/png": "[encoded data removed]",
      "text/plain": [
       "<Figure size 432x288 with 1 Axes>"
      ]
     },
     "metadata": {},
     "output_type": "display_data"
    }
   ],
   "source": [
    "fruits = ['사과', '배', '귤', '딸기']\n",
    "counts = [30,10,50,20]\n",
    "\n",
    "# .pie(수량, labels = 대상)\n",
    "# 세번째 매개변수가 labels 이기때문에 키워드 인자로 써줘야 한다.\n",
    "plt.pie(counts, labels = fruits,\n",
    "       autopct = '%.2f%%', # 소수점 두자리 # 값으로 % 쓰기 : % 앞에 써주기 -> %%\n",
    "       )  \n",
    "\n",
    "plt.show()"
   ]
  },
  {
   "cell_type": "code",
   "execution_count": 129,
   "metadata": {},
   "outputs": [
    {
     "data": {
      "image/png": "[encoded data removed]",
      "text/plain": [
       "<Figure size 432x288 with 1 Axes>"
      ]
     },
     "metadata": {},
     "output_type": "display_data"
    }
   ],
   "source": [
    "fruits = ['사과', '배', '귤', '딸기']\n",
    "counts = [30,10,50,20]\n",
    "\n",
    "# .pie(수량, labels = 대상)\n",
    "# 세번째 매개변수가 labels 이기때문에 키워드 인자로 써줘야 한다.\n",
    "plt.pie(counts, labels = fruits,\n",
    "       autopct = '%.2f%%', # 소수점 두자리 # 값으로 % 쓰기 : % 앞에 써주기 -> %%\n",
    "        explode = [0.1,0,0.1,0], # 세 번째를 위로뽑기 (def 0 ) \n",
    "        labeldistance = 0.4,\n",
    "        pctdistance = 0.8,\n",
    "        shadow= True\n",
    "       )  \n",
    "\n",
    "plt.show()"
   ]
  },
  {
   "cell_type": "markdown",
   "metadata": {},
   "source": [
    "## 4.2 파이차트 활용\n",
    "- 한국 웹브라우저 점유율을 파이차트로 작성\n",
    "    - https://www.koreahtml5.kr/front/stats/browser/browserUseStats.do"
   ]
  },
  {
   "cell_type": "code",
   "execution_count": 1,
   "metadata": {
    "scrolled": true
   },
   "outputs": [
    {
     "name": "stdout",
     "output_type": "stream",
     "text": [
      "<class 'pandas.core.frame.DataFrame'>\n",
      "RangeIndex: 12 entries, 0 to 11\n",
      "Data columns (total 22 columns):\n",
      " #   Column            Non-Null Count  Dtype  \n",
      "---  ------            --------------  -----  \n",
      " 0   date              12 non-null     object \n",
      " 1   Chrome            12 non-null     float64\n",
      " 2   IE                12 non-null     float64\n",
      " 3   Edge              12 non-null     float64\n",
      " 4   Safari            12 non-null     float64\n",
      " 5   Whale Browser     12 non-null     float64\n",
      " 6   Firefox           12 non-null     float64\n",
      " 7   Opera             12 non-null     float64\n",
      " 8   Swing             12 non-null     float64\n",
      " 9   Phantom           12 non-null     float64\n",
      " 10  UC Browser        12 non-null     float64\n",
      " 11  Chromium          12 non-null     float64\n",
      " 12  QQ Browser        12 non-null     float64\n",
      " 13  Vivaldi           12 non-null     float64\n",
      " 14  360 Safe Browser  12 non-null     float64\n",
      " 15  Maxthon           12 non-null     float64\n",
      " 16  Coc Coc           12 non-null     float64\n",
      " 17  Puffin            12 non-null     float64\n",
      " 18  Yandex Browser    12 non-null     float64\n",
      " 19  Sogou Explorer    12 non-null     float64\n",
      " 20  Mozilla           12 non-null     float64\n",
      " 21  Whale             12 non-null     float64\n",
      "dtypes: float64(21), object(1)\n",
      "memory usage: 2.2+ KB\n"
     ]
    },
    {
     "name": "stderr",
     "output_type": "stream",
     "text": [
      "C:\\Users\\CSYJ\\anaconda3\\envs\\ml\\lib\\site-packages\\ipykernel_launcher.py:9: DeprecationWarning: `np.str` is a deprecated alias for the builtin `str`. To silence this warning, use `str` by itself. Doing this will not modify any behavior and is safe. If you specifically wanted the numpy scalar type, use `np.str_` here.\n",
      "Deprecated in NumPy 1.20; for more details and guidance: https://numpy.org/devdocs/release/1.20.0-notes.html#deprecations\n",
      "  if __name__ == \"__main__\":\n"
     ]
    }
   ],
   "source": [
    "import pandas as pd\n",
    "import numpy as np\n",
    "import matplotlib.pyplot as plt\n",
    "\n",
    "# 전처리\n",
    "# date 컬럼이 float 실수 타입이다. object 타입으로 바꿔주기\n",
    "# converters = {컬럼명:타입}  컬럼을 지정한 타입(numpy의 데이터 타입)으로 읽어들인다.\n",
    "\n",
    "df = pd.read_excel('data/webbrowser_share.xls', converters = {'date':np.str})\n",
    "df.info()"
   ]
  },
  {
   "cell_type": "code",
   "execution_count": 27,
   "metadata": {},
   "outputs": [
    {
     "data": {
      "text/html": [
       "<div>\n",
       "<style scoped>\n",
       "    .dataframe tbody tr th:only-of-type {\n",
       "        vertical-align: middle;\n",
       "    }\n",
       "\n",
       "    .dataframe tbody tr th {\n",
       "        vertical-align: top;\n",
       "    }\n",
       "\n",
       "    .dataframe thead th {\n",
       "        text-align: right;\n",
       "    }\n",
       "</style>\n",
       "<table border=\"1\" class=\"dataframe\">\n",
       "  <thead>\n",
       "    <tr style=\"text-align: right;\">\n",
       "      <th></th>\n",
       "      <th>Chrome</th>\n",
       "      <th>IE</th>\n",
       "      <th>Edge</th>\n",
       "      <th>Safari</th>\n",
       "      <th>Whale Browser</th>\n",
       "      <th>Firefox</th>\n",
       "      <th>Opera</th>\n",
       "      <th>Swing</th>\n",
       "      <th>Phantom</th>\n",
       "      <th>UC Browser</th>\n",
       "      <th>...</th>\n",
       "      <th>QQ Browser</th>\n",
       "      <th>Vivaldi</th>\n",
       "      <th>360 Safe Browser</th>\n",
       "      <th>Maxthon</th>\n",
       "      <th>Coc Coc</th>\n",
       "      <th>Puffin</th>\n",
       "      <th>Yandex Browser</th>\n",
       "      <th>Sogou Explorer</th>\n",
       "      <th>Mozilla</th>\n",
       "      <th>Whale</th>\n",
       "    </tr>\n",
       "    <tr>\n",
       "      <th>date</th>\n",
       "      <th></th>\n",
       "      <th></th>\n",
       "      <th></th>\n",
       "      <th></th>\n",
       "      <th></th>\n",
       "      <th></th>\n",
       "      <th></th>\n",
       "      <th></th>\n",
       "      <th></th>\n",
       "      <th></th>\n",
       "      <th></th>\n",
       "      <th></th>\n",
       "      <th></th>\n",
       "      <th></th>\n",
       "      <th></th>\n",
       "      <th></th>\n",
       "      <th></th>\n",
       "      <th></th>\n",
       "      <th></th>\n",
       "      <th></th>\n",
       "      <th></th>\n",
       "    </tr>\n",
       "  </thead>\n",
       "  <tbody>\n",
       "    <tr>\n",
       "      <th>2018.08</th>\n",
       "      <td>59.12</td>\n",
       "      <td>31.06</td>\n",
       "      <td>2.97</td>\n",
       "      <td>2.52</td>\n",
       "      <td>1.36</td>\n",
       "      <td>1.26</td>\n",
       "      <td>0.88</td>\n",
       "      <td>0.39</td>\n",
       "      <td>0.25</td>\n",
       "      <td>0.03</td>\n",
       "      <td>...</td>\n",
       "      <td>0.02</td>\n",
       "      <td>0.02</td>\n",
       "      <td>0.02</td>\n",
       "      <td>0.02</td>\n",
       "      <td>0.00</td>\n",
       "      <td>0.00</td>\n",
       "      <td>0.01</td>\n",
       "      <td>0.01</td>\n",
       "      <td>0.00</td>\n",
       "      <td>0.0</td>\n",
       "    </tr>\n",
       "    <tr>\n",
       "      <th>2018.09</th>\n",
       "      <td>61.95</td>\n",
       "      <td>27.84</td>\n",
       "      <td>3.16</td>\n",
       "      <td>2.19</td>\n",
       "      <td>1.27</td>\n",
       "      <td>2.57</td>\n",
       "      <td>0.40</td>\n",
       "      <td>0.37</td>\n",
       "      <td>0.00</td>\n",
       "      <td>0.03</td>\n",
       "      <td>...</td>\n",
       "      <td>0.03</td>\n",
       "      <td>0.02</td>\n",
       "      <td>0.06</td>\n",
       "      <td>0.02</td>\n",
       "      <td>0.00</td>\n",
       "      <td>0.00</td>\n",
       "      <td>0.02</td>\n",
       "      <td>0.03</td>\n",
       "      <td>0.00</td>\n",
       "      <td>0.0</td>\n",
       "    </tr>\n",
       "    <tr>\n",
       "      <th>2018.10</th>\n",
       "      <td>62.05</td>\n",
       "      <td>28.36</td>\n",
       "      <td>3.35</td>\n",
       "      <td>2.43</td>\n",
       "      <td>1.28</td>\n",
       "      <td>1.36</td>\n",
       "      <td>0.59</td>\n",
       "      <td>0.35</td>\n",
       "      <td>0.00</td>\n",
       "      <td>0.03</td>\n",
       "      <td>...</td>\n",
       "      <td>0.02</td>\n",
       "      <td>0.02</td>\n",
       "      <td>0.02</td>\n",
       "      <td>0.02</td>\n",
       "      <td>0.01</td>\n",
       "      <td>0.00</td>\n",
       "      <td>0.01</td>\n",
       "      <td>0.03</td>\n",
       "      <td>0.01</td>\n",
       "      <td>0.0</td>\n",
       "    </tr>\n",
       "    <tr>\n",
       "      <th>2018.11</th>\n",
       "      <td>65.31</td>\n",
       "      <td>26.29</td>\n",
       "      <td>3.06</td>\n",
       "      <td>2.09</td>\n",
       "      <td>1.16</td>\n",
       "      <td>1.10</td>\n",
       "      <td>0.55</td>\n",
       "      <td>0.26</td>\n",
       "      <td>0.00</td>\n",
       "      <td>0.02</td>\n",
       "      <td>...</td>\n",
       "      <td>0.02</td>\n",
       "      <td>0.02</td>\n",
       "      <td>0.02</td>\n",
       "      <td>0.02</td>\n",
       "      <td>0.01</td>\n",
       "      <td>0.01</td>\n",
       "      <td>0.00</td>\n",
       "      <td>0.02</td>\n",
       "      <td>0.01</td>\n",
       "      <td>0.0</td>\n",
       "    </tr>\n",
       "    <tr>\n",
       "      <th>2018.12</th>\n",
       "      <td>68.34</td>\n",
       "      <td>22.31</td>\n",
       "      <td>2.99</td>\n",
       "      <td>2.02</td>\n",
       "      <td>1.11</td>\n",
       "      <td>2.04</td>\n",
       "      <td>0.63</td>\n",
       "      <td>0.25</td>\n",
       "      <td>0.00</td>\n",
       "      <td>0.03</td>\n",
       "      <td>...</td>\n",
       "      <td>0.04</td>\n",
       "      <td>0.01</td>\n",
       "      <td>0.02</td>\n",
       "      <td>0.02</td>\n",
       "      <td>0.03</td>\n",
       "      <td>0.01</td>\n",
       "      <td>0.04</td>\n",
       "      <td>0.02</td>\n",
       "      <td>0.00</td>\n",
       "      <td>0.0</td>\n",
       "    </tr>\n",
       "  </tbody>\n",
       "</table>\n",
       "<p>5 rows × 21 columns</p>\n",
       "</div>"
      ],
      "text/plain": [
       "         Chrome     IE  Edge  Safari  Whale Browser  Firefox  Opera  Swing  \\\n",
       "date                                                                         \n",
       "2018.08   59.12  31.06  2.97    2.52           1.36     1.26   0.88   0.39   \n",
       "2018.09   61.95  27.84  3.16    2.19           1.27     2.57   0.40   0.37   \n",
       "2018.10   62.05  28.36  3.35    2.43           1.28     1.36   0.59   0.35   \n",
       "2018.11   65.31  26.29  3.06    2.09           1.16     1.10   0.55   0.26   \n",
       "2018.12   68.34  22.31  2.99    2.02           1.11     2.04   0.63   0.25   \n",
       "\n",
       "         Phantom  UC Browser  ...  QQ Browser  Vivaldi  360 Safe Browser  \\\n",
       "date                          ...                                          \n",
       "2018.08     0.25        0.03  ...        0.02     0.02              0.02   \n",
       "2018.09     0.00        0.03  ...        0.03     0.02              0.06   \n",
       "2018.10     0.00        0.03  ...        0.02     0.02              0.02   \n",
       "2018.11     0.00        0.02  ...        0.02     0.02              0.02   \n",
       "2018.12     0.00        0.03  ...        0.04     0.01              0.02   \n",
       "\n",
       "         Maxthon  Coc Coc  Puffin  Yandex Browser  Sogou Explorer  Mozilla  \\\n",
       "date                                                                         \n",
       "2018.08     0.02     0.00    0.00            0.01            0.01     0.00   \n",
       "2018.09     0.02     0.00    0.00            0.02            0.03     0.00   \n",
       "2018.10     0.02     0.01    0.00            0.01            0.03     0.01   \n",
       "2018.11     0.02     0.01    0.01            0.00            0.02     0.01   \n",
       "2018.12     0.02     0.03    0.01            0.04            0.02     0.00   \n",
       "\n",
       "         Whale  \n",
       "date            \n",
       "2018.08    0.0  \n",
       "2018.09    0.0  \n",
       "2018.10    0.0  \n",
       "2018.11    0.0  \n",
       "2018.12    0.0  \n",
       "\n",
       "[5 rows x 21 columns]"
      ]
     },
     "execution_count": 27,
     "metadata": {},
     "output_type": "execute_result"
    }
   ],
   "source": [
    "df.head()\n",
    "\n",
    "# 전처리\n",
    "# date는 행의 식별자로 쓰일 수 있기 때문에 또 분석대상도 아니기에 인덱스로 만들어준다.\n",
    "# date를 index\n",
    "\n",
    "df.set_index('date', inplace = True)\n",
    "\n",
    "df.head()"
   ]
  },
  {
   "cell_type": "code",
   "execution_count": 28,
   "metadata": {},
   "outputs": [],
   "source": [
    "# 컬럼명 20개 넘어가서 다 안 보임.\n",
    "pd.options.display.max_columns = 30"
   ]
  },
  {
   "cell_type": "code",
   "execution_count": 29,
   "metadata": {
    "collapsed": true
   },
   "outputs": [
    {
     "data": {
      "text/html": [
       "<div>\n",
       "<style scoped>\n",
       "    .dataframe tbody tr th:only-of-type {\n",
       "        vertical-align: middle;\n",
       "    }\n",
       "\n",
       "    .dataframe tbody tr th {\n",
       "        vertical-align: top;\n",
       "    }\n",
       "\n",
       "    .dataframe thead th {\n",
       "        text-align: right;\n",
       "    }\n",
       "</style>\n",
       "<table border=\"1\" class=\"dataframe\">\n",
       "  <thead>\n",
       "    <tr style=\"text-align: right;\">\n",
       "      <th></th>\n",
       "      <th>Chrome</th>\n",
       "      <th>IE</th>\n",
       "      <th>Edge</th>\n",
       "      <th>Safari</th>\n",
       "      <th>Whale Browser</th>\n",
       "      <th>Firefox</th>\n",
       "      <th>Opera</th>\n",
       "      <th>Swing</th>\n",
       "      <th>Phantom</th>\n",
       "      <th>UC Browser</th>\n",
       "      <th>Chromium</th>\n",
       "      <th>QQ Browser</th>\n",
       "      <th>Vivaldi</th>\n",
       "      <th>360 Safe Browser</th>\n",
       "      <th>Maxthon</th>\n",
       "      <th>Coc Coc</th>\n",
       "      <th>Puffin</th>\n",
       "      <th>Yandex Browser</th>\n",
       "      <th>Sogou Explorer</th>\n",
       "      <th>Mozilla</th>\n",
       "      <th>Whale</th>\n",
       "    </tr>\n",
       "    <tr>\n",
       "      <th>date</th>\n",
       "      <th></th>\n",
       "      <th></th>\n",
       "      <th></th>\n",
       "      <th></th>\n",
       "      <th></th>\n",
       "      <th></th>\n",
       "      <th></th>\n",
       "      <th></th>\n",
       "      <th></th>\n",
       "      <th></th>\n",
       "      <th></th>\n",
       "      <th></th>\n",
       "      <th></th>\n",
       "      <th></th>\n",
       "      <th></th>\n",
       "      <th></th>\n",
       "      <th></th>\n",
       "      <th></th>\n",
       "      <th></th>\n",
       "      <th></th>\n",
       "      <th></th>\n",
       "    </tr>\n",
       "  </thead>\n",
       "  <tbody>\n",
       "    <tr>\n",
       "      <th>2018.08</th>\n",
       "      <td>59.12</td>\n",
       "      <td>31.06</td>\n",
       "      <td>2.97</td>\n",
       "      <td>2.52</td>\n",
       "      <td>1.36</td>\n",
       "      <td>1.26</td>\n",
       "      <td>0.88</td>\n",
       "      <td>0.39</td>\n",
       "      <td>0.25</td>\n",
       "      <td>0.03</td>\n",
       "      <td>0.03</td>\n",
       "      <td>0.02</td>\n",
       "      <td>0.02</td>\n",
       "      <td>0.02</td>\n",
       "      <td>0.02</td>\n",
       "      <td>0.00</td>\n",
       "      <td>0.00</td>\n",
       "      <td>0.01</td>\n",
       "      <td>0.01</td>\n",
       "      <td>0.00</td>\n",
       "      <td>0.00</td>\n",
       "    </tr>\n",
       "    <tr>\n",
       "      <th>2018.09</th>\n",
       "      <td>61.95</td>\n",
       "      <td>27.84</td>\n",
       "      <td>3.16</td>\n",
       "      <td>2.19</td>\n",
       "      <td>1.27</td>\n",
       "      <td>2.57</td>\n",
       "      <td>0.40</td>\n",
       "      <td>0.37</td>\n",
       "      <td>0.00</td>\n",
       "      <td>0.03</td>\n",
       "      <td>0.02</td>\n",
       "      <td>0.03</td>\n",
       "      <td>0.02</td>\n",
       "      <td>0.06</td>\n",
       "      <td>0.02</td>\n",
       "      <td>0.00</td>\n",
       "      <td>0.00</td>\n",
       "      <td>0.02</td>\n",
       "      <td>0.03</td>\n",
       "      <td>0.00</td>\n",
       "      <td>0.00</td>\n",
       "    </tr>\n",
       "    <tr>\n",
       "      <th>2018.10</th>\n",
       "      <td>62.05</td>\n",
       "      <td>28.36</td>\n",
       "      <td>3.35</td>\n",
       "      <td>2.43</td>\n",
       "      <td>1.28</td>\n",
       "      <td>1.36</td>\n",
       "      <td>0.59</td>\n",
       "      <td>0.35</td>\n",
       "      <td>0.00</td>\n",
       "      <td>0.03</td>\n",
       "      <td>0.03</td>\n",
       "      <td>0.02</td>\n",
       "      <td>0.02</td>\n",
       "      <td>0.02</td>\n",
       "      <td>0.02</td>\n",
       "      <td>0.01</td>\n",
       "      <td>0.00</td>\n",
       "      <td>0.01</td>\n",
       "      <td>0.03</td>\n",
       "      <td>0.01</td>\n",
       "      <td>0.00</td>\n",
       "    </tr>\n",
       "    <tr>\n",
       "      <th>2018.11</th>\n",
       "      <td>65.31</td>\n",
       "      <td>26.29</td>\n",
       "      <td>3.06</td>\n",
       "      <td>2.09</td>\n",
       "      <td>1.16</td>\n",
       "      <td>1.10</td>\n",
       "      <td>0.55</td>\n",
       "      <td>0.26</td>\n",
       "      <td>0.00</td>\n",
       "      <td>0.02</td>\n",
       "      <td>0.02</td>\n",
       "      <td>0.02</td>\n",
       "      <td>0.02</td>\n",
       "      <td>0.02</td>\n",
       "      <td>0.02</td>\n",
       "      <td>0.01</td>\n",
       "      <td>0.01</td>\n",
       "      <td>0.00</td>\n",
       "      <td>0.02</td>\n",
       "      <td>0.01</td>\n",
       "      <td>0.00</td>\n",
       "    </tr>\n",
       "    <tr>\n",
       "      <th>2018.12</th>\n",
       "      <td>68.34</td>\n",
       "      <td>22.31</td>\n",
       "      <td>2.99</td>\n",
       "      <td>2.02</td>\n",
       "      <td>1.11</td>\n",
       "      <td>2.04</td>\n",
       "      <td>0.63</td>\n",
       "      <td>0.25</td>\n",
       "      <td>0.00</td>\n",
       "      <td>0.03</td>\n",
       "      <td>0.07</td>\n",
       "      <td>0.04</td>\n",
       "      <td>0.01</td>\n",
       "      <td>0.02</td>\n",
       "      <td>0.02</td>\n",
       "      <td>0.03</td>\n",
       "      <td>0.01</td>\n",
       "      <td>0.04</td>\n",
       "      <td>0.02</td>\n",
       "      <td>0.00</td>\n",
       "      <td>0.00</td>\n",
       "    </tr>\n",
       "    <tr>\n",
       "      <th>2019.01</th>\n",
       "      <td>70.46</td>\n",
       "      <td>21.05</td>\n",
       "      <td>2.99</td>\n",
       "      <td>2.07</td>\n",
       "      <td>1.14</td>\n",
       "      <td>1.15</td>\n",
       "      <td>0.67</td>\n",
       "      <td>0.24</td>\n",
       "      <td>0.00</td>\n",
       "      <td>0.02</td>\n",
       "      <td>0.01</td>\n",
       "      <td>0.02</td>\n",
       "      <td>0.02</td>\n",
       "      <td>0.04</td>\n",
       "      <td>0.03</td>\n",
       "      <td>0.01</td>\n",
       "      <td>0.00</td>\n",
       "      <td>0.03</td>\n",
       "      <td>0.01</td>\n",
       "      <td>0.00</td>\n",
       "      <td>0.00</td>\n",
       "    </tr>\n",
       "    <tr>\n",
       "      <th>2019.02</th>\n",
       "      <td>70.63</td>\n",
       "      <td>20.71</td>\n",
       "      <td>2.68</td>\n",
       "      <td>2.53</td>\n",
       "      <td>1.22</td>\n",
       "      <td>1.21</td>\n",
       "      <td>0.62</td>\n",
       "      <td>0.22</td>\n",
       "      <td>0.00</td>\n",
       "      <td>0.02</td>\n",
       "      <td>0.01</td>\n",
       "      <td>0.02</td>\n",
       "      <td>0.02</td>\n",
       "      <td>0.02</td>\n",
       "      <td>0.02</td>\n",
       "      <td>0.00</td>\n",
       "      <td>0.00</td>\n",
       "      <td>0.03</td>\n",
       "      <td>0.01</td>\n",
       "      <td>0.00</td>\n",
       "      <td>0.01</td>\n",
       "    </tr>\n",
       "    <tr>\n",
       "      <th>2019.03</th>\n",
       "      <td>63.35</td>\n",
       "      <td>25.42</td>\n",
       "      <td>3.81</td>\n",
       "      <td>3.16</td>\n",
       "      <td>1.65</td>\n",
       "      <td>1.49</td>\n",
       "      <td>0.63</td>\n",
       "      <td>0.25</td>\n",
       "      <td>0.00</td>\n",
       "      <td>0.02</td>\n",
       "      <td>0.02</td>\n",
       "      <td>0.05</td>\n",
       "      <td>0.01</td>\n",
       "      <td>0.02</td>\n",
       "      <td>0.03</td>\n",
       "      <td>0.02</td>\n",
       "      <td>0.00</td>\n",
       "      <td>0.01</td>\n",
       "      <td>0.03</td>\n",
       "      <td>0.00</td>\n",
       "      <td>0.02</td>\n",
       "    </tr>\n",
       "    <tr>\n",
       "      <th>2019.04</th>\n",
       "      <td>63.63</td>\n",
       "      <td>24.65</td>\n",
       "      <td>4.08</td>\n",
       "      <td>3.11</td>\n",
       "      <td>1.64</td>\n",
       "      <td>1.61</td>\n",
       "      <td>0.55</td>\n",
       "      <td>0.22</td>\n",
       "      <td>0.00</td>\n",
       "      <td>0.02</td>\n",
       "      <td>0.01</td>\n",
       "      <td>0.05</td>\n",
       "      <td>0.01</td>\n",
       "      <td>0.01</td>\n",
       "      <td>0.03</td>\n",
       "      <td>0.01</td>\n",
       "      <td>0.00</td>\n",
       "      <td>0.01</td>\n",
       "      <td>0.03</td>\n",
       "      <td>0.00</td>\n",
       "      <td>0.32</td>\n",
       "    </tr>\n",
       "    <tr>\n",
       "      <th>2019.05</th>\n",
       "      <td>63.42</td>\n",
       "      <td>24.03</td>\n",
       "      <td>4.51</td>\n",
       "      <td>2.75</td>\n",
       "      <td>1.60</td>\n",
       "      <td>1.90</td>\n",
       "      <td>0.59</td>\n",
       "      <td>0.21</td>\n",
       "      <td>0.00</td>\n",
       "      <td>0.02</td>\n",
       "      <td>0.00</td>\n",
       "      <td>0.04</td>\n",
       "      <td>0.01</td>\n",
       "      <td>0.02</td>\n",
       "      <td>0.03</td>\n",
       "      <td>0.01</td>\n",
       "      <td>0.00</td>\n",
       "      <td>0.02</td>\n",
       "      <td>0.03</td>\n",
       "      <td>0.00</td>\n",
       "      <td>0.77</td>\n",
       "    </tr>\n",
       "    <tr>\n",
       "      <th>2019.06</th>\n",
       "      <td>65.71</td>\n",
       "      <td>21.46</td>\n",
       "      <td>4.11</td>\n",
       "      <td>2.77</td>\n",
       "      <td>1.67</td>\n",
       "      <td>2.03</td>\n",
       "      <td>0.56</td>\n",
       "      <td>0.20</td>\n",
       "      <td>0.00</td>\n",
       "      <td>0.01</td>\n",
       "      <td>0.01</td>\n",
       "      <td>0.04</td>\n",
       "      <td>0.02</td>\n",
       "      <td>0.02</td>\n",
       "      <td>0.03</td>\n",
       "      <td>0.01</td>\n",
       "      <td>0.00</td>\n",
       "      <td>0.02</td>\n",
       "      <td>0.03</td>\n",
       "      <td>0.00</td>\n",
       "      <td>1.28</td>\n",
       "    </tr>\n",
       "    <tr>\n",
       "      <th>2019.07</th>\n",
       "      <td>67.93</td>\n",
       "      <td>19.04</td>\n",
       "      <td>4.04</td>\n",
       "      <td>2.71</td>\n",
       "      <td>1.86</td>\n",
       "      <td>1.74</td>\n",
       "      <td>0.68</td>\n",
       "      <td>0.19</td>\n",
       "      <td>0.00</td>\n",
       "      <td>0.02</td>\n",
       "      <td>0.01</td>\n",
       "      <td>0.05</td>\n",
       "      <td>0.02</td>\n",
       "      <td>0.02</td>\n",
       "      <td>0.03</td>\n",
       "      <td>0.02</td>\n",
       "      <td>0.00</td>\n",
       "      <td>0.02</td>\n",
       "      <td>0.03</td>\n",
       "      <td>0.00</td>\n",
       "      <td>1.56</td>\n",
       "    </tr>\n",
       "  </tbody>\n",
       "</table>\n",
       "</div>"
      ],
      "text/plain": [
       "         Chrome     IE  Edge  Safari  Whale Browser  Firefox  Opera  Swing  \\\n",
       "date                                                                         \n",
       "2018.08   59.12  31.06  2.97    2.52           1.36     1.26   0.88   0.39   \n",
       "2018.09   61.95  27.84  3.16    2.19           1.27     2.57   0.40   0.37   \n",
       "2018.10   62.05  28.36  3.35    2.43           1.28     1.36   0.59   0.35   \n",
       "2018.11   65.31  26.29  3.06    2.09           1.16     1.10   0.55   0.26   \n",
       "2018.12   68.34  22.31  2.99    2.02           1.11     2.04   0.63   0.25   \n",
       "2019.01   70.46  21.05  2.99    2.07           1.14     1.15   0.67   0.24   \n",
       "2019.02   70.63  20.71  2.68    2.53           1.22     1.21   0.62   0.22   \n",
       "2019.03   63.35  25.42  3.81    3.16           1.65     1.49   0.63   0.25   \n",
       "2019.04   63.63  24.65  4.08    3.11           1.64     1.61   0.55   0.22   \n",
       "2019.05   63.42  24.03  4.51    2.75           1.60     1.90   0.59   0.21   \n",
       "2019.06   65.71  21.46  4.11    2.77           1.67     2.03   0.56   0.20   \n",
       "2019.07   67.93  19.04  4.04    2.71           1.86     1.74   0.68   0.19   \n",
       "\n",
       "         Phantom  UC Browser  Chromium  QQ Browser  Vivaldi  360 Safe Browser  \\\n",
       "date                                                                            \n",
       "2018.08     0.25        0.03      0.03        0.02     0.02              0.02   \n",
       "2018.09     0.00        0.03      0.02        0.03     0.02              0.06   \n",
       "2018.10     0.00        0.03      0.03        0.02     0.02              0.02   \n",
       "2018.11     0.00        0.02      0.02        0.02     0.02              0.02   \n",
       "2018.12     0.00        0.03      0.07        0.04     0.01              0.02   \n",
       "2019.01     0.00        0.02      0.01        0.02     0.02              0.04   \n",
       "2019.02     0.00        0.02      0.01        0.02     0.02              0.02   \n",
       "2019.03     0.00        0.02      0.02        0.05     0.01              0.02   \n",
       "2019.04     0.00        0.02      0.01        0.05     0.01              0.01   \n",
       "2019.05     0.00        0.02      0.00        0.04     0.01              0.02   \n",
       "2019.06     0.00        0.01      0.01        0.04     0.02              0.02   \n",
       "2019.07     0.00        0.02      0.01        0.05     0.02              0.02   \n",
       "\n",
       "         Maxthon  Coc Coc  Puffin  Yandex Browser  Sogou Explorer  Mozilla  \\\n",
       "date                                                                         \n",
       "2018.08     0.02     0.00    0.00            0.01            0.01     0.00   \n",
       "2018.09     0.02     0.00    0.00            0.02            0.03     0.00   \n",
       "2018.10     0.02     0.01    0.00            0.01            0.03     0.01   \n",
       "2018.11     0.02     0.01    0.01            0.00            0.02     0.01   \n",
       "2018.12     0.02     0.03    0.01            0.04            0.02     0.00   \n",
       "2019.01     0.03     0.01    0.00            0.03            0.01     0.00   \n",
       "2019.02     0.02     0.00    0.00            0.03            0.01     0.00   \n",
       "2019.03     0.03     0.02    0.00            0.01            0.03     0.00   \n",
       "2019.04     0.03     0.01    0.00            0.01            0.03     0.00   \n",
       "2019.05     0.03     0.01    0.00            0.02            0.03     0.00   \n",
       "2019.06     0.03     0.01    0.00            0.02            0.03     0.00   \n",
       "2019.07     0.03     0.02    0.00            0.02            0.03     0.00   \n",
       "\n",
       "         Whale  \n",
       "date            \n",
       "2018.08   0.00  \n",
       "2018.09   0.00  \n",
       "2018.10   0.00  \n",
       "2018.11   0.00  \n",
       "2018.12   0.00  \n",
       "2019.01   0.00  \n",
       "2019.02   0.01  \n",
       "2019.03   0.02  \n",
       "2019.04   0.32  \n",
       "2019.05   0.77  \n",
       "2019.06   1.28  \n",
       "2019.07   1.56  "
      ]
     },
     "execution_count": 29,
     "metadata": {},
     "output_type": "execute_result"
    }
   ],
   "source": [
    "df"
   ]
  },
  {
   "cell_type": "code",
   "execution_count": 31,
   "metadata": {
    "scrolled": true
   },
   "outputs": [
    {
     "data": {
      "text/plain": [
       "date\n",
       "2018.08    0.80\n",
       "2018.09    0.60\n",
       "2018.10    0.55\n",
       "2018.11    0.43\n",
       "2018.12    0.54\n",
       "2019.01    0.43\n",
       "2019.02    0.38\n",
       "2019.03    0.48\n",
       "2019.04    0.72\n",
       "2019.05    1.16\n",
       "2019.06    1.67\n",
       "2019.07    1.97\n",
       "dtype: float64"
      ]
     },
     "execution_count": 31,
     "metadata": {},
     "output_type": "execute_result"
    }
   ],
   "source": [
    "# 7번째 컬럼부터는 미미한 값이다. 7번째 컬럼부터 끝까지 합하여 기타로\n",
    "df[df.columns[7:]].sum(axis=1)"
   ]
  },
  {
   "cell_type": "code",
   "execution_count": 111,
   "metadata": {
    "collapsed": true
   },
   "outputs": [
    {
     "data": {
      "text/plain": [
       "Index(['Chrome', 'IE', 'Edge', 'Safari', 'Whale Browser', 'Firefox', 'Opera',\n",
       "       'Swing', 'Phantom', 'UC Browser', 'Chromium', 'QQ Browser', 'Vivaldi',\n",
       "       '360 Safe Browser', 'Maxthon', 'Coc Coc', 'Puffin', 'Yandex Browser',\n",
       "       'Sogou Explorer', 'Mozilla', 'Whale'],\n",
       "      dtype='object')"
      ]
     },
     "execution_count": 111,
     "metadata": {},
     "output_type": "execute_result"
    }
   ],
   "source": [
    "df.columns"
   ]
  },
  {
   "cell_type": "code",
   "execution_count": 37,
   "metadata": {
    "scrolled": true
   },
   "outputs": [
    {
     "data": {
      "text/html": [
       "<div>\n",
       "<style scoped>\n",
       "    .dataframe tbody tr th:only-of-type {\n",
       "        vertical-align: middle;\n",
       "    }\n",
       "\n",
       "    .dataframe tbody tr th {\n",
       "        vertical-align: top;\n",
       "    }\n",
       "\n",
       "    .dataframe thead th {\n",
       "        text-align: right;\n",
       "    }\n",
       "</style>\n",
       "<table border=\"1\" class=\"dataframe\">\n",
       "  <thead>\n",
       "    <tr style=\"text-align: right;\">\n",
       "      <th></th>\n",
       "      <th>Chrome</th>\n",
       "      <th>IE</th>\n",
       "      <th>Edge</th>\n",
       "      <th>Safari</th>\n",
       "      <th>Whale Browser</th>\n",
       "      <th>Firefox</th>\n",
       "      <th>Opera</th>\n",
       "      <th>기타</th>\n",
       "    </tr>\n",
       "    <tr>\n",
       "      <th>date</th>\n",
       "      <th></th>\n",
       "      <th></th>\n",
       "      <th></th>\n",
       "      <th></th>\n",
       "      <th></th>\n",
       "      <th></th>\n",
       "      <th></th>\n",
       "      <th></th>\n",
       "    </tr>\n",
       "  </thead>\n",
       "  <tbody>\n",
       "    <tr>\n",
       "      <th>2018.08</th>\n",
       "      <td>59.12</td>\n",
       "      <td>31.06</td>\n",
       "      <td>2.97</td>\n",
       "      <td>2.52</td>\n",
       "      <td>1.36</td>\n",
       "      <td>1.26</td>\n",
       "      <td>0.88</td>\n",
       "      <td>0.80</td>\n",
       "    </tr>\n",
       "    <tr>\n",
       "      <th>2018.09</th>\n",
       "      <td>61.95</td>\n",
       "      <td>27.84</td>\n",
       "      <td>3.16</td>\n",
       "      <td>2.19</td>\n",
       "      <td>1.27</td>\n",
       "      <td>2.57</td>\n",
       "      <td>0.40</td>\n",
       "      <td>0.60</td>\n",
       "    </tr>\n",
       "    <tr>\n",
       "      <th>2018.10</th>\n",
       "      <td>62.05</td>\n",
       "      <td>28.36</td>\n",
       "      <td>3.35</td>\n",
       "      <td>2.43</td>\n",
       "      <td>1.28</td>\n",
       "      <td>1.36</td>\n",
       "      <td>0.59</td>\n",
       "      <td>0.55</td>\n",
       "    </tr>\n",
       "    <tr>\n",
       "      <th>2018.11</th>\n",
       "      <td>65.31</td>\n",
       "      <td>26.29</td>\n",
       "      <td>3.06</td>\n",
       "      <td>2.09</td>\n",
       "      <td>1.16</td>\n",
       "      <td>1.10</td>\n",
       "      <td>0.55</td>\n",
       "      <td>0.43</td>\n",
       "    </tr>\n",
       "    <tr>\n",
       "      <th>2018.12</th>\n",
       "      <td>68.34</td>\n",
       "      <td>22.31</td>\n",
       "      <td>2.99</td>\n",
       "      <td>2.02</td>\n",
       "      <td>1.11</td>\n",
       "      <td>2.04</td>\n",
       "      <td>0.63</td>\n",
       "      <td>0.54</td>\n",
       "    </tr>\n",
       "    <tr>\n",
       "      <th>2019.01</th>\n",
       "      <td>70.46</td>\n",
       "      <td>21.05</td>\n",
       "      <td>2.99</td>\n",
       "      <td>2.07</td>\n",
       "      <td>1.14</td>\n",
       "      <td>1.15</td>\n",
       "      <td>0.67</td>\n",
       "      <td>0.43</td>\n",
       "    </tr>\n",
       "    <tr>\n",
       "      <th>2019.02</th>\n",
       "      <td>70.63</td>\n",
       "      <td>20.71</td>\n",
       "      <td>2.68</td>\n",
       "      <td>2.53</td>\n",
       "      <td>1.22</td>\n",
       "      <td>1.21</td>\n",
       "      <td>0.62</td>\n",
       "      <td>0.38</td>\n",
       "    </tr>\n",
       "    <tr>\n",
       "      <th>2019.03</th>\n",
       "      <td>63.35</td>\n",
       "      <td>25.42</td>\n",
       "      <td>3.81</td>\n",
       "      <td>3.16</td>\n",
       "      <td>1.65</td>\n",
       "      <td>1.49</td>\n",
       "      <td>0.63</td>\n",
       "      <td>0.48</td>\n",
       "    </tr>\n",
       "    <tr>\n",
       "      <th>2019.04</th>\n",
       "      <td>63.63</td>\n",
       "      <td>24.65</td>\n",
       "      <td>4.08</td>\n",
       "      <td>3.11</td>\n",
       "      <td>1.64</td>\n",
       "      <td>1.61</td>\n",
       "      <td>0.55</td>\n",
       "      <td>0.72</td>\n",
       "    </tr>\n",
       "    <tr>\n",
       "      <th>2019.05</th>\n",
       "      <td>63.42</td>\n",
       "      <td>24.03</td>\n",
       "      <td>4.51</td>\n",
       "      <td>2.75</td>\n",
       "      <td>1.60</td>\n",
       "      <td>1.90</td>\n",
       "      <td>0.59</td>\n",
       "      <td>1.16</td>\n",
       "    </tr>\n",
       "    <tr>\n",
       "      <th>2019.06</th>\n",
       "      <td>65.71</td>\n",
       "      <td>21.46</td>\n",
       "      <td>4.11</td>\n",
       "      <td>2.77</td>\n",
       "      <td>1.67</td>\n",
       "      <td>2.03</td>\n",
       "      <td>0.56</td>\n",
       "      <td>1.67</td>\n",
       "    </tr>\n",
       "    <tr>\n",
       "      <th>2019.07</th>\n",
       "      <td>67.93</td>\n",
       "      <td>19.04</td>\n",
       "      <td>4.04</td>\n",
       "      <td>2.71</td>\n",
       "      <td>1.86</td>\n",
       "      <td>1.74</td>\n",
       "      <td>0.68</td>\n",
       "      <td>1.97</td>\n",
       "    </tr>\n",
       "  </tbody>\n",
       "</table>\n",
       "</div>"
      ],
      "text/plain": [
       "         Chrome     IE  Edge  Safari  Whale Browser  Firefox  Opera    기타\n",
       "date                                                                     \n",
       "2018.08   59.12  31.06  2.97    2.52           1.36     1.26   0.88  0.80\n",
       "2018.09   61.95  27.84  3.16    2.19           1.27     2.57   0.40  0.60\n",
       "2018.10   62.05  28.36  3.35    2.43           1.28     1.36   0.59  0.55\n",
       "2018.11   65.31  26.29  3.06    2.09           1.16     1.10   0.55  0.43\n",
       "2018.12   68.34  22.31  2.99    2.02           1.11     2.04   0.63  0.54\n",
       "2019.01   70.46  21.05  2.99    2.07           1.14     1.15   0.67  0.43\n",
       "2019.02   70.63  20.71  2.68    2.53           1.22     1.21   0.62  0.38\n",
       "2019.03   63.35  25.42  3.81    3.16           1.65     1.49   0.63  0.48\n",
       "2019.04   63.63  24.65  4.08    3.11           1.64     1.61   0.55  0.72\n",
       "2019.05   63.42  24.03  4.51    2.75           1.60     1.90   0.59  1.16\n",
       "2019.06   65.71  21.46  4.11    2.77           1.67     2.03   0.56  1.67\n",
       "2019.07   67.93  19.04  4.04    2.71           1.86     1.74   0.68  1.97"
      ]
     },
     "execution_count": 37,
     "metadata": {},
     "output_type": "execute_result"
    }
   ],
   "source": [
    "cols = df.columns\n",
    "wb_df = df[cols[:7]].copy()\n",
    "\n",
    "# 0~ 7번째 컬럼 별 데이터 넣기\n",
    "wb_df = df[df.columns[:7]].copy() # copy() 로 넣은 이유는? 이걸 넣는다고 원본이 달라지는 것도 아니고.\n",
    "\n",
    "# 7 번째 ~ 컬럼 데이터를 합하여 넣기\n",
    "wb_df['기타'] = df[cols[7:]].sum(axis = 1) # 행 별 sum 이기에 axis = 1 \n",
    "\n",
    "wb_df"
   ]
  },
  {
   "cell_type": "code",
   "execution_count": null,
   "metadata": {},
   "outputs": [],
   "source": []
  },
  {
   "cell_type": "code",
   "execution_count": 48,
   "metadata": {},
   "outputs": [
    {
     "data": {
      "image/png": "[encoded data removed]",
      "text/plain": [
       "<Figure size 720x720 with 1 Axes>"
      ]
     },
     "metadata": {},
     "output_type": "display_data"
    }
   ],
   "source": [
    "# 2018.08 월 WB들의 점유율을 pie chart로 확인\n",
    "\n",
    "plt.figure(figsize = (10,10))\n",
    "\n",
    "plt.pie(wb_df.iloc[0], labels = wb_df.columns,\n",
    "       autopct = '%.2f%%',\n",
    "        labeldistance = 1.1,  # 안 0~1 , 1이상 : 밖으로\n",
    "       pctdistance = 0.9,  # 안 0~1 , 1이상 : 밖으로\n",
    "        shadow = True\n",
    "       )\n",
    "\n",
    "plt.show()"
   ]
  },
  {
   "cell_type": "markdown",
   "metadata": {},
   "source": [
    "# 5 히스토그램 그리기\n",
    "## 5.1 히스토그램\n",
    "- **표로 된 도수 분포표를 그래프로** 나타낸 것.\n",
    "    - 도수분포표: 특정 그룹안에 값의 빈도를 나타낸 표\n",
    "    - 주로 연속형 자료를 특정 구간으로 나눠 그 빈도를 확인한다.\n",
    "        - 빈도 확인이나 **분포**를 볼때 사용한다.\n",
    "    - X축: 계급(변수구간)의 대표값, Y축: 빈도수\n",
    "- `hist(data [, bins=계급개수)` 메소드를 사용\n",
    "    - data: 리스트형의 객체를 전달한다."
   ]
  },
  {
   "cell_type": "code",
   "execution_count": 55,
   "metadata": {},
   "outputs": [
    {
     "data": {
      "text/plain": [
       "(array([106.39683887, 110.22349589,  90.9763733 ,  85.56298565,\n",
       "        102.91599147]),\n",
       " array([ 97.85387118, 119.19057182, 104.39762449, 107.2861535 ,\n",
       "        110.48501691]),\n",
       " array([104.80490986,  89.43265424, 118.17445952, 114.24380133,\n",
       "        100.9420874 ]))"
      ]
     },
     "execution_count": 55,
     "metadata": {},
     "output_type": "execute_result"
    }
   ],
   "source": [
    "import pandas as pd\n",
    "import numpy as np\n",
    "import matplotlib.pyplot as plt\n",
    "\n",
    "# 평균이 100이고 표준편차가 10인 정규분포를 따르는 임의수(난수 - random 값) 1000개를 생성\n",
    "# 정규분포 시그마(식스시그마)에 따른다. - > 평균 100  기준으로 표편10 이기에 거의 70~130 사이의 999개\n",
    "\n",
    "data = np.random.normal(100, 10, 1000) \n",
    "\n",
    "data[:5], data[20:25], data[-5:]\n"
   ]
  },
  {
   "cell_type": "code",
   "execution_count": 59,
   "metadata": {},
   "outputs": [],
   "source": [
    "# 넘파이 배열로바로 해도 되지만 series가 익숙하니\n",
    "# ndarray를 series 반환\n",
    "\n",
    "data_s = pd.Series(data)\n",
    "\n",
    "v = data_s.value_counts().sort_values(ascending = False)"
   ]
  },
  {
   "cell_type": "code",
   "execution_count": 60,
   "metadata": {},
   "outputs": [
    {
     "data": {
      "image/png": "[encoded data removed]",
      "text/plain": [
       "<Figure size 432x288 with 1 Axes>"
      ]
     },
     "metadata": {
      "needs_background": "light"
     },
     "output_type": "display_data"
    }
   ],
   "source": [
    "# 연속형 값들을 센 뒤에 막대그래프로 시각화\n",
    "\n",
    "plt.bar(v.index, v)\n",
    "plt.show()\n",
    "\n",
    "# 연속된 데이터에서 지금 값 자체를 보는 것이 목적이 아니다. \n",
    "# 범위를 가지고 묶어서 범위별 몇 개 있는지 -> 히스토그램"
   ]
  },
  {
   "cell_type": "code",
   "execution_count": 132,
   "metadata": {},
   "outputs": [
    {
     "data": {
      "image/png": "[encoded data removed]",
      "text/plain": [
       "<Figure size 720x576 with 1 Axes>"
      ]
     },
     "metadata": {
      "needs_background": "light"
     },
     "output_type": "display_data"
    }
   ],
   "source": [
    "# histogram 그래프\n",
    "\n",
    "plt.figure(figsize = (10,8))\n",
    "\n",
    "# 동일한 간격으로 10개 구간 나눈다. def 10\n",
    "# 크게 나눌수록 세분화하여 볼 수 있다.\n",
    "\n",
    "plt.hist(data, bins = 100) # data_s series 넣어도 똑같.\n",
    "\n",
    "plt.xlabel('bins')\n",
    "plt.ylabel('수량') # 해당 범위에 몇 개가 있는지\n",
    "plt.show()"
   ]
  },
  {
   "cell_type": "markdown",
   "metadata": {},
   "source": [
    "## 5.2 히스토그램 활용\n",
    "- tips.csv\n",
    "    - 식당에서 팁을 지불한 손님의 정보를 모아둔 데이터 셋    "
   ]
  },
  {
   "cell_type": "code",
   "execution_count": 67,
   "metadata": {},
   "outputs": [
    {
     "data": {
      "text/plain": [
       "(244, 7)"
      ]
     },
     "execution_count": 67,
     "metadata": {},
     "output_type": "execute_result"
    }
   ],
   "source": [
    "tips = pd.read_csv('data/tips.csv')\n",
    "tips.shape"
   ]
  },
  {
   "cell_type": "code",
   "execution_count": 68,
   "metadata": {},
   "outputs": [
    {
     "data": {
      "text/html": [
       "<div>\n",
       "<style scoped>\n",
       "    .dataframe tbody tr th:only-of-type {\n",
       "        vertical-align: middle;\n",
       "    }\n",
       "\n",
       "    .dataframe tbody tr th {\n",
       "        vertical-align: top;\n",
       "    }\n",
       "\n",
       "    .dataframe thead th {\n",
       "        text-align: right;\n",
       "    }\n",
       "</style>\n",
       "<table border=\"1\" class=\"dataframe\">\n",
       "  <thead>\n",
       "    <tr style=\"text-align: right;\">\n",
       "      <th></th>\n",
       "      <th>total_bill</th>\n",
       "      <th>tip</th>\n",
       "      <th>sex</th>\n",
       "      <th>smoker</th>\n",
       "      <th>day</th>\n",
       "      <th>time</th>\n",
       "      <th>size</th>\n",
       "    </tr>\n",
       "  </thead>\n",
       "  <tbody>\n",
       "    <tr>\n",
       "      <th>0</th>\n",
       "      <td>16.99</td>\n",
       "      <td>1.01</td>\n",
       "      <td>Female</td>\n",
       "      <td>No</td>\n",
       "      <td>Sun</td>\n",
       "      <td>Dinner</td>\n",
       "      <td>2</td>\n",
       "    </tr>\n",
       "    <tr>\n",
       "      <th>1</th>\n",
       "      <td>10.34</td>\n",
       "      <td>1.66</td>\n",
       "      <td>Male</td>\n",
       "      <td>No</td>\n",
       "      <td>Sun</td>\n",
       "      <td>Dinner</td>\n",
       "      <td>3</td>\n",
       "    </tr>\n",
       "    <tr>\n",
       "      <th>2</th>\n",
       "      <td>21.01</td>\n",
       "      <td>3.50</td>\n",
       "      <td>Male</td>\n",
       "      <td>No</td>\n",
       "      <td>Sun</td>\n",
       "      <td>Dinner</td>\n",
       "      <td>3</td>\n",
       "    </tr>\n",
       "    <tr>\n",
       "      <th>3</th>\n",
       "      <td>23.68</td>\n",
       "      <td>3.31</td>\n",
       "      <td>Male</td>\n",
       "      <td>No</td>\n",
       "      <td>Sun</td>\n",
       "      <td>Dinner</td>\n",
       "      <td>2</td>\n",
       "    </tr>\n",
       "    <tr>\n",
       "      <th>4</th>\n",
       "      <td>24.59</td>\n",
       "      <td>3.61</td>\n",
       "      <td>Female</td>\n",
       "      <td>No</td>\n",
       "      <td>Sun</td>\n",
       "      <td>Dinner</td>\n",
       "      <td>4</td>\n",
       "    </tr>\n",
       "  </tbody>\n",
       "</table>\n",
       "</div>"
      ],
      "text/plain": [
       "   total_bill   tip     sex smoker  day    time  size\n",
       "0       16.99  1.01  Female     No  Sun  Dinner     2\n",
       "1       10.34  1.66    Male     No  Sun  Dinner     3\n",
       "2       21.01  3.50    Male     No  Sun  Dinner     3\n",
       "3       23.68  3.31    Male     No  Sun  Dinner     2\n",
       "4       24.59  3.61  Female     No  Sun  Dinner     4"
      ]
     },
     "execution_count": 68,
     "metadata": {},
     "output_type": "execute_result"
    }
   ],
   "source": [
    "tips.head()"
   ]
  },
  {
   "cell_type": "markdown",
   "metadata": {},
   "source": [
    "### total_bill 의 분포를 시각화"
   ]
  },
  {
   "cell_type": "code",
   "execution_count": 69,
   "metadata": {},
   "outputs": [
    {
     "data": {
      "text/plain": [
       "13.42    3\n",
       "7.25     2\n",
       "21.01    2\n",
       "20.69    2\n",
       "10.34    2\n",
       "        ..\n",
       "29.03    1\n",
       "27.18    1\n",
       "22.67    1\n",
       "17.82    1\n",
       "18.78    1\n",
       "Name: total_bill, Length: 229, dtype: int64"
      ]
     },
     "execution_count": 69,
     "metadata": {},
     "output_type": "execute_result"
    }
   ],
   "source": [
    "tips['total_bill'].value_counts().sort_values(ascending = False)\n",
    "\n",
    "# 중복된 정도는 3이 제일 크다. -> 연속형 데이터\n",
    "# 데이터 값 자체를 보기보다는 구간으로 묶어 어느 범위에 많이 분포해 있는지 보는 것이 좋을 것이다."
   ]
  },
  {
   "cell_type": "code",
   "execution_count": 130,
   "metadata": {},
   "outputs": [
    {
     "data": {
      "image/png": "[encoded data removed]",
      "text/plain": [
       "<Figure size 432x288 with 1 Axes>"
      ]
     },
     "metadata": {
      "needs_background": "light"
     },
     "output_type": "display_data"
    }
   ],
   "source": [
    "# total_bill 분포\n",
    "plt.hist(tips['total_bill'], bins=10)\n",
    "plt.show()\n",
    "\n",
    "# 가격과 관련된 분포는 되게 저가에 크게 분포해있다. 가게에는 싼 가격이 더 많으니."
   ]
  },
  {
   "cell_type": "code",
   "execution_count": 72,
   "metadata": {},
   "outputs": [
    {
     "data": {
      "image/png": "[encoded data removed]",
      "text/plain": [
       "<Figure size 432x288 with 1 Axes>"
      ]
     },
     "metadata": {
      "needs_background": "light"
     },
     "output_type": "display_data"
    }
   ],
   "source": [
    "# tip 분포 \n",
    "plt.hist(tips['tip'], bins = 30)\n",
    "plt.show()\n"
   ]
  },
  {
   "cell_type": "code",
   "execution_count": 81,
   "metadata": {},
   "outputs": [
    {
     "data": {
      "image/png": "[encoded data removed]",
      "text/plain": [
       "<Figure size 432x288 with 1 Axes>"
      ]
     },
     "metadata": {},
     "output_type": "display_data"
    }
   ],
   "source": [
    "# smoker는 범주형\n",
    "r = tips['smoker'].value_counts() \n",
    "\n",
    "# plt.bar(r.index, r)\n",
    "plt.pie(r, labels = r.index, autopct = '%.2f%%')\n",
    "\n",
    "plt.show()"
   ]
  },
  {
   "cell_type": "code",
   "execution_count": null,
   "metadata": {},
   "outputs": [],
   "source": []
  },
  {
   "cell_type": "markdown",
   "metadata": {},
   "source": [
    "# 6. 상자그래프(Boxplot) 그리기\n",
    "## 6.1 상자그래프란\n",
    "- 연속형 값들의 분포, 이상치(극단값)를 확인할 때 사용\n",
    "    - 값들의 중간값(중위수), 사분위수, 최대/최소값을 보여주어 값들의 분포를 확인 할때 사용한다.\n",
    "- boxplot(x, whis=1.5)\n",
    "    - x: 데이터셋\n",
    "    - whis: 극단치 계산시 사용할 값(기본 1.5)\n",
    "        - 극단치 : 1사분위와 3사분위에서 $IQR(3사분위수-1사분위수) * whis$ 범위 이상 떨어진 값들"
   ]
  },
  {
   "cell_type": "code",
   "execution_count": 83,
   "metadata": {},
   "outputs": [
    {
     "data": {
      "text/plain": [
       "(1000,)"
      ]
     },
     "execution_count": 83,
     "metadata": {},
     "output_type": "execute_result"
    }
   ],
   "source": [
    "import pandas as pd\n",
    "import numpy as np\n",
    "import matplotlib.pyplot as plt\n",
    "\n",
    "data = pd.Series(np.random.randint(1, 100, 1000))  # 1 ~ 99 사이의 임의의 정수 1000개를 생성\n",
    "data.shape"
   ]
  },
  {
   "cell_type": "code",
   "execution_count": 86,
   "metadata": {
    "collapsed": true
   },
   "outputs": [
    {
     "data": {
      "text/plain": [
       "min     1\n",
       "max    99\n",
       "dtype: int64"
      ]
     },
     "execution_count": 86,
     "metadata": {},
     "output_type": "execute_result"
    }
   ],
   "source": [
    "data.agg(['min', 'max'])"
   ]
  },
  {
   "cell_type": "code",
   "execution_count": 90,
   "metadata": {},
   "outputs": [
    {
     "data": {
      "text/plain": [
       "0    300\n",
       "1    290\n",
       "2    -50\n",
       "3    -40\n",
       "4    350\n",
       "5     43\n",
       "6     43\n",
       "7     96\n",
       "8     27\n",
       "9     82\n",
       "dtype: int32"
      ]
     },
     "execution_count": 90,
     "metadata": {},
     "output_type": "execute_result"
    }
   ],
   "source": [
    "# 일부의 값을 극단적으로 크거나 작은 값으로 변경\n",
    "# 극단치 : 대부분의 값들이 분포된 범위에서 크게 떨어져 있는 값\n",
    "# 극단치는 이상치(outlier) 이다.\n",
    "\n",
    "data[:5] = [300, 290, -50, -40, 350]\n",
    "data[:10]"
   ]
  },
  {
   "cell_type": "code",
   "execution_count": 93,
   "metadata": {},
   "outputs": [
    {
     "data": {
      "image/png": "[encoded data removed]",
      "text/plain": [
       "<Figure size 576x576 with 1 Axes>"
      ]
     },
     "metadata": {
      "needs_background": "light"
     },
     "output_type": "display_data"
    }
   ],
   "source": [
    "plt.figure(figsize = (8, 8))\n",
    "\n",
    "plt.boxplot(data)\n",
    "plt.ylabel('data값을 구성하는 값들')\n",
    "plt.show()"
   ]
  },
  {
   "cell_type": "markdown",
   "metadata": {},
   "source": [
    "- y축 : data 값을 구성하는 값들\n",
    "- x축은 의미 없음.\n",
    "\n",
    "- 알 수 있는 것\n",
    "    - 이상치(극단값)을 파악할 수 있다. -> 정규분포는 아니겠구나.\n",
    "    - 정상적인 값들의 범위를 파악할 수 있다. \n",
    "    - 사분위수를 알 수 있다. 상위 25%, 하위 25% 등\n",
    "\n",
    "분포 내 몇 개의 데이터 갯수가 있는지는 모른다. 그건 히스토그램\n",
    "값들이 '어떤 범위' 안에 분포되어있는 지를 아는 것. 범위!를 알고 싶을 때\n",
    "\n",
    "- 연속형 값들의 분포 확인 - 히스토그램, boxplot\n",
    "    - histogram : 연속된 값들을 그룹으로 나눈 뒤 **수량을 중심으로** 시각화\n",
    "        - 범위별 수량정보니 범위\n",
    "    - boxplot : 값의 범위를 기준으로 시각화(**4분위수를 중심으로** 보는 것)\n",
    "        - 수량정보는 없다."
   ]
  },
  {
   "cell_type": "markdown",
   "metadata": {},
   "source": [
    "## 상자그래프 활용\n",
    "- tips_df 에서 tip의 분포를 상자그래프로 확인"
   ]
  },
  {
   "cell_type": "code",
   "execution_count": 98,
   "metadata": {},
   "outputs": [
    {
     "data": {
      "image/png": "[encoded data removed]",
      "text/plain": [
       "<Figure size 720x576 with 1 Axes>"
      ]
     },
     "metadata": {
      "needs_background": "light"
     },
     "output_type": "display_data"
    }
   ],
   "source": [
    "tips['tip']\n",
    "\n",
    "plt.figure(figsize = (10, 8))\n",
    "plt.boxplot(tips['tip'])\n",
    "plt.show()\n",
    "\n",
    "# 8개 정도 극단치 : 극단적으로 많은 tip을 준 사람이 있다 정도를 알 수 있다.\n"
   ]
  },
  {
   "cell_type": "code",
   "execution_count": 102,
   "metadata": {},
   "outputs": [
    {
     "data": {
      "image/png": "[encoded data removed]",
      "text/plain": [
       "<Figure size 720x576 with 1 Axes>"
      ]
     },
     "metadata": {
      "needs_background": "light"
     },
     "output_type": "display_data"
    }
   ],
   "source": [
    "plt.figure(figsize = (10, 8))\n",
    "\n",
    "plt.boxplot(tips['total_bill'], labels = ['total_bill'])\n",
    "plt.show()\n",
    "\n",
    "# x 축은 어차피 의미 없으니, 1대신 label 이름으로 바꿔주기."
   ]
  },
  {
   "cell_type": "markdown",
   "metadata": {},
   "source": [
    "#### tip, total_bill의 분포를 비교\n",
    "\n",
    "- 한 axes에 두 개를 넣어 비교\n"
   ]
  },
  {
   "cell_type": "code",
   "execution_count": 103,
   "metadata": {},
   "outputs": [
    {
     "data": {
      "image/png": "[encoded data removed]",
      "text/plain": [
       "<Figure size 720x576 with 1 Axes>"
      ]
     },
     "metadata": {
      "needs_background": "light"
     },
     "output_type": "display_data"
    }
   ],
   "source": [
    "# 그냥 하면 겹침.\n",
    "\n",
    "plt.figure(figsize = (10, 8))\n",
    "\n",
    "plt.boxplot(tips['tip'])\n",
    "plt.boxplot(tips['total_bill'], labels = ['total_bill'])\n",
    "\n",
    "plt.show()"
   ]
  },
  {
   "cell_type": "code",
   "execution_count": 105,
   "metadata": {},
   "outputs": [
    {
     "data": {
      "image/png": "[encoded data removed]",
      "text/plain": [
       "<Figure size 504x576 with 1 Axes>"
      ]
     },
     "metadata": {
      "needs_background": "light"
     },
     "output_type": "display_data"
    }
   ],
   "source": [
    "# 리스트 안에 넣어주면 됨.\n",
    "# 몇 개든 그릴 수 있다.\n",
    "# 여러 개이니 라벨 붙여주기. 리스트 안에\n",
    "\n",
    "plt.figure(figsize=(7,8))\n",
    "plt.boxplot([tips['tip'], tips['total_bill']], labels = ['tip', 'total_bill'])\n",
    "plt.show()"
   ]
  },
  {
   "cell_type": "markdown",
   "metadata": {
    "ExecuteTime": {
     "end_time": "2019-06-04T20:34:30.368466Z",
     "start_time": "2019-06-04T20:34:30.363449Z"
    }
   },
   "source": [
    "- 남녀별 tip의 분포글 하나의 boxplot에서 그려 분포 비교\n",
    "- 한 그래프에서 여러 데이터셋의 boxplot을 그리기.\n",
    "    - 2차원 배열형태의 구조로로 데이터를 제공\n",
    "    - 행(axis=0) 별로 그래프를 그린다."
   ]
  },
  {
   "cell_type": "code",
   "execution_count": 110,
   "metadata": {},
   "outputs": [
    {
     "data": {
      "image/png": "[encoded data removed]",
      "text/plain": [
       "<Figure size 504x576 with 1 Axes>"
      ]
     },
     "metadata": {
      "needs_background": "light"
     },
     "output_type": "display_data"
    }
   ],
   "source": [
    "Male_tip = tips[tips['sex'] == 'Male']['tip']\n",
    "Female_tip = tips[tips['sex'] == 'Female']['tip']\n",
    "\n",
    "plt.figure(figsize = (7, 8))\n",
    "plt.boxplot([Male_tip, Female_tip], labels = ['Male_tip', 'Female_tip'])\n",
    "\n",
    "plt.show()"
   ]
  },
  {
   "cell_type": "code",
   "execution_count": null,
   "metadata": {},
   "outputs": [],
   "source": []
  },
  {
   "cell_type": "code",
   "execution_count": null,
   "metadata": {},
   "outputs": [],
   "source": []
  },
  {
   "cell_type": "code",
   "execution_count": null,
   "metadata": {},
   "outputs": [],
   "source": []
  }
 ],
 "metadata": {
  "kernelspec": {
   "display_name": "Python 3 (ipykernel)",
   "language": "python",
   "name": "python3"
  },
  "language_info": {
   "codemirror_mode": {
    "name": "ipython",
    "version": 3
   },
   "file_extension": ".py",
   "mimetype": "text/x-python",
   "name": "python",
   "nbconvert_exporter": "python",
   "pygments_lexer": "ipython3",
   "version": "3.7.13"
  },
  "toc": {
   "base_numbering": 1,
   "nav_menu": {},
   "number_sections": false,
   "sideBar": false,
   "skip_h1_title": false,
   "title_cell": "Table of Contents",
   "title_sidebar": "Contents",
   "toc_cell": false,
   "toc_position": {},
   "toc_section_display": true,
   "toc_window_display": false
  },
  "varInspector": {
   "cols": {
    "lenName": 16,
    "lenType": 16,
    "lenVar": 40
   },
   "kernels_config": {
    "python": {
     "delete_cmd_postfix": "",
     "delete_cmd_prefix": "del ",
     "library": "var_list.py",
     "varRefreshCmd": "print(var_dic_list())"
    },
    "r": {
     "delete_cmd_postfix": ") ",
     "delete_cmd_prefix": "rm(",
     "library": "var_list.r",
     "varRefreshCmd": "cat(var_dic_list()) "
    }
   },
   "types_to_exclude": [
    "module",
    "function",
    "builtin_function_or_method",
    "instance",
    "_Feature"
   ],
   "window_display": false
  }
 },
 "nbformat": 4,
 "nbformat_minor": 2
}
