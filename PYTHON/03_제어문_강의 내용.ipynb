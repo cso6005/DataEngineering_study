{
 "cells": [
  {
   "cell_type": "markdown",
   "id": "8d60c026",
   "metadata": {},
   "source": [
    "# 제어문\n",
    "code의 흐름을 제어하는 구문\n",
    "\n",
    "- C 계열 (C언어, 자바...)와의 차이점을 볼 수 있다."
   ]
  },
  {
   "cell_type": "markdown",
   "id": "d3fa85f6",
   "metadata": {},
   "source": [
    "## 논리형\n",
    "if else와 while은 bool을 이용하기에 복습.\n",
    "\n",
    "- 비교 연산자 : 피연산자가 논리형인 게 아님. 결과가 논리형. 두 값을 비교하여.\n",
    "- 논리 연산자 : 피연산자가 논리형 값인 연산자. and or ^ not\n",
    "    \n",
    "    ex )\n",
    "    \n",
    "    두 조건 모두 만족 : and \n",
    "    \n",
    "    두 조건 중 하나 이상 만족 : or\n",
    "    \n",
    "    이 조건을 역 : not\n",
    "    \n",
    "\n",
    "- 논리형은 사실 True False 으로만 표시하지 않음.\n",
    "- 이 자리는 bool 타입이라고 정해져 있다면,\n",
    "    - 다른 타입도 논리형으로 인식 된다. \n",
    "    - 예를 들어, if 뒤엔 bool만 올 수 있음. 숫자 40이 들어온다면 True로 인식.\n",
    "    - 만약 빈 자료구조, None이 들어온다면 False로 인식.\n"
   ]
  },
  {
   "cell_type": "markdown",
   "id": "c184cb54",
   "metadata": {},
   "source": [
    "## 1. 조건문 (분기문)\n",
    "- 프로그램이 명령문들을 실행하는 도중 **특정 순서에서 흐름의 나눠져야 하는 경우**사용한다.\n",
    "- python에서는 select문, swith문이 없다.\n",
    "- if 블록 내의 코드는 '공백 네개'또는 'tab' 다음에 작성한다. 관례적으로 공백 4개\n",
    "    - 주피터 경우 tab키가 공백 네 개이다. 뭐 다른 에디터 거의 다."
   ]
  },
  {
   "cell_type": "markdown",
   "id": "cce5b0af",
   "metadata": {},
   "source": [
    "- if 블록 : 조건에 해당하는 명령문들의 묶음\n",
    "    \n",
    "    이 명령문들을 특정한 목적에 의해 묶어주는 것.\n",
    "    \n",
    "    이 조건이 True일 때 할 명령문들을 블록해줘야 한다. 이 명령문들은 if에 포함되어 있다라는 것을 들여쓰기로 표현"
   ]
  },
  {
   "cell_type": "markdown",
   "id": "69613954",
   "metadata": {},
   "source": [
    "- ex) 입력 값이라는 것은 사용자가 입력하는 것. 어떤 값이 올 지 모른다. -> 값에 따라 사용할 수 없다면 그에 따른 제어할 명령문이 필요.\n",
    "- 조건문이 끝나고 만나는 구문이 들여쓰기가 없는. 종료합니다.를 써주자."
   ]
  },
  {
   "cell_type": "markdown",
   "id": "3c59062e",
   "metadata": {},
   "source": [
    "- cf)  c 계열의 조건문\n",
    "\n",
    "if 조건 {\n",
    "\n",
    "}\n",
    "\n",
    "-> 이 조건에 해당하는 명령문을 중괄호로 묶어준다."
   ]
  },
  {
   "cell_type": "markdown",
   "id": "10b5df24",
   "metadata": {},
   "source": [
    "### 1) 단순 if문 : 특정 구문들을 실행할지 말지"
   ]
  },
  {
   "cell_type": "code",
   "execution_count": 7,
   "id": "10fe98e3",
   "metadata": {},
   "outputs": [
    {
     "name": "stdout",
     "output_type": "stream",
     "text": [
      "정수:0\n",
      "영입니다.\n",
      "zero\n",
      "종료\n"
     ]
    }
   ],
   "source": [
    "# 1) 입력값이 0이면 \"영입니다.\" 라고 출력한다. \n",
    "# 2) 종료를 출력한다.\n",
    "\n",
    "num = int(input(\"정수:\")) \n",
    "\n",
    "if num == 0: # num이 0이면 True \n",
    "    print(\"영입니다.\")\n",
    "    print(\"zero\") # 들여쓰기 주의.\n",
    "    \n",
    "print(\"종료\") # if문과 독립적으로 실행.if문과 상관없이. 무조건 실행되는 명령"
   ]
  },
  {
   "cell_type": "markdown",
   "id": "fa6a0741",
   "metadata": {},
   "source": [
    "### 2) if else 문 : 조건이 True일 때 할일과 False 할 일 두 가지로 분기하는 경우.\n",
    "- if 블록 명령문과 else 블록 명령문이 둘 다 실행되는 일은 없다. 둘 중 하나."
   ]
  },
  {
   "cell_type": "code",
   "execution_count": 10,
   "id": "8c2034f2",
   "metadata": {},
   "outputs": [
    {
     "name": "stdout",
     "output_type": "stream",
     "text": [
      "정수:10\n",
      "0이 아닙니다.\n",
      "입력한 숫자는 10입니다.\n",
      "종료\n"
     ]
    }
   ],
   "source": [
    "# 1-1) 입력받은 값이 0이면 \"0입니다.\" 출력한다.\n",
    "# 1-2) 입력받은 값이 0이 아니면 \"0이 아닙니다.\" 출력한다.\n",
    "# 2) 종료 메시지\n",
    "\n",
    "num = int(input(\"정수:\")) \n",
    "\n",
    "if num == 0: # num이 0이면 True \n",
    "    print(\"0입니다.\")\n",
    "else :\n",
    "    print(\"0이 아닙니다.\")\n",
    "    print(f\"입력한 숫자는 {num}입니다.\")\n",
    "    \n",
    "print(\"종료\") # if문과 독립적으로 실행.if문과 상관없이. 무조건 실행되는 명령\n"
   ]
  },
  {
   "cell_type": "markdown",
   "id": "1c42ee74",
   "metadata": {},
   "source": [
    "### 3) if elif 문 : 조건이 여러 개일 경우 사용\n",
    "- elif : else if 그밖에 조건이면\n",
    "- 조건을 한 번에 비교하는 것이 아니다. 순차적으로 비교한다.\n",
    "- if 가 True이면 아래 조건 블록 elif, else 보지도 않고 빠져 나온다.\n",
    "- else는 선택사항\n",
    "    - else 없이 if elif 만 만약 조건문이 다 False이다. 그러면 하나도 실행 안 될 수도 있다."
   ]
  },
  {
   "cell_type": "code",
   "execution_count": 16,
   "id": "c765e876",
   "metadata": {},
   "outputs": [
    {
     "name": "stdout",
     "output_type": "stream",
     "text": [
      "정수:-1\n",
      "음수입니다.\n",
      "입력받은 값은 -1입니다.\n"
     ]
    },
    {
     "data": {
      "text/plain": [
       "'\\nelif num < 0: 굳이 이렇게 할 필요가 있나?\\n    print(\"음수입니다.\")\\n    print(f\"입력받은 값은 {num}입니다.\")\\n'"
      ]
     },
     "execution_count": 16,
     "metadata": {},
     "output_type": "execute_result"
    }
   ],
   "source": [
    "# 1-1) 입력받은 값이 0이면 \"0입니다.\"를 출력한다.\n",
    "# 1-2) 입력받은 값이 양수이면 \"양수입니다.\"를 출력한다.\n",
    "# 1-3) 입력받은 값이 읍수이면 \"음수입니다.\"를 출력한다.\n",
    "\n",
    "num = int(input(\"정수:\"))\n",
    "if num == 0:\n",
    "    print(\"0입니다.\")\n",
    "elif num > 0:\n",
    "    print(\"양수입니다.\")\n",
    "    print(f\"입력받은 값은 {num}입니다.\")\n",
    "else:\n",
    "    print(\"음수입니다.\")\n",
    "    print(f\"입력받은 값은 {num}입니다.\")\n",
    "    \n",
    "\"\"\"\n",
    "elif num < 0: 굳이 이렇게 할 필요가 있나?\n",
    "    print(\"음수입니다.\")\n",
    "    print(f\"입력받은 값은 {num}입니다.\")\n",
    "\"\"\"    \n",
    "\n",
    "# num < 0은 위 조건들이 모두 만족하지 않으면 무조건 이것을 만족한다.\n",
    "# 위 조건이 모두 False이면 else문을 실행.\n",
    "\n"
   ]
  },
  {
   "cell_type": "markdown",
   "id": "11d58944",
   "metadata": {},
   "source": [
    "### 4) 중첩 조건문\n",
    "- 조건 안에 조건.\n",
    "- 들여쓰기 주의"
   ]
  },
  {
   "cell_type": "code",
   "execution_count": 20,
   "id": "4093f180",
   "metadata": {},
   "outputs": [
    {
     "name": "stdout",
     "output_type": "stream",
     "text": [
      "양수\n",
      "양수\n",
      "종료\n"
     ]
    }
   ],
   "source": [
    "# num이 0 이상이면 \"양수입니다.\"를 출력하고 100 초과이면 \"100보다 큽니다.\"를 출력\n",
    "# 첫번째 조건 명령의 하위 조건이다.\n",
    "\n",
    "num = 10\n",
    "if num >= 0:\n",
    "    print(\"양수\")\n",
    "    if num >= 100:\n",
    "        print(\"100 이상\")\n",
    "    \n",
    "# 이렇게 하면 if 후 elif 보지도 않음. -> no\n",
    "num = 1000\n",
    "if num >= 0:\n",
    "    print(\"양수\")\n",
    "elif num >= 100:\n",
    "    print(\"100 이상\")    \n",
    "\n",
    "\n",
    "# 이렇게 해도 되긴 함. 그러나, 별로임. \n",
    "# 만약 음수이다. 그렇다면 첫번째 조건 해당 안됨. \n",
    "# 그렇다면 두번째 조건 보지도 않아도 됨. 근데 이 코드에서는 실행된다. 비효율\n",
    "\n",
    "num = -1\n",
    "if num >= 0:\n",
    "    print(\"양수\")\n",
    "if num >= 100:\n",
    "        print(\"100 이상\")\n",
    "print(\"종료\")\n",
    "        "
   ]
  },
  {
   "cell_type": "markdown",
   "id": "90d155d5",
   "metadata": {},
   "source": [
    "* 명령 prompt 에서 조건문을 쓸 때\n",
    "\n",
    "if 쓰고 엔터치면\n",
    "\n",
    "...으로 블록 명령문을 쓸 수 있다. 근데 이때 들여쓰기가 자동 아님.\n",
    "\n",
    "주의해서 공백 네 개로 써주자."
   ]
  },
  {
   "cell_type": "markdown",
   "id": "b5d10363",
   "metadata": {},
   "source": [
    "## 2. 반복문\n",
    "- while 문 :특정 조건이 True인 동안 명령문을 반복해서 실행한다.\n",
    "    - False가 될 때까지 계속 반복한다.\n",
    "- for in문 : iterable한 객체가 (반복 가능한 객체) 값이 없을 때까지 반복 조회한다. (iterable : 리스트 튜플 set dict 문자열 등 같이 여러 개 값을 가지고 있는 것이라 생각하면 된다. 이 원소를 하나씩 하나씩 비교. 더 있긴 한데 자료구조들, 문자열이라 생각하자.)"
   ]
  },
  {
   "cell_type": "markdown",
   "id": "7eb21c8a",
   "metadata": {},
   "source": [
    "### 1) while문\n",
    "- 조건이 True인 동안 구문을 반복\n",
    "- 쥬피터에서 무한루프 오류일 때 위에 중지 눌러주자."
   ]
  },
  {
   "cell_type": "code",
   "execution_count": 27,
   "id": "f03b7fcf",
   "metadata": {},
   "outputs": [
    {
     "name": "stdout",
     "output_type": "stream",
     "text": [
      "반복횟수:5\n",
      "1.안녕하세요.\n",
      "==========\n",
      "2.안녕하세요.\n",
      "==========\n",
      "3.안녕하세요.\n",
      "==========\n",
      "4.안녕하세요.\n",
      "==========\n",
      "5.안녕하세요.\n",
      "==========\n"
     ]
    }
   ],
   "source": [
    "limit = int(input(\"반복횟수:\")) # 반복할 횟수를 입력받자.\n",
    "count = 0 # 현재 몇 번째 반복인지를 저장할 변수.\n",
    "\n",
    "# 0부터 이니깐 마지막은 미포함. : <\n",
    "while count < limit: # 현재 반복횟수가 limit보다 적을 때까지 반복. \n",
    "    count+=1 #증감치 \"조건을 변경시키는\"\n",
    "    print(f\"{count}.안녕하세요.\") # 몇 번 반복했는 지도 적어주고\n",
    "    print('='*10) # 구분자 넣을 수도 있고.\n"
   ]
  },
  {
   "cell_type": "markdown",
   "id": "d2e60bbe",
   "metadata": {},
   "source": [
    "### 2) for in 문\n",
    "- iterable이 가지고 있는 값들을 순환조회할 때 사용.\n",
    "- iterable : 자료구조들, 문자열 등등. 자료구조 문자열만 있는 것은 아님.\n",
    "\n",
    "- 리스트 안 값 모두를 조회할 일이 아주 많다. 예를 들어, 합계를 구한다던가.이럴 때 for in 문을 쓰자.\n",
    "\n"
   ]
  },
  {
   "cell_type": "markdown",
   "id": "7c27845c",
   "metadata": {},
   "source": [
    "- 구문\n",
    "\n",
    "for 변수 in Iteratable:\n",
    "     \n",
    "     반복구문"
   ]
  },
  {
   "cell_type": "code",
   "execution_count": 31,
   "id": "9581dad0",
   "metadata": {},
   "outputs": [
    {
     "data": {
      "text/plain": [
       "24"
      ]
     },
     "execution_count": 31,
     "metadata": {},
     "output_type": "execute_result"
    }
   ],
   "source": [
    "lst = [10, 5, 7, 9, 100, 50, 27, 123, 22, 90]\n",
    "n1 = lst[0]\n",
    "n2 = lst[1]\n",
    "n3 = lst[3]\n",
    "\n",
    "sum = n1 + n2 + n3\n",
    "sum\n",
    "\n",
    "# '리스트 값이 변수에 넣고 더하는 과정'이 반복된다.\n",
    "# 먼저, 리스트 값을 넣어줄 변수를 선언하자."
   ]
  },
  {
   "cell_type": "code",
   "execution_count": 32,
   "id": "1ff80caf",
   "metadata": {},
   "outputs": [
    {
     "name": "stdout",
     "output_type": "stream",
     "text": [
      "10\n",
      "----------\n",
      "5\n",
      "----------\n",
      "7\n",
      "----------\n",
      "9\n",
      "----------\n",
      "100\n",
      "----------\n",
      "50\n",
      "----------\n",
      "27\n",
      "----------\n",
      "123\n",
      "----------\n",
      "22\n",
      "----------\n",
      "90\n",
      "----------\n"
     ]
    }
   ],
   "source": [
    "# 가져올 값이 없다면 종료 빠져나옴.\n",
    "for num in lst:\n",
    "    print(num) #for in 문의 반복구문은 iterable의 원소 하나씩 처리하는 코드\n",
    "    print(\"-\"*10)"
   ]
  },
  {
   "cell_type": "markdown",
   "id": "2acf3bd7",
   "metadata": {},
   "source": [
    "-  print(v, end=\",\")\n",
    "    - 출력반복이기에 enter됨. enter 대신 , 붙이고 싶을 때"
   ]
  },
  {
   "cell_type": "code",
   "execution_count": 56,
   "id": "28e7b746",
   "metadata": {},
   "outputs": [
    {
     "name": "stdout",
     "output_type": "stream",
     "text": [
      "10 ,20 ,30 ,40 ,"
     ]
    }
   ],
   "source": [
    "# 튜플 객체 이용한 반복문\n",
    "for v in (10,20,30,40):\n",
    "   #print(v)\n",
    "   print(v, end=\",\") # 출력반복이기에 enter됨. enter 대신 , 붙이고 싶을 때\n",
    "        "
   ]
  },
  {
   "cell_type": "code",
   "execution_count": 38,
   "id": "567a4312",
   "metadata": {},
   "outputs": [
    {
     "name": "stdout",
     "output_type": "stream",
     "text": [
      "1\t2\t3\t4\t"
     ]
    }
   ],
   "source": [
    "# set 이용한 반복문\n",
    "# set조회가 안된다. 반복문에서 조회가능. 중복빼고! 조회한다.\n",
    "for v in {1,2,2,3,3,3,4,4,4,}: #{1,2,3,4} 중복값 걸러낸다.\n",
    "    print(v, end='\\t')"
   ]
  },
  {
   "cell_type": "code",
   "execution_count": 39,
   "id": "b3af0532",
   "metadata": {},
   "outputs": [
    {
     "name": "stdout",
     "output_type": "stream",
     "text": [
      "name\n",
      "age\n",
      "address\n"
     ]
    }
   ],
   "source": [
    "# dict 이용한 반복문 key 조회\n",
    "# key가 조회가 된다. 왜냐면 in dict 에서 v로 할당되는 것은 key값이다.\n",
    "# v에는 key가 순환된다.\n",
    "\n",
    "for v in dict(name='홍길동', age=20, address='서울'):\n",
    "    print(v)"
   ]
  },
  {
   "cell_type": "code",
   "execution_count": 53,
   "id": "5787fb26",
   "metadata": {},
   "outputs": [
    {
     "name": "stdout",
     "output_type": "stream",
     "text": [
      "홍길동\n",
      "20\n",
      "서울\n"
     ]
    }
   ],
   "source": [
    "# dict value 값 반복하고 싶을 때 1\n",
    "# v에는 key가 순횐된다.\n",
    "\n",
    "d = dict(name='홍길동', age=20, address='서울')\n",
    "     \n",
    "for v in d:\n",
    "         print(d[v])"
   ]
  },
  {
   "cell_type": "code",
   "execution_count": 54,
   "id": "6d7fe91a",
   "metadata": {},
   "outputs": [
    {
     "name": "stdout",
     "output_type": "stream",
     "text": [
      "홍길동\n",
      "20\n",
      "서울\n"
     ]
    }
   ],
   "source": [
    "# dict value 값 반복하고 싶을 때 2\n",
    "# d.values() : dict의 값을 list 자료구조로 반환하는 함수\n",
    "# 이때 v 에는 values 값이 순횐된다. \n",
    "\n",
    "for v in d.values():\n",
    "    print(v)\n",
    "    "
   ]
  },
  {
   "cell_type": "code",
   "execution_count": 40,
   "id": "2531c484",
   "metadata": {},
   "outputs": [
    {
     "name": "stdout",
     "output_type": "stream",
     "text": [
      "안\n",
      "녕\n",
      "하\n",
      "세\n",
      "요\n",
      ".\n",
      "a\n",
      "b\n",
      "c\n",
      "d\n",
      "e\n",
      "~\n"
     ]
    }
   ],
   "source": [
    "# 문자열 반복문\n",
    "# 문자열 쪼개기\n",
    "# 인덱스 단위로 쪼개진다.\n",
    "for v in \"안녕하세요.abcde~\":\n",
    "    print(v)"
   ]
  },
  {
   "cell_type": "code",
   "execution_count": 43,
   "id": "687ff587",
   "metadata": {},
   "outputs": [
    {
     "data": {
      "text/plain": [
       "{'a', 'd', 'f', 'j', 'k', 's'}"
      ]
     },
     "execution_count": 43,
     "metadata": {},
     "output_type": "execute_result"
    }
   ],
   "source": [
    "# 문자열 쪼개기 또다른 방법. list tuple set 이용 dict은 당연히 안될 것.\n",
    "# 보통 list로 문자열 쪼개기 많이함.\n",
    "list(\"abcdefg\")\n",
    "tuple(\"abcdefg\")\n",
    "set(\"djkfsjdkjsfjkdkaaaaa\")"
   ]
  },
  {
   "cell_type": "markdown",
   "id": "fa7f64e3",
   "metadata": {},
   "source": [
    "### 3) continue & break문\n",
    "- continue : 다음 반복을 실행해라.\n",
    "    - for문 블록으로 들어왔는데 반복블록 명령 실행하지 않고 밑에 실행하지 않고 다시 위 반복식으로 올라가라. \n",
    "    - if문과 같이 쓰인다 : 해당 조건이면 나머지 반복구문 실행하지 말고 다음 반복 실행해라.\n",
    "- break : 반복을 멈춰라. 반복문 빠져나와 다음 구문 실행해라.\n",
    "    - 더 이상 반복하지 않고 반복문을 끝낸다.\n",
    "    - if문과 같이 쓰인다 : 해당 조건이면 더 이상 반복하지 않고 빠져나옴.\n",
    "    - ex) 선착순 행사에 인원이 다 채워졌다. 그럼 이제 그만."
   ]
  },
  {
   "cell_type": "code",
   "execution_count": 57,
   "id": "a9a37835",
   "metadata": {},
   "outputs": [
    {
     "name": "stdout",
     "output_type": "stream",
     "text": [
      "10\n",
      "100\n",
      "50\n",
      "22\n",
      "90\n"
     ]
    }
   ],
   "source": [
    "# lst값들 중에 2의 배수만 출력\n",
    "\n",
    "lst = [10, 5, 7, 9, 100, 50, 27, 123, 22, 90]\n",
    "for v in lst:\n",
    "    if v % 2 == 0:\n",
    "        print(v)"
   ]
  },
  {
   "cell_type": "code",
   "execution_count": 60,
   "id": "d4e56b7e",
   "metadata": {},
   "outputs": [
    {
     "name": "stdout",
     "output_type": "stream",
     "text": [
      "10\n",
      "100\n",
      "50\n",
      "22\n",
      "90\n"
     ]
    }
   ],
   "source": [
    "# continue\n",
    "# lst값들 중에 2의 배수만 출력 (2) \n",
    "\n",
    "lst = [10, 5, 7, 9, 100, 50, 27, 123, 22, 90]\n",
    "for v in lst:\n",
    "    if v % 2 != 0: # 2의 배수가 아니면\n",
    "        continue\n",
    "    print(v)"
   ]
  },
  {
   "cell_type": "code",
   "execution_count": 61,
   "id": "c56da2b9",
   "metadata": {},
   "outputs": [
    {
     "name": "stdout",
     "output_type": "stream",
     "text": [
      "10\n",
      "end\n"
     ]
    }
   ],
   "source": [
    "# break\n",
    "# 이 코드를 굳이 break로 할 필요 없다. break는 if문과 함께\n",
    "for v in lst:\n",
    "    print(v)\n",
    "    break\n",
    "print(\"end\")"
   ]
  },
  {
   "cell_type": "code",
   "execution_count": 62,
   "id": "44f6944c",
   "metadata": {},
   "outputs": [
    {
     "name": "stdout",
     "output_type": "stream",
     "text": [
      "10\n",
      "5\n",
      "7\n",
      "9\n",
      "100\n",
      "end\n"
     ]
    }
   ],
   "source": [
    "for v in lst:\n",
    "    print(v)\n",
    "    if v >=100: # break할 조건\n",
    "        break # 더이상 반복하지 않고 반복문을 끝낸다.\n",
    "print(\"end\")"
   ]
  },
  {
   "cell_type": "code",
   "execution_count": 67,
   "id": "22dcef55",
   "metadata": {},
   "outputs": [
    {
     "name": "stdout",
     "output_type": "stream",
     "text": [
      "ㅁ\n",
      "입력한 문자열: ㅁ\n",
      "qi\n",
      "입력한 문자열: qi\n",
      "q!\n"
     ]
    }
   ],
   "source": [
    "# 사용자로부터 글을 입력받아서 출력. 'q!'를 입력받으며 종료.\n",
    "\n",
    "while True:\n",
    "    s = input()\n",
    "    if s == 'q!': # 나는 중간에 넣어 qi는 print 하지 않고 종료.\n",
    "        break\n",
    "    print('입력한 문자열:', s)"
   ]
  },
  {
   "cell_type": "markdown",
   "id": "cba7dcef",
   "metadata": {},
   "source": [
    "### 4) for in 연관 내장 함수 - range()함수\n",
    "- 규칙적으로 연속된 정수들을 만들 때 사용한다.\n",
    "    - ex) nums = [1,2,3,4,5,6,.....,100] 같을 것을 다 입력하기 힘들다.\n",
    "- range() :\n",
    "    - 특정값만큼 증감하는 연속된 숫자를 제공하는 iterable을 생성\n",
    "    - range(시작숫자, 끝숫자, 증감) #슬라이싱과 유사.이것은 인덱스가 아닌 값으로\n",
    "        - ex)  range(10, 100, 10) # 10 ~ '100 -1'구간에 10씩 증가하는 연속된 값을 제공\n",
    " "
   ]
  },
  {
   "cell_type": "code",
   "execution_count": 69,
   "id": "a8f40bec",
   "metadata": {},
   "outputs": [
    {
     "name": "stdout",
     "output_type": "stream",
     "text": [
      "10\n",
      "20\n",
      "30\n",
      "40\n",
      "50\n",
      "60\n",
      "70\n",
      "80\n",
      "90\n"
     ]
    }
   ],
   "source": [
    "for i in range(10,100,10):\n",
    "    print(i)"
   ]
  },
  {
   "cell_type": "markdown",
   "id": "701cd426",
   "metadata": {},
   "source": [
    "- 생성된 값이 필요할 때 제공한다.\n",
    "    - 출력하면 그대로 range(10, 100, 10) \n",
    "    - 쓰일 때 생성된 값을 제공하는 것이다. 즉, 이 값이 필요할 때 쓰인다. list, tuple, set, 반복문 등 "
   ]
  },
  {
   "cell_type": "code",
   "execution_count": 75,
   "id": "5abb41e9",
   "metadata": {},
   "outputs": [
    {
     "data": {
      "text/plain": [
       "range(10, 100, 10)"
      ]
     },
     "execution_count": 75,
     "metadata": {},
     "output_type": "execute_result"
    }
   ],
   "source": [
    "range(10,100,10) # 출력하면 그대로 range(10, 100, 10)"
   ]
  },
  {
   "cell_type": "code",
   "execution_count": 68,
   "id": "2384e88c",
   "metadata": {},
   "outputs": [
    {
     "data": {
      "text/plain": [
       "[10, 20, 30, 40, 50, 60, 70, 80, 90]"
      ]
     },
     "execution_count": 68,
     "metadata": {},
     "output_type": "execute_result"
    }
   ],
   "source": [
    "l = list(range(10,100,10))\n",
    "l"
   ]
  },
  {
   "cell_type": "code",
   "execution_count": 70,
   "id": "071961f4",
   "metadata": {},
   "outputs": [
    {
     "data": {
      "text/plain": [
       "((10, 20, 30, 40, 50, 60, 70, 80, 90), {10, 20, 30, 40, 50, 60, 70, 80, 90})"
      ]
     },
     "execution_count": 70,
     "metadata": {},
     "output_type": "execute_result"
    }
   ],
   "source": [
    "tuple(range(10,100,10)), set(range(10,100,10))"
   ]
  },
  {
   "cell_type": "markdown",
   "id": "e2469b41",
   "metadata": {},
   "source": [
    "- 내림차순 : 시작값이 종료보다 크고 증감치가 음수이면"
   ]
  },
  {
   "cell_type": "code",
   "execution_count": 77,
   "id": "7db1ad10",
   "metadata": {},
   "outputs": [
    {
     "data": {
      "text/plain": [
       "[100, 95, 90, 85, 80, 75, 70, 65, 60, 55, 50, 45, 40, 35, 30, 25, 20, 15]"
      ]
     },
     "execution_count": 77,
     "metadata": {},
     "output_type": "execute_result"
    }
   ],
   "source": [
    "# 내림차순 \n",
    "\n",
    "list(range(100,10,-5)) # 100~ 10+1 구간에 -5씩"
   ]
  },
  {
   "cell_type": "markdown",
   "id": "e42842f4",
   "metadata": {},
   "source": [
    "- range() 전달하는 값이 \n",
    "    - 1개 : 종료값\n",
    "    - 2개 : 시작값, 종료값\n",
    "    - 3개 : 시작값, 종료값, 증감치"
   ]
  },
  {
   "cell_type": "code",
   "execution_count": 72,
   "id": "fa7088ed",
   "metadata": {},
   "outputs": [
    {
     "data": {
      "text/plain": [
       "[1, 2, 3, 4, 5, 6, 7, 8, 9]"
      ]
     },
     "execution_count": 72,
     "metadata": {},
     "output_type": "execute_result"
    }
   ],
   "source": [
    "# 증감치를 생략 \n",
    "\n",
    "list(range(1,10)) # 1~9 에서1씩 증가"
   ]
  },
  {
   "cell_type": "code",
   "execution_count": 73,
   "id": "26f3760a",
   "metadata": {},
   "outputs": [
    {
     "data": {
      "text/plain": [
       "[0, 1, 2, 3, 4, 5, 6, 7, 8, 9]"
      ]
     },
     "execution_count": 73,
     "metadata": {},
     "output_type": "execute_result"
    }
   ],
   "source": [
    "# 시작값 생략 (할 때는 증감치도 같이 생략해야 함.)\n",
    "# 종료값은 생략할 수 없다.\n",
    "\n",
    "list(range(10)) # 0 ~ 9 까지"
   ]
  },
  {
   "cell_type": "code",
   "execution_count": 74,
   "id": "6f72b938",
   "metadata": {
    "collapsed": true
   },
   "outputs": [
    {
     "name": "stdout",
     "output_type": "stream",
     "text": [
      "abc\n",
      "abc\n",
      "abc\n",
      "abc\n",
      "abc\n",
      "abc\n",
      "abc\n",
      "abc\n",
      "abc\n",
      "abc\n",
      "abc\n",
      "abc\n",
      "abc\n",
      "abc\n",
      "abc\n",
      "abc\n",
      "abc\n",
      "abc\n",
      "abc\n",
      "abc\n"
     ]
    }
   ],
   "source": [
    "# range() : 특정 출력메시지를 n번 반복하고 싶을 때\n",
    "for i in range(10):\n",
    "    print(\"abc\")\n",
    "\n",
    "# 사실 i를 직접적으로 쓰지는 않는다. 출력하거나~.\n",
    "# 변수를 _ 로 명명하면 이 변수는 사용하지 않겠다.\n",
    "# 자리만 채운다의 의미로 관례적으로 사용한다.\n",
    "\n",
    "for _ in range(10):\n",
    "    print(\"abc\")"
   ]
  },
  {
   "cell_type": "markdown",
   "id": "d68e4066",
   "metadata": {},
   "source": [
    "### 4) for in 연관 내장 함수 - enumerate()함수\n",
    "- 몇 번째 반복에서 출력되는 값인지 알고 싶다.\n",
    "- 구문 : enumerate(자료구조, 옵션)\n",
    "- 거의 for in문에서 씀.\n",
    "- 튜플로 반환 (순서, 값) 묶어서 반환."
   ]
  },
  {
   "cell_type": "code",
   "execution_count": 103,
   "id": "b978c24b",
   "metadata": {},
   "outputs": [
    {
     "name": "stdout",
     "output_type": "stream",
     "text": [
      "(0, 10)\n",
      "(1, 5)\n",
      "(2, 6)\n",
      "(3, 4)\n",
      "(4, 7)\n",
      "(5, 2)\n"
     ]
    }
   ],
   "source": [
    "# 몇 번째 반복에서 출력되는 값인지 알고 싶다.\n",
    "lst = [10,5,6,4,7,2]\n",
    "for i in enumerate(lst): \n",
    "    print(i) # 튜플로 반환 (순서, 값)"
   ]
  },
  {
   "cell_type": "markdown",
   "id": "c0f31f1e",
   "metadata": {},
   "source": [
    "- 옵션"
   ]
  },
  {
   "cell_type": "code",
   "execution_count": 80,
   "id": "a5f0196c",
   "metadata": {},
   "outputs": [
    {
     "name": "stdout",
     "output_type": "stream",
     "text": [
      "(10, 10)\n",
      "(11, 5)\n",
      "(12, 6)\n",
      "(13, 4)\n",
      "(14, 7)\n",
      "(15, 2)\n"
     ]
    }
   ],
   "source": [
    "# 시작 순번 지정\n",
    "\n",
    "for i in enumerate(lst, start = 10):\n",
    "    print()"
   ]
  },
  {
   "cell_type": "code",
   "execution_count": 81,
   "id": "f417b0e0",
   "metadata": {},
   "outputs": [
    {
     "name": "stdout",
     "output_type": "stream",
     "text": [
      "1. 10\n",
      "2. 5\n",
      "3. 6\n",
      "4. 4\n",
      "5. 7\n",
      "6. 2\n"
     ]
    }
   ],
   "source": [
    "#enumerate() 반환값을 tuple 대입을 이용해 받는다.\n",
    "# 순서 넣을 변수, 값 넣을 변수 두 개 선언해\n",
    "# 이렇게 많이 사용.\n",
    "\n",
    "for idx, value in enumerate(lst, start = 1):\n",
    "    print(f\"{idx}. {value}\")"
   ]
  },
  {
   "cell_type": "markdown",
   "id": "331f82cb",
   "metadata": {},
   "source": [
    "### 5) for in 연관 내장 함수 - zip()함수\n",
    "\n",
    "- 반복문에서 : 각각의 자료구조에 대해 같은 index의 값들을 묶어서 반환\n",
    "- zip(자료구조1, 자료구조2, ....)\n",
    "- 리스트 튜플에서도 쓰임."
   ]
  },
  {
   "cell_type": "code",
   "execution_count": 82,
   "id": "a563e9df",
   "metadata": {},
   "outputs": [
    {
     "name": "stdout",
     "output_type": "stream",
     "text": [
      "('홍길동', 30, '서울')\n",
      "('이순신', 40, '인천')\n",
      "('강감찬', 50, '수원')\n"
     ]
    }
   ],
   "source": [
    "# 같은 index의 값들이 같은 사람의 정보\n",
    "\n",
    "names = ['홍길동','이순신','강감찬']\n",
    "ages = [30, 40, 50]\n",
    "address = ['서울', '인천', '수원']\n",
    "\n",
    "for v in zip(names, ages, address):# 같은 인덱스에 있는 값들을 반환.\n",
    "    print(v)\n",
    "    "
   ]
  },
  {
   "cell_type": "code",
   "execution_count": 86,
   "id": "0adfb036",
   "metadata": {},
   "outputs": [
    {
     "name": "stdout",
     "output_type": "stream",
     "text": [
      "홍길동 30 서울\n",
      "이순신 40 인천\n",
      "강감찬 50 수원\n"
     ]
    }
   ],
   "source": [
    "# 튜플 대입으로 반환\n",
    "\n",
    "for name, age, addr in zip(names, ages, address): # 변수 세 개로\n",
    "    print(name, age, addr)"
   ]
  },
  {
   "cell_type": "code",
   "execution_count": 92,
   "id": "8d8cab24",
   "metadata": {},
   "outputs": [
    {
     "name": "stdout",
     "output_type": "stream",
     "text": [
      "홍길동 30 서울 a@a.com\n",
      "이순신 40 인천 l@a.com\n",
      "강감찬 50 수원 avc@a.com\n"
     ]
    }
   ],
   "source": [
    "emails = ['a@a.com', 'l@a.com', 'avc@a.com', 'dfl@c.ocm']\n",
    "# 마지막 원소가 출력되지 않는다.\n",
    "\n",
    "# 자료구조들의 원소 개수가 다를 경우에는 적은 것에 맞춘다.\n",
    "for name, age, addr,email in zip(names, ages, address, emails):\n",
    "    print(name, age, addr, email)"
   ]
  },
  {
   "cell_type": "markdown",
   "id": "7b5d1331",
   "metadata": {},
   "source": [
    "## 3. 컴프리헨션\n",
    "- 기존 자료구조가 가진 원소들을 이용해 **새로운 자료구조**를 만드는 구문\n",
    "    -  주로 기존 자료구조의 원소들을 처리한 결과를 새로우 자료구조에 넣을 때 사용한다. 새로운 자료구조를 만드는 것이 목적이라는 것을 기억하자.!\n",
    "        - 리스트 컴프리헨션\n",
    "        - 딕셔너리 컴프리헨션\n",
    "        - set 컴프리헨션\n",
    "        - 듀플 컴프리헨션"
   ]
  },
  {
   "cell_type": "code",
   "execution_count": 93,
   "id": "88d4bcce",
   "metadata": {},
   "outputs": [
    {
     "name": "stdout",
     "output_type": "stream",
     "text": [
      "[5, 10, 15, 20, 25]\n"
     ]
    }
   ],
   "source": [
    "# 리스트 l1의 원소들을 5배한 값들로 구성된 새로운 리스트를 생성\n",
    "\n",
    "l1 = [1,2,3,4,5]\n",
    "new_list = []\n",
    "for i in l1:\n",
    "    new_list.append(i * 5)\n",
    "\n",
    "print(new_list)\n",
    "\n",
    "# => 이를 간단히 할 수 있는 방법 컴프리헨션"
   ]
  },
  {
   "cell_type": "code",
   "execution_count": 99,
   "id": "9ceb653f",
   "metadata": {},
   "outputs": [
    {
     "data": {
      "text/plain": [
       "[5, 10, 15, 20, 25]"
      ]
     },
     "execution_count": 99,
     "metadata": {},
     "output_type": "execute_result"
    }
   ],
   "source": [
    "# 리스트 컴프리헨션\n",
    "[i for i in l1]\n",
    "\n",
    "# 리스트 l1 순환하며 하나씩 나온 i 원소값을 \n",
    "# 새로운 리스트에 원소값 5 * i로 넣어라. 위 append한 것이랑 동일한 결과.\n",
    "\n",
    "\n",
    "new_list2 = [i*5 for i in l1]\n",
    "new_list2\n",
    "\n"
   ]
  },
  {
   "cell_type": "code",
   "execution_count": 98,
   "id": "cd9619b4",
   "metadata": {},
   "outputs": [
    {
     "data": {
      "text/plain": [
       "{5, 10, 15, 20, 25}"
      ]
     },
     "execution_count": 98,
     "metadata": {},
     "output_type": "execute_result"
    }
   ],
   "source": [
    "# set 컴프리헨션\n",
    "new_set = {i*5 for i in l1}\n",
    "new_set"
   ]
  },
  {
   "cell_type": "code",
   "execution_count": 125,
   "id": "295e5f42",
   "metadata": {},
   "outputs": [
    {
     "data": {
      "text/plain": [
       "{100: 5, 101: 10, 102: 15, 103: 20, 104: 25}"
      ]
     },
     "execution_count": 125,
     "metadata": {},
     "output_type": "execute_result"
    }
   ],
   "source": [
    "# dictionary 컴프리헨션\n",
    "# 딕션너리 만들기 : 키와 값으로 이뤄져있다. -> enumerate로 순서를 뽑으면 됨.\n",
    "new_dict = {key:value*5 for key,value in enumerate(l1, start=100)}\n",
    "new_dict"
   ]
  },
  {
   "cell_type": "code",
   "execution_count": 138,
   "id": "c5c7d4f7",
   "metadata": {},
   "outputs": [
    {
     "data": {
      "text/plain": [
       "{'key1': 1, 'key2': 2, 'key3': 3, 'key4': 4, 'key5': 5, 'key6': 6}"
      ]
     },
     "execution_count": 138,
     "metadata": {},
     "output_type": "execute_result"
    }
   ],
   "source": [
    "# enumerate 안 쓰고 딕션너리 만들 순 있지만\n",
    "# 리스트에 중복된 값이 있다면 key에 반영 안된다. key는 중복될 수 없음.\n",
    "\n",
    "l1 = [1,2,3,4,5,4,6,6,6]\n",
    "\n",
    "\n",
    "be ={'key'+str(a):a for a in l1}\n",
    "be"
   ]
  },
  {
   "cell_type": "code",
   "execution_count": 124,
   "id": "c69ac25a",
   "metadata": {},
   "outputs": [
    {
     "name": "stdout",
     "output_type": "stream",
     "text": [
      "1 5\n",
      "2 10\n",
      "3 15\n",
      "4 20\n",
      "5 25\n"
     ]
    }
   ],
   "source": [
    "###\n",
    "l1 = [1,2,3,4,5]\n",
    "di = {key:value*5 for key, value in enumerate(l1, start=1)}\n",
    "\n",
    "for x,y in di.items(): # 튜플로 반환\n",
    "    print(x,y)\n",
    "    "
   ]
  },
  {
   "cell_type": "code",
   "execution_count": 130,
   "id": "d615da86",
   "metadata": {},
   "outputs": [
    {
     "data": {
      "text/plain": [
       "(['A', 'ABC'], ['a', 'abc'])"
      ]
     },
     "execution_count": 130,
     "metadata": {},
     "output_type": "execute_result"
    }
   ],
   "source": [
    "# s의 값을 대문자로 변환한 값들을 원소로 가지는 리스트\n",
    "\n",
    "lst = ['a', 'abc']\n",
    "new_lst = [i.upper() for i in lst]\n",
    "new_lst, lst"
   ]
  },
  {
   "cell_type": "code",
   "execution_count": 136,
   "id": "2a6f69d1",
   "metadata": {},
   "outputs": [
    {
     "data": {
      "text/plain": [
       "{'A', 'ABC'}"
      ]
     },
     "execution_count": 136,
     "metadata": {},
     "output_type": "execute_result"
    }
   ],
   "source": [
    "# s의 값을 대문자로 변환한 값들을 원소로 가지는 set\n",
    "\n",
    "lst = ['a', 'abc']\n",
    "new_set = {i.upper() for i in lst}\n",
    "new_set"
   ]
  },
  {
   "cell_type": "markdown",
   "id": "a58edc49",
   "metadata": {},
   "source": [
    "- mapping : 원본 리스트의 원소들을 공통 처리를 해 새 리스트에 넣는 처리\n",
    "    - ex) 직원 전원의 임금 상승.\n",
    "- filtering : 원본 리스트 원소 중 조건에 만족하는 원소만 처리해 새 리스트에 넣는 처리\n",
    "    - ex) 영업부 직원만 임금 상승.\n",
    "   \n",
    "-> 자료구조에서 중요하다.\n",
    "\n",
    "- 복잡한 중첩 로직에선 컴플리헨션이 어려울 수 있어 반복문 \n"
   ]
  },
  {
   "cell_type": "code",
   "execution_count": 137,
   "id": "ba18510c",
   "metadata": {},
   "outputs": [
    {
     "data": {
      "text/plain": [
       "{'a': 'A', 'abc': 'ABC'}"
      ]
     },
     "execution_count": 137,
     "metadata": {},
     "output_type": "execute_result"
    }
   ],
   "source": [
    "# mapping\n",
    "# s의 값을 대문자로 변환한 값들을 원소로 가지는 dic\n",
    "\n",
    "lst = ['a', 'abc']\n",
    "new_dic = {i:i.upper() for i in lst}\n",
    "new_dic"
   ]
  },
  {
   "cell_type": "code",
   "execution_count": 142,
   "id": "f660cd65",
   "metadata": {},
   "outputs": [
    {
     "data": {
      "text/plain": [
       "['a', 'b', 'c']"
      ]
     },
     "execution_count": 142,
     "metadata": {},
     "output_type": "execute_result"
    }
   ],
   "source": [
    "# filtering\n",
    "# s의 원소 중 글자수가 1글자인 원소만 소문자를 대문자로 바꾼 값들을 가지는 배열\n",
    "# -> 컴플리헨션에 조건이 있다.!\n",
    "\n",
    "lst = ['a', 'abc', 'b', 'c','djkf']\n",
    "s1 = [v for v in lst if len(v)==1]\n",
    "s1"
   ]
  },
  {
   "cell_type": "code",
   "execution_count": 141,
   "id": "2702992f",
   "metadata": {},
   "outputs": [
    {
     "data": {
      "text/plain": [
       "['A', 'B', 'C']"
      ]
     },
     "execution_count": 141,
     "metadata": {},
     "output_type": "execute_result"
    }
   ],
   "source": [
    "# filter + mapping\n",
    "# s의 원소 중 글자수가 1글자인 원소만 소문자를 대문자로 바꾼 값들을 가지는 배열\n",
    "\n",
    "s1 = [v.upper() for v in lst if len(v)==1]\n",
    "s1"
   ]
  },
  {
   "cell_type": "code",
   "execution_count": 145,
   "id": "bf0609a3",
   "metadata": {},
   "outputs": [
    {
     "data": {
      "text/plain": [
       "['q', '!']"
      ]
     },
     "execution_count": 145,
     "metadata": {},
     "output_type": "execute_result"
    }
   ],
   "source": [
    "# 컴플리헨션 이전에 이렇게 했다. 컴플리헨션이 빠르고 편하다.\n",
    "list(filter(lambda x : len(x)==1, s))"
   ]
  },
  {
   "cell_type": "code",
   "execution_count": null,
   "id": "0d1ea35f",
   "metadata": {},
   "outputs": [],
   "source": []
  }
 ],
 "metadata": {
  "kernelspec": {
   "display_name": "Python 3 (ipykernel)",
   "language": "python",
   "name": "python3"
  },
  "language_info": {
   "codemirror_mode": {
    "name": "ipython",
    "version": 3
   },
   "file_extension": ".py",
   "mimetype": "text/x-python",
   "name": "python",
   "nbconvert_exporter": "python",
   "pygments_lexer": "ipython3",
   "version": "3.9.7"
  }
 },
 "nbformat": 4,
 "nbformat_minor": 5
}
