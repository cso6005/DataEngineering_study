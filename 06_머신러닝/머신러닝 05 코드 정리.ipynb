{
 "cells": [
  {
   "cell_type": "markdown",
   "id": "b35907d8",
   "metadata": {},
   "source": [
    "#### precision_recall_curve 확인"
   ]
  },
  {
   "cell_type": "code",
   "execution_count": 1,
   "id": "a339bc30",
   "metadata": {},
   "outputs": [],
   "source": [
    "import numpy as np\n",
    "import matplotlib.pyplot as plt\n",
    "\n",
    "from sklearn.datasets import load_digits\n",
    "\n",
    "digits = load_digits()\n",
    "digits.keys()\n",
    "\n",
    "X = digits.data\n",
    "y = digits.target\n",
    "\n",
    "y = np.where(y==9, 1, 0)\n"
   ]
  },
  {
   "cell_type": "code",
   "execution_count": 9,
   "id": "42b910fc",
   "metadata": {},
   "outputs": [],
   "source": [
    "from sklearn.model_selection import train_test_split\n",
    "from sklearn.tree import DecisionTreeClassifier\n",
    "\n",
    "X_train, X_test, y_train, y_test = train_test_split(X, y, stratify=y, random_state=0) # test_size : 생략 - def 0.25\n",
    "\n",
    "tree = DecisionTreeClassifier(max_depth=3, random_state=0)\n",
    "tree.fit(X_train, y_train)\n",
    "\n",
    "pred_train = tree.predict(X_train)\n",
    "pred_test = tree.predict(X_test)\n"
   ]
  },
  {
   "cell_type": "code",
   "execution_count": 14,
   "id": "f46740a4",
   "metadata": {},
   "outputs": [],
   "source": [
    "from sklearn.metrics import precision_recall_curve\n",
    "\n",
    "pos_proba = tree.predict_proba(X_test)[:,1]\n",
    "precisions, recalls, thresholds = precision_recall_curve(y_test, pos_proba)\n",
    "\n",
    "thresholds = np.append(thresholds,1)\n"
   ]
  },
  {
   "cell_type": "code",
   "execution_count": 15,
   "id": "6380ce5d",
   "metadata": {
    "collapsed": true
   },
   "outputs": [
    {
     "data": {
      "text/html": [
       "<div>\n",
       "<style scoped>\n",
       "    .dataframe tbody tr th:only-of-type {\n",
       "        vertical-align: middle;\n",
       "    }\n",
       "\n",
       "    .dataframe tbody tr th {\n",
       "        vertical-align: top;\n",
       "    }\n",
       "\n",
       "    .dataframe thead th {\n",
       "        text-align: right;\n",
       "    }\n",
       "</style>\n",
       "<table border=\"1\" class=\"dataframe\">\n",
       "  <thead>\n",
       "    <tr style=\"text-align: right;\">\n",
       "      <th></th>\n",
       "      <th>threshold</th>\n",
       "      <th>precision</th>\n",
       "      <th>recall</th>\n",
       "    </tr>\n",
       "  </thead>\n",
       "  <tbody>\n",
       "    <tr>\n",
       "      <th>0</th>\n",
       "      <td>0.008264</td>\n",
       "      <td>0.100000</td>\n",
       "      <td>1.000000</td>\n",
       "    </tr>\n",
       "    <tr>\n",
       "      <th>1</th>\n",
       "      <td>0.013043</td>\n",
       "      <td>0.107579</td>\n",
       "      <td>0.977778</td>\n",
       "    </tr>\n",
       "    <tr>\n",
       "      <th>2</th>\n",
       "      <td>0.033898</td>\n",
       "      <td>0.431818</td>\n",
       "      <td>0.844444</td>\n",
       "    </tr>\n",
       "    <tr>\n",
       "      <th>3</th>\n",
       "      <td>0.040000</td>\n",
       "      <td>0.513889</td>\n",
       "      <td>0.822222</td>\n",
       "    </tr>\n",
       "    <tr>\n",
       "      <th>4</th>\n",
       "      <td>0.149254</td>\n",
       "      <td>0.560606</td>\n",
       "      <td>0.822222</td>\n",
       "    </tr>\n",
       "    <tr>\n",
       "      <th>5</th>\n",
       "      <td>0.545455</td>\n",
       "      <td>0.755556</td>\n",
       "      <td>0.755556</td>\n",
       "    </tr>\n",
       "    <tr>\n",
       "      <th>6</th>\n",
       "      <td>0.750000</td>\n",
       "      <td>0.823529</td>\n",
       "      <td>0.622222</td>\n",
       "    </tr>\n",
       "    <tr>\n",
       "      <th>7</th>\n",
       "      <td>1.000000</td>\n",
       "      <td>1.000000</td>\n",
       "      <td>0.000000</td>\n",
       "    </tr>\n",
       "  </tbody>\n",
       "</table>\n",
       "</div>"
      ],
      "text/plain": [
       "   threshold  precision    recall\n",
       "0   0.008264   0.100000  1.000000\n",
       "1   0.013043   0.107579  0.977778\n",
       "2   0.033898   0.431818  0.844444\n",
       "3   0.040000   0.513889  0.822222\n",
       "4   0.149254   0.560606  0.822222\n",
       "5   0.545455   0.755556  0.755556\n",
       "6   0.750000   0.823529  0.622222\n",
       "7   1.000000   1.000000  0.000000"
      ]
     },
     "execution_count": 15,
     "metadata": {},
     "output_type": "execute_result"
    }
   ],
   "source": [
    "# 데이터프레임으로 보기\n",
    "import pandas as pd\n",
    "pd.DataFrame({\n",
    "    'threshold':thresholds,\n",
    "    'precision':precisions,\n",
    "    'recall':recalls\n",
    "})\n"
   ]
  },
  {
   "cell_type": "code",
   "execution_count": 16,
   "id": "a954951a",
   "metadata": {
    "scrolled": true
   },
   "outputs": [
    {
     "data": {
      "image/png": "[encoded data removed]",
      "text/plain": [
       "<Figure size 504x504 with 1 Axes>"
      ]
     },
     "metadata": {
      "needs_background": "light"
     },
     "output_type": "display_data"
    }
   ],
   "source": [
    "plt.figure(figsize=(7,7))\n",
    "\n",
    "plt.plot(thresholds, precisions, marker='o', label='precision')\n",
    "plt.plot(thresholds, recalls, marker='x', label='recall')\n",
    "\n",
    "plt.xticks(np.arange(0,1.1,0.1))\n",
    "plt.grid(True)\n",
    "plt.show()"
   ]
  },
  {
   "cell_type": "markdown",
   "id": "fc13b3de",
   "metadata": {},
   "source": [
    "#### 임계값 변경"
   ]
  },
  {
   "cell_type": "code",
   "execution_count": 21,
   "id": "0966d474",
   "metadata": {},
   "outputs": [
    {
     "name": "stdout",
     "output_type": "stream",
     "text": [
      "결정트리 - 임계값(0.1)\n",
      "==================================================\n",
      "임계값0.1\n",
      "==================================================\n",
      "정확도(Accuracy): 0.9177777777777778\n",
      "재현율/민감도(Recall): 0.8222222222222222\n",
      "정밀도(Precision): 0.5606060606060606\n",
      "F1 점수(F1 score): 0.6666666666666666\n",
      "결정트리 - 임계값(0.7)\n",
      "==================================================\n",
      "임계값0.7\n",
      "==================================================\n",
      "정확도(Accuracy): 0.9488888888888889\n",
      "재현율/민감도(Recall): 0.6222222222222222\n",
      "정밀도(Precision): 0.8235294117647058\n",
      "F1 점수(F1 score): 0.7088607594936709\n"
     ]
    }
   ],
   "source": [
    "from sklearn.preprocessing import Binarizer\n",
    "from metrics import print_classification_metrics\n",
    "\n",
    "X_train, X_test, y_train, y_test = train_test_split(X, y, stratify=y, random_state=0) # test_size : 생략 - def 0.25\n",
    "tree = DecisionTreeClassifier(max_depth=3, random_state=0)\n",
    "tree.fit(X_train, y_train)\n",
    "\n",
    "binarizer1 = Binarizer(threshold = 0.1)\n",
    "binarizer2 = Binarizer(threshold = 0.7)\n",
    "\n",
    "pred_proba = tree.predict_proba(X_test)\n",
    "\n",
    "pred_test_tree1 = binarizer1.fit_transform(pred_proba)[:,1]\n",
    "pred_test_tree2 = binarizer2.fit_transform(pred_proba)[:, 1]\n",
    "\n",
    "print('결정트리 - 임계값(0.1)')\n",
    "print_classification_metrics(y_test,pred_test_tree1, title='임계값0.1')\n",
    "print('결정트리 - 임계값(0.7)')\n",
    "print_classification_metrics(y_test, pred_test_tree2, title='임계값0.7')\n"
   ]
  },
  {
   "cell_type": "code",
   "execution_count": null,
   "id": "6168deb4",
   "metadata": {},
   "outputs": [],
   "source": []
  },
  {
   "cell_type": "code",
   "execution_count": null,
   "id": "305cd096",
   "metadata": {},
   "outputs": [],
   "source": []
  },
  {
   "cell_type": "markdown",
   "id": "e8a09a11",
   "metadata": {},
   "source": [
    "##### ROC Curve"
   ]
  },
  {
   "cell_type": "code",
   "execution_count": null,
   "id": "77713a7a",
   "metadata": {},
   "outputs": [],
   "source": [
    "from sklearn.metrics import roc_curve\n",
    "\n"
   ]
  },
  {
   "cell_type": "code",
   "execution_count": null,
   "id": "8ece3b07",
   "metadata": {},
   "outputs": [],
   "source": []
  }
 ],
 "metadata": {
  "kernelspec": {
   "display_name": "Python 3 (ipykernel)",
   "language": "python",
   "name": "python3"
  },
  "language_info": {
   "codemirror_mode": {
    "name": "ipython",
    "version": 3
   },
   "file_extension": ".py",
   "mimetype": "text/x-python",
   "name": "python",
   "nbconvert_exporter": "python",
   "pygments_lexer": "ipython3",
   "version": "3.7.13"
  }
 },
 "nbformat": 4,
 "nbformat_minor": 5
}
