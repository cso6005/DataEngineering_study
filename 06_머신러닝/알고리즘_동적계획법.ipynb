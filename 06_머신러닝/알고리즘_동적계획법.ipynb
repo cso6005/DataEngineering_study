{
 "cells": [
  {
   "cell_type": "code",
   "execution_count": 5,
   "id": "9d8f5a00",
   "metadata": {},
   "outputs": [
    {
     "name": "stdout",
     "output_type": "stream",
     "text": [
      "6\n",
      "10\n",
      "20\n",
      "15\n",
      "25\n",
      "10\n",
      "20\n",
      "[10, 20, 15, 25, 10, 20]\n"
     ]
    }
   ],
   "source": [
    "N = int(input())\n",
    "\n",
    "stair = []\n",
    "for _ in range(N):\n",
    "    stair.append(int(input()))\n",
    "    \n",
    "print(stair)\n",
    "\n"
   ]
  },
  {
   "cell_type": "code",
   "execution_count": 14,
   "id": "9a35c03c",
   "metadata": {},
   "outputs": [
    {
     "name": "stdout",
     "output_type": "stream",
     "text": [
      "0\n",
      "[10, 30]\n",
      "1\n",
      "[10, 30, 55]\n",
      "2\n",
      "[10, 30, 55, 80]\n",
      "3\n",
      "[10, 30, 55, 80, 100]\n"
     ]
    }
   ],
   "source": [
    "arr = [stair[0], stair[1]]\n",
    "\n",
    "    \n",
    "for i in range(3, N+1):\n",
    "    arr[i] = max(arr[i-3]+stair[i-1]+stair[i], arr[i-2]+stair[i])  \n",
    "\n",
    "\n",
    "\n"
   ]
  },
  {
   "cell_type": "code",
   "execution_count": 6,
   "id": "77d65fea",
   "metadata": {},
   "outputs": [
    {
     "data": {
      "text/plain": [
       "[10, 20, 15, 25, 10, 20]"
      ]
     },
     "execution_count": 6,
     "metadata": {},
     "output_type": "execute_result"
    }
   ],
   "source": []
  }
 ],
 "metadata": {
  "kernelspec": {
   "display_name": "Python 3 (ipykernel)",
   "language": "python",
   "name": "python3"
  },
  "language_info": {
   "codemirror_mode": {
    "name": "ipython",
    "version": 3
   },
   "file_extension": ".py",
   "mimetype": "text/x-python",
   "name": "python",
   "nbconvert_exporter": "python",
   "pygments_lexer": "ipython3",
   "version": "3.7.13"
  }
 },
 "nbformat": 4,
 "nbformat_minor": 5
}
