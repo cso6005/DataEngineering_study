{
 "cells": [
  {
   "cell_type": "code",
   "execution_count": 1,
   "id": "01bd7a8b",
   "metadata": {
    "scrolled": true
   },
   "outputs": [
    {
     "name": "stderr",
     "output_type": "stream",
     "text": [
      "Missing colon in file WindowsPath('C:/Users/CSYJ/anaconda3/envs/smoking/lib/site-packages/matplotlib/mpl-data/matplotlibrc'), line 243 ('nicode')\n",
      "Missing colon in file 'C:\\\\Users\\\\CSYJ\\\\anaconda3\\\\envs\\\\smoking\\\\lib\\\\site-packages\\\\matplotlib\\\\mpl-data\\\\matplotlibrc', line 243 ('nicode')\n"
     ]
    }
   ],
   "source": [
    "import numpy as np\n",
    "import pandas as pd\n",
    "import matplotlib.pyplot as plt\n",
    "import seaborn as sns\n",
    "\n",
    "import warnings \n",
    "warnings.filterwarnings(action = 'ignore')"
   ]
  },
  {
   "cell_type": "code",
   "execution_count": 2,
   "id": "1a145798",
   "metadata": {
    "scrolled": true
   },
   "outputs": [
    {
     "data": {
      "text/html": [
       "<div>\n",
       "<style scoped>\n",
       "    .dataframe tbody tr th:only-of-type {\n",
       "        vertical-align: middle;\n",
       "    }\n",
       "\n",
       "    .dataframe tbody tr th {\n",
       "        vertical-align: top;\n",
       "    }\n",
       "\n",
       "    .dataframe thead th {\n",
       "        text-align: right;\n",
       "    }\n",
       "</style>\n",
       "<table border=\"1\" class=\"dataframe\">\n",
       "  <thead>\n",
       "    <tr style=\"text-align: right;\">\n",
       "      <th></th>\n",
       "      <th>gender</th>\n",
       "      <th>age</th>\n",
       "      <th>height(cm)</th>\n",
       "      <th>weight(kg)</th>\n",
       "      <th>waist(cm)</th>\n",
       "      <th>eyesight(left)</th>\n",
       "      <th>eyesight(right)</th>\n",
       "      <th>hearing(left)</th>\n",
       "      <th>hearing(right)</th>\n",
       "      <th>systolic</th>\n",
       "      <th>...</th>\n",
       "      <th>hemoglobin</th>\n",
       "      <th>Urine protein</th>\n",
       "      <th>serum creatinine</th>\n",
       "      <th>AST</th>\n",
       "      <th>ALT</th>\n",
       "      <th>Gtp</th>\n",
       "      <th>oral</th>\n",
       "      <th>dental caries</th>\n",
       "      <th>tartar</th>\n",
       "      <th>smoking</th>\n",
       "    </tr>\n",
       "    <tr>\n",
       "      <th>ID</th>\n",
       "      <th></th>\n",
       "      <th></th>\n",
       "      <th></th>\n",
       "      <th></th>\n",
       "      <th></th>\n",
       "      <th></th>\n",
       "      <th></th>\n",
       "      <th></th>\n",
       "      <th></th>\n",
       "      <th></th>\n",
       "      <th></th>\n",
       "      <th></th>\n",
       "      <th></th>\n",
       "      <th></th>\n",
       "      <th></th>\n",
       "      <th></th>\n",
       "      <th></th>\n",
       "      <th></th>\n",
       "      <th></th>\n",
       "      <th></th>\n",
       "      <th></th>\n",
       "    </tr>\n",
       "  </thead>\n",
       "  <tbody>\n",
       "    <tr>\n",
       "      <th>0</th>\n",
       "      <td>F</td>\n",
       "      <td>40</td>\n",
       "      <td>155</td>\n",
       "      <td>60</td>\n",
       "      <td>81.3</td>\n",
       "      <td>1.2</td>\n",
       "      <td>1.0</td>\n",
       "      <td>1.0</td>\n",
       "      <td>1.0</td>\n",
       "      <td>114.0</td>\n",
       "      <td>...</td>\n",
       "      <td>12.9</td>\n",
       "      <td>1.0</td>\n",
       "      <td>0.7</td>\n",
       "      <td>18.0</td>\n",
       "      <td>19.0</td>\n",
       "      <td>27.0</td>\n",
       "      <td>Y</td>\n",
       "      <td>0</td>\n",
       "      <td>Y</td>\n",
       "      <td>0</td>\n",
       "    </tr>\n",
       "    <tr>\n",
       "      <th>1</th>\n",
       "      <td>F</td>\n",
       "      <td>40</td>\n",
       "      <td>160</td>\n",
       "      <td>60</td>\n",
       "      <td>81.0</td>\n",
       "      <td>0.8</td>\n",
       "      <td>0.6</td>\n",
       "      <td>1.0</td>\n",
       "      <td>1.0</td>\n",
       "      <td>119.0</td>\n",
       "      <td>...</td>\n",
       "      <td>12.7</td>\n",
       "      <td>1.0</td>\n",
       "      <td>0.6</td>\n",
       "      <td>22.0</td>\n",
       "      <td>19.0</td>\n",
       "      <td>18.0</td>\n",
       "      <td>Y</td>\n",
       "      <td>0</td>\n",
       "      <td>Y</td>\n",
       "      <td>0</td>\n",
       "    </tr>\n",
       "    <tr>\n",
       "      <th>2</th>\n",
       "      <td>M</td>\n",
       "      <td>55</td>\n",
       "      <td>170</td>\n",
       "      <td>60</td>\n",
       "      <td>80.0</td>\n",
       "      <td>0.8</td>\n",
       "      <td>0.8</td>\n",
       "      <td>1.0</td>\n",
       "      <td>1.0</td>\n",
       "      <td>138.0</td>\n",
       "      <td>...</td>\n",
       "      <td>15.8</td>\n",
       "      <td>1.0</td>\n",
       "      <td>1.0</td>\n",
       "      <td>21.0</td>\n",
       "      <td>16.0</td>\n",
       "      <td>22.0</td>\n",
       "      <td>Y</td>\n",
       "      <td>0</td>\n",
       "      <td>N</td>\n",
       "      <td>1</td>\n",
       "    </tr>\n",
       "    <tr>\n",
       "      <th>3</th>\n",
       "      <td>M</td>\n",
       "      <td>40</td>\n",
       "      <td>165</td>\n",
       "      <td>70</td>\n",
       "      <td>88.0</td>\n",
       "      <td>1.5</td>\n",
       "      <td>1.5</td>\n",
       "      <td>1.0</td>\n",
       "      <td>1.0</td>\n",
       "      <td>100.0</td>\n",
       "      <td>...</td>\n",
       "      <td>14.7</td>\n",
       "      <td>1.0</td>\n",
       "      <td>1.0</td>\n",
       "      <td>19.0</td>\n",
       "      <td>26.0</td>\n",
       "      <td>18.0</td>\n",
       "      <td>Y</td>\n",
       "      <td>0</td>\n",
       "      <td>Y</td>\n",
       "      <td>0</td>\n",
       "    </tr>\n",
       "    <tr>\n",
       "      <th>4</th>\n",
       "      <td>F</td>\n",
       "      <td>40</td>\n",
       "      <td>155</td>\n",
       "      <td>60</td>\n",
       "      <td>86.0</td>\n",
       "      <td>1.0</td>\n",
       "      <td>1.0</td>\n",
       "      <td>1.0</td>\n",
       "      <td>1.0</td>\n",
       "      <td>120.0</td>\n",
       "      <td>...</td>\n",
       "      <td>12.5</td>\n",
       "      <td>1.0</td>\n",
       "      <td>0.6</td>\n",
       "      <td>16.0</td>\n",
       "      <td>14.0</td>\n",
       "      <td>22.0</td>\n",
       "      <td>Y</td>\n",
       "      <td>0</td>\n",
       "      <td>N</td>\n",
       "      <td>0</td>\n",
       "    </tr>\n",
       "  </tbody>\n",
       "</table>\n",
       "<p>5 rows × 26 columns</p>\n",
       "</div>"
      ],
      "text/plain": [
       "   gender  age  height(cm)  weight(kg)  waist(cm)  eyesight(left)  \\\n",
       "ID                                                                  \n",
       "0       F   40         155          60       81.3             1.2   \n",
       "1       F   40         160          60       81.0             0.8   \n",
       "2       M   55         170          60       80.0             0.8   \n",
       "3       M   40         165          70       88.0             1.5   \n",
       "4       F   40         155          60       86.0             1.0   \n",
       "\n",
       "    eyesight(right)  hearing(left)  hearing(right)  systolic  ...  hemoglobin  \\\n",
       "ID                                                            ...               \n",
       "0               1.0            1.0             1.0     114.0  ...        12.9   \n",
       "1               0.6            1.0             1.0     119.0  ...        12.7   \n",
       "2               0.8            1.0             1.0     138.0  ...        15.8   \n",
       "3               1.5            1.0             1.0     100.0  ...        14.7   \n",
       "4               1.0            1.0             1.0     120.0  ...        12.5   \n",
       "\n",
       "    Urine protein  serum creatinine   AST   ALT   Gtp  oral  dental caries  \\\n",
       "ID                                                                           \n",
       "0             1.0               0.7  18.0  19.0  27.0     Y              0   \n",
       "1             1.0               0.6  22.0  19.0  18.0     Y              0   \n",
       "2             1.0               1.0  21.0  16.0  22.0     Y              0   \n",
       "3             1.0               1.0  19.0  26.0  18.0     Y              0   \n",
       "4             1.0               0.6  16.0  14.0  22.0     Y              0   \n",
       "\n",
       "    tartar  smoking  \n",
       "ID                   \n",
       "0        Y        0  \n",
       "1        Y        0  \n",
       "2        N        1  \n",
       "3        Y        0  \n",
       "4        N        0  \n",
       "\n",
       "[5 rows x 26 columns]"
      ]
     },
     "execution_count": 2,
     "metadata": {},
     "output_type": "execute_result"
    }
   ],
   "source": [
    "dataset = pd.read_csv('./archive/smoking.csv', index_col='ID')\n",
    "dataset.head()"
   ]
  },
  {
   "cell_type": "markdown",
   "id": "e2150a5f",
   "metadata": {},
   "source": [
    "### 1. 불필요한 컬럼 제거"
   ]
  },
  {
   "cell_type": "markdown",
   "id": "d22c4284",
   "metadata": {},
   "source": [
    "##### oral 제거"
   ]
  },
  {
   "cell_type": "code",
   "execution_count": 3,
   "id": "af7384b6",
   "metadata": {},
   "outputs": [
    {
     "data": {
      "text/plain": [
       "Index(['gender', 'age', 'height(cm)', 'weight(kg)', 'waist(cm)',\n",
       "       'eyesight(left)', 'eyesight(right)', 'hearing(left)', 'hearing(right)',\n",
       "       'systolic', 'relaxation', 'fasting blood sugar', 'Cholesterol',\n",
       "       'triglyceride', 'HDL', 'LDL', 'hemoglobin', 'Urine protein',\n",
       "       'serum creatinine', 'AST', 'ALT', 'Gtp', 'dental caries', 'tartar',\n",
       "       'smoking'],\n",
       "      dtype='object')"
      ]
     },
     "execution_count": 3,
     "metadata": {},
     "output_type": "execute_result"
    }
   ],
   "source": [
    "dataset_col_drop_2 = dataset.drop(columns = 'oral')\n",
    "dataset_col_drop_2.columns"
   ]
  },
  {
   "cell_type": "code",
   "execution_count": 4,
   "id": "00d69938",
   "metadata": {},
   "outputs": [
    {
     "data": {
      "text/plain": [
       "(55692, 25)"
      ]
     },
     "execution_count": 4,
     "metadata": {},
     "output_type": "execute_result"
    }
   ],
   "source": [
    "dataset_col_drop_2.shape"
   ]
  },
  {
   "cell_type": "markdown",
   "id": "d585eafc",
   "metadata": {},
   "source": [
    "## 2. 이상치 제거\n",
    "##### => IQR - 계산 및 25% 이하, 75% 이상의 이상치 데이터 제거\n",
    "##### => 모든 컬럼에 적용"
   ]
  },
  {
   "cell_type": "code",
   "execution_count": 5,
   "id": "6115ea9d",
   "metadata": {},
   "outputs": [
    {
     "data": {
      "text/plain": [
       "gender                   2\n",
       "dental caries            2\n",
       "tartar                   2\n",
       "hearing(right)           2\n",
       "hearing(left)            2\n",
       "smoking                  2\n",
       "Urine protein            6\n",
       "height(cm)              13\n",
       "age                     14\n",
       "eyesight(right)         17\n",
       "eyesight(left)          19\n",
       "weight(kg)              22\n",
       "serum creatinine        38\n",
       "relaxation              95\n",
       "HDL                    126\n",
       "systolic               130\n",
       "hemoglobin             145\n",
       "AST                    219\n",
       "ALT                    245\n",
       "fasting blood sugar    276\n",
       "Cholesterol            286\n",
       "LDL                    289\n",
       "triglyceride           390\n",
       "Gtp                    488\n",
       "waist(cm)              566\n",
       "dtype: int64"
      ]
     },
     "execution_count": 5,
     "metadata": {},
     "output_type": "execute_result"
    }
   ],
   "source": [
    "dataset_col_drop_2.nunique().sort_values()"
   ]
  },
  {
   "cell_type": "code",
   "execution_count": 6,
   "id": "e85d6d0b",
   "metadata": {},
   "outputs": [
    {
     "data": {
      "text/plain": [
       "(55692, 18)"
      ]
     },
     "execution_count": 6,
     "metadata": {},
     "output_type": "execute_result"
    }
   ],
   "source": [
    "# 연속형 데이터만 \n",
    "\n",
    "dataset_c = dataset_col_drop_2.drop(labels = ['gender','smoking','tartar','hearing(right)','hearing(left)', 'Urine protein', 'dental caries'], axis=1)\n",
    "dataset_c.shape"
   ]
  },
  {
   "cell_type": "code",
   "execution_count": 7,
   "id": "27761baa",
   "metadata": {},
   "outputs": [],
   "source": [
    "def outlier_check(dataset):\n",
    "    for data in dataset.columns:\n",
    "        col_data = dataset[data]\n",
    "        q1 = np.percentile(col_data, 25)\n",
    "        q3 = np.percentile(col_data, 75)\n",
    "        IQR = 1.5 * (q3 - q1)\n",
    "        lowest = q1 - IQR\n",
    "        highest = q3 + IQR\n",
    "        outlier_idx = dataset[(col_data < lowest) | (col_data > highest)].index\n",
    "        print(f'{data}의 이상치 : {len(outlier_idx)}')\n",
    "    return outlier_idx"
   ]
  },
  {
   "cell_type": "code",
   "execution_count": 8,
   "id": "a605ae05",
   "metadata": {},
   "outputs": [
    {
     "name": "stdout",
     "output_type": "stream",
     "text": [
      "age의 이상치 : 295\n",
      "height(cm)의 이상치 : 249\n",
      "weight(kg)의 이상치 : 198\n",
      "waist(cm)의 이상치 : 496\n",
      "eyesight(left)의 이상치 : 1314\n",
      "eyesight(right)의 이상치 : 1357\n",
      "systolic의 이상치 : 685\n",
      "relaxation의 이상치 : 706\n",
      "fasting blood sugar의 이상치 : 3298\n",
      "Cholesterol의 이상치 : 605\n",
      "triglyceride의 이상치 : 2256\n",
      "HDL의 이상치 : 1011\n",
      "LDL의 이상치 : 634\n",
      "hemoglobin의 이상치 : 669\n",
      "serum creatinine의 이상치 : 3147\n",
      "AST의 이상치 : 3699\n",
      "ALT의 이상치 : 3710\n",
      "Gtp의 이상치 : 5019\n"
     ]
    }
   ],
   "source": [
    "out_idx = outlier_check(dataset_c) # 연속형 데이터 셋 dataset_c"
   ]
  },
  {
   "cell_type": "code",
   "execution_count": 9,
   "id": "2e1a9a8b",
   "metadata": {},
   "outputs": [
    {
     "data": {
      "text/plain": [
       "(5019,)"
      ]
     },
     "execution_count": 9,
     "metadata": {},
     "output_type": "execute_result"
    }
   ],
   "source": [
    "out_idx.shape"
   ]
  },
  {
   "cell_type": "code",
   "execution_count": 10,
   "id": "b1c0d765",
   "metadata": {},
   "outputs": [],
   "source": [
    "def outlier_drop(dataset, idx):\n",
    "    data = dataset.drop(idx, axis = 0)\n",
    "    return data\n"
   ]
  },
  {
   "cell_type": "code",
   "execution_count": 11,
   "id": "c11e5361",
   "metadata": {},
   "outputs": [],
   "source": [
    "dataset_drop = outlier_drop(dataset_col_drop_2, out_idx)"
   ]
  },
  {
   "cell_type": "code",
   "execution_count": 12,
   "id": "c0a1f186",
   "metadata": {},
   "outputs": [
    {
     "data": {
      "text/html": [
       "<div>\n",
       "<style scoped>\n",
       "    .dataframe tbody tr th:only-of-type {\n",
       "        vertical-align: middle;\n",
       "    }\n",
       "\n",
       "    .dataframe tbody tr th {\n",
       "        vertical-align: top;\n",
       "    }\n",
       "\n",
       "    .dataframe thead th {\n",
       "        text-align: right;\n",
       "    }\n",
       "</style>\n",
       "<table border=\"1\" class=\"dataframe\">\n",
       "  <thead>\n",
       "    <tr style=\"text-align: right;\">\n",
       "      <th></th>\n",
       "      <th>gender</th>\n",
       "      <th>age</th>\n",
       "      <th>height(cm)</th>\n",
       "      <th>weight(kg)</th>\n",
       "      <th>waist(cm)</th>\n",
       "      <th>eyesight(left)</th>\n",
       "      <th>eyesight(right)</th>\n",
       "      <th>hearing(left)</th>\n",
       "      <th>hearing(right)</th>\n",
       "      <th>systolic</th>\n",
       "      <th>...</th>\n",
       "      <th>LDL</th>\n",
       "      <th>hemoglobin</th>\n",
       "      <th>Urine protein</th>\n",
       "      <th>serum creatinine</th>\n",
       "      <th>AST</th>\n",
       "      <th>ALT</th>\n",
       "      <th>Gtp</th>\n",
       "      <th>dental caries</th>\n",
       "      <th>tartar</th>\n",
       "      <th>smoking</th>\n",
       "    </tr>\n",
       "    <tr>\n",
       "      <th>ID</th>\n",
       "      <th></th>\n",
       "      <th></th>\n",
       "      <th></th>\n",
       "      <th></th>\n",
       "      <th></th>\n",
       "      <th></th>\n",
       "      <th></th>\n",
       "      <th></th>\n",
       "      <th></th>\n",
       "      <th></th>\n",
       "      <th></th>\n",
       "      <th></th>\n",
       "      <th></th>\n",
       "      <th></th>\n",
       "      <th></th>\n",
       "      <th></th>\n",
       "      <th></th>\n",
       "      <th></th>\n",
       "      <th></th>\n",
       "      <th></th>\n",
       "      <th></th>\n",
       "    </tr>\n",
       "  </thead>\n",
       "  <tbody>\n",
       "    <tr>\n",
       "      <th>0</th>\n",
       "      <td>F</td>\n",
       "      <td>40</td>\n",
       "      <td>155</td>\n",
       "      <td>60</td>\n",
       "      <td>81.3</td>\n",
       "      <td>1.2</td>\n",
       "      <td>1.0</td>\n",
       "      <td>1.0</td>\n",
       "      <td>1.0</td>\n",
       "      <td>114.0</td>\n",
       "      <td>...</td>\n",
       "      <td>126.0</td>\n",
       "      <td>12.9</td>\n",
       "      <td>1.0</td>\n",
       "      <td>0.7</td>\n",
       "      <td>18.0</td>\n",
       "      <td>19.0</td>\n",
       "      <td>27.0</td>\n",
       "      <td>0</td>\n",
       "      <td>Y</td>\n",
       "      <td>0</td>\n",
       "    </tr>\n",
       "    <tr>\n",
       "      <th>1</th>\n",
       "      <td>F</td>\n",
       "      <td>40</td>\n",
       "      <td>160</td>\n",
       "      <td>60</td>\n",
       "      <td>81.0</td>\n",
       "      <td>0.8</td>\n",
       "      <td>0.6</td>\n",
       "      <td>1.0</td>\n",
       "      <td>1.0</td>\n",
       "      <td>119.0</td>\n",
       "      <td>...</td>\n",
       "      <td>127.0</td>\n",
       "      <td>12.7</td>\n",
       "      <td>1.0</td>\n",
       "      <td>0.6</td>\n",
       "      <td>22.0</td>\n",
       "      <td>19.0</td>\n",
       "      <td>18.0</td>\n",
       "      <td>0</td>\n",
       "      <td>Y</td>\n",
       "      <td>0</td>\n",
       "    </tr>\n",
       "    <tr>\n",
       "      <th>2</th>\n",
       "      <td>M</td>\n",
       "      <td>55</td>\n",
       "      <td>170</td>\n",
       "      <td>60</td>\n",
       "      <td>80.0</td>\n",
       "      <td>0.8</td>\n",
       "      <td>0.8</td>\n",
       "      <td>1.0</td>\n",
       "      <td>1.0</td>\n",
       "      <td>138.0</td>\n",
       "      <td>...</td>\n",
       "      <td>151.0</td>\n",
       "      <td>15.8</td>\n",
       "      <td>1.0</td>\n",
       "      <td>1.0</td>\n",
       "      <td>21.0</td>\n",
       "      <td>16.0</td>\n",
       "      <td>22.0</td>\n",
       "      <td>0</td>\n",
       "      <td>N</td>\n",
       "      <td>1</td>\n",
       "    </tr>\n",
       "    <tr>\n",
       "      <th>3</th>\n",
       "      <td>M</td>\n",
       "      <td>40</td>\n",
       "      <td>165</td>\n",
       "      <td>70</td>\n",
       "      <td>88.0</td>\n",
       "      <td>1.5</td>\n",
       "      <td>1.5</td>\n",
       "      <td>1.0</td>\n",
       "      <td>1.0</td>\n",
       "      <td>100.0</td>\n",
       "      <td>...</td>\n",
       "      <td>226.0</td>\n",
       "      <td>14.7</td>\n",
       "      <td>1.0</td>\n",
       "      <td>1.0</td>\n",
       "      <td>19.0</td>\n",
       "      <td>26.0</td>\n",
       "      <td>18.0</td>\n",
       "      <td>0</td>\n",
       "      <td>Y</td>\n",
       "      <td>0</td>\n",
       "    </tr>\n",
       "    <tr>\n",
       "      <th>4</th>\n",
       "      <td>F</td>\n",
       "      <td>40</td>\n",
       "      <td>155</td>\n",
       "      <td>60</td>\n",
       "      <td>86.0</td>\n",
       "      <td>1.0</td>\n",
       "      <td>1.0</td>\n",
       "      <td>1.0</td>\n",
       "      <td>1.0</td>\n",
       "      <td>120.0</td>\n",
       "      <td>...</td>\n",
       "      <td>107.0</td>\n",
       "      <td>12.5</td>\n",
       "      <td>1.0</td>\n",
       "      <td>0.6</td>\n",
       "      <td>16.0</td>\n",
       "      <td>14.0</td>\n",
       "      <td>22.0</td>\n",
       "      <td>0</td>\n",
       "      <td>N</td>\n",
       "      <td>0</td>\n",
       "    </tr>\n",
       "    <tr>\n",
       "      <th>...</th>\n",
       "      <td>...</td>\n",
       "      <td>...</td>\n",
       "      <td>...</td>\n",
       "      <td>...</td>\n",
       "      <td>...</td>\n",
       "      <td>...</td>\n",
       "      <td>...</td>\n",
       "      <td>...</td>\n",
       "      <td>...</td>\n",
       "      <td>...</td>\n",
       "      <td>...</td>\n",
       "      <td>...</td>\n",
       "      <td>...</td>\n",
       "      <td>...</td>\n",
       "      <td>...</td>\n",
       "      <td>...</td>\n",
       "      <td>...</td>\n",
       "      <td>...</td>\n",
       "      <td>...</td>\n",
       "      <td>...</td>\n",
       "      <td>...</td>\n",
       "    </tr>\n",
       "    <tr>\n",
       "      <th>55676</th>\n",
       "      <td>F</td>\n",
       "      <td>40</td>\n",
       "      <td>170</td>\n",
       "      <td>65</td>\n",
       "      <td>75.0</td>\n",
       "      <td>0.9</td>\n",
       "      <td>0.9</td>\n",
       "      <td>1.0</td>\n",
       "      <td>1.0</td>\n",
       "      <td>110.0</td>\n",
       "      <td>...</td>\n",
       "      <td>118.0</td>\n",
       "      <td>12.3</td>\n",
       "      <td>1.0</td>\n",
       "      <td>0.6</td>\n",
       "      <td>14.0</td>\n",
       "      <td>7.0</td>\n",
       "      <td>10.0</td>\n",
       "      <td>1</td>\n",
       "      <td>Y</td>\n",
       "      <td>0</td>\n",
       "    </tr>\n",
       "    <tr>\n",
       "      <th>55681</th>\n",
       "      <td>F</td>\n",
       "      <td>45</td>\n",
       "      <td>160</td>\n",
       "      <td>50</td>\n",
       "      <td>70.0</td>\n",
       "      <td>1.2</td>\n",
       "      <td>1.2</td>\n",
       "      <td>1.0</td>\n",
       "      <td>1.0</td>\n",
       "      <td>101.0</td>\n",
       "      <td>...</td>\n",
       "      <td>79.0</td>\n",
       "      <td>14.0</td>\n",
       "      <td>1.0</td>\n",
       "      <td>0.9</td>\n",
       "      <td>20.0</td>\n",
       "      <td>12.0</td>\n",
       "      <td>14.0</td>\n",
       "      <td>0</td>\n",
       "      <td>Y</td>\n",
       "      <td>0</td>\n",
       "    </tr>\n",
       "    <tr>\n",
       "      <th>55683</th>\n",
       "      <td>F</td>\n",
       "      <td>55</td>\n",
       "      <td>160</td>\n",
       "      <td>50</td>\n",
       "      <td>68.5</td>\n",
       "      <td>1.0</td>\n",
       "      <td>1.2</td>\n",
       "      <td>1.0</td>\n",
       "      <td>1.0</td>\n",
       "      <td>117.0</td>\n",
       "      <td>...</td>\n",
       "      <td>63.0</td>\n",
       "      <td>12.4</td>\n",
       "      <td>1.0</td>\n",
       "      <td>0.5</td>\n",
       "      <td>17.0</td>\n",
       "      <td>11.0</td>\n",
       "      <td>12.0</td>\n",
       "      <td>0</td>\n",
       "      <td>N</td>\n",
       "      <td>0</td>\n",
       "    </tr>\n",
       "    <tr>\n",
       "      <th>55684</th>\n",
       "      <td>M</td>\n",
       "      <td>60</td>\n",
       "      <td>165</td>\n",
       "      <td>60</td>\n",
       "      <td>78.0</td>\n",
       "      <td>0.8</td>\n",
       "      <td>1.0</td>\n",
       "      <td>1.0</td>\n",
       "      <td>1.0</td>\n",
       "      <td>133.0</td>\n",
       "      <td>...</td>\n",
       "      <td>146.0</td>\n",
       "      <td>14.4</td>\n",
       "      <td>1.0</td>\n",
       "      <td>0.7</td>\n",
       "      <td>20.0</td>\n",
       "      <td>19.0</td>\n",
       "      <td>18.0</td>\n",
       "      <td>0</td>\n",
       "      <td>N</td>\n",
       "      <td>0</td>\n",
       "    </tr>\n",
       "    <tr>\n",
       "      <th>55691</th>\n",
       "      <td>M</td>\n",
       "      <td>55</td>\n",
       "      <td>160</td>\n",
       "      <td>65</td>\n",
       "      <td>85.0</td>\n",
       "      <td>0.9</td>\n",
       "      <td>0.7</td>\n",
       "      <td>1.0</td>\n",
       "      <td>1.0</td>\n",
       "      <td>124.0</td>\n",
       "      <td>...</td>\n",
       "      <td>150.0</td>\n",
       "      <td>15.0</td>\n",
       "      <td>1.0</td>\n",
       "      <td>0.8</td>\n",
       "      <td>26.0</td>\n",
       "      <td>29.0</td>\n",
       "      <td>41.0</td>\n",
       "      <td>0</td>\n",
       "      <td>Y</td>\n",
       "      <td>1</td>\n",
       "    </tr>\n",
       "  </tbody>\n",
       "</table>\n",
       "<p>50673 rows × 25 columns</p>\n",
       "</div>"
      ],
      "text/plain": [
       "      gender  age  height(cm)  weight(kg)  waist(cm)  eyesight(left)  \\\n",
       "ID                                                                     \n",
       "0          F   40         155          60       81.3             1.2   \n",
       "1          F   40         160          60       81.0             0.8   \n",
       "2          M   55         170          60       80.0             0.8   \n",
       "3          M   40         165          70       88.0             1.5   \n",
       "4          F   40         155          60       86.0             1.0   \n",
       "...      ...  ...         ...         ...        ...             ...   \n",
       "55676      F   40         170          65       75.0             0.9   \n",
       "55681      F   45         160          50       70.0             1.2   \n",
       "55683      F   55         160          50       68.5             1.0   \n",
       "55684      M   60         165          60       78.0             0.8   \n",
       "55691      M   55         160          65       85.0             0.9   \n",
       "\n",
       "       eyesight(right)  hearing(left)  hearing(right)  systolic  ...    LDL  \\\n",
       "ID                                                               ...          \n",
       "0                  1.0            1.0             1.0     114.0  ...  126.0   \n",
       "1                  0.6            1.0             1.0     119.0  ...  127.0   \n",
       "2                  0.8            1.0             1.0     138.0  ...  151.0   \n",
       "3                  1.5            1.0             1.0     100.0  ...  226.0   \n",
       "4                  1.0            1.0             1.0     120.0  ...  107.0   \n",
       "...                ...            ...             ...       ...  ...    ...   \n",
       "55676              0.9            1.0             1.0     110.0  ...  118.0   \n",
       "55681              1.2            1.0             1.0     101.0  ...   79.0   \n",
       "55683              1.2            1.0             1.0     117.0  ...   63.0   \n",
       "55684              1.0            1.0             1.0     133.0  ...  146.0   \n",
       "55691              0.7            1.0             1.0     124.0  ...  150.0   \n",
       "\n",
       "       hemoglobin  Urine protein  serum creatinine   AST   ALT   Gtp  \\\n",
       "ID                                                                     \n",
       "0            12.9            1.0               0.7  18.0  19.0  27.0   \n",
       "1            12.7            1.0               0.6  22.0  19.0  18.0   \n",
       "2            15.8            1.0               1.0  21.0  16.0  22.0   \n",
       "3            14.7            1.0               1.0  19.0  26.0  18.0   \n",
       "4            12.5            1.0               0.6  16.0  14.0  22.0   \n",
       "...           ...            ...               ...   ...   ...   ...   \n",
       "55676        12.3            1.0               0.6  14.0   7.0  10.0   \n",
       "55681        14.0            1.0               0.9  20.0  12.0  14.0   \n",
       "55683        12.4            1.0               0.5  17.0  11.0  12.0   \n",
       "55684        14.4            1.0               0.7  20.0  19.0  18.0   \n",
       "55691        15.0            1.0               0.8  26.0  29.0  41.0   \n",
       "\n",
       "       dental caries  tartar  smoking  \n",
       "ID                                     \n",
       "0                  0       Y        0  \n",
       "1                  0       Y        0  \n",
       "2                  0       N        1  \n",
       "3                  0       Y        0  \n",
       "4                  0       N        0  \n",
       "...              ...     ...      ...  \n",
       "55676              1       Y        0  \n",
       "55681              0       Y        0  \n",
       "55683              0       N        0  \n",
       "55684              0       N        0  \n",
       "55691              0       Y        1  \n",
       "\n",
       "[50673 rows x 25 columns]"
      ]
     },
     "execution_count": 12,
     "metadata": {},
     "output_type": "execute_result"
    }
   ],
   "source": [
    "dataset_drop"
   ]
  },
  {
   "cell_type": "markdown",
   "id": "257621b1",
   "metadata": {},
   "source": [
    "## 머신러닝 분석\n",
    "\n"
   ]
  },
  {
   "cell_type": "code",
   "execution_count": 13,
   "id": "9c065b5d",
   "metadata": {},
   "outputs": [
    {
     "data": {
      "text/plain": [
       "Index(['gender', 'age', 'height(cm)', 'weight(kg)', 'waist(cm)',\n",
       "       'eyesight(left)', 'eyesight(right)', 'hearing(left)', 'hearing(right)',\n",
       "       'systolic', 'relaxation', 'fasting blood sugar', 'Cholesterol',\n",
       "       'triglyceride', 'HDL', 'LDL', 'hemoglobin', 'Urine protein',\n",
       "       'serum creatinine', 'AST', 'ALT', 'Gtp', 'dental caries', 'tartar',\n",
       "       'smoking'],\n",
       "      dtype='object')"
      ]
     },
     "execution_count": 13,
     "metadata": {},
     "output_type": "execute_result"
    }
   ],
   "source": [
    "dataset_drop.columns"
   ]
  },
  {
   "cell_type": "code",
   "execution_count": 14,
   "id": "bfcc7c7e",
   "metadata": {},
   "outputs": [
    {
     "data": {
      "text/plain": [
       "(50673, 25)"
      ]
     },
     "execution_count": 14,
     "metadata": {},
     "output_type": "execute_result"
    }
   ],
   "source": [
    "dataset_drop.shape"
   ]
  },
  {
   "cell_type": "code",
   "execution_count": 15,
   "id": "35d86a85",
   "metadata": {},
   "outputs": [
    {
     "name": "stdout",
     "output_type": "stream",
     "text": [
      "<class 'pandas.core.frame.DataFrame'>\n",
      "Int64Index: 50673 entries, 0 to 55691\n",
      "Data columns (total 25 columns):\n",
      " #   Column               Non-Null Count  Dtype  \n",
      "---  ------               --------------  -----  \n",
      " 0   gender               50673 non-null  object \n",
      " 1   age                  50673 non-null  int64  \n",
      " 2   height(cm)           50673 non-null  int64  \n",
      " 3   weight(kg)           50673 non-null  int64  \n",
      " 4   waist(cm)            50673 non-null  float64\n",
      " 5   eyesight(left)       50673 non-null  float64\n",
      " 6   eyesight(right)      50673 non-null  float64\n",
      " 7   hearing(left)        50673 non-null  float64\n",
      " 8   hearing(right)       50673 non-null  float64\n",
      " 9   systolic             50673 non-null  float64\n",
      " 10  relaxation           50673 non-null  float64\n",
      " 11  fasting blood sugar  50673 non-null  float64\n",
      " 12  Cholesterol          50673 non-null  float64\n",
      " 13  triglyceride         50673 non-null  float64\n",
      " 14  HDL                  50673 non-null  float64\n",
      " 15  LDL                  50673 non-null  float64\n",
      " 16  hemoglobin           50673 non-null  float64\n",
      " 17  Urine protein        50673 non-null  float64\n",
      " 18  serum creatinine     50673 non-null  float64\n",
      " 19  AST                  50673 non-null  float64\n",
      " 20  ALT                  50673 non-null  float64\n",
      " 21  Gtp                  50673 non-null  float64\n",
      " 22  dental caries        50673 non-null  int64  \n",
      " 23  tartar               50673 non-null  object \n",
      " 24  smoking              50673 non-null  int64  \n",
      "dtypes: float64(18), int64(5), object(2)\n",
      "memory usage: 10.1+ MB\n"
     ]
    }
   ],
   "source": [
    "dataset_drop.info()"
   ]
  },
  {
   "cell_type": "markdown",
   "id": "b470eca4",
   "metadata": {},
   "source": [
    "### 3. 데이터 로드 - X, y 분리"
   ]
  },
  {
   "cell_type": "code",
   "execution_count": 16,
   "id": "59d4243b",
   "metadata": {},
   "outputs": [],
   "source": [
    "def data_load(df):\n",
    "    y = df['smoking']\n",
    "    X = df.drop(labels ='smoking', axis=1)\n",
    "    return X,y"
   ]
  },
  {
   "cell_type": "code",
   "execution_count": 17,
   "id": "30ddcbf5",
   "metadata": {},
   "outputs": [
    {
     "data": {
      "text/plain": [
       "((50673, 24), (50673,))"
      ]
     },
     "execution_count": 17,
     "metadata": {},
     "output_type": "execute_result"
    }
   ],
   "source": [
    "X,y = data_load(dataset_drop)\n",
    "X.shape,y.shape"
   ]
  },
  {
   "cell_type": "markdown",
   "id": "eb6e6dd1",
   "metadata": {},
   "source": [
    "### 4. 데이터 전처리\n",
    "##### 1. 범주형 데이터 전처리\n",
    "- 범주형 gender, tartar\n",
    "\n",
    "##### 2. 연속형 데이터 전처리\n",
    "- not Scaling => 트리 모델 "
   ]
  },
  {
   "cell_type": "code",
   "execution_count": 18,
   "id": "9b0134d7",
   "metadata": {},
   "outputs": [],
   "source": [
    "from sklearn.preprocessing import LabelEncoder\n",
    "\n",
    "encoder = LabelEncoder()"
   ]
  },
  {
   "cell_type": "code",
   "execution_count": 19,
   "id": "a8cff4c9",
   "metadata": {},
   "outputs": [
    {
     "data": {
      "text/plain": [
       "(array([0, 1]), array([19776, 30897], dtype=int64))"
      ]
     },
     "execution_count": 19,
     "metadata": {},
     "output_type": "execute_result"
    }
   ],
   "source": [
    "X['gender'] = encoder.fit_transform(X['gender'])\n",
    "np.unique(X['gender'], return_counts=True)"
   ]
  },
  {
   "cell_type": "code",
   "execution_count": 20,
   "id": "030bc061",
   "metadata": {},
   "outputs": [
    {
     "data": {
      "text/plain": [
       "(array([0, 1]), array([22730, 27943], dtype=int64))"
      ]
     },
     "execution_count": 20,
     "metadata": {},
     "output_type": "execute_result"
    }
   ],
   "source": [
    "X['tartar'] = encoder.fit_transform(X['tartar'])\n",
    "np.unique(X['tartar'], return_counts=True)"
   ]
  },
  {
   "cell_type": "code",
   "execution_count": 21,
   "id": "07a3907e",
   "metadata": {
    "scrolled": true
   },
   "outputs": [
    {
     "name": "stdout",
     "output_type": "stream",
     "text": [
      "<class 'pandas.core.frame.DataFrame'>\n",
      "Int64Index: 50673 entries, 0 to 55691\n",
      "Data columns (total 24 columns):\n",
      " #   Column               Non-Null Count  Dtype  \n",
      "---  ------               --------------  -----  \n",
      " 0   gender               50673 non-null  int32  \n",
      " 1   age                  50673 non-null  int64  \n",
      " 2   height(cm)           50673 non-null  int64  \n",
      " 3   weight(kg)           50673 non-null  int64  \n",
      " 4   waist(cm)            50673 non-null  float64\n",
      " 5   eyesight(left)       50673 non-null  float64\n",
      " 6   eyesight(right)      50673 non-null  float64\n",
      " 7   hearing(left)        50673 non-null  float64\n",
      " 8   hearing(right)       50673 non-null  float64\n",
      " 9   systolic             50673 non-null  float64\n",
      " 10  relaxation           50673 non-null  float64\n",
      " 11  fasting blood sugar  50673 non-null  float64\n",
      " 12  Cholesterol          50673 non-null  float64\n",
      " 13  triglyceride         50673 non-null  float64\n",
      " 14  HDL                  50673 non-null  float64\n",
      " 15  LDL                  50673 non-null  float64\n",
      " 16  hemoglobin           50673 non-null  float64\n",
      " 17  Urine protein        50673 non-null  float64\n",
      " 18  serum creatinine     50673 non-null  float64\n",
      " 19  AST                  50673 non-null  float64\n",
      " 20  ALT                  50673 non-null  float64\n",
      " 21  Gtp                  50673 non-null  float64\n",
      " 22  dental caries        50673 non-null  int64  \n",
      " 23  tartar               50673 non-null  int32  \n",
      "dtypes: float64(18), int32(2), int64(4)\n",
      "memory usage: 9.3 MB\n"
     ]
    }
   ],
   "source": [
    "X.info()"
   ]
  },
  {
   "cell_type": "markdown",
   "id": "47ae1c30",
   "metadata": {},
   "source": [
    "### 5. 데이터 셋 분리"
   ]
  },
  {
   "cell_type": "code",
   "execution_count": 22,
   "id": "9767cc0b",
   "metadata": {},
   "outputs": [
    {
     "data": {
      "text/plain": [
       "((30403, 24), (10135, 24), (10135, 24), (30403,), (10135,), (10135,))"
      ]
     },
     "execution_count": 22,
     "metadata": {},
     "output_type": "execute_result"
    }
   ],
   "source": [
    "from sklearn.model_selection import train_test_split\n",
    "\n",
    "X_train, X_test, y_train, y_test = train_test_split(X, y, test_size = 0.2, stratify=y, random_state=0)\n",
    "\n",
    "X_train, X_val, y_train, y_val = train_test_split(X_train, y_train, test_size=0.25, stratify=y_train, random_state=0)\n",
    "\n",
    "\n",
    "X_train.shape, X_val.shape, X_test.shape, y_train.shape, y_val.shape, y_test.shape"
   ]
  },
  {
   "cell_type": "markdown",
   "id": "d5894774",
   "metadata": {},
   "source": [
    "### 6. 분류 평가 지표 함수 생성"
   ]
  },
  {
   "cell_type": "code",
   "execution_count": 23,
   "id": "74587b16",
   "metadata": {},
   "outputs": [],
   "source": [
    "# 평가\n",
    "\n",
    "from sklearn.metrics import confusion_matrix, ConfusionMatrixDisplay, accuracy_score, recall_score, precision_score, f1_score\n",
    "from sklearn.metrics import roc_auc_score, RocCurveDisplay, roc_curve\n",
    "from sklearn.metrics import precision_recall_curve, average_precision_score, PrecisionRecallDisplay\n",
    "\n",
    "\n",
    "def print_confusion_matrix(y, pred, title=None):\n",
    "    \"\"\"\n",
    "    혼동행렬\n",
    "    결과의 0번축: 실제 class, 1번 축: 예측 class\n",
    "    \"\"\"    \n",
    "    print('='*50)\n",
    "    if title:\n",
    "        print(title)\n",
    "        print('='*50)\n",
    "    print(confusion_matrix(y, pred))\n",
    "    print('='*50)\n",
    "    \n",
    "def print_classification_metrics(y, pred, title=None):\n",
    "    \"\"\"\n",
    "    출력할 평가지표: accuracy, recall, precision, f1 score\n",
    "    \"\"\"\n",
    "    print('='*50)\n",
    "    if title:\n",
    "        print(title)\n",
    "        print('='*50)\n",
    "    print('정확도(Accuracy):', accuracy_score(y, pred))\n",
    "    print('재현율(Recall):', recall_score(y, pred))\n",
    "    print('정밀도(Precision):', precision_score(y,pred))\n",
    "    print('F1 점수(F1 Score)', f1_score(y, pred))\n",
    "    print('='*50)\n",
    "\n",
    "    \n",
    "    \n",
    "def display_roc_curve(y, pred_proba, title=None):\n",
    "    \"\"\"\n",
    "    ROC curve, sorce\n",
    "    [parameter]\n",
    "    \"\"\"\n",
    "    print('='*50)\n",
    "    print('roc-auc score')\n",
    "    print('='*50)\n",
    "    roc_auc = roc_auc_score(y,pred_proba)\n",
    "    print(roc_auc)\n",
    "    print('='*50)\n",
    "    fpr, tpr, _ = roc_curve(y, pred_proba)\n",
    "    disp = RocCurveDisplay(fpr=fpr, tpr=tpr, roc_auc=roc_auc)\n",
    "    disp.plot()\n",
    "    \n",
    "    if title:\n",
    "        plt.title(title)\n",
    "    plt.show()\n",
    "\n",
    "\n",
    "def display_precision_recall_curve(y, pred_proba, title=None):\n",
    "    \"\"\"\n",
    "    P-R curve, score => 안 해도 될 것 같음.\n",
    "    \"\"\"\n",
    "    print('='*50)\n",
    "    print('ap score')\n",
    "    print('='*50)\n",
    "    ap_score = average_precision_score(y, pred_proba)\n",
    "    print(ap_score)\n",
    "    print('='*50)\n",
    "    \n",
    "    precision, recall, _ = precision_recall_curve(y, pred_proba)\n",
    "    disp = PrecisionRecallDisplay(precision, recall, average_precision=ap_score)\n",
    "    disp.plot()\n",
    "    if title:\n",
    "        plt.title(title)\n",
    "    plt.show()\n",
    "\n"
   ]
  },
  {
   "cell_type": "markdown",
   "id": "70d7cd89",
   "metadata": {},
   "source": [
    "## 7.1 램덤포레스트 모델"
   ]
  },
  {
   "cell_type": "markdown",
   "id": "c23694bc",
   "metadata": {},
   "source": [
    "#### 1. "
   ]
  },
  {
   "cell_type": "code",
   "execution_count": 24,
   "id": "c074f044",
   "metadata": {},
   "outputs": [
    {
     "data": {
      "text/html": [
       "<style>#sk-container-id-1 {color: black;background-color: white;}#sk-container-id-1 pre{padding: 0;}#sk-container-id-1 div.sk-toggleable {background-color: white;}#sk-container-id-1 label.sk-toggleable__label {cursor: pointer;display: block;width: 100%;margin-bottom: 0;padding: 0.3em;box-sizing: border-box;text-align: center;}#sk-container-id-1 label.sk-toggleable__label-arrow:before {content: \"▸\";float: left;margin-right: 0.25em;color: #696969;}#sk-container-id-1 label.sk-toggleable__label-arrow:hover:before {color: black;}#sk-container-id-1 div.sk-estimator:hover label.sk-toggleable__label-arrow:before {color: black;}#sk-container-id-1 div.sk-toggleable__content {max-height: 0;max-width: 0;overflow: hidden;text-align: left;background-color: #f0f8ff;}#sk-container-id-1 div.sk-toggleable__content pre {margin: 0.2em;color: black;border-radius: 0.25em;background-color: #f0f8ff;}#sk-container-id-1 input.sk-toggleable__control:checked~div.sk-toggleable__content {max-height: 200px;max-width: 100%;overflow: auto;}#sk-container-id-1 input.sk-toggleable__control:checked~label.sk-toggleable__label-arrow:before {content: \"▾\";}#sk-container-id-1 div.sk-estimator input.sk-toggleable__control:checked~label.sk-toggleable__label {background-color: #d4ebff;}#sk-container-id-1 div.sk-label input.sk-toggleable__control:checked~label.sk-toggleable__label {background-color: #d4ebff;}#sk-container-id-1 input.sk-hidden--visually {border: 0;clip: rect(1px 1px 1px 1px);clip: rect(1px, 1px, 1px, 1px);height: 1px;margin: -1px;overflow: hidden;padding: 0;position: absolute;width: 1px;}#sk-container-id-1 div.sk-estimator {font-family: monospace;background-color: #f0f8ff;border: 1px dotted black;border-radius: 0.25em;box-sizing: border-box;margin-bottom: 0.5em;}#sk-container-id-1 div.sk-estimator:hover {background-color: #d4ebff;}#sk-container-id-1 div.sk-parallel-item::after {content: \"\";width: 100%;border-bottom: 1px solid gray;flex-grow: 1;}#sk-container-id-1 div.sk-label:hover label.sk-toggleable__label {background-color: #d4ebff;}#sk-container-id-1 div.sk-serial::before {content: \"\";position: absolute;border-left: 1px solid gray;box-sizing: border-box;top: 0;bottom: 0;left: 50%;z-index: 0;}#sk-container-id-1 div.sk-serial {display: flex;flex-direction: column;align-items: center;background-color: white;padding-right: 0.2em;padding-left: 0.2em;position: relative;}#sk-container-id-1 div.sk-item {position: relative;z-index: 1;}#sk-container-id-1 div.sk-parallel {display: flex;align-items: stretch;justify-content: center;background-color: white;position: relative;}#sk-container-id-1 div.sk-item::before, #sk-container-id-1 div.sk-parallel-item::before {content: \"\";position: absolute;border-left: 1px solid gray;box-sizing: border-box;top: 0;bottom: 0;left: 50%;z-index: -1;}#sk-container-id-1 div.sk-parallel-item {display: flex;flex-direction: column;z-index: 1;position: relative;background-color: white;}#sk-container-id-1 div.sk-parallel-item:first-child::after {align-self: flex-end;width: 50%;}#sk-container-id-1 div.sk-parallel-item:last-child::after {align-self: flex-start;width: 50%;}#sk-container-id-1 div.sk-parallel-item:only-child::after {width: 0;}#sk-container-id-1 div.sk-dashed-wrapped {border: 1px dashed gray;margin: 0 0.4em 0.5em 0.4em;box-sizing: border-box;padding-bottom: 0.4em;background-color: white;}#sk-container-id-1 div.sk-label label {font-family: monospace;font-weight: bold;display: inline-block;line-height: 1.2em;}#sk-container-id-1 div.sk-label-container {text-align: center;}#sk-container-id-1 div.sk-container {/* jupyter's `normalize.less` sets `[hidden] { display: none; }` but bootstrap.min.css set `[hidden] { display: none !important; }` so we also need the `!important` here to be able to override the default hidden behavior on the sphinx rendered scikit-learn.org. See: https://github.com/scikit-learn/scikit-learn/issues/21755 */display: inline-block !important;position: relative;}#sk-container-id-1 div.sk-text-repr-fallback {display: none;}</style><div id=\"sk-container-id-1\" class=\"sk-top-container\"><div class=\"sk-text-repr-fallback\"><pre>RandomForestClassifier(max_depth=20, n_estimators=700, n_jobs=-1,\n",
       "                       random_state=0)</pre><b>In a Jupyter environment, please rerun this cell to show the HTML representation or trust the notebook. <br />On GitHub, the HTML representation is unable to render, please try loading this page with nbviewer.org.</b></div><div class=\"sk-container\" hidden><div class=\"sk-item\"><div class=\"sk-estimator sk-toggleable\"><input class=\"sk-toggleable__control sk-hidden--visually\" id=\"sk-estimator-id-1\" type=\"checkbox\" checked><label for=\"sk-estimator-id-1\" class=\"sk-toggleable__label sk-toggleable__label-arrow\">RandomForestClassifier</label><div class=\"sk-toggleable__content\"><pre>RandomForestClassifier(max_depth=20, n_estimators=700, n_jobs=-1,\n",
       "                       random_state=0)</pre></div></div></div></div></div>"
      ],
      "text/plain": [
       "RandomForestClassifier(max_depth=20, n_estimators=700, n_jobs=-1,\n",
       "                       random_state=0)"
      ]
     },
     "execution_count": 24,
     "metadata": {},
     "output_type": "execute_result"
    }
   ],
   "source": [
    "from sklearn.ensemble import RandomForestClassifier\n",
    "\n",
    "rf = RandomForestClassifier(n_estimators=700, \n",
    "                            max_depth=20,\n",
    "                            random_state=0,\n",
    "                            n_jobs=-1)\n",
    "\n",
    "rf.fit(X_train, y_train)"
   ]
  },
  {
   "cell_type": "code",
   "execution_count": 25,
   "id": "e655ce1b",
   "metadata": {},
   "outputs": [],
   "source": [
    "# 예측\n",
    "pred_train_rf = rf.predict(X_train)\n",
    "pred_val_rf = rf.predict(X_val)\n",
    "pred_test_rf = rf.predict(X_test)\n",
    "\n",
    "proba_train_rf = rf.predict_proba(X_train)[:,1]\n",
    "proba_val_rf = rf.predict_proba(X_val)[:,1]\n",
    "proba_test_rf = rf.predict_proba(X_test)[:,1]"
   ]
  },
  {
   "cell_type": "code",
   "execution_count": 26,
   "id": "b09fb00f",
   "metadata": {
    "scrolled": true
   },
   "outputs": [
    {
     "name": "stdout",
     "output_type": "stream",
     "text": [
      "==================================================\n",
      "rf모델 train 데이터 평가지표\n",
      "==================================================\n",
      "정확도(Accuracy): 0.9985198829062921\n",
      "재현율(Recall): 0.9963972736124634\n",
      "정밀도(Precision): 0.9992188262864955\n",
      "F1 점수(F1 Score) 0.9978060552874067\n",
      "==================================================\n",
      "==================================================\n",
      "rf 모델 val 데이터 평가지표\n",
      "==================================================\n",
      "정확도(Accuracy): 0.8225949679329058\n",
      "재현율(Recall): 0.7414548641542507\n",
      "정밀도(Precision): 0.7354390031874819\n",
      "F1 점수(F1 Score) 0.7384346814082048\n",
      "==================================================\n",
      "==================================================\n",
      "rf모델 test 데이터 평가지표\n",
      "==================================================\n",
      "정확도(Accuracy): 0.82081894425259\n",
      "재현율(Recall): 0.7403621495327103\n",
      "정밀도(Precision): 0.7322357019064125\n",
      "F1 점수(F1 Score) 0.7362765030496661\n",
      "==================================================\n",
      "==================================================\n",
      "roc-auc score\n",
      "==================================================\n",
      "0.9036908357089409\n",
      "==================================================\n"
     ]
    },
    {
     "data": {
      "image/png": "[encoded data removed]",
      "text/plain": [
       "<Figure size 432x288 with 1 Axes>"
      ]
     },
     "metadata": {
      "needs_background": "light"
     },
     "output_type": "display_data"
    },
    {
     "name": "stdout",
     "output_type": "stream",
     "text": [
      "==================================================\n",
      "roc-auc score\n",
      "==================================================\n",
      "0.9048142643476953\n",
      "==================================================\n"
     ]
    },
    {
     "data": {
      "image/png": "[encoded data removed]",
      "text/plain": [
       "<Figure size 432x288 with 1 Axes>"
      ]
     },
     "metadata": {
      "needs_background": "light"
     },
     "output_type": "display_data"
    }
   ],
   "source": [
    "print_classification_metrics(y_train, pred_train_rf, title='rf모델 train 데이터 평가지표')\n",
    "print_classification_metrics(y_val, pred_val_rf, title='rf 모델 val 데이터 평가지표')\n",
    "print_classification_metrics(y_test, pred_test_rf, title='rf모델 test 데이터 평가지표')\n",
    "\n",
    "display_roc_curve(y_val, proba_val_rf, title='val_roc curve, score')\n",
    "display_roc_curve(y_test, proba_test_rf, title='test_roc curve, score')"
   ]
  },
  {
   "cell_type": "code",
   "execution_count": 35,
   "id": "6f4017cb",
   "metadata": {},
   "outputs": [
    {
     "data": {
      "image/png": "[encoded data removed]",
      "text/plain": [
       "<Figure size 576x432 with 1 Axes>"
      ]
     },
     "metadata": {
      "needs_background": "light"
     },
     "output_type": "display_data"
    }
   ],
   "source": [
    "# feature 중요도\n",
    "ftr_importances_values = rf.feature_importances_\n",
    "ftr_importances = pd.Series(ftr_importances_values, index = X_train.columns)\n",
    "ftr = ftr_importances.sort_values(ascending=False)\n",
    "\n",
    "plt.figure(figsize=(8,6))\n",
    "plt.title('rf - Feature Importances', fontsize = 15)\n",
    "sns.barplot(x=ftr, y=ftr.index, palette=\"Blues\")\n",
    "plt.show()"
   ]
  },
  {
   "cell_type": "markdown",
   "id": "f426568a",
   "metadata": {},
   "source": [
    "## 7.2 XGBoost(Extra Gradient Boost) 모델"
   ]
  },
  {
   "cell_type": "markdown",
   "id": "ce686d4a",
   "metadata": {},
   "source": [
    "#### 1. "
   ]
  },
  {
   "cell_type": "code",
   "execution_count": 28,
   "id": "a43826be",
   "metadata": {},
   "outputs": [
    {
     "data": {
      "text/html": [
       "<style>#sk-container-id-2 {color: black;background-color: white;}#sk-container-id-2 pre{padding: 0;}#sk-container-id-2 div.sk-toggleable {background-color: white;}#sk-container-id-2 label.sk-toggleable__label {cursor: pointer;display: block;width: 100%;margin-bottom: 0;padding: 0.3em;box-sizing: border-box;text-align: center;}#sk-container-id-2 label.sk-toggleable__label-arrow:before {content: \"▸\";float: left;margin-right: 0.25em;color: #696969;}#sk-container-id-2 label.sk-toggleable__label-arrow:hover:before {color: black;}#sk-container-id-2 div.sk-estimator:hover label.sk-toggleable__label-arrow:before {color: black;}#sk-container-id-2 div.sk-toggleable__content {max-height: 0;max-width: 0;overflow: hidden;text-align: left;background-color: #f0f8ff;}#sk-container-id-2 div.sk-toggleable__content pre {margin: 0.2em;color: black;border-radius: 0.25em;background-color: #f0f8ff;}#sk-container-id-2 input.sk-toggleable__control:checked~div.sk-toggleable__content {max-height: 200px;max-width: 100%;overflow: auto;}#sk-container-id-2 input.sk-toggleable__control:checked~label.sk-toggleable__label-arrow:before {content: \"▾\";}#sk-container-id-2 div.sk-estimator input.sk-toggleable__control:checked~label.sk-toggleable__label {background-color: #d4ebff;}#sk-container-id-2 div.sk-label input.sk-toggleable__control:checked~label.sk-toggleable__label {background-color: #d4ebff;}#sk-container-id-2 input.sk-hidden--visually {border: 0;clip: rect(1px 1px 1px 1px);clip: rect(1px, 1px, 1px, 1px);height: 1px;margin: -1px;overflow: hidden;padding: 0;position: absolute;width: 1px;}#sk-container-id-2 div.sk-estimator {font-family: monospace;background-color: #f0f8ff;border: 1px dotted black;border-radius: 0.25em;box-sizing: border-box;margin-bottom: 0.5em;}#sk-container-id-2 div.sk-estimator:hover {background-color: #d4ebff;}#sk-container-id-2 div.sk-parallel-item::after {content: \"\";width: 100%;border-bottom: 1px solid gray;flex-grow: 1;}#sk-container-id-2 div.sk-label:hover label.sk-toggleable__label {background-color: #d4ebff;}#sk-container-id-2 div.sk-serial::before {content: \"\";position: absolute;border-left: 1px solid gray;box-sizing: border-box;top: 0;bottom: 0;left: 50%;z-index: 0;}#sk-container-id-2 div.sk-serial {display: flex;flex-direction: column;align-items: center;background-color: white;padding-right: 0.2em;padding-left: 0.2em;position: relative;}#sk-container-id-2 div.sk-item {position: relative;z-index: 1;}#sk-container-id-2 div.sk-parallel {display: flex;align-items: stretch;justify-content: center;background-color: white;position: relative;}#sk-container-id-2 div.sk-item::before, #sk-container-id-2 div.sk-parallel-item::before {content: \"\";position: absolute;border-left: 1px solid gray;box-sizing: border-box;top: 0;bottom: 0;left: 50%;z-index: -1;}#sk-container-id-2 div.sk-parallel-item {display: flex;flex-direction: column;z-index: 1;position: relative;background-color: white;}#sk-container-id-2 div.sk-parallel-item:first-child::after {align-self: flex-end;width: 50%;}#sk-container-id-2 div.sk-parallel-item:last-child::after {align-self: flex-start;width: 50%;}#sk-container-id-2 div.sk-parallel-item:only-child::after {width: 0;}#sk-container-id-2 div.sk-dashed-wrapped {border: 1px dashed gray;margin: 0 0.4em 0.5em 0.4em;box-sizing: border-box;padding-bottom: 0.4em;background-color: white;}#sk-container-id-2 div.sk-label label {font-family: monospace;font-weight: bold;display: inline-block;line-height: 1.2em;}#sk-container-id-2 div.sk-label-container {text-align: center;}#sk-container-id-2 div.sk-container {/* jupyter's `normalize.less` sets `[hidden] { display: none; }` but bootstrap.min.css set `[hidden] { display: none !important; }` so we also need the `!important` here to be able to override the default hidden behavior on the sphinx rendered scikit-learn.org. See: https://github.com/scikit-learn/scikit-learn/issues/21755 */display: inline-block !important;position: relative;}#sk-container-id-2 div.sk-text-repr-fallback {display: none;}</style><div id=\"sk-container-id-2\" class=\"sk-top-container\"><div class=\"sk-text-repr-fallback\"><pre>XGBClassifier(base_score=0.5, booster=&#x27;gbtree&#x27;, callbacks=None,\n",
       "              colsample_bylevel=1, colsample_bynode=1, colsample_bytree=1,\n",
       "              early_stopping_rounds=None, enable_categorical=False,\n",
       "              eval_metric=None, gamma=0, gpu_id=-1, grow_policy=&#x27;depthwise&#x27;,\n",
       "              importance_type=None, interaction_constraints=&#x27;&#x27;,\n",
       "              learning_rate=0.07, max_bin=256, max_cat_to_onehot=4,\n",
       "              max_delta_step=0, max_depth=13, max_leaves=0, min_child_weight=1,\n",
       "              missing=nan, monotone_constraints=&#x27;()&#x27;, n_estimators=200,\n",
       "              n_jobs=0, num_parallel_tree=1, predictor=&#x27;auto&#x27;, random_state=0,\n",
       "              reg_alpha=0, reg_lambda=1, ...)</pre><b>In a Jupyter environment, please rerun this cell to show the HTML representation or trust the notebook. <br />On GitHub, the HTML representation is unable to render, please try loading this page with nbviewer.org.</b></div><div class=\"sk-container\" hidden><div class=\"sk-item\"><div class=\"sk-estimator sk-toggleable\"><input class=\"sk-toggleable__control sk-hidden--visually\" id=\"sk-estimator-id-2\" type=\"checkbox\" checked><label for=\"sk-estimator-id-2\" class=\"sk-toggleable__label sk-toggleable__label-arrow\">XGBClassifier</label><div class=\"sk-toggleable__content\"><pre>XGBClassifier(base_score=0.5, booster=&#x27;gbtree&#x27;, callbacks=None,\n",
       "              colsample_bylevel=1, colsample_bynode=1, colsample_bytree=1,\n",
       "              early_stopping_rounds=None, enable_categorical=False,\n",
       "              eval_metric=None, gamma=0, gpu_id=-1, grow_policy=&#x27;depthwise&#x27;,\n",
       "              importance_type=None, interaction_constraints=&#x27;&#x27;,\n",
       "              learning_rate=0.07, max_bin=256, max_cat_to_onehot=4,\n",
       "              max_delta_step=0, max_depth=13, max_leaves=0, min_child_weight=1,\n",
       "              missing=nan, monotone_constraints=&#x27;()&#x27;, n_estimators=200,\n",
       "              n_jobs=0, num_parallel_tree=1, predictor=&#x27;auto&#x27;, random_state=0,\n",
       "              reg_alpha=0, reg_lambda=1, ...)</pre></div></div></div></div></div>"
      ],
      "text/plain": [
       "XGBClassifier(base_score=0.5, booster='gbtree', callbacks=None,\n",
       "              colsample_bylevel=1, colsample_bynode=1, colsample_bytree=1,\n",
       "              early_stopping_rounds=None, enable_categorical=False,\n",
       "              eval_metric=None, gamma=0, gpu_id=-1, grow_policy='depthwise',\n",
       "              importance_type=None, interaction_constraints='',\n",
       "              learning_rate=0.07, max_bin=256, max_cat_to_onehot=4,\n",
       "              max_delta_step=0, max_depth=13, max_leaves=0, min_child_weight=1,\n",
       "              missing=nan, monotone_constraints='()', n_estimators=200,\n",
       "              n_jobs=0, num_parallel_tree=1, predictor='auto', random_state=0,\n",
       "              reg_alpha=0, reg_lambda=1, ...)"
      ]
     },
     "execution_count": 28,
     "metadata": {},
     "output_type": "execute_result"
    }
   ],
   "source": [
    "from xgboost import XGBClassifier\n",
    "\n",
    "xgb = XGBClassifier(n_estimators=200,\n",
    "                    learning_rate=0.07, \n",
    "                    max_depth=13,\n",
    "                    random_state=0)\n",
    "\n",
    "xgb.fit(X_train, y_train)"
   ]
  },
  {
   "cell_type": "code",
   "execution_count": 29,
   "id": "87053e56",
   "metadata": {},
   "outputs": [],
   "source": [
    "# 예측\n",
    "pred_train_xgb = xgb.predict(X_train)\n",
    "pred_val_xgb = xgb.predict(X_val)\n",
    "pred_test_xgb = xgb.predict(X_test)\n",
    "\n",
    "proba_train_xgb= xgb.predict_proba(X_train)[:,1]\n",
    "proba_val_xgb = xgb.predict_proba(X_val)[:,1]\n",
    "proba_test_xgb = xgb.predict_proba(X_test)[:,1]"
   ]
  },
  {
   "cell_type": "code",
   "execution_count": 30,
   "id": "23180a64",
   "metadata": {},
   "outputs": [
    {
     "name": "stdout",
     "output_type": "stream",
     "text": [
      "XGBClassifier(n_estimators=200,learning_rate=0.07, max_depth=13,random_state=0)\n",
      "==================================================\n",
      "xgb모델 train 데이터 평가지표\n",
      "==================================================\n",
      "정확도(Accuracy): 0.9996710850902871\n",
      "재현율(Recall): 0.9995131450827653\n",
      "정밀도(Precision): 0.9995131450827653\n",
      "F1 점수(F1 Score) 0.9995131450827653\n",
      "==================================================\n",
      "==================================================\n",
      "xgb 모델 val 데이터 평가지표\n",
      "==================================================\n",
      "정확도(Accuracy): 0.8109521460286138\n",
      "재현율(Recall): 0.7233420975752264\n",
      "정밀도(Precision): 0.7187227866473149\n",
      "F1 점수(F1 Score) 0.7210250436808386\n",
      "==================================================\n",
      "==================================================\n",
      "xgb모델 test 데이터 평가지표\n",
      "==================================================\n",
      "정확도(Accuracy): 0.8162802170695609\n",
      "재현율(Recall): 0.7272196261682243\n",
      "정밀도(Precision): 0.7284961966062025\n",
      "F1 점수(F1 Score) 0.7278573516515637\n",
      "==================================================\n",
      "==================================================\n",
      "roc-auc score\n",
      "==================================================\n",
      "0.8928438458969802\n",
      "==================================================\n"
     ]
    },
    {
     "data": {
      "image/png": "[encoded data removed]",
      "text/plain": [
       "<Figure size 432x288 with 1 Axes>"
      ]
     },
     "metadata": {
      "needs_background": "light"
     },
     "output_type": "display_data"
    },
    {
     "name": "stdout",
     "output_type": "stream",
     "text": [
      "==================================================\n",
      "roc-auc score\n",
      "==================================================\n",
      "0.8960901825291716\n",
      "==================================================\n"
     ]
    },
    {
     "data": {
      "image/png": "[encoded data removed]",
      "text/plain": [
       "<Figure size 432x288 with 1 Axes>"
      ]
     },
     "metadata": {
      "needs_background": "light"
     },
     "output_type": "display_data"
    }
   ],
   "source": [
    "# 평가\n",
    "print('XGBClassifier(n_estimators=200,learning_rate=0.07, max_depth=13,random_state=0)')\n",
    "print_classification_metrics(y_train, pred_train_xgb, title = 'xgb모델 train 데이터 평가지표')\n",
    "print_classification_metrics(y_val, pred_val_xgb, title = 'xgb 모델 val 데이터 평가지표')\n",
    "print_classification_metrics(y_test, pred_test_xgb, title= 'xgb모델 test 데이터 평가지표')\n",
    "\n",
    "display_roc_curve(y_val, proba_val_xgb, title='val_roc curve, score')\n",
    "display_roc_curve(y_test, proba_test_xgb, title='test_roc curve, score')"
   ]
  },
  {
   "cell_type": "code",
   "execution_count": 31,
   "id": "b576d045",
   "metadata": {},
   "outputs": [
    {
     "data": {
      "image/png": "[encoded data removed]",
      "text/plain": [
       "<Figure size 576x432 with 1 Axes>"
      ]
     },
     "metadata": {
      "needs_background": "light"
     },
     "output_type": "display_data"
    }
   ],
   "source": [
    "ftr_importances_values = xgb.feature_importances_\n",
    "ftr_importances = pd.Series(ftr_importances_values, index = X_train.columns)\n",
    "ftr = ftr_importances.sort_values(ascending=False)\n",
    "\n",
    "plt.figure(figsize=(8,6))\n",
    "plt.title('xgb - Feature Importances', fontsize = 15)\n",
    "sns.barplot(x=ftr, y=ftr.index)\n",
    "plt.show()"
   ]
  },
  {
   "cell_type": "code",
   "execution_count": null,
   "id": "625fcf58",
   "metadata": {},
   "outputs": [],
   "source": []
  },
  {
   "cell_type": "code",
   "execution_count": null,
   "id": "4be41e8b",
   "metadata": {},
   "outputs": [],
   "source": []
  }
 ],
 "metadata": {
  "kernelspec": {
   "display_name": "Python 3 (ipykernel)",
   "language": "python",
   "name": "python3"
  },
  "language_info": {
   "codemirror_mode": {
    "name": "ipython",
    "version": 3
   },
   "file_extension": ".py",
   "mimetype": "text/x-python",
   "name": "python",
   "nbconvert_exporter": "python",
   "pygments_lexer": "ipython3",
   "version": "3.8.13"
  }
 },
 "nbformat": 4,
 "nbformat_minor": 5
}
