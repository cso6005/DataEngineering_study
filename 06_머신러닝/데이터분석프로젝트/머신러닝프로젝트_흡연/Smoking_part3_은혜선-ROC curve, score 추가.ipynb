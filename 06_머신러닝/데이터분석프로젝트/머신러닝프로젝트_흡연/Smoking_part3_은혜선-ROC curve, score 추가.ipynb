{
 "cells": [
  {
   "cell_type": "code",
   "execution_count": 1,
   "id": "fcff60f4",
   "metadata": {
    "ExecuteTime": {
     "end_time": "2022-07-20T00:19:55.817496Z",
     "start_time": "2022-07-20T00:19:55.785552Z"
    }
   },
   "outputs": [
    {
     "name": "stderr",
     "output_type": "stream",
     "text": [
      "C:\\Users\\CSYJ\\AppData\\Local\\Temp\\ipykernel_27916\\999676280.py:1: DeprecationWarning: Importing display from IPython.core.display is deprecated since IPython 7.14, please import from IPython display\n",
      "  from IPython.core.display import display, HTML\n"
     ]
    },
    {
     "data": {
      "text/html": [
       "<style>.container{ width:95%!important; }</style>"
      ],
      "text/plain": [
       "<IPython.core.display.HTML object>"
      ]
     },
     "metadata": {},
     "output_type": "display_data"
    }
   ],
   "source": [
    "from IPython.core.display import display, HTML\n",
    "display(HTML(\"<style>.container{ width:95%!important; }</style>\"))"
   ]
  },
  {
   "cell_type": "code",
   "execution_count": 2,
   "id": "3221c1fb",
   "metadata": {
    "ExecuteTime": {
     "end_time": "2022-07-20T00:20:04.410549Z",
     "start_time": "2022-07-20T00:20:00.659795Z"
    }
   },
   "outputs": [
    {
     "name": "stderr",
     "output_type": "stream",
     "text": [
      "Missing colon in file WindowsPath('C:/Users/CSYJ/anaconda3/envs/smoking/lib/site-packages/matplotlib/mpl-data/matplotlibrc'), line 243 ('nicode')\n",
      "Missing colon in file 'C:\\\\Users\\\\CSYJ\\\\anaconda3\\\\envs\\\\smoking\\\\lib\\\\site-packages\\\\matplotlib\\\\mpl-data\\\\matplotlibrc', line 243 ('nicode')\n"
     ]
    }
   ],
   "source": [
    "import pandas as pd\n",
    "import numpy as np\n",
    "import pandas as pd\n",
    "import seaborn as sns\n",
    "import matplotlib.pyplot as plt"
   ]
  },
  {
   "cell_type": "code",
   "execution_count": 3,
   "id": "7cfb122c",
   "metadata": {
    "ExecuteTime": {
     "end_time": "2022-07-20T00:21:42.639051Z",
     "start_time": "2022-07-20T00:21:42.630064Z"
    }
   },
   "outputs": [],
   "source": [
    "pd.set_option('display.max_columns', None)"
   ]
  },
  {
   "cell_type": "markdown",
   "id": "ff6e847e",
   "metadata": {},
   "source": [
    "## Data 전처리"
   ]
  },
  {
   "cell_type": "code",
   "execution_count": 33,
   "id": "9e0c2426",
   "metadata": {
    "ExecuteTime": {
     "end_time": "2022-07-20T01:10:15.308984Z",
     "start_time": "2022-07-20T01:10:14.970168Z"
    }
   },
   "outputs": [
    {
     "name": "stdout",
     "output_type": "stream",
     "text": [
      "(44553, 25) (11139, 25) (44553, 1) (11139, 1)\n"
     ]
    }
   ],
   "source": [
    "#데이터 불러오기\n",
    "X_train = pd.read_csv('archive/competition_format/x_train.csv', index_col=0)\n",
    "X_test = pd.read_csv('archive/competition_format/x_test.csv', index_col=0)\n",
    "y_train = pd.read_csv('archive/competition_format/y_train.csv', index_col=0)\n",
    "y_test = pd.read_csv('archive/competition_format/y_test.csv', index_col=0)\n",
    "print(X_train.shape, X_test.shape, y_train.shape, y_test.shape)"
   ]
  },
  {
   "cell_type": "code",
   "execution_count": 34,
   "id": "82e89028",
   "metadata": {
    "ExecuteTime": {
     "end_time": "2022-07-20T01:10:30.820822Z",
     "start_time": "2022-07-20T01:10:30.796849Z"
    }
   },
   "outputs": [],
   "source": [
    "# 'oral' column drop\n",
    "X_train.drop('oral', axis=1, inplace=True)\n",
    "X_test.drop('oral', axis=1, inplace=True)"
   ]
  },
  {
   "cell_type": "code",
   "execution_count": 35,
   "id": "6c59a977",
   "metadata": {
    "ExecuteTime": {
     "end_time": "2022-07-20T00:47:25.651159Z",
     "start_time": "2022-07-20T00:47:25.517518Z"
    }
   },
   "outputs": [
    {
     "data": {
      "text/html": [
       "<div>\n",
       "<style scoped>\n",
       "    .dataframe tbody tr th:only-of-type {\n",
       "        vertical-align: middle;\n",
       "    }\n",
       "\n",
       "    .dataframe tbody tr th {\n",
       "        vertical-align: top;\n",
       "    }\n",
       "\n",
       "    .dataframe thead th {\n",
       "        text-align: right;\n",
       "    }\n",
       "</style>\n",
       "<table border=\"1\" class=\"dataframe\">\n",
       "  <thead>\n",
       "    <tr style=\"text-align: right;\">\n",
       "      <th></th>\n",
       "      <th>age</th>\n",
       "      <th>height(cm)</th>\n",
       "      <th>weight(kg)</th>\n",
       "      <th>waist(cm)</th>\n",
       "      <th>eyesight(left)</th>\n",
       "      <th>eyesight(right)</th>\n",
       "      <th>hearing(left)</th>\n",
       "      <th>hearing(right)</th>\n",
       "      <th>systolic</th>\n",
       "      <th>relaxation</th>\n",
       "      <th>fasting blood sugar</th>\n",
       "      <th>Cholesterol</th>\n",
       "      <th>triglyceride</th>\n",
       "      <th>HDL</th>\n",
       "      <th>LDL</th>\n",
       "      <th>hemoglobin</th>\n",
       "      <th>Urine protein</th>\n",
       "      <th>serum creatinine</th>\n",
       "      <th>AST</th>\n",
       "      <th>ALT</th>\n",
       "      <th>Gtp</th>\n",
       "      <th>dental caries</th>\n",
       "    </tr>\n",
       "  </thead>\n",
       "  <tbody>\n",
       "    <tr>\n",
       "      <th>count</th>\n",
       "      <td>44553.000000</td>\n",
       "      <td>44553.000000</td>\n",
       "      <td>44553.000000</td>\n",
       "      <td>44553.000000</td>\n",
       "      <td>44553.000000</td>\n",
       "      <td>44553.000000</td>\n",
       "      <td>44553.00000</td>\n",
       "      <td>44553.000000</td>\n",
       "      <td>44553.000000</td>\n",
       "      <td>44553.000000</td>\n",
       "      <td>44553.000000</td>\n",
       "      <td>44553.000000</td>\n",
       "      <td>44553.000000</td>\n",
       "      <td>44553.000000</td>\n",
       "      <td>44553.000000</td>\n",
       "      <td>44553.000000</td>\n",
       "      <td>44553.000000</td>\n",
       "      <td>44553.000000</td>\n",
       "      <td>44553.000000</td>\n",
       "      <td>44553.000000</td>\n",
       "      <td>44553.000000</td>\n",
       "      <td>44553.000000</td>\n",
       "    </tr>\n",
       "    <tr>\n",
       "      <th>mean</th>\n",
       "      <td>44.210603</td>\n",
       "      <td>164.657038</td>\n",
       "      <td>65.883442</td>\n",
       "      <td>82.077247</td>\n",
       "      <td>1.011734</td>\n",
       "      <td>1.008134</td>\n",
       "      <td>1.02561</td>\n",
       "      <td>1.026036</td>\n",
       "      <td>121.529055</td>\n",
       "      <td>76.043454</td>\n",
       "      <td>99.320023</td>\n",
       "      <td>196.995646</td>\n",
       "      <td>126.721770</td>\n",
       "      <td>57.288421</td>\n",
       "      <td>115.037663</td>\n",
       "      <td>14.622194</td>\n",
       "      <td>1.087020</td>\n",
       "      <td>0.886097</td>\n",
       "      <td>26.213678</td>\n",
       "      <td>27.084731</td>\n",
       "      <td>40.065517</td>\n",
       "      <td>0.213521</td>\n",
       "    </tr>\n",
       "    <tr>\n",
       "      <th>std</th>\n",
       "      <td>12.089077</td>\n",
       "      <td>9.198571</td>\n",
       "      <td>12.823676</td>\n",
       "      <td>9.278288</td>\n",
       "      <td>0.488131</td>\n",
       "      <td>0.488762</td>\n",
       "      <td>0.15797</td>\n",
       "      <td>0.159245</td>\n",
       "      <td>13.688748</td>\n",
       "      <td>9.695288</td>\n",
       "      <td>20.845350</td>\n",
       "      <td>36.422908</td>\n",
       "      <td>71.611991</td>\n",
       "      <td>14.795235</td>\n",
       "      <td>40.937878</td>\n",
       "      <td>1.564872</td>\n",
       "      <td>0.404944</td>\n",
       "      <td>0.226092</td>\n",
       "      <td>19.087106</td>\n",
       "      <td>31.754805</td>\n",
       "      <td>50.723521</td>\n",
       "      <td>0.409797</td>\n",
       "    </tr>\n",
       "    <tr>\n",
       "      <th>min</th>\n",
       "      <td>20.000000</td>\n",
       "      <td>130.000000</td>\n",
       "      <td>30.000000</td>\n",
       "      <td>51.000000</td>\n",
       "      <td>0.100000</td>\n",
       "      <td>0.100000</td>\n",
       "      <td>1.00000</td>\n",
       "      <td>1.000000</td>\n",
       "      <td>71.000000</td>\n",
       "      <td>40.000000</td>\n",
       "      <td>46.000000</td>\n",
       "      <td>55.000000</td>\n",
       "      <td>8.000000</td>\n",
       "      <td>4.000000</td>\n",
       "      <td>1.000000</td>\n",
       "      <td>4.900000</td>\n",
       "      <td>1.000000</td>\n",
       "      <td>0.100000</td>\n",
       "      <td>6.000000</td>\n",
       "      <td>1.000000</td>\n",
       "      <td>1.000000</td>\n",
       "      <td>0.000000</td>\n",
       "    </tr>\n",
       "    <tr>\n",
       "      <th>25%</th>\n",
       "      <td>40.000000</td>\n",
       "      <td>160.000000</td>\n",
       "      <td>55.000000</td>\n",
       "      <td>76.000000</td>\n",
       "      <td>0.800000</td>\n",
       "      <td>0.800000</td>\n",
       "      <td>1.00000</td>\n",
       "      <td>1.000000</td>\n",
       "      <td>112.000000</td>\n",
       "      <td>70.000000</td>\n",
       "      <td>89.000000</td>\n",
       "      <td>172.000000</td>\n",
       "      <td>74.000000</td>\n",
       "      <td>47.000000</td>\n",
       "      <td>92.000000</td>\n",
       "      <td>13.600000</td>\n",
       "      <td>1.000000</td>\n",
       "      <td>0.800000</td>\n",
       "      <td>19.000000</td>\n",
       "      <td>15.000000</td>\n",
       "      <td>17.000000</td>\n",
       "      <td>0.000000</td>\n",
       "    </tr>\n",
       "    <tr>\n",
       "      <th>50%</th>\n",
       "      <td>40.000000</td>\n",
       "      <td>165.000000</td>\n",
       "      <td>65.000000</td>\n",
       "      <td>82.000000</td>\n",
       "      <td>1.000000</td>\n",
       "      <td>1.000000</td>\n",
       "      <td>1.00000</td>\n",
       "      <td>1.000000</td>\n",
       "      <td>120.000000</td>\n",
       "      <td>76.000000</td>\n",
       "      <td>96.000000</td>\n",
       "      <td>195.000000</td>\n",
       "      <td>108.000000</td>\n",
       "      <td>55.000000</td>\n",
       "      <td>113.000000</td>\n",
       "      <td>14.800000</td>\n",
       "      <td>1.000000</td>\n",
       "      <td>0.900000</td>\n",
       "      <td>23.000000</td>\n",
       "      <td>21.000000</td>\n",
       "      <td>26.000000</td>\n",
       "      <td>0.000000</td>\n",
       "    </tr>\n",
       "    <tr>\n",
       "      <th>75%</th>\n",
       "      <td>55.000000</td>\n",
       "      <td>170.000000</td>\n",
       "      <td>75.000000</td>\n",
       "      <td>88.000000</td>\n",
       "      <td>1.200000</td>\n",
       "      <td>1.200000</td>\n",
       "      <td>1.00000</td>\n",
       "      <td>1.000000</td>\n",
       "      <td>130.000000</td>\n",
       "      <td>82.000000</td>\n",
       "      <td>104.000000</td>\n",
       "      <td>220.000000</td>\n",
       "      <td>160.000000</td>\n",
       "      <td>66.000000</td>\n",
       "      <td>136.000000</td>\n",
       "      <td>15.700000</td>\n",
       "      <td>1.000000</td>\n",
       "      <td>1.000000</td>\n",
       "      <td>29.000000</td>\n",
       "      <td>31.000000</td>\n",
       "      <td>44.000000</td>\n",
       "      <td>0.000000</td>\n",
       "    </tr>\n",
       "    <tr>\n",
       "      <th>max</th>\n",
       "      <td>85.000000</td>\n",
       "      <td>190.000000</td>\n",
       "      <td>135.000000</td>\n",
       "      <td>129.000000</td>\n",
       "      <td>9.900000</td>\n",
       "      <td>9.900000</td>\n",
       "      <td>2.00000</td>\n",
       "      <td>2.000000</td>\n",
       "      <td>240.000000</td>\n",
       "      <td>146.000000</td>\n",
       "      <td>505.000000</td>\n",
       "      <td>445.000000</td>\n",
       "      <td>999.000000</td>\n",
       "      <td>618.000000</td>\n",
       "      <td>1860.000000</td>\n",
       "      <td>21.100000</td>\n",
       "      <td>6.000000</td>\n",
       "      <td>11.600000</td>\n",
       "      <td>1311.000000</td>\n",
       "      <td>2914.000000</td>\n",
       "      <td>999.000000</td>\n",
       "      <td>1.000000</td>\n",
       "    </tr>\n",
       "  </tbody>\n",
       "</table>\n",
       "</div>"
      ],
      "text/plain": [
       "                age    height(cm)    weight(kg)     waist(cm)  eyesight(left)  \\\n",
       "count  44553.000000  44553.000000  44553.000000  44553.000000    44553.000000   \n",
       "mean      44.210603    164.657038     65.883442     82.077247        1.011734   \n",
       "std       12.089077      9.198571     12.823676      9.278288        0.488131   \n",
       "min       20.000000    130.000000     30.000000     51.000000        0.100000   \n",
       "25%       40.000000    160.000000     55.000000     76.000000        0.800000   \n",
       "50%       40.000000    165.000000     65.000000     82.000000        1.000000   \n",
       "75%       55.000000    170.000000     75.000000     88.000000        1.200000   \n",
       "max       85.000000    190.000000    135.000000    129.000000        9.900000   \n",
       "\n",
       "       eyesight(right)  hearing(left)  hearing(right)      systolic  \\\n",
       "count     44553.000000    44553.00000    44553.000000  44553.000000   \n",
       "mean          1.008134        1.02561        1.026036    121.529055   \n",
       "std           0.488762        0.15797        0.159245     13.688748   \n",
       "min           0.100000        1.00000        1.000000     71.000000   \n",
       "25%           0.800000        1.00000        1.000000    112.000000   \n",
       "50%           1.000000        1.00000        1.000000    120.000000   \n",
       "75%           1.200000        1.00000        1.000000    130.000000   \n",
       "max           9.900000        2.00000        2.000000    240.000000   \n",
       "\n",
       "         relaxation  fasting blood sugar   Cholesterol  triglyceride  \\\n",
       "count  44553.000000         44553.000000  44553.000000  44553.000000   \n",
       "mean      76.043454            99.320023    196.995646    126.721770   \n",
       "std        9.695288            20.845350     36.422908     71.611991   \n",
       "min       40.000000            46.000000     55.000000      8.000000   \n",
       "25%       70.000000            89.000000    172.000000     74.000000   \n",
       "50%       76.000000            96.000000    195.000000    108.000000   \n",
       "75%       82.000000           104.000000    220.000000    160.000000   \n",
       "max      146.000000           505.000000    445.000000    999.000000   \n",
       "\n",
       "                HDL           LDL    hemoglobin  Urine protein  \\\n",
       "count  44553.000000  44553.000000  44553.000000   44553.000000   \n",
       "mean      57.288421    115.037663     14.622194       1.087020   \n",
       "std       14.795235     40.937878      1.564872       0.404944   \n",
       "min        4.000000      1.000000      4.900000       1.000000   \n",
       "25%       47.000000     92.000000     13.600000       1.000000   \n",
       "50%       55.000000    113.000000     14.800000       1.000000   \n",
       "75%       66.000000    136.000000     15.700000       1.000000   \n",
       "max      618.000000   1860.000000     21.100000       6.000000   \n",
       "\n",
       "       serum creatinine           AST           ALT           Gtp  \\\n",
       "count      44553.000000  44553.000000  44553.000000  44553.000000   \n",
       "mean           0.886097     26.213678     27.084731     40.065517   \n",
       "std            0.226092     19.087106     31.754805     50.723521   \n",
       "min            0.100000      6.000000      1.000000      1.000000   \n",
       "25%            0.800000     19.000000     15.000000     17.000000   \n",
       "50%            0.900000     23.000000     21.000000     26.000000   \n",
       "75%            1.000000     29.000000     31.000000     44.000000   \n",
       "max           11.600000   1311.000000   2914.000000    999.000000   \n",
       "\n",
       "       dental caries  \n",
       "count   44553.000000  \n",
       "mean        0.213521  \n",
       "std         0.409797  \n",
       "min         0.000000  \n",
       "25%         0.000000  \n",
       "50%         0.000000  \n",
       "75%         0.000000  \n",
       "max         1.000000  "
      ]
     },
     "execution_count": 35,
     "metadata": {},
     "output_type": "execute_result"
    }
   ],
   "source": [
    "# 백분위 값 확인\n",
    "X_train.describe()"
   ]
  },
  {
   "cell_type": "code",
   "execution_count": 36,
   "id": "d8ff0390",
   "metadata": {
    "ExecuteTime": {
     "end_time": "2022-07-20T00:47:14.539670Z",
     "start_time": "2022-07-20T00:47:14.527640Z"
    }
   },
   "outputs": [],
   "source": [
    "# 이상치 변환 함수 , 특정컬럼\n",
    "\n",
    "def outHigh(df, a):\n",
    "    to_75 = df[a].quantile(0.75)\n",
    "    target = df[a].quantile(0.90)\n",
    "    df[a] = df[a].apply(lambda x: to_75 if x >= target else x)"
   ]
  },
  {
   "cell_type": "code",
   "execution_count": 37,
   "id": "34d74913",
   "metadata": {
    "ExecuteTime": {
     "end_time": "2022-07-20T01:11:45.838142Z",
     "start_time": "2022-07-20T01:11:45.126781Z"
    }
   },
   "outputs": [],
   "source": [
    "# ['Gtp','triglyceride' ] 컬럼만 이상치변환\n",
    "cols = ['Gtp','triglyceride' ]\n",
    "for col in cols:\n",
    "    outHigh(X_train, str(col))\n",
    "    outHigh(X_test, str(col))"
   ]
  },
  {
   "cell_type": "code",
   "execution_count": 38,
   "id": "c67ac5fa",
   "metadata": {
    "ExecuteTime": {
     "end_time": "2022-07-20T02:03:13.981882Z",
     "start_time": "2022-07-20T02:03:13.935006Z"
    }
   },
   "outputs": [
    {
     "data": {
      "text/html": [
       "<div>\n",
       "<style scoped>\n",
       "    .dataframe tbody tr th:only-of-type {\n",
       "        vertical-align: middle;\n",
       "    }\n",
       "\n",
       "    .dataframe tbody tr th {\n",
       "        vertical-align: top;\n",
       "    }\n",
       "\n",
       "    .dataframe thead th {\n",
       "        text-align: right;\n",
       "    }\n",
       "</style>\n",
       "<table border=\"1\" class=\"dataframe\">\n",
       "  <thead>\n",
       "    <tr style=\"text-align: right;\">\n",
       "      <th></th>\n",
       "      <th>Gtp</th>\n",
       "      <th>triglyceride</th>\n",
       "    </tr>\n",
       "  </thead>\n",
       "  <tbody>\n",
       "    <tr>\n",
       "      <th>count</th>\n",
       "      <td>44553.000000</td>\n",
       "      <td>44553.000000</td>\n",
       "    </tr>\n",
       "    <tr>\n",
       "      <th>mean</th>\n",
       "      <td>29.764258</td>\n",
       "      <td>113.868247</td>\n",
       "    </tr>\n",
       "    <tr>\n",
       "      <th>std</th>\n",
       "      <td>15.538760</td>\n",
       "      <td>47.352661</td>\n",
       "    </tr>\n",
       "    <tr>\n",
       "      <th>min</th>\n",
       "      <td>1.000000</td>\n",
       "      <td>8.000000</td>\n",
       "    </tr>\n",
       "    <tr>\n",
       "      <th>25%</th>\n",
       "      <td>17.000000</td>\n",
       "      <td>74.000000</td>\n",
       "    </tr>\n",
       "    <tr>\n",
       "      <th>50%</th>\n",
       "      <td>26.000000</td>\n",
       "      <td>108.000000</td>\n",
       "    </tr>\n",
       "    <tr>\n",
       "      <th>75%</th>\n",
       "      <td>44.000000</td>\n",
       "      <td>160.000000</td>\n",
       "    </tr>\n",
       "    <tr>\n",
       "      <th>max</th>\n",
       "      <td>77.000000</td>\n",
       "      <td>226.000000</td>\n",
       "    </tr>\n",
       "  </tbody>\n",
       "</table>\n",
       "</div>"
      ],
      "text/plain": [
       "                Gtp  triglyceride\n",
       "count  44553.000000  44553.000000\n",
       "mean      29.764258    113.868247\n",
       "std       15.538760     47.352661\n",
       "min        1.000000      8.000000\n",
       "25%       17.000000     74.000000\n",
       "50%       26.000000    108.000000\n",
       "75%       44.000000    160.000000\n",
       "max       77.000000    226.000000"
      ]
     },
     "execution_count": 38,
     "metadata": {},
     "output_type": "execute_result"
    }
   ],
   "source": [
    "# ['Gtp', 'triglyceride'] 백분위 값 확인\n",
    "X_train[['Gtp', 'triglyceride']].describe()"
   ]
  },
  {
   "cell_type": "code",
   "execution_count": 39,
   "id": "76ee03bd",
   "metadata": {
    "ExecuteTime": {
     "end_time": "2022-07-20T00:50:51.559281Z",
     "start_time": "2022-07-20T00:50:51.286410Z"
    }
   },
   "outputs": [
    {
     "name": "stdout",
     "output_type": "stream",
     "text": [
      "(33414, 24) (11139, 24) (33414, 1) (11139, 1)\n"
     ]
    }
   ],
   "source": [
    "# 데이터 분리\n",
    "from sklearn.model_selection import train_test_split\n",
    "X_train, X_val, y_train, y_val = train_test_split(X_train, y_train, test_size=0.25, stratify=y_train, random_state=0)\n",
    "print(X_train.shape, X_val.shape, y_train.shape, y_val.shape)"
   ]
  },
  {
   "cell_type": "code",
   "execution_count": 40,
   "id": "56ea2646",
   "metadata": {},
   "outputs": [
    {
     "data": {
      "text/html": [
       "<div>\n",
       "<style scoped>\n",
       "    .dataframe tbody tr th:only-of-type {\n",
       "        vertical-align: middle;\n",
       "    }\n",
       "\n",
       "    .dataframe tbody tr th {\n",
       "        vertical-align: top;\n",
       "    }\n",
       "\n",
       "    .dataframe thead th {\n",
       "        text-align: right;\n",
       "    }\n",
       "</style>\n",
       "<table border=\"1\" class=\"dataframe\">\n",
       "  <thead>\n",
       "    <tr style=\"text-align: right;\">\n",
       "      <th></th>\n",
       "      <th>Gtp</th>\n",
       "      <th>triglyceride</th>\n",
       "    </tr>\n",
       "  </thead>\n",
       "  <tbody>\n",
       "    <tr>\n",
       "      <th>count</th>\n",
       "      <td>33414.000000</td>\n",
       "      <td>33414.000000</td>\n",
       "    </tr>\n",
       "    <tr>\n",
       "      <th>mean</th>\n",
       "      <td>29.725325</td>\n",
       "      <td>113.689531</td>\n",
       "    </tr>\n",
       "    <tr>\n",
       "      <th>std</th>\n",
       "      <td>15.542169</td>\n",
       "      <td>47.388993</td>\n",
       "    </tr>\n",
       "    <tr>\n",
       "      <th>min</th>\n",
       "      <td>2.000000</td>\n",
       "      <td>15.000000</td>\n",
       "    </tr>\n",
       "    <tr>\n",
       "      <th>25%</th>\n",
       "      <td>17.000000</td>\n",
       "      <td>74.000000</td>\n",
       "    </tr>\n",
       "    <tr>\n",
       "      <th>50%</th>\n",
       "      <td>25.000000</td>\n",
       "      <td>108.000000</td>\n",
       "    </tr>\n",
       "    <tr>\n",
       "      <th>75%</th>\n",
       "      <td>44.000000</td>\n",
       "      <td>160.000000</td>\n",
       "    </tr>\n",
       "    <tr>\n",
       "      <th>max</th>\n",
       "      <td>77.000000</td>\n",
       "      <td>226.000000</td>\n",
       "    </tr>\n",
       "  </tbody>\n",
       "</table>\n",
       "</div>"
      ],
      "text/plain": [
       "                Gtp  triglyceride\n",
       "count  33414.000000  33414.000000\n",
       "mean      29.725325    113.689531\n",
       "std       15.542169     47.388993\n",
       "min        2.000000     15.000000\n",
       "25%       17.000000     74.000000\n",
       "50%       25.000000    108.000000\n",
       "75%       44.000000    160.000000\n",
       "max       77.000000    226.000000"
      ]
     },
     "execution_count": 40,
     "metadata": {},
     "output_type": "execute_result"
    }
   ],
   "source": [
    "X_train[['Gtp', 'triglyceride']].describe()"
   ]
  },
  {
   "cell_type": "code",
   "execution_count": null,
   "id": "12953c91",
   "metadata": {},
   "outputs": [],
   "source": []
  },
  {
   "cell_type": "code",
   "execution_count": null,
   "id": "1708d196",
   "metadata": {},
   "outputs": [],
   "source": []
  },
  {
   "cell_type": "code",
   "execution_count": 11,
   "id": "7159d375",
   "metadata": {
    "ExecuteTime": {
     "end_time": "2022-07-20T00:50:54.448608Z",
     "start_time": "2022-07-20T00:50:54.439641Z"
    }
   },
   "outputs": [],
   "source": [
    "# label encoder\n",
    "from sklearn.preprocessing import LabelEncoder\n",
    "\n",
    "def label(df, a):\n",
    "    laencoder = LabelEncoder()\n",
    "    afterEn = laencoder.fit_transform(df[[a]])\n",
    "    return afterEn"
   ]
  },
  {
   "cell_type": "code",
   "execution_count": 12,
   "id": "1d4ceb03",
   "metadata": {
    "ExecuteTime": {
     "end_time": "2022-07-20T01:13:21.920733Z",
     "start_time": "2022-07-20T01:13:21.836960Z"
    }
   },
   "outputs": [
    {
     "name": "stdout",
     "output_type": "stream",
     "text": [
      "<class 'pandas.core.frame.DataFrame'>\n",
      "Int64Index: 33414 entries, 31346 to 28362\n",
      "Data columns (total 24 columns):\n",
      " #   Column               Non-Null Count  Dtype  \n",
      "---  ------               --------------  -----  \n",
      " 0   gender               33414 non-null  int32  \n",
      " 1   age                  33414 non-null  int64  \n",
      " 2   height(cm)           33414 non-null  int64  \n",
      " 3   weight(kg)           33414 non-null  int64  \n",
      " 4   waist(cm)            33414 non-null  float64\n",
      " 5   eyesight(left)       33414 non-null  float64\n",
      " 6   eyesight(right)      33414 non-null  float64\n",
      " 7   hearing(left)        33414 non-null  float64\n",
      " 8   hearing(right)       33414 non-null  float64\n",
      " 9   systolic             33414 non-null  float64\n",
      " 10  relaxation           33414 non-null  float64\n",
      " 11  fasting blood sugar  33414 non-null  float64\n",
      " 12  Cholesterol          33414 non-null  float64\n",
      " 13  triglyceride         33414 non-null  float64\n",
      " 14  HDL                  33414 non-null  float64\n",
      " 15  LDL                  33414 non-null  float64\n",
      " 16  hemoglobin           33414 non-null  float64\n",
      " 17  Urine protein        33414 non-null  float64\n",
      " 18  serum creatinine     33414 non-null  float64\n",
      " 19  AST                  33414 non-null  float64\n",
      " 20  ALT                  33414 non-null  float64\n",
      " 21  Gtp                  33414 non-null  float64\n",
      " 22  dental caries        33414 non-null  float64\n",
      " 23  tartar               33414 non-null  int32  \n",
      "dtypes: float64(19), int32(2), int64(3)\n",
      "memory usage: 6.1 MB\n"
     ]
    },
    {
     "name": "stderr",
     "output_type": "stream",
     "text": [
      "C:\\Users\\CSYJ\\anaconda3\\envs\\smoking\\lib\\site-packages\\sklearn\\preprocessing\\_label.py:115: DataConversionWarning: A column-vector y was passed when a 1d array was expected. Please change the shape of y to (n_samples, ), for example using ravel().\n",
      "  y = column_or_1d(y, warn=True)\n",
      "C:\\Users\\CSYJ\\anaconda3\\envs\\smoking\\lib\\site-packages\\sklearn\\preprocessing\\_label.py:115: DataConversionWarning: A column-vector y was passed when a 1d array was expected. Please change the shape of y to (n_samples, ), for example using ravel().\n",
      "  y = column_or_1d(y, warn=True)\n",
      "C:\\Users\\CSYJ\\anaconda3\\envs\\smoking\\lib\\site-packages\\sklearn\\preprocessing\\_label.py:115: DataConversionWarning: A column-vector y was passed when a 1d array was expected. Please change the shape of y to (n_samples, ), for example using ravel().\n",
      "  y = column_or_1d(y, warn=True)\n",
      "C:\\Users\\CSYJ\\anaconda3\\envs\\smoking\\lib\\site-packages\\sklearn\\preprocessing\\_label.py:115: DataConversionWarning: A column-vector y was passed when a 1d array was expected. Please change the shape of y to (n_samples, ), for example using ravel().\n",
      "  y = column_or_1d(y, warn=True)\n",
      "C:\\Users\\CSYJ\\anaconda3\\envs\\smoking\\lib\\site-packages\\sklearn\\preprocessing\\_label.py:115: DataConversionWarning: A column-vector y was passed when a 1d array was expected. Please change the shape of y to (n_samples, ), for example using ravel().\n",
      "  y = column_or_1d(y, warn=True)\n",
      "C:\\Users\\CSYJ\\anaconda3\\envs\\smoking\\lib\\site-packages\\sklearn\\preprocessing\\_label.py:115: DataConversionWarning: A column-vector y was passed when a 1d array was expected. Please change the shape of y to (n_samples, ), for example using ravel().\n",
      "  y = column_or_1d(y, warn=True)\n"
     ]
    }
   ],
   "source": [
    "# object column label encoder\n",
    "X_train['gender'] = label(X_train,'gender')\n",
    "X_test['gender'] = label(X_test,'gender')\n",
    "X_val['gender'] = label(X_val,'gender')\n",
    "X_train['tartar'] = label(X_train,'tartar')\n",
    "X_test['tartar'] = label(X_test,'tartar')\n",
    "X_val['tartar'] = label(X_val,'tartar')\n",
    "X_train.info()"
   ]
  },
  {
   "cell_type": "markdown",
   "id": "ae4f7027",
   "metadata": {},
   "source": [
    "### 평가지표 함수 추가"
   ]
  },
  {
   "cell_type": "code",
   "execution_count": 13,
   "id": "bc4ca2fb",
   "metadata": {},
   "outputs": [],
   "source": [
    "# 평가\n",
    "\n",
    "from sklearn.metrics import confusion_matrix, ConfusionMatrixDisplay, accuracy_score, recall_score, precision_score, f1_score\n",
    "from sklearn.metrics import roc_auc_score, RocCurveDisplay, roc_curve\n",
    "from sklearn.metrics import precision_recall_curve, average_precision_score, PrecisionRecallDisplay\n",
    "\n",
    "\n",
    "def print_confusion_matrix(y, pred, title=None):\n",
    "    \"\"\"\n",
    "    혼동행렬\n",
    "    결과의 0번축: 실제 class, 1번 축: 예측 class\n",
    "    \"\"\"    \n",
    "    print('='*50)\n",
    "    if title:\n",
    "        print(title)\n",
    "        print('='*50)\n",
    "    print(confusion_matrix(y, pred))\n",
    "    print('='*50)\n",
    "    \n",
    "def print_classification_metrics(y, pred, title=None):\n",
    "    \"\"\"\n",
    "    출력할 평가지표: accuracy, recall, precision, f1 score\n",
    "    \"\"\"\n",
    "    print('='*50)\n",
    "    if title:\n",
    "        print(title)\n",
    "        print('='*50)\n",
    "    print('정확도(Accuracy):', accuracy_score(y, pred))\n",
    "    print('재현율(Recall):', recall_score(y, pred))\n",
    "    print('정밀도(Precision):', precision_score(y,pred))\n",
    "    print('F1 점수(F1 Score)', f1_score(y, pred))\n",
    "    print('='*50)\n",
    "\n",
    "    \n",
    "    \n",
    "def display_roc_curve(y, pred_proba, title=None):\n",
    "    \"\"\"\n",
    "    ROC curve, sorce\n",
    "    [parameter]\n",
    "    \"\"\"\n",
    "    print('='*50)\n",
    "    print('roc-auc score')\n",
    "    print('='*50)\n",
    "    roc_auc = roc_auc_score(y,pred_proba)\n",
    "    print(roc_auc)\n",
    "    print('='*50)\n",
    "    fpr, tpr, _ = roc_curve(y, pred_proba)\n",
    "    disp = RocCurveDisplay(fpr=fpr, tpr=tpr, roc_auc=roc_auc)\n",
    "    disp.plot()\n",
    "    \n",
    "    if title:\n",
    "        plt.title(title)\n",
    "    plt.show()\n",
    "\n",
    "\n",
    "def display_precision_recall_curve(y, pred_proba, title=None):\n",
    "    \"\"\"\n",
    "    P-R curve, score => 안 해도 될 것 같음.\n",
    "    \"\"\"\n",
    "    print('='*50)\n",
    "    print('ap score')\n",
    "    print('='*50)\n",
    "    ap_score = average_precision_score(y, pred_proba)\n",
    "    print(ap_score)\n",
    "    print('='*50)\n",
    "    \n",
    "    precision, recall, _ = precision_recall_curve(y, pred_proba)\n",
    "    disp = PrecisionRecallDisplay(precision, recall, average_precision=ap_score)\n",
    "    disp.plot()\n",
    "    if title:\n",
    "        plt.title(title)\n",
    "    plt.show()\n",
    "\n"
   ]
  },
  {
   "cell_type": "markdown",
   "id": "a5fed43d",
   "metadata": {},
   "source": [
    "## RandomForestClassifier"
   ]
  },
  {
   "cell_type": "code",
   "execution_count": 20,
   "id": "6c56b6ee",
   "metadata": {
    "ExecuteTime": {
     "end_time": "2022-07-20T00:49:22.643612Z",
     "start_time": "2022-07-20T00:49:21.990234Z"
    }
   },
   "outputs": [],
   "source": [
    "from sklearn.ensemble import RandomForestClassifier \n",
    "from sklearn.metrics import accuracy_score, roc_auc_score"
   ]
  },
  {
   "cell_type": "markdown",
   "id": "cc8ccc4b",
   "metadata": {},
   "source": [
    "### GTP, Triglyceride 이상치 변환 후 RandomForestClassfier"
   ]
  },
  {
   "cell_type": "code",
   "execution_count": 21,
   "id": "81e157b7",
   "metadata": {
    "ExecuteTime": {
     "end_time": "2022-07-20T02:01:59.704131Z",
     "start_time": "2022-07-20T02:01:33.461255Z"
    }
   },
   "outputs": [
    {
     "name": "stderr",
     "output_type": "stream",
     "text": [
      "C:\\Users\\CSYJ\\AppData\\Local\\Temp\\ipykernel_27916\\4094858274.py:3: DataConversionWarning: A column-vector y was passed when a 1d array was expected. Please change the shape of y to (n_samples,), for example using ravel().\n",
      "  rf.fit(X_train, y_train)\n"
     ]
    },
    {
     "data": {
      "text/html": [
       "<style>#sk-container-id-2 {color: black;background-color: white;}#sk-container-id-2 pre{padding: 0;}#sk-container-id-2 div.sk-toggleable {background-color: white;}#sk-container-id-2 label.sk-toggleable__label {cursor: pointer;display: block;width: 100%;margin-bottom: 0;padding: 0.3em;box-sizing: border-box;text-align: center;}#sk-container-id-2 label.sk-toggleable__label-arrow:before {content: \"▸\";float: left;margin-right: 0.25em;color: #696969;}#sk-container-id-2 label.sk-toggleable__label-arrow:hover:before {color: black;}#sk-container-id-2 div.sk-estimator:hover label.sk-toggleable__label-arrow:before {color: black;}#sk-container-id-2 div.sk-toggleable__content {max-height: 0;max-width: 0;overflow: hidden;text-align: left;background-color: #f0f8ff;}#sk-container-id-2 div.sk-toggleable__content pre {margin: 0.2em;color: black;border-radius: 0.25em;background-color: #f0f8ff;}#sk-container-id-2 input.sk-toggleable__control:checked~div.sk-toggleable__content {max-height: 200px;max-width: 100%;overflow: auto;}#sk-container-id-2 input.sk-toggleable__control:checked~label.sk-toggleable__label-arrow:before {content: \"▾\";}#sk-container-id-2 div.sk-estimator input.sk-toggleable__control:checked~label.sk-toggleable__label {background-color: #d4ebff;}#sk-container-id-2 div.sk-label input.sk-toggleable__control:checked~label.sk-toggleable__label {background-color: #d4ebff;}#sk-container-id-2 input.sk-hidden--visually {border: 0;clip: rect(1px 1px 1px 1px);clip: rect(1px, 1px, 1px, 1px);height: 1px;margin: -1px;overflow: hidden;padding: 0;position: absolute;width: 1px;}#sk-container-id-2 div.sk-estimator {font-family: monospace;background-color: #f0f8ff;border: 1px dotted black;border-radius: 0.25em;box-sizing: border-box;margin-bottom: 0.5em;}#sk-container-id-2 div.sk-estimator:hover {background-color: #d4ebff;}#sk-container-id-2 div.sk-parallel-item::after {content: \"\";width: 100%;border-bottom: 1px solid gray;flex-grow: 1;}#sk-container-id-2 div.sk-label:hover label.sk-toggleable__label {background-color: #d4ebff;}#sk-container-id-2 div.sk-serial::before {content: \"\";position: absolute;border-left: 1px solid gray;box-sizing: border-box;top: 0;bottom: 0;left: 50%;z-index: 0;}#sk-container-id-2 div.sk-serial {display: flex;flex-direction: column;align-items: center;background-color: white;padding-right: 0.2em;padding-left: 0.2em;position: relative;}#sk-container-id-2 div.sk-item {position: relative;z-index: 1;}#sk-container-id-2 div.sk-parallel {display: flex;align-items: stretch;justify-content: center;background-color: white;position: relative;}#sk-container-id-2 div.sk-item::before, #sk-container-id-2 div.sk-parallel-item::before {content: \"\";position: absolute;border-left: 1px solid gray;box-sizing: border-box;top: 0;bottom: 0;left: 50%;z-index: -1;}#sk-container-id-2 div.sk-parallel-item {display: flex;flex-direction: column;z-index: 1;position: relative;background-color: white;}#sk-container-id-2 div.sk-parallel-item:first-child::after {align-self: flex-end;width: 50%;}#sk-container-id-2 div.sk-parallel-item:last-child::after {align-self: flex-start;width: 50%;}#sk-container-id-2 div.sk-parallel-item:only-child::after {width: 0;}#sk-container-id-2 div.sk-dashed-wrapped {border: 1px dashed gray;margin: 0 0.4em 0.5em 0.4em;box-sizing: border-box;padding-bottom: 0.4em;background-color: white;}#sk-container-id-2 div.sk-label label {font-family: monospace;font-weight: bold;display: inline-block;line-height: 1.2em;}#sk-container-id-2 div.sk-label-container {text-align: center;}#sk-container-id-2 div.sk-container {/* jupyter's `normalize.less` sets `[hidden] { display: none; }` but bootstrap.min.css set `[hidden] { display: none !important; }` so we also need the `!important` here to be able to override the default hidden behavior on the sphinx rendered scikit-learn.org. See: https://github.com/scikit-learn/scikit-learn/issues/21755 */display: inline-block !important;position: relative;}#sk-container-id-2 div.sk-text-repr-fallback {display: none;}</style><div id=\"sk-container-id-2\" class=\"sk-top-container\"><div class=\"sk-text-repr-fallback\"><pre>RandomForestClassifier(max_depth=22, n_estimators=300, random_state=0)</pre><b>In a Jupyter environment, please rerun this cell to show the HTML representation or trust the notebook. <br />On GitHub, the HTML representation is unable to render, please try loading this page with nbviewer.org.</b></div><div class=\"sk-container\" hidden><div class=\"sk-item\"><div class=\"sk-estimator sk-toggleable\"><input class=\"sk-toggleable__control sk-hidden--visually\" id=\"sk-estimator-id-2\" type=\"checkbox\" checked><label for=\"sk-estimator-id-2\" class=\"sk-toggleable__label sk-toggleable__label-arrow\">RandomForestClassifier</label><div class=\"sk-toggleable__content\"><pre>RandomForestClassifier(max_depth=22, n_estimators=300, random_state=0)</pre></div></div></div></div></div>"
      ],
      "text/plain": [
       "RandomForestClassifier(max_depth=22, n_estimators=300, random_state=0)"
      ]
     },
     "execution_count": 21,
     "metadata": {},
     "output_type": "execute_result"
    }
   ],
   "source": [
    "rf = RandomForestClassifier(n_estimators=300, max_depth=22, random_state=0) #모델\n",
    "\n",
    "rf.fit(X_train, y_train)"
   ]
  },
  {
   "cell_type": "code",
   "execution_count": 22,
   "id": "4c1ce26b",
   "metadata": {
    "ExecuteTime": {
     "end_time": "2022-07-20T02:02:08.319145Z",
     "start_time": "2022-07-20T02:02:01.849203Z"
    }
   },
   "outputs": [],
   "source": [
    "rf_pred_train = rf.predict(X_train)\n",
    "rf_pred_test = rf.predict(X_test)\n",
    "rf_pred_val = rf.predict(X_val)"
   ]
  },
  {
   "cell_type": "code",
   "execution_count": 23,
   "id": "e444a786",
   "metadata": {},
   "outputs": [],
   "source": [
    "proba_train_rf = rf.predict_proba(X_train)[:,1]\n",
    "proba_val_rf = rf.predict_proba(X_val)[:,1]\n",
    "proba_test_rf = rf.predict_proba(X_test)[:,1]\n"
   ]
  },
  {
   "cell_type": "code",
   "execution_count": null,
   "id": "71e0f63a",
   "metadata": {
    "ExecuteTime": {
     "end_time": "2022-07-20T01:14:20.748378Z",
     "start_time": "2022-07-20T01:14:20.621434Z"
    }
   },
   "outputs": [],
   "source": [
    "#max_depth =15\n",
    "print_classification_metrics(y_train, rf_pred_train, title='RF_Train set에 대한 검증결과')\n",
    "print_classification_metrics(y_test, rf_pred_test, title='RF_Test set에 대한 검증결과')\n",
    "print_classification_metrics(y_val, rf_pred_val, title='RF_Validation set에 대한 검증결과')"
   ]
  },
  {
   "cell_type": "code",
   "execution_count": null,
   "id": "0dab3fdb",
   "metadata": {
    "ExecuteTime": {
     "end_time": "2022-07-20T01:14:20.748378Z",
     "start_time": "2022-07-20T01:14:20.621434Z"
    }
   },
   "outputs": [],
   "source": [
    "display_roc_curve(y_val, proba_val_rf, title='val_roc curve, score')\n",
    "display_roc_curve(y_test, proba_test_rf, title='test_roc curve, score')"
   ]
  },
  {
   "cell_type": "code",
   "execution_count": 24,
   "id": "b44df7fc",
   "metadata": {
    "ExecuteTime": {
     "end_time": "2022-07-20T01:15:11.037782Z",
     "start_time": "2022-07-20T01:15:10.901148Z"
    },
    "scrolled": true
   },
   "outputs": [
    {
     "name": "stdout",
     "output_type": "stream",
     "text": [
      "==================================================\n",
      "RF_Train set에 대한 검증결과\n",
      "==================================================\n",
      "정확도(Accuracy): 0.999191955467768\n",
      "재현율(Recall): 0.9988584474885844\n",
      "정밀도(Precision): 0.9989399005137405\n",
      "F1 점수(F1 Score) 0.9988991723406858\n",
      "==================================================\n",
      "==================================================\n",
      "RF_S_Test set에 대한 검증결과\n",
      "==================================================\n",
      "정확도(Accuracy): 0.9384145794056917\n",
      "재현율(Recall): 0.9290762856446503\n",
      "정밀도(Precision): 0.906108866175422\n",
      "F1 점수(F1 Score) 0.9174488567990374\n",
      "==================================================\n",
      "==================================================\n",
      "RF_Validation set에 대한 검증결과\n",
      "==================================================\n",
      "정확도(Accuracy): 0.7571595295807523\n",
      "재현율(Recall): 0.7186888454011742\n",
      "정밀도(Precision): 0.6539060761184065\n",
      "F1 점수(F1 Score) 0.6847686749796061\n",
      "==================================================\n"
     ]
    }
   ],
   "source": [
    "#max_depth =22\n",
    "print_classification_metrics(y_train, rf_pred_train, title='RF_Train set에 대한 검증결과')\n",
    "print_classification_metrics(y_test, rf_pred_test, title='RF_S_Test set에 대한 검증결과')\n",
    "print_classification_metrics(y_val, rf_pred_val, title='RF_Validation set에 대한 검증결과')"
   ]
  },
  {
   "cell_type": "code",
   "execution_count": 25,
   "id": "17130319",
   "metadata": {
    "ExecuteTime": {
     "end_time": "2022-07-20T01:15:11.037782Z",
     "start_time": "2022-07-20T01:15:10.901148Z"
    }
   },
   "outputs": [
    {
     "name": "stdout",
     "output_type": "stream",
     "text": [
      "==================================================\n",
      "roc-auc score\n",
      "==================================================\n",
      "0.8403528104297985\n",
      "==================================================\n"
     ]
    },
    {
     "data": {
      "image/png": "[encoded data removed]",
      "text/plain": [
       "<Figure size 432x288 with 1 Axes>"
      ]
     },
     "metadata": {
      "needs_background": "light"
     },
     "output_type": "display_data"
    },
    {
     "name": "stdout",
     "output_type": "stream",
     "text": [
      "==================================================\n",
      "roc-auc score\n",
      "==================================================\n",
      "0.9840517282588468\n",
      "==================================================\n"
     ]
    },
    {
     "data": {
      "image/png": "[encoded data removed]",
      "text/plain": [
       "<Figure size 432x288 with 1 Axes>"
      ]
     },
     "metadata": {
      "needs_background": "light"
     },
     "output_type": "display_data"
    }
   ],
   "source": [
    "display_roc_curve(y_val, proba_val_rf, title='val_roc curve, score')\n",
    "display_roc_curve(y_test, proba_test_rf, title='test_roc curve, score')"
   ]
  },
  {
   "cell_type": "markdown",
   "id": "13758073",
   "metadata": {},
   "source": [
    "## XGB"
   ]
  },
  {
   "cell_type": "markdown",
   "id": "e3260eb6",
   "metadata": {},
   "source": [
    "### Gtp, Triglyceride 컬럼 이상치 제거 후 XGB "
   ]
  },
  {
   "cell_type": "code",
   "execution_count": 26,
   "id": "e59be337",
   "metadata": {
    "ExecuteTime": {
     "end_time": "2022-07-20T01:26:08.341324Z",
     "start_time": "2022-07-20T01:26:08.319347Z"
    }
   },
   "outputs": [],
   "source": [
    "from xgboost import XGBClassifier"
   ]
  },
  {
   "cell_type": "code",
   "execution_count": 27,
   "id": "c966134a",
   "metadata": {
    "ExecuteTime": {
     "end_time": "2022-07-20T01:27:50.985952Z",
     "start_time": "2022-07-20T01:27:35.212741Z"
    }
   },
   "outputs": [
    {
     "data": {
      "text/html": [
       "<style>#sk-container-id-3 {color: black;background-color: white;}#sk-container-id-3 pre{padding: 0;}#sk-container-id-3 div.sk-toggleable {background-color: white;}#sk-container-id-3 label.sk-toggleable__label {cursor: pointer;display: block;width: 100%;margin-bottom: 0;padding: 0.3em;box-sizing: border-box;text-align: center;}#sk-container-id-3 label.sk-toggleable__label-arrow:before {content: \"▸\";float: left;margin-right: 0.25em;color: #696969;}#sk-container-id-3 label.sk-toggleable__label-arrow:hover:before {color: black;}#sk-container-id-3 div.sk-estimator:hover label.sk-toggleable__label-arrow:before {color: black;}#sk-container-id-3 div.sk-toggleable__content {max-height: 0;max-width: 0;overflow: hidden;text-align: left;background-color: #f0f8ff;}#sk-container-id-3 div.sk-toggleable__content pre {margin: 0.2em;color: black;border-radius: 0.25em;background-color: #f0f8ff;}#sk-container-id-3 input.sk-toggleable__control:checked~div.sk-toggleable__content {max-height: 200px;max-width: 100%;overflow: auto;}#sk-container-id-3 input.sk-toggleable__control:checked~label.sk-toggleable__label-arrow:before {content: \"▾\";}#sk-container-id-3 div.sk-estimator input.sk-toggleable__control:checked~label.sk-toggleable__label {background-color: #d4ebff;}#sk-container-id-3 div.sk-label input.sk-toggleable__control:checked~label.sk-toggleable__label {background-color: #d4ebff;}#sk-container-id-3 input.sk-hidden--visually {border: 0;clip: rect(1px 1px 1px 1px);clip: rect(1px, 1px, 1px, 1px);height: 1px;margin: -1px;overflow: hidden;padding: 0;position: absolute;width: 1px;}#sk-container-id-3 div.sk-estimator {font-family: monospace;background-color: #f0f8ff;border: 1px dotted black;border-radius: 0.25em;box-sizing: border-box;margin-bottom: 0.5em;}#sk-container-id-3 div.sk-estimator:hover {background-color: #d4ebff;}#sk-container-id-3 div.sk-parallel-item::after {content: \"\";width: 100%;border-bottom: 1px solid gray;flex-grow: 1;}#sk-container-id-3 div.sk-label:hover label.sk-toggleable__label {background-color: #d4ebff;}#sk-container-id-3 div.sk-serial::before {content: \"\";position: absolute;border-left: 1px solid gray;box-sizing: border-box;top: 0;bottom: 0;left: 50%;z-index: 0;}#sk-container-id-3 div.sk-serial {display: flex;flex-direction: column;align-items: center;background-color: white;padding-right: 0.2em;padding-left: 0.2em;position: relative;}#sk-container-id-3 div.sk-item {position: relative;z-index: 1;}#sk-container-id-3 div.sk-parallel {display: flex;align-items: stretch;justify-content: center;background-color: white;position: relative;}#sk-container-id-3 div.sk-item::before, #sk-container-id-3 div.sk-parallel-item::before {content: \"\";position: absolute;border-left: 1px solid gray;box-sizing: border-box;top: 0;bottom: 0;left: 50%;z-index: -1;}#sk-container-id-3 div.sk-parallel-item {display: flex;flex-direction: column;z-index: 1;position: relative;background-color: white;}#sk-container-id-3 div.sk-parallel-item:first-child::after {align-self: flex-end;width: 50%;}#sk-container-id-3 div.sk-parallel-item:last-child::after {align-self: flex-start;width: 50%;}#sk-container-id-3 div.sk-parallel-item:only-child::after {width: 0;}#sk-container-id-3 div.sk-dashed-wrapped {border: 1px dashed gray;margin: 0 0.4em 0.5em 0.4em;box-sizing: border-box;padding-bottom: 0.4em;background-color: white;}#sk-container-id-3 div.sk-label label {font-family: monospace;font-weight: bold;display: inline-block;line-height: 1.2em;}#sk-container-id-3 div.sk-label-container {text-align: center;}#sk-container-id-3 div.sk-container {/* jupyter's `normalize.less` sets `[hidden] { display: none; }` but bootstrap.min.css set `[hidden] { display: none !important; }` so we also need the `!important` here to be able to override the default hidden behavior on the sphinx rendered scikit-learn.org. See: https://github.com/scikit-learn/scikit-learn/issues/21755 */display: inline-block !important;position: relative;}#sk-container-id-3 div.sk-text-repr-fallback {display: none;}</style><div id=\"sk-container-id-3\" class=\"sk-top-container\"><div class=\"sk-text-repr-fallback\"><pre>XGBClassifier(base_score=0.5, booster=&#x27;gbtree&#x27;, callbacks=None,\n",
       "              colsample_bylevel=1, colsample_bynode=1, colsample_bytree=1,\n",
       "              early_stopping_rounds=None, enable_categorical=False,\n",
       "              eval_metric=None, gamma=0, gpu_id=-1, grow_policy=&#x27;depthwise&#x27;,\n",
       "              importance_type=None, interaction_constraints=&#x27;&#x27;,\n",
       "              learning_rate=0.1, max_bin=256, max_cat_to_onehot=4,\n",
       "              max_delta_step=0, max_depth=15, max_leaves=0, min_child_weight=1,\n",
       "              missing=nan, monotone_constraints=&#x27;()&#x27;, n_estimators=100,\n",
       "              n_jobs=0, num_parallel_tree=1, predictor=&#x27;auto&#x27;, random_state=0,\n",
       "              reg_alpha=0, reg_lambda=1, ...)</pre><b>In a Jupyter environment, please rerun this cell to show the HTML representation or trust the notebook. <br />On GitHub, the HTML representation is unable to render, please try loading this page with nbviewer.org.</b></div><div class=\"sk-container\" hidden><div class=\"sk-item\"><div class=\"sk-estimator sk-toggleable\"><input class=\"sk-toggleable__control sk-hidden--visually\" id=\"sk-estimator-id-3\" type=\"checkbox\" checked><label for=\"sk-estimator-id-3\" class=\"sk-toggleable__label sk-toggleable__label-arrow\">XGBClassifier</label><div class=\"sk-toggleable__content\"><pre>XGBClassifier(base_score=0.5, booster=&#x27;gbtree&#x27;, callbacks=None,\n",
       "              colsample_bylevel=1, colsample_bynode=1, colsample_bytree=1,\n",
       "              early_stopping_rounds=None, enable_categorical=False,\n",
       "              eval_metric=None, gamma=0, gpu_id=-1, grow_policy=&#x27;depthwise&#x27;,\n",
       "              importance_type=None, interaction_constraints=&#x27;&#x27;,\n",
       "              learning_rate=0.1, max_bin=256, max_cat_to_onehot=4,\n",
       "              max_delta_step=0, max_depth=15, max_leaves=0, min_child_weight=1,\n",
       "              missing=nan, monotone_constraints=&#x27;()&#x27;, n_estimators=100,\n",
       "              n_jobs=0, num_parallel_tree=1, predictor=&#x27;auto&#x27;, random_state=0,\n",
       "              reg_alpha=0, reg_lambda=1, ...)</pre></div></div></div></div></div>"
      ],
      "text/plain": [
       "XGBClassifier(base_score=0.5, booster='gbtree', callbacks=None,\n",
       "              colsample_bylevel=1, colsample_bynode=1, colsample_bytree=1,\n",
       "              early_stopping_rounds=None, enable_categorical=False,\n",
       "              eval_metric=None, gamma=0, gpu_id=-1, grow_policy='depthwise',\n",
       "              importance_type=None, interaction_constraints='',\n",
       "              learning_rate=0.1, max_bin=256, max_cat_to_onehot=4,\n",
       "              max_delta_step=0, max_depth=15, max_leaves=0, min_child_weight=1,\n",
       "              missing=nan, monotone_constraints='()', n_estimators=100,\n",
       "              n_jobs=0, num_parallel_tree=1, predictor='auto', random_state=0,\n",
       "              reg_alpha=0, reg_lambda=1, ...)"
      ]
     },
     "execution_count": 27,
     "metadata": {},
     "output_type": "execute_result"
    }
   ],
   "source": [
    "xgb = XGBClassifier(n_estimators=100, learning_rate=0.1, max_depth=15, random_state=0)\n",
    "\n",
    "xgb.fit(X_train, y_train)"
   ]
  },
  {
   "cell_type": "code",
   "execution_count": 28,
   "id": "d8698dd2",
   "metadata": {
    "ExecuteTime": {
     "end_time": "2022-07-20T01:27:55.927428Z",
     "start_time": "2022-07-20T01:27:54.938124Z"
    }
   },
   "outputs": [],
   "source": [
    "xgb_pred_train = xgb.predict(X_train)\n",
    "xgb_pred_test = xgb.predict(X_test)\n",
    "xgb_pred_val = xgb.predict(X_val)"
   ]
  },
  {
   "cell_type": "code",
   "execution_count": null,
   "id": "153a3059",
   "metadata": {
    "ExecuteTime": {
     "end_time": "2022-07-20T01:26:35.477585Z",
     "start_time": "2022-07-20T01:26:35.212295Z"
    }
   },
   "outputs": [],
   "source": [
    "#max_depth = 3\n",
    "print_classification_metrics(y_train, xgb_pred_train, \"XGB Train set에 대한 검증결과\")\n",
    "print_classification_metrics(y_test, xgb_pred_test, 'XGB Test set에 대한 검증결과')\n",
    "print_classification_metrics(y_val, xgb_pred_val, 'XGB Val set에 대한 검증결과')"
   ]
  },
  {
   "cell_type": "code",
   "execution_count": null,
   "id": "2bf95b27",
   "metadata": {},
   "outputs": [],
   "source": [
    "display_roc_curve(y_val, proba_val_rf, title='val_roc curve, score')\n",
    "display_roc_curve(y_test, proba_test_rf, title='test_roc curve, score')"
   ]
  },
  {
   "cell_type": "code",
   "execution_count": null,
   "id": "b9557a32",
   "metadata": {
    "ExecuteTime": {
     "end_time": "2022-07-20T01:27:17.771867Z",
     "start_time": "2022-07-20T01:27:17.644205Z"
    }
   },
   "outputs": [],
   "source": [
    "#max_depth = 10\n",
    "print_classification_metrics(y_train, xgb_pred_train, \"XGB Train set에 대한 검증결과\")\n",
    "print_classification_metrics(y_test, xgb_pred_test, 'XGB Test set에 대한 검증결과')\n",
    "print_classification_metrics(y_val, xgb_pred_val, 'XGB Val set에 대한 검증결과')"
   ]
  },
  {
   "cell_type": "code",
   "execution_count": null,
   "id": "4b7073b4",
   "metadata": {},
   "outputs": [],
   "source": [
    "display_roc_curve(y_val, proba_val_rf, title='val_roc curve, score')\n",
    "display_roc_curve(y_test, proba_test_rf, title='test_roc curve, score')"
   ]
  },
  {
   "cell_type": "code",
   "execution_count": 29,
   "id": "7cee2843",
   "metadata": {
    "ExecuteTime": {
     "end_time": "2022-07-20T01:27:59.378468Z",
     "start_time": "2022-07-20T01:27:59.227158Z"
    }
   },
   "outputs": [
    {
     "name": "stdout",
     "output_type": "stream",
     "text": [
      "==================================================\n",
      "XGB Train set에 대한 검증결과\n",
      "==================================================\n",
      "정확도(Accuracy): 0.999790506973125\n",
      "재현율(Recall): 0.9996738421395955\n",
      "정밀도(Precision): 0.9997553616570171\n",
      "F1 점수(F1 Score) 0.9997146002364741\n",
      "==================================================\n",
      "==================================================\n",
      "XGB Test set에 대한 검증결과\n",
      "==================================================\n",
      "정확도(Accuracy): 0.9290780141843972\n",
      "재현율(Recall): 0.9066536680477699\n",
      "정밀도(Precision): 0.901381148534044\n",
      "F1 점수(F1 Score) 0.9040097205346294\n",
      "==================================================\n",
      "==================================================\n",
      "XGB Val set에 대한 검증결과\n",
      "==================================================\n",
      "정확도(Accuracy): 0.7521321483077476\n",
      "재현율(Recall): 0.6939823874755382\n",
      "정밀도(Precision): 0.6526340004600875\n",
      "F1 점수(F1 Score) 0.6726733847065798\n",
      "==================================================\n"
     ]
    }
   ],
   "source": [
    "#max_depth = 15\n",
    "print_classification_metrics(y_train, xgb_pred_train, \"XGB Train set에 대한 검증결과\")\n",
    "print_classification_metrics(y_test, xgb_pred_test, 'XGB Test set에 대한 검증결과')\n",
    "print_classification_metrics(y_val, xgb_pred_val, 'XGB Val set에 대한 검증결과')"
   ]
  },
  {
   "cell_type": "code",
   "execution_count": null,
   "id": "6c966d7d",
   "metadata": {},
   "outputs": [],
   "source": [
    "display_roc_curve(y_val, proba_val_rf, title='val_roc curve, score')\n",
    "display_roc_curve(y_test, proba_test_rf, title='test_roc curve, score')"
   ]
  },
  {
   "cell_type": "code",
   "execution_count": null,
   "id": "7c1d5949",
   "metadata": {},
   "outputs": [],
   "source": []
  },
  {
   "cell_type": "code",
   "execution_count": null,
   "id": "f1262b6f",
   "metadata": {},
   "outputs": [],
   "source": []
  },
  {
   "cell_type": "code",
   "execution_count": null,
   "id": "27e569e0",
   "metadata": {},
   "outputs": [],
   "source": []
  },
  {
   "cell_type": "code",
   "execution_count": null,
   "id": "195946ff",
   "metadata": {},
   "outputs": [],
   "source": []
  },
  {
   "cell_type": "code",
   "execution_count": null,
   "id": "ccf4b3ff",
   "metadata": {},
   "outputs": [],
   "source": []
  },
  {
   "cell_type": "code",
   "execution_count": null,
   "id": "acb759dc",
   "metadata": {},
   "outputs": [],
   "source": []
  }
 ],
 "metadata": {
  "kernelspec": {
   "display_name": "Python 3 (ipykernel)",
   "language": "python",
   "name": "python3"
  },
  "language_info": {
   "codemirror_mode": {
    "name": "ipython",
    "version": 3
   },
   "file_extension": ".py",
   "mimetype": "text/x-python",
   "name": "python",
   "nbconvert_exporter": "python",
   "pygments_lexer": "ipython3",
   "version": "3.8.13"
  }
 },
 "nbformat": 4,
 "nbformat_minor": 5
}
