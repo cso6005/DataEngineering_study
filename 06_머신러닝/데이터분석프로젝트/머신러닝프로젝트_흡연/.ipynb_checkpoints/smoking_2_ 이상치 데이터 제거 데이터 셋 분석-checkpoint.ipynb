{
 "cells": [
  {
   "cell_type": "code",
   "execution_count": 138,
   "id": "40098299",
   "metadata": {},
   "outputs": [],
   "source": [
    "import numpy as np\n",
    "import pandas as pd\n",
    "import matplotlib.pyplot as plt\n",
    "import seaborn as sns\n",
    "\n",
    "import warnings \n",
    "warnings.filterwarnings(action = 'ignore')"
   ]
  },
  {
   "cell_type": "code",
   "execution_count": 139,
   "id": "3f39f2ef",
   "metadata": {},
   "outputs": [
    {
     "data": {
      "text/html": [
       "<div>\n",
       "<style scoped>\n",
       "    .dataframe tbody tr th:only-of-type {\n",
       "        vertical-align: middle;\n",
       "    }\n",
       "\n",
       "    .dataframe tbody tr th {\n",
       "        vertical-align: top;\n",
       "    }\n",
       "\n",
       "    .dataframe thead th {\n",
       "        text-align: right;\n",
       "    }\n",
       "</style>\n",
       "<table border=\"1\" class=\"dataframe\">\n",
       "  <thead>\n",
       "    <tr style=\"text-align: right;\">\n",
       "      <th></th>\n",
       "      <th>gender</th>\n",
       "      <th>age</th>\n",
       "      <th>height(cm)</th>\n",
       "      <th>weight(kg)</th>\n",
       "      <th>waist(cm)</th>\n",
       "      <th>eyesight(left)</th>\n",
       "      <th>eyesight(right)</th>\n",
       "      <th>hearing(left)</th>\n",
       "      <th>hearing(right)</th>\n",
       "      <th>systolic</th>\n",
       "      <th>...</th>\n",
       "      <th>hemoglobin</th>\n",
       "      <th>Urine protein</th>\n",
       "      <th>serum creatinine</th>\n",
       "      <th>AST</th>\n",
       "      <th>ALT</th>\n",
       "      <th>Gtp</th>\n",
       "      <th>oral</th>\n",
       "      <th>dental caries</th>\n",
       "      <th>tartar</th>\n",
       "      <th>smoking</th>\n",
       "    </tr>\n",
       "    <tr>\n",
       "      <th>ID</th>\n",
       "      <th></th>\n",
       "      <th></th>\n",
       "      <th></th>\n",
       "      <th></th>\n",
       "      <th></th>\n",
       "      <th></th>\n",
       "      <th></th>\n",
       "      <th></th>\n",
       "      <th></th>\n",
       "      <th></th>\n",
       "      <th></th>\n",
       "      <th></th>\n",
       "      <th></th>\n",
       "      <th></th>\n",
       "      <th></th>\n",
       "      <th></th>\n",
       "      <th></th>\n",
       "      <th></th>\n",
       "      <th></th>\n",
       "      <th></th>\n",
       "      <th></th>\n",
       "    </tr>\n",
       "  </thead>\n",
       "  <tbody>\n",
       "    <tr>\n",
       "      <th>0</th>\n",
       "      <td>F</td>\n",
       "      <td>40</td>\n",
       "      <td>155</td>\n",
       "      <td>60</td>\n",
       "      <td>81.3</td>\n",
       "      <td>1.2</td>\n",
       "      <td>1.0</td>\n",
       "      <td>1.0</td>\n",
       "      <td>1.0</td>\n",
       "      <td>114.0</td>\n",
       "      <td>...</td>\n",
       "      <td>12.9</td>\n",
       "      <td>1.0</td>\n",
       "      <td>0.7</td>\n",
       "      <td>18.0</td>\n",
       "      <td>19.0</td>\n",
       "      <td>27.0</td>\n",
       "      <td>Y</td>\n",
       "      <td>0</td>\n",
       "      <td>Y</td>\n",
       "      <td>0</td>\n",
       "    </tr>\n",
       "    <tr>\n",
       "      <th>1</th>\n",
       "      <td>F</td>\n",
       "      <td>40</td>\n",
       "      <td>160</td>\n",
       "      <td>60</td>\n",
       "      <td>81.0</td>\n",
       "      <td>0.8</td>\n",
       "      <td>0.6</td>\n",
       "      <td>1.0</td>\n",
       "      <td>1.0</td>\n",
       "      <td>119.0</td>\n",
       "      <td>...</td>\n",
       "      <td>12.7</td>\n",
       "      <td>1.0</td>\n",
       "      <td>0.6</td>\n",
       "      <td>22.0</td>\n",
       "      <td>19.0</td>\n",
       "      <td>18.0</td>\n",
       "      <td>Y</td>\n",
       "      <td>0</td>\n",
       "      <td>Y</td>\n",
       "      <td>0</td>\n",
       "    </tr>\n",
       "    <tr>\n",
       "      <th>2</th>\n",
       "      <td>M</td>\n",
       "      <td>55</td>\n",
       "      <td>170</td>\n",
       "      <td>60</td>\n",
       "      <td>80.0</td>\n",
       "      <td>0.8</td>\n",
       "      <td>0.8</td>\n",
       "      <td>1.0</td>\n",
       "      <td>1.0</td>\n",
       "      <td>138.0</td>\n",
       "      <td>...</td>\n",
       "      <td>15.8</td>\n",
       "      <td>1.0</td>\n",
       "      <td>1.0</td>\n",
       "      <td>21.0</td>\n",
       "      <td>16.0</td>\n",
       "      <td>22.0</td>\n",
       "      <td>Y</td>\n",
       "      <td>0</td>\n",
       "      <td>N</td>\n",
       "      <td>1</td>\n",
       "    </tr>\n",
       "    <tr>\n",
       "      <th>3</th>\n",
       "      <td>M</td>\n",
       "      <td>40</td>\n",
       "      <td>165</td>\n",
       "      <td>70</td>\n",
       "      <td>88.0</td>\n",
       "      <td>1.5</td>\n",
       "      <td>1.5</td>\n",
       "      <td>1.0</td>\n",
       "      <td>1.0</td>\n",
       "      <td>100.0</td>\n",
       "      <td>...</td>\n",
       "      <td>14.7</td>\n",
       "      <td>1.0</td>\n",
       "      <td>1.0</td>\n",
       "      <td>19.0</td>\n",
       "      <td>26.0</td>\n",
       "      <td>18.0</td>\n",
       "      <td>Y</td>\n",
       "      <td>0</td>\n",
       "      <td>Y</td>\n",
       "      <td>0</td>\n",
       "    </tr>\n",
       "    <tr>\n",
       "      <th>4</th>\n",
       "      <td>F</td>\n",
       "      <td>40</td>\n",
       "      <td>155</td>\n",
       "      <td>60</td>\n",
       "      <td>86.0</td>\n",
       "      <td>1.0</td>\n",
       "      <td>1.0</td>\n",
       "      <td>1.0</td>\n",
       "      <td>1.0</td>\n",
       "      <td>120.0</td>\n",
       "      <td>...</td>\n",
       "      <td>12.5</td>\n",
       "      <td>1.0</td>\n",
       "      <td>0.6</td>\n",
       "      <td>16.0</td>\n",
       "      <td>14.0</td>\n",
       "      <td>22.0</td>\n",
       "      <td>Y</td>\n",
       "      <td>0</td>\n",
       "      <td>N</td>\n",
       "      <td>0</td>\n",
       "    </tr>\n",
       "  </tbody>\n",
       "</table>\n",
       "<p>5 rows × 26 columns</p>\n",
       "</div>"
      ],
      "text/plain": [
       "   gender  age  height(cm)  weight(kg)  waist(cm)  eyesight(left)  \\\n",
       "ID                                                                  \n",
       "0       F   40         155          60       81.3             1.2   \n",
       "1       F   40         160          60       81.0             0.8   \n",
       "2       M   55         170          60       80.0             0.8   \n",
       "3       M   40         165          70       88.0             1.5   \n",
       "4       F   40         155          60       86.0             1.0   \n",
       "\n",
       "    eyesight(right)  hearing(left)  hearing(right)  systolic  ...  hemoglobin  \\\n",
       "ID                                                            ...               \n",
       "0               1.0            1.0             1.0     114.0  ...        12.9   \n",
       "1               0.6            1.0             1.0     119.0  ...        12.7   \n",
       "2               0.8            1.0             1.0     138.0  ...        15.8   \n",
       "3               1.5            1.0             1.0     100.0  ...        14.7   \n",
       "4               1.0            1.0             1.0     120.0  ...        12.5   \n",
       "\n",
       "    Urine protein  serum creatinine   AST   ALT   Gtp  oral  dental caries  \\\n",
       "ID                                                                           \n",
       "0             1.0               0.7  18.0  19.0  27.0     Y              0   \n",
       "1             1.0               0.6  22.0  19.0  18.0     Y              0   \n",
       "2             1.0               1.0  21.0  16.0  22.0     Y              0   \n",
       "3             1.0               1.0  19.0  26.0  18.0     Y              0   \n",
       "4             1.0               0.6  16.0  14.0  22.0     Y              0   \n",
       "\n",
       "    tartar  smoking  \n",
       "ID                   \n",
       "0        Y        0  \n",
       "1        Y        0  \n",
       "2        N        1  \n",
       "3        Y        0  \n",
       "4        N        0  \n",
       "\n",
       "[5 rows x 26 columns]"
      ]
     },
     "execution_count": 139,
     "metadata": {},
     "output_type": "execute_result"
    }
   ],
   "source": [
    "dataset = pd.read_csv('./archive/smoking.csv', index_col='ID')\n",
    "dataset.head()"
   ]
  },
  {
   "cell_type": "code",
   "execution_count": 140,
   "id": "9403a205",
   "metadata": {
    "scrolled": true
   },
   "outputs": [
    {
     "name": "stdout",
     "output_type": "stream",
     "text": [
      "<class 'pandas.core.frame.DataFrame'>\n",
      "Int64Index: 55692 entries, 0 to 55691\n",
      "Data columns (total 26 columns):\n",
      " #   Column               Non-Null Count  Dtype  \n",
      "---  ------               --------------  -----  \n",
      " 0   gender               55692 non-null  object \n",
      " 1   age                  55692 non-null  int64  \n",
      " 2   height(cm)           55692 non-null  int64  \n",
      " 3   weight(kg)           55692 non-null  int64  \n",
      " 4   waist(cm)            55692 non-null  float64\n",
      " 5   eyesight(left)       55692 non-null  float64\n",
      " 6   eyesight(right)      55692 non-null  float64\n",
      " 7   hearing(left)        55692 non-null  float64\n",
      " 8   hearing(right)       55692 non-null  float64\n",
      " 9   systolic             55692 non-null  float64\n",
      " 10  relaxation           55692 non-null  float64\n",
      " 11  fasting blood sugar  55692 non-null  float64\n",
      " 12  Cholesterol          55692 non-null  float64\n",
      " 13  triglyceride         55692 non-null  float64\n",
      " 14  HDL                  55692 non-null  float64\n",
      " 15  LDL                  55692 non-null  float64\n",
      " 16  hemoglobin           55692 non-null  float64\n",
      " 17  Urine protein        55692 non-null  float64\n",
      " 18  serum creatinine     55692 non-null  float64\n",
      " 19  AST                  55692 non-null  float64\n",
      " 20  ALT                  55692 non-null  float64\n",
      " 21  Gtp                  55692 non-null  float64\n",
      " 22  oral                 55692 non-null  object \n",
      " 23  dental caries        55692 non-null  int64  \n",
      " 24  tartar               55692 non-null  object \n",
      " 25  smoking              55692 non-null  int64  \n",
      "dtypes: float64(18), int64(5), object(3)\n",
      "memory usage: 11.5+ MB\n"
     ]
    }
   ],
   "source": [
    "dataset.info()"
   ]
  },
  {
   "cell_type": "code",
   "execution_count": null,
   "id": "4ba95049",
   "metadata": {},
   "outputs": [],
   "source": []
  },
  {
   "cell_type": "markdown",
   "id": "ad86dc5e",
   "metadata": {},
   "source": [
    "### 이상치 계산\n",
    "- IQR"
   ]
  },
  {
   "cell_type": "code",
   "execution_count": 141,
   "id": "c0ef9376",
   "metadata": {},
   "outputs": [
    {
     "data": {
      "text/plain": [
       "(55692, 18)"
      ]
     },
     "execution_count": 141,
     "metadata": {},
     "output_type": "execute_result"
    }
   ],
   "source": [
    "# 연속형 데이터만 \n",
    "\n",
    "dataset_c = dataset.drop(labels = ['oral', 'gender','dental caries', 'tartar', 'hearing(right)','hearing(left)', 'smoking','Urine protein'], axis=1)\n",
    "dataset_c.shape"
   ]
  },
  {
   "cell_type": "code",
   "execution_count": 142,
   "id": "6507bfbb",
   "metadata": {},
   "outputs": [],
   "source": [
    "# 연속형 데이터 + smoking\n",
    "dataset_c_y = dataset.drop(labels = ['oral', 'gender','dental caries', 'tartar', 'hearing(right)','hearing(left)','Urine protein'], axis=1)\n"
   ]
  },
  {
   "cell_type": "code",
   "execution_count": 143,
   "id": "9dc727cc",
   "metadata": {},
   "outputs": [],
   "source": [
    "def outlier_check(dataset):\n",
    "    for data in dataset.columns:\n",
    "        col_data = dataset[data]\n",
    "        q1 = np.percentile(col_data, 25)\n",
    "        q3 = np.percentile(col_data, 75)\n",
    "        IQR = 1.5 * (q3 - q1)\n",
    "        lowest = q1 - IQR\n",
    "        highest = q3 + IQR\n",
    "        outlier_idx = dataset[(col_data < lowest) | (col_data > highest)].index\n",
    "        print(f'{data}의 이상치 : {len(outlier_idx)}')\n",
    "    return outlier_idx"
   ]
  },
  {
   "cell_type": "code",
   "execution_count": 144,
   "id": "bdf3143a",
   "metadata": {},
   "outputs": [
    {
     "name": "stdout",
     "output_type": "stream",
     "text": [
      "age의 이상치 : 295\n",
      "height(cm)의 이상치 : 249\n",
      "weight(kg)의 이상치 : 198\n",
      "waist(cm)의 이상치 : 496\n",
      "eyesight(left)의 이상치 : 1314\n",
      "eyesight(right)의 이상치 : 1357\n",
      "systolic의 이상치 : 685\n",
      "relaxation의 이상치 : 706\n",
      "fasting blood sugar의 이상치 : 3298\n",
      "Cholesterol의 이상치 : 605\n",
      "triglyceride의 이상치 : 2256\n",
      "HDL의 이상치 : 1011\n",
      "LDL의 이상치 : 634\n",
      "hemoglobin의 이상치 : 669\n",
      "serum creatinine의 이상치 : 3147\n",
      "AST의 이상치 : 3699\n",
      "ALT의 이상치 : 3710\n",
      "Gtp의 이상치 : 5019\n"
     ]
    }
   ],
   "source": [
    "out_idx = outlier_check(dataset_c) # 연속형 데이터 셋 dataset_c"
   ]
  },
  {
   "cell_type": "code",
   "execution_count": 145,
   "id": "c01ada65",
   "metadata": {},
   "outputs": [
    {
     "data": {
      "text/plain": [
       "(5019,)"
      ]
     },
     "execution_count": 145,
     "metadata": {},
     "output_type": "execute_result"
    }
   ],
   "source": [
    "out_idx.shape"
   ]
  },
  {
   "cell_type": "code",
   "execution_count": 146,
   "id": "2b58de9e",
   "metadata": {},
   "outputs": [],
   "source": [
    "def outlier_drop(dataset, idx):\n",
    "    data = dataset.drop(idx, axis = 0)\n",
    "    return data\n"
   ]
  },
  {
   "cell_type": "code",
   "execution_count": 147,
   "id": "36d0affa",
   "metadata": {},
   "outputs": [],
   "source": [
    "dataset_out_drop = outlier_drop(dataset, out_idx)"
   ]
  },
  {
   "cell_type": "code",
   "execution_count": 148,
   "id": "b851f625",
   "metadata": {},
   "outputs": [
    {
     "data": {
      "text/html": [
       "<div>\n",
       "<style scoped>\n",
       "    .dataframe tbody tr th:only-of-type {\n",
       "        vertical-align: middle;\n",
       "    }\n",
       "\n",
       "    .dataframe tbody tr th {\n",
       "        vertical-align: top;\n",
       "    }\n",
       "\n",
       "    .dataframe thead th {\n",
       "        text-align: right;\n",
       "    }\n",
       "</style>\n",
       "<table border=\"1\" class=\"dataframe\">\n",
       "  <thead>\n",
       "    <tr style=\"text-align: right;\">\n",
       "      <th></th>\n",
       "      <th>gender</th>\n",
       "      <th>age</th>\n",
       "      <th>height(cm)</th>\n",
       "      <th>weight(kg)</th>\n",
       "      <th>waist(cm)</th>\n",
       "      <th>eyesight(left)</th>\n",
       "      <th>eyesight(right)</th>\n",
       "      <th>hearing(left)</th>\n",
       "      <th>hearing(right)</th>\n",
       "      <th>systolic</th>\n",
       "      <th>...</th>\n",
       "      <th>hemoglobin</th>\n",
       "      <th>Urine protein</th>\n",
       "      <th>serum creatinine</th>\n",
       "      <th>AST</th>\n",
       "      <th>ALT</th>\n",
       "      <th>Gtp</th>\n",
       "      <th>oral</th>\n",
       "      <th>dental caries</th>\n",
       "      <th>tartar</th>\n",
       "      <th>smoking</th>\n",
       "    </tr>\n",
       "    <tr>\n",
       "      <th>ID</th>\n",
       "      <th></th>\n",
       "      <th></th>\n",
       "      <th></th>\n",
       "      <th></th>\n",
       "      <th></th>\n",
       "      <th></th>\n",
       "      <th></th>\n",
       "      <th></th>\n",
       "      <th></th>\n",
       "      <th></th>\n",
       "      <th></th>\n",
       "      <th></th>\n",
       "      <th></th>\n",
       "      <th></th>\n",
       "      <th></th>\n",
       "      <th></th>\n",
       "      <th></th>\n",
       "      <th></th>\n",
       "      <th></th>\n",
       "      <th></th>\n",
       "      <th></th>\n",
       "    </tr>\n",
       "  </thead>\n",
       "  <tbody>\n",
       "    <tr>\n",
       "      <th>0</th>\n",
       "      <td>F</td>\n",
       "      <td>40</td>\n",
       "      <td>155</td>\n",
       "      <td>60</td>\n",
       "      <td>81.3</td>\n",
       "      <td>1.2</td>\n",
       "      <td>1.0</td>\n",
       "      <td>1.0</td>\n",
       "      <td>1.0</td>\n",
       "      <td>114.0</td>\n",
       "      <td>...</td>\n",
       "      <td>12.9</td>\n",
       "      <td>1.0</td>\n",
       "      <td>0.7</td>\n",
       "      <td>18.0</td>\n",
       "      <td>19.0</td>\n",
       "      <td>27.0</td>\n",
       "      <td>Y</td>\n",
       "      <td>0</td>\n",
       "      <td>Y</td>\n",
       "      <td>0</td>\n",
       "    </tr>\n",
       "    <tr>\n",
       "      <th>1</th>\n",
       "      <td>F</td>\n",
       "      <td>40</td>\n",
       "      <td>160</td>\n",
       "      <td>60</td>\n",
       "      <td>81.0</td>\n",
       "      <td>0.8</td>\n",
       "      <td>0.6</td>\n",
       "      <td>1.0</td>\n",
       "      <td>1.0</td>\n",
       "      <td>119.0</td>\n",
       "      <td>...</td>\n",
       "      <td>12.7</td>\n",
       "      <td>1.0</td>\n",
       "      <td>0.6</td>\n",
       "      <td>22.0</td>\n",
       "      <td>19.0</td>\n",
       "      <td>18.0</td>\n",
       "      <td>Y</td>\n",
       "      <td>0</td>\n",
       "      <td>Y</td>\n",
       "      <td>0</td>\n",
       "    </tr>\n",
       "    <tr>\n",
       "      <th>2</th>\n",
       "      <td>M</td>\n",
       "      <td>55</td>\n",
       "      <td>170</td>\n",
       "      <td>60</td>\n",
       "      <td>80.0</td>\n",
       "      <td>0.8</td>\n",
       "      <td>0.8</td>\n",
       "      <td>1.0</td>\n",
       "      <td>1.0</td>\n",
       "      <td>138.0</td>\n",
       "      <td>...</td>\n",
       "      <td>15.8</td>\n",
       "      <td>1.0</td>\n",
       "      <td>1.0</td>\n",
       "      <td>21.0</td>\n",
       "      <td>16.0</td>\n",
       "      <td>22.0</td>\n",
       "      <td>Y</td>\n",
       "      <td>0</td>\n",
       "      <td>N</td>\n",
       "      <td>1</td>\n",
       "    </tr>\n",
       "    <tr>\n",
       "      <th>3</th>\n",
       "      <td>M</td>\n",
       "      <td>40</td>\n",
       "      <td>165</td>\n",
       "      <td>70</td>\n",
       "      <td>88.0</td>\n",
       "      <td>1.5</td>\n",
       "      <td>1.5</td>\n",
       "      <td>1.0</td>\n",
       "      <td>1.0</td>\n",
       "      <td>100.0</td>\n",
       "      <td>...</td>\n",
       "      <td>14.7</td>\n",
       "      <td>1.0</td>\n",
       "      <td>1.0</td>\n",
       "      <td>19.0</td>\n",
       "      <td>26.0</td>\n",
       "      <td>18.0</td>\n",
       "      <td>Y</td>\n",
       "      <td>0</td>\n",
       "      <td>Y</td>\n",
       "      <td>0</td>\n",
       "    </tr>\n",
       "    <tr>\n",
       "      <th>4</th>\n",
       "      <td>F</td>\n",
       "      <td>40</td>\n",
       "      <td>155</td>\n",
       "      <td>60</td>\n",
       "      <td>86.0</td>\n",
       "      <td>1.0</td>\n",
       "      <td>1.0</td>\n",
       "      <td>1.0</td>\n",
       "      <td>1.0</td>\n",
       "      <td>120.0</td>\n",
       "      <td>...</td>\n",
       "      <td>12.5</td>\n",
       "      <td>1.0</td>\n",
       "      <td>0.6</td>\n",
       "      <td>16.0</td>\n",
       "      <td>14.0</td>\n",
       "      <td>22.0</td>\n",
       "      <td>Y</td>\n",
       "      <td>0</td>\n",
       "      <td>N</td>\n",
       "      <td>0</td>\n",
       "    </tr>\n",
       "    <tr>\n",
       "      <th>...</th>\n",
       "      <td>...</td>\n",
       "      <td>...</td>\n",
       "      <td>...</td>\n",
       "      <td>...</td>\n",
       "      <td>...</td>\n",
       "      <td>...</td>\n",
       "      <td>...</td>\n",
       "      <td>...</td>\n",
       "      <td>...</td>\n",
       "      <td>...</td>\n",
       "      <td>...</td>\n",
       "      <td>...</td>\n",
       "      <td>...</td>\n",
       "      <td>...</td>\n",
       "      <td>...</td>\n",
       "      <td>...</td>\n",
       "      <td>...</td>\n",
       "      <td>...</td>\n",
       "      <td>...</td>\n",
       "      <td>...</td>\n",
       "      <td>...</td>\n",
       "    </tr>\n",
       "    <tr>\n",
       "      <th>55676</th>\n",
       "      <td>F</td>\n",
       "      <td>40</td>\n",
       "      <td>170</td>\n",
       "      <td>65</td>\n",
       "      <td>75.0</td>\n",
       "      <td>0.9</td>\n",
       "      <td>0.9</td>\n",
       "      <td>1.0</td>\n",
       "      <td>1.0</td>\n",
       "      <td>110.0</td>\n",
       "      <td>...</td>\n",
       "      <td>12.3</td>\n",
       "      <td>1.0</td>\n",
       "      <td>0.6</td>\n",
       "      <td>14.0</td>\n",
       "      <td>7.0</td>\n",
       "      <td>10.0</td>\n",
       "      <td>Y</td>\n",
       "      <td>1</td>\n",
       "      <td>Y</td>\n",
       "      <td>0</td>\n",
       "    </tr>\n",
       "    <tr>\n",
       "      <th>55681</th>\n",
       "      <td>F</td>\n",
       "      <td>45</td>\n",
       "      <td>160</td>\n",
       "      <td>50</td>\n",
       "      <td>70.0</td>\n",
       "      <td>1.2</td>\n",
       "      <td>1.2</td>\n",
       "      <td>1.0</td>\n",
       "      <td>1.0</td>\n",
       "      <td>101.0</td>\n",
       "      <td>...</td>\n",
       "      <td>14.0</td>\n",
       "      <td>1.0</td>\n",
       "      <td>0.9</td>\n",
       "      <td>20.0</td>\n",
       "      <td>12.0</td>\n",
       "      <td>14.0</td>\n",
       "      <td>Y</td>\n",
       "      <td>0</td>\n",
       "      <td>Y</td>\n",
       "      <td>0</td>\n",
       "    </tr>\n",
       "    <tr>\n",
       "      <th>55683</th>\n",
       "      <td>F</td>\n",
       "      <td>55</td>\n",
       "      <td>160</td>\n",
       "      <td>50</td>\n",
       "      <td>68.5</td>\n",
       "      <td>1.0</td>\n",
       "      <td>1.2</td>\n",
       "      <td>1.0</td>\n",
       "      <td>1.0</td>\n",
       "      <td>117.0</td>\n",
       "      <td>...</td>\n",
       "      <td>12.4</td>\n",
       "      <td>1.0</td>\n",
       "      <td>0.5</td>\n",
       "      <td>17.0</td>\n",
       "      <td>11.0</td>\n",
       "      <td>12.0</td>\n",
       "      <td>Y</td>\n",
       "      <td>0</td>\n",
       "      <td>N</td>\n",
       "      <td>0</td>\n",
       "    </tr>\n",
       "    <tr>\n",
       "      <th>55684</th>\n",
       "      <td>M</td>\n",
       "      <td>60</td>\n",
       "      <td>165</td>\n",
       "      <td>60</td>\n",
       "      <td>78.0</td>\n",
       "      <td>0.8</td>\n",
       "      <td>1.0</td>\n",
       "      <td>1.0</td>\n",
       "      <td>1.0</td>\n",
       "      <td>133.0</td>\n",
       "      <td>...</td>\n",
       "      <td>14.4</td>\n",
       "      <td>1.0</td>\n",
       "      <td>0.7</td>\n",
       "      <td>20.0</td>\n",
       "      <td>19.0</td>\n",
       "      <td>18.0</td>\n",
       "      <td>Y</td>\n",
       "      <td>0</td>\n",
       "      <td>N</td>\n",
       "      <td>0</td>\n",
       "    </tr>\n",
       "    <tr>\n",
       "      <th>55691</th>\n",
       "      <td>M</td>\n",
       "      <td>55</td>\n",
       "      <td>160</td>\n",
       "      <td>65</td>\n",
       "      <td>85.0</td>\n",
       "      <td>0.9</td>\n",
       "      <td>0.7</td>\n",
       "      <td>1.0</td>\n",
       "      <td>1.0</td>\n",
       "      <td>124.0</td>\n",
       "      <td>...</td>\n",
       "      <td>15.0</td>\n",
       "      <td>1.0</td>\n",
       "      <td>0.8</td>\n",
       "      <td>26.0</td>\n",
       "      <td>29.0</td>\n",
       "      <td>41.0</td>\n",
       "      <td>Y</td>\n",
       "      <td>0</td>\n",
       "      <td>Y</td>\n",
       "      <td>1</td>\n",
       "    </tr>\n",
       "  </tbody>\n",
       "</table>\n",
       "<p>50673 rows × 26 columns</p>\n",
       "</div>"
      ],
      "text/plain": [
       "      gender  age  height(cm)  weight(kg)  waist(cm)  eyesight(left)  \\\n",
       "ID                                                                     \n",
       "0          F   40         155          60       81.3             1.2   \n",
       "1          F   40         160          60       81.0             0.8   \n",
       "2          M   55         170          60       80.0             0.8   \n",
       "3          M   40         165          70       88.0             1.5   \n",
       "4          F   40         155          60       86.0             1.0   \n",
       "...      ...  ...         ...         ...        ...             ...   \n",
       "55676      F   40         170          65       75.0             0.9   \n",
       "55681      F   45         160          50       70.0             1.2   \n",
       "55683      F   55         160          50       68.5             1.0   \n",
       "55684      M   60         165          60       78.0             0.8   \n",
       "55691      M   55         160          65       85.0             0.9   \n",
       "\n",
       "       eyesight(right)  hearing(left)  hearing(right)  systolic  ...  \\\n",
       "ID                                                               ...   \n",
       "0                  1.0            1.0             1.0     114.0  ...   \n",
       "1                  0.6            1.0             1.0     119.0  ...   \n",
       "2                  0.8            1.0             1.0     138.0  ...   \n",
       "3                  1.5            1.0             1.0     100.0  ...   \n",
       "4                  1.0            1.0             1.0     120.0  ...   \n",
       "...                ...            ...             ...       ...  ...   \n",
       "55676              0.9            1.0             1.0     110.0  ...   \n",
       "55681              1.2            1.0             1.0     101.0  ...   \n",
       "55683              1.2            1.0             1.0     117.0  ...   \n",
       "55684              1.0            1.0             1.0     133.0  ...   \n",
       "55691              0.7            1.0             1.0     124.0  ...   \n",
       "\n",
       "       hemoglobin  Urine protein  serum creatinine   AST   ALT   Gtp  oral  \\\n",
       "ID                                                                           \n",
       "0            12.9            1.0               0.7  18.0  19.0  27.0     Y   \n",
       "1            12.7            1.0               0.6  22.0  19.0  18.0     Y   \n",
       "2            15.8            1.0               1.0  21.0  16.0  22.0     Y   \n",
       "3            14.7            1.0               1.0  19.0  26.0  18.0     Y   \n",
       "4            12.5            1.0               0.6  16.0  14.0  22.0     Y   \n",
       "...           ...            ...               ...   ...   ...   ...   ...   \n",
       "55676        12.3            1.0               0.6  14.0   7.0  10.0     Y   \n",
       "55681        14.0            1.0               0.9  20.0  12.0  14.0     Y   \n",
       "55683        12.4            1.0               0.5  17.0  11.0  12.0     Y   \n",
       "55684        14.4            1.0               0.7  20.0  19.0  18.0     Y   \n",
       "55691        15.0            1.0               0.8  26.0  29.0  41.0     Y   \n",
       "\n",
       "       dental caries  tartar  smoking  \n",
       "ID                                     \n",
       "0                  0       Y        0  \n",
       "1                  0       Y        0  \n",
       "2                  0       N        1  \n",
       "3                  0       Y        0  \n",
       "4                  0       N        0  \n",
       "...              ...     ...      ...  \n",
       "55676              1       Y        0  \n",
       "55681              0       Y        0  \n",
       "55683              0       N        0  \n",
       "55684              0       N        0  \n",
       "55691              0       Y        1  \n",
       "\n",
       "[50673 rows x 26 columns]"
      ]
     },
     "execution_count": 148,
     "metadata": {},
     "output_type": "execute_result"
    }
   ],
   "source": [
    "dataset_out_drop"
   ]
  },
  {
   "cell_type": "code",
   "execution_count": 149,
   "id": "1db43e13",
   "metadata": {},
   "outputs": [
    {
     "data": {
      "text/plain": [
       "(50673, 18)"
      ]
     },
     "execution_count": 149,
     "metadata": {},
     "output_type": "execute_result"
    }
   ],
   "source": [
    "# 연속형 데이터만 \n",
    "\n",
    "dataset_d_c = dataset_out_drop.drop(labels = ['oral', 'gender','dental caries', 'tartar', 'hearing(right)','hearing(left)', 'smoking','Urine protein'], axis=1)\n",
    "dataset_d_c.shape# 연속형 데이터 boxplot"
   ]
  },
  {
   "cell_type": "code",
   "execution_count": 150,
   "id": "8c7218aa",
   "metadata": {},
   "outputs": [],
   "source": [
    "def boxplot_c(data):\n",
    "    plt.figure(figsize=(25,25))\n",
    "    for col_idx in range(len(data.columns)):\n",
    "        plt.subplot(3,3, col_idx+1)\n",
    "        plt.boxplot(data[data.columns[col_idx]])\n",
    "        plt.title(data.columns[col_idx], fontsize = 30)\n",
    "    plt.show()"
   ]
  },
  {
   "cell_type": "code",
   "execution_count": 151,
   "id": "d3ec01b0",
   "metadata": {
    "scrolled": true
   },
   "outputs": [
    {
     "data": {
      "image/png": "[encoded data removed]",
      "text/plain": [
       "<Figure size 1800x1800 with 9 Axes>"
      ]
     },
     "metadata": {
      "needs_background": "light"
     },
     "output_type": "display_data"
    }
   ],
   "source": [
    "boxplot_c(dataset_d_c[dataset_d_c.columns[:9]])"
   ]
  },
  {
   "cell_type": "code",
   "execution_count": 152,
   "id": "c1c61c34",
   "metadata": {
    "scrolled": true
   },
   "outputs": [
    {
     "data": {
      "image/png": "[encoded data removed]",
      "text/plain": [
       "<Figure size 1800x1800 with 9 Axes>"
      ]
     },
     "metadata": {
      "needs_background": "light"
     },
     "output_type": "display_data"
    }
   ],
   "source": [
    "boxplot_c(dataset_d_c[dataset_d_c.columns[9:]])"
   ]
  },
  {
   "cell_type": "code",
   "execution_count": 153,
   "id": "addafea8",
   "metadata": {
    "scrolled": false
   },
   "outputs": [
    {
     "name": "stdout",
     "output_type": "stream",
     "text": [
      "age의 이상치 : 277\n",
      "height(cm)의 이상치 : 1\n",
      "weight(kg)의 이상치 : 148\n",
      "waist(cm)의 이상치 : 399\n",
      "eyesight(left)의 이상치 : 1202\n",
      "eyesight(right)의 이상치 : 1221\n",
      "systolic의 이상치 : 464\n",
      "relaxation의 이상치 : 1231\n",
      "fasting blood sugar의 이상치 : 2862\n",
      "Cholesterol의 이상치 : 659\n",
      "triglyceride의 이상치 : 2286\n",
      "HDL의 이상치 : 913\n",
      "LDL의 이상치 : 633\n",
      "hemoglobin의 이상치 : 647\n",
      "serum creatinine의 이상치 : 213\n",
      "AST의 이상치 : 2602\n",
      "ALT의 이상치 : 3316\n",
      "Gtp의 이상치 : 1836\n"
     ]
    }
   ],
   "source": [
    "# 이상치 두번째 검사 - 일단 이건 drop 안함.\n",
    "out_idx2 = outlier_check(dataset_d_c) # 연속형 데이터 셋 dataset_c"
   ]
  },
  {
   "cell_type": "code",
   "execution_count": 57,
   "id": "7e549b19",
   "metadata": {},
   "outputs": [
    {
     "data": {
      "text/plain": [
       "Int64Index([   31,    34,    38,    71,   126,   186,   195,   215,   271,\n",
       "              311,\n",
       "            ...\n",
       "            53996, 54066, 54416, 54435, 54492, 54878, 54916, 55066, 55224,\n",
       "            55430],\n",
       "           dtype='int64', name='ID', length=1836)"
      ]
     },
     "execution_count": 57,
     "metadata": {},
     "output_type": "execute_result"
    }
   ],
   "source": [
    "out_idx2"
   ]
  },
  {
   "cell_type": "code",
   "execution_count": 61,
   "id": "5d1d5cb5",
   "metadata": {},
   "outputs": [],
   "source": [
    "dataset_out_drop2 = outlier_drop(dataset_out_drop, out_idx2)"
   ]
  },
  {
   "cell_type": "code",
   "execution_count": 62,
   "id": "305c5609",
   "metadata": {},
   "outputs": [
    {
     "name": "stdout",
     "output_type": "stream",
     "text": [
      "<class 'pandas.core.frame.DataFrame'>\n",
      "Int64Index: 48837 entries, 0 to 55691\n",
      "Data columns (total 26 columns):\n",
      " #   Column               Non-Null Count  Dtype  \n",
      "---  ------               --------------  -----  \n",
      " 0   gender               48837 non-null  object \n",
      " 1   age                  48837 non-null  int64  \n",
      " 2   height(cm)           48837 non-null  int64  \n",
      " 3   weight(kg)           48837 non-null  int64  \n",
      " 4   waist(cm)            48837 non-null  float64\n",
      " 5   eyesight(left)       48837 non-null  float64\n",
      " 6   eyesight(right)      48837 non-null  float64\n",
      " 7   hearing(left)        48837 non-null  float64\n",
      " 8   hearing(right)       48837 non-null  float64\n",
      " 9   systolic             48837 non-null  float64\n",
      " 10  relaxation           48837 non-null  float64\n",
      " 11  fasting blood sugar  48837 non-null  float64\n",
      " 12  Cholesterol          48837 non-null  float64\n",
      " 13  triglyceride         48837 non-null  float64\n",
      " 14  HDL                  48837 non-null  float64\n",
      " 15  LDL                  48837 non-null  float64\n",
      " 16  hemoglobin           48837 non-null  float64\n",
      " 17  Urine protein        48837 non-null  float64\n",
      " 18  serum creatinine     48837 non-null  float64\n",
      " 19  AST                  48837 non-null  float64\n",
      " 20  ALT                  48837 non-null  float64\n",
      " 21  Gtp                  48837 non-null  float64\n",
      " 22  oral                 48837 non-null  object \n",
      " 23  dental caries        48837 non-null  int64  \n",
      " 24  tartar               48837 non-null  object \n",
      " 25  smoking              48837 non-null  int64  \n",
      "dtypes: float64(18), int64(5), object(3)\n",
      "memory usage: 10.1+ MB\n"
     ]
    }
   ],
   "source": [
    "dataset_out_drop2.info()"
   ]
  },
  {
   "cell_type": "code",
   "execution_count": 63,
   "id": "e27e5be8",
   "metadata": {},
   "outputs": [],
   "source": [
    "def data_load(df):\n",
    "    y = df['smoking']\n",
    "    X = df.drop(labels ='smoking', axis=1)\n",
    "    return X,y"
   ]
  },
  {
   "cell_type": "markdown",
   "id": "8f1a23b3",
   "metadata": {},
   "source": [
    "##### 이상치 한번제거"
   ]
  },
  {
   "cell_type": "code",
   "execution_count": 154,
   "id": "b61f9ca1",
   "metadata": {},
   "outputs": [
    {
     "data": {
      "text/plain": [
       "((50673, 25), (50673,))"
      ]
     },
     "execution_count": 154,
     "metadata": {},
     "output_type": "execute_result"
    }
   ],
   "source": [
    "X,y = data_load(dataset_out_drop)\n",
    "X.shape,y.shape"
   ]
  },
  {
   "cell_type": "markdown",
   "id": "40621f38",
   "metadata": {},
   "source": [
    "##### 이상치 두번제거"
   ]
  },
  {
   "cell_type": "code",
   "execution_count": 65,
   "id": "8f88cc4f",
   "metadata": {},
   "outputs": [
    {
     "data": {
      "text/plain": [
       "((48837, 25), (48837,))"
      ]
     },
     "execution_count": 65,
     "metadata": {},
     "output_type": "execute_result"
    }
   ],
   "source": [
    "X,y = data_load(dataset_out_drop2)\n",
    "X.shape,y.shape"
   ]
  },
  {
   "cell_type": "markdown",
   "id": "eb6e6dd1",
   "metadata": {},
   "source": [
    "### 데이터 전처리\n",
    "##### 1. 범주형 데이터 전처리\n"
   ]
  },
  {
   "cell_type": "markdown",
   "id": "7238b2d2",
   "metadata": {},
   "source": [
    "- Urine protein  - 6 - float64\n",
    "    - 범주형인가? 범주형인 듯\n",
    "    - 이것을 정수형 변환 또는 one hot encoding 해야 하나?\n",
    "    - 숫자의 차이가 모델에 영향을 미치는 모델에서는?.. "
   ]
  },
  {
   "cell_type": "code",
   "execution_count": 155,
   "id": "3dc8aa1d",
   "metadata": {},
   "outputs": [
    {
     "data": {
      "text/plain": [
       "1.0    48041\n",
       "2.0     1580\n",
       "3.0      768\n",
       "4.0      207\n",
       "5.0       69\n",
       "6.0        8\n",
       "Name: Urine protein, dtype: int64"
      ]
     },
     "execution_count": 155,
     "metadata": {},
     "output_type": "execute_result"
    }
   ],
   "source": [
    "X['Urine protein'].value_counts()"
   ]
  },
  {
   "cell_type": "code",
   "execution_count": 156,
   "id": "76d8ff16",
   "metadata": {
    "scrolled": true
   },
   "outputs": [
    {
     "data": {
      "text/plain": [
       "Y    50673\n",
       "Name: oral, dtype: int64"
      ]
     },
     "execution_count": 156,
     "metadata": {},
     "output_type": "execute_result"
    }
   ],
   "source": [
    "X['oral'].value_counts()"
   ]
  },
  {
   "cell_type": "code",
   "execution_count": 157,
   "id": "2d68cdc6",
   "metadata": {
    "scrolled": true
   },
   "outputs": [
    {
     "data": {
      "text/plain": [
       "M    30897\n",
       "F    19776\n",
       "Name: gender, dtype: int64"
      ]
     },
     "execution_count": 157,
     "metadata": {},
     "output_type": "execute_result"
    }
   ],
   "source": [
    "X['gender'].value_counts()"
   ]
  },
  {
   "cell_type": "code",
   "execution_count": 158,
   "id": "dcfb8404",
   "metadata": {},
   "outputs": [
    {
     "data": {
      "text/plain": [
       "Y    27943\n",
       "N    22730\n",
       "Name: tartar, dtype: int64"
      ]
     },
     "execution_count": 158,
     "metadata": {},
     "output_type": "execute_result"
    }
   ],
   "source": [
    "X['tartar'].value_counts()"
   ]
  },
  {
   "cell_type": "markdown",
   "id": "b68b1562",
   "metadata": {},
   "source": [
    "### 데이터 전처리\n",
    "- DecisionTree, 랜덤포레스트 모델(숫자차이가 영향을 줌) - Label Encoding 처리 (연속형-Feature scaling을 하지 않는다.)\n",
    "- 나머지 모델 - One hot encoding (연속형-Feature scaling 처리)\n",
    "\n",
    "\n",
    "- 범주형 데이터들이 이진 범주라 그냥 모두 labelencoding 해줌."
   ]
  },
  {
   "cell_type": "code",
   "execution_count": 159,
   "id": "cd5ffcde",
   "metadata": {},
   "outputs": [
    {
     "data": {
      "text/plain": [
       "(array([0, 1]), array([19776, 30897], dtype=int64))"
      ]
     },
     "execution_count": 159,
     "metadata": {},
     "output_type": "execute_result"
    }
   ],
   "source": [
    "from sklearn.preprocessing import LabelEncoder\n",
    "\n",
    "encoder = LabelEncoder()\n",
    "\n",
    "X['gender'] = encoder.fit_transform(X['gender'])\n",
    "np.unique(X['gender'], return_counts=True)\n"
   ]
  },
  {
   "cell_type": "code",
   "execution_count": 160,
   "id": "9b511a6f",
   "metadata": {},
   "outputs": [
    {
     "data": {
      "text/plain": [
       "(array([0, 1]), array([22730, 27943], dtype=int64))"
      ]
     },
     "execution_count": 160,
     "metadata": {},
     "output_type": "execute_result"
    }
   ],
   "source": [
    "X['tartar'] = encoder.fit_transform(X['tartar'])\n",
    "np.unique(X['tartar'], return_counts=True)\n",
    "\n"
   ]
  },
  {
   "cell_type": "code",
   "execution_count": 161,
   "id": "a950ee56",
   "metadata": {},
   "outputs": [
    {
     "data": {
      "text/plain": [
       "(array([1], dtype=int64), array([50673], dtype=int64))"
      ]
     },
     "execution_count": 161,
     "metadata": {},
     "output_type": "execute_result"
    }
   ],
   "source": [
    "X['oral'] = X[X['oral']=='Y']['oral'] = 1\n",
    "np.unique(X['oral'], return_counts=True)"
   ]
  },
  {
   "cell_type": "code",
   "execution_count": 162,
   "id": "c12aae5a",
   "metadata": {},
   "outputs": [
    {
     "data": {
      "text/plain": [
       "ID\n",
       "0        0\n",
       "1        0\n",
       "2        1\n",
       "3        0\n",
       "4        0\n",
       "        ..\n",
       "55676    0\n",
       "55681    0\n",
       "55683    0\n",
       "55684    0\n",
       "55691    1\n",
       "Name: smoking, Length: 50673, dtype: int64"
      ]
     },
     "execution_count": 162,
     "metadata": {},
     "output_type": "execute_result"
    }
   ],
   "source": [
    "y"
   ]
  },
  {
   "cell_type": "code",
   "execution_count": 163,
   "id": "49a45b49",
   "metadata": {
    "scrolled": false
   },
   "outputs": [
    {
     "data": {
      "text/html": [
       "<div>\n",
       "<style scoped>\n",
       "    .dataframe tbody tr th:only-of-type {\n",
       "        vertical-align: middle;\n",
       "    }\n",
       "\n",
       "    .dataframe tbody tr th {\n",
       "        vertical-align: top;\n",
       "    }\n",
       "\n",
       "    .dataframe thead th {\n",
       "        text-align: right;\n",
       "    }\n",
       "</style>\n",
       "<table border=\"1\" class=\"dataframe\">\n",
       "  <thead>\n",
       "    <tr style=\"text-align: right;\">\n",
       "      <th></th>\n",
       "      <th>gender</th>\n",
       "      <th>age</th>\n",
       "      <th>height(cm)</th>\n",
       "      <th>weight(kg)</th>\n",
       "      <th>waist(cm)</th>\n",
       "      <th>eyesight(left)</th>\n",
       "      <th>eyesight(right)</th>\n",
       "      <th>hearing(left)</th>\n",
       "      <th>hearing(right)</th>\n",
       "      <th>systolic</th>\n",
       "      <th>...</th>\n",
       "      <th>LDL</th>\n",
       "      <th>hemoglobin</th>\n",
       "      <th>Urine protein</th>\n",
       "      <th>serum creatinine</th>\n",
       "      <th>AST</th>\n",
       "      <th>ALT</th>\n",
       "      <th>Gtp</th>\n",
       "      <th>oral</th>\n",
       "      <th>dental caries</th>\n",
       "      <th>tartar</th>\n",
       "    </tr>\n",
       "    <tr>\n",
       "      <th>ID</th>\n",
       "      <th></th>\n",
       "      <th></th>\n",
       "      <th></th>\n",
       "      <th></th>\n",
       "      <th></th>\n",
       "      <th></th>\n",
       "      <th></th>\n",
       "      <th></th>\n",
       "      <th></th>\n",
       "      <th></th>\n",
       "      <th></th>\n",
       "      <th></th>\n",
       "      <th></th>\n",
       "      <th></th>\n",
       "      <th></th>\n",
       "      <th></th>\n",
       "      <th></th>\n",
       "      <th></th>\n",
       "      <th></th>\n",
       "      <th></th>\n",
       "      <th></th>\n",
       "    </tr>\n",
       "  </thead>\n",
       "  <tbody>\n",
       "    <tr>\n",
       "      <th>0</th>\n",
       "      <td>0</td>\n",
       "      <td>40</td>\n",
       "      <td>155</td>\n",
       "      <td>60</td>\n",
       "      <td>81.3</td>\n",
       "      <td>1.2</td>\n",
       "      <td>1.0</td>\n",
       "      <td>1.0</td>\n",
       "      <td>1.0</td>\n",
       "      <td>114.0</td>\n",
       "      <td>...</td>\n",
       "      <td>126.0</td>\n",
       "      <td>12.9</td>\n",
       "      <td>1.0</td>\n",
       "      <td>0.7</td>\n",
       "      <td>18.0</td>\n",
       "      <td>19.0</td>\n",
       "      <td>27.0</td>\n",
       "      <td>1</td>\n",
       "      <td>0</td>\n",
       "      <td>1</td>\n",
       "    </tr>\n",
       "    <tr>\n",
       "      <th>1</th>\n",
       "      <td>0</td>\n",
       "      <td>40</td>\n",
       "      <td>160</td>\n",
       "      <td>60</td>\n",
       "      <td>81.0</td>\n",
       "      <td>0.8</td>\n",
       "      <td>0.6</td>\n",
       "      <td>1.0</td>\n",
       "      <td>1.0</td>\n",
       "      <td>119.0</td>\n",
       "      <td>...</td>\n",
       "      <td>127.0</td>\n",
       "      <td>12.7</td>\n",
       "      <td>1.0</td>\n",
       "      <td>0.6</td>\n",
       "      <td>22.0</td>\n",
       "      <td>19.0</td>\n",
       "      <td>18.0</td>\n",
       "      <td>1</td>\n",
       "      <td>0</td>\n",
       "      <td>1</td>\n",
       "    </tr>\n",
       "    <tr>\n",
       "      <th>2</th>\n",
       "      <td>1</td>\n",
       "      <td>55</td>\n",
       "      <td>170</td>\n",
       "      <td>60</td>\n",
       "      <td>80.0</td>\n",
       "      <td>0.8</td>\n",
       "      <td>0.8</td>\n",
       "      <td>1.0</td>\n",
       "      <td>1.0</td>\n",
       "      <td>138.0</td>\n",
       "      <td>...</td>\n",
       "      <td>151.0</td>\n",
       "      <td>15.8</td>\n",
       "      <td>1.0</td>\n",
       "      <td>1.0</td>\n",
       "      <td>21.0</td>\n",
       "      <td>16.0</td>\n",
       "      <td>22.0</td>\n",
       "      <td>1</td>\n",
       "      <td>0</td>\n",
       "      <td>0</td>\n",
       "    </tr>\n",
       "    <tr>\n",
       "      <th>3</th>\n",
       "      <td>1</td>\n",
       "      <td>40</td>\n",
       "      <td>165</td>\n",
       "      <td>70</td>\n",
       "      <td>88.0</td>\n",
       "      <td>1.5</td>\n",
       "      <td>1.5</td>\n",
       "      <td>1.0</td>\n",
       "      <td>1.0</td>\n",
       "      <td>100.0</td>\n",
       "      <td>...</td>\n",
       "      <td>226.0</td>\n",
       "      <td>14.7</td>\n",
       "      <td>1.0</td>\n",
       "      <td>1.0</td>\n",
       "      <td>19.0</td>\n",
       "      <td>26.0</td>\n",
       "      <td>18.0</td>\n",
       "      <td>1</td>\n",
       "      <td>0</td>\n",
       "      <td>1</td>\n",
       "    </tr>\n",
       "    <tr>\n",
       "      <th>4</th>\n",
       "      <td>0</td>\n",
       "      <td>40</td>\n",
       "      <td>155</td>\n",
       "      <td>60</td>\n",
       "      <td>86.0</td>\n",
       "      <td>1.0</td>\n",
       "      <td>1.0</td>\n",
       "      <td>1.0</td>\n",
       "      <td>1.0</td>\n",
       "      <td>120.0</td>\n",
       "      <td>...</td>\n",
       "      <td>107.0</td>\n",
       "      <td>12.5</td>\n",
       "      <td>1.0</td>\n",
       "      <td>0.6</td>\n",
       "      <td>16.0</td>\n",
       "      <td>14.0</td>\n",
       "      <td>22.0</td>\n",
       "      <td>1</td>\n",
       "      <td>0</td>\n",
       "      <td>0</td>\n",
       "    </tr>\n",
       "  </tbody>\n",
       "</table>\n",
       "<p>5 rows × 25 columns</p>\n",
       "</div>"
      ],
      "text/plain": [
       "    gender  age  height(cm)  weight(kg)  waist(cm)  eyesight(left)  \\\n",
       "ID                                                                   \n",
       "0        0   40         155          60       81.3             1.2   \n",
       "1        0   40         160          60       81.0             0.8   \n",
       "2        1   55         170          60       80.0             0.8   \n",
       "3        1   40         165          70       88.0             1.5   \n",
       "4        0   40         155          60       86.0             1.0   \n",
       "\n",
       "    eyesight(right)  hearing(left)  hearing(right)  systolic  ...    LDL  \\\n",
       "ID                                                            ...          \n",
       "0               1.0            1.0             1.0     114.0  ...  126.0   \n",
       "1               0.6            1.0             1.0     119.0  ...  127.0   \n",
       "2               0.8            1.0             1.0     138.0  ...  151.0   \n",
       "3               1.5            1.0             1.0     100.0  ...  226.0   \n",
       "4               1.0            1.0             1.0     120.0  ...  107.0   \n",
       "\n",
       "    hemoglobin  Urine protein  serum creatinine   AST   ALT   Gtp  oral  \\\n",
       "ID                                                                        \n",
       "0         12.9            1.0               0.7  18.0  19.0  27.0     1   \n",
       "1         12.7            1.0               0.6  22.0  19.0  18.0     1   \n",
       "2         15.8            1.0               1.0  21.0  16.0  22.0     1   \n",
       "3         14.7            1.0               1.0  19.0  26.0  18.0     1   \n",
       "4         12.5            1.0               0.6  16.0  14.0  22.0     1   \n",
       "\n",
       "    dental caries  tartar  \n",
       "ID                         \n",
       "0               0       1  \n",
       "1               0       1  \n",
       "2               0       0  \n",
       "3               0       1  \n",
       "4               0       0  \n",
       "\n",
       "[5 rows x 25 columns]"
      ]
     },
     "execution_count": 163,
     "metadata": {},
     "output_type": "execute_result"
    }
   ],
   "source": [
    "X.head()"
   ]
  },
  {
   "cell_type": "markdown",
   "id": "47ae1c30",
   "metadata": {},
   "source": [
    "#### 데이터 셋 분리"
   ]
  },
  {
   "cell_type": "code",
   "execution_count": 164,
   "id": "9767cc0b",
   "metadata": {},
   "outputs": [
    {
     "data": {
      "text/plain": [
       "((30403, 25), (10135, 25), (10135, 25), (30403,), (10135,), (10135,))"
      ]
     },
     "execution_count": 164,
     "metadata": {},
     "output_type": "execute_result"
    }
   ],
   "source": [
    "from sklearn.model_selection import train_test_split\n",
    "\n",
    "X_train, X_test, y_train, y_test = train_test_split(X, y, test_size = 0.2, stratify=y, random_state=0)\n",
    "\n",
    "X_train, X_val, y_train, y_val = train_test_split(X_train, y_train, test_size=0.25, stratify=y_train, random_state=0)\n",
    "\n",
    "\n",
    "X_train.shape, X_val.shape, X_test.shape, y_train.shape, y_val.shape, y_test.shape"
   ]
  },
  {
   "cell_type": "markdown",
   "id": "78d8d574",
   "metadata": {},
   "source": [
    "##### 2. 연속형 데이터 전처리\n",
    "- not Scaling => 결정트리\n",
    "    - X_train\n",
    "- standar Scaling \n",
    "    - X_train_ss\n",
    "- MinMax Scaling\n",
    "    - X_train_ms"
   ]
  },
  {
   "cell_type": "markdown",
   "id": "52c00341",
   "metadata": {},
   "source": [
    "##### standard Scaling => X_train_ss"
   ]
  },
  {
   "cell_type": "code",
   "execution_count": 165,
   "id": "7c637ac0",
   "metadata": {},
   "outputs": [],
   "source": [
    "from sklearn.preprocessing import StandardScaler\n",
    "\n",
    "s_scaler = StandardScaler()\n",
    "\n",
    "X_train_ss = s_scaler.fit_transform(X_train)\n",
    "X_test_ss = s_scaler.fit_transform(X_test)\n",
    "X_val_ss = s_scaler.fit_transform(X_val)\n"
   ]
  },
  {
   "cell_type": "code",
   "execution_count": 166,
   "id": "ecd1578f",
   "metadata": {},
   "outputs": [],
   "source": [
    "# 지수표기법(1.3e3)를 사용하지 않고 소수점 이하 5자리까지 다 출력하도록 설정.\n",
    "np.set_printoptions(precision=5, suppress=True)"
   ]
  },
  {
   "cell_type": "code",
   "execution_count": 167,
   "id": "5ae00496",
   "metadata": {},
   "outputs": [
    {
     "data": {
      "text/plain": [
       "array([-0., -0., -0.,  0., -0.,  0.,  0., -0.,  0.,  0.,  0.,  0., -0.,\n",
       "        0., -0., -0.,  0.,  0.,  0.,  0., -0.,  0.,  0., -0., -0.])"
      ]
     },
     "execution_count": 167,
     "metadata": {},
     "output_type": "execute_result"
    }
   ],
   "source": [
    "X_train_ss.mean(axis=0)"
   ]
  },
  {
   "cell_type": "code",
   "execution_count": 168,
   "id": "bd4c7a45",
   "metadata": {
    "scrolled": true
   },
   "outputs": [
    {
     "data": {
      "text/plain": [
       "array([-0.,  0., -0.,  0., -0.,  0.,  0., -0., -0., -0., -0.,  0.,  0.,\n",
       "        0., -0.,  0.,  0., -0., -0.,  0.,  0.,  0.,  0., -0.,  0.])"
      ]
     },
     "execution_count": 168,
     "metadata": {},
     "output_type": "execute_result"
    }
   ],
   "source": [
    "X_test_ss.mean(axis=0)"
   ]
  },
  {
   "cell_type": "code",
   "execution_count": 169,
   "id": "674a5db6",
   "metadata": {
    "scrolled": true
   },
   "outputs": [
    {
     "data": {
      "text/plain": [
       "array([ 0.,  0., -0., -0., -0.,  0.,  0.,  0.,  0.,  0.,  0., -0., -0.,\n",
       "        0., -0., -0., -0.,  0., -0., -0.,  0., -0.,  0., -0.,  0.])"
      ]
     },
     "execution_count": 169,
     "metadata": {},
     "output_type": "execute_result"
    }
   ],
   "source": [
    "X_val_ss.mean(axis=0)"
   ]
  },
  {
   "cell_type": "markdown",
   "id": "da8d8f50",
   "metadata": {},
   "source": [
    "##### MinMax Scaling => X_train_ms"
   ]
  },
  {
   "cell_type": "code",
   "execution_count": 170,
   "id": "6888bce3",
   "metadata": {},
   "outputs": [],
   "source": [
    "from sklearn.preprocessing import MinMaxScaler\n",
    "\n",
    "m_scaler = MinMaxScaler()\n",
    "\n",
    "X_train_ms = m_scaler.fit_transform(X_train)\n",
    "X_test_ms = m_scaler.fit_transform(X_test)\n",
    "X_val_ms = m_scaler.fit_transform(X_val)\n",
    "\n"
   ]
  },
  {
   "cell_type": "code",
   "execution_count": 171,
   "id": "87b8e3df",
   "metadata": {
    "scrolled": true
   },
   "outputs": [
    {
     "data": {
      "text/plain": [
       "(array([0., 0., 0., 0., 0., 0., 0., 0., 0., 0., 0., 0., 0., 0., 0., 0., 0.,\n",
       "        0., 0., 0., 0., 0., 0., 0., 0.]),\n",
       " array([1., 1., 1., 1., 1., 1., 1., 1., 1., 1., 1., 1., 1., 1., 1., 1., 1.,\n",
       "        1., 1., 1., 1., 1., 0., 1., 1.]))"
      ]
     },
     "execution_count": 171,
     "metadata": {},
     "output_type": "execute_result"
    }
   ],
   "source": [
    "X_train_ms.min(axis=0), X_train_ms.max(axis=0)"
   ]
  },
  {
   "cell_type": "code",
   "execution_count": 172,
   "id": "562703d8",
   "metadata": {
    "scrolled": true
   },
   "outputs": [
    {
     "data": {
      "text/plain": [
       "(array([0., 0., 0., 0., 0., 0., 0., 0., 0., 0., 0., 0., 0., 0., 0., 0., 0.,\n",
       "        0., 0., 0., 0., 0., 0., 0., 0.]),\n",
       " array([1., 1., 1., 1., 1., 1., 1., 1., 1., 1., 1., 1., 1., 1., 1., 1., 1.,\n",
       "        1., 1., 1., 1., 1., 0., 1., 1.]))"
      ]
     },
     "execution_count": 172,
     "metadata": {},
     "output_type": "execute_result"
    }
   ],
   "source": [
    "X_test_ms.min(axis=0), X_test_ms.max(axis=0)"
   ]
  },
  {
   "cell_type": "code",
   "execution_count": 173,
   "id": "2c673733",
   "metadata": {
    "scrolled": false
   },
   "outputs": [
    {
     "data": {
      "text/plain": [
       "(array([0., 0., 0., 0., 0., 0., 0., 0., 0., 0., 0., 0., 0., 0., 0., 0., 0.,\n",
       "        0., 0., 0., 0., 0., 0., 0., 0.]),\n",
       " array([1., 1., 1., 1., 1., 1., 1., 1., 1., 1., 1., 1., 1., 1., 1., 1., 1.,\n",
       "        1., 1., 1., 1., 1., 0., 1., 1.]))"
      ]
     },
     "execution_count": 173,
     "metadata": {},
     "output_type": "execute_result"
    }
   ],
   "source": [
    "X_val_ms.min(axis=0), X_val_ms.max(axis=0)"
   ]
  },
  {
   "cell_type": "code",
   "execution_count": null,
   "id": "d5c87160",
   "metadata": {},
   "outputs": [],
   "source": []
  },
  {
   "cell_type": "code",
   "execution_count": null,
   "id": "b4d9b42b",
   "metadata": {},
   "outputs": [],
   "source": []
  },
  {
   "cell_type": "markdown",
   "id": "8b7b5258",
   "metadata": {},
   "source": [
    "### 결정트리"
   ]
  },
  {
   "cell_type": "code",
   "execution_count": 178,
   "id": "6691f7f8",
   "metadata": {},
   "outputs": [
    {
     "data": {
      "text/html": [
       "<style>#sk-container-id-8 {color: black;background-color: white;}#sk-container-id-8 pre{padding: 0;}#sk-container-id-8 div.sk-toggleable {background-color: white;}#sk-container-id-8 label.sk-toggleable__label {cursor: pointer;display: block;width: 100%;margin-bottom: 0;padding: 0.3em;box-sizing: border-box;text-align: center;}#sk-container-id-8 label.sk-toggleable__label-arrow:before {content: \"▸\";float: left;margin-right: 0.25em;color: #696969;}#sk-container-id-8 label.sk-toggleable__label-arrow:hover:before {color: black;}#sk-container-id-8 div.sk-estimator:hover label.sk-toggleable__label-arrow:before {color: black;}#sk-container-id-8 div.sk-toggleable__content {max-height: 0;max-width: 0;overflow: hidden;text-align: left;background-color: #f0f8ff;}#sk-container-id-8 div.sk-toggleable__content pre {margin: 0.2em;color: black;border-radius: 0.25em;background-color: #f0f8ff;}#sk-container-id-8 input.sk-toggleable__control:checked~div.sk-toggleable__content {max-height: 200px;max-width: 100%;overflow: auto;}#sk-container-id-8 input.sk-toggleable__control:checked~label.sk-toggleable__label-arrow:before {content: \"▾\";}#sk-container-id-8 div.sk-estimator input.sk-toggleable__control:checked~label.sk-toggleable__label {background-color: #d4ebff;}#sk-container-id-8 div.sk-label input.sk-toggleable__control:checked~label.sk-toggleable__label {background-color: #d4ebff;}#sk-container-id-8 input.sk-hidden--visually {border: 0;clip: rect(1px 1px 1px 1px);clip: rect(1px, 1px, 1px, 1px);height: 1px;margin: -1px;overflow: hidden;padding: 0;position: absolute;width: 1px;}#sk-container-id-8 div.sk-estimator {font-family: monospace;background-color: #f0f8ff;border: 1px dotted black;border-radius: 0.25em;box-sizing: border-box;margin-bottom: 0.5em;}#sk-container-id-8 div.sk-estimator:hover {background-color: #d4ebff;}#sk-container-id-8 div.sk-parallel-item::after {content: \"\";width: 100%;border-bottom: 1px solid gray;flex-grow: 1;}#sk-container-id-8 div.sk-label:hover label.sk-toggleable__label {background-color: #d4ebff;}#sk-container-id-8 div.sk-serial::before {content: \"\";position: absolute;border-left: 1px solid gray;box-sizing: border-box;top: 0;bottom: 0;left: 50%;z-index: 0;}#sk-container-id-8 div.sk-serial {display: flex;flex-direction: column;align-items: center;background-color: white;padding-right: 0.2em;padding-left: 0.2em;position: relative;}#sk-container-id-8 div.sk-item {position: relative;z-index: 1;}#sk-container-id-8 div.sk-parallel {display: flex;align-items: stretch;justify-content: center;background-color: white;position: relative;}#sk-container-id-8 div.sk-item::before, #sk-container-id-8 div.sk-parallel-item::before {content: \"\";position: absolute;border-left: 1px solid gray;box-sizing: border-box;top: 0;bottom: 0;left: 50%;z-index: -1;}#sk-container-id-8 div.sk-parallel-item {display: flex;flex-direction: column;z-index: 1;position: relative;background-color: white;}#sk-container-id-8 div.sk-parallel-item:first-child::after {align-self: flex-end;width: 50%;}#sk-container-id-8 div.sk-parallel-item:last-child::after {align-self: flex-start;width: 50%;}#sk-container-id-8 div.sk-parallel-item:only-child::after {width: 0;}#sk-container-id-8 div.sk-dashed-wrapped {border: 1px dashed gray;margin: 0 0.4em 0.5em 0.4em;box-sizing: border-box;padding-bottom: 0.4em;background-color: white;}#sk-container-id-8 div.sk-label label {font-family: monospace;font-weight: bold;display: inline-block;line-height: 1.2em;}#sk-container-id-8 div.sk-label-container {text-align: center;}#sk-container-id-8 div.sk-container {/* jupyter's `normalize.less` sets `[hidden] { display: none; }` but bootstrap.min.css set `[hidden] { display: none !important; }` so we also need the `!important` here to be able to override the default hidden behavior on the sphinx rendered scikit-learn.org. See: https://github.com/scikit-learn/scikit-learn/issues/21755 */display: inline-block !important;position: relative;}#sk-container-id-8 div.sk-text-repr-fallback {display: none;}</style><div id=\"sk-container-id-8\" class=\"sk-top-container\"><div class=\"sk-text-repr-fallback\"><pre>GridSearchCV(cv=4, estimator=DecisionTreeClassifier(random_state=0), n_jobs=-1,\n",
       "             param_grid={&#x27;max_depth&#x27;: range(20, 30),\n",
       "                         &#x27;max_features&#x27;: range(20, 25)},\n",
       "             refit=&#x27;accuracy&#x27;,\n",
       "             scoring=[&#x27;accuracy&#x27;, &#x27;recall&#x27;, &#x27;precision&#x27;, &#x27;roc_auc&#x27;, &#x27;f1&#x27;])</pre><b>In a Jupyter environment, please rerun this cell to show the HTML representation or trust the notebook. <br />On GitHub, the HTML representation is unable to render, please try loading this page with nbviewer.org.</b></div><div class=\"sk-container\" hidden><div class=\"sk-item sk-dashed-wrapped\"><div class=\"sk-label-container\"><div class=\"sk-label sk-toggleable\"><input class=\"sk-toggleable__control sk-hidden--visually\" id=\"sk-estimator-id-8\" type=\"checkbox\" ><label for=\"sk-estimator-id-8\" class=\"sk-toggleable__label sk-toggleable__label-arrow\">GridSearchCV</label><div class=\"sk-toggleable__content\"><pre>GridSearchCV(cv=4, estimator=DecisionTreeClassifier(random_state=0), n_jobs=-1,\n",
       "             param_grid={&#x27;max_depth&#x27;: range(20, 30),\n",
       "                         &#x27;max_features&#x27;: range(20, 25)},\n",
       "             refit=&#x27;accuracy&#x27;,\n",
       "             scoring=[&#x27;accuracy&#x27;, &#x27;recall&#x27;, &#x27;precision&#x27;, &#x27;roc_auc&#x27;, &#x27;f1&#x27;])</pre></div></div></div><div class=\"sk-parallel\"><div class=\"sk-parallel-item\"><div class=\"sk-item\"><div class=\"sk-label-container\"><div class=\"sk-label sk-toggleable\"><input class=\"sk-toggleable__control sk-hidden--visually\" id=\"sk-estimator-id-9\" type=\"checkbox\" ><label for=\"sk-estimator-id-9\" class=\"sk-toggleable__label sk-toggleable__label-arrow\">estimator: DecisionTreeClassifier</label><div class=\"sk-toggleable__content\"><pre>DecisionTreeClassifier(random_state=0)</pre></div></div></div><div class=\"sk-serial\"><div class=\"sk-item\"><div class=\"sk-estimator sk-toggleable\"><input class=\"sk-toggleable__control sk-hidden--visually\" id=\"sk-estimator-id-10\" type=\"checkbox\" ><label for=\"sk-estimator-id-10\" class=\"sk-toggleable__label sk-toggleable__label-arrow\">DecisionTreeClassifier</label><div class=\"sk-toggleable__content\"><pre>DecisionTreeClassifier(random_state=0)</pre></div></div></div></div></div></div></div></div></div></div>"
      ],
      "text/plain": [
       "GridSearchCV(cv=4, estimator=DecisionTreeClassifier(random_state=0), n_jobs=-1,\n",
       "             param_grid={'max_depth': range(20, 30),\n",
       "                         'max_features': range(20, 25)},\n",
       "             refit='accuracy',\n",
       "             scoring=['accuracy', 'recall', 'precision', 'roc_auc', 'f1'])"
      ]
     },
     "execution_count": 178,
     "metadata": {},
     "output_type": "execute_result"
    }
   ],
   "source": [
    "from sklearn.model_selection import GridSearchCV, RandomizedSearchCV\n",
    "from sklearn.tree import DecisionTreeClassifier\n",
    "\n",
    "params = {\n",
    "    'max_depth':range(20,30),\n",
    "    #'max_leaf_nodes':\n",
    "    'max_features':range(20,25)\n",
    "}\n",
    "\n",
    "gs = GridSearchCV(DecisionTreeClassifier(random_state=0),params,\n",
    "                  scoring = ['accuracy', 'recall', 'precision','roc_auc', 'f1'],\n",
    "                  refit='accuracy',\n",
    "                  cv=4,\n",
    "                  n_jobs=-1)\n",
    "gs.fit(X_train, y_train)"
   ]
  },
  {
   "cell_type": "code",
   "execution_count": null,
   "id": "85be796c",
   "metadata": {},
   "outputs": [],
   "source": [
    "gs.best_score_"
   ]
  },
  {
   "cell_type": "code",
   "execution_count": null,
   "id": "5381da1a",
   "metadata": {},
   "outputs": [],
   "source": [
    "gs.best_params_"
   ]
  },
  {
   "cell_type": "code",
   "execution_count": null,
   "id": "64899ee4",
   "metadata": {},
   "outputs": [],
   "source": [
    "df = pd.DataFrame(gs.cv_results_).sort_values('rank_test_f1')\n",
    "df.head()"
   ]
  },
  {
   "cell_type": "code",
   "execution_count": null,
   "id": "18a173c2",
   "metadata": {},
   "outputs": [],
   "source": []
  },
  {
   "cell_type": "markdown",
   "id": "4463d40f",
   "metadata": {},
   "source": [
    "### 학습"
   ]
  },
  {
   "cell_type": "code",
   "execution_count": 167,
   "id": "10beb491",
   "metadata": {},
   "outputs": [
    {
     "data": {
      "text/html": [
       "<style>#sk-container-id-6 {color: black;background-color: white;}#sk-container-id-6 pre{padding: 0;}#sk-container-id-6 div.sk-toggleable {background-color: white;}#sk-container-id-6 label.sk-toggleable__label {cursor: pointer;display: block;width: 100%;margin-bottom: 0;padding: 0.3em;box-sizing: border-box;text-align: center;}#sk-container-id-6 label.sk-toggleable__label-arrow:before {content: \"▸\";float: left;margin-right: 0.25em;color: #696969;}#sk-container-id-6 label.sk-toggleable__label-arrow:hover:before {color: black;}#sk-container-id-6 div.sk-estimator:hover label.sk-toggleable__label-arrow:before {color: black;}#sk-container-id-6 div.sk-toggleable__content {max-height: 0;max-width: 0;overflow: hidden;text-align: left;background-color: #f0f8ff;}#sk-container-id-6 div.sk-toggleable__content pre {margin: 0.2em;color: black;border-radius: 0.25em;background-color: #f0f8ff;}#sk-container-id-6 input.sk-toggleable__control:checked~div.sk-toggleable__content {max-height: 200px;max-width: 100%;overflow: auto;}#sk-container-id-6 input.sk-toggleable__control:checked~label.sk-toggleable__label-arrow:before {content: \"▾\";}#sk-container-id-6 div.sk-estimator input.sk-toggleable__control:checked~label.sk-toggleable__label {background-color: #d4ebff;}#sk-container-id-6 div.sk-label input.sk-toggleable__control:checked~label.sk-toggleable__label {background-color: #d4ebff;}#sk-container-id-6 input.sk-hidden--visually {border: 0;clip: rect(1px 1px 1px 1px);clip: rect(1px, 1px, 1px, 1px);height: 1px;margin: -1px;overflow: hidden;padding: 0;position: absolute;width: 1px;}#sk-container-id-6 div.sk-estimator {font-family: monospace;background-color: #f0f8ff;border: 1px dotted black;border-radius: 0.25em;box-sizing: border-box;margin-bottom: 0.5em;}#sk-container-id-6 div.sk-estimator:hover {background-color: #d4ebff;}#sk-container-id-6 div.sk-parallel-item::after {content: \"\";width: 100%;border-bottom: 1px solid gray;flex-grow: 1;}#sk-container-id-6 div.sk-label:hover label.sk-toggleable__label {background-color: #d4ebff;}#sk-container-id-6 div.sk-serial::before {content: \"\";position: absolute;border-left: 1px solid gray;box-sizing: border-box;top: 0;bottom: 0;left: 50%;z-index: 0;}#sk-container-id-6 div.sk-serial {display: flex;flex-direction: column;align-items: center;background-color: white;padding-right: 0.2em;padding-left: 0.2em;position: relative;}#sk-container-id-6 div.sk-item {position: relative;z-index: 1;}#sk-container-id-6 div.sk-parallel {display: flex;align-items: stretch;justify-content: center;background-color: white;position: relative;}#sk-container-id-6 div.sk-item::before, #sk-container-id-6 div.sk-parallel-item::before {content: \"\";position: absolute;border-left: 1px solid gray;box-sizing: border-box;top: 0;bottom: 0;left: 50%;z-index: -1;}#sk-container-id-6 div.sk-parallel-item {display: flex;flex-direction: column;z-index: 1;position: relative;background-color: white;}#sk-container-id-6 div.sk-parallel-item:first-child::after {align-self: flex-end;width: 50%;}#sk-container-id-6 div.sk-parallel-item:last-child::after {align-self: flex-start;width: 50%;}#sk-container-id-6 div.sk-parallel-item:only-child::after {width: 0;}#sk-container-id-6 div.sk-dashed-wrapped {border: 1px dashed gray;margin: 0 0.4em 0.5em 0.4em;box-sizing: border-box;padding-bottom: 0.4em;background-color: white;}#sk-container-id-6 div.sk-label label {font-family: monospace;font-weight: bold;display: inline-block;line-height: 1.2em;}#sk-container-id-6 div.sk-label-container {text-align: center;}#sk-container-id-6 div.sk-container {/* jupyter's `normalize.less` sets `[hidden] { display: none; }` but bootstrap.min.css set `[hidden] { display: none !important; }` so we also need the `!important` here to be able to override the default hidden behavior on the sphinx rendered scikit-learn.org. See: https://github.com/scikit-learn/scikit-learn/issues/21755 */display: inline-block !important;position: relative;}#sk-container-id-6 div.sk-text-repr-fallback {display: none;}</style><div id=\"sk-container-id-6\" class=\"sk-top-container\"><div class=\"sk-text-repr-fallback\"><pre>DecisionTreeClassifier(max_depth=26, random_state=0)</pre><b>In a Jupyter environment, please rerun this cell to show the HTML representation or trust the notebook. <br />On GitHub, the HTML representation is unable to render, please try loading this page with nbviewer.org.</b></div><div class=\"sk-container\" hidden><div class=\"sk-item\"><div class=\"sk-estimator sk-toggleable\"><input class=\"sk-toggleable__control sk-hidden--visually\" id=\"sk-estimator-id-6\" type=\"checkbox\" checked><label for=\"sk-estimator-id-6\" class=\"sk-toggleable__label sk-toggleable__label-arrow\">DecisionTreeClassifier</label><div class=\"sk-toggleable__content\"><pre>DecisionTreeClassifier(max_depth=26, random_state=0)</pre></div></div></div></div></div>"
      ],
      "text/plain": [
       "DecisionTreeClassifier(max_depth=26, random_state=0)"
      ]
     },
     "execution_count": 167,
     "metadata": {},
     "output_type": "execute_result"
    }
   ],
   "source": [
    "# 학습\n",
    "from sklearn.tree import DecisionTreeClassifier\n",
    "\n",
    "tree = DecisionTreeClassifier(random_state=0, max_depth=26, \n",
    "tree.fit(X_train, y_train)\n"
   ]
  },
  {
   "cell_type": "code",
   "execution_count": 168,
   "id": "3d184d6c",
   "metadata": {},
   "outputs": [
    {
     "data": {
      "text/plain": [
       "26"
      ]
     },
     "execution_count": 168,
     "metadata": {},
     "output_type": "execute_result"
    }
   ],
   "source": [
    "tree.get_depth()"
   ]
  },
  {
   "cell_type": "code",
   "execution_count": 169,
   "id": "9a018723",
   "metadata": {},
   "outputs": [
    {
     "data": {
      "text/plain": [
       "4161"
      ]
     },
     "execution_count": 169,
     "metadata": {},
     "output_type": "execute_result"
    }
   ],
   "source": [
    "tree.get_n_leaves()"
   ]
  },
  {
   "cell_type": "code",
   "execution_count": 170,
   "id": "e92f7d2a",
   "metadata": {},
   "outputs": [],
   "source": [
    "# 예측\n",
    "pred_train_tree1 = tree.predict(X_train)\n",
    "pred_val_tree1 = tree.predict(X_val)\n",
    "\n",
    "proba_train_tree1 = tree.predict_proba(X_train)[:,1]\n",
    "proba_val_tree1 = tree.predict_proba(X_val)[:,1]\n"
   ]
  },
  {
   "cell_type": "markdown",
   "id": "d5894774",
   "metadata": {},
   "source": [
    "### 분류 평가 지표 함수 \n",
    "\n",
    "1. 정확도 (Accuracy)\n",
    "\n",
    "\n",
    "2. 정밀도 (Precision)\n",
    "3. 재현률 (Recall)\n",
    "4. F1점수 (F1 Score)\n",
    "- classification_report(y 실제값, y 예측값)\n",
    "    - 클래스 별로 recall, precision, f1 점수와 accuracy를 종합해서 보여준다.\n",
    "\n",
    "- confusion_matrix(y 실제값, y 예측값)\n",
    "\n",
    "\n",
    "5. PR Curve, AP Score\n",
    "6. ROC, AUC Score"
   ]
  },
  {
   "cell_type": "code",
   "execution_count": 174,
   "id": "74587b16",
   "metadata": {},
   "outputs": [],
   "source": [
    "# 평가\n",
    "\n",
    "from sklearn.metrics import confusion_matrix, ConfusionMatrixDisplay, accuracy_score, recall_score, precision_score, f1_score\n",
    "from sklearn.metrics import roc_auc_score, RocCurveDisplay, roc_curve\n",
    "from sklearn.metrics import precision_recall_curve, average_precision_score, PrecisionRecallDisplay\n",
    "\n",
    "\n",
    "def print_confusion_matrix(y, pred, title=None):\n",
    "    \"\"\"\n",
    "    인수로 받은 정답(y), 모델 예측값(pred)한 것을 표로 만든 평가표\n",
    "    결과의 0번축: 실제 class, 1번 축: 예측 class\n",
    "    \n",
    "    [parameter]\n",
    "        y: ndarray - 정답(Ground Truth)\n",
    "        pred: ndarray - 모델이 예측한 값\n",
    "        title: str - 출력결과들에 대한 제목\n",
    "    [Return]\n",
    "    [Exception]\n",
    "    \"\"\"    \n",
    "    print('='*50)\n",
    "    if title:\n",
    "        print(title)\n",
    "        print('='*50)\n",
    "    print(confusion_matrix(y, pred))\n",
    "    print('='*50)\n",
    "    \n",
    "def print_classification_metrics(y, pred, title=None):\n",
    "    \"\"\"\n",
    "    인수로 받은 정답(y), 모델 예측값(pred)를 이용해 분류의 평가지표들을 출력\n",
    "    출력할 평가지표: accuracy, recall, precision, f1 score\n",
    "    [parameter]\n",
    "        y: ndarray - 정답(Ground Truth)\n",
    "        pred: ndarray - 모델이 예측한 값\n",
    "        title: str - 출력결과들에 대한 제목\n",
    "    [Return]\n",
    "    [Exception]\n",
    "    \"\"\"\n",
    "    print('='*50)\n",
    "    if title:\n",
    "        print(title)\n",
    "        print('='*50)\n",
    "    print('정확도(Accuracy):', accuracy_score(y, pred))\n",
    "    print('재현율(Recall):', recall_score(y, pred))\n",
    "    print('정밀도(Precision):', precision_score(y,pred))\n",
    "    print('F1 점수(F1 Score)', f1_score(y, pred))\n",
    "    print('='*50)\n",
    "\n",
    "    \n",
    "    \n",
    "def display_roc_curve(y, pred_proba, title=None):\n",
    "    \"\"\"\n",
    "    ROC 커브를 시각화하는 함수\n",
    "    [parameter]\n",
    "        y: ndarray - 정답\n",
    "        pred_proba: ndarray - 모델이 예측한 Positive확률\n",
    "        title: str - 제목\n",
    "    \"\"\"\n",
    "    print('='*50)\n",
    "    print('roc-auc score')\n",
    "    print('='*50)\n",
    "    roc_auc = roc_auc_score(y,pred_proba)\n",
    "    print(roc_auc)\n",
    "    print('='*50)\n",
    "    fpr, tpr, _ = roc_curve(y, pred_proba)\n",
    "    disp = RocCurveDisplay(fpr=fpr, tpr=tpr, roc_auc=roc_auc)\n",
    "    disp.plot()\n",
    "    \n",
    "    if title:\n",
    "        plt.title(title)\n",
    "    plt.show()\n",
    "\n",
    "\n",
    "def display_precision_recall_curve(y, pred_proba, title=None):\n",
    "    \"\"\"\n",
    "    Precision Recall 커브를 시각화하는 함수\n",
    "    [parameter]\n",
    "        y: ndarray - 정답 Label\n",
    "        pred_proba: ndarray - 모델이 예측한 Positive의 확률\n",
    "        title: str - 그래프 제목\n",
    "    \"\"\"\n",
    "    print('='*50)\n",
    "    print('ap score')\n",
    "    print('='*50)\n",
    "    ap_score = average_precision_score(y, pred_proba)\n",
    "    print(ap_score)\n",
    "    print('='*50)\n",
    "    \n",
    "    precision, recall, _ = precision_recall_curve(y, pred_proba)\n",
    "    disp = PrecisionRecallDisplay(precision, recall, average_precision=ap_score)\n",
    "    disp.plot()\n",
    "    if title:\n",
    "        plt.title(title)\n",
    "    plt.show()\n",
    "\n"
   ]
  },
  {
   "cell_type": "code",
   "execution_count": 172,
   "id": "ceba955a",
   "metadata": {
    "scrolled": true
   },
   "outputs": [
    {
     "name": "stdout",
     "output_type": "stream",
     "text": [
      "==================================================\n",
      "train 데이터 혼동행렬\n",
      "==================================================\n",
      "[[20127     6]\n",
      " [   25 10245]]\n",
      "==================================================\n"
     ]
    }
   ],
   "source": [
    "print_confusion_matrix(y_train, pred_train_tree1, title ='train 데이터 혼동행렬')"
   ]
  },
  {
   "cell_type": "code",
   "execution_count": 173,
   "id": "c2a8817e",
   "metadata": {
    "scrolled": true
   },
   "outputs": [
    {
     "name": "stdout",
     "output_type": "stream",
     "text": [
      "==================================================\n",
      "val 데이터 혼동행렬\n",
      "==================================================\n",
      "[[5454 1258]\n",
      " [1144 2279]]\n",
      "==================================================\n"
     ]
    }
   ],
   "source": [
    "print_confusion_matrix(y_val, pred_val_tree1, title ='val 데이터 혼동행렬')"
   ]
  },
  {
   "cell_type": "code",
   "execution_count": 174,
   "id": "84d7e5d7",
   "metadata": {
    "scrolled": true
   },
   "outputs": [
    {
     "name": "stdout",
     "output_type": "stream",
     "text": [
      "==================================================\n",
      "train 데이터 평가지표\n",
      "==================================================\n",
      "정확도(Accuracy): 0.9989803637798902\n",
      "재현율(Recall): 0.9975657254138267\n",
      "정밀도(Precision): 0.9994146912496342\n",
      "F1 점수(F1 Score) 0.9984893523707423\n",
      "==================================================\n"
     ]
    }
   ],
   "source": [
    "print_classification_metrics(y_train, pred_train_tree1, title='train 데이터 평가지표')"
   ]
  },
  {
   "cell_type": "code",
   "execution_count": 175,
   "id": "cf4a20c2",
   "metadata": {
    "scrolled": false
   },
   "outputs": [
    {
     "name": "stdout",
     "output_type": "stream",
     "text": [
      "==================================================\n",
      "val 데이터 평가지표\n",
      "==================================================\n",
      "정확도(Accuracy): 0.7629995066600888\n",
      "재현율(Recall): 0.6657902424773591\n",
      "정밀도(Precision): 0.6443313542550184\n",
      "F1 점수(F1 Score) 0.6548850574712645\n",
      "==================================================\n"
     ]
    }
   ],
   "source": [
    "print_classification_metrics(y_val, pred_val_tree1, title='val 데이터 평가지표')"
   ]
  },
  {
   "cell_type": "code",
   "execution_count": 135,
   "id": "286109ca",
   "metadata": {
    "scrolled": true
   },
   "outputs": [
    {
     "name": "stdout",
     "output_type": "stream",
     "text": [
      "==================================================\n",
      "roc-auc score\n",
      "==================================================\n",
      "0.7419752083727236\n",
      "==================================================\n"
     ]
    },
    {
     "data": {
      "image/png": "[encoded data removed]",
      "text/plain": [
       "<Figure size 432x288 with 1 Axes>"
      ]
     },
     "metadata": {
      "needs_background": "light"
     },
     "output_type": "display_data"
    }
   ],
   "source": [
    "display_roc_curve(y_val, proba_val_tree1, title='val_roc auc score')"
   ]
  },
  {
   "cell_type": "code",
   "execution_count": 136,
   "id": "930aa379",
   "metadata": {
    "scrolled": false
   },
   "outputs": [
    {
     "name": "stdout",
     "output_type": "stream",
     "text": [
      "==================================================\n",
      "ap score\n",
      "==================================================\n",
      "0.5453684683558828\n",
      "==================================================\n"
     ]
    },
    {
     "data": {
      "image/png": "[encoded data removed]",
      "text/plain": [
       "<Figure size 432x288 with 1 Axes>"
      ]
     },
     "metadata": {
      "needs_background": "light"
     },
     "output_type": "display_data"
    }
   ],
   "source": [
    "display_precision_recall_curve(y_val, proba_val_tree1, title='val_roc auc score')\n"
   ]
  },
  {
   "cell_type": "markdown",
   "id": "203a2aac",
   "metadata": {},
   "source": [
    "# 랜덤 포레스트"
   ]
  },
  {
   "cell_type": "markdown",
   "id": "99796601",
   "metadata": {},
   "source": [
    "### 하이퍼 파라미터 변경 \n",
    "\n",
    "#### 1. 이상치 한번 제거한 데이터 셋\n",
    "##### - max_depth=33 => 30~35 중 제일 좋음.\n",
    "##### -  n_estimators=400 = > 100 ~ 500 중 제일 좋음.\n",
    "##### - max_features=\n",
    "\n",
    "\n",
    "- 이상치 한 번 제거한 데이터셋이 정확도는 이상치 두번 제거한 것보다 낮지만 재현율과 정밀도는 좋다. (max_depth=33, n_estimators=400 기준)\n",
    "\n",
    "#### 2. 이상치 두번 제거한 데이터 셋\n"
   ]
  },
  {
   "cell_type": "code",
   "execution_count": 182,
   "id": "fcacb0c5",
   "metadata": {
    "scrolled": true
   },
   "outputs": [
    {
     "data": {
      "text/html": [
       "<style>#sk-container-id-9 {color: black;background-color: white;}#sk-container-id-9 pre{padding: 0;}#sk-container-id-9 div.sk-toggleable {background-color: white;}#sk-container-id-9 label.sk-toggleable__label {cursor: pointer;display: block;width: 100%;margin-bottom: 0;padding: 0.3em;box-sizing: border-box;text-align: center;}#sk-container-id-9 label.sk-toggleable__label-arrow:before {content: \"▸\";float: left;margin-right: 0.25em;color: #696969;}#sk-container-id-9 label.sk-toggleable__label-arrow:hover:before {color: black;}#sk-container-id-9 div.sk-estimator:hover label.sk-toggleable__label-arrow:before {color: black;}#sk-container-id-9 div.sk-toggleable__content {max-height: 0;max-width: 0;overflow: hidden;text-align: left;background-color: #f0f8ff;}#sk-container-id-9 div.sk-toggleable__content pre {margin: 0.2em;color: black;border-radius: 0.25em;background-color: #f0f8ff;}#sk-container-id-9 input.sk-toggleable__control:checked~div.sk-toggleable__content {max-height: 200px;max-width: 100%;overflow: auto;}#sk-container-id-9 input.sk-toggleable__control:checked~label.sk-toggleable__label-arrow:before {content: \"▾\";}#sk-container-id-9 div.sk-estimator input.sk-toggleable__control:checked~label.sk-toggleable__label {background-color: #d4ebff;}#sk-container-id-9 div.sk-label input.sk-toggleable__control:checked~label.sk-toggleable__label {background-color: #d4ebff;}#sk-container-id-9 input.sk-hidden--visually {border: 0;clip: rect(1px 1px 1px 1px);clip: rect(1px, 1px, 1px, 1px);height: 1px;margin: -1px;overflow: hidden;padding: 0;position: absolute;width: 1px;}#sk-container-id-9 div.sk-estimator {font-family: monospace;background-color: #f0f8ff;border: 1px dotted black;border-radius: 0.25em;box-sizing: border-box;margin-bottom: 0.5em;}#sk-container-id-9 div.sk-estimator:hover {background-color: #d4ebff;}#sk-container-id-9 div.sk-parallel-item::after {content: \"\";width: 100%;border-bottom: 1px solid gray;flex-grow: 1;}#sk-container-id-9 div.sk-label:hover label.sk-toggleable__label {background-color: #d4ebff;}#sk-container-id-9 div.sk-serial::before {content: \"\";position: absolute;border-left: 1px solid gray;box-sizing: border-box;top: 0;bottom: 0;left: 50%;z-index: 0;}#sk-container-id-9 div.sk-serial {display: flex;flex-direction: column;align-items: center;background-color: white;padding-right: 0.2em;padding-left: 0.2em;position: relative;}#sk-container-id-9 div.sk-item {position: relative;z-index: 1;}#sk-container-id-9 div.sk-parallel {display: flex;align-items: stretch;justify-content: center;background-color: white;position: relative;}#sk-container-id-9 div.sk-item::before, #sk-container-id-9 div.sk-parallel-item::before {content: \"\";position: absolute;border-left: 1px solid gray;box-sizing: border-box;top: 0;bottom: 0;left: 50%;z-index: -1;}#sk-container-id-9 div.sk-parallel-item {display: flex;flex-direction: column;z-index: 1;position: relative;background-color: white;}#sk-container-id-9 div.sk-parallel-item:first-child::after {align-self: flex-end;width: 50%;}#sk-container-id-9 div.sk-parallel-item:last-child::after {align-self: flex-start;width: 50%;}#sk-container-id-9 div.sk-parallel-item:only-child::after {width: 0;}#sk-container-id-9 div.sk-dashed-wrapped {border: 1px dashed gray;margin: 0 0.4em 0.5em 0.4em;box-sizing: border-box;padding-bottom: 0.4em;background-color: white;}#sk-container-id-9 div.sk-label label {font-family: monospace;font-weight: bold;display: inline-block;line-height: 1.2em;}#sk-container-id-9 div.sk-label-container {text-align: center;}#sk-container-id-9 div.sk-container {/* jupyter's `normalize.less` sets `[hidden] { display: none; }` but bootstrap.min.css set `[hidden] { display: none !important; }` so we also need the `!important` here to be able to override the default hidden behavior on the sphinx rendered scikit-learn.org. See: https://github.com/scikit-learn/scikit-learn/issues/21755 */display: inline-block !important;position: relative;}#sk-container-id-9 div.sk-text-repr-fallback {display: none;}</style><div id=\"sk-container-id-9\" class=\"sk-top-container\"><div class=\"sk-text-repr-fallback\"><pre>RandomForestClassifier(max_depth=33, n_estimators=400, n_jobs=-1,\n",
       "                       random_state=0)</pre><b>In a Jupyter environment, please rerun this cell to show the HTML representation or trust the notebook. <br />On GitHub, the HTML representation is unable to render, please try loading this page with nbviewer.org.</b></div><div class=\"sk-container\" hidden><div class=\"sk-item\"><div class=\"sk-estimator sk-toggleable\"><input class=\"sk-toggleable__control sk-hidden--visually\" id=\"sk-estimator-id-11\" type=\"checkbox\" checked><label for=\"sk-estimator-id-11\" class=\"sk-toggleable__label sk-toggleable__label-arrow\">RandomForestClassifier</label><div class=\"sk-toggleable__content\"><pre>RandomForestClassifier(max_depth=33, n_estimators=400, n_jobs=-1,\n",
       "                       random_state=0)</pre></div></div></div></div></div>"
      ],
      "text/plain": [
       "RandomForestClassifier(max_depth=33, n_estimators=400, n_jobs=-1,\n",
       "                       random_state=0)"
      ]
     },
     "execution_count": 182,
     "metadata": {},
     "output_type": "execute_result"
    }
   ],
   "source": [
    "from sklearn.model_selection import GridSearchCV, RandomizedSearchCV\n",
    "from sklearn.ensemble import RandomForestClassifier\n",
    "\n",
    "rf = RandomForestClassifier(n_estimators=400, # decisionTree 모델의 갯수\n",
    "                            max_depth=33,# DecisionTree 들의 하이퍼파라미터인 max_depth 를 5로 설정\n",
    "                            random_state=0, \n",
    "                            #max_features= 24, # sampling 시 random 하게 선택)\n",
    "                            n_jobs=-1)\n",
    "\n",
    "rf.fit(X_train, y_train)\n"
   ]
  },
  {
   "cell_type": "code",
   "execution_count": 181,
   "id": "c4ab6889",
   "metadata": {},
   "outputs": [
    {
     "data": {
      "image/png": "[encoded data removed]",
      "text/plain": [
       "<Figure size 576x432 with 1 Axes>"
      ]
     },
     "metadata": {
      "needs_background": "light"
     },
     "output_type": "display_data"
    }
   ],
   "source": [
    "# feature 중요도 확인\n",
    "ftr_importances_values = rf.feature_importances_\n",
    "ftr_importances = pd.Series(ftr_importances_values, index = X_train.columns)\n",
    "ftr = ftr_importances.sort_values(ascending=False)\n",
    "\n",
    "plt.figure(figsize=(8,6))\n",
    "plt.title('Feature Importances')\n",
    "sns.barplot(x=ftr, y=ftr.index)\n",
    "plt.show()"
   ]
  },
  {
   "cell_type": "code",
   "execution_count": 183,
   "id": "212633b6",
   "metadata": {},
   "outputs": [],
   "source": [
    "pred_train_rf1 = rf.predict(X_train)\n",
    "pred_val_rf1 = rf.predict(X_val)\n",
    "\n",
    "proba_train_rf1 = rf.predict_proba(X_train)[:,1]\n",
    "proba_val_rf1 = rf.predict_proba(X_val)[:,1]"
   ]
  },
  {
   "cell_type": "code",
   "execution_count": 184,
   "id": "155782c8",
   "metadata": {},
   "outputs": [
    {
     "name": "stdout",
     "output_type": "stream",
     "text": [
      "==================================================\n",
      "rf모델 train 데이터 평가지표\n",
      "==================================================\n",
      "정확도(Accuracy): 1.0\n",
      "재현율(Recall): 1.0\n",
      "정밀도(Precision): 1.0\n",
      "F1 점수(F1 Score) 1.0\n",
      "==================================================\n"
     ]
    }
   ],
   "source": [
    "# 과적합?\n",
    "\n",
    "print_classification_metrics(y_train, pred_train_rf1, title='rf모델 train 데이터 평가지표')"
   ]
  },
  {
   "cell_type": "code",
   "execution_count": 185,
   "id": "a6764642",
   "metadata": {},
   "outputs": [
    {
     "name": "stdout",
     "output_type": "stream",
     "text": [
      "n_estimators=400, max_depth=33\n",
      "==================================================\n",
      "rf모델 val 데이터 평가지표 - 이상치 한 번 제거\n",
      "==================================================\n",
      "정확도(Accuracy): 0.8206216082881105\n",
      "재현율(Recall): 0.7373648846041484\n",
      "정밀도(Precision): 0.7330816148707523\n",
      "F1 점수(F1 Score) 0.7352170113603262\n",
      "==================================================\n"
     ]
    }
   ],
   "source": [
    "print('n_estimators=400, max_depth=33')\n",
    "print_classification_metrics(y_val, pred_val_rf1, title='rf모델 val 데이터 평가지표 - 이상치 한 번 제거')"
   ]
  },
  {
   "cell_type": "code",
   "execution_count": 120,
   "id": "835bd93c",
   "metadata": {
    "scrolled": true
   },
   "outputs": [
    {
     "name": "stdout",
     "output_type": "stream",
     "text": [
      "n_estimators=500, max_depth=33\n",
      "이상치 한 번 - 정확도는 이상치 두번 제거한 것보다 낮지만 재현율과 정밀도는 좋다.\n",
      "==================================================\n",
      "rf모델 val 데이터 평가지표 - 이상치 한 번 제거\n",
      "==================================================\n",
      "정확도(Accuracy): 0.8190429205722743\n",
      "재현율(Recall): 0.728892784107508\n",
      "정밀도(Precision): 0.7336077624228168\n",
      "F1 점수(F1 Score) 0.7312426729191089\n",
      "==================================================\n"
     ]
    }
   ],
   "source": [
    "print('n_estimators=500, max_depth=33')\n",
    "print_classification_metrics(y_val, pred_val_rf1, title='rf모델 val 데이터 평가지표 - 이상치 한 번 제거')"
   ]
  },
  {
   "cell_type": "code",
   "execution_count": 89,
   "id": "1ce9a031",
   "metadata": {},
   "outputs": [
    {
     "name": "stdout",
     "output_type": "stream",
     "text": [
      "==================================================\n",
      "rf모델 val 데이터 평가지표\n",
      "==================================================\n",
      "정확도(Accuracy): 0.822993447993448\n",
      "재현율(Recall): 0.7350641226149515\n",
      "정밀도(Precision): 0.7271039603960396\n",
      "F1 점수(F1 Score) 0.7310623736195365\n",
      "==================================================\n"
     ]
    }
   ],
   "source": [
    "print('이상치 두번 제거')\n",
    "print('n_estimators=500, max_depth=33')\n",
    "print_classification_metrics(y_val, pred_val_rf1, title='rf모델 val 데이터 평가지표- 이상치 두 번 제거')"
   ]
  },
  {
   "cell_type": "code",
   "execution_count": 111,
   "id": "5df12007",
   "metadata": {
    "collapsed": true
   },
   "outputs": [
    {
     "name": "stdout",
     "output_type": "stream",
     "text": [
      "==================================================\n",
      "roc-auc score\n",
      "==================================================\n",
      "0.9055514308138487\n",
      "==================================================\n"
     ]
    },
    {
     "data": {
      "image/png": "[encoded data removed]",
      "text/plain": [
       "<Figure size 432x288 with 1 Axes>"
      ]
     },
     "metadata": {
      "needs_background": "light"
     },
     "output_type": "display_data"
    }
   ],
   "source": [
    "# 이상치 한 번 - roc 는 0.001 정도 이게 더 좋음\n",
    "display_roc_curve(y_val, proba_val_rf1, title='rf모델 val_roc curve')"
   ]
  },
  {
   "cell_type": "code",
   "execution_count": 90,
   "id": "2d01ca14",
   "metadata": {
    "collapsed": true
   },
   "outputs": [
    {
     "name": "stdout",
     "output_type": "stream",
     "text": [
      "==================================================\n",
      "roc-auc score\n",
      "==================================================\n",
      "0.9049407718305382\n",
      "==================================================\n"
     ]
    },
    {
     "data": {
      "image/png": "[encoded data removed]",
      "text/plain": [
       "<Figure size 432x288 with 1 Axes>"
      ]
     },
     "metadata": {
      "needs_background": "light"
     },
     "output_type": "display_data"
    }
   ],
   "source": [
    "# 이상치 두 번\n",
    "display_roc_curve(y_val, proba_val_rf1, title='rf모델 val_roc curve')"
   ]
  },
  {
   "cell_type": "markdown",
   "id": "33255cd9",
   "metadata": {},
   "source": [
    "##### 하이퍼 파라미터 변경 - max_depth=32\n",
    "- max_features 를 크게 하면 tree 처럼. tree 모델이 성능이 별로이니깐 작게,,? \n",
    "    - 일단, 기본값 루트"
   ]
  },
  {
   "cell_type": "code",
   "execution_count": 112,
   "id": "6862f7c9",
   "metadata": {
    "scrolled": true
   },
   "outputs": [
    {
     "data": {
      "text/html": [
       "<style>#sk-container-id-3 {color: black;background-color: white;}#sk-container-id-3 pre{padding: 0;}#sk-container-id-3 div.sk-toggleable {background-color: white;}#sk-container-id-3 label.sk-toggleable__label {cursor: pointer;display: block;width: 100%;margin-bottom: 0;padding: 0.3em;box-sizing: border-box;text-align: center;}#sk-container-id-3 label.sk-toggleable__label-arrow:before {content: \"▸\";float: left;margin-right: 0.25em;color: #696969;}#sk-container-id-3 label.sk-toggleable__label-arrow:hover:before {color: black;}#sk-container-id-3 div.sk-estimator:hover label.sk-toggleable__label-arrow:before {color: black;}#sk-container-id-3 div.sk-toggleable__content {max-height: 0;max-width: 0;overflow: hidden;text-align: left;background-color: #f0f8ff;}#sk-container-id-3 div.sk-toggleable__content pre {margin: 0.2em;color: black;border-radius: 0.25em;background-color: #f0f8ff;}#sk-container-id-3 input.sk-toggleable__control:checked~div.sk-toggleable__content {max-height: 200px;max-width: 100%;overflow: auto;}#sk-container-id-3 input.sk-toggleable__control:checked~label.sk-toggleable__label-arrow:before {content: \"▾\";}#sk-container-id-3 div.sk-estimator input.sk-toggleable__control:checked~label.sk-toggleable__label {background-color: #d4ebff;}#sk-container-id-3 div.sk-label input.sk-toggleable__control:checked~label.sk-toggleable__label {background-color: #d4ebff;}#sk-container-id-3 input.sk-hidden--visually {border: 0;clip: rect(1px 1px 1px 1px);clip: rect(1px, 1px, 1px, 1px);height: 1px;margin: -1px;overflow: hidden;padding: 0;position: absolute;width: 1px;}#sk-container-id-3 div.sk-estimator {font-family: monospace;background-color: #f0f8ff;border: 1px dotted black;border-radius: 0.25em;box-sizing: border-box;margin-bottom: 0.5em;}#sk-container-id-3 div.sk-estimator:hover {background-color: #d4ebff;}#sk-container-id-3 div.sk-parallel-item::after {content: \"\";width: 100%;border-bottom: 1px solid gray;flex-grow: 1;}#sk-container-id-3 div.sk-label:hover label.sk-toggleable__label {background-color: #d4ebff;}#sk-container-id-3 div.sk-serial::before {content: \"\";position: absolute;border-left: 1px solid gray;box-sizing: border-box;top: 0;bottom: 0;left: 50%;z-index: 0;}#sk-container-id-3 div.sk-serial {display: flex;flex-direction: column;align-items: center;background-color: white;padding-right: 0.2em;padding-left: 0.2em;position: relative;}#sk-container-id-3 div.sk-item {position: relative;z-index: 1;}#sk-container-id-3 div.sk-parallel {display: flex;align-items: stretch;justify-content: center;background-color: white;position: relative;}#sk-container-id-3 div.sk-item::before, #sk-container-id-3 div.sk-parallel-item::before {content: \"\";position: absolute;border-left: 1px solid gray;box-sizing: border-box;top: 0;bottom: 0;left: 50%;z-index: -1;}#sk-container-id-3 div.sk-parallel-item {display: flex;flex-direction: column;z-index: 1;position: relative;background-color: white;}#sk-container-id-3 div.sk-parallel-item:first-child::after {align-self: flex-end;width: 50%;}#sk-container-id-3 div.sk-parallel-item:last-child::after {align-self: flex-start;width: 50%;}#sk-container-id-3 div.sk-parallel-item:only-child::after {width: 0;}#sk-container-id-3 div.sk-dashed-wrapped {border: 1px dashed gray;margin: 0 0.4em 0.5em 0.4em;box-sizing: border-box;padding-bottom: 0.4em;background-color: white;}#sk-container-id-3 div.sk-label label {font-family: monospace;font-weight: bold;display: inline-block;line-height: 1.2em;}#sk-container-id-3 div.sk-label-container {text-align: center;}#sk-container-id-3 div.sk-container {/* jupyter's `normalize.less` sets `[hidden] { display: none; }` but bootstrap.min.css set `[hidden] { display: none !important; }` so we also need the `!important` here to be able to override the default hidden behavior on the sphinx rendered scikit-learn.org. See: https://github.com/scikit-learn/scikit-learn/issues/21755 */display: inline-block !important;position: relative;}#sk-container-id-3 div.sk-text-repr-fallback {display: none;}</style><div id=\"sk-container-id-3\" class=\"sk-top-container\"><div class=\"sk-text-repr-fallback\"><pre>RandomForestClassifier(max_depth=32, n_jobs=-1, random_state=0)</pre><b>In a Jupyter environment, please rerun this cell to show the HTML representation or trust the notebook. <br />On GitHub, the HTML representation is unable to render, please try loading this page with nbviewer.org.</b></div><div class=\"sk-container\" hidden><div class=\"sk-item\"><div class=\"sk-estimator sk-toggleable\"><input class=\"sk-toggleable__control sk-hidden--visually\" id=\"sk-estimator-id-3\" type=\"checkbox\" checked><label for=\"sk-estimator-id-3\" class=\"sk-toggleable__label sk-toggleable__label-arrow\">RandomForestClassifier</label><div class=\"sk-toggleable__content\"><pre>RandomForestClassifier(max_depth=32, n_jobs=-1, random_state=0)</pre></div></div></div></div></div>"
      ],
      "text/plain": [
       "RandomForestClassifier(max_depth=32, n_jobs=-1, random_state=0)"
      ]
     },
     "execution_count": 112,
     "metadata": {},
     "output_type": "execute_result"
    }
   ],
   "source": [
    "from sklearn.model_selection import GridSearchCV, RandomizedSearchCV\n",
    "from sklearn.ensemble import RandomForestClassifier\n",
    "\n",
    "rf = RandomForestClassifier(n_estimators=100, # decisionTree 모델의 갯수\n",
    "                            max_depth=32,# DecisionTree 들의 하이퍼파라미터인 max_depth 를 5로 설정\n",
    "                            random_state=0, \n",
    "                            #max_features= 24, # sampling 시 random 하게 선택)\n",
    "                            n_jobs=-1)\n",
    "\n",
    "rf.fit(X_train, y_train)\n"
   ]
  },
  {
   "cell_type": "code",
   "execution_count": 113,
   "id": "7a4fd3ea",
   "metadata": {},
   "outputs": [],
   "source": [
    "pred_train_rf1 = rf.predict(X_train)\n",
    "pred_val_rf1 = rf.predict(X_val)\n",
    "\n",
    "proba_train_rf1 = rf.predict_proba(X_train)[:,1]\n",
    "proba_val_rf1 = rf.predict_proba(X_val)[:,1]"
   ]
  },
  {
   "cell_type": "code",
   "execution_count": 114,
   "id": "041afcb5",
   "metadata": {
    "scrolled": true
   },
   "outputs": [
    {
     "name": "stdout",
     "output_type": "stream",
     "text": [
      "==================================================\n",
      "rf모델 train 데이터 평가지표\n",
      "==================================================\n",
      "정확도(Accuracy): 0.9999671085090287\n",
      "재현율(Recall): 0.999902629016553\n",
      "정밀도(Precision): 1.0\n",
      "F1 점수(F1 Score) 0.9999513121378839\n",
      "==================================================\n"
     ]
    }
   ],
   "source": [
    "print_classification_metrics(y_train, pred_train_rf1, title='rf모델 train 데이터 평가지표')"
   ]
  },
  {
   "cell_type": "code",
   "execution_count": 115,
   "id": "1ff77a76",
   "metadata": {
    "scrolled": false
   },
   "outputs": [
    {
     "name": "stdout",
     "output_type": "stream",
     "text": [
      "==================================================\n",
      "rf모델 val 데이터 평가지표\n",
      "==================================================\n",
      "정확도(Accuracy): 0.8190429205722743\n",
      "재현율(Recall): 0.728892784107508\n",
      "정밀도(Precision): 0.7336077624228168\n",
      "F1 점수(F1 Score) 0.7312426729191089\n",
      "==================================================\n"
     ]
    }
   ],
   "source": [
    "print_classification_metrics(y_val, pred_val_rf1, title='rf모델 val 데이터 평가지표')"
   ]
  },
  {
   "cell_type": "code",
   "execution_count": 116,
   "id": "ed411f54",
   "metadata": {},
   "outputs": [
    {
     "name": "stdout",
     "output_type": "stream",
     "text": [
      "==================================================\n",
      "roc-auc score\n",
      "==================================================\n",
      "0.9025375257190631\n",
      "==================================================\n"
     ]
    },
    {
     "data": {
      "image/png": "[encoded data removed]",
      "text/plain": [
       "<Figure size 432x288 with 1 Axes>"
      ]
     },
     "metadata": {
      "needs_background": "light"
     },
     "output_type": "display_data"
    }
   ],
   "source": [
    "display_roc_curve(y_val, proba_val_rf1, title='rf모델 val_roc curve')"
   ]
  },
  {
   "cell_type": "code",
   "execution_count": 182,
   "id": "72fb8483",
   "metadata": {},
   "outputs": [
    {
     "name": "stdout",
     "output_type": "stream",
     "text": [
      "==================================================\n",
      "ap score\n",
      "==================================================\n",
      "0.8294317808137002\n",
      "==================================================\n"
     ]
    },
    {
     "data": {
      "image/png": "[encoded data removed]",
      "text/plain": [
       "<Figure size 432x288 with 1 Axes>"
      ]
     },
     "metadata": {
      "needs_background": "light"
     },
     "output_type": "display_data"
    }
   ],
   "source": [
    "display_precision_recall_curve(y_val, proba_val_rf1, title='rf모델 val_Precision Recall Curve')\n"
   ]
  },
  {
   "cell_type": "markdown",
   "id": "434eee40",
   "metadata": {},
   "source": [
    "### 이진분류 평가 - AUC"
   ]
  },
  {
   "cell_type": "markdown",
   "id": "a937462e",
   "metadata": {
    "slideshow": {
     "slide_type": "slide"
    }
   },
   "source": [
    "- **AUC Score**\n",
    "    - ROC Curve의 결과를 점수화(수치화) 하는 함수로 ROC Curve 아래쪽 면적을 계산한다.\n",
    "    - 0 ~ 1 사이 실수로 나오며 클수록 좋다.\n",
    "        - AUC Score값이 크려면(1에 가까운 값) 임계값이 클 때 FPR은 작고, TPR의 값은 커야 한다. FPR이 작다는 것은 Negative 잘 분류했다는 것이고 TPR이 크다는 것은 Positive를 잘 분류 했다는 의미이므로 둘에 대한 분류성능이 좋다는 것을 의미한다.\n",
    "   - **AUC 점수기준**\n",
    "        - 1.0 ~ 0.9 : 아주 좋음\n",
    "        - 0.9 ~ 0.8 : 좋음\n",
    "        - 0.8 ~ 0.7 : 괜찮은 모델\n",
    "        - 0.7 ~ 0.6 : 의미는 있으나 좋은 모델은 아님\n",
    "        - 0.6 ~ 0.5 : 좋지 않은 모델"
   ]
  },
  {
   "cell_type": "markdown",
   "id": "53e13863",
   "metadata": {},
   "source": [
    "##### 하이퍼 파라미터 변경 - max_depth=34 - 떨어짐"
   ]
  },
  {
   "cell_type": "code",
   "execution_count": 187,
   "id": "6e422f0e",
   "metadata": {
    "scrolled": true
   },
   "outputs": [
    {
     "data": {
      "text/html": [
       "<style>#sk-container-id-10 {color: black;background-color: white;}#sk-container-id-10 pre{padding: 0;}#sk-container-id-10 div.sk-toggleable {background-color: white;}#sk-container-id-10 label.sk-toggleable__label {cursor: pointer;display: block;width: 100%;margin-bottom: 0;padding: 0.3em;box-sizing: border-box;text-align: center;}#sk-container-id-10 label.sk-toggleable__label-arrow:before {content: \"▸\";float: left;margin-right: 0.25em;color: #696969;}#sk-container-id-10 label.sk-toggleable__label-arrow:hover:before {color: black;}#sk-container-id-10 div.sk-estimator:hover label.sk-toggleable__label-arrow:before {color: black;}#sk-container-id-10 div.sk-toggleable__content {max-height: 0;max-width: 0;overflow: hidden;text-align: left;background-color: #f0f8ff;}#sk-container-id-10 div.sk-toggleable__content pre {margin: 0.2em;color: black;border-radius: 0.25em;background-color: #f0f8ff;}#sk-container-id-10 input.sk-toggleable__control:checked~div.sk-toggleable__content {max-height: 200px;max-width: 100%;overflow: auto;}#sk-container-id-10 input.sk-toggleable__control:checked~label.sk-toggleable__label-arrow:before {content: \"▾\";}#sk-container-id-10 div.sk-estimator input.sk-toggleable__control:checked~label.sk-toggleable__label {background-color: #d4ebff;}#sk-container-id-10 div.sk-label input.sk-toggleable__control:checked~label.sk-toggleable__label {background-color: #d4ebff;}#sk-container-id-10 input.sk-hidden--visually {border: 0;clip: rect(1px 1px 1px 1px);clip: rect(1px, 1px, 1px, 1px);height: 1px;margin: -1px;overflow: hidden;padding: 0;position: absolute;width: 1px;}#sk-container-id-10 div.sk-estimator {font-family: monospace;background-color: #f0f8ff;border: 1px dotted black;border-radius: 0.25em;box-sizing: border-box;margin-bottom: 0.5em;}#sk-container-id-10 div.sk-estimator:hover {background-color: #d4ebff;}#sk-container-id-10 div.sk-parallel-item::after {content: \"\";width: 100%;border-bottom: 1px solid gray;flex-grow: 1;}#sk-container-id-10 div.sk-label:hover label.sk-toggleable__label {background-color: #d4ebff;}#sk-container-id-10 div.sk-serial::before {content: \"\";position: absolute;border-left: 1px solid gray;box-sizing: border-box;top: 0;bottom: 0;left: 50%;z-index: 0;}#sk-container-id-10 div.sk-serial {display: flex;flex-direction: column;align-items: center;background-color: white;padding-right: 0.2em;padding-left: 0.2em;position: relative;}#sk-container-id-10 div.sk-item {position: relative;z-index: 1;}#sk-container-id-10 div.sk-parallel {display: flex;align-items: stretch;justify-content: center;background-color: white;position: relative;}#sk-container-id-10 div.sk-item::before, #sk-container-id-10 div.sk-parallel-item::before {content: \"\";position: absolute;border-left: 1px solid gray;box-sizing: border-box;top: 0;bottom: 0;left: 50%;z-index: -1;}#sk-container-id-10 div.sk-parallel-item {display: flex;flex-direction: column;z-index: 1;position: relative;background-color: white;}#sk-container-id-10 div.sk-parallel-item:first-child::after {align-self: flex-end;width: 50%;}#sk-container-id-10 div.sk-parallel-item:last-child::after {align-self: flex-start;width: 50%;}#sk-container-id-10 div.sk-parallel-item:only-child::after {width: 0;}#sk-container-id-10 div.sk-dashed-wrapped {border: 1px dashed gray;margin: 0 0.4em 0.5em 0.4em;box-sizing: border-box;padding-bottom: 0.4em;background-color: white;}#sk-container-id-10 div.sk-label label {font-family: monospace;font-weight: bold;display: inline-block;line-height: 1.2em;}#sk-container-id-10 div.sk-label-container {text-align: center;}#sk-container-id-10 div.sk-container {/* jupyter's `normalize.less` sets `[hidden] { display: none; }` but bootstrap.min.css set `[hidden] { display: none !important; }` so we also need the `!important` here to be able to override the default hidden behavior on the sphinx rendered scikit-learn.org. See: https://github.com/scikit-learn/scikit-learn/issues/21755 */display: inline-block !important;position: relative;}#sk-container-id-10 div.sk-text-repr-fallback {display: none;}</style><div id=\"sk-container-id-10\" class=\"sk-top-container\"><div class=\"sk-text-repr-fallback\"><pre>RandomForestClassifier(max_depth=34, n_estimators=400, n_jobs=-1,\n",
       "                       random_state=0)</pre><b>In a Jupyter environment, please rerun this cell to show the HTML representation or trust the notebook. <br />On GitHub, the HTML representation is unable to render, please try loading this page with nbviewer.org.</b></div><div class=\"sk-container\" hidden><div class=\"sk-item\"><div class=\"sk-estimator sk-toggleable\"><input class=\"sk-toggleable__control sk-hidden--visually\" id=\"sk-estimator-id-12\" type=\"checkbox\" checked><label for=\"sk-estimator-id-12\" class=\"sk-toggleable__label sk-toggleable__label-arrow\">RandomForestClassifier</label><div class=\"sk-toggleable__content\"><pre>RandomForestClassifier(max_depth=34, n_estimators=400, n_jobs=-1,\n",
       "                       random_state=0)</pre></div></div></div></div></div>"
      ],
      "text/plain": [
       "RandomForestClassifier(max_depth=34, n_estimators=400, n_jobs=-1,\n",
       "                       random_state=0)"
      ]
     },
     "execution_count": 187,
     "metadata": {},
     "output_type": "execute_result"
    }
   ],
   "source": [
    "from sklearn.model_selection import GridSearchCV, RandomizedSearchCV\n",
    "from sklearn.ensemble import RandomForestClassifier\n",
    "\n",
    "rf = RandomForestClassifier(n_estimators=400, # decisionTree 모델의 갯수\n",
    "                            max_depth=34,# DecisionTree 들의 하이퍼파라미터인 max_depth 를 5로 설정\n",
    "                            random_state=0, \n",
    "                            #max_features= 24, # sampling 시 random 하게 선택)\n",
    "                            # n_iter= ,\n",
    "                            # cv = ,\n",
    "                            \n",
    "                            n_jobs=-1)\n",
    "\n",
    "rf.fit(X_train, y_train)\n"
   ]
  },
  {
   "cell_type": "code",
   "execution_count": 188,
   "id": "0d871632",
   "metadata": {},
   "outputs": [],
   "source": [
    "pred_train_rf1 = rf.predict(X_train)\n",
    "pred_val_rf1 = rf.predict(X_val)\n",
    "\n",
    "proba_train_rf1 = rf.predict_proba(X_train)[:,1]\n",
    "proba_val_rf1 = rf.predict_proba(X_val)[:,1]"
   ]
  },
  {
   "cell_type": "code",
   "execution_count": 189,
   "id": "bc9cb8f2",
   "metadata": {},
   "outputs": [
    {
     "name": "stdout",
     "output_type": "stream",
     "text": [
      "==================================================\n",
      "rf모델 val 데이터 평가지표-이상치만 제거\n",
      "==================================================\n",
      "정확도(Accuracy): 0.8201282683769117\n",
      "재현율(Recall): 0.7332749050540461\n",
      "정밀도(Precision): 0.7339181286549707\n",
      "F1 점수(F1 Score) 0.7335963758585415\n",
      "==================================================\n"
     ]
    }
   ],
   "source": [
    "print_classification_metrics(y_val, pred_val_rf1, title='rf모델 val 데이터 평가지표-이상치만 제거')"
   ]
  },
  {
   "cell_type": "code",
   "execution_count": null,
   "id": "1efac3ca",
   "metadata": {},
   "outputs": [],
   "source": [
    "==================================================\n",
    "rf모델 val 데이터 평가지표\n",
    "==================================================\n",
    "정확도(Accuracy): 0.8206216082881105\n",
    "재현율(Recall): 0.735904177621969\n",
    "정밀도(Precision): 0.7337605592775998\n",
    "F1 점수(F1 Score) 0.7348308051341891\n",
    "=================================================="
   ]
  },
  {
   "cell_type": "code",
   "execution_count": 210,
   "id": "30ead6aa",
   "metadata": {
    "scrolled": true
   },
   "outputs": [
    {
     "name": "stdout",
     "output_type": "stream",
     "text": [
      "==================================================\n",
      "roc-auc score\n",
      "==================================================\n",
      "0.9055217248390176\n",
      "==================================================\n"
     ]
    },
    {
     "data": {
      "image/png": "[encoded data removed]",
      "text/plain": [
       "<Figure size 432x288 with 1 Axes>"
      ]
     },
     "metadata": {
      "needs_background": "light"
     },
     "output_type": "display_data"
    }
   ],
   "source": [
    "display_roc_curve(y_val, proba_val_rf1, title='rf모델 val_roc curve')"
   ]
  },
  {
   "cell_type": "markdown",
   "id": "3adf2526",
   "metadata": {},
   "source": [
    "## RandomizedSearchCV"
   ]
  },
  {
   "cell_type": "markdown",
   "id": "51d10d8d",
   "metadata": {},
   "source": [
    "#### n_estimators 결정 트리의 개수 최적화 - 100 ~ 500  중 "
   ]
  },
  {
   "cell_type": "code",
   "execution_count": 175,
   "id": "3e1cb213",
   "metadata": {},
   "outputs": [
    {
     "data": {
      "text/html": [
       "<style>#sk-container-id-8 {color: black;background-color: white;}#sk-container-id-8 pre{padding: 0;}#sk-container-id-8 div.sk-toggleable {background-color: white;}#sk-container-id-8 label.sk-toggleable__label {cursor: pointer;display: block;width: 100%;margin-bottom: 0;padding: 0.3em;box-sizing: border-box;text-align: center;}#sk-container-id-8 label.sk-toggleable__label-arrow:before {content: \"▸\";float: left;margin-right: 0.25em;color: #696969;}#sk-container-id-8 label.sk-toggleable__label-arrow:hover:before {color: black;}#sk-container-id-8 div.sk-estimator:hover label.sk-toggleable__label-arrow:before {color: black;}#sk-container-id-8 div.sk-toggleable__content {max-height: 0;max-width: 0;overflow: hidden;text-align: left;background-color: #f0f8ff;}#sk-container-id-8 div.sk-toggleable__content pre {margin: 0.2em;color: black;border-radius: 0.25em;background-color: #f0f8ff;}#sk-container-id-8 input.sk-toggleable__control:checked~div.sk-toggleable__content {max-height: 200px;max-width: 100%;overflow: auto;}#sk-container-id-8 input.sk-toggleable__control:checked~label.sk-toggleable__label-arrow:before {content: \"▾\";}#sk-container-id-8 div.sk-estimator input.sk-toggleable__control:checked~label.sk-toggleable__label {background-color: #d4ebff;}#sk-container-id-8 div.sk-label input.sk-toggleable__control:checked~label.sk-toggleable__label {background-color: #d4ebff;}#sk-container-id-8 input.sk-hidden--visually {border: 0;clip: rect(1px 1px 1px 1px);clip: rect(1px, 1px, 1px, 1px);height: 1px;margin: -1px;overflow: hidden;padding: 0;position: absolute;width: 1px;}#sk-container-id-8 div.sk-estimator {font-family: monospace;background-color: #f0f8ff;border: 1px dotted black;border-radius: 0.25em;box-sizing: border-box;margin-bottom: 0.5em;}#sk-container-id-8 div.sk-estimator:hover {background-color: #d4ebff;}#sk-container-id-8 div.sk-parallel-item::after {content: \"\";width: 100%;border-bottom: 1px solid gray;flex-grow: 1;}#sk-container-id-8 div.sk-label:hover label.sk-toggleable__label {background-color: #d4ebff;}#sk-container-id-8 div.sk-serial::before {content: \"\";position: absolute;border-left: 1px solid gray;box-sizing: border-box;top: 0;bottom: 0;left: 50%;z-index: 0;}#sk-container-id-8 div.sk-serial {display: flex;flex-direction: column;align-items: center;background-color: white;padding-right: 0.2em;padding-left: 0.2em;position: relative;}#sk-container-id-8 div.sk-item {position: relative;z-index: 1;}#sk-container-id-8 div.sk-parallel {display: flex;align-items: stretch;justify-content: center;background-color: white;position: relative;}#sk-container-id-8 div.sk-item::before, #sk-container-id-8 div.sk-parallel-item::before {content: \"\";position: absolute;border-left: 1px solid gray;box-sizing: border-box;top: 0;bottom: 0;left: 50%;z-index: -1;}#sk-container-id-8 div.sk-parallel-item {display: flex;flex-direction: column;z-index: 1;position: relative;background-color: white;}#sk-container-id-8 div.sk-parallel-item:first-child::after {align-self: flex-end;width: 50%;}#sk-container-id-8 div.sk-parallel-item:last-child::after {align-self: flex-start;width: 50%;}#sk-container-id-8 div.sk-parallel-item:only-child::after {width: 0;}#sk-container-id-8 div.sk-dashed-wrapped {border: 1px dashed gray;margin: 0 0.4em 0.5em 0.4em;box-sizing: border-box;padding-bottom: 0.4em;background-color: white;}#sk-container-id-8 div.sk-label label {font-family: monospace;font-weight: bold;display: inline-block;line-height: 1.2em;}#sk-container-id-8 div.sk-label-container {text-align: center;}#sk-container-id-8 div.sk-container {/* jupyter's `normalize.less` sets `[hidden] { display: none; }` but bootstrap.min.css set `[hidden] { display: none !important; }` so we also need the `!important` here to be able to override the default hidden behavior on the sphinx rendered scikit-learn.org. See: https://github.com/scikit-learn/scikit-learn/issues/21755 */display: inline-block !important;position: relative;}#sk-container-id-8 div.sk-text-repr-fallback {display: none;}</style><div id=\"sk-container-id-8\" class=\"sk-top-container\"><div class=\"sk-text-repr-fallback\"><pre>RandomizedSearchCV(cv=4, estimator=RandomForestClassifier(random_state=0),\n",
       "                   n_iter=60, n_jobs=-1,\n",
       "                   param_distributions={&#x27;n_estimators&#x27;: range(100, 501, 100)},\n",
       "                   scoring=&#x27;accuracy&#x27;)</pre><b>In a Jupyter environment, please rerun this cell to show the HTML representation or trust the notebook. <br />On GitHub, the HTML representation is unable to render, please try loading this page with nbviewer.org.</b></div><div class=\"sk-container\" hidden><div class=\"sk-item sk-dashed-wrapped\"><div class=\"sk-label-container\"><div class=\"sk-label sk-toggleable\"><input class=\"sk-toggleable__control sk-hidden--visually\" id=\"sk-estimator-id-8\" type=\"checkbox\" ><label for=\"sk-estimator-id-8\" class=\"sk-toggleable__label sk-toggleable__label-arrow\">RandomizedSearchCV</label><div class=\"sk-toggleable__content\"><pre>RandomizedSearchCV(cv=4, estimator=RandomForestClassifier(random_state=0),\n",
       "                   n_iter=60, n_jobs=-1,\n",
       "                   param_distributions={&#x27;n_estimators&#x27;: range(100, 501, 100)},\n",
       "                   scoring=&#x27;accuracy&#x27;)</pre></div></div></div><div class=\"sk-parallel\"><div class=\"sk-parallel-item\"><div class=\"sk-item\"><div class=\"sk-label-container\"><div class=\"sk-label sk-toggleable\"><input class=\"sk-toggleable__control sk-hidden--visually\" id=\"sk-estimator-id-9\" type=\"checkbox\" ><label for=\"sk-estimator-id-9\" class=\"sk-toggleable__label sk-toggleable__label-arrow\">estimator: RandomForestClassifier</label><div class=\"sk-toggleable__content\"><pre>RandomForestClassifier(random_state=0)</pre></div></div></div><div class=\"sk-serial\"><div class=\"sk-item\"><div class=\"sk-estimator sk-toggleable\"><input class=\"sk-toggleable__control sk-hidden--visually\" id=\"sk-estimator-id-10\" type=\"checkbox\" ><label for=\"sk-estimator-id-10\" class=\"sk-toggleable__label sk-toggleable__label-arrow\">RandomForestClassifier</label><div class=\"sk-toggleable__content\"><pre>RandomForestClassifier(random_state=0)</pre></div></div></div></div></div></div></div></div></div></div>"
      ],
      "text/plain": [
       "RandomizedSearchCV(cv=4, estimator=RandomForestClassifier(random_state=0),\n",
       "                   n_iter=60, n_jobs=-1,\n",
       "                   param_distributions={'n_estimators': range(100, 501, 100)},\n",
       "                   scoring='accuracy')"
      ]
     },
     "execution_count": 175,
     "metadata": {},
     "output_type": "execute_result"
    }
   ],
   "source": [
    "from sklearn.model_selection import GridSearchCV, RandomizedSearchCV\n",
    "from sklearn.ensemble import RandomForestClassifier\n",
    "\n",
    "params = {\n",
    "    'n_estimators':range(100,501,100),\n",
    "    #'max_depth':range(33),\n",
    "    #'max_features':range(5,10) # 24개 \n",
    "}\n",
    "\n",
    "rs = RandomizedSearchCV(RandomForestClassifier(random_state=0),\n",
    "                       params,\n",
    "                       scoring='accuracy', # ['accuracy', 'recall', 'precision','roc_auc', 'f1'],\n",
    "                        # refit='accuracy',\n",
    "                       cv=4,\n",
    "                       n_jobs=-1,\n",
    "                       n_iter=60)\n",
    "rs.fit(X_train, y_train)"
   ]
  },
  {
   "cell_type": "code",
   "execution_count": 176,
   "id": "6e8a2fa9",
   "metadata": {},
   "outputs": [
    {
     "data": {
      "text/plain": [
       "0.7995919252314446"
      ]
     },
     "execution_count": 176,
     "metadata": {},
     "output_type": "execute_result"
    }
   ],
   "source": [
    "rs.best_score_"
   ]
  },
  {
   "cell_type": "code",
   "execution_count": 177,
   "id": "376784ac",
   "metadata": {},
   "outputs": [
    {
     "data": {
      "text/plain": [
       "{'n_estimators': 400}"
      ]
     },
     "execution_count": 177,
     "metadata": {},
     "output_type": "execute_result"
    }
   ],
   "source": [
    "rs.best_params_"
   ]
  },
  {
   "cell_type": "markdown",
   "id": "0c05b2e5",
   "metadata": {},
   "source": [
    "#### max_features 최적화  - 아직 안 해봄 "
   ]
  },
  {
   "cell_type": "code",
   "execution_count": 175,
   "id": "34c8c2a3",
   "metadata": {},
   "outputs": [
    {
     "data": {
      "text/html": [
       "<style>#sk-container-id-8 {color: black;background-color: white;}#sk-container-id-8 pre{padding: 0;}#sk-container-id-8 div.sk-toggleable {background-color: white;}#sk-container-id-8 label.sk-toggleable__label {cursor: pointer;display: block;width: 100%;margin-bottom: 0;padding: 0.3em;box-sizing: border-box;text-align: center;}#sk-container-id-8 label.sk-toggleable__label-arrow:before {content: \"▸\";float: left;margin-right: 0.25em;color: #696969;}#sk-container-id-8 label.sk-toggleable__label-arrow:hover:before {color: black;}#sk-container-id-8 div.sk-estimator:hover label.sk-toggleable__label-arrow:before {color: black;}#sk-container-id-8 div.sk-toggleable__content {max-height: 0;max-width: 0;overflow: hidden;text-align: left;background-color: #f0f8ff;}#sk-container-id-8 div.sk-toggleable__content pre {margin: 0.2em;color: black;border-radius: 0.25em;background-color: #f0f8ff;}#sk-container-id-8 input.sk-toggleable__control:checked~div.sk-toggleable__content {max-height: 200px;max-width: 100%;overflow: auto;}#sk-container-id-8 input.sk-toggleable__control:checked~label.sk-toggleable__label-arrow:before {content: \"▾\";}#sk-container-id-8 div.sk-estimator input.sk-toggleable__control:checked~label.sk-toggleable__label {background-color: #d4ebff;}#sk-container-id-8 div.sk-label input.sk-toggleable__control:checked~label.sk-toggleable__label {background-color: #d4ebff;}#sk-container-id-8 input.sk-hidden--visually {border: 0;clip: rect(1px 1px 1px 1px);clip: rect(1px, 1px, 1px, 1px);height: 1px;margin: -1px;overflow: hidden;padding: 0;position: absolute;width: 1px;}#sk-container-id-8 div.sk-estimator {font-family: monospace;background-color: #f0f8ff;border: 1px dotted black;border-radius: 0.25em;box-sizing: border-box;margin-bottom: 0.5em;}#sk-container-id-8 div.sk-estimator:hover {background-color: #d4ebff;}#sk-container-id-8 div.sk-parallel-item::after {content: \"\";width: 100%;border-bottom: 1px solid gray;flex-grow: 1;}#sk-container-id-8 div.sk-label:hover label.sk-toggleable__label {background-color: #d4ebff;}#sk-container-id-8 div.sk-serial::before {content: \"\";position: absolute;border-left: 1px solid gray;box-sizing: border-box;top: 0;bottom: 0;left: 50%;z-index: 0;}#sk-container-id-8 div.sk-serial {display: flex;flex-direction: column;align-items: center;background-color: white;padding-right: 0.2em;padding-left: 0.2em;position: relative;}#sk-container-id-8 div.sk-item {position: relative;z-index: 1;}#sk-container-id-8 div.sk-parallel {display: flex;align-items: stretch;justify-content: center;background-color: white;position: relative;}#sk-container-id-8 div.sk-item::before, #sk-container-id-8 div.sk-parallel-item::before {content: \"\";position: absolute;border-left: 1px solid gray;box-sizing: border-box;top: 0;bottom: 0;left: 50%;z-index: -1;}#sk-container-id-8 div.sk-parallel-item {display: flex;flex-direction: column;z-index: 1;position: relative;background-color: white;}#sk-container-id-8 div.sk-parallel-item:first-child::after {align-self: flex-end;width: 50%;}#sk-container-id-8 div.sk-parallel-item:last-child::after {align-self: flex-start;width: 50%;}#sk-container-id-8 div.sk-parallel-item:only-child::after {width: 0;}#sk-container-id-8 div.sk-dashed-wrapped {border: 1px dashed gray;margin: 0 0.4em 0.5em 0.4em;box-sizing: border-box;padding-bottom: 0.4em;background-color: white;}#sk-container-id-8 div.sk-label label {font-family: monospace;font-weight: bold;display: inline-block;line-height: 1.2em;}#sk-container-id-8 div.sk-label-container {text-align: center;}#sk-container-id-8 div.sk-container {/* jupyter's `normalize.less` sets `[hidden] { display: none; }` but bootstrap.min.css set `[hidden] { display: none !important; }` so we also need the `!important` here to be able to override the default hidden behavior on the sphinx rendered scikit-learn.org. See: https://github.com/scikit-learn/scikit-learn/issues/21755 */display: inline-block !important;position: relative;}#sk-container-id-8 div.sk-text-repr-fallback {display: none;}</style><div id=\"sk-container-id-8\" class=\"sk-top-container\"><div class=\"sk-text-repr-fallback\"><pre>RandomizedSearchCV(cv=4, estimator=RandomForestClassifier(random_state=0),\n",
       "                   n_iter=60, n_jobs=-1,\n",
       "                   param_distributions={&#x27;n_estimators&#x27;: range(100, 501, 100)},\n",
       "                   scoring=&#x27;accuracy&#x27;)</pre><b>In a Jupyter environment, please rerun this cell to show the HTML representation or trust the notebook. <br />On GitHub, the HTML representation is unable to render, please try loading this page with nbviewer.org.</b></div><div class=\"sk-container\" hidden><div class=\"sk-item sk-dashed-wrapped\"><div class=\"sk-label-container\"><div class=\"sk-label sk-toggleable\"><input class=\"sk-toggleable__control sk-hidden--visually\" id=\"sk-estimator-id-8\" type=\"checkbox\" ><label for=\"sk-estimator-id-8\" class=\"sk-toggleable__label sk-toggleable__label-arrow\">RandomizedSearchCV</label><div class=\"sk-toggleable__content\"><pre>RandomizedSearchCV(cv=4, estimator=RandomForestClassifier(random_state=0),\n",
       "                   n_iter=60, n_jobs=-1,\n",
       "                   param_distributions={&#x27;n_estimators&#x27;: range(100, 501, 100)},\n",
       "                   scoring=&#x27;accuracy&#x27;)</pre></div></div></div><div class=\"sk-parallel\"><div class=\"sk-parallel-item\"><div class=\"sk-item\"><div class=\"sk-label-container\"><div class=\"sk-label sk-toggleable\"><input class=\"sk-toggleable__control sk-hidden--visually\" id=\"sk-estimator-id-9\" type=\"checkbox\" ><label for=\"sk-estimator-id-9\" class=\"sk-toggleable__label sk-toggleable__label-arrow\">estimator: RandomForestClassifier</label><div class=\"sk-toggleable__content\"><pre>RandomForestClassifier(random_state=0)</pre></div></div></div><div class=\"sk-serial\"><div class=\"sk-item\"><div class=\"sk-estimator sk-toggleable\"><input class=\"sk-toggleable__control sk-hidden--visually\" id=\"sk-estimator-id-10\" type=\"checkbox\" ><label for=\"sk-estimator-id-10\" class=\"sk-toggleable__label sk-toggleable__label-arrow\">RandomForestClassifier</label><div class=\"sk-toggleable__content\"><pre>RandomForestClassifier(random_state=0)</pre></div></div></div></div></div></div></div></div></div></div>"
      ],
      "text/plain": [
       "RandomizedSearchCV(cv=4, estimator=RandomForestClassifier(random_state=0),\n",
       "                   n_iter=60, n_jobs=-1,\n",
       "                   param_distributions={'n_estimators': range(100, 501, 100)},\n",
       "                   scoring='accuracy')"
      ]
     },
     "execution_count": 175,
     "metadata": {},
     "output_type": "execute_result"
    }
   ],
   "source": [
    "from sklearn.model_selection import GridSearchCV, RandomizedSearchCV\n",
    "from sklearn.ensemble import RandomForestClassifier\n",
    "\n",
    "params = {\n",
    "    #'n_estimators':[400],\n",
    "    #'max_depth':range(33),\n",
    "    'max_features':range(4, 24) # 24개 \n",
    "}\n",
    "\n",
    "rs = RandomizedSearchCV(RandomForestClassifier(random_state=0),\n",
    "                       params,\n",
    "                       scoring='accuracy', # ['accuracy', 'recall', 'precision','roc_auc', 'f1'],\n",
    "                        # refit='accuracy',\n",
    "                       cv=4,\n",
    "                       n_jobs=-1,\n",
    "                       n_iter=60)\n",
    "rs.fit(X_train, y_train)"
   ]
  },
  {
   "cell_type": "code",
   "execution_count": 176,
   "id": "8191aa01",
   "metadata": {},
   "outputs": [
    {
     "data": {
      "text/plain": [
       "0.7995919252314446"
      ]
     },
     "execution_count": 176,
     "metadata": {},
     "output_type": "execute_result"
    }
   ],
   "source": [
    "rs.best_score_"
   ]
  },
  {
   "cell_type": "code",
   "execution_count": 177,
   "id": "3325f551",
   "metadata": {},
   "outputs": [
    {
     "data": {
      "text/plain": [
       "{'n_estimators': 400}"
      ]
     },
     "execution_count": 177,
     "metadata": {},
     "output_type": "execute_result"
    }
   ],
   "source": [
    "rs.best_params_"
   ]
  },
  {
   "cell_type": "code",
   "execution_count": null,
   "id": "24f34c9f",
   "metadata": {},
   "outputs": [],
   "source": []
  }
 ],
 "metadata": {
  "kernelspec": {
   "display_name": "Python 3 (ipykernel)",
   "language": "python",
   "name": "python3"
  },
  "language_info": {
   "codemirror_mode": {
    "name": "ipython",
    "version": 3
   },
   "file_extension": ".py",
   "mimetype": "text/x-python",
   "name": "python",
   "nbconvert_exporter": "python",
   "pygments_lexer": "ipython3",
   "version": "3.8.13"
  }
 },
 "nbformat": 4,
 "nbformat_minor": 5
}
