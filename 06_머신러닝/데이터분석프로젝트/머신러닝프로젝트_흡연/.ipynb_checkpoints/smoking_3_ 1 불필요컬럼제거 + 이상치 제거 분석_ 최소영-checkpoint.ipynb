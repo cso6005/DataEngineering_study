{
 "cells": [
  {
   "cell_type": "code",
   "execution_count": 1,
   "id": "01bd7a8b",
   "metadata": {
    "scrolled": true
   },
   "outputs": [
    {
     "name": "stderr",
     "output_type": "stream",
     "text": [
      "Missing colon in file WindowsPath('C:/Users/CSYJ/anaconda3/envs/smoking/lib/site-packages/matplotlib/mpl-data/matplotlibrc'), line 243 ('nicode')\n",
      "Missing colon in file 'C:\\\\Users\\\\CSYJ\\\\anaconda3\\\\envs\\\\smoking\\\\lib\\\\site-packages\\\\matplotlib\\\\mpl-data\\\\matplotlibrc', line 243 ('nicode')\n"
     ]
    }
   ],
   "source": [
    "import numpy as np\n",
    "import pandas as pd\n",
    "import matplotlib.pyplot as plt\n",
    "import seaborn as sns\n",
    "\n",
    "import warnings \n",
    "warnings.filterwarnings(action = 'ignore')"
   ]
  },
  {
   "cell_type": "code",
   "execution_count": 2,
   "id": "1a145798",
   "metadata": {
    "scrolled": true
   },
   "outputs": [
    {
     "data": {
      "text/html": [
       "<div>\n",
       "<style scoped>\n",
       "    .dataframe tbody tr th:only-of-type {\n",
       "        vertical-align: middle;\n",
       "    }\n",
       "\n",
       "    .dataframe tbody tr th {\n",
       "        vertical-align: top;\n",
       "    }\n",
       "\n",
       "    .dataframe thead th {\n",
       "        text-align: right;\n",
       "    }\n",
       "</style>\n",
       "<table border=\"1\" class=\"dataframe\">\n",
       "  <thead>\n",
       "    <tr style=\"text-align: right;\">\n",
       "      <th></th>\n",
       "      <th>gender</th>\n",
       "      <th>age</th>\n",
       "      <th>height(cm)</th>\n",
       "      <th>weight(kg)</th>\n",
       "      <th>waist(cm)</th>\n",
       "      <th>eyesight(left)</th>\n",
       "      <th>eyesight(right)</th>\n",
       "      <th>hearing(left)</th>\n",
       "      <th>hearing(right)</th>\n",
       "      <th>systolic</th>\n",
       "      <th>...</th>\n",
       "      <th>hemoglobin</th>\n",
       "      <th>Urine protein</th>\n",
       "      <th>serum creatinine</th>\n",
       "      <th>AST</th>\n",
       "      <th>ALT</th>\n",
       "      <th>Gtp</th>\n",
       "      <th>oral</th>\n",
       "      <th>dental caries</th>\n",
       "      <th>tartar</th>\n",
       "      <th>smoking</th>\n",
       "    </tr>\n",
       "    <tr>\n",
       "      <th>ID</th>\n",
       "      <th></th>\n",
       "      <th></th>\n",
       "      <th></th>\n",
       "      <th></th>\n",
       "      <th></th>\n",
       "      <th></th>\n",
       "      <th></th>\n",
       "      <th></th>\n",
       "      <th></th>\n",
       "      <th></th>\n",
       "      <th></th>\n",
       "      <th></th>\n",
       "      <th></th>\n",
       "      <th></th>\n",
       "      <th></th>\n",
       "      <th></th>\n",
       "      <th></th>\n",
       "      <th></th>\n",
       "      <th></th>\n",
       "      <th></th>\n",
       "      <th></th>\n",
       "    </tr>\n",
       "  </thead>\n",
       "  <tbody>\n",
       "    <tr>\n",
       "      <th>0</th>\n",
       "      <td>F</td>\n",
       "      <td>40</td>\n",
       "      <td>155</td>\n",
       "      <td>60</td>\n",
       "      <td>81.3</td>\n",
       "      <td>1.2</td>\n",
       "      <td>1.0</td>\n",
       "      <td>1.0</td>\n",
       "      <td>1.0</td>\n",
       "      <td>114.0</td>\n",
       "      <td>...</td>\n",
       "      <td>12.9</td>\n",
       "      <td>1.0</td>\n",
       "      <td>0.7</td>\n",
       "      <td>18.0</td>\n",
       "      <td>19.0</td>\n",
       "      <td>27.0</td>\n",
       "      <td>Y</td>\n",
       "      <td>0</td>\n",
       "      <td>Y</td>\n",
       "      <td>0</td>\n",
       "    </tr>\n",
       "    <tr>\n",
       "      <th>1</th>\n",
       "      <td>F</td>\n",
       "      <td>40</td>\n",
       "      <td>160</td>\n",
       "      <td>60</td>\n",
       "      <td>81.0</td>\n",
       "      <td>0.8</td>\n",
       "      <td>0.6</td>\n",
       "      <td>1.0</td>\n",
       "      <td>1.0</td>\n",
       "      <td>119.0</td>\n",
       "      <td>...</td>\n",
       "      <td>12.7</td>\n",
       "      <td>1.0</td>\n",
       "      <td>0.6</td>\n",
       "      <td>22.0</td>\n",
       "      <td>19.0</td>\n",
       "      <td>18.0</td>\n",
       "      <td>Y</td>\n",
       "      <td>0</td>\n",
       "      <td>Y</td>\n",
       "      <td>0</td>\n",
       "    </tr>\n",
       "    <tr>\n",
       "      <th>2</th>\n",
       "      <td>M</td>\n",
       "      <td>55</td>\n",
       "      <td>170</td>\n",
       "      <td>60</td>\n",
       "      <td>80.0</td>\n",
       "      <td>0.8</td>\n",
       "      <td>0.8</td>\n",
       "      <td>1.0</td>\n",
       "      <td>1.0</td>\n",
       "      <td>138.0</td>\n",
       "      <td>...</td>\n",
       "      <td>15.8</td>\n",
       "      <td>1.0</td>\n",
       "      <td>1.0</td>\n",
       "      <td>21.0</td>\n",
       "      <td>16.0</td>\n",
       "      <td>22.0</td>\n",
       "      <td>Y</td>\n",
       "      <td>0</td>\n",
       "      <td>N</td>\n",
       "      <td>1</td>\n",
       "    </tr>\n",
       "    <tr>\n",
       "      <th>3</th>\n",
       "      <td>M</td>\n",
       "      <td>40</td>\n",
       "      <td>165</td>\n",
       "      <td>70</td>\n",
       "      <td>88.0</td>\n",
       "      <td>1.5</td>\n",
       "      <td>1.5</td>\n",
       "      <td>1.0</td>\n",
       "      <td>1.0</td>\n",
       "      <td>100.0</td>\n",
       "      <td>...</td>\n",
       "      <td>14.7</td>\n",
       "      <td>1.0</td>\n",
       "      <td>1.0</td>\n",
       "      <td>19.0</td>\n",
       "      <td>26.0</td>\n",
       "      <td>18.0</td>\n",
       "      <td>Y</td>\n",
       "      <td>0</td>\n",
       "      <td>Y</td>\n",
       "      <td>0</td>\n",
       "    </tr>\n",
       "    <tr>\n",
       "      <th>4</th>\n",
       "      <td>F</td>\n",
       "      <td>40</td>\n",
       "      <td>155</td>\n",
       "      <td>60</td>\n",
       "      <td>86.0</td>\n",
       "      <td>1.0</td>\n",
       "      <td>1.0</td>\n",
       "      <td>1.0</td>\n",
       "      <td>1.0</td>\n",
       "      <td>120.0</td>\n",
       "      <td>...</td>\n",
       "      <td>12.5</td>\n",
       "      <td>1.0</td>\n",
       "      <td>0.6</td>\n",
       "      <td>16.0</td>\n",
       "      <td>14.0</td>\n",
       "      <td>22.0</td>\n",
       "      <td>Y</td>\n",
       "      <td>0</td>\n",
       "      <td>N</td>\n",
       "      <td>0</td>\n",
       "    </tr>\n",
       "  </tbody>\n",
       "</table>\n",
       "<p>5 rows × 26 columns</p>\n",
       "</div>"
      ],
      "text/plain": [
       "   gender  age  height(cm)  weight(kg)  waist(cm)  eyesight(left)  \\\n",
       "ID                                                                  \n",
       "0       F   40         155          60       81.3             1.2   \n",
       "1       F   40         160          60       81.0             0.8   \n",
       "2       M   55         170          60       80.0             0.8   \n",
       "3       M   40         165          70       88.0             1.5   \n",
       "4       F   40         155          60       86.0             1.0   \n",
       "\n",
       "    eyesight(right)  hearing(left)  hearing(right)  systolic  ...  hemoglobin  \\\n",
       "ID                                                            ...               \n",
       "0               1.0            1.0             1.0     114.0  ...        12.9   \n",
       "1               0.6            1.0             1.0     119.0  ...        12.7   \n",
       "2               0.8            1.0             1.0     138.0  ...        15.8   \n",
       "3               1.5            1.0             1.0     100.0  ...        14.7   \n",
       "4               1.0            1.0             1.0     120.0  ...        12.5   \n",
       "\n",
       "    Urine protein  serum creatinine   AST   ALT   Gtp  oral  dental caries  \\\n",
       "ID                                                                           \n",
       "0             1.0               0.7  18.0  19.0  27.0     Y              0   \n",
       "1             1.0               0.6  22.0  19.0  18.0     Y              0   \n",
       "2             1.0               1.0  21.0  16.0  22.0     Y              0   \n",
       "3             1.0               1.0  19.0  26.0  18.0     Y              0   \n",
       "4             1.0               0.6  16.0  14.0  22.0     Y              0   \n",
       "\n",
       "    tartar  smoking  \n",
       "ID                   \n",
       "0        Y        0  \n",
       "1        Y        0  \n",
       "2        N        1  \n",
       "3        Y        0  \n",
       "4        N        0  \n",
       "\n",
       "[5 rows x 26 columns]"
      ]
     },
     "execution_count": 2,
     "metadata": {},
     "output_type": "execute_result"
    }
   ],
   "source": [
    "dataset = pd.read_csv('./archive/smoking.csv', index_col='ID')\n",
    "dataset.head()"
   ]
  },
  {
   "cell_type": "markdown",
   "id": "e2150a5f",
   "metadata": {},
   "source": [
    "### 불필요한 컬럼 제거"
   ]
  },
  {
   "cell_type": "markdown",
   "id": "53be5490",
   "metadata": {},
   "source": [
    "### 1. 직접 컬럼 지정해서 원하는 컬럼만 \n",
    "- 'oral' 제거\n",
    "- 하이퍼파라미터 {'n_estimators': 400, 'max_depth': 30} -rs\n",
    "    - 정확도(Accuracy): 0.8221867153617896\n",
    "    - 재현율(Recall): 0.7408026755852842\n",
    "    - 정밀도(Precision): 0.7388258839226151\n",
    "    - roc-auc score : 0.9072692643762877\n",
    "\n",
    "\n",
    "- 'oral','hearing(left)','hearing(right)' 제거\n",
    "- 하이퍼파라미터 :{'n_estimators': 500, 'max_depth': 27} -rs\n",
    "    - 정확도(Accuracy): 0.8197335964479526\n",
    "    - 재현율(Recall): 0.7382413087934561\n",
    "    - 정밀도(Precision): 0.7307692307692307\n",
    "    - roc-auc score : 0.9072692643762877\n",
    "\n"
   ]
  },
  {
   "cell_type": "markdown",
   "id": "d22c4284",
   "metadata": {},
   "source": [
    "##### oral 제거"
   ]
  },
  {
   "cell_type": "code",
   "execution_count": 8,
   "id": "af7384b6",
   "metadata": {},
   "outputs": [
    {
     "data": {
      "text/plain": [
       "Index(['gender', 'age', 'height(cm)', 'weight(kg)', 'waist(cm)',\n",
       "       'eyesight(left)', 'eyesight(right)', 'hearing(left)', 'hearing(right)',\n",
       "       'systolic', 'relaxation', 'fasting blood sugar', 'Cholesterol',\n",
       "       'triglyceride', 'HDL', 'LDL', 'hemoglobin', 'Urine protein',\n",
       "       'serum creatinine', 'AST', 'ALT', 'Gtp', 'dental caries', 'tartar',\n",
       "       'smoking'],\n",
       "      dtype='object')"
      ]
     },
     "execution_count": 8,
     "metadata": {},
     "output_type": "execute_result"
    }
   ],
   "source": [
    "dataset_col_drop_2 = dataset.drop(columns = 'oral')\n",
    "dataset_col_drop_2.columns"
   ]
  },
  {
   "cell_type": "code",
   "execution_count": 9,
   "id": "00d69938",
   "metadata": {},
   "outputs": [
    {
     "data": {
      "text/plain": [
       "(55692, 25)"
      ]
     },
     "execution_count": 9,
     "metadata": {},
     "output_type": "execute_result"
    }
   ],
   "source": [
    "dataset_col_drop_2.shape"
   ]
  },
  {
   "cell_type": "markdown",
   "id": "dedc7d48",
   "metadata": {},
   "source": [
    "##### 'oral','hearing(left)','hearing(right)' 제거"
   ]
  },
  {
   "cell_type": "code",
   "execution_count": 68,
   "id": "1819a4b5",
   "metadata": {},
   "outputs": [
    {
     "data": {
      "text/plain": [
       "Index(['gender', 'age', 'height(cm)', 'weight(kg)', 'waist(cm)',\n",
       "       'eyesight(left)', 'eyesight(right)', 'systolic', 'relaxation',\n",
       "       'fasting blood sugar', 'Cholesterol', 'triglyceride', 'HDL', 'LDL',\n",
       "       'hemoglobin', 'Urine protein', 'serum creatinine', 'AST', 'ALT', 'Gtp',\n",
       "       'dental caries', 'tartar', 'smoking'],\n",
       "      dtype='object')"
      ]
     },
     "execution_count": 68,
     "metadata": {},
     "output_type": "execute_result"
    }
   ],
   "source": [
    "dataset_col_drop_2 = dataset.drop(columns = ['oral','hearing(left)','hearing(right)'])\n",
    "dataset_col_drop_2.columns"
   ]
  },
  {
   "cell_type": "code",
   "execution_count": 69,
   "id": "5e5c6d70",
   "metadata": {},
   "outputs": [
    {
     "data": {
      "text/plain": [
       "(55692, 23)"
      ]
     },
     "execution_count": 69,
     "metadata": {},
     "output_type": "execute_result"
    }
   ],
   "source": [
    "dataset_col_drop_2.shape"
   ]
  },
  {
   "cell_type": "markdown",
   "id": "7e61aded",
   "metadata": {},
   "source": [
    "### 2. 상관계수에 따라"
   ]
  },
  {
   "cell_type": "code",
   "execution_count": 126,
   "id": "b4359168",
   "metadata": {
    "scrolled": false
   },
   "outputs": [
    {
     "data": {
      "text/html": [
       "<style type=\"text/css\">\n",
       "#T_d5df9_row0_col0, #T_d5df9_row1_col1, #T_d5df9_row2_col2, #T_d5df9_row3_col3, #T_d5df9_row4_col4, #T_d5df9_row5_col5, #T_d5df9_row6_col6, #T_d5df9_row7_col7, #T_d5df9_row8_col8, #T_d5df9_row9_col9, #T_d5df9_row10_col10, #T_d5df9_row11_col11, #T_d5df9_row12_col12, #T_d5df9_row13_col13, #T_d5df9_row14_col14, #T_d5df9_row15_col15, #T_d5df9_row16_col16, #T_d5df9_row17_col17, #T_d5df9_row18_col18, #T_d5df9_row19_col19, #T_d5df9_row20_col20, #T_d5df9_row21_col21, #T_d5df9_row22_col22 {\n",
       "  background-color: #08306b;\n",
       "  color: #f1f1f1;\n",
       "}\n",
       "#T_d5df9_row0_col1, #T_d5df9_row0_col4, #T_d5df9_row0_col5, #T_d5df9_row0_col15, #T_d5df9_row0_col21, #T_d5df9_row1_col0, #T_d5df9_row1_col6, #T_d5df9_row1_col7, #T_d5df9_row1_col11, #T_d5df9_row5_col16, #T_d5df9_row12_col13, #T_d5df9_row13_col2, #T_d5df9_row13_col3, #T_d5df9_row13_col8, #T_d5df9_row13_col9, #T_d5df9_row13_col10, #T_d5df9_row13_col12, #T_d5df9_row13_col14, #T_d5df9_row13_col16, #T_d5df9_row13_col17, #T_d5df9_row13_col18, #T_d5df9_row13_col19, #T_d5df9_row13_col20, #T_d5df9_row13_col22 {\n",
       "  background-color: #f7fbff;\n",
       "  color: #000000;\n",
       "}\n",
       "#T_d5df9_row0_col2, #T_d5df9_row2_col6, #T_d5df9_row2_col7, #T_d5df9_row3_col13 {\n",
       "  background-color: #f2f8fd;\n",
       "  color: #000000;\n",
       "}\n",
       "#T_d5df9_row0_col3, #T_d5df9_row2_col4, #T_d5df9_row2_col5, #T_d5df9_row11_col15, #T_d5df9_row12_col17 {\n",
       "  background-color: #c4daee;\n",
       "  color: #000000;\n",
       "}\n",
       "#T_d5df9_row0_col6, #T_d5df9_row8_col10, #T_d5df9_row12_col8, #T_d5df9_row15_col20, #T_d5df9_row21_col15 {\n",
       "  background-color: #c2d9ee;\n",
       "  color: #000000;\n",
       "}\n",
       "#T_d5df9_row0_col7, #T_d5df9_row11_col1, #T_d5df9_row12_col19, #T_d5df9_row18_col13 {\n",
       "  background-color: #c1d9ed;\n",
       "  color: #000000;\n",
       "}\n",
       "#T_d5df9_row0_col8, #T_d5df9_row4_col22, #T_d5df9_row5_col22, #T_d5df9_row10_col13 {\n",
       "  background-color: #cfe1f2;\n",
       "  color: #000000;\n",
       "}\n",
       "#T_d5df9_row0_col9, #T_d5df9_row0_col11, #T_d5df9_row1_col10, #T_d5df9_row7_col8, #T_d5df9_row10_col4, #T_d5df9_row11_col22, #T_d5df9_row12_col21, #T_d5df9_row17_col21 {\n",
       "  background-color: #deebf7;\n",
       "  color: #000000;\n",
       "}\n",
       "#T_d5df9_row0_col10, #T_d5df9_row6_col1, #T_d5df9_row7_col1, #T_d5df9_row20_col10, #T_d5df9_row21_col13 {\n",
       "  background-color: #bfd8ed;\n",
       "  color: #000000;\n",
       "}\n",
       "#T_d5df9_row0_col12, #T_d5df9_row5_col3, #T_d5df9_row18_col15 {\n",
       "  background-color: #b5d4e9;\n",
       "  color: #000000;\n",
       "}\n",
       "#T_d5df9_row0_col13, #T_d5df9_row3_col10, #T_d5df9_row4_col3, #T_d5df9_row6_col12, #T_d5df9_row14_col2, #T_d5df9_row15_col9, #T_d5df9_row15_col19 {\n",
       "  background-color: #b8d5ea;\n",
       "  color: #000000;\n",
       "}\n",
       "#T_d5df9_row0_col14, #T_d5df9_row3_col6, #T_d5df9_row14_col8 {\n",
       "  background-color: #e4eff9;\n",
       "  color: #000000;\n",
       "}\n",
       "#T_d5df9_row0_col16, #T_d5df9_row2_col16, #T_d5df9_row4_col14, #T_d5df9_row5_col14, #T_d5df9_row7_col18, #T_d5df9_row12_col16, #T_d5df9_row14_col20, #T_d5df9_row15_col6, #T_d5df9_row15_col7, #T_d5df9_row16_col14, #T_d5df9_row20_col14, #T_d5df9_row22_col11 {\n",
       "  background-color: #eef5fc;\n",
       "  color: #000000;\n",
       "}\n",
       "#T_d5df9_row0_col17, #T_d5df9_row3_col16, #T_d5df9_row7_col20, #T_d5df9_row8_col16, #T_d5df9_row9_col16, #T_d5df9_row11_col18 {\n",
       "  background-color: #ebf3fb;\n",
       "  color: #000000;\n",
       "}\n",
       "#T_d5df9_row0_col18, #T_d5df9_row5_col8, #T_d5df9_row5_col10, #T_d5df9_row5_col11, #T_d5df9_row8_col14, #T_d5df9_row18_col16, #T_d5df9_row19_col7 {\n",
       "  background-color: #eaf2fb;\n",
       "  color: #000000;\n",
       "}\n",
       "#T_d5df9_row0_col19, #T_d5df9_row4_col20, #T_d5df9_row13_col7, #T_d5df9_row14_col6, #T_d5df9_row14_col7, #T_d5df9_row21_col6, #T_d5df9_row21_col7, #T_d5df9_row22_col7 {\n",
       "  background-color: #ecf4fb;\n",
       "  color: #000000;\n",
       "}\n",
       "#T_d5df9_row0_col20, #T_d5df9_row4_col8, #T_d5df9_row5_col20, #T_d5df9_row6_col20 {\n",
       "  background-color: #eaf3fb;\n",
       "  color: #000000;\n",
       "}\n",
       "#T_d5df9_row0_col22, #T_d5df9_row4_col16 {\n",
       "  background-color: #f5f9fe;\n",
       "  color: #000000;\n",
       "}\n",
       "#T_d5df9_row1_col2, #T_d5df9_row14_col11 {\n",
       "  background-color: #1f6eb3;\n",
       "  color: #f1f1f1;\n",
       "}\n",
       "#T_d5df9_row1_col3, #T_d5df9_row3_col12 {\n",
       "  background-color: #5ba3d0;\n",
       "  color: #f1f1f1;\n",
       "}\n",
       "#T_d5df9_row1_col4, #T_d5df9_row1_col5, #T_d5df9_row6_col3, #T_d5df9_row7_col12, #T_d5df9_row14_col1 {\n",
       "  background-color: #b9d6ea;\n",
       "  color: #000000;\n",
       "}\n",
       "#T_d5df9_row1_col8, #T_d5df9_row7_col17, #T_d5df9_row11_col5, #T_d5df9_row18_col5, #T_d5df9_row20_col11 {\n",
       "  background-color: #d9e7f5;\n",
       "  color: #000000;\n",
       "}\n",
       "#T_d5df9_row1_col9, #T_d5df9_row1_col20, #T_d5df9_row3_col4, #T_d5df9_row7_col15, #T_d5df9_row10_col17, #T_d5df9_row19_col10 {\n",
       "  background-color: #d3e3f3;\n",
       "  color: #000000;\n",
       "}\n",
       "#T_d5df9_row1_col12 {\n",
       "  background-color: #92c4de;\n",
       "  color: #000000;\n",
       "}\n",
       "#T_d5df9_row1_col13, #T_d5df9_row20_col21 {\n",
       "  background-color: #dce9f6;\n",
       "  color: #000000;\n",
       "}\n",
       "#T_d5df9_row1_col14, #T_d5df9_row14_col16 {\n",
       "  background-color: #f6faff;\n",
       "  color: #000000;\n",
       "}\n",
       "#T_d5df9_row1_col15 {\n",
       "  background-color: #3f8fc5;\n",
       "  color: #f1f1f1;\n",
       "}\n",
       "#T_d5df9_row1_col16 {\n",
       "  background-color: #f3f8fe;\n",
       "  color: #000000;\n",
       "}\n",
       "#T_d5df9_row1_col17 {\n",
       "  background-color: #75b4d8;\n",
       "  color: #000000;\n",
       "}\n",
       "#T_d5df9_row1_col18, #T_d5df9_row12_col6, #T_d5df9_row12_col14, #T_d5df9_row17_col6, #T_d5df9_row17_col11, #T_d5df9_row19_col6, #T_d5df9_row21_col11 {\n",
       "  background-color: #e8f1fa;\n",
       "  color: #000000;\n",
       "}\n",
       "#T_d5df9_row1_col19, #T_d5df9_row7_col2, #T_d5df9_row10_col20, #T_d5df9_row16_col15, #T_d5df9_row16_col17, #T_d5df9_row17_col4 {\n",
       "  background-color: #cbdef1;\n",
       "  color: #000000;\n",
       "}\n",
       "#T_d5df9_row1_col21, #T_d5df9_row3_col18, #T_d5df9_row14_col17, #T_d5df9_row21_col5, #T_d5df9_row21_col17 {\n",
       "  background-color: #d5e5f4;\n",
       "  color: #000000;\n",
       "}\n",
       "#T_d5df9_row1_col22, #T_d5df9_row9_col3, #T_d5df9_row15_col12, #T_d5df9_row22_col2 {\n",
       "  background-color: #71b1d7;\n",
       "  color: #f1f1f1;\n",
       "}\n",
       "#T_d5df9_row2_col0, #T_d5df9_row10_col18, #T_d5df9_row10_col21, #T_d5df9_row11_col21, #T_d5df9_row15_col14, #T_d5df9_row16_col21 {\n",
       "  background-color: #e3eef8;\n",
       "  color: #000000;\n",
       "}\n",
       "#T_d5df9_row2_col1, #T_d5df9_row8_col9, #T_d5df9_row9_col8 {\n",
       "  background-color: #1b69af;\n",
       "  color: #f1f1f1;\n",
       "}\n",
       "#T_d5df9_row2_col3 {\n",
       "  background-color: #08519c;\n",
       "  color: #f1f1f1;\n",
       "}\n",
       "#T_d5df9_row2_col8, #T_d5df9_row14_col3, #T_d5df9_row16_col1 {\n",
       "  background-color: #aed1e7;\n",
       "  color: #000000;\n",
       "}\n",
       "#T_d5df9_row2_col9, #T_d5df9_row13_col0 {\n",
       "  background-color: #add0e6;\n",
       "  color: #000000;\n",
       "}\n",
       "#T_d5df9_row2_col10, #T_d5df9_row6_col2, #T_d5df9_row8_col13, #T_d5df9_row9_col13 {\n",
       "  background-color: #cadef0;\n",
       "  color: #000000;\n",
       "}\n",
       "#T_d5df9_row2_col11, #T_d5df9_row14_col21, #T_d5df9_row17_col16, #T_d5df9_row18_col11 {\n",
       "  background-color: #e3eef9;\n",
       "  color: #000000;\n",
       "}\n",
       "#T_d5df9_row2_col12 {\n",
       "  background-color: #64a9d3;\n",
       "  color: #f1f1f1;\n",
       "}\n",
       "#T_d5df9_row2_col13, #T_d5df9_row6_col14, #T_d5df9_row7_col14, #T_d5df9_row14_col18, #T_d5df9_row15_col16 {\n",
       "  background-color: #f0f6fd;\n",
       "  color: #000000;\n",
       "}\n",
       "#T_d5df9_row2_col14, #T_d5df9_row3_col7, #T_d5df9_row5_col9, #T_d5df9_row6_col9, #T_d5df9_row9_col14, #T_d5df9_row14_col10, #T_d5df9_row16_col7, #T_d5df9_row22_col18 {\n",
       "  background-color: #e5eff9;\n",
       "  color: #000000;\n",
       "}\n",
       "#T_d5df9_row2_col15 {\n",
       "  background-color: #4a98c9;\n",
       "  color: #f1f1f1;\n",
       "}\n",
       "#T_d5df9_row2_col17, #T_d5df9_row12_col15 {\n",
       "  background-color: #8abfdd;\n",
       "  color: #000000;\n",
       "}\n",
       "#T_d5df9_row2_col18, #T_d5df9_row6_col17, #T_d5df9_row8_col5, #T_d5df9_row11_col17, #T_d5df9_row13_col4, #T_d5df9_row15_col18, #T_d5df9_row16_col5, #T_d5df9_row16_col19, #T_d5df9_row17_col20, #T_d5df9_row22_col8 {\n",
       "  background-color: #d9e8f5;\n",
       "  color: #000000;\n",
       "}\n",
       "#T_d5df9_row2_col19, #T_d5df9_row3_col19, #T_d5df9_row10_col1, #T_d5df9_row12_col20 {\n",
       "  background-color: #aacfe5;\n",
       "  color: #000000;\n",
       "}\n",
       "#T_d5df9_row2_col20, #T_d5df9_row14_col13, #T_d5df9_row14_col15, #T_d5df9_row15_col8, #T_d5df9_row17_col0, #T_d5df9_row20_col13 {\n",
       "  background-color: #c6dbef;\n",
       "  color: #000000;\n",
       "}\n",
       "#T_d5df9_row2_col21, #T_d5df9_row9_col5, #T_d5df9_row11_col9, #T_d5df9_row18_col10, #T_d5df9_row19_col8, #T_d5df9_row20_col5 {\n",
       "  background-color: #d6e5f4;\n",
       "  color: #000000;\n",
       "}\n",
       "#T_d5df9_row2_col22, #T_d5df9_row19_col1 {\n",
       "  background-color: #91c3de;\n",
       "  color: #000000;\n",
       "}\n",
       "#T_d5df9_row3_col0, #T_d5df9_row4_col12, #T_d5df9_row5_col12, #T_d5df9_row12_col11, #T_d5df9_row16_col3, #T_d5df9_row21_col3 {\n",
       "  background-color: #b4d3e9;\n",
       "  color: #000000;\n",
       "}\n",
       "#T_d5df9_row3_col1 {\n",
       "  background-color: #519ccc;\n",
       "  color: #f1f1f1;\n",
       "}\n",
       "#T_d5df9_row3_col2 {\n",
       "  background-color: #09529d;\n",
       "  color: #f1f1f1;\n",
       "}\n",
       "#T_d5df9_row3_col5, #T_d5df9_row4_col0, #T_d5df9_row5_col0, #T_d5df9_row10_col19, #T_d5df9_row16_col10 {\n",
       "  background-color: #d1e2f3;\n",
       "  color: #000000;\n",
       "}\n",
       "#T_d5df9_row3_col8 {\n",
       "  background-color: #9fcae1;\n",
       "  color: #000000;\n",
       "}\n",
       "#T_d5df9_row3_col9, #T_d5df9_row3_col17 {\n",
       "  background-color: #a6cee4;\n",
       "  color: #000000;\n",
       "}\n",
       "#T_d5df9_row3_col11, #T_d5df9_row5_col19, #T_d5df9_row7_col22, #T_d5df9_row11_col8, #T_d5df9_row12_col18, #T_d5df9_row21_col19 {\n",
       "  background-color: #dceaf6;\n",
       "  color: #000000;\n",
       "}\n",
       "#T_d5df9_row3_col14, #T_d5df9_row6_col4, #T_d5df9_row6_col5, #T_d5df9_row7_col4, #T_d5df9_row7_col5, #T_d5df9_row8_col6, #T_d5df9_row10_col5, #T_d5df9_row15_col13, #T_d5df9_row16_col8, #T_d5df9_row16_col9, #T_d5df9_row19_col11, #T_d5df9_row19_col21 {\n",
       "  background-color: #dfebf7;\n",
       "  color: #000000;\n",
       "}\n",
       "#T_d5df9_row3_col15 {\n",
       "  background-color: #66abd4;\n",
       "  color: #f1f1f1;\n",
       "}\n",
       "#T_d5df9_row3_col20, #T_d5df9_row4_col15, #T_d5df9_row5_col15, #T_d5df9_row11_col2 {\n",
       "  background-color: #bcd7eb;\n",
       "  color: #000000;\n",
       "}\n",
       "#T_d5df9_row3_col21, #T_d5df9_row13_col5, #T_d5df9_row14_col19 {\n",
       "  background-color: #dbe9f6;\n",
       "  color: #000000;\n",
       "}\n",
       "#T_d5df9_row3_col22 {\n",
       "  background-color: #a9cfe5;\n",
       "  color: #000000;\n",
       "}\n",
       "#T_d5df9_row4_col1, #T_d5df9_row5_col1, #T_d5df9_row10_col3 {\n",
       "  background-color: #89bedc;\n",
       "  color: #000000;\n",
       "}\n",
       "#T_d5df9_row4_col2, #T_d5df9_row5_col2, #T_d5df9_row16_col0, #T_d5df9_row18_col0 {\n",
       "  background-color: #a8cee4;\n",
       "  color: #000000;\n",
       "}\n",
       "#T_d5df9_row4_col5, #T_d5df9_row5_col4, #T_d5df9_row8_col2 {\n",
       "  background-color: #7cb7da;\n",
       "  color: #000000;\n",
       "}\n",
       "#T_d5df9_row4_col6, #T_d5df9_row4_col7, #T_d5df9_row4_col18, #T_d5df9_row5_col7, #T_d5df9_row5_col18, #T_d5df9_row6_col16, #T_d5df9_row22_col16 {\n",
       "  background-color: #f2f7fd;\n",
       "  color: #000000;\n",
       "}\n",
       "#T_d5df9_row4_col9, #T_d5df9_row6_col21, #T_d5df9_row7_col21, #T_d5df9_row16_col6, #T_d5df9_row18_col6, #T_d5df9_row21_col20 {\n",
       "  background-color: #e6f0f9;\n",
       "  color: #000000;\n",
       "}\n",
       "#T_d5df9_row4_col10, #T_d5df9_row4_col11, #T_d5df9_row9_col7, #T_d5df9_row12_col7, #T_d5df9_row16_col11 {\n",
       "  background-color: #e9f2fa;\n",
       "  color: #000000;\n",
       "}\n",
       "#T_d5df9_row4_col13, #T_d5df9_row6_col13, #T_d5df9_row7_col13, #T_d5df9_row12_col9, #T_d5df9_row16_col13, #T_d5df9_row19_col0 {\n",
       "  background-color: #bdd7ec;\n",
       "  color: #000000;\n",
       "}\n",
       "#T_d5df9_row4_col17, #T_d5df9_row8_col17, #T_d5df9_row8_col20, #T_d5df9_row9_col19 {\n",
       "  background-color: #cee0f2;\n",
       "  color: #000000;\n",
       "}\n",
       "#T_d5df9_row4_col19, #T_d5df9_row6_col8, #T_d5df9_row6_col22, #T_d5df9_row8_col11, #T_d5df9_row8_col21, #T_d5df9_row9_col21, #T_d5df9_row11_col20, #T_d5df9_row15_col11 {\n",
       "  background-color: #ddeaf7;\n",
       "  color: #000000;\n",
       "}\n",
       "#T_d5df9_row4_col21, #T_d5df9_row10_col16, #T_d5df9_row21_col8, #T_d5df9_row21_col10 {\n",
       "  background-color: #e2edf8;\n",
       "  color: #000000;\n",
       "}\n",
       "#T_d5df9_row5_col6, #T_d5df9_row7_col16, #T_d5df9_row10_col14 {\n",
       "  background-color: #f1f7fd;\n",
       "  color: #000000;\n",
       "}\n",
       "#T_d5df9_row5_col13, #T_d5df9_row22_col20 {\n",
       "  background-color: #bed8ec;\n",
       "  color: #000000;\n",
       "}\n",
       "#T_d5df9_row5_col17, #T_d5df9_row6_col15, #T_d5df9_row17_col19, #T_d5df9_row18_col17 {\n",
       "  background-color: #d2e3f3;\n",
       "  color: #000000;\n",
       "}\n",
       "#T_d5df9_row5_col21, #T_d5df9_row6_col19, #T_d5df9_row8_col7, #T_d5df9_row9_col18, #T_d5df9_row14_col9 {\n",
       "  background-color: #dfecf7;\n",
       "  color: #000000;\n",
       "}\n",
       "#T_d5df9_row6_col0, #T_d5df9_row9_col2 {\n",
       "  background-color: #7ab6d9;\n",
       "  color: #000000;\n",
       "}\n",
       "#T_d5df9_row6_col7, #T_d5df9_row7_col6 {\n",
       "  background-color: #5ca4d0;\n",
       "  color: #f1f1f1;\n",
       "}\n",
       "#T_d5df9_row6_col10, #T_d5df9_row7_col10, #T_d5df9_row8_col4, #T_d5df9_row15_col0, #T_d5df9_row17_col8, #T_d5df9_row17_col10 {\n",
       "  background-color: #dae8f6;\n",
       "  color: #000000;\n",
       "}\n",
       "#T_d5df9_row6_col11, #T_d5df9_row6_col18, #T_d5df9_row7_col11, #T_d5df9_row11_col6, #T_d5df9_row11_col7, #T_d5df9_row13_col6, #T_d5df9_row18_col14, #T_d5df9_row19_col16, #T_d5df9_row21_col14, #T_d5df9_row22_col6 {\n",
       "  background-color: #edf4fc;\n",
       "  color: #000000;\n",
       "}\n",
       "#T_d5df9_row7_col0, #T_d5df9_row11_col12, #T_d5df9_row15_col17 {\n",
       "  background-color: #79b5d9;\n",
       "  color: #000000;\n",
       "}\n",
       "#T_d5df9_row7_col3, #T_d5df9_row10_col15, #T_d5df9_row16_col2 {\n",
       "  background-color: #bad6eb;\n",
       "  color: #000000;\n",
       "}\n",
       "#T_d5df9_row7_col9, #T_d5df9_row10_col11, #T_d5df9_row16_col18, #T_d5df9_row17_col18, #T_d5df9_row19_col14, #T_d5df9_row20_col6 {\n",
       "  background-color: #e7f0fa;\n",
       "  color: #000000;\n",
       "}\n",
       "#T_d5df9_row7_col19, #T_d5df9_row10_col6, #T_d5df9_row10_col7, #T_d5df9_row14_col22, #T_d5df9_row16_col20, #T_d5df9_row18_col21, #T_d5df9_row21_col9 {\n",
       "  background-color: #e1edf8;\n",
       "  color: #000000;\n",
       "}\n",
       "#T_d5df9_row8_col0, #T_d5df9_row19_col12 {\n",
       "  background-color: #8dc1dd;\n",
       "  color: #000000;\n",
       "}\n",
       "#T_d5df9_row8_col1, #T_d5df9_row18_col3, #T_d5df9_row19_col20, #T_d5df9_row21_col1 {\n",
       "  background-color: #9dcae1;\n",
       "  color: #000000;\n",
       "}\n",
       "#T_d5df9_row8_col3, #T_d5df9_row12_col2, #T_d5df9_row17_col2, #T_d5df9_row17_col15 {\n",
       "  background-color: #6aaed6;\n",
       "  color: #f1f1f1;\n",
       "}\n",
       "#T_d5df9_row8_col12, #T_d5df9_row12_col1 {\n",
       "  background-color: #87bddc;\n",
       "  color: #000000;\n",
       "}\n",
       "#T_d5df9_row8_col15, #T_d5df9_row9_col0 {\n",
       "  background-color: #a4cce3;\n",
       "  color: #000000;\n",
       "}\n",
       "#T_d5df9_row8_col18, #T_d5df9_row11_col10 {\n",
       "  background-color: #e0ecf8;\n",
       "  color: #000000;\n",
       "}\n",
       "#T_d5df9_row8_col19, #T_d5df9_row15_col10, #T_d5df9_row22_col10, #T_d5df9_row22_col21 {\n",
       "  background-color: #d0e2f2;\n",
       "  color: #000000;\n",
       "}\n",
       "#T_d5df9_row8_col22, #T_d5df9_row22_col0, #T_d5df9_row22_col4, #T_d5df9_row22_col5 {\n",
       "  background-color: #cde0f1;\n",
       "  color: #000000;\n",
       "}\n",
       "#T_d5df9_row9_col1, #T_d5df9_row20_col18 {\n",
       "  background-color: #94c4df;\n",
       "  color: #000000;\n",
       "}\n",
       "#T_d5df9_row9_col4, #T_d5df9_row15_col21, #T_d5df9_row17_col13, #T_d5df9_row20_col4, #T_d5df9_row21_col4, #T_d5df9_row22_col13 {\n",
       "  background-color: #d6e6f4;\n",
       "  color: #000000;\n",
       "}\n",
       "#T_d5df9_row9_col6, #T_d5df9_row13_col21, #T_d5df9_row17_col7, #T_d5df9_row17_col14, #T_d5df9_row18_col7, #T_d5df9_row20_col7, #T_d5df9_row20_col16 {\n",
       "  background-color: #e7f1fa;\n",
       "  color: #000000;\n",
       "}\n",
       "#T_d5df9_row9_col10, #T_d5df9_row10_col8, #T_d5df9_row15_col5, #T_d5df9_row21_col22 {\n",
       "  background-color: #c8dcf0;\n",
       "  color: #000000;\n",
       "}\n",
       "#T_d5df9_row9_col11, #T_d5df9_row16_col4, #T_d5df9_row16_col22, #T_d5df9_row18_col9 {\n",
       "  background-color: #d7e6f5;\n",
       "  color: #000000;\n",
       "}\n",
       "#T_d5df9_row9_col12, #T_d5df9_row17_col3 {\n",
       "  background-color: #82bbdb;\n",
       "  color: #000000;\n",
       "}\n",
       "#T_d5df9_row9_col15 {\n",
       "  background-color: #97c6df;\n",
       "  color: #000000;\n",
       "}\n",
       "#T_d5df9_row9_col17, #T_d5df9_row9_col20, #T_d5df9_row19_col17 {\n",
       "  background-color: #ccdff1;\n",
       "  color: #000000;\n",
       "}\n",
       "#T_d5df9_row9_col22, #T_d5df9_row15_col4, #T_d5df9_row20_col9 {\n",
       "  background-color: #c7dcef;\n",
       "  color: #000000;\n",
       "}\n",
       "#T_d5df9_row10_col0, #T_d5df9_row19_col2 {\n",
       "  background-color: #81badb;\n",
       "  color: #000000;\n",
       "}\n",
       "#T_d5df9_row10_col2, #T_d5df9_row12_col22, #T_d5df9_row18_col12 {\n",
       "  background-color: #a1cbe2;\n",
       "  color: #000000;\n",
       "}\n",
       "#T_d5df9_row10_col9 {\n",
       "  background-color: #cddff1;\n",
       "  color: #000000;\n",
       "}\n",
       "#T_d5df9_row10_col12, #T_d5df9_row20_col3 {\n",
       "  background-color: #7fb9da;\n",
       "  color: #000000;\n",
       "}\n",
       "#T_d5df9_row10_col22, #T_d5df9_row20_col17 {\n",
       "  background-color: #c9ddf0;\n",
       "  color: #000000;\n",
       "}\n",
       "#T_d5df9_row11_col0 {\n",
       "  background-color: #a3cce3;\n",
       "  color: #000000;\n",
       "}\n",
       "#T_d5df9_row11_col3 {\n",
       "  background-color: #afd1e7;\n",
       "  color: #000000;\n",
       "}\n",
       "#T_d5df9_row11_col4, #T_d5df9_row11_col19, #T_d5df9_row14_col4, #T_d5df9_row14_col5, #T_d5df9_row17_col9, #T_d5df9_row18_col4, #T_d5df9_row18_col8 {\n",
       "  background-color: #d8e7f5;\n",
       "  color: #000000;\n",
       "}\n",
       "#T_d5df9_row11_col13, #T_d5df9_row18_col20 {\n",
       "  background-color: #8fc2de;\n",
       "  color: #000000;\n",
       "}\n",
       "#T_d5df9_row11_col14 {\n",
       "  background-color: #2070b4;\n",
       "  color: #f1f1f1;\n",
       "}\n",
       "#T_d5df9_row11_col16, #T_d5df9_row22_col14 {\n",
       "  background-color: #f5fafe;\n",
       "  color: #000000;\n",
       "}\n",
       "#T_d5df9_row12_col0, #T_d5df9_row17_col22, #T_d5df9_row20_col0, #T_d5df9_row22_col17 {\n",
       "  background-color: #abd0e6;\n",
       "  color: #000000;\n",
       "}\n",
       "#T_d5df9_row12_col3 {\n",
       "  background-color: #5fa6d1;\n",
       "  color: #f1f1f1;\n",
       "}\n",
       "#T_d5df9_row12_col4, #T_d5df9_row13_col1, #T_d5df9_row19_col5, #T_d5df9_row19_col9, #T_d5df9_row22_col9 {\n",
       "  background-color: #d3e4f3;\n",
       "  color: #000000;\n",
       "}\n",
       "#T_d5df9_row12_col5, #T_d5df9_row19_col4 {\n",
       "  background-color: #d4e4f4;\n",
       "  color: #000000;\n",
       "}\n",
       "#T_d5df9_row12_col10, #T_d5df9_row14_col12, #T_d5df9_row21_col12 {\n",
       "  background-color: #b3d3e8;\n",
       "  color: #000000;\n",
       "}\n",
       "#T_d5df9_row13_col11, #T_d5df9_row19_col22, #T_d5df9_row20_col8 {\n",
       "  background-color: #caddf0;\n",
       "  color: #000000;\n",
       "}\n",
       "#T_d5df9_row13_col15, #T_d5df9_row21_col16 {\n",
       "  background-color: #f4f9fe;\n",
       "  color: #000000;\n",
       "}\n",
       "#T_d5df9_row14_col0, #T_d5df9_row18_col1, #T_d5df9_row18_col2, #T_d5df9_row20_col22 {\n",
       "  background-color: #a5cde3;\n",
       "  color: #000000;\n",
       "}\n",
       "#T_d5df9_row15_col1 {\n",
       "  background-color: #3181bd;\n",
       "  color: #f1f1f1;\n",
       "}\n",
       "#T_d5df9_row15_col2 {\n",
       "  background-color: #4191c6;\n",
       "  color: #f1f1f1;\n",
       "}\n",
       "#T_d5df9_row15_col3 {\n",
       "  background-color: #5aa2cf;\n",
       "  color: #f1f1f1;\n",
       "}\n",
       "#T_d5df9_row15_col22 {\n",
       "  background-color: #6fb0d7;\n",
       "  color: #f1f1f1;\n",
       "}\n",
       "#T_d5df9_row16_col12 {\n",
       "  background-color: #b2d2e8;\n",
       "  color: #000000;\n",
       "}\n",
       "#T_d5df9_row17_col1 {\n",
       "  background-color: #4f9bcb;\n",
       "  color: #f1f1f1;\n",
       "}\n",
       "#T_d5df9_row17_col5, #T_d5df9_row18_col22, #T_d5df9_row19_col13, #T_d5df9_row22_col19 {\n",
       "  background-color: #d0e1f2;\n",
       "  color: #000000;\n",
       "}\n",
       "#T_d5df9_row17_col12 {\n",
       "  background-color: #9cc9e1;\n",
       "  color: #000000;\n",
       "}\n",
       "#T_d5df9_row18_col19 {\n",
       "  background-color: #1c6bb0;\n",
       "  color: #f1f1f1;\n",
       "}\n",
       "#T_d5df9_row19_col3 {\n",
       "  background-color: #7db8da;\n",
       "  color: #000000;\n",
       "}\n",
       "#T_d5df9_row19_col15 {\n",
       "  background-color: #a0cbe2;\n",
       "  color: #000000;\n",
       "}\n",
       "#T_d5df9_row19_col18 {\n",
       "  background-color: #2171b5;\n",
       "  color: #f1f1f1;\n",
       "}\n",
       "#T_d5df9_row20_col1, #T_d5df9_row20_col2, #T_d5df9_row20_col19 {\n",
       "  background-color: #8cc0dd;\n",
       "  color: #000000;\n",
       "}\n",
       "#T_d5df9_row20_col12 {\n",
       "  background-color: #69add5;\n",
       "  color: #f1f1f1;\n",
       "}\n",
       "#T_d5df9_row20_col15 {\n",
       "  background-color: #9ac8e0;\n",
       "  color: #000000;\n",
       "}\n",
       "#T_d5df9_row21_col0 {\n",
       "  background-color: #c7dbef;\n",
       "  color: #000000;\n",
       "}\n",
       "#T_d5df9_row21_col2 {\n",
       "  background-color: #b0d2e7;\n",
       "  color: #000000;\n",
       "}\n",
       "#T_d5df9_row21_col18 {\n",
       "  background-color: #eff6fc;\n",
       "  color: #000000;\n",
       "}\n",
       "#T_d5df9_row22_col1 {\n",
       "  background-color: #4d99ca;\n",
       "  color: #f1f1f1;\n",
       "}\n",
       "#T_d5df9_row22_col3 {\n",
       "  background-color: #84bcdb;\n",
       "  color: #000000;\n",
       "}\n",
       "#T_d5df9_row22_col12 {\n",
       "  background-color: #77b5d9;\n",
       "  color: #000000;\n",
       "}\n",
       "#T_d5df9_row22_col15 {\n",
       "  background-color: #63a8d3;\n",
       "  color: #f1f1f1;\n",
       "}\n",
       "</style>\n",
       "<table id=\"T_d5df9\">\n",
       "  <thead>\n",
       "    <tr>\n",
       "      <th class=\"blank level0\" >&nbsp;</th>\n",
       "      <th id=\"T_d5df9_level0_col0\" class=\"col_heading level0 col0\" >age</th>\n",
       "      <th id=\"T_d5df9_level0_col1\" class=\"col_heading level0 col1\" >height(cm)</th>\n",
       "      <th id=\"T_d5df9_level0_col2\" class=\"col_heading level0 col2\" >weight(kg)</th>\n",
       "      <th id=\"T_d5df9_level0_col3\" class=\"col_heading level0 col3\" >waist(cm)</th>\n",
       "      <th id=\"T_d5df9_level0_col4\" class=\"col_heading level0 col4\" >eyesight(left)</th>\n",
       "      <th id=\"T_d5df9_level0_col5\" class=\"col_heading level0 col5\" >eyesight(right)</th>\n",
       "      <th id=\"T_d5df9_level0_col6\" class=\"col_heading level0 col6\" >hearing(left)</th>\n",
       "      <th id=\"T_d5df9_level0_col7\" class=\"col_heading level0 col7\" >hearing(right)</th>\n",
       "      <th id=\"T_d5df9_level0_col8\" class=\"col_heading level0 col8\" >systolic</th>\n",
       "      <th id=\"T_d5df9_level0_col9\" class=\"col_heading level0 col9\" >relaxation</th>\n",
       "      <th id=\"T_d5df9_level0_col10\" class=\"col_heading level0 col10\" >fasting blood sugar</th>\n",
       "      <th id=\"T_d5df9_level0_col11\" class=\"col_heading level0 col11\" >Cholesterol</th>\n",
       "      <th id=\"T_d5df9_level0_col12\" class=\"col_heading level0 col12\" >triglyceride</th>\n",
       "      <th id=\"T_d5df9_level0_col13\" class=\"col_heading level0 col13\" >HDL</th>\n",
       "      <th id=\"T_d5df9_level0_col14\" class=\"col_heading level0 col14\" >LDL</th>\n",
       "      <th id=\"T_d5df9_level0_col15\" class=\"col_heading level0 col15\" >hemoglobin</th>\n",
       "      <th id=\"T_d5df9_level0_col16\" class=\"col_heading level0 col16\" >Urine protein</th>\n",
       "      <th id=\"T_d5df9_level0_col17\" class=\"col_heading level0 col17\" >serum creatinine</th>\n",
       "      <th id=\"T_d5df9_level0_col18\" class=\"col_heading level0 col18\" >AST</th>\n",
       "      <th id=\"T_d5df9_level0_col19\" class=\"col_heading level0 col19\" >ALT</th>\n",
       "      <th id=\"T_d5df9_level0_col20\" class=\"col_heading level0 col20\" >Gtp</th>\n",
       "      <th id=\"T_d5df9_level0_col21\" class=\"col_heading level0 col21\" >dental caries</th>\n",
       "      <th id=\"T_d5df9_level0_col22\" class=\"col_heading level0 col22\" >smoking</th>\n",
       "    </tr>\n",
       "  </thead>\n",
       "  <tbody>\n",
       "    <tr>\n",
       "      <th id=\"T_d5df9_level0_row0\" class=\"row_heading level0 row0\" >age</th>\n",
       "      <td id=\"T_d5df9_row0_col0\" class=\"data row0 col0\" >1.000000</td>\n",
       "      <td id=\"T_d5df9_row0_col1\" class=\"data row0 col1\" >-0.479528</td>\n",
       "      <td id=\"T_d5df9_row0_col2\" class=\"data row0 col2\" >-0.324706</td>\n",
       "      <td id=\"T_d5df9_row0_col3\" class=\"data row0 col3\" >-0.026297</td>\n",
       "      <td id=\"T_d5df9_row0_col4\" class=\"data row0 col4\" >-0.195472</td>\n",
       "      <td id=\"T_d5df9_row0_col5\" class=\"data row0 col5\" >-0.192723</td>\n",
       "      <td id=\"T_d5df9_row0_col6\" class=\"data row0 col6\" >0.203993</td>\n",
       "      <td id=\"T_d5df9_row0_col7\" class=\"data row0 col7\" >0.208722</td>\n",
       "      <td id=\"T_d5df9_row0_col8\" class=\"data row0 col8\" >0.134023</td>\n",
       "      <td id=\"T_d5df9_row0_col9\" class=\"data row0 col9\" >0.050745</td>\n",
       "      <td id=\"T_d5df9_row0_col10\" class=\"data row0 col10\" >0.182351</td>\n",
       "      <td id=\"T_d5df9_row0_col11\" class=\"data row0 col11\" >0.055557</td>\n",
       "      <td id=\"T_d5df9_row0_col12\" class=\"data row0 col12\" >0.015102</td>\n",
       "      <td id=\"T_d5df9_row0_col13\" class=\"data row0 col13\" >0.007047</td>\n",
       "      <td id=\"T_d5df9_row0_col14\" class=\"data row0 col14\" >0.043007</td>\n",
       "      <td id=\"T_d5df9_row0_col15\" class=\"data row0 col15\" >-0.263078</td>\n",
       "      <td id=\"T_d5df9_row0_col16\" class=\"data row0 col16\" >0.029625</td>\n",
       "      <td id=\"T_d5df9_row0_col17\" class=\"data row0 col17\" >-0.106118</td>\n",
       "      <td id=\"T_d5df9_row0_col18\" class=\"data row0 col18\" >0.032576</td>\n",
       "      <td id=\"T_d5df9_row0_col19\" class=\"data row0 col19\" >-0.063937</td>\n",
       "      <td id=\"T_d5df9_row0_col20\" class=\"data row0 col20\" >0.013031</td>\n",
       "      <td id=\"T_d5df9_row0_col21\" class=\"data row0 col21\" >-0.114984</td>\n",
       "      <td id=\"T_d5df9_row0_col22\" class=\"data row0 col22\" >-0.162557</td>\n",
       "    </tr>\n",
       "    <tr>\n",
       "      <th id=\"T_d5df9_level0_row1\" class=\"row_heading level0 row1\" >height(cm)</th>\n",
       "      <td id=\"T_d5df9_row1_col0\" class=\"data row1 col0\" >-0.479528</td>\n",
       "      <td id=\"T_d5df9_row1_col1\" class=\"data row1 col1\" >1.000000</td>\n",
       "      <td id=\"T_d5df9_row1_col2\" class=\"data row1 col2\" >0.675656</td>\n",
       "      <td id=\"T_d5df9_row1_col3\" class=\"data row1 col3\" >0.378902</td>\n",
       "      <td id=\"T_d5df9_row1_col4\" class=\"data row1 col4\" >0.151133</td>\n",
       "      <td id=\"T_d5df9_row1_col5\" class=\"data row1 col5\" >0.155665</td>\n",
       "      <td id=\"T_d5df9_row1_col6\" class=\"data row1 col6\" >-0.078663</td>\n",
       "      <td id=\"T_d5df9_row1_col7\" class=\"data row1 col7\" >-0.078323</td>\n",
       "      <td id=\"T_d5df9_row1_col8\" class=\"data row1 col8\" >0.080585</td>\n",
       "      <td id=\"T_d5df9_row1_col9\" class=\"data row1 col9\" >0.113193</td>\n",
       "      <td id=\"T_d5df9_row1_col10\" class=\"data row1 col10\" >0.019619</td>\n",
       "      <td id=\"T_d5df9_row1_col11\" class=\"data row1 col11\" >-0.082161</td>\n",
       "      <td id=\"T_d5df9_row1_col12\" class=\"data row1 col12\" >0.156693</td>\n",
       "      <td id=\"T_d5df9_row1_col13\" class=\"data row1 col13\" >-0.213284</td>\n",
       "      <td id=\"T_d5df9_row1_col14\" class=\"data row1 col14\" >-0.048419</td>\n",
       "      <td id=\"T_d5df9_row1_col15\" class=\"data row1 col15\" >0.539367</td>\n",
       "      <td id=\"T_d5df9_row1_col16\" class=\"data row1 col16\" >0.005128</td>\n",
       "      <td id=\"T_d5df9_row1_col17\" class=\"data row1 col17\" >0.383883</td>\n",
       "      <td id=\"T_d5df9_row1_col18\" class=\"data row1 col18\" >0.041737</td>\n",
       "      <td id=\"T_d5df9_row1_col19\" class=\"data row1 col19\" >0.126511</td>\n",
       "      <td id=\"T_d5df9_row1_col20\" class=\"data row1 col20\" >0.139720</td>\n",
       "      <td id=\"T_d5df9_row1_col21\" class=\"data row1 col21\" >0.079331</td>\n",
       "      <td id=\"T_d5df9_row1_col22\" class=\"data row1 col22\" >0.396675</td>\n",
       "    </tr>\n",
       "    <tr>\n",
       "      <th id=\"T_d5df9_level0_row2\" class=\"row_heading level0 row2\" >weight(kg)</th>\n",
       "      <td id=\"T_d5df9_row2_col0\" class=\"data row2 col0\" >-0.324706</td>\n",
       "      <td id=\"T_d5df9_row2_col1\" class=\"data row2 col1\" >0.675656</td>\n",
       "      <td id=\"T_d5df9_row2_col2\" class=\"data row2 col2\" >1.000000</td>\n",
       "      <td id=\"T_d5df9_row2_col3\" class=\"data row2 col3\" >0.822842</td>\n",
       "      <td id=\"T_d5df9_row2_col4\" class=\"data row2 col4\" >0.108433</td>\n",
       "      <td id=\"T_d5df9_row2_col5\" class=\"data row2 col5\" >0.113155</td>\n",
       "      <td id=\"T_d5df9_row2_col6\" class=\"data row2 col6\" >-0.050094</td>\n",
       "      <td id=\"T_d5df9_row2_col7\" class=\"data row2 col7\" >-0.052836</td>\n",
       "      <td id=\"T_d5df9_row2_col8\" class=\"data row2 col8\" >0.266131</td>\n",
       "      <td id=\"T_d5df9_row2_col9\" class=\"data row2 col9\" >0.271634</td>\n",
       "      <td id=\"T_d5df9_row2_col10\" class=\"data row2 col10\" >0.136237</td>\n",
       "      <td id=\"T_d5df9_row2_col11\" class=\"data row2 col11\" >0.026403</td>\n",
       "      <td id=\"T_d5df9_row2_col12\" class=\"data row2 col12\" >0.324429</td>\n",
       "      <td id=\"T_d5df9_row2_col13\" class=\"data row2 col13\" >-0.358868</td>\n",
       "      <td id=\"T_d5df9_row2_col14\" class=\"data row2 col14\" >0.040560</td>\n",
       "      <td id=\"T_d5df9_row2_col15\" class=\"data row2 col15\" >0.492970</td>\n",
       "      <td id=\"T_d5df9_row2_col16\" class=\"data row2 col16\" >0.032566</td>\n",
       "      <td id=\"T_d5df9_row2_col17\" class=\"data row2 col17\" >0.324808</td>\n",
       "      <td id=\"T_d5df9_row2_col18\" class=\"data row2 col18\" >0.120130</td>\n",
       "      <td id=\"T_d5df9_row2_col19\" class=\"data row2 col19\" >0.250634</td>\n",
       "      <td id=\"T_d5df9_row2_col20\" class=\"data row2 col20\" >0.209625</td>\n",
       "      <td id=\"T_d5df9_row2_col21\" class=\"data row2 col21\" >0.073536</td>\n",
       "      <td id=\"T_d5df9_row2_col22\" class=\"data row2 col22\" >0.302780</td>\n",
       "    </tr>\n",
       "    <tr>\n",
       "      <th id=\"T_d5df9_level0_row3\" class=\"row_heading level0 row3\" >waist(cm)</th>\n",
       "      <td id=\"T_d5df9_row3_col0\" class=\"data row3 col0\" >-0.026297</td>\n",
       "      <td id=\"T_d5df9_row3_col1\" class=\"data row3 col1\" >0.378902</td>\n",
       "      <td id=\"T_d5df9_row3_col2\" class=\"data row3 col2\" >0.822842</td>\n",
       "      <td id=\"T_d5df9_row3_col3\" class=\"data row3 col3\" >1.000000</td>\n",
       "      <td id=\"T_d5df9_row3_col4\" class=\"data row3 col4\" >0.027458</td>\n",
       "      <td id=\"T_d5df9_row3_col5\" class=\"data row3 col5\" >0.037996</td>\n",
       "      <td id=\"T_d5df9_row3_col6\" class=\"data row3 col6\" >0.023790</td>\n",
       "      <td id=\"T_d5df9_row3_col7\" class=\"data row3 col7\" >0.019286</td>\n",
       "      <td id=\"T_d5df9_row3_col8\" class=\"data row3 col8\" >0.316922</td>\n",
       "      <td id=\"T_d5df9_row3_col9\" class=\"data row3 col9\" >0.292627</td>\n",
       "      <td id=\"T_d5df9_row3_col10\" class=\"data row3 col10\" >0.211132</td>\n",
       "      <td id=\"T_d5df9_row3_col11\" class=\"data row3 col11\" >0.065467</td>\n",
       "      <td id=\"T_d5df9_row3_col12\" class=\"data row3 col12\" >0.361922</td>\n",
       "      <td id=\"T_d5df9_row3_col13\" class=\"data row3 col13\" >-0.376203</td>\n",
       "      <td id=\"T_d5df9_row3_col14\" class=\"data row3 col14\" >0.072817</td>\n",
       "      <td id=\"T_d5df9_row3_col15\" class=\"data row3 col15\" >0.387066</td>\n",
       "      <td id=\"T_d5df9_row3_col16\" class=\"data row3 col16\" >0.045492</td>\n",
       "      <td id=\"T_d5df9_row3_col17\" class=\"data row3 col17\" >0.235024</td>\n",
       "      <td id=\"T_d5df9_row3_col18\" class=\"data row3 col18\" >0.142690</td>\n",
       "      <td id=\"T_d5df9_row3_col19\" class=\"data row3 col19\" >0.252478</td>\n",
       "      <td id=\"T_d5df9_row3_col20\" class=\"data row3 col20\" >0.243141</td>\n",
       "      <td id=\"T_d5df9_row3_col21\" class=\"data row3 col21\" >0.044203</td>\n",
       "      <td id=\"T_d5df9_row3_col22\" class=\"data row3 col22\" >0.226259</td>\n",
       "    </tr>\n",
       "    <tr>\n",
       "      <th id=\"T_d5df9_level0_row4\" class=\"row_heading level0 row4\" >eyesight(left)</th>\n",
       "      <td id=\"T_d5df9_row4_col0\" class=\"data row4 col0\" >-0.195472</td>\n",
       "      <td id=\"T_d5df9_row4_col1\" class=\"data row4 col1\" >0.151133</td>\n",
       "      <td id=\"T_d5df9_row4_col2\" class=\"data row4 col2\" >0.108433</td>\n",
       "      <td id=\"T_d5df9_row4_col3\" class=\"data row4 col3\" >0.027458</td>\n",
       "      <td id=\"T_d5df9_row4_col4\" class=\"data row4 col4\" >1.000000</td>\n",
       "      <td id=\"T_d5df9_row4_col5\" class=\"data row4 col5\" >0.354574</td>\n",
       "      <td id=\"T_d5df9_row4_col6\" class=\"data row4 col6\" >-0.046571</td>\n",
       "      <td id=\"T_d5df9_row4_col7\" class=\"data row4 col7\" >-0.048788</td>\n",
       "      <td id=\"T_d5df9_row4_col8\" class=\"data row4 col8\" >-0.019330</td>\n",
       "      <td id=\"T_d5df9_row4_col9\" class=\"data row4 col9\" >0.005199</td>\n",
       "      <td id=\"T_d5df9_row4_col10\" class=\"data row4 col10\" >-0.041851</td>\n",
       "      <td id=\"T_d5df9_row4_col11\" class=\"data row4 col11\" >-0.004985</td>\n",
       "      <td id=\"T_d5df9_row4_col12\" class=\"data row4 col12\" >0.019717</td>\n",
       "      <td id=\"T_d5df9_row4_col13\" class=\"data row4 col13\" >-0.015296</td>\n",
       "      <td id=\"T_d5df9_row4_col14\" class=\"data row4 col14\" >-0.007257</td>\n",
       "      <td id=\"T_d5df9_row4_col15\" class=\"data row4 col15\" >0.095234</td>\n",
       "      <td id=\"T_d5df9_row4_col16\" class=\"data row4 col16\" >-0.002752</td>\n",
       "      <td id=\"T_d5df9_row4_col17\" class=\"data row4 col17\" >0.071410</td>\n",
       "      <td id=\"T_d5df9_row4_col18\" class=\"data row4 col18\" >-0.007966</td>\n",
       "      <td id=\"T_d5df9_row4_col19\" class=\"data row4 col19\" >0.019326</td>\n",
       "      <td id=\"T_d5df9_row4_col20\" class=\"data row4 col20\" >0.003850</td>\n",
       "      <td id=\"T_d5df9_row4_col21\" class=\"data row4 col21\" >0.003684</td>\n",
       "      <td id=\"T_d5df9_row4_col22\" class=\"data row4 col22\" >0.061204</td>\n",
       "    </tr>\n",
       "    <tr>\n",
       "      <th id=\"T_d5df9_level0_row5\" class=\"row_heading level0 row5\" >eyesight(right)</th>\n",
       "      <td id=\"T_d5df9_row5_col0\" class=\"data row5 col0\" >-0.192723</td>\n",
       "      <td id=\"T_d5df9_row5_col1\" class=\"data row5 col1\" >0.155665</td>\n",
       "      <td id=\"T_d5df9_row5_col2\" class=\"data row5 col2\" >0.113155</td>\n",
       "      <td id=\"T_d5df9_row5_col3\" class=\"data row5 col3\" >0.037996</td>\n",
       "      <td id=\"T_d5df9_row5_col4\" class=\"data row5 col4\" >0.354574</td>\n",
       "      <td id=\"T_d5df9_row5_col5\" class=\"data row5 col5\" >1.000000</td>\n",
       "      <td id=\"T_d5df9_row5_col6\" class=\"data row5 col6\" >-0.043877</td>\n",
       "      <td id=\"T_d5df9_row5_col7\" class=\"data row5 col7\" >-0.046623</td>\n",
       "      <td id=\"T_d5df9_row5_col8\" class=\"data row5 col8\" >-0.013720</td>\n",
       "      <td id=\"T_d5df9_row5_col9\" class=\"data row5 col9\" >0.011357</td>\n",
       "      <td id=\"T_d5df9_row5_col10\" class=\"data row5 col10\" >-0.044006</td>\n",
       "      <td id=\"T_d5df9_row5_col11\" class=\"data row5 col11\" >-0.007851</td>\n",
       "      <td id=\"T_d5df9_row5_col12\" class=\"data row5 col12\" >0.019881</td>\n",
       "      <td id=\"T_d5df9_row5_col13\" class=\"data row5 col13\" >-0.022220</td>\n",
       "      <td id=\"T_d5df9_row5_col14\" class=\"data row5 col14\" >-0.006172</td>\n",
       "      <td id=\"T_d5df9_row5_col15\" class=\"data row5 col15\" >0.096119</td>\n",
       "      <td id=\"T_d5df9_row5_col16\" class=\"data row5 col16\" >-0.013511</td>\n",
       "      <td id=\"T_d5df9_row5_col17\" class=\"data row5 col17\" >0.047608</td>\n",
       "      <td id=\"T_d5df9_row5_col18\" class=\"data row5 col18\" >-0.006921</td>\n",
       "      <td id=\"T_d5df9_row5_col19\" class=\"data row5 col19\" >0.024182</td>\n",
       "      <td id=\"T_d5df9_row5_col20\" class=\"data row5 col20\" >0.012195</td>\n",
       "      <td id=\"T_d5df9_row5_col21\" class=\"data row5 col21\" >0.016359</td>\n",
       "      <td id=\"T_d5df9_row5_col22\" class=\"data row5 col22\" >0.063017</td>\n",
       "    </tr>\n",
       "    <tr>\n",
       "      <th id=\"T_d5df9_level0_row6\" class=\"row_heading level0 row6\" >hearing(left)</th>\n",
       "      <td id=\"T_d5df9_row6_col0\" class=\"data row6 col0\" >0.203993</td>\n",
       "      <td id=\"T_d5df9_row6_col1\" class=\"data row6 col1\" >-0.078663</td>\n",
       "      <td id=\"T_d5df9_row6_col2\" class=\"data row6 col2\" >-0.050094</td>\n",
       "      <td id=\"T_d5df9_row6_col3\" class=\"data row6 col3\" >0.023790</td>\n",
       "      <td id=\"T_d5df9_row6_col4\" class=\"data row6 col4\" >-0.046571</td>\n",
       "      <td id=\"T_d5df9_row6_col5\" class=\"data row6 col5\" >-0.043877</td>\n",
       "      <td id=\"T_d5df9_row6_col6\" class=\"data row6 col6\" >1.000000</td>\n",
       "      <td id=\"T_d5df9_row6_col7\" class=\"data row6 col7\" >0.510095</td>\n",
       "      <td id=\"T_d5df9_row6_col8\" class=\"data row6 col8\" >0.055219</td>\n",
       "      <td id=\"T_d5df9_row6_col9\" class=\"data row6 col9\" >0.008754</td>\n",
       "      <td id=\"T_d5df9_row6_col10\" class=\"data row6 col10\" >0.042314</td>\n",
       "      <td id=\"T_d5df9_row6_col11\" class=\"data row6 col11\" >-0.023276</td>\n",
       "      <td id=\"T_d5df9_row6_col12\" class=\"data row6 col12\" >0.004750</td>\n",
       "      <td id=\"T_d5df9_row6_col13\" class=\"data row6 col13\" >-0.020159</td>\n",
       "      <td id=\"T_d5df9_row6_col14\" class=\"data row6 col14\" >-0.016706</td>\n",
       "      <td id=\"T_d5df9_row6_col15\" class=\"data row6 col15\" >-0.026116</td>\n",
       "      <td id=\"T_d5df9_row6_col16\" class=\"data row6 col16\" >0.014527</td>\n",
       "      <td id=\"T_d5df9_row6_col17\" class=\"data row6 col17\" >0.003349</td>\n",
       "      <td id=\"T_d5df9_row6_col18\" class=\"data row6 col18\" >0.018074</td>\n",
       "      <td id=\"T_d5df9_row6_col19\" class=\"data row6 col19\" >0.004820</td>\n",
       "      <td id=\"T_d5df9_row6_col20\" class=\"data row6 col20\" >0.012864</td>\n",
       "      <td id=\"T_d5df9_row6_col21\" class=\"data row6 col21\" >-0.016100</td>\n",
       "      <td id=\"T_d5df9_row6_col22\" class=\"data row6 col22\" >-0.023209</td>\n",
       "    </tr>\n",
       "    <tr>\n",
       "      <th id=\"T_d5df9_level0_row7\" class=\"row_heading level0 row7\" >hearing(right)</th>\n",
       "      <td id=\"T_d5df9_row7_col0\" class=\"data row7 col0\" >0.208722</td>\n",
       "      <td id=\"T_d5df9_row7_col1\" class=\"data row7 col1\" >-0.078323</td>\n",
       "      <td id=\"T_d5df9_row7_col2\" class=\"data row7 col2\" >-0.052836</td>\n",
       "      <td id=\"T_d5df9_row7_col3\" class=\"data row7 col3\" >0.019286</td>\n",
       "      <td id=\"T_d5df9_row7_col4\" class=\"data row7 col4\" >-0.048788</td>\n",
       "      <td id=\"T_d5df9_row7_col5\" class=\"data row7 col5\" >-0.046623</td>\n",
       "      <td id=\"T_d5df9_row7_col6\" class=\"data row7 col6\" >0.510095</td>\n",
       "      <td id=\"T_d5df9_row7_col7\" class=\"data row7 col7\" >1.000000</td>\n",
       "      <td id=\"T_d5df9_row7_col8\" class=\"data row7 col8\" >0.049095</td>\n",
       "      <td id=\"T_d5df9_row7_col9\" class=\"data row7 col9\" >0.001651</td>\n",
       "      <td id=\"T_d5df9_row7_col10\" class=\"data row7 col10\" >0.041339</td>\n",
       "      <td id=\"T_d5df9_row7_col11\" class=\"data row7 col11\" >-0.023058</td>\n",
       "      <td id=\"T_d5df9_row7_col12\" class=\"data row7 col12\" >0.000267</td>\n",
       "      <td id=\"T_d5df9_row7_col13\" class=\"data row7 col13\" >-0.017986</td>\n",
       "      <td id=\"T_d5df9_row7_col14\" class=\"data row7 col14\" >-0.015426</td>\n",
       "      <td id=\"T_d5df9_row7_col15\" class=\"data row7 col15\" >-0.030943</td>\n",
       "      <td id=\"T_d5df9_row7_col16\" class=\"data row7 col16\" >0.019461</td>\n",
       "      <td id=\"T_d5df9_row7_col17\" class=\"data row7 col17\" >0.008060</td>\n",
       "      <td id=\"T_d5df9_row7_col18\" class=\"data row7 col18\" >0.009393</td>\n",
       "      <td id=\"T_d5df9_row7_col19\" class=\"data row7 col19\" >-0.005081</td>\n",
       "      <td id=\"T_d5df9_row7_col20\" class=\"data row7 col20\" >0.009245</td>\n",
       "      <td id=\"T_d5df9_row7_col21\" class=\"data row7 col21\" >-0.016376</td>\n",
       "      <td id=\"T_d5df9_row7_col22\" class=\"data row7 col22\" >-0.018855</td>\n",
       "    </tr>\n",
       "    <tr>\n",
       "      <th id=\"T_d5df9_level0_row8\" class=\"row_heading level0 row8\" >systolic</th>\n",
       "      <td id=\"T_d5df9_row8_col0\" class=\"data row8 col0\" >0.134023</td>\n",
       "      <td id=\"T_d5df9_row8_col1\" class=\"data row8 col1\" >0.080585</td>\n",
       "      <td id=\"T_d5df9_row8_col2\" class=\"data row8 col2\" >0.266131</td>\n",
       "      <td id=\"T_d5df9_row8_col3\" class=\"data row8 col3\" >0.316922</td>\n",
       "      <td id=\"T_d5df9_row8_col4\" class=\"data row8 col4\" >-0.019330</td>\n",
       "      <td id=\"T_d5df9_row8_col5\" class=\"data row8 col5\" >-0.013720</td>\n",
       "      <td id=\"T_d5df9_row8_col6\" class=\"data row8 col6\" >0.055219</td>\n",
       "      <td id=\"T_d5df9_row8_col7\" class=\"data row8 col7\" >0.049095</td>\n",
       "      <td id=\"T_d5df9_row8_col8\" class=\"data row8 col8\" >1.000000</td>\n",
       "      <td id=\"T_d5df9_row8_col9\" class=\"data row8 col9\" >0.761051</td>\n",
       "      <td id=\"T_d5df9_row8_col10\" class=\"data row8 col10\" >0.172700</td>\n",
       "      <td id=\"T_d5df9_row8_col11\" class=\"data row8 col11\" >0.059572</td>\n",
       "      <td id=\"T_d5df9_row8_col12\" class=\"data row8 col12\" >0.198826</td>\n",
       "      <td id=\"T_d5df9_row8_col13\" class=\"data row8 col13\" >-0.088487</td>\n",
       "      <td id=\"T_d5df9_row8_col14\" class=\"data row8 col14\" >0.016569</td>\n",
       "      <td id=\"T_d5df9_row8_col15\" class=\"data row8 col15\" >0.186514</td>\n",
       "      <td id=\"T_d5df9_row8_col16\" class=\"data row8 col16\" >0.046170</td>\n",
       "      <td id=\"T_d5df9_row8_col17\" class=\"data row8 col17\" >0.072288</td>\n",
       "      <td id=\"T_d5df9_row8_col18\" class=\"data row8 col18\" >0.083204</td>\n",
       "      <td id=\"T_d5df9_row8_col19\" class=\"data row8 col19\" >0.094893</td>\n",
       "      <td id=\"T_d5df9_row8_col20\" class=\"data row8 col20\" >0.165724</td>\n",
       "      <td id=\"T_d5df9_row8_col21\" class=\"data row8 col21\" >0.029894</td>\n",
       "      <td id=\"T_d5df9_row8_col22\" class=\"data row8 col22\" >0.073109</td>\n",
       "    </tr>\n",
       "    <tr>\n",
       "      <th id=\"T_d5df9_level0_row9\" class=\"row_heading level0 row9\" >relaxation</th>\n",
       "      <td id=\"T_d5df9_row9_col0\" class=\"data row9 col0\" >0.050745</td>\n",
       "      <td id=\"T_d5df9_row9_col1\" class=\"data row9 col1\" >0.113193</td>\n",
       "      <td id=\"T_d5df9_row9_col2\" class=\"data row9 col2\" >0.271634</td>\n",
       "      <td id=\"T_d5df9_row9_col3\" class=\"data row9 col3\" >0.292627</td>\n",
       "      <td id=\"T_d5df9_row9_col4\" class=\"data row9 col4\" >0.005199</td>\n",
       "      <td id=\"T_d5df9_row9_col5\" class=\"data row9 col5\" >0.011357</td>\n",
       "      <td id=\"T_d5df9_row9_col6\" class=\"data row9 col6\" >0.008754</td>\n",
       "      <td id=\"T_d5df9_row9_col7\" class=\"data row9 col7\" >0.001651</td>\n",
       "      <td id=\"T_d5df9_row9_col8\" class=\"data row9 col8\" >0.761051</td>\n",
       "      <td id=\"T_d5df9_row9_col9\" class=\"data row9 col9\" >1.000000</td>\n",
       "      <td id=\"T_d5df9_row9_col10\" class=\"data row9 col10\" >0.147879</td>\n",
       "      <td id=\"T_d5df9_row9_col11\" class=\"data row9 col11\" >0.095357</td>\n",
       "      <td id=\"T_d5df9_row9_col12\" class=\"data row9 col12\" >0.215541</td>\n",
       "      <td id=\"T_d5df9_row9_col13\" class=\"data row9 col13\" >-0.089410</td>\n",
       "      <td id=\"T_d5df9_row9_col14\" class=\"data row9 col14\" >0.041017</td>\n",
       "      <td id=\"T_d5df9_row9_col15\" class=\"data row9 col15\" >0.232899</td>\n",
       "      <td id=\"T_d5df9_row9_col16\" class=\"data row9 col16\" >0.045665</td>\n",
       "      <td id=\"T_d5df9_row9_col17\" class=\"data row9 col17\" >0.085033</td>\n",
       "      <td id=\"T_d5df9_row9_col18\" class=\"data row9 col18\" >0.085151</td>\n",
       "      <td id=\"T_d5df9_row9_col19\" class=\"data row9 col19\" >0.106648</td>\n",
       "      <td id=\"T_d5df9_row9_col20\" class=\"data row9 col20\" >0.177648</td>\n",
       "      <td id=\"T_d5df9_row9_col21\" class=\"data row9 col21\" >0.031634</td>\n",
       "      <td id=\"T_d5df9_row9_col22\" class=\"data row9 col22\" >0.108309</td>\n",
       "    </tr>\n",
       "    <tr>\n",
       "      <th id=\"T_d5df9_level0_row10\" class=\"row_heading level0 row10\" >fasting blood sugar</th>\n",
       "      <td id=\"T_d5df9_row10_col0\" class=\"data row10 col0\" >0.182351</td>\n",
       "      <td id=\"T_d5df9_row10_col1\" class=\"data row10 col1\" >0.019619</td>\n",
       "      <td id=\"T_d5df9_row10_col2\" class=\"data row10 col2\" >0.136237</td>\n",
       "      <td id=\"T_d5df9_row10_col3\" class=\"data row10 col3\" >0.211132</td>\n",
       "      <td id=\"T_d5df9_row10_col4\" class=\"data row10 col4\" >-0.041851</td>\n",
       "      <td id=\"T_d5df9_row10_col5\" class=\"data row10 col5\" >-0.044006</td>\n",
       "      <td id=\"T_d5df9_row10_col6\" class=\"data row10 col6\" >0.042314</td>\n",
       "      <td id=\"T_d5df9_row10_col7\" class=\"data row10 col7\" >0.041339</td>\n",
       "      <td id=\"T_d5df9_row10_col8\" class=\"data row10 col8\" >0.172700</td>\n",
       "      <td id=\"T_d5df9_row10_col9\" class=\"data row10 col9\" >0.147879</td>\n",
       "      <td id=\"T_d5df9_row10_col10\" class=\"data row10 col10\" >1.000000</td>\n",
       "      <td id=\"T_d5df9_row10_col11\" class=\"data row10 col11\" >0.009903</td>\n",
       "      <td id=\"T_d5df9_row10_col12\" class=\"data row10 col12\" >0.227746</td>\n",
       "      <td id=\"T_d5df9_row10_col13\" class=\"data row10 col13\" >-0.121274</td>\n",
       "      <td id=\"T_d5df9_row10_col14\" class=\"data row10 col14\" >-0.019615</td>\n",
       "      <td id=\"T_d5df9_row10_col15\" class=\"data row10 col15\" >0.099921</td>\n",
       "      <td id=\"T_d5df9_row10_col16\" class=\"data row10 col16\" >0.094047</td>\n",
       "      <td id=\"T_d5df9_row10_col17\" class=\"data row10 col17\" >0.041341</td>\n",
       "      <td id=\"T_d5df9_row10_col18\" class=\"data row10 col18\" >0.068772</td>\n",
       "      <td id=\"T_d5df9_row10_col19\" class=\"data row10 col19\" >0.087616</td>\n",
       "      <td id=\"T_d5df9_row10_col20\" class=\"data row10 col20\" >0.182414</td>\n",
       "      <td id=\"T_d5df9_row10_col21\" class=\"data row10 col21\" >0.001231</td>\n",
       "      <td id=\"T_d5df9_row10_col22\" class=\"data row10 col22\" >0.100279</td>\n",
       "    </tr>\n",
       "    <tr>\n",
       "      <th id=\"T_d5df9_level0_row11\" class=\"row_heading level0 row11\" >Cholesterol</th>\n",
       "      <td id=\"T_d5df9_row11_col0\" class=\"data row11 col0\" >0.055557</td>\n",
       "      <td id=\"T_d5df9_row11_col1\" class=\"data row11 col1\" >-0.082161</td>\n",
       "      <td id=\"T_d5df9_row11_col2\" class=\"data row11 col2\" >0.026403</td>\n",
       "      <td id=\"T_d5df9_row11_col3\" class=\"data row11 col3\" >0.065467</td>\n",
       "      <td id=\"T_d5df9_row11_col4\" class=\"data row11 col4\" >-0.004985</td>\n",
       "      <td id=\"T_d5df9_row11_col5\" class=\"data row11 col5\" >-0.007851</td>\n",
       "      <td id=\"T_d5df9_row11_col6\" class=\"data row11 col6\" >-0.023276</td>\n",
       "      <td id=\"T_d5df9_row11_col7\" class=\"data row11 col7\" >-0.023058</td>\n",
       "      <td id=\"T_d5df9_row11_col8\" class=\"data row11 col8\" >0.059572</td>\n",
       "      <td id=\"T_d5df9_row11_col9\" class=\"data row11 col9\" >0.095357</td>\n",
       "      <td id=\"T_d5df9_row11_col10\" class=\"data row11 col10\" >0.009903</td>\n",
       "      <td id=\"T_d5df9_row11_col11\" class=\"data row11 col11\" >1.000000</td>\n",
       "      <td id=\"T_d5df9_row11_col12\" class=\"data row11 col12\" >0.247581</td>\n",
       "      <td id=\"T_d5df9_row11_col13\" class=\"data row11 col13\" >0.168623</td>\n",
       "      <td id=\"T_d5df9_row11_col14\" class=\"data row11 col14\" >0.738975</td>\n",
       "      <td id=\"T_d5df9_row11_col15\" class=\"data row11 col15\" >0.061503</td>\n",
       "      <td id=\"T_d5df9_row11_col16\" class=\"data row11 col16\" >-0.004259</td>\n",
       "      <td id=\"T_d5df9_row11_col17\" class=\"data row11 col17\" >-0.000129</td>\n",
       "      <td id=\"T_d5df9_row11_col18\" class=\"data row11 col18\" >0.026594</td>\n",
       "      <td id=\"T_d5df9_row11_col19\" class=\"data row11 col19\" >0.050676</td>\n",
       "      <td id=\"T_d5df9_row11_col20\" class=\"data row11 col20\" >0.083531</td>\n",
       "      <td id=\"T_d5df9_row11_col21\" class=\"data row11 col21\" >-0.001119</td>\n",
       "      <td id=\"T_d5df9_row11_col22\" class=\"data row11 col22\" >-0.028548</td>\n",
       "    </tr>\n",
       "    <tr>\n",
       "      <th id=\"T_d5df9_level0_row12\" class=\"row_heading level0 row12\" >triglyceride</th>\n",
       "      <td id=\"T_d5df9_row12_col0\" class=\"data row12 col0\" >0.015102</td>\n",
       "      <td id=\"T_d5df9_row12_col1\" class=\"data row12 col1\" >0.156693</td>\n",
       "      <td id=\"T_d5df9_row12_col2\" class=\"data row12 col2\" >0.324429</td>\n",
       "      <td id=\"T_d5df9_row12_col3\" class=\"data row12 col3\" >0.361922</td>\n",
       "      <td id=\"T_d5df9_row12_col4\" class=\"data row12 col4\" >0.019717</td>\n",
       "      <td id=\"T_d5df9_row12_col5\" class=\"data row12 col5\" >0.019881</td>\n",
       "      <td id=\"T_d5df9_row12_col6\" class=\"data row12 col6\" >0.004750</td>\n",
       "      <td id=\"T_d5df9_row12_col7\" class=\"data row12 col7\" >0.000267</td>\n",
       "      <td id=\"T_d5df9_row12_col8\" class=\"data row12 col8\" >0.198826</td>\n",
       "      <td id=\"T_d5df9_row12_col9\" class=\"data row12 col9\" >0.215541</td>\n",
       "      <td id=\"T_d5df9_row12_col10\" class=\"data row12 col10\" >0.227746</td>\n",
       "      <td id=\"T_d5df9_row12_col11\" class=\"data row12 col11\" >0.247581</td>\n",
       "      <td id=\"T_d5df9_row12_col12\" class=\"data row12 col12\" >1.000000</td>\n",
       "      <td id=\"T_d5df9_row12_col13\" class=\"data row12 col13\" >-0.411752</td>\n",
       "      <td id=\"T_d5df9_row12_col14\" class=\"data row12 col14\" >0.025739</td>\n",
       "      <td id=\"T_d5df9_row12_col15\" class=\"data row12 col15\" >0.273353</td>\n",
       "      <td id=\"T_d5df9_row12_col16\" class=\"data row12 col16\" >0.033992</td>\n",
       "      <td id=\"T_d5df9_row12_col17\" class=\"data row12 col17\" >0.124986</td>\n",
       "      <td id=\"T_d5df9_row12_col18\" class=\"data row12 col18\" >0.101696</td>\n",
       "      <td id=\"T_d5df9_row12_col19\" class=\"data row12 col19\" >0.175164</td>\n",
       "      <td id=\"T_d5df9_row12_col20\" class=\"data row12 col20\" >0.301876</td>\n",
       "      <td id=\"T_d5df9_row12_col21\" class=\"data row12 col21\" >0.028310</td>\n",
       "      <td id=\"T_d5df9_row12_col22\" class=\"data row12 col22\" >0.251799</td>\n",
       "    </tr>\n",
       "    <tr>\n",
       "      <th id=\"T_d5df9_level0_row13\" class=\"row_heading level0 row13\" >HDL</th>\n",
       "      <td id=\"T_d5df9_row13_col0\" class=\"data row13 col0\" >0.007047</td>\n",
       "      <td id=\"T_d5df9_row13_col1\" class=\"data row13 col1\" >-0.213284</td>\n",
       "      <td id=\"T_d5df9_row13_col2\" class=\"data row13 col2\" >-0.358868</td>\n",
       "      <td id=\"T_d5df9_row13_col3\" class=\"data row13 col3\" >-0.376203</td>\n",
       "      <td id=\"T_d5df9_row13_col4\" class=\"data row13 col4\" >-0.015296</td>\n",
       "      <td id=\"T_d5df9_row13_col5\" class=\"data row13 col5\" >-0.022220</td>\n",
       "      <td id=\"T_d5df9_row13_col6\" class=\"data row13 col6\" >-0.020159</td>\n",
       "      <td id=\"T_d5df9_row13_col7\" class=\"data row13 col7\" >-0.017986</td>\n",
       "      <td id=\"T_d5df9_row13_col8\" class=\"data row13 col8\" >-0.088487</td>\n",
       "      <td id=\"T_d5df9_row13_col9\" class=\"data row13 col9\" >-0.089410</td>\n",
       "      <td id=\"T_d5df9_row13_col10\" class=\"data row13 col10\" >-0.121274</td>\n",
       "      <td id=\"T_d5df9_row13_col11\" class=\"data row13 col11\" >0.168623</td>\n",
       "      <td id=\"T_d5df9_row13_col12\" class=\"data row13 col12\" >-0.411752</td>\n",
       "      <td id=\"T_d5df9_row13_col13\" class=\"data row13 col13\" >1.000000</td>\n",
       "      <td id=\"T_d5df9_row13_col14\" class=\"data row13 col14\" >-0.056398</td>\n",
       "      <td id=\"T_d5df9_row13_col15\" class=\"data row13 col15\" >-0.240095</td>\n",
       "      <td id=\"T_d5df9_row13_col16\" class=\"data row13 col16\" >-0.015334</td>\n",
       "      <td id=\"T_d5df9_row13_col17\" class=\"data row13 col17\" >-0.175325</td>\n",
       "      <td id=\"T_d5df9_row13_col18\" class=\"data row13 col18\" >-0.036705</td>\n",
       "      <td id=\"T_d5df9_row13_col19\" class=\"data row13 col19\" >-0.128795</td>\n",
       "      <td id=\"T_d5df9_row13_col20\" class=\"data row13 col20\" >-0.054325</td>\n",
       "      <td id=\"T_d5df9_row13_col21\" class=\"data row13 col21\" >-0.026984</td>\n",
       "      <td id=\"T_d5df9_row13_col22\" class=\"data row13 col22\" >-0.178470</td>\n",
       "    </tr>\n",
       "    <tr>\n",
       "      <th id=\"T_d5df9_level0_row14\" class=\"row_heading level0 row14\" >LDL</th>\n",
       "      <td id=\"T_d5df9_row14_col0\" class=\"data row14 col0\" >0.043007</td>\n",
       "      <td id=\"T_d5df9_row14_col1\" class=\"data row14 col1\" >-0.048419</td>\n",
       "      <td id=\"T_d5df9_row14_col2\" class=\"data row14 col2\" >0.040560</td>\n",
       "      <td id=\"T_d5df9_row14_col3\" class=\"data row14 col3\" >0.072817</td>\n",
       "      <td id=\"T_d5df9_row14_col4\" class=\"data row14 col4\" >-0.007257</td>\n",
       "      <td id=\"T_d5df9_row14_col5\" class=\"data row14 col5\" >-0.006172</td>\n",
       "      <td id=\"T_d5df9_row14_col6\" class=\"data row14 col6\" >-0.016706</td>\n",
       "      <td id=\"T_d5df9_row14_col7\" class=\"data row14 col7\" >-0.015426</td>\n",
       "      <td id=\"T_d5df9_row14_col8\" class=\"data row14 col8\" >0.016569</td>\n",
       "      <td id=\"T_d5df9_row14_col9\" class=\"data row14 col9\" >0.041017</td>\n",
       "      <td id=\"T_d5df9_row14_col10\" class=\"data row14 col10\" >-0.019615</td>\n",
       "      <td id=\"T_d5df9_row14_col11\" class=\"data row14 col11\" >0.738975</td>\n",
       "      <td id=\"T_d5df9_row14_col12\" class=\"data row14 col12\" >0.025739</td>\n",
       "      <td id=\"T_d5df9_row14_col13\" class=\"data row14 col13\" >-0.056398</td>\n",
       "      <td id=\"T_d5df9_row14_col14\" class=\"data row14 col14\" >1.000000</td>\n",
       "      <td id=\"T_d5df9_row14_col15\" class=\"data row14 col15\" >0.052903</td>\n",
       "      <td id=\"T_d5df9_row14_col16\" class=\"data row14 col16\" >-0.009123</td>\n",
       "      <td id=\"T_d5df9_row14_col17\" class=\"data row14 col17\" >0.027045</td>\n",
       "      <td id=\"T_d5df9_row14_col18\" class=\"data row14 col18\" >0.000388</td>\n",
       "      <td id=\"T_d5df9_row14_col19\" class=\"data row14 col19\" >0.031576</td>\n",
       "      <td id=\"T_d5df9_row14_col20\" class=\"data row14 col20\" >-0.007872</td>\n",
       "      <td id=\"T_d5df9_row14_col21\" class=\"data row14 col21\" >-0.001816</td>\n",
       "      <td id=\"T_d5df9_row14_col22\" class=\"data row14 col22\" >-0.045220</td>\n",
       "    </tr>\n",
       "    <tr>\n",
       "      <th id=\"T_d5df9_level0_row15\" class=\"row_heading level0 row15\" >hemoglobin</th>\n",
       "      <td id=\"T_d5df9_row15_col0\" class=\"data row15 col0\" >-0.263078</td>\n",
       "      <td id=\"T_d5df9_row15_col1\" class=\"data row15 col1\" >0.539367</td>\n",
       "      <td id=\"T_d5df9_row15_col2\" class=\"data row15 col2\" >0.492970</td>\n",
       "      <td id=\"T_d5df9_row15_col3\" class=\"data row15 col3\" >0.387066</td>\n",
       "      <td id=\"T_d5df9_row15_col4\" class=\"data row15 col4\" >0.095234</td>\n",
       "      <td id=\"T_d5df9_row15_col5\" class=\"data row15 col5\" >0.096119</td>\n",
       "      <td id=\"T_d5df9_row15_col6\" class=\"data row15 col6\" >-0.026116</td>\n",
       "      <td id=\"T_d5df9_row15_col7\" class=\"data row15 col7\" >-0.030943</td>\n",
       "      <td id=\"T_d5df9_row15_col8\" class=\"data row15 col8\" >0.186514</td>\n",
       "      <td id=\"T_d5df9_row15_col9\" class=\"data row15 col9\" >0.232899</td>\n",
       "      <td id=\"T_d5df9_row15_col10\" class=\"data row15 col10\" >0.099921</td>\n",
       "      <td id=\"T_d5df9_row15_col11\" class=\"data row15 col11\" >0.061503</td>\n",
       "      <td id=\"T_d5df9_row15_col12\" class=\"data row15 col12\" >0.273353</td>\n",
       "      <td id=\"T_d5df9_row15_col13\" class=\"data row15 col13\" >-0.240095</td>\n",
       "      <td id=\"T_d5df9_row15_col14\" class=\"data row15 col14\" >0.052903</td>\n",
       "      <td id=\"T_d5df9_row15_col15\" class=\"data row15 col15\" >1.000000</td>\n",
       "      <td id=\"T_d5df9_row15_col16\" class=\"data row15 col16\" >0.021753</td>\n",
       "      <td id=\"T_d5df9_row15_col17\" class=\"data row15 col17\" >0.371382</td>\n",
       "      <td id=\"T_d5df9_row15_col18\" class=\"data row15 col18\" >0.120575</td>\n",
       "      <td id=\"T_d5df9_row15_col19\" class=\"data row15 col19\" >0.202025</td>\n",
       "      <td id=\"T_d5df9_row15_col20\" class=\"data row15 col20\" >0.223844</td>\n",
       "      <td id=\"T_d5df9_row15_col21\" class=\"data row15 col21\" >0.067984</td>\n",
       "      <td id=\"T_d5df9_row15_col22\" class=\"data row15 col22\" >0.400678</td>\n",
       "    </tr>\n",
       "    <tr>\n",
       "      <th id=\"T_d5df9_level0_row16\" class=\"row_heading level0 row16\" >Urine protein</th>\n",
       "      <td id=\"T_d5df9_row16_col0\" class=\"data row16 col0\" >0.029625</td>\n",
       "      <td id=\"T_d5df9_row16_col1\" class=\"data row16 col1\" >0.005128</td>\n",
       "      <td id=\"T_d5df9_row16_col2\" class=\"data row16 col2\" >0.032566</td>\n",
       "      <td id=\"T_d5df9_row16_col3\" class=\"data row16 col3\" >0.045492</td>\n",
       "      <td id=\"T_d5df9_row16_col4\" class=\"data row16 col4\" >-0.002752</td>\n",
       "      <td id=\"T_d5df9_row16_col5\" class=\"data row16 col5\" >-0.013511</td>\n",
       "      <td id=\"T_d5df9_row16_col6\" class=\"data row16 col6\" >0.014527</td>\n",
       "      <td id=\"T_d5df9_row16_col7\" class=\"data row16 col7\" >0.019461</td>\n",
       "      <td id=\"T_d5df9_row16_col8\" class=\"data row16 col8\" >0.046170</td>\n",
       "      <td id=\"T_d5df9_row16_col9\" class=\"data row16 col9\" >0.045665</td>\n",
       "      <td id=\"T_d5df9_row16_col10\" class=\"data row16 col10\" >0.094047</td>\n",
       "      <td id=\"T_d5df9_row16_col11\" class=\"data row16 col11\" >-0.004259</td>\n",
       "      <td id=\"T_d5df9_row16_col12\" class=\"data row16 col12\" >0.033992</td>\n",
       "      <td id=\"T_d5df9_row16_col13\" class=\"data row16 col13\" >-0.015334</td>\n",
       "      <td id=\"T_d5df9_row16_col14\" class=\"data row16 col14\" >-0.009123</td>\n",
       "      <td id=\"T_d5df9_row16_col15\" class=\"data row16 col15\" >0.021753</td>\n",
       "      <td id=\"T_d5df9_row16_col16\" class=\"data row16 col16\" >1.000000</td>\n",
       "      <td id=\"T_d5df9_row16_col17\" class=\"data row16 col17\" >0.087682</td>\n",
       "      <td id=\"T_d5df9_row16_col18\" class=\"data row16 col18\" >0.052195</td>\n",
       "      <td id=\"T_d5df9_row16_col19\" class=\"data row16 col19\" >0.040070</td>\n",
       "      <td id=\"T_d5df9_row16_col20\" class=\"data row16 col20\" >0.064372</td>\n",
       "      <td id=\"T_d5df9_row16_col21\" class=\"data row16 col21\" >0.000632</td>\n",
       "      <td id=\"T_d5df9_row16_col22\" class=\"data row16 col22\" >0.014267</td>\n",
       "    </tr>\n",
       "    <tr>\n",
       "      <th id=\"T_d5df9_level0_row17\" class=\"row_heading level0 row17\" >serum creatinine</th>\n",
       "      <td id=\"T_d5df9_row17_col0\" class=\"data row17 col0\" >-0.106118</td>\n",
       "      <td id=\"T_d5df9_row17_col1\" class=\"data row17 col1\" >0.383883</td>\n",
       "      <td id=\"T_d5df9_row17_col2\" class=\"data row17 col2\" >0.324808</td>\n",
       "      <td id=\"T_d5df9_row17_col3\" class=\"data row17 col3\" >0.235024</td>\n",
       "      <td id=\"T_d5df9_row17_col4\" class=\"data row17 col4\" >0.071410</td>\n",
       "      <td id=\"T_d5df9_row17_col5\" class=\"data row17 col5\" >0.047608</td>\n",
       "      <td id=\"T_d5df9_row17_col6\" class=\"data row17 col6\" >0.003349</td>\n",
       "      <td id=\"T_d5df9_row17_col7\" class=\"data row17 col7\" >0.008060</td>\n",
       "      <td id=\"T_d5df9_row17_col8\" class=\"data row17 col8\" >0.072288</td>\n",
       "      <td id=\"T_d5df9_row17_col9\" class=\"data row17 col9\" >0.085033</td>\n",
       "      <td id=\"T_d5df9_row17_col10\" class=\"data row17 col10\" >0.041341</td>\n",
       "      <td id=\"T_d5df9_row17_col11\" class=\"data row17 col11\" >-0.000129</td>\n",
       "      <td id=\"T_d5df9_row17_col12\" class=\"data row17 col12\" >0.124986</td>\n",
       "      <td id=\"T_d5df9_row17_col13\" class=\"data row17 col13\" >-0.175325</td>\n",
       "      <td id=\"T_d5df9_row17_col14\" class=\"data row17 col14\" >0.027045</td>\n",
       "      <td id=\"T_d5df9_row17_col15\" class=\"data row17 col15\" >0.371382</td>\n",
       "      <td id=\"T_d5df9_row17_col16\" class=\"data row17 col16\" >0.087682</td>\n",
       "      <td id=\"T_d5df9_row17_col17\" class=\"data row17 col17\" >1.000000</td>\n",
       "      <td id=\"T_d5df9_row17_col18\" class=\"data row17 col18\" >0.048548</td>\n",
       "      <td id=\"T_d5df9_row17_col19\" class=\"data row17 col19\" >0.083602</td>\n",
       "      <td id=\"T_d5df9_row17_col20\" class=\"data row17 col20\" >0.102411</td>\n",
       "      <td id=\"T_d5df9_row17_col21\" class=\"data row17 col21\" >0.027454</td>\n",
       "      <td id=\"T_d5df9_row17_col22\" class=\"data row17 col22\" >0.216812</td>\n",
       "    </tr>\n",
       "    <tr>\n",
       "      <th id=\"T_d5df9_level0_row18\" class=\"row_heading level0 row18\" >AST</th>\n",
       "      <td id=\"T_d5df9_row18_col0\" class=\"data row18 col0\" >0.032576</td>\n",
       "      <td id=\"T_d5df9_row18_col1\" class=\"data row18 col1\" >0.041737</td>\n",
       "      <td id=\"T_d5df9_row18_col2\" class=\"data row18 col2\" >0.120130</td>\n",
       "      <td id=\"T_d5df9_row18_col3\" class=\"data row18 col3\" >0.142690</td>\n",
       "      <td id=\"T_d5df9_row18_col4\" class=\"data row18 col4\" >-0.007966</td>\n",
       "      <td id=\"T_d5df9_row18_col5\" class=\"data row18 col5\" >-0.006921</td>\n",
       "      <td id=\"T_d5df9_row18_col6\" class=\"data row18 col6\" >0.018074</td>\n",
       "      <td id=\"T_d5df9_row18_col7\" class=\"data row18 col7\" >0.009393</td>\n",
       "      <td id=\"T_d5df9_row18_col8\" class=\"data row18 col8\" >0.083204</td>\n",
       "      <td id=\"T_d5df9_row18_col9\" class=\"data row18 col9\" >0.085151</td>\n",
       "      <td id=\"T_d5df9_row18_col10\" class=\"data row18 col10\" >0.068772</td>\n",
       "      <td id=\"T_d5df9_row18_col11\" class=\"data row18 col11\" >0.026594</td>\n",
       "      <td id=\"T_d5df9_row18_col12\" class=\"data row18 col12\" >0.101696</td>\n",
       "      <td id=\"T_d5df9_row18_col13\" class=\"data row18 col13\" >-0.036705</td>\n",
       "      <td id=\"T_d5df9_row18_col14\" class=\"data row18 col14\" >0.000388</td>\n",
       "      <td id=\"T_d5df9_row18_col15\" class=\"data row18 col15\" >0.120575</td>\n",
       "      <td id=\"T_d5df9_row18_col16\" class=\"data row18 col16\" >0.052195</td>\n",
       "      <td id=\"T_d5df9_row18_col17\" class=\"data row18 col17\" >0.048548</td>\n",
       "      <td id=\"T_d5df9_row18_col18\" class=\"data row18 col18\" >1.000000</td>\n",
       "      <td id=\"T_d5df9_row18_col19\" class=\"data row18 col19\" >0.740726</td>\n",
       "      <td id=\"T_d5df9_row18_col20\" class=\"data row18 col20\" >0.379959</td>\n",
       "      <td id=\"T_d5df9_row18_col21\" class=\"data row18 col21\" >0.007239</td>\n",
       "      <td id=\"T_d5df9_row18_col22\" class=\"data row18 col22\" >0.059253</td>\n",
       "    </tr>\n",
       "    <tr>\n",
       "      <th id=\"T_d5df9_level0_row19\" class=\"row_heading level0 row19\" >ALT</th>\n",
       "      <td id=\"T_d5df9_row19_col0\" class=\"data row19 col0\" >-0.063937</td>\n",
       "      <td id=\"T_d5df9_row19_col1\" class=\"data row19 col1\" >0.126511</td>\n",
       "      <td id=\"T_d5df9_row19_col2\" class=\"data row19 col2\" >0.250634</td>\n",
       "      <td id=\"T_d5df9_row19_col3\" class=\"data row19 col3\" >0.252478</td>\n",
       "      <td id=\"T_d5df9_row19_col4\" class=\"data row19 col4\" >0.019326</td>\n",
       "      <td id=\"T_d5df9_row19_col5\" class=\"data row19 col5\" >0.024182</td>\n",
       "      <td id=\"T_d5df9_row19_col6\" class=\"data row19 col6\" >0.004820</td>\n",
       "      <td id=\"T_d5df9_row19_col7\" class=\"data row19 col7\" >-0.005081</td>\n",
       "      <td id=\"T_d5df9_row19_col8\" class=\"data row19 col8\" >0.094893</td>\n",
       "      <td id=\"T_d5df9_row19_col9\" class=\"data row19 col9\" >0.106648</td>\n",
       "      <td id=\"T_d5df9_row19_col10\" class=\"data row19 col10\" >0.087616</td>\n",
       "      <td id=\"T_d5df9_row19_col11\" class=\"data row19 col11\" >0.050676</td>\n",
       "      <td id=\"T_d5df9_row19_col12\" class=\"data row19 col12\" >0.175164</td>\n",
       "      <td id=\"T_d5df9_row19_col13\" class=\"data row19 col13\" >-0.128795</td>\n",
       "      <td id=\"T_d5df9_row19_col14\" class=\"data row19 col14\" >0.031576</td>\n",
       "      <td id=\"T_d5df9_row19_col15\" class=\"data row19 col15\" >0.202025</td>\n",
       "      <td id=\"T_d5df9_row19_col16\" class=\"data row19 col16\" >0.040070</td>\n",
       "      <td id=\"T_d5df9_row19_col17\" class=\"data row19 col17\" >0.083602</td>\n",
       "      <td id=\"T_d5df9_row19_col18\" class=\"data row19 col18\" >0.740726</td>\n",
       "      <td id=\"T_d5df9_row19_col19\" class=\"data row19 col19\" >1.000000</td>\n",
       "      <td id=\"T_d5df9_row19_col20\" class=\"data row19 col20\" >0.343934</td>\n",
       "      <td id=\"T_d5df9_row19_col21\" class=\"data row19 col21\" >0.022597</td>\n",
       "      <td id=\"T_d5df9_row19_col22\" class=\"data row19 col22\" >0.097338</td>\n",
       "    </tr>\n",
       "    <tr>\n",
       "      <th id=\"T_d5df9_level0_row20\" class=\"row_heading level0 row20\" >Gtp</th>\n",
       "      <td id=\"T_d5df9_row20_col0\" class=\"data row20 col0\" >0.013031</td>\n",
       "      <td id=\"T_d5df9_row20_col1\" class=\"data row20 col1\" >0.139720</td>\n",
       "      <td id=\"T_d5df9_row20_col2\" class=\"data row20 col2\" >0.209625</td>\n",
       "      <td id=\"T_d5df9_row20_col3\" class=\"data row20 col3\" >0.243141</td>\n",
       "      <td id=\"T_d5df9_row20_col4\" class=\"data row20 col4\" >0.003850</td>\n",
       "      <td id=\"T_d5df9_row20_col5\" class=\"data row20 col5\" >0.012195</td>\n",
       "      <td id=\"T_d5df9_row20_col6\" class=\"data row20 col6\" >0.012864</td>\n",
       "      <td id=\"T_d5df9_row20_col7\" class=\"data row20 col7\" >0.009245</td>\n",
       "      <td id=\"T_d5df9_row20_col8\" class=\"data row20 col8\" >0.165724</td>\n",
       "      <td id=\"T_d5df9_row20_col9\" class=\"data row20 col9\" >0.177648</td>\n",
       "      <td id=\"T_d5df9_row20_col10\" class=\"data row20 col10\" >0.182414</td>\n",
       "      <td id=\"T_d5df9_row20_col11\" class=\"data row20 col11\" >0.083531</td>\n",
       "      <td id=\"T_d5df9_row20_col12\" class=\"data row20 col12\" >0.301876</td>\n",
       "      <td id=\"T_d5df9_row20_col13\" class=\"data row20 col13\" >-0.054325</td>\n",
       "      <td id=\"T_d5df9_row20_col14\" class=\"data row20 col14\" >-0.007872</td>\n",
       "      <td id=\"T_d5df9_row20_col15\" class=\"data row20 col15\" >0.223844</td>\n",
       "      <td id=\"T_d5df9_row20_col16\" class=\"data row20 col16\" >0.064372</td>\n",
       "      <td id=\"T_d5df9_row20_col17\" class=\"data row20 col17\" >0.102411</td>\n",
       "      <td id=\"T_d5df9_row20_col18\" class=\"data row20 col18\" >0.379959</td>\n",
       "      <td id=\"T_d5df9_row20_col19\" class=\"data row20 col19\" >0.343934</td>\n",
       "      <td id=\"T_d5df9_row20_col20\" class=\"data row20 col20\" >1.000000</td>\n",
       "      <td id=\"T_d5df9_row20_col21\" class=\"data row20 col21\" >0.039818</td>\n",
       "      <td id=\"T_d5df9_row20_col22\" class=\"data row20 col22\" >0.236619</td>\n",
       "    </tr>\n",
       "    <tr>\n",
       "      <th id=\"T_d5df9_level0_row21\" class=\"row_heading level0 row21\" >dental caries</th>\n",
       "      <td id=\"T_d5df9_row21_col0\" class=\"data row21 col0\" >-0.114984</td>\n",
       "      <td id=\"T_d5df9_row21_col1\" class=\"data row21 col1\" >0.079331</td>\n",
       "      <td id=\"T_d5df9_row21_col2\" class=\"data row21 col2\" >0.073536</td>\n",
       "      <td id=\"T_d5df9_row21_col3\" class=\"data row21 col3\" >0.044203</td>\n",
       "      <td id=\"T_d5df9_row21_col4\" class=\"data row21 col4\" >0.003684</td>\n",
       "      <td id=\"T_d5df9_row21_col5\" class=\"data row21 col5\" >0.016359</td>\n",
       "      <td id=\"T_d5df9_row21_col6\" class=\"data row21 col6\" >-0.016100</td>\n",
       "      <td id=\"T_d5df9_row21_col7\" class=\"data row21 col7\" >-0.016376</td>\n",
       "      <td id=\"T_d5df9_row21_col8\" class=\"data row21 col8\" >0.029894</td>\n",
       "      <td id=\"T_d5df9_row21_col9\" class=\"data row21 col9\" >0.031634</td>\n",
       "      <td id=\"T_d5df9_row21_col10\" class=\"data row21 col10\" >0.001231</td>\n",
       "      <td id=\"T_d5df9_row21_col11\" class=\"data row21 col11\" >-0.001119</td>\n",
       "      <td id=\"T_d5df9_row21_col12\" class=\"data row21 col12\" >0.028310</td>\n",
       "      <td id=\"T_d5df9_row21_col13\" class=\"data row21 col13\" >-0.026984</td>\n",
       "      <td id=\"T_d5df9_row21_col14\" class=\"data row21 col14\" >-0.001816</td>\n",
       "      <td id=\"T_d5df9_row21_col15\" class=\"data row21 col15\" >0.067984</td>\n",
       "      <td id=\"T_d5df9_row21_col16\" class=\"data row21 col16\" >0.000632</td>\n",
       "      <td id=\"T_d5df9_row21_col17\" class=\"data row21 col17\" >0.027454</td>\n",
       "      <td id=\"T_d5df9_row21_col18\" class=\"data row21 col18\" >0.007239</td>\n",
       "      <td id=\"T_d5df9_row21_col19\" class=\"data row21 col19\" >0.022597</td>\n",
       "      <td id=\"T_d5df9_row21_col20\" class=\"data row21 col20\" >0.039818</td>\n",
       "      <td id=\"T_d5df9_row21_col21\" class=\"data row21 col21\" >1.000000</td>\n",
       "      <td id=\"T_d5df9_row21_col22\" class=\"data row21 col22\" >0.103857</td>\n",
       "    </tr>\n",
       "    <tr>\n",
       "      <th id=\"T_d5df9_level0_row22\" class=\"row_heading level0 row22\" >smoking</th>\n",
       "      <td id=\"T_d5df9_row22_col0\" class=\"data row22 col0\" >-0.162557</td>\n",
       "      <td id=\"T_d5df9_row22_col1\" class=\"data row22 col1\" >0.396675</td>\n",
       "      <td id=\"T_d5df9_row22_col2\" class=\"data row22 col2\" >0.302780</td>\n",
       "      <td id=\"T_d5df9_row22_col3\" class=\"data row22 col3\" >0.226259</td>\n",
       "      <td id=\"T_d5df9_row22_col4\" class=\"data row22 col4\" >0.061204</td>\n",
       "      <td id=\"T_d5df9_row22_col5\" class=\"data row22 col5\" >0.063017</td>\n",
       "      <td id=\"T_d5df9_row22_col6\" class=\"data row22 col6\" >-0.023209</td>\n",
       "      <td id=\"T_d5df9_row22_col7\" class=\"data row22 col7\" >-0.018855</td>\n",
       "      <td id=\"T_d5df9_row22_col8\" class=\"data row22 col8\" >0.073109</td>\n",
       "      <td id=\"T_d5df9_row22_col9\" class=\"data row22 col9\" >0.108309</td>\n",
       "      <td id=\"T_d5df9_row22_col10\" class=\"data row22 col10\" >0.100279</td>\n",
       "      <td id=\"T_d5df9_row22_col11\" class=\"data row22 col11\" >-0.028548</td>\n",
       "      <td id=\"T_d5df9_row22_col12\" class=\"data row22 col12\" >0.251799</td>\n",
       "      <td id=\"T_d5df9_row22_col13\" class=\"data row22 col13\" >-0.178470</td>\n",
       "      <td id=\"T_d5df9_row22_col14\" class=\"data row22 col14\" >-0.045220</td>\n",
       "      <td id=\"T_d5df9_row22_col15\" class=\"data row22 col15\" >0.400678</td>\n",
       "      <td id=\"T_d5df9_row22_col16\" class=\"data row22 col16\" >0.014267</td>\n",
       "      <td id=\"T_d5df9_row22_col17\" class=\"data row22 col17\" >0.216812</td>\n",
       "      <td id=\"T_d5df9_row22_col18\" class=\"data row22 col18\" >0.059253</td>\n",
       "      <td id=\"T_d5df9_row22_col19\" class=\"data row22 col19\" >0.097338</td>\n",
       "      <td id=\"T_d5df9_row22_col20\" class=\"data row22 col20\" >0.236619</td>\n",
       "      <td id=\"T_d5df9_row22_col21\" class=\"data row22 col21\" >0.103857</td>\n",
       "      <td id=\"T_d5df9_row22_col22\" class=\"data row22 col22\" >1.000000</td>\n",
       "    </tr>\n",
       "  </tbody>\n",
       "</table>\n"
      ],
      "text/plain": [
       "<pandas.io.formats.style.Styler at 0x21035d57fa0>"
      ]
     },
     "execution_count": 126,
     "metadata": {},
     "output_type": "execute_result"
    }
   ],
   "source": [
    "dataset.corr().style.background_gradient(cmap='Blues')"
   ]
  },
  {
   "cell_type": "code",
   "execution_count": 127,
   "id": "bb8c850a",
   "metadata": {},
   "outputs": [
    {
     "data": {
      "text/plain": [
       "smoking                1.000000\n",
       "hemoglobin             0.400678\n",
       "height(cm)             0.396675\n",
       "weight(kg)             0.302780\n",
       "triglyceride           0.251799\n",
       "Gtp                    0.236619\n",
       "waist(cm)              0.226259\n",
       "serum creatinine       0.216812\n",
       "relaxation             0.108309\n",
       "dental caries          0.103857\n",
       "fasting blood sugar    0.100279\n",
       "ALT                    0.097338\n",
       "systolic               0.073109\n",
       "eyesight(right)        0.063017\n",
       "eyesight(left)         0.061204\n",
       "AST                    0.059253\n",
       "Urine protein          0.014267\n",
       "hearing(right)        -0.018855\n",
       "hearing(left)         -0.023209\n",
       "Cholesterol           -0.028548\n",
       "LDL                   -0.045220\n",
       "age                   -0.162557\n",
       "HDL                   -0.178470\n",
       "Name: smoking, dtype: float64"
      ]
     },
     "execution_count": 127,
     "metadata": {},
     "output_type": "execute_result"
    }
   ],
   "source": [
    "dataset.corr()['smoking'].sort_values(ascending=False)"
   ]
  },
  {
   "cell_type": "code",
   "execution_count": 128,
   "id": "c25db4ff",
   "metadata": {},
   "outputs": [
    {
     "data": {
      "text/plain": [
       "smoking                1.000000\n",
       "hemoglobin             0.400678\n",
       "height(cm)             0.396675\n",
       "weight(kg)             0.302780\n",
       "triglyceride           0.251799\n",
       "Gtp                    0.236619\n",
       "waist(cm)              0.226259\n",
       "serum creatinine       0.216812\n",
       "HDL                    0.178470\n",
       "age                    0.162557\n",
       "relaxation             0.108309\n",
       "dental caries          0.103857\n",
       "fasting blood sugar    0.100279\n",
       "ALT                    0.097338\n",
       "systolic               0.073109\n",
       "eyesight(right)        0.063017\n",
       "eyesight(left)         0.061204\n",
       "AST                    0.059253\n",
       "LDL                    0.045220\n",
       "Cholesterol            0.028548\n",
       "hearing(left)          0.023209\n",
       "hearing(right)         0.018855\n",
       "Urine protein          0.014267\n",
       "Name: smoking, dtype: float64"
      ]
     },
     "execution_count": 128,
     "metadata": {},
     "output_type": "execute_result"
    }
   ],
   "source": [
    "dataset.corr()['smoking'].abs().sort_values(ascending=False)"
   ]
  },
  {
   "cell_type": "markdown",
   "id": "2b96747d",
   "metadata": {},
   "source": [
    "### - 상관계수 기준 i 에 따라 컬럼 제거"
   ]
  },
  {
   "cell_type": "code",
   "execution_count": 82,
   "id": "9e9ff9a7",
   "metadata": {},
   "outputs": [],
   "source": [
    "# 상관계수 구해 특정 컬럼 제거 - i 로 조정\n",
    "\n",
    "def corr(data, i):\n",
    "    s_corr = data.corr()['smoking'].abs() > i\n",
    "    print(data.corr().columns[s_corr])\n",
    "    dataset_col_drop_2 = data[data.corr().columns[s_corr]]\n",
    "    return dataset_col_drop_2"
   ]
  },
  {
   "cell_type": "code",
   "execution_count": 83,
   "id": "1c48e3e4",
   "metadata": {},
   "outputs": [
    {
     "name": "stdout",
     "output_type": "stream",
     "text": [
      "Index(['age', 'height(cm)', 'weight(kg)', 'waist(cm)', 'relaxation',\n",
      "       'fasting blood sugar', 'triglyceride', 'HDL', 'hemoglobin',\n",
      "       'serum creatinine', 'Gtp', 'dental caries', 'smoking'],\n",
      "      dtype='object')\n"
     ]
    }
   ],
   "source": [
    "dataset_col_drop_2 = corr(dataset, 0.1)"
   ]
  },
  {
   "cell_type": "code",
   "execution_count": 6,
   "id": "db76ab5e",
   "metadata": {},
   "outputs": [
    {
     "data": {
      "text/html": [
       "<div>\n",
       "<style scoped>\n",
       "    .dataframe tbody tr th:only-of-type {\n",
       "        vertical-align: middle;\n",
       "    }\n",
       "\n",
       "    .dataframe tbody tr th {\n",
       "        vertical-align: top;\n",
       "    }\n",
       "\n",
       "    .dataframe thead th {\n",
       "        text-align: right;\n",
       "    }\n",
       "</style>\n",
       "<table border=\"1\" class=\"dataframe\">\n",
       "  <thead>\n",
       "    <tr style=\"text-align: right;\">\n",
       "      <th></th>\n",
       "      <th>gender</th>\n",
       "      <th>age</th>\n",
       "      <th>height(cm)</th>\n",
       "      <th>weight(kg)</th>\n",
       "      <th>waist(cm)</th>\n",
       "      <th>eyesight(left)</th>\n",
       "      <th>eyesight(right)</th>\n",
       "      <th>hearing(left)</th>\n",
       "      <th>hearing(right)</th>\n",
       "      <th>systolic</th>\n",
       "      <th>...</th>\n",
       "      <th>LDL</th>\n",
       "      <th>hemoglobin</th>\n",
       "      <th>Urine protein</th>\n",
       "      <th>serum creatinine</th>\n",
       "      <th>AST</th>\n",
       "      <th>ALT</th>\n",
       "      <th>Gtp</th>\n",
       "      <th>dental caries</th>\n",
       "      <th>tartar</th>\n",
       "      <th>smoking</th>\n",
       "    </tr>\n",
       "    <tr>\n",
       "      <th>ID</th>\n",
       "      <th></th>\n",
       "      <th></th>\n",
       "      <th></th>\n",
       "      <th></th>\n",
       "      <th></th>\n",
       "      <th></th>\n",
       "      <th></th>\n",
       "      <th></th>\n",
       "      <th></th>\n",
       "      <th></th>\n",
       "      <th></th>\n",
       "      <th></th>\n",
       "      <th></th>\n",
       "      <th></th>\n",
       "      <th></th>\n",
       "      <th></th>\n",
       "      <th></th>\n",
       "      <th></th>\n",
       "      <th></th>\n",
       "      <th></th>\n",
       "      <th></th>\n",
       "    </tr>\n",
       "  </thead>\n",
       "  <tbody>\n",
       "    <tr>\n",
       "      <th>0</th>\n",
       "      <td>F</td>\n",
       "      <td>40</td>\n",
       "      <td>155</td>\n",
       "      <td>60</td>\n",
       "      <td>81.3</td>\n",
       "      <td>1.2</td>\n",
       "      <td>1.0</td>\n",
       "      <td>1.0</td>\n",
       "      <td>1.0</td>\n",
       "      <td>114.0</td>\n",
       "      <td>...</td>\n",
       "      <td>126.0</td>\n",
       "      <td>12.9</td>\n",
       "      <td>1.0</td>\n",
       "      <td>0.7</td>\n",
       "      <td>18.0</td>\n",
       "      <td>19.0</td>\n",
       "      <td>27.0</td>\n",
       "      <td>0</td>\n",
       "      <td>Y</td>\n",
       "      <td>0</td>\n",
       "    </tr>\n",
       "    <tr>\n",
       "      <th>1</th>\n",
       "      <td>F</td>\n",
       "      <td>40</td>\n",
       "      <td>160</td>\n",
       "      <td>60</td>\n",
       "      <td>81.0</td>\n",
       "      <td>0.8</td>\n",
       "      <td>0.6</td>\n",
       "      <td>1.0</td>\n",
       "      <td>1.0</td>\n",
       "      <td>119.0</td>\n",
       "      <td>...</td>\n",
       "      <td>127.0</td>\n",
       "      <td>12.7</td>\n",
       "      <td>1.0</td>\n",
       "      <td>0.6</td>\n",
       "      <td>22.0</td>\n",
       "      <td>19.0</td>\n",
       "      <td>18.0</td>\n",
       "      <td>0</td>\n",
       "      <td>Y</td>\n",
       "      <td>0</td>\n",
       "    </tr>\n",
       "    <tr>\n",
       "      <th>2</th>\n",
       "      <td>M</td>\n",
       "      <td>55</td>\n",
       "      <td>170</td>\n",
       "      <td>60</td>\n",
       "      <td>80.0</td>\n",
       "      <td>0.8</td>\n",
       "      <td>0.8</td>\n",
       "      <td>1.0</td>\n",
       "      <td>1.0</td>\n",
       "      <td>138.0</td>\n",
       "      <td>...</td>\n",
       "      <td>151.0</td>\n",
       "      <td>15.8</td>\n",
       "      <td>1.0</td>\n",
       "      <td>1.0</td>\n",
       "      <td>21.0</td>\n",
       "      <td>16.0</td>\n",
       "      <td>22.0</td>\n",
       "      <td>0</td>\n",
       "      <td>N</td>\n",
       "      <td>1</td>\n",
       "    </tr>\n",
       "    <tr>\n",
       "      <th>3</th>\n",
       "      <td>M</td>\n",
       "      <td>40</td>\n",
       "      <td>165</td>\n",
       "      <td>70</td>\n",
       "      <td>88.0</td>\n",
       "      <td>1.5</td>\n",
       "      <td>1.5</td>\n",
       "      <td>1.0</td>\n",
       "      <td>1.0</td>\n",
       "      <td>100.0</td>\n",
       "      <td>...</td>\n",
       "      <td>226.0</td>\n",
       "      <td>14.7</td>\n",
       "      <td>1.0</td>\n",
       "      <td>1.0</td>\n",
       "      <td>19.0</td>\n",
       "      <td>26.0</td>\n",
       "      <td>18.0</td>\n",
       "      <td>0</td>\n",
       "      <td>Y</td>\n",
       "      <td>0</td>\n",
       "    </tr>\n",
       "    <tr>\n",
       "      <th>4</th>\n",
       "      <td>F</td>\n",
       "      <td>40</td>\n",
       "      <td>155</td>\n",
       "      <td>60</td>\n",
       "      <td>86.0</td>\n",
       "      <td>1.0</td>\n",
       "      <td>1.0</td>\n",
       "      <td>1.0</td>\n",
       "      <td>1.0</td>\n",
       "      <td>120.0</td>\n",
       "      <td>...</td>\n",
       "      <td>107.0</td>\n",
       "      <td>12.5</td>\n",
       "      <td>1.0</td>\n",
       "      <td>0.6</td>\n",
       "      <td>16.0</td>\n",
       "      <td>14.0</td>\n",
       "      <td>22.0</td>\n",
       "      <td>0</td>\n",
       "      <td>N</td>\n",
       "      <td>0</td>\n",
       "    </tr>\n",
       "    <tr>\n",
       "      <th>...</th>\n",
       "      <td>...</td>\n",
       "      <td>...</td>\n",
       "      <td>...</td>\n",
       "      <td>...</td>\n",
       "      <td>...</td>\n",
       "      <td>...</td>\n",
       "      <td>...</td>\n",
       "      <td>...</td>\n",
       "      <td>...</td>\n",
       "      <td>...</td>\n",
       "      <td>...</td>\n",
       "      <td>...</td>\n",
       "      <td>...</td>\n",
       "      <td>...</td>\n",
       "      <td>...</td>\n",
       "      <td>...</td>\n",
       "      <td>...</td>\n",
       "      <td>...</td>\n",
       "      <td>...</td>\n",
       "      <td>...</td>\n",
       "      <td>...</td>\n",
       "    </tr>\n",
       "    <tr>\n",
       "      <th>55676</th>\n",
       "      <td>F</td>\n",
       "      <td>40</td>\n",
       "      <td>170</td>\n",
       "      <td>65</td>\n",
       "      <td>75.0</td>\n",
       "      <td>0.9</td>\n",
       "      <td>0.9</td>\n",
       "      <td>1.0</td>\n",
       "      <td>1.0</td>\n",
       "      <td>110.0</td>\n",
       "      <td>...</td>\n",
       "      <td>118.0</td>\n",
       "      <td>12.3</td>\n",
       "      <td>1.0</td>\n",
       "      <td>0.6</td>\n",
       "      <td>14.0</td>\n",
       "      <td>7.0</td>\n",
       "      <td>10.0</td>\n",
       "      <td>1</td>\n",
       "      <td>Y</td>\n",
       "      <td>0</td>\n",
       "    </tr>\n",
       "    <tr>\n",
       "      <th>55681</th>\n",
       "      <td>F</td>\n",
       "      <td>45</td>\n",
       "      <td>160</td>\n",
       "      <td>50</td>\n",
       "      <td>70.0</td>\n",
       "      <td>1.2</td>\n",
       "      <td>1.2</td>\n",
       "      <td>1.0</td>\n",
       "      <td>1.0</td>\n",
       "      <td>101.0</td>\n",
       "      <td>...</td>\n",
       "      <td>79.0</td>\n",
       "      <td>14.0</td>\n",
       "      <td>1.0</td>\n",
       "      <td>0.9</td>\n",
       "      <td>20.0</td>\n",
       "      <td>12.0</td>\n",
       "      <td>14.0</td>\n",
       "      <td>0</td>\n",
       "      <td>Y</td>\n",
       "      <td>0</td>\n",
       "    </tr>\n",
       "    <tr>\n",
       "      <th>55683</th>\n",
       "      <td>F</td>\n",
       "      <td>55</td>\n",
       "      <td>160</td>\n",
       "      <td>50</td>\n",
       "      <td>68.5</td>\n",
       "      <td>1.0</td>\n",
       "      <td>1.2</td>\n",
       "      <td>1.0</td>\n",
       "      <td>1.0</td>\n",
       "      <td>117.0</td>\n",
       "      <td>...</td>\n",
       "      <td>63.0</td>\n",
       "      <td>12.4</td>\n",
       "      <td>1.0</td>\n",
       "      <td>0.5</td>\n",
       "      <td>17.0</td>\n",
       "      <td>11.0</td>\n",
       "      <td>12.0</td>\n",
       "      <td>0</td>\n",
       "      <td>N</td>\n",
       "      <td>0</td>\n",
       "    </tr>\n",
       "    <tr>\n",
       "      <th>55684</th>\n",
       "      <td>M</td>\n",
       "      <td>60</td>\n",
       "      <td>165</td>\n",
       "      <td>60</td>\n",
       "      <td>78.0</td>\n",
       "      <td>0.8</td>\n",
       "      <td>1.0</td>\n",
       "      <td>1.0</td>\n",
       "      <td>1.0</td>\n",
       "      <td>133.0</td>\n",
       "      <td>...</td>\n",
       "      <td>146.0</td>\n",
       "      <td>14.4</td>\n",
       "      <td>1.0</td>\n",
       "      <td>0.7</td>\n",
       "      <td>20.0</td>\n",
       "      <td>19.0</td>\n",
       "      <td>18.0</td>\n",
       "      <td>0</td>\n",
       "      <td>N</td>\n",
       "      <td>0</td>\n",
       "    </tr>\n",
       "    <tr>\n",
       "      <th>55691</th>\n",
       "      <td>M</td>\n",
       "      <td>55</td>\n",
       "      <td>160</td>\n",
       "      <td>65</td>\n",
       "      <td>85.0</td>\n",
       "      <td>0.9</td>\n",
       "      <td>0.7</td>\n",
       "      <td>1.0</td>\n",
       "      <td>1.0</td>\n",
       "      <td>124.0</td>\n",
       "      <td>...</td>\n",
       "      <td>150.0</td>\n",
       "      <td>15.0</td>\n",
       "      <td>1.0</td>\n",
       "      <td>0.8</td>\n",
       "      <td>26.0</td>\n",
       "      <td>29.0</td>\n",
       "      <td>41.0</td>\n",
       "      <td>0</td>\n",
       "      <td>Y</td>\n",
       "      <td>1</td>\n",
       "    </tr>\n",
       "  </tbody>\n",
       "</table>\n",
       "<p>55692 rows × 25 columns</p>\n",
       "</div>"
      ],
      "text/plain": [
       "      gender  age  height(cm)  weight(kg)  waist(cm)  eyesight(left)  \\\n",
       "ID                                                                     \n",
       "0          F   40         155          60       81.3             1.2   \n",
       "1          F   40         160          60       81.0             0.8   \n",
       "2          M   55         170          60       80.0             0.8   \n",
       "3          M   40         165          70       88.0             1.5   \n",
       "4          F   40         155          60       86.0             1.0   \n",
       "...      ...  ...         ...         ...        ...             ...   \n",
       "55676      F   40         170          65       75.0             0.9   \n",
       "55681      F   45         160          50       70.0             1.2   \n",
       "55683      F   55         160          50       68.5             1.0   \n",
       "55684      M   60         165          60       78.0             0.8   \n",
       "55691      M   55         160          65       85.0             0.9   \n",
       "\n",
       "       eyesight(right)  hearing(left)  hearing(right)  systolic  ...    LDL  \\\n",
       "ID                                                               ...          \n",
       "0                  1.0            1.0             1.0     114.0  ...  126.0   \n",
       "1                  0.6            1.0             1.0     119.0  ...  127.0   \n",
       "2                  0.8            1.0             1.0     138.0  ...  151.0   \n",
       "3                  1.5            1.0             1.0     100.0  ...  226.0   \n",
       "4                  1.0            1.0             1.0     120.0  ...  107.0   \n",
       "...                ...            ...             ...       ...  ...    ...   \n",
       "55676              0.9            1.0             1.0     110.0  ...  118.0   \n",
       "55681              1.2            1.0             1.0     101.0  ...   79.0   \n",
       "55683              1.2            1.0             1.0     117.0  ...   63.0   \n",
       "55684              1.0            1.0             1.0     133.0  ...  146.0   \n",
       "55691              0.7            1.0             1.0     124.0  ...  150.0   \n",
       "\n",
       "       hemoglobin  Urine protein  serum creatinine   AST   ALT   Gtp  \\\n",
       "ID                                                                     \n",
       "0            12.9            1.0               0.7  18.0  19.0  27.0   \n",
       "1            12.7            1.0               0.6  22.0  19.0  18.0   \n",
       "2            15.8            1.0               1.0  21.0  16.0  22.0   \n",
       "3            14.7            1.0               1.0  19.0  26.0  18.0   \n",
       "4            12.5            1.0               0.6  16.0  14.0  22.0   \n",
       "...           ...            ...               ...   ...   ...   ...   \n",
       "55676        12.3            1.0               0.6  14.0   7.0  10.0   \n",
       "55681        14.0            1.0               0.9  20.0  12.0  14.0   \n",
       "55683        12.4            1.0               0.5  17.0  11.0  12.0   \n",
       "55684        14.4            1.0               0.7  20.0  19.0  18.0   \n",
       "55691        15.0            1.0               0.8  26.0  29.0  41.0   \n",
       "\n",
       "       dental caries  tartar  smoking  \n",
       "ID                                     \n",
       "0                  0       Y        0  \n",
       "1                  0       Y        0  \n",
       "2                  0       N        1  \n",
       "3                  0       Y        0  \n",
       "4                  0       N        0  \n",
       "...              ...     ...      ...  \n",
       "55676              1       Y        0  \n",
       "55681              0       Y        0  \n",
       "55683              0       N        0  \n",
       "55684              0       N        0  \n",
       "55691              0       Y        1  \n",
       "\n",
       "[55692 rows x 25 columns]"
      ]
     },
     "execution_count": 6,
     "metadata": {},
     "output_type": "execute_result"
    }
   ],
   "source": [
    "dataset_col_drop_2 "
   ]
  },
  {
   "cell_type": "markdown",
   "id": "eab8abfd",
   "metadata": {},
   "source": [
    "#### feature importances_"
   ]
  },
  {
   "cell_type": "code",
   "execution_count": null,
   "id": "d7a1a0da",
   "metadata": {},
   "outputs": [],
   "source": [
    "gender                 0.277634\n",
    "Gtp                    0.073633\n",
    "triglyceride           0.061061\n",
    "systolic               0.047709\n",
    "hemoglobin             0.047482\n",
    "fasting blood sugar    0.046727\n",
    "waist(cm)              0.042801\n",
    "HDL                    0.042723\n",
    "Cholesterol            0.042082\n",
    "ALT                    0.041255\n",
    "AST                    0.039252\n",
    "relaxation             0.036689\n",
    "LDL                    0.036253\n",
    "age                    0.031503\n",
    "eyesight(right)        0.026580\n",
    "serum creatinine       0.024833\n",
    "eyesight(left)         0.022519\n",
    "weight(kg)             0.019872\n",
    "height(cm)             0.017660\n",
    "dental caries          0.007213\n",
    "tartar                 0.006103\n",
    "Urine protein          0.005824\n",
    "hearing(left)          0.001514\n",
    "hearing(right)         0.001079\n",
    "oral                   0.000000"
   ]
  },
  {
   "cell_type": "markdown",
   "id": "03efd3d1",
   "metadata": {},
   "source": [
    "#### 이 데이터 셋에 범주형 컬럼(문자열) 추가.\n",
    "- object : \n",
    "    - gender => 이거만 추가.\n",
    "    - oral, tartar => 중요도 낮은 것으로 보임.(첫번째 노트북 시각화 결과)"
   ]
  },
  {
   "cell_type": "code",
   "execution_count": 7,
   "id": "849c0b52",
   "metadata": {},
   "outputs": [
    {
     "data": {
      "text/html": [
       "<div>\n",
       "<style scoped>\n",
       "    .dataframe tbody tr th:only-of-type {\n",
       "        vertical-align: middle;\n",
       "    }\n",
       "\n",
       "    .dataframe tbody tr th {\n",
       "        vertical-align: top;\n",
       "    }\n",
       "\n",
       "    .dataframe thead th {\n",
       "        text-align: right;\n",
       "    }\n",
       "</style>\n",
       "<table border=\"1\" class=\"dataframe\">\n",
       "  <thead>\n",
       "    <tr style=\"text-align: right;\">\n",
       "      <th></th>\n",
       "      <th>gender</th>\n",
       "      <th>age</th>\n",
       "      <th>height(cm)</th>\n",
       "      <th>weight(kg)</th>\n",
       "      <th>waist(cm)</th>\n",
       "      <th>eyesight(left)</th>\n",
       "      <th>eyesight(right)</th>\n",
       "      <th>hearing(left)</th>\n",
       "      <th>hearing(right)</th>\n",
       "      <th>systolic</th>\n",
       "      <th>...</th>\n",
       "      <th>LDL</th>\n",
       "      <th>hemoglobin</th>\n",
       "      <th>Urine protein</th>\n",
       "      <th>serum creatinine</th>\n",
       "      <th>AST</th>\n",
       "      <th>ALT</th>\n",
       "      <th>Gtp</th>\n",
       "      <th>dental caries</th>\n",
       "      <th>tartar</th>\n",
       "      <th>smoking</th>\n",
       "    </tr>\n",
       "    <tr>\n",
       "      <th>ID</th>\n",
       "      <th></th>\n",
       "      <th></th>\n",
       "      <th></th>\n",
       "      <th></th>\n",
       "      <th></th>\n",
       "      <th></th>\n",
       "      <th></th>\n",
       "      <th></th>\n",
       "      <th></th>\n",
       "      <th></th>\n",
       "      <th></th>\n",
       "      <th></th>\n",
       "      <th></th>\n",
       "      <th></th>\n",
       "      <th></th>\n",
       "      <th></th>\n",
       "      <th></th>\n",
       "      <th></th>\n",
       "      <th></th>\n",
       "      <th></th>\n",
       "      <th></th>\n",
       "    </tr>\n",
       "  </thead>\n",
       "  <tbody>\n",
       "    <tr>\n",
       "      <th>0</th>\n",
       "      <td>F</td>\n",
       "      <td>40</td>\n",
       "      <td>155</td>\n",
       "      <td>60</td>\n",
       "      <td>81.3</td>\n",
       "      <td>1.2</td>\n",
       "      <td>1.0</td>\n",
       "      <td>1.0</td>\n",
       "      <td>1.0</td>\n",
       "      <td>114.0</td>\n",
       "      <td>...</td>\n",
       "      <td>126.0</td>\n",
       "      <td>12.9</td>\n",
       "      <td>1.0</td>\n",
       "      <td>0.7</td>\n",
       "      <td>18.0</td>\n",
       "      <td>19.0</td>\n",
       "      <td>27.0</td>\n",
       "      <td>0</td>\n",
       "      <td>Y</td>\n",
       "      <td>0</td>\n",
       "    </tr>\n",
       "    <tr>\n",
       "      <th>1</th>\n",
       "      <td>F</td>\n",
       "      <td>40</td>\n",
       "      <td>160</td>\n",
       "      <td>60</td>\n",
       "      <td>81.0</td>\n",
       "      <td>0.8</td>\n",
       "      <td>0.6</td>\n",
       "      <td>1.0</td>\n",
       "      <td>1.0</td>\n",
       "      <td>119.0</td>\n",
       "      <td>...</td>\n",
       "      <td>127.0</td>\n",
       "      <td>12.7</td>\n",
       "      <td>1.0</td>\n",
       "      <td>0.6</td>\n",
       "      <td>22.0</td>\n",
       "      <td>19.0</td>\n",
       "      <td>18.0</td>\n",
       "      <td>0</td>\n",
       "      <td>Y</td>\n",
       "      <td>0</td>\n",
       "    </tr>\n",
       "    <tr>\n",
       "      <th>2</th>\n",
       "      <td>M</td>\n",
       "      <td>55</td>\n",
       "      <td>170</td>\n",
       "      <td>60</td>\n",
       "      <td>80.0</td>\n",
       "      <td>0.8</td>\n",
       "      <td>0.8</td>\n",
       "      <td>1.0</td>\n",
       "      <td>1.0</td>\n",
       "      <td>138.0</td>\n",
       "      <td>...</td>\n",
       "      <td>151.0</td>\n",
       "      <td>15.8</td>\n",
       "      <td>1.0</td>\n",
       "      <td>1.0</td>\n",
       "      <td>21.0</td>\n",
       "      <td>16.0</td>\n",
       "      <td>22.0</td>\n",
       "      <td>0</td>\n",
       "      <td>N</td>\n",
       "      <td>1</td>\n",
       "    </tr>\n",
       "    <tr>\n",
       "      <th>3</th>\n",
       "      <td>M</td>\n",
       "      <td>40</td>\n",
       "      <td>165</td>\n",
       "      <td>70</td>\n",
       "      <td>88.0</td>\n",
       "      <td>1.5</td>\n",
       "      <td>1.5</td>\n",
       "      <td>1.0</td>\n",
       "      <td>1.0</td>\n",
       "      <td>100.0</td>\n",
       "      <td>...</td>\n",
       "      <td>226.0</td>\n",
       "      <td>14.7</td>\n",
       "      <td>1.0</td>\n",
       "      <td>1.0</td>\n",
       "      <td>19.0</td>\n",
       "      <td>26.0</td>\n",
       "      <td>18.0</td>\n",
       "      <td>0</td>\n",
       "      <td>Y</td>\n",
       "      <td>0</td>\n",
       "    </tr>\n",
       "    <tr>\n",
       "      <th>4</th>\n",
       "      <td>F</td>\n",
       "      <td>40</td>\n",
       "      <td>155</td>\n",
       "      <td>60</td>\n",
       "      <td>86.0</td>\n",
       "      <td>1.0</td>\n",
       "      <td>1.0</td>\n",
       "      <td>1.0</td>\n",
       "      <td>1.0</td>\n",
       "      <td>120.0</td>\n",
       "      <td>...</td>\n",
       "      <td>107.0</td>\n",
       "      <td>12.5</td>\n",
       "      <td>1.0</td>\n",
       "      <td>0.6</td>\n",
       "      <td>16.0</td>\n",
       "      <td>14.0</td>\n",
       "      <td>22.0</td>\n",
       "      <td>0</td>\n",
       "      <td>N</td>\n",
       "      <td>0</td>\n",
       "    </tr>\n",
       "  </tbody>\n",
       "</table>\n",
       "<p>5 rows × 25 columns</p>\n",
       "</div>"
      ],
      "text/plain": [
       "   gender  age  height(cm)  weight(kg)  waist(cm)  eyesight(left)  \\\n",
       "ID                                                                  \n",
       "0       F   40         155          60       81.3             1.2   \n",
       "1       F   40         160          60       81.0             0.8   \n",
       "2       M   55         170          60       80.0             0.8   \n",
       "3       M   40         165          70       88.0             1.5   \n",
       "4       F   40         155          60       86.0             1.0   \n",
       "\n",
       "    eyesight(right)  hearing(left)  hearing(right)  systolic  ...    LDL  \\\n",
       "ID                                                            ...          \n",
       "0               1.0            1.0             1.0     114.0  ...  126.0   \n",
       "1               0.6            1.0             1.0     119.0  ...  127.0   \n",
       "2               0.8            1.0             1.0     138.0  ...  151.0   \n",
       "3               1.5            1.0             1.0     100.0  ...  226.0   \n",
       "4               1.0            1.0             1.0     120.0  ...  107.0   \n",
       "\n",
       "    hemoglobin  Urine protein  serum creatinine   AST   ALT   Gtp  \\\n",
       "ID                                                                  \n",
       "0         12.9            1.0               0.7  18.0  19.0  27.0   \n",
       "1         12.7            1.0               0.6  22.0  19.0  18.0   \n",
       "2         15.8            1.0               1.0  21.0  16.0  22.0   \n",
       "3         14.7            1.0               1.0  19.0  26.0  18.0   \n",
       "4         12.5            1.0               0.6  16.0  14.0  22.0   \n",
       "\n",
       "    dental caries  tartar  smoking  \n",
       "ID                                  \n",
       "0               0       Y        0  \n",
       "1               0       Y        0  \n",
       "2               0       N        1  \n",
       "3               0       Y        0  \n",
       "4               0       N        0  \n",
       "\n",
       "[5 rows x 25 columns]"
      ]
     },
     "execution_count": 7,
     "metadata": {},
     "output_type": "execute_result"
    }
   ],
   "source": [
    "dataset_col_drop_2.head()"
   ]
  },
  {
   "cell_type": "code",
   "execution_count": 89,
   "id": "6d30883a",
   "metadata": {},
   "outputs": [
    {
     "data": {
      "text/plain": [
       "ID\n",
       "0        F\n",
       "1        F\n",
       "2        M\n",
       "3        M\n",
       "4        F\n",
       "        ..\n",
       "55676    F\n",
       "55681    F\n",
       "55683    F\n",
       "55684    M\n",
       "55691    M\n",
       "Name: gender, Length: 55692, dtype: object"
      ]
     },
     "execution_count": 89,
     "metadata": {},
     "output_type": "execute_result"
    }
   ],
   "source": [
    "dataset['gender']"
   ]
  },
  {
   "cell_type": "code",
   "execution_count": 10,
   "id": "7ba04705",
   "metadata": {
    "collapsed": true
   },
   "outputs": [
    {
     "ename": "ValueError",
     "evalue": "cannot insert gender, already exists",
     "output_type": "error",
     "traceback": [
      "\u001b[1;31m---------------------------------------------------------------------------\u001b[0m",
      "\u001b[1;31mValueError\u001b[0m                                Traceback (most recent call last)",
      "Input \u001b[1;32mIn [10]\u001b[0m, in \u001b[0;36m<cell line: 1>\u001b[1;34m()\u001b[0m\n\u001b[1;32m----> 1\u001b[0m \u001b[43mdataset_col_drop_1\u001b[49m\u001b[38;5;241;43m.\u001b[39;49m\u001b[43minsert\u001b[49m\u001b[43m(\u001b[49m\u001b[38;5;241;43m7\u001b[39;49m\u001b[43m,\u001b[49m\u001b[43m \u001b[49m\u001b[38;5;124;43m'\u001b[39;49m\u001b[38;5;124;43mgender\u001b[39;49m\u001b[38;5;124;43m'\u001b[39;49m\u001b[43m,\u001b[49m\u001b[43m \u001b[49m\u001b[43mdataset\u001b[49m\u001b[43m[\u001b[49m\u001b[38;5;124;43m'\u001b[39;49m\u001b[38;5;124;43mgender\u001b[39;49m\u001b[38;5;124;43m'\u001b[39;49m\u001b[43m]\u001b[49m\u001b[43m)\u001b[49m\n\u001b[0;32m      3\u001b[0m dataset_col_drop_1\u001b[38;5;241m.\u001b[39mhead()\n",
      "File \u001b[1;32m~\\anaconda3\\envs\\smoking\\lib\\site-packages\\pandas\\core\\frame.py:4440\u001b[0m, in \u001b[0;36mDataFrame.insert\u001b[1;34m(self, loc, column, value, allow_duplicates)\u001b[0m\n\u001b[0;32m   4434\u001b[0m     \u001b[38;5;28;01mraise\u001b[39;00m \u001b[38;5;167;01mValueError\u001b[39;00m(\n\u001b[0;32m   4435\u001b[0m         \u001b[38;5;124m\"\u001b[39m\u001b[38;5;124mCannot specify \u001b[39m\u001b[38;5;124m'\u001b[39m\u001b[38;5;124mallow_duplicates=True\u001b[39m\u001b[38;5;124m'\u001b[39m\u001b[38;5;124m when \u001b[39m\u001b[38;5;124m\"\u001b[39m\n\u001b[0;32m   4436\u001b[0m         \u001b[38;5;124m\"\u001b[39m\u001b[38;5;124m'\u001b[39m\u001b[38;5;124mself.flags.allows_duplicate_labels\u001b[39m\u001b[38;5;124m'\u001b[39m\u001b[38;5;124m is False.\u001b[39m\u001b[38;5;124m\"\u001b[39m\n\u001b[0;32m   4437\u001b[0m     )\n\u001b[0;32m   4438\u001b[0m \u001b[38;5;28;01mif\u001b[39;00m \u001b[38;5;129;01mnot\u001b[39;00m allow_duplicates \u001b[38;5;129;01mand\u001b[39;00m column \u001b[38;5;129;01min\u001b[39;00m \u001b[38;5;28mself\u001b[39m\u001b[38;5;241m.\u001b[39mcolumns:\n\u001b[0;32m   4439\u001b[0m     \u001b[38;5;66;03m# Should this be a different kind of error??\u001b[39;00m\n\u001b[1;32m-> 4440\u001b[0m     \u001b[38;5;28;01mraise\u001b[39;00m \u001b[38;5;167;01mValueError\u001b[39;00m(\u001b[38;5;124mf\u001b[39m\u001b[38;5;124m\"\u001b[39m\u001b[38;5;124mcannot insert \u001b[39m\u001b[38;5;132;01m{\u001b[39;00mcolumn\u001b[38;5;132;01m}\u001b[39;00m\u001b[38;5;124m, already exists\u001b[39m\u001b[38;5;124m\"\u001b[39m)\n\u001b[0;32m   4441\u001b[0m \u001b[38;5;28;01mif\u001b[39;00m \u001b[38;5;129;01mnot\u001b[39;00m \u001b[38;5;28misinstance\u001b[39m(loc, \u001b[38;5;28mint\u001b[39m):\n\u001b[0;32m   4442\u001b[0m     \u001b[38;5;28;01mraise\u001b[39;00m \u001b[38;5;167;01mTypeError\u001b[39;00m(\u001b[38;5;124m\"\u001b[39m\u001b[38;5;124mloc must be int\u001b[39m\u001b[38;5;124m\"\u001b[39m)\n",
      "\u001b[1;31mValueError\u001b[0m: cannot insert gender, already exists"
     ]
    }
   ],
   "source": [
    "dataset_col_drop_1.insert(7, 'gender', dataset['gender'])\n",
    "\n",
    "dataset_col_drop_1.head()"
   ]
  },
  {
   "cell_type": "markdown",
   "id": "8065b25e",
   "metadata": {},
   "source": [
    "### 중요하다고 예측되는 몇 가지 추가\n",
    "- systolic \n",
    "- fasting blood sugar\n",
    "- HDL\n",
    "- Cholesterol            \n",
    "- ALT                    \n",
    "- AST  "
   ]
  },
  {
   "cell_type": "code",
   "execution_count": null,
   "id": "7dc42e66",
   "metadata": {},
   "outputs": [],
   "source": [
    "dataset_col_drop_2.columns"
   ]
  },
  {
   "cell_type": "code",
   "execution_count": null,
   "id": "07d38998",
   "metadata": {},
   "outputs": [],
   "source": [
    "dataset_col_drop_2.insert(1, 'systolic', dataset['systolic'])"
   ]
  },
  {
   "cell_type": "code",
   "execution_count": null,
   "id": "34278bc4",
   "metadata": {},
   "outputs": [],
   "source": []
  },
  {
   "cell_type": "code",
   "execution_count": 90,
   "id": "41e2834b",
   "metadata": {},
   "outputs": [
    {
     "name": "stdout",
     "output_type": "stream",
     "text": [
      "<class 'pandas.core.frame.DataFrame'>\n",
      "Int64Index: 55692 entries, 0 to 55691\n",
      "Data columns (total 25 columns):\n",
      " #   Column               Non-Null Count  Dtype  \n",
      "---  ------               --------------  -----  \n",
      " 0   gender               55692 non-null  object \n",
      " 1   age                  55692 non-null  int64  \n",
      " 2   height(cm)           55692 non-null  int64  \n",
      " 3   weight(kg)           55692 non-null  int64  \n",
      " 4   waist(cm)            55692 non-null  float64\n",
      " 5   eyesight(left)       55692 non-null  float64\n",
      " 6   eyesight(right)      55692 non-null  float64\n",
      " 7   hearing(left)        55692 non-null  float64\n",
      " 8   hearing(right)       55692 non-null  float64\n",
      " 9   systolic             55692 non-null  float64\n",
      " 10  relaxation           55692 non-null  float64\n",
      " 11  fasting blood sugar  55692 non-null  float64\n",
      " 12  Cholesterol          55692 non-null  float64\n",
      " 13  triglyceride         55692 non-null  float64\n",
      " 14  HDL                  55692 non-null  float64\n",
      " 15  LDL                  55692 non-null  float64\n",
      " 16  hemoglobin           55692 non-null  float64\n",
      " 17  Urine protein        55692 non-null  float64\n",
      " 18  serum creatinine     55692 non-null  float64\n",
      " 19  AST                  55692 non-null  float64\n",
      " 20  ALT                  55692 non-null  float64\n",
      " 21  Gtp                  55692 non-null  float64\n",
      " 22  dental caries        55692 non-null  int64  \n",
      " 23  tartar               55692 non-null  object \n",
      " 24  smoking              55692 non-null  int64  \n",
      "dtypes: float64(18), int64(5), object(2)\n",
      "memory usage: 13.1+ MB\n"
     ]
    }
   ],
   "source": [
    "dataset_col_drop_2.info()"
   ]
  },
  {
   "cell_type": "markdown",
   "id": "d585eafc",
   "metadata": {},
   "source": [
    "## 이상치 계산\n",
    "- IQR\n",
    "- 하기 전에 범주형 데이터 직접 제거."
   ]
  },
  {
   "cell_type": "code",
   "execution_count": 12,
   "id": "e176d208",
   "metadata": {},
   "outputs": [
    {
     "data": {
      "text/html": [
       "<div>\n",
       "<style scoped>\n",
       "    .dataframe tbody tr th:only-of-type {\n",
       "        vertical-align: middle;\n",
       "    }\n",
       "\n",
       "    .dataframe tbody tr th {\n",
       "        vertical-align: top;\n",
       "    }\n",
       "\n",
       "    .dataframe thead th {\n",
       "        text-align: right;\n",
       "    }\n",
       "</style>\n",
       "<table border=\"1\" class=\"dataframe\">\n",
       "  <thead>\n",
       "    <tr style=\"text-align: right;\">\n",
       "      <th></th>\n",
       "      <th>count</th>\n",
       "      <th>mean</th>\n",
       "      <th>std</th>\n",
       "      <th>min</th>\n",
       "      <th>25%</th>\n",
       "      <th>50%</th>\n",
       "      <th>75%</th>\n",
       "      <th>max</th>\n",
       "    </tr>\n",
       "  </thead>\n",
       "  <tbody>\n",
       "    <tr>\n",
       "      <th>age</th>\n",
       "      <td>55692.0</td>\n",
       "      <td>44.182917</td>\n",
       "      <td>12.071418</td>\n",
       "      <td>20.0</td>\n",
       "      <td>40.0</td>\n",
       "      <td>40.0</td>\n",
       "      <td>55.0</td>\n",
       "      <td>85.0</td>\n",
       "    </tr>\n",
       "    <tr>\n",
       "      <th>height(cm)</th>\n",
       "      <td>55692.0</td>\n",
       "      <td>164.649321</td>\n",
       "      <td>9.194597</td>\n",
       "      <td>130.0</td>\n",
       "      <td>160.0</td>\n",
       "      <td>165.0</td>\n",
       "      <td>170.0</td>\n",
       "      <td>190.0</td>\n",
       "    </tr>\n",
       "    <tr>\n",
       "      <th>weight(kg)</th>\n",
       "      <td>55692.0</td>\n",
       "      <td>65.864936</td>\n",
       "      <td>12.820306</td>\n",
       "      <td>30.0</td>\n",
       "      <td>55.0</td>\n",
       "      <td>65.0</td>\n",
       "      <td>75.0</td>\n",
       "      <td>135.0</td>\n",
       "    </tr>\n",
       "    <tr>\n",
       "      <th>waist(cm)</th>\n",
       "      <td>55692.0</td>\n",
       "      <td>82.046418</td>\n",
       "      <td>9.274223</td>\n",
       "      <td>51.0</td>\n",
       "      <td>76.0</td>\n",
       "      <td>82.0</td>\n",
       "      <td>88.0</td>\n",
       "      <td>129.0</td>\n",
       "    </tr>\n",
       "    <tr>\n",
       "      <th>eyesight(left)</th>\n",
       "      <td>55692.0</td>\n",
       "      <td>1.012623</td>\n",
       "      <td>0.486873</td>\n",
       "      <td>0.1</td>\n",
       "      <td>0.8</td>\n",
       "      <td>1.0</td>\n",
       "      <td>1.2</td>\n",
       "      <td>9.9</td>\n",
       "    </tr>\n",
       "    <tr>\n",
       "      <th>eyesight(right)</th>\n",
       "      <td>55692.0</td>\n",
       "      <td>1.007443</td>\n",
       "      <td>0.485964</td>\n",
       "      <td>0.1</td>\n",
       "      <td>0.8</td>\n",
       "      <td>1.0</td>\n",
       "      <td>1.2</td>\n",
       "      <td>9.9</td>\n",
       "    </tr>\n",
       "    <tr>\n",
       "      <th>hearing(left)</th>\n",
       "      <td>55692.0</td>\n",
       "      <td>1.025587</td>\n",
       "      <td>0.157902</td>\n",
       "      <td>1.0</td>\n",
       "      <td>1.0</td>\n",
       "      <td>1.0</td>\n",
       "      <td>1.0</td>\n",
       "      <td>2.0</td>\n",
       "    </tr>\n",
       "    <tr>\n",
       "      <th>hearing(right)</th>\n",
       "      <td>55692.0</td>\n",
       "      <td>1.026144</td>\n",
       "      <td>0.159564</td>\n",
       "      <td>1.0</td>\n",
       "      <td>1.0</td>\n",
       "      <td>1.0</td>\n",
       "      <td>1.0</td>\n",
       "      <td>2.0</td>\n",
       "    </tr>\n",
       "    <tr>\n",
       "      <th>systolic</th>\n",
       "      <td>55692.0</td>\n",
       "      <td>121.494218</td>\n",
       "      <td>13.675989</td>\n",
       "      <td>71.0</td>\n",
       "      <td>112.0</td>\n",
       "      <td>120.0</td>\n",
       "      <td>130.0</td>\n",
       "      <td>240.0</td>\n",
       "    </tr>\n",
       "    <tr>\n",
       "      <th>relaxation</th>\n",
       "      <td>55692.0</td>\n",
       "      <td>76.004830</td>\n",
       "      <td>9.679278</td>\n",
       "      <td>40.0</td>\n",
       "      <td>70.0</td>\n",
       "      <td>76.0</td>\n",
       "      <td>82.0</td>\n",
       "      <td>146.0</td>\n",
       "    </tr>\n",
       "    <tr>\n",
       "      <th>fasting blood sugar</th>\n",
       "      <td>55692.0</td>\n",
       "      <td>99.312325</td>\n",
       "      <td>20.795591</td>\n",
       "      <td>46.0</td>\n",
       "      <td>89.0</td>\n",
       "      <td>96.0</td>\n",
       "      <td>104.0</td>\n",
       "      <td>505.0</td>\n",
       "    </tr>\n",
       "    <tr>\n",
       "      <th>Cholesterol</th>\n",
       "      <td>55692.0</td>\n",
       "      <td>196.901422</td>\n",
       "      <td>36.297940</td>\n",
       "      <td>55.0</td>\n",
       "      <td>172.0</td>\n",
       "      <td>195.0</td>\n",
       "      <td>220.0</td>\n",
       "      <td>445.0</td>\n",
       "    </tr>\n",
       "    <tr>\n",
       "      <th>triglyceride</th>\n",
       "      <td>55692.0</td>\n",
       "      <td>126.665697</td>\n",
       "      <td>71.639817</td>\n",
       "      <td>8.0</td>\n",
       "      <td>74.0</td>\n",
       "      <td>108.0</td>\n",
       "      <td>160.0</td>\n",
       "      <td>999.0</td>\n",
       "    </tr>\n",
       "    <tr>\n",
       "      <th>HDL</th>\n",
       "      <td>55692.0</td>\n",
       "      <td>57.290347</td>\n",
       "      <td>14.738963</td>\n",
       "      <td>4.0</td>\n",
       "      <td>47.0</td>\n",
       "      <td>55.0</td>\n",
       "      <td>66.0</td>\n",
       "      <td>618.0</td>\n",
       "    </tr>\n",
       "    <tr>\n",
       "      <th>LDL</th>\n",
       "      <td>55692.0</td>\n",
       "      <td>114.964501</td>\n",
       "      <td>40.926476</td>\n",
       "      <td>1.0</td>\n",
       "      <td>92.0</td>\n",
       "      <td>113.0</td>\n",
       "      <td>136.0</td>\n",
       "      <td>1860.0</td>\n",
       "    </tr>\n",
       "    <tr>\n",
       "      <th>hemoglobin</th>\n",
       "      <td>55692.0</td>\n",
       "      <td>14.622592</td>\n",
       "      <td>1.564498</td>\n",
       "      <td>4.9</td>\n",
       "      <td>13.6</td>\n",
       "      <td>14.8</td>\n",
       "      <td>15.8</td>\n",
       "      <td>21.1</td>\n",
       "    </tr>\n",
       "    <tr>\n",
       "      <th>Urine protein</th>\n",
       "      <td>55692.0</td>\n",
       "      <td>1.087212</td>\n",
       "      <td>0.404882</td>\n",
       "      <td>1.0</td>\n",
       "      <td>1.0</td>\n",
       "      <td>1.0</td>\n",
       "      <td>1.0</td>\n",
       "      <td>6.0</td>\n",
       "    </tr>\n",
       "    <tr>\n",
       "      <th>serum creatinine</th>\n",
       "      <td>55692.0</td>\n",
       "      <td>0.885738</td>\n",
       "      <td>0.221524</td>\n",
       "      <td>0.1</td>\n",
       "      <td>0.8</td>\n",
       "      <td>0.9</td>\n",
       "      <td>1.0</td>\n",
       "      <td>11.6</td>\n",
       "    </tr>\n",
       "    <tr>\n",
       "      <th>AST</th>\n",
       "      <td>55692.0</td>\n",
       "      <td>26.182935</td>\n",
       "      <td>19.355460</td>\n",
       "      <td>6.0</td>\n",
       "      <td>19.0</td>\n",
       "      <td>23.0</td>\n",
       "      <td>28.0</td>\n",
       "      <td>1311.0</td>\n",
       "    </tr>\n",
       "    <tr>\n",
       "      <th>ALT</th>\n",
       "      <td>55692.0</td>\n",
       "      <td>27.036037</td>\n",
       "      <td>30.947853</td>\n",
       "      <td>1.0</td>\n",
       "      <td>15.0</td>\n",
       "      <td>21.0</td>\n",
       "      <td>31.0</td>\n",
       "      <td>2914.0</td>\n",
       "    </tr>\n",
       "    <tr>\n",
       "      <th>Gtp</th>\n",
       "      <td>55692.0</td>\n",
       "      <td>39.952201</td>\n",
       "      <td>50.290539</td>\n",
       "      <td>1.0</td>\n",
       "      <td>17.0</td>\n",
       "      <td>25.0</td>\n",
       "      <td>43.0</td>\n",
       "      <td>999.0</td>\n",
       "    </tr>\n",
       "    <tr>\n",
       "      <th>dental caries</th>\n",
       "      <td>55692.0</td>\n",
       "      <td>0.213334</td>\n",
       "      <td>0.409665</td>\n",
       "      <td>0.0</td>\n",
       "      <td>0.0</td>\n",
       "      <td>0.0</td>\n",
       "      <td>0.0</td>\n",
       "      <td>1.0</td>\n",
       "    </tr>\n",
       "    <tr>\n",
       "      <th>smoking</th>\n",
       "      <td>55692.0</td>\n",
       "      <td>0.367288</td>\n",
       "      <td>0.482070</td>\n",
       "      <td>0.0</td>\n",
       "      <td>0.0</td>\n",
       "      <td>0.0</td>\n",
       "      <td>1.0</td>\n",
       "      <td>1.0</td>\n",
       "    </tr>\n",
       "  </tbody>\n",
       "</table>\n",
       "</div>"
      ],
      "text/plain": [
       "                       count        mean        std    min    25%    50%  \\\n",
       "age                  55692.0   44.182917  12.071418   20.0   40.0   40.0   \n",
       "height(cm)           55692.0  164.649321   9.194597  130.0  160.0  165.0   \n",
       "weight(kg)           55692.0   65.864936  12.820306   30.0   55.0   65.0   \n",
       "waist(cm)            55692.0   82.046418   9.274223   51.0   76.0   82.0   \n",
       "eyesight(left)       55692.0    1.012623   0.486873    0.1    0.8    1.0   \n",
       "eyesight(right)      55692.0    1.007443   0.485964    0.1    0.8    1.0   \n",
       "hearing(left)        55692.0    1.025587   0.157902    1.0    1.0    1.0   \n",
       "hearing(right)       55692.0    1.026144   0.159564    1.0    1.0    1.0   \n",
       "systolic             55692.0  121.494218  13.675989   71.0  112.0  120.0   \n",
       "relaxation           55692.0   76.004830   9.679278   40.0   70.0   76.0   \n",
       "fasting blood sugar  55692.0   99.312325  20.795591   46.0   89.0   96.0   \n",
       "Cholesterol          55692.0  196.901422  36.297940   55.0  172.0  195.0   \n",
       "triglyceride         55692.0  126.665697  71.639817    8.0   74.0  108.0   \n",
       "HDL                  55692.0   57.290347  14.738963    4.0   47.0   55.0   \n",
       "LDL                  55692.0  114.964501  40.926476    1.0   92.0  113.0   \n",
       "hemoglobin           55692.0   14.622592   1.564498    4.9   13.6   14.8   \n",
       "Urine protein        55692.0    1.087212   0.404882    1.0    1.0    1.0   \n",
       "serum creatinine     55692.0    0.885738   0.221524    0.1    0.8    0.9   \n",
       "AST                  55692.0   26.182935  19.355460    6.0   19.0   23.0   \n",
       "ALT                  55692.0   27.036037  30.947853    1.0   15.0   21.0   \n",
       "Gtp                  55692.0   39.952201  50.290539    1.0   17.0   25.0   \n",
       "dental caries        55692.0    0.213334   0.409665    0.0    0.0    0.0   \n",
       "smoking              55692.0    0.367288   0.482070    0.0    0.0    0.0   \n",
       "\n",
       "                       75%     max  \n",
       "age                   55.0    85.0  \n",
       "height(cm)           170.0   190.0  \n",
       "weight(kg)            75.0   135.0  \n",
       "waist(cm)             88.0   129.0  \n",
       "eyesight(left)         1.2     9.9  \n",
       "eyesight(right)        1.2     9.9  \n",
       "hearing(left)          1.0     2.0  \n",
       "hearing(right)         1.0     2.0  \n",
       "systolic             130.0   240.0  \n",
       "relaxation            82.0   146.0  \n",
       "fasting blood sugar  104.0   505.0  \n",
       "Cholesterol          220.0   445.0  \n",
       "triglyceride         160.0   999.0  \n",
       "HDL                   66.0   618.0  \n",
       "LDL                  136.0  1860.0  \n",
       "hemoglobin            15.8    21.1  \n",
       "Urine protein          1.0     6.0  \n",
       "serum creatinine       1.0    11.6  \n",
       "AST                   28.0  1311.0  \n",
       "ALT                   31.0  2914.0  \n",
       "Gtp                   43.0   999.0  \n",
       "dental caries          0.0     1.0  \n",
       "smoking                1.0     1.0  "
      ]
     },
     "execution_count": 12,
     "metadata": {},
     "output_type": "execute_result"
    }
   ],
   "source": [
    "dataset.describe().T"
   ]
  },
  {
   "cell_type": "code",
   "execution_count": 13,
   "id": "6115ea9d",
   "metadata": {
    "scrolled": true
   },
   "outputs": [
    {
     "data": {
      "text/plain": [
       "gender                   2\n",
       "dental caries            2\n",
       "tartar                   2\n",
       "hearing(right)           2\n",
       "hearing(left)            2\n",
       "smoking                  2\n",
       "Urine protein            6\n",
       "height(cm)              13\n",
       "age                     14\n",
       "eyesight(right)         17\n",
       "eyesight(left)          19\n",
       "weight(kg)              22\n",
       "serum creatinine        38\n",
       "relaxation              95\n",
       "HDL                    126\n",
       "systolic               130\n",
       "hemoglobin             145\n",
       "AST                    219\n",
       "ALT                    245\n",
       "fasting blood sugar    276\n",
       "Cholesterol            286\n",
       "LDL                    289\n",
       "triglyceride           390\n",
       "Gtp                    488\n",
       "waist(cm)              566\n",
       "dtype: int64"
      ]
     },
     "execution_count": 13,
     "metadata": {},
     "output_type": "execute_result"
    }
   ],
   "source": [
    "dataset_col_drop_2.nunique().sort_values()"
   ]
  },
  {
   "cell_type": "code",
   "execution_count": 14,
   "id": "e85d6d0b",
   "metadata": {},
   "outputs": [
    {
     "data": {
      "text/plain": [
       "(55692, 20)"
      ]
     },
     "execution_count": 14,
     "metadata": {},
     "output_type": "execute_result"
    }
   ],
   "source": [
    "# 연속형 데이터만 \n",
    "\n",
    "dataset_c = dataset_col_drop_2.drop(labels = ['gender','smoking','tartar','Urine protein', 'dental caries'], axis=1)\n",
    "dataset_c.shape"
   ]
  },
  {
   "cell_type": "code",
   "execution_count": 15,
   "id": "27761baa",
   "metadata": {},
   "outputs": [],
   "source": [
    "def outlier_check(dataset):\n",
    "    for data in dataset.columns:\n",
    "        col_data = dataset[data]\n",
    "        q1 = np.percentile(col_data, 25)\n",
    "        q3 = np.percentile(col_data, 75)\n",
    "        IQR = 1.5 * (q3 - q1)\n",
    "        lowest = q1 - IQR\n",
    "        highest = q3 + IQR\n",
    "        outlier_idx = dataset[(col_data < lowest) | (col_data > highest)].index\n",
    "        print(f'{data}의 이상치 : {len(outlier_idx)}')\n",
    "    return outlier_idx"
   ]
  },
  {
   "cell_type": "code",
   "execution_count": 16,
   "id": "a605ae05",
   "metadata": {},
   "outputs": [
    {
     "name": "stdout",
     "output_type": "stream",
     "text": [
      "age의 이상치 : 295\n",
      "height(cm)의 이상치 : 249\n",
      "weight(kg)의 이상치 : 198\n",
      "waist(cm)의 이상치 : 496\n",
      "eyesight(left)의 이상치 : 1314\n",
      "eyesight(right)의 이상치 : 1357\n",
      "hearing(left)의 이상치 : 1425\n",
      "hearing(right)의 이상치 : 1456\n",
      "systolic의 이상치 : 685\n",
      "relaxation의 이상치 : 706\n",
      "fasting blood sugar의 이상치 : 3298\n",
      "Cholesterol의 이상치 : 605\n",
      "triglyceride의 이상치 : 2256\n",
      "HDL의 이상치 : 1011\n",
      "LDL의 이상치 : 634\n",
      "hemoglobin의 이상치 : 669\n",
      "serum creatinine의 이상치 : 3147\n",
      "AST의 이상치 : 3699\n",
      "ALT의 이상치 : 3710\n",
      "Gtp의 이상치 : 5019\n"
     ]
    }
   ],
   "source": [
    "out_idx = outlier_check(dataset_c) # 연속형 데이터 셋 dataset_c"
   ]
  },
  {
   "cell_type": "code",
   "execution_count": 17,
   "id": "2e1a9a8b",
   "metadata": {},
   "outputs": [
    {
     "data": {
      "text/plain": [
       "(5019,)"
      ]
     },
     "execution_count": 17,
     "metadata": {},
     "output_type": "execute_result"
    }
   ],
   "source": [
    "out_idx.shape"
   ]
  },
  {
   "cell_type": "code",
   "execution_count": 18,
   "id": "b1c0d765",
   "metadata": {},
   "outputs": [],
   "source": [
    "def outlier_drop(dataset, idx):\n",
    "    data = dataset.drop(idx, axis = 0)\n",
    "    return data\n"
   ]
  },
  {
   "cell_type": "code",
   "execution_count": 19,
   "id": "c11e5361",
   "metadata": {},
   "outputs": [],
   "source": [
    "dataset_drop = outlier_drop(dataset_col_drop_2, out_idx)"
   ]
  },
  {
   "cell_type": "code",
   "execution_count": 22,
   "id": "c0a1f186",
   "metadata": {},
   "outputs": [
    {
     "data": {
      "text/html": [
       "<div>\n",
       "<style scoped>\n",
       "    .dataframe tbody tr th:only-of-type {\n",
       "        vertical-align: middle;\n",
       "    }\n",
       "\n",
       "    .dataframe tbody tr th {\n",
       "        vertical-align: top;\n",
       "    }\n",
       "\n",
       "    .dataframe thead th {\n",
       "        text-align: right;\n",
       "    }\n",
       "</style>\n",
       "<table border=\"1\" class=\"dataframe\">\n",
       "  <thead>\n",
       "    <tr style=\"text-align: right;\">\n",
       "      <th></th>\n",
       "      <th>count</th>\n",
       "      <th>mean</th>\n",
       "      <th>std</th>\n",
       "      <th>min</th>\n",
       "      <th>25%</th>\n",
       "      <th>50%</th>\n",
       "      <th>75%</th>\n",
       "      <th>max</th>\n",
       "    </tr>\n",
       "  </thead>\n",
       "  <tbody>\n",
       "    <tr>\n",
       "      <th>age</th>\n",
       "      <td>50673.0</td>\n",
       "      <td>44.185760</td>\n",
       "      <td>12.164713</td>\n",
       "      <td>20.0</td>\n",
       "      <td>40.0</td>\n",
       "      <td>40.0</td>\n",
       "      <td>55.0</td>\n",
       "      <td>85.0</td>\n",
       "    </tr>\n",
       "    <tr>\n",
       "      <th>height(cm)</th>\n",
       "      <td>50673.0</td>\n",
       "      <td>164.334162</td>\n",
       "      <td>9.266000</td>\n",
       "      <td>130.0</td>\n",
       "      <td>155.0</td>\n",
       "      <td>165.0</td>\n",
       "      <td>170.0</td>\n",
       "      <td>190.0</td>\n",
       "    </tr>\n",
       "    <tr>\n",
       "      <th>weight(kg)</th>\n",
       "      <td>50673.0</td>\n",
       "      <td>65.137154</td>\n",
       "      <td>12.524642</td>\n",
       "      <td>30.0</td>\n",
       "      <td>55.0</td>\n",
       "      <td>65.0</td>\n",
       "      <td>75.0</td>\n",
       "      <td>135.0</td>\n",
       "    </tr>\n",
       "    <tr>\n",
       "      <th>waist(cm)</th>\n",
       "      <td>50673.0</td>\n",
       "      <td>81.454526</td>\n",
       "      <td>9.101062</td>\n",
       "      <td>53.0</td>\n",
       "      <td>75.0</td>\n",
       "      <td>81.0</td>\n",
       "      <td>87.2</td>\n",
       "      <td>129.0</td>\n",
       "    </tr>\n",
       "    <tr>\n",
       "      <th>eyesight(left)</th>\n",
       "      <td>50673.0</td>\n",
       "      <td>1.010578</td>\n",
       "      <td>0.482721</td>\n",
       "      <td>0.1</td>\n",
       "      <td>0.8</td>\n",
       "      <td>1.0</td>\n",
       "      <td>1.2</td>\n",
       "      <td>9.9</td>\n",
       "    </tr>\n",
       "    <tr>\n",
       "      <th>eyesight(right)</th>\n",
       "      <td>50673.0</td>\n",
       "      <td>1.004685</td>\n",
       "      <td>0.477038</td>\n",
       "      <td>0.1</td>\n",
       "      <td>0.8</td>\n",
       "      <td>1.0</td>\n",
       "      <td>1.2</td>\n",
       "      <td>9.9</td>\n",
       "    </tr>\n",
       "    <tr>\n",
       "      <th>hearing(left)</th>\n",
       "      <td>50673.0</td>\n",
       "      <td>1.025339</td>\n",
       "      <td>0.157154</td>\n",
       "      <td>1.0</td>\n",
       "      <td>1.0</td>\n",
       "      <td>1.0</td>\n",
       "      <td>1.0</td>\n",
       "      <td>2.0</td>\n",
       "    </tr>\n",
       "    <tr>\n",
       "      <th>hearing(right)</th>\n",
       "      <td>50673.0</td>\n",
       "      <td>1.025773</td>\n",
       "      <td>0.158459</td>\n",
       "      <td>1.0</td>\n",
       "      <td>1.0</td>\n",
       "      <td>1.0</td>\n",
       "      <td>1.0</td>\n",
       "      <td>2.0</td>\n",
       "    </tr>\n",
       "    <tr>\n",
       "      <th>systolic</th>\n",
       "      <td>50673.0</td>\n",
       "      <td>120.903282</td>\n",
       "      <td>13.483665</td>\n",
       "      <td>71.0</td>\n",
       "      <td>111.0</td>\n",
       "      <td>120.0</td>\n",
       "      <td>130.0</td>\n",
       "      <td>240.0</td>\n",
       "    </tr>\n",
       "    <tr>\n",
       "      <th>relaxation</th>\n",
       "      <td>50673.0</td>\n",
       "      <td>75.552997</td>\n",
       "      <td>9.514169</td>\n",
       "      <td>40.0</td>\n",
       "      <td>70.0</td>\n",
       "      <td>76.0</td>\n",
       "      <td>81.0</td>\n",
       "      <td>140.0</td>\n",
       "    </tr>\n",
       "    <tr>\n",
       "      <th>fasting blood sugar</th>\n",
       "      <td>50673.0</td>\n",
       "      <td>98.379255</td>\n",
       "      <td>19.652577</td>\n",
       "      <td>46.0</td>\n",
       "      <td>89.0</td>\n",
       "      <td>95.0</td>\n",
       "      <td>103.0</td>\n",
       "      <td>505.0</td>\n",
       "    </tr>\n",
       "    <tr>\n",
       "      <th>Cholesterol</th>\n",
       "      <td>50673.0</td>\n",
       "      <td>195.981469</td>\n",
       "      <td>35.745527</td>\n",
       "      <td>55.0</td>\n",
       "      <td>172.0</td>\n",
       "      <td>194.0</td>\n",
       "      <td>218.0</td>\n",
       "      <td>445.0</td>\n",
       "    </tr>\n",
       "    <tr>\n",
       "      <th>triglyceride</th>\n",
       "      <td>50673.0</td>\n",
       "      <td>120.847986</td>\n",
       "      <td>67.576057</td>\n",
       "      <td>8.0</td>\n",
       "      <td>72.0</td>\n",
       "      <td>103.0</td>\n",
       "      <td>151.0</td>\n",
       "      <td>999.0</td>\n",
       "    </tr>\n",
       "    <tr>\n",
       "      <th>HDL</th>\n",
       "      <td>50673.0</td>\n",
       "      <td>57.452174</td>\n",
       "      <td>14.751768</td>\n",
       "      <td>4.0</td>\n",
       "      <td>47.0</td>\n",
       "      <td>56.0</td>\n",
       "      <td>66.0</td>\n",
       "      <td>618.0</td>\n",
       "    </tr>\n",
       "    <tr>\n",
       "      <th>LDL</th>\n",
       "      <td>50673.0</td>\n",
       "      <td>115.005506</td>\n",
       "      <td>40.531726</td>\n",
       "      <td>4.0</td>\n",
       "      <td>92.0</td>\n",
       "      <td>113.0</td>\n",
       "      <td>135.0</td>\n",
       "      <td>1860.0</td>\n",
       "    </tr>\n",
       "    <tr>\n",
       "      <th>hemoglobin</th>\n",
       "      <td>50673.0</td>\n",
       "      <td>14.537588</td>\n",
       "      <td>1.559916</td>\n",
       "      <td>4.9</td>\n",
       "      <td>13.5</td>\n",
       "      <td>14.7</td>\n",
       "      <td>15.7</td>\n",
       "      <td>20.4</td>\n",
       "    </tr>\n",
       "    <tr>\n",
       "      <th>Urine protein</th>\n",
       "      <td>50673.0</td>\n",
       "      <td>1.079983</td>\n",
       "      <td>0.384589</td>\n",
       "      <td>1.0</td>\n",
       "      <td>1.0</td>\n",
       "      <td>1.0</td>\n",
       "      <td>1.0</td>\n",
       "      <td>6.0</td>\n",
       "    </tr>\n",
       "    <tr>\n",
       "      <th>serum creatinine</th>\n",
       "      <td>50673.0</td>\n",
       "      <td>0.881053</td>\n",
       "      <td>0.220884</td>\n",
       "      <td>0.1</td>\n",
       "      <td>0.7</td>\n",
       "      <td>0.9</td>\n",
       "      <td>1.0</td>\n",
       "      <td>11.6</td>\n",
       "    </tr>\n",
       "    <tr>\n",
       "      <th>AST</th>\n",
       "      <td>50673.0</td>\n",
       "      <td>24.500661</td>\n",
       "      <td>11.733118</td>\n",
       "      <td>6.0</td>\n",
       "      <td>19.0</td>\n",
       "      <td>22.0</td>\n",
       "      <td>27.0</td>\n",
       "      <td>656.0</td>\n",
       "    </tr>\n",
       "    <tr>\n",
       "      <th>ALT</th>\n",
       "      <td>50673.0</td>\n",
       "      <td>24.233852</td>\n",
       "      <td>20.556187</td>\n",
       "      <td>1.0</td>\n",
       "      <td>15.0</td>\n",
       "      <td>20.0</td>\n",
       "      <td>28.0</td>\n",
       "      <td>2914.0</td>\n",
       "    </tr>\n",
       "    <tr>\n",
       "      <th>Gtp</th>\n",
       "      <td>50673.0</td>\n",
       "      <td>28.724784</td>\n",
       "      <td>16.458773</td>\n",
       "      <td>1.0</td>\n",
       "      <td>16.0</td>\n",
       "      <td>24.0</td>\n",
       "      <td>37.0</td>\n",
       "      <td>82.0</td>\n",
       "    </tr>\n",
       "    <tr>\n",
       "      <th>dental caries</th>\n",
       "      <td>50673.0</td>\n",
       "      <td>0.208730</td>\n",
       "      <td>0.406405</td>\n",
       "      <td>0.0</td>\n",
       "      <td>0.0</td>\n",
       "      <td>0.0</td>\n",
       "      <td>0.0</td>\n",
       "      <td>1.0</td>\n",
       "    </tr>\n",
       "    <tr>\n",
       "      <th>smoking</th>\n",
       "      <td>50673.0</td>\n",
       "      <td>0.337793</td>\n",
       "      <td>0.472962</td>\n",
       "      <td>0.0</td>\n",
       "      <td>0.0</td>\n",
       "      <td>0.0</td>\n",
       "      <td>1.0</td>\n",
       "      <td>1.0</td>\n",
       "    </tr>\n",
       "  </tbody>\n",
       "</table>\n",
       "</div>"
      ],
      "text/plain": [
       "                       count        mean        std    min    25%    50%  \\\n",
       "age                  50673.0   44.185760  12.164713   20.0   40.0   40.0   \n",
       "height(cm)           50673.0  164.334162   9.266000  130.0  155.0  165.0   \n",
       "weight(kg)           50673.0   65.137154  12.524642   30.0   55.0   65.0   \n",
       "waist(cm)            50673.0   81.454526   9.101062   53.0   75.0   81.0   \n",
       "eyesight(left)       50673.0    1.010578   0.482721    0.1    0.8    1.0   \n",
       "eyesight(right)      50673.0    1.004685   0.477038    0.1    0.8    1.0   \n",
       "hearing(left)        50673.0    1.025339   0.157154    1.0    1.0    1.0   \n",
       "hearing(right)       50673.0    1.025773   0.158459    1.0    1.0    1.0   \n",
       "systolic             50673.0  120.903282  13.483665   71.0  111.0  120.0   \n",
       "relaxation           50673.0   75.552997   9.514169   40.0   70.0   76.0   \n",
       "fasting blood sugar  50673.0   98.379255  19.652577   46.0   89.0   95.0   \n",
       "Cholesterol          50673.0  195.981469  35.745527   55.0  172.0  194.0   \n",
       "triglyceride         50673.0  120.847986  67.576057    8.0   72.0  103.0   \n",
       "HDL                  50673.0   57.452174  14.751768    4.0   47.0   56.0   \n",
       "LDL                  50673.0  115.005506  40.531726    4.0   92.0  113.0   \n",
       "hemoglobin           50673.0   14.537588   1.559916    4.9   13.5   14.7   \n",
       "Urine protein        50673.0    1.079983   0.384589    1.0    1.0    1.0   \n",
       "serum creatinine     50673.0    0.881053   0.220884    0.1    0.7    0.9   \n",
       "AST                  50673.0   24.500661  11.733118    6.0   19.0   22.0   \n",
       "ALT                  50673.0   24.233852  20.556187    1.0   15.0   20.0   \n",
       "Gtp                  50673.0   28.724784  16.458773    1.0   16.0   24.0   \n",
       "dental caries        50673.0    0.208730   0.406405    0.0    0.0    0.0   \n",
       "smoking              50673.0    0.337793   0.472962    0.0    0.0    0.0   \n",
       "\n",
       "                       75%     max  \n",
       "age                   55.0    85.0  \n",
       "height(cm)           170.0   190.0  \n",
       "weight(kg)            75.0   135.0  \n",
       "waist(cm)             87.2   129.0  \n",
       "eyesight(left)         1.2     9.9  \n",
       "eyesight(right)        1.2     9.9  \n",
       "hearing(left)          1.0     2.0  \n",
       "hearing(right)         1.0     2.0  \n",
       "systolic             130.0   240.0  \n",
       "relaxation            81.0   140.0  \n",
       "fasting blood sugar  103.0   505.0  \n",
       "Cholesterol          218.0   445.0  \n",
       "triglyceride         151.0   999.0  \n",
       "HDL                   66.0   618.0  \n",
       "LDL                  135.0  1860.0  \n",
       "hemoglobin            15.7    20.4  \n",
       "Urine protein          1.0     6.0  \n",
       "serum creatinine       1.0    11.6  \n",
       "AST                   27.0   656.0  \n",
       "ALT                   28.0  2914.0  \n",
       "Gtp                   37.0    82.0  \n",
       "dental caries          0.0     1.0  \n",
       "smoking                1.0     1.0  "
      ]
     },
     "execution_count": 22,
     "metadata": {},
     "output_type": "execute_result"
    }
   ],
   "source": [
    "dataset_drop.describe().T"
   ]
  },
  {
   "cell_type": "markdown",
   "id": "361a16a5",
   "metadata": {},
   "source": [
    "### 이상치 두번 제거 - 하지말기!!"
   ]
  },
  {
   "cell_type": "code",
   "execution_count": 198,
   "id": "b459d02e",
   "metadata": {},
   "outputs": [
    {
     "data": {
      "text/plain": [
       "(50673, 21)"
      ]
     },
     "execution_count": 198,
     "metadata": {},
     "output_type": "execute_result"
    }
   ],
   "source": [
    "dataset_d_c = dataset_drop.drop(labels = ['gender','smoking'], axis=1)\n",
    "dataset_d_c.shape"
   ]
  },
  {
   "cell_type": "code",
   "execution_count": 199,
   "id": "207f6f6f",
   "metadata": {
    "collapsed": true
   },
   "outputs": [
    {
     "name": "stdout",
     "output_type": "stream",
     "text": [
      "age의 이상치 : 277\n",
      "height(cm)의 이상치 : 1\n",
      "weight(kg)의 이상치 : 148\n",
      "waist(cm)의 이상치 : 399\n",
      "eyesight(left)의 이상치 : 1202\n",
      "eyesight(right)의 이상치 : 1221\n",
      "systolic의 이상치 : 464\n",
      "relaxation의 이상치 : 1231\n",
      "fasting blood sugar의 이상치 : 2862\n",
      "Cholesterol의 이상치 : 659\n",
      "triglyceride의 이상치 : 2286\n",
      "HDL의 이상치 : 913\n",
      "LDL의 이상치 : 633\n",
      "hemoglobin의 이상치 : 647\n",
      "Urine protein의 이상치 : 2632\n",
      "serum creatinine의 이상치 : 213\n",
      "AST의 이상치 : 2602\n",
      "ALT의 이상치 : 3316\n",
      "Gtp의 이상치 : 1836\n",
      "dental caries의 이상치 : 10577\n"
     ]
    },
    {
     "ename": "UFuncTypeError",
     "evalue": "ufunc 'subtract' did not contain a loop with signature matching types (dtype('<U1'), dtype('<U1')) -> None",
     "output_type": "error",
     "traceback": [
      "\u001b[1;31m---------------------------------------------------------------------------\u001b[0m",
      "\u001b[1;31mUFuncTypeError\u001b[0m                            Traceback (most recent call last)",
      "Input \u001b[1;32mIn [199]\u001b[0m, in \u001b[0;36m<cell line: 2>\u001b[1;34m()\u001b[0m\n\u001b[0;32m      1\u001b[0m \u001b[38;5;66;03m# 이상치 두번째 검사 - 일단 이건 drop 안함.\u001b[39;00m\n\u001b[1;32m----> 2\u001b[0m \u001b[43moutlier_check\u001b[49m\u001b[43m(\u001b[49m\u001b[43mdataset_d_c\u001b[49m\u001b[43m)\u001b[49m\n",
      "Input \u001b[1;32mIn [192]\u001b[0m, in \u001b[0;36moutlier_check\u001b[1;34m(dataset)\u001b[0m\n\u001b[0;32m      2\u001b[0m \u001b[38;5;28;01mfor\u001b[39;00m data \u001b[38;5;129;01min\u001b[39;00m dataset\u001b[38;5;241m.\u001b[39mcolumns:\n\u001b[0;32m      3\u001b[0m     col_data \u001b[38;5;241m=\u001b[39m dataset[data]\n\u001b[1;32m----> 4\u001b[0m     q1 \u001b[38;5;241m=\u001b[39m \u001b[43mnp\u001b[49m\u001b[38;5;241;43m.\u001b[39;49m\u001b[43mpercentile\u001b[49m\u001b[43m(\u001b[49m\u001b[43mcol_data\u001b[49m\u001b[43m,\u001b[49m\u001b[43m \u001b[49m\u001b[38;5;241;43m25\u001b[39;49m\u001b[43m)\u001b[49m\n\u001b[0;32m      5\u001b[0m     q3 \u001b[38;5;241m=\u001b[39m np\u001b[38;5;241m.\u001b[39mpercentile(col_data, \u001b[38;5;241m75\u001b[39m)\n\u001b[0;32m      6\u001b[0m     IQR \u001b[38;5;241m=\u001b[39m \u001b[38;5;241m1.5\u001b[39m \u001b[38;5;241m*\u001b[39m (q3 \u001b[38;5;241m-\u001b[39m q1)\n",
      "File \u001b[1;32m<__array_function__ internals>:180\u001b[0m, in \u001b[0;36mpercentile\u001b[1;34m(*args, **kwargs)\u001b[0m\n",
      "File \u001b[1;32m~\\anaconda3\\envs\\smoking\\lib\\site-packages\\numpy\\lib\\function_base.py:4166\u001b[0m, in \u001b[0;36mpercentile\u001b[1;34m(a, q, axis, out, overwrite_input, method, keepdims, interpolation)\u001b[0m\n\u001b[0;32m   4164\u001b[0m \u001b[38;5;28;01mif\u001b[39;00m \u001b[38;5;129;01mnot\u001b[39;00m _quantile_is_valid(q):\n\u001b[0;32m   4165\u001b[0m     \u001b[38;5;28;01mraise\u001b[39;00m \u001b[38;5;167;01mValueError\u001b[39;00m(\u001b[38;5;124m\"\u001b[39m\u001b[38;5;124mPercentiles must be in the range [0, 100]\u001b[39m\u001b[38;5;124m\"\u001b[39m)\n\u001b[1;32m-> 4166\u001b[0m \u001b[38;5;28;01mreturn\u001b[39;00m \u001b[43m_quantile_unchecked\u001b[49m\u001b[43m(\u001b[49m\n\u001b[0;32m   4167\u001b[0m \u001b[43m    \u001b[49m\u001b[43ma\u001b[49m\u001b[43m,\u001b[49m\u001b[43m \u001b[49m\u001b[43mq\u001b[49m\u001b[43m,\u001b[49m\u001b[43m \u001b[49m\u001b[43maxis\u001b[49m\u001b[43m,\u001b[49m\u001b[43m \u001b[49m\u001b[43mout\u001b[49m\u001b[43m,\u001b[49m\u001b[43m \u001b[49m\u001b[43moverwrite_input\u001b[49m\u001b[43m,\u001b[49m\u001b[43m \u001b[49m\u001b[43mmethod\u001b[49m\u001b[43m,\u001b[49m\u001b[43m \u001b[49m\u001b[43mkeepdims\u001b[49m\u001b[43m)\u001b[49m\n",
      "File \u001b[1;32m~\\anaconda3\\envs\\smoking\\lib\\site-packages\\numpy\\lib\\function_base.py:4424\u001b[0m, in \u001b[0;36m_quantile_unchecked\u001b[1;34m(a, q, axis, out, overwrite_input, method, keepdims)\u001b[0m\n\u001b[0;32m   4416\u001b[0m \u001b[38;5;28;01mdef\u001b[39;00m \u001b[38;5;21m_quantile_unchecked\u001b[39m(a,\n\u001b[0;32m   4417\u001b[0m                         q,\n\u001b[0;32m   4418\u001b[0m                         axis\u001b[38;5;241m=\u001b[39m\u001b[38;5;28;01mNone\u001b[39;00m,\n\u001b[1;32m   (...)\u001b[0m\n\u001b[0;32m   4421\u001b[0m                         method\u001b[38;5;241m=\u001b[39m\u001b[38;5;124m\"\u001b[39m\u001b[38;5;124mlinear\u001b[39m\u001b[38;5;124m\"\u001b[39m,\n\u001b[0;32m   4422\u001b[0m                         keepdims\u001b[38;5;241m=\u001b[39m\u001b[38;5;28;01mFalse\u001b[39;00m):\n\u001b[0;32m   4423\u001b[0m     \u001b[38;5;124;03m\"\"\"Assumes that q is in [0, 1], and is an ndarray\"\"\"\u001b[39;00m\n\u001b[1;32m-> 4424\u001b[0m     r, k \u001b[38;5;241m=\u001b[39m \u001b[43m_ureduce\u001b[49m\u001b[43m(\u001b[49m\u001b[43ma\u001b[49m\u001b[43m,\u001b[49m\n\u001b[0;32m   4425\u001b[0m \u001b[43m                    \u001b[49m\u001b[43mfunc\u001b[49m\u001b[38;5;241;43m=\u001b[39;49m\u001b[43m_quantile_ureduce_func\u001b[49m\u001b[43m,\u001b[49m\n\u001b[0;32m   4426\u001b[0m \u001b[43m                    \u001b[49m\u001b[43mq\u001b[49m\u001b[38;5;241;43m=\u001b[39;49m\u001b[43mq\u001b[49m\u001b[43m,\u001b[49m\n\u001b[0;32m   4427\u001b[0m \u001b[43m                    \u001b[49m\u001b[43maxis\u001b[49m\u001b[38;5;241;43m=\u001b[39;49m\u001b[43maxis\u001b[49m\u001b[43m,\u001b[49m\n\u001b[0;32m   4428\u001b[0m \u001b[43m                    \u001b[49m\u001b[43mout\u001b[49m\u001b[38;5;241;43m=\u001b[39;49m\u001b[43mout\u001b[49m\u001b[43m,\u001b[49m\n\u001b[0;32m   4429\u001b[0m \u001b[43m                    \u001b[49m\u001b[43moverwrite_input\u001b[49m\u001b[38;5;241;43m=\u001b[39;49m\u001b[43moverwrite_input\u001b[49m\u001b[43m,\u001b[49m\n\u001b[0;32m   4430\u001b[0m \u001b[43m                    \u001b[49m\u001b[43mmethod\u001b[49m\u001b[38;5;241;43m=\u001b[39;49m\u001b[43mmethod\u001b[49m\u001b[43m)\u001b[49m\n\u001b[0;32m   4431\u001b[0m     \u001b[38;5;28;01mif\u001b[39;00m keepdims:\n\u001b[0;32m   4432\u001b[0m         \u001b[38;5;28;01mreturn\u001b[39;00m r\u001b[38;5;241m.\u001b[39mreshape(q\u001b[38;5;241m.\u001b[39mshape \u001b[38;5;241m+\u001b[39m k)\n",
      "File \u001b[1;32m~\\anaconda3\\envs\\smoking\\lib\\site-packages\\numpy\\lib\\function_base.py:3725\u001b[0m, in \u001b[0;36m_ureduce\u001b[1;34m(a, func, **kwargs)\u001b[0m\n\u001b[0;32m   3722\u001b[0m \u001b[38;5;28;01melse\u001b[39;00m:\n\u001b[0;32m   3723\u001b[0m     keepdim \u001b[38;5;241m=\u001b[39m (\u001b[38;5;241m1\u001b[39m,) \u001b[38;5;241m*\u001b[39m a\u001b[38;5;241m.\u001b[39mndim\n\u001b[1;32m-> 3725\u001b[0m r \u001b[38;5;241m=\u001b[39m \u001b[43mfunc\u001b[49m\u001b[43m(\u001b[49m\u001b[43ma\u001b[49m\u001b[43m,\u001b[49m\u001b[43m \u001b[49m\u001b[38;5;241;43m*\u001b[39;49m\u001b[38;5;241;43m*\u001b[39;49m\u001b[43mkwargs\u001b[49m\u001b[43m)\u001b[49m\n\u001b[0;32m   3726\u001b[0m \u001b[38;5;28;01mreturn\u001b[39;00m r, keepdim\n",
      "File \u001b[1;32m~\\anaconda3\\envs\\smoking\\lib\\site-packages\\numpy\\lib\\function_base.py:4593\u001b[0m, in \u001b[0;36m_quantile_ureduce_func\u001b[1;34m(a, q, axis, out, overwrite_input, method)\u001b[0m\n\u001b[0;32m   4591\u001b[0m     \u001b[38;5;28;01melse\u001b[39;00m:\n\u001b[0;32m   4592\u001b[0m         arr \u001b[38;5;241m=\u001b[39m a\u001b[38;5;241m.\u001b[39mcopy()\n\u001b[1;32m-> 4593\u001b[0m result \u001b[38;5;241m=\u001b[39m \u001b[43m_quantile\u001b[49m\u001b[43m(\u001b[49m\u001b[43marr\u001b[49m\u001b[43m,\u001b[49m\n\u001b[0;32m   4594\u001b[0m \u001b[43m                   \u001b[49m\u001b[43mquantiles\u001b[49m\u001b[38;5;241;43m=\u001b[39;49m\u001b[43mq\u001b[49m\u001b[43m,\u001b[49m\n\u001b[0;32m   4595\u001b[0m \u001b[43m                   \u001b[49m\u001b[43maxis\u001b[49m\u001b[38;5;241;43m=\u001b[39;49m\u001b[43maxis\u001b[49m\u001b[43m,\u001b[49m\n\u001b[0;32m   4596\u001b[0m \u001b[43m                   \u001b[49m\u001b[43mmethod\u001b[49m\u001b[38;5;241;43m=\u001b[39;49m\u001b[43mmethod\u001b[49m\u001b[43m,\u001b[49m\n\u001b[0;32m   4597\u001b[0m \u001b[43m                   \u001b[49m\u001b[43mout\u001b[49m\u001b[38;5;241;43m=\u001b[39;49m\u001b[43mout\u001b[49m\u001b[43m)\u001b[49m\n\u001b[0;32m   4598\u001b[0m \u001b[38;5;28;01mreturn\u001b[39;00m result\n",
      "File \u001b[1;32m~\\anaconda3\\envs\\smoking\\lib\\site-packages\\numpy\\lib\\function_base.py:4710\u001b[0m, in \u001b[0;36m_quantile\u001b[1;34m(arr, quantiles, axis, method, out)\u001b[0m\n\u001b[0;32m   4708\u001b[0m     result_shape \u001b[38;5;241m=\u001b[39m virtual_indexes\u001b[38;5;241m.\u001b[39mshape \u001b[38;5;241m+\u001b[39m (\u001b[38;5;241m1\u001b[39m,) \u001b[38;5;241m*\u001b[39m (arr\u001b[38;5;241m.\u001b[39mndim \u001b[38;5;241m-\u001b[39m \u001b[38;5;241m1\u001b[39m)\n\u001b[0;32m   4709\u001b[0m     gamma \u001b[38;5;241m=\u001b[39m gamma\u001b[38;5;241m.\u001b[39mreshape(result_shape)\n\u001b[1;32m-> 4710\u001b[0m     result \u001b[38;5;241m=\u001b[39m \u001b[43m_lerp\u001b[49m\u001b[43m(\u001b[49m\u001b[43mprevious\u001b[49m\u001b[43m,\u001b[49m\n\u001b[0;32m   4711\u001b[0m \u001b[43m                   \u001b[49m\u001b[38;5;28;43mnext\u001b[39;49m\u001b[43m,\u001b[49m\n\u001b[0;32m   4712\u001b[0m \u001b[43m                   \u001b[49m\u001b[43mgamma\u001b[49m\u001b[43m,\u001b[49m\n\u001b[0;32m   4713\u001b[0m \u001b[43m                   \u001b[49m\u001b[43mout\u001b[49m\u001b[38;5;241;43m=\u001b[39;49m\u001b[43mout\u001b[49m\u001b[43m)\u001b[49m\n\u001b[0;32m   4714\u001b[0m \u001b[38;5;28;01mif\u001b[39;00m np\u001b[38;5;241m.\u001b[39many(slices_having_nans):\n\u001b[0;32m   4715\u001b[0m     \u001b[38;5;28;01mif\u001b[39;00m result\u001b[38;5;241m.\u001b[39mndim \u001b[38;5;241m==\u001b[39m \u001b[38;5;241m0\u001b[39m \u001b[38;5;129;01mand\u001b[39;00m out \u001b[38;5;129;01mis\u001b[39;00m \u001b[38;5;28;01mNone\u001b[39;00m:\n\u001b[0;32m   4716\u001b[0m         \u001b[38;5;66;03m# can't write to a scalar\u001b[39;00m\n",
      "File \u001b[1;32m~\\anaconda3\\envs\\smoking\\lib\\site-packages\\numpy\\lib\\function_base.py:4527\u001b[0m, in \u001b[0;36m_lerp\u001b[1;34m(a, b, t, out)\u001b[0m\n\u001b[0;32m   4513\u001b[0m \u001b[38;5;28;01mdef\u001b[39;00m \u001b[38;5;21m_lerp\u001b[39m(a, b, t, out\u001b[38;5;241m=\u001b[39m\u001b[38;5;28;01mNone\u001b[39;00m):\n\u001b[0;32m   4514\u001b[0m     \u001b[38;5;124;03m\"\"\"\u001b[39;00m\n\u001b[0;32m   4515\u001b[0m \u001b[38;5;124;03m    Compute the linear interpolation weighted by gamma on each point of\u001b[39;00m\n\u001b[0;32m   4516\u001b[0m \u001b[38;5;124;03m    two same shape array.\u001b[39;00m\n\u001b[1;32m   (...)\u001b[0m\n\u001b[0;32m   4525\u001b[0m \u001b[38;5;124;03m        Output array.\u001b[39;00m\n\u001b[0;32m   4526\u001b[0m \u001b[38;5;124;03m    \"\"\"\u001b[39;00m\n\u001b[1;32m-> 4527\u001b[0m     diff_b_a \u001b[38;5;241m=\u001b[39m \u001b[43msubtract\u001b[49m\u001b[43m(\u001b[49m\u001b[43mb\u001b[49m\u001b[43m,\u001b[49m\u001b[43m \u001b[49m\u001b[43ma\u001b[49m\u001b[43m)\u001b[49m\n\u001b[0;32m   4528\u001b[0m     \u001b[38;5;66;03m# asanyarray is a stop-gap until gh-13105\u001b[39;00m\n\u001b[0;32m   4529\u001b[0m     lerp_interpolation \u001b[38;5;241m=\u001b[39m asanyarray(add(a, diff_b_a \u001b[38;5;241m*\u001b[39m t, out\u001b[38;5;241m=\u001b[39mout))\n",
      "\u001b[1;31mUFuncTypeError\u001b[0m: ufunc 'subtract' did not contain a loop with signature matching types (dtype('<U1'), dtype('<U1')) -> None"
     ]
    }
   ],
   "source": [
    "# 이상치 두번째 검사 - 일단 이건 drop 안함.\n",
    "outlier_check(dataset_d_c) # 연속형 데이터 셋 dataset_c"
   ]
  },
  {
   "cell_type": "code",
   "execution_count": null,
   "id": "d62b983e",
   "metadata": {},
   "outputs": [],
   "source": [
    "# 연속형 데이터 boxplot\n",
    "\n",
    "def boxplot_c(data):\n",
    "    plt.figure(figsize=(25,25))\n",
    "    for col_idx in range(len(data.columns)):\n",
    "        plt.subplot(3,3, col_idx+1)\n",
    "        plt.boxplot(data[data.columns[col_idx]])\n",
    "        plt.title(data.columns[col_idx], fontsize = 30)\n",
    "    plt.show()"
   ]
  },
  {
   "cell_type": "code",
   "execution_count": null,
   "id": "8eeea34f",
   "metadata": {
    "scrolled": true
   },
   "outputs": [],
   "source": [
    "boxplot_c(dataset_d_c[dataset_d_c.columns[:9]])"
   ]
  },
  {
   "cell_type": "code",
   "execution_count": null,
   "id": "26736633",
   "metadata": {
    "scrolled": true
   },
   "outputs": [],
   "source": [
    "boxplot_c(dataset_d_c[dataset_d_c.columns[9:]])"
   ]
  },
  {
   "cell_type": "code",
   "execution_count": null,
   "id": "e89131e7",
   "metadata": {},
   "outputs": [],
   "source": []
  },
  {
   "cell_type": "code",
   "execution_count": null,
   "id": "2bca17f5",
   "metadata": {},
   "outputs": [],
   "source": []
  },
  {
   "cell_type": "code",
   "execution_count": null,
   "id": "7306d41d",
   "metadata": {},
   "outputs": [],
   "source": []
  },
  {
   "cell_type": "markdown",
   "id": "257621b1",
   "metadata": {},
   "source": [
    "## 머신러닝 분석\n",
    "\n"
   ]
  },
  {
   "cell_type": "code",
   "execution_count": 78,
   "id": "9c065b5d",
   "metadata": {},
   "outputs": [
    {
     "data": {
      "text/plain": [
       "Index(['gender', 'age', 'height(cm)', 'weight(kg)', 'waist(cm)',\n",
       "       'eyesight(left)', 'eyesight(right)', 'systolic', 'relaxation',\n",
       "       'fasting blood sugar', 'Cholesterol', 'triglyceride', 'HDL', 'LDL',\n",
       "       'hemoglobin', 'Urine protein', 'serum creatinine', 'AST', 'ALT', 'Gtp',\n",
       "       'dental caries', 'tartar', 'smoking'],\n",
       "      dtype='object')"
      ]
     },
     "execution_count": 78,
     "metadata": {},
     "output_type": "execute_result"
    }
   ],
   "source": [
    "dataset_drop.columns"
   ]
  },
  {
   "cell_type": "code",
   "execution_count": 79,
   "id": "bfcc7c7e",
   "metadata": {},
   "outputs": [
    {
     "data": {
      "text/plain": [
       "(50673, 23)"
      ]
     },
     "execution_count": 79,
     "metadata": {},
     "output_type": "execute_result"
    }
   ],
   "source": [
    "dataset_drop.shape"
   ]
  },
  {
   "cell_type": "code",
   "execution_count": 80,
   "id": "35d86a85",
   "metadata": {},
   "outputs": [
    {
     "name": "stdout",
     "output_type": "stream",
     "text": [
      "<class 'pandas.core.frame.DataFrame'>\n",
      "Int64Index: 50673 entries, 0 to 55691\n",
      "Data columns (total 23 columns):\n",
      " #   Column               Non-Null Count  Dtype  \n",
      "---  ------               --------------  -----  \n",
      " 0   gender               50673 non-null  object \n",
      " 1   age                  50673 non-null  int64  \n",
      " 2   height(cm)           50673 non-null  int64  \n",
      " 3   weight(kg)           50673 non-null  int64  \n",
      " 4   waist(cm)            50673 non-null  float64\n",
      " 5   eyesight(left)       50673 non-null  float64\n",
      " 6   eyesight(right)      50673 non-null  float64\n",
      " 7   systolic             50673 non-null  float64\n",
      " 8   relaxation           50673 non-null  float64\n",
      " 9   fasting blood sugar  50673 non-null  float64\n",
      " 10  Cholesterol          50673 non-null  float64\n",
      " 11  triglyceride         50673 non-null  float64\n",
      " 12  HDL                  50673 non-null  float64\n",
      " 13  LDL                  50673 non-null  float64\n",
      " 14  hemoglobin           50673 non-null  float64\n",
      " 15  Urine protein        50673 non-null  float64\n",
      " 16  serum creatinine     50673 non-null  float64\n",
      " 17  AST                  50673 non-null  float64\n",
      " 18  ALT                  50673 non-null  float64\n",
      " 19  Gtp                  50673 non-null  float64\n",
      " 20  dental caries        50673 non-null  int64  \n",
      " 21  tartar               50673 non-null  object \n",
      " 22  smoking              50673 non-null  int64  \n",
      "dtypes: float64(16), int64(5), object(2)\n",
      "memory usage: 9.3+ MB\n"
     ]
    }
   ],
   "source": [
    "dataset_drop.info()"
   ]
  },
  {
   "cell_type": "markdown",
   "id": "b470eca4",
   "metadata": {},
   "source": [
    "### 데이터 로드 - X, y 분리"
   ]
  },
  {
   "cell_type": "code",
   "execution_count": 81,
   "id": "59d4243b",
   "metadata": {},
   "outputs": [],
   "source": [
    "def data_load(df):\n",
    "    y = df['smoking']\n",
    "    X = df.drop(labels ='smoking', axis=1)\n",
    "    return X,y"
   ]
  },
  {
   "cell_type": "code",
   "execution_count": 82,
   "id": "30ddcbf5",
   "metadata": {},
   "outputs": [
    {
     "data": {
      "text/plain": [
       "((50673, 22), (50673,))"
      ]
     },
     "execution_count": 82,
     "metadata": {},
     "output_type": "execute_result"
    }
   ],
   "source": [
    "X,y = data_load(dataset_drop)\n",
    "X.shape,y.shape"
   ]
  },
  {
   "cell_type": "markdown",
   "id": "eb6e6dd1",
   "metadata": {},
   "source": [
    "### 데이터 전처리\n",
    "##### 1. 범주형 데이터 전처리\n",
    "- 범주형 gender"
   ]
  },
  {
   "cell_type": "code",
   "execution_count": 83,
   "id": "49a45b49",
   "metadata": {
    "scrolled": false
   },
   "outputs": [
    {
     "data": {
      "text/plain": [
       "M    30897\n",
       "F    19776\n",
       "Name: gender, dtype: int64"
      ]
     },
     "execution_count": 83,
     "metadata": {},
     "output_type": "execute_result"
    }
   ],
   "source": [
    "X['gender'].value_counts()"
   ]
  },
  {
   "cell_type": "code",
   "execution_count": 84,
   "id": "a8cff4c9",
   "metadata": {},
   "outputs": [
    {
     "data": {
      "text/plain": [
       "(array([0, 1]), array([19776, 30897], dtype=int64))"
      ]
     },
     "execution_count": 84,
     "metadata": {},
     "output_type": "execute_result"
    }
   ],
   "source": [
    "from sklearn.preprocessing import LabelEncoder\n",
    "\n",
    "encoder = LabelEncoder()\n",
    "\n",
    "X['gender'] = encoder.fit_transform(X['gender'])\n",
    "np.unique(X['gender'], return_counts=True)"
   ]
  },
  {
   "cell_type": "code",
   "execution_count": 85,
   "id": "030bc061",
   "metadata": {},
   "outputs": [
    {
     "data": {
      "text/plain": [
       "(array([0, 1]), array([22730, 27943], dtype=int64))"
      ]
     },
     "execution_count": 85,
     "metadata": {},
     "output_type": "execute_result"
    }
   ],
   "source": [
    "X['tartar'] = encoder.fit_transform(X['tartar'])\n",
    "np.unique(X['tartar'], return_counts=True)"
   ]
  },
  {
   "cell_type": "code",
   "execution_count": 86,
   "id": "ee2a6d4a",
   "metadata": {
    "scrolled": true
   },
   "outputs": [
    {
     "data": {
      "text/plain": [
       "ID\n",
       "0        0\n",
       "1        0\n",
       "2        1\n",
       "3        0\n",
       "4        0\n",
       "        ..\n",
       "55676    0\n",
       "55681    0\n",
       "55683    0\n",
       "55684    0\n",
       "55691    1\n",
       "Name: smoking, Length: 50673, dtype: int64"
      ]
     },
     "execution_count": 86,
     "metadata": {},
     "output_type": "execute_result"
    }
   ],
   "source": [
    "y"
   ]
  },
  {
   "cell_type": "code",
   "execution_count": 87,
   "id": "07a3907e",
   "metadata": {},
   "outputs": [
    {
     "name": "stdout",
     "output_type": "stream",
     "text": [
      "<class 'pandas.core.frame.DataFrame'>\n",
      "Int64Index: 50673 entries, 0 to 55691\n",
      "Data columns (total 22 columns):\n",
      " #   Column               Non-Null Count  Dtype  \n",
      "---  ------               --------------  -----  \n",
      " 0   gender               50673 non-null  int32  \n",
      " 1   age                  50673 non-null  int64  \n",
      " 2   height(cm)           50673 non-null  int64  \n",
      " 3   weight(kg)           50673 non-null  int64  \n",
      " 4   waist(cm)            50673 non-null  float64\n",
      " 5   eyesight(left)       50673 non-null  float64\n",
      " 6   eyesight(right)      50673 non-null  float64\n",
      " 7   systolic             50673 non-null  float64\n",
      " 8   relaxation           50673 non-null  float64\n",
      " 9   fasting blood sugar  50673 non-null  float64\n",
      " 10  Cholesterol          50673 non-null  float64\n",
      " 11  triglyceride         50673 non-null  float64\n",
      " 12  HDL                  50673 non-null  float64\n",
      " 13  LDL                  50673 non-null  float64\n",
      " 14  hemoglobin           50673 non-null  float64\n",
      " 15  Urine protein        50673 non-null  float64\n",
      " 16  serum creatinine     50673 non-null  float64\n",
      " 17  AST                  50673 non-null  float64\n",
      " 18  ALT                  50673 non-null  float64\n",
      " 19  Gtp                  50673 non-null  float64\n",
      " 20  dental caries        50673 non-null  int64  \n",
      " 21  tartar               50673 non-null  int32  \n",
      "dtypes: float64(16), int32(2), int64(4)\n",
      "memory usage: 8.5 MB\n"
     ]
    }
   ],
   "source": [
    "X.info()"
   ]
  },
  {
   "cell_type": "markdown",
   "id": "47ae1c30",
   "metadata": {},
   "source": [
    "#### 데이터 셋 분리"
   ]
  },
  {
   "cell_type": "code",
   "execution_count": 88,
   "id": "9767cc0b",
   "metadata": {},
   "outputs": [
    {
     "data": {
      "text/plain": [
       "((30403, 22), (10135, 22), (10135, 22), (30403,), (10135,), (10135,))"
      ]
     },
     "execution_count": 88,
     "metadata": {},
     "output_type": "execute_result"
    }
   ],
   "source": [
    "from sklearn.model_selection import train_test_split\n",
    "\n",
    "X_train, X_test, y_train, y_test = train_test_split(X, y, test_size = 0.2, stratify=y, random_state=0)\n",
    "\n",
    "X_train, X_val, y_train, y_val = train_test_split(X_train, y_train, test_size=0.25, stratify=y_train, random_state=0)\n",
    "\n",
    "\n",
    "X_train.shape, X_val.shape, X_test.shape, y_train.shape, y_val.shape, y_test.shape"
   ]
  },
  {
   "cell_type": "markdown",
   "id": "78d8d574",
   "metadata": {},
   "source": [
    "##### 2. 연속형 데이터 전처리\n",
    "- not Scaling => 트리 모델 \n",
    "    - X_train\n",
    "- standar Scaling \n",
    "    - X_train_ss\n",
    "- MinMax Scaling\n",
    "    - X_train_ms"
   ]
  },
  {
   "cell_type": "markdown",
   "id": "52c00341",
   "metadata": {},
   "source": [
    "##### standard Scaling => X_train_ss"
   ]
  },
  {
   "cell_type": "code",
   "execution_count": 89,
   "id": "7c637ac0",
   "metadata": {},
   "outputs": [],
   "source": [
    "from sklearn.preprocessing import StandardScaler\n",
    "\n",
    "s_scaler = StandardScaler()\n",
    "\n",
    "X_train_ss = s_scaler.fit_transform(X_train)\n",
    "X_test_ss = s_scaler.fit_transform(X_test)\n",
    "X_val_ss = s_scaler.fit_transform(X_val)\n"
   ]
  },
  {
   "cell_type": "code",
   "execution_count": 90,
   "id": "ecd1578f",
   "metadata": {},
   "outputs": [],
   "source": [
    "# 지수표기법(1.3e3)를 사용하지 않고 소수점 이하 5자리까지 다 출력하도록 설정.\n",
    "np.set_printoptions(precision=5, suppress=True)"
   ]
  },
  {
   "cell_type": "code",
   "execution_count": 91,
   "id": "5ae00496",
   "metadata": {},
   "outputs": [
    {
     "data": {
      "text/plain": [
       "array([-0., -0., -0.,  0., -0.,  0.,  0.,  0.,  0.,  0., -0.,  0., -0.,\n",
       "       -0.,  0.,  0.,  0.,  0., -0.,  0., -0., -0.])"
      ]
     },
     "execution_count": 91,
     "metadata": {},
     "output_type": "execute_result"
    }
   ],
   "source": [
    "X_train_ss.mean(axis=0)"
   ]
  },
  {
   "cell_type": "code",
   "execution_count": 92,
   "id": "bd4c7a45",
   "metadata": {
    "scrolled": true
   },
   "outputs": [
    {
     "data": {
      "text/plain": [
       "array([-0.,  0., -0.,  0., -0.,  0.,  0., -0., -0.,  0.,  0.,  0., -0.,\n",
       "        0.,  0., -0., -0.,  0.,  0.,  0., -0.,  0.])"
      ]
     },
     "execution_count": 92,
     "metadata": {},
     "output_type": "execute_result"
    }
   ],
   "source": [
    "X_test_ss.mean(axis=0)"
   ]
  },
  {
   "cell_type": "code",
   "execution_count": 93,
   "id": "674a5db6",
   "metadata": {
    "scrolled": true
   },
   "outputs": [
    {
     "data": {
      "text/plain": [
       "array([ 0.,  0., -0., -0., -0.,  0.,  0.,  0.,  0., -0., -0.,  0., -0.,\n",
       "       -0., -0.,  0., -0., -0.,  0., -0., -0.,  0.])"
      ]
     },
     "execution_count": 93,
     "metadata": {},
     "output_type": "execute_result"
    }
   ],
   "source": [
    "X_val_ss.mean(axis=0)"
   ]
  },
  {
   "cell_type": "markdown",
   "id": "da8d8f50",
   "metadata": {},
   "source": [
    "##### MinMax Scaling => X_train_ms"
   ]
  },
  {
   "cell_type": "code",
   "execution_count": 94,
   "id": "6888bce3",
   "metadata": {},
   "outputs": [],
   "source": [
    "from sklearn.preprocessing import MinMaxScaler\n",
    "\n",
    "m_scaler = MinMaxScaler()\n",
    "\n",
    "X_train_ms = m_scaler.fit_transform(X_train)\n",
    "X_test_ms = m_scaler.fit_transform(X_test)\n",
    "X_val_ms = m_scaler.fit_transform(X_val)\n",
    "\n"
   ]
  },
  {
   "cell_type": "code",
   "execution_count": 95,
   "id": "87b8e3df",
   "metadata": {
    "scrolled": true
   },
   "outputs": [
    {
     "data": {
      "text/plain": [
       "(array([0., 0., 0., 0., 0., 0., 0., 0., 0., 0., 0., 0., 0., 0., 0., 0., 0.,\n",
       "        0., 0., 0., 0., 0.]),\n",
       " array([1., 1., 1., 1., 1., 1., 1., 1., 1., 1., 1., 1., 1., 1., 1., 1., 1.,\n",
       "        1., 1., 1., 1., 1.]))"
      ]
     },
     "execution_count": 95,
     "metadata": {},
     "output_type": "execute_result"
    }
   ],
   "source": [
    "X_train_ms.min(axis=0), X_train_ms.max(axis=0)"
   ]
  },
  {
   "cell_type": "code",
   "execution_count": 96,
   "id": "562703d8",
   "metadata": {
    "scrolled": true
   },
   "outputs": [
    {
     "data": {
      "text/plain": [
       "(array([0., 0., 0., 0., 0., 0., 0., 0., 0., 0., 0., 0., 0., 0., 0., 0., 0.,\n",
       "        0., 0., 0., 0., 0.]),\n",
       " array([1., 1., 1., 1., 1., 1., 1., 1., 1., 1., 1., 1., 1., 1., 1., 1., 1.,\n",
       "        1., 1., 1., 1., 1.]))"
      ]
     },
     "execution_count": 96,
     "metadata": {},
     "output_type": "execute_result"
    }
   ],
   "source": [
    "X_test_ms.min(axis=0), X_test_ms.max(axis=0)"
   ]
  },
  {
   "cell_type": "code",
   "execution_count": 97,
   "id": "2c673733",
   "metadata": {
    "scrolled": false
   },
   "outputs": [
    {
     "data": {
      "text/plain": [
       "(array([0., 0., 0., 0., 0., 0., 0., 0., 0., 0., 0., 0., 0., 0., 0., 0., 0.,\n",
       "        0., 0., 0., 0., 0.]),\n",
       " array([1., 1., 1., 1., 1., 1., 1., 1., 1., 1., 1., 1., 1., 1., 1., 1., 1.,\n",
       "        1., 1., 1., 1., 1.]))"
      ]
     },
     "execution_count": 97,
     "metadata": {},
     "output_type": "execute_result"
    }
   ],
   "source": [
    "X_val_ms.min(axis=0), X_val_ms.max(axis=0)"
   ]
  },
  {
   "cell_type": "markdown",
   "id": "d5894774",
   "metadata": {},
   "source": [
    "### 분류 평가 지표 함수 \n",
    "\n",
    "1. 정확도 (Accuracy)\n",
    "\n",
    "\n",
    "2. 정밀도 (Precision)\n",
    "3. 재현률 (Recall)\n",
    "4. F1점수 (F1 Score)\n",
    "- classification_report(y 실제값, y 예측값)\n",
    "    - 클래스 별로 recall, precision, f1 점수와 accuracy를 종합해서 보여준다.\n",
    "\n",
    "- confusion_matrix(y 실제값, y 예측값)\n",
    "\n",
    "\n",
    "5. PR Curve, AP Score\n",
    "6. ROC, AUC Score"
   ]
  },
  {
   "cell_type": "code",
   "execution_count": 98,
   "id": "74587b16",
   "metadata": {},
   "outputs": [],
   "source": [
    "# 평가\n",
    "\n",
    "from sklearn.metrics import confusion_matrix, ConfusionMatrixDisplay, accuracy_score, recall_score, precision_score, f1_score\n",
    "from sklearn.metrics import roc_auc_score, RocCurveDisplay, roc_curve\n",
    "from sklearn.metrics import precision_recall_curve, average_precision_score, PrecisionRecallDisplay\n",
    "\n",
    "\n",
    "def print_confusion_matrix(y, pred, title=None):\n",
    "    \"\"\"\n",
    "    인수로 받은 정답(y), 모델 예측값(pred)한 것을 표로 만든 평가표\n",
    "    결과의 0번축: 실제 class, 1번 축: 예측 class\n",
    "    \n",
    "    [parameter]\n",
    "        y: ndarray - 정답(Ground Truth)\n",
    "        pred: ndarray - 모델이 예측한 값\n",
    "        title: str - 출력결과들에 대한 제목\n",
    "    [Return]\n",
    "    [Exception]\n",
    "    \"\"\"    \n",
    "    print('='*50)\n",
    "    if title:\n",
    "        print(title)\n",
    "        print('='*50)\n",
    "    print(confusion_matrix(y, pred))\n",
    "    print('='*50)\n",
    "    \n",
    "def print_classification_metrics(y, pred, title=None):\n",
    "    \"\"\"\n",
    "    인수로 받은 정답(y), 모델 예측값(pred)를 이용해 분류의 평가지표들을 출력\n",
    "    출력할 평가지표: accuracy, recall, precision, f1 score\n",
    "    [parameter]\n",
    "        y: ndarray - 정답(Ground Truth)\n",
    "        pred: ndarray - 모델이 예측한 값\n",
    "        title: str - 출력결과들에 대한 제목\n",
    "    [Return]\n",
    "    [Exception]\n",
    "    \"\"\"\n",
    "    print('='*50)\n",
    "    if title:\n",
    "        print(title)\n",
    "        print('='*50)\n",
    "    print('정확도(Accuracy):', accuracy_score(y, pred))\n",
    "    print('재현율(Recall):', recall_score(y, pred))\n",
    "    print('정밀도(Precision):', precision_score(y,pred))\n",
    "    print('F1 점수(F1 Score)', f1_score(y, pred))\n",
    "    print('='*50)\n",
    "\n",
    "    \n",
    "    \n",
    "def display_roc_curve(y, pred_proba, title=None):\n",
    "    \"\"\"\n",
    "    ROC 커브를 시각화하는 함수\n",
    "    [parameter]\n",
    "        y: ndarray - 정답\n",
    "        pred_proba: ndarray - 모델이 예측한 Positive확률\n",
    "        title: str - 제목\n",
    "    \"\"\"\n",
    "    print('='*50)\n",
    "    print('roc-auc score')\n",
    "    print('='*50)\n",
    "    roc_auc = roc_auc_score(y,pred_proba)\n",
    "    print(roc_auc)\n",
    "    print('='*50)\n",
    "    fpr, tpr, _ = roc_curve(y, pred_proba)\n",
    "    disp = RocCurveDisplay(fpr=fpr, tpr=tpr, roc_auc=roc_auc)\n",
    "    disp.plot()\n",
    "    \n",
    "    if title:\n",
    "        plt.title(title)\n",
    "    plt.show()\n",
    "\n",
    "\n",
    "def display_precision_recall_curve(y, pred_proba, title=None):\n",
    "    \"\"\"\n",
    "    Precision Recall 커브를 시각화하는 함수\n",
    "    [parameter]\n",
    "        y: ndarray - 정답 Label\n",
    "        pred_proba: ndarray - 모델이 예측한 Positive의 확률\n",
    "        title: str - 그래프 제목\n",
    "    \"\"\"\n",
    "    print('='*50)\n",
    "    print('ap score')\n",
    "    print('='*50)\n",
    "    ap_score = average_precision_score(y, pred_proba)\n",
    "    print(ap_score)\n",
    "    print('='*50)\n",
    "    \n",
    "    precision, recall, _ = precision_recall_curve(y, pred_proba)\n",
    "    disp = PrecisionRecallDisplay(precision, recall, average_precision=ap_score)\n",
    "    disp.plot()\n",
    "    if title:\n",
    "        plt.title(title)\n",
    "    plt.show()\n",
    "\n"
   ]
  },
  {
   "cell_type": "markdown",
   "id": "70d7cd89",
   "metadata": {},
   "source": [
    "## 램덤포레스트 모델"
   ]
  },
  {
   "cell_type": "markdown",
   "id": "c3974d03",
   "metadata": {},
   "source": [
    "### RandomizedSearchCV"
   ]
  },
  {
   "cell_type": "code",
   "execution_count": 130,
   "id": "d2ff3757",
   "metadata": {},
   "outputs": [],
   "source": [
    "from sklearn.model_selection import GridSearchCV, RandomizedSearchCV"
   ]
  },
  {
   "cell_type": "code",
   "execution_count": 264,
   "id": "2c1e3c4e",
   "metadata": {
    "collapsed": true
   },
   "outputs": [
    {
     "ename": "KeyboardInterrupt",
     "evalue": "",
     "output_type": "error",
     "traceback": [
      "\u001b[1;31m---------------------------------------------------------------------------\u001b[0m",
      "\u001b[1;31mKeyboardInterrupt\u001b[0m                         Traceback (most recent call last)",
      "Input \u001b[1;32mIn [264]\u001b[0m, in \u001b[0;36m<cell line: 17>\u001b[1;34m()\u001b[0m\n\u001b[0;32m      4\u001b[0m params \u001b[38;5;241m=\u001b[39m {\n\u001b[0;32m      5\u001b[0m     \u001b[38;5;124m'\u001b[39m\u001b[38;5;124mn_estimators\u001b[39m\u001b[38;5;124m'\u001b[39m:\u001b[38;5;28mrange\u001b[39m(\u001b[38;5;241m100\u001b[39m,\u001b[38;5;241m701\u001b[39m,\u001b[38;5;241m100\u001b[39m),\n\u001b[0;32m      6\u001b[0m     \u001b[38;5;124m'\u001b[39m\u001b[38;5;124mmax_depth\u001b[39m\u001b[38;5;124m'\u001b[39m:\u001b[38;5;28mrange\u001b[39m(\u001b[38;5;241m20\u001b[39m,\u001b[38;5;241m40\u001b[39m),\n\u001b[0;32m      7\u001b[0m     \u001b[38;5;124m'\u001b[39m\u001b[38;5;124mmax_features\u001b[39m\u001b[38;5;124m'\u001b[39m:\u001b[38;5;28mrange\u001b[39m(\u001b[38;5;241m10\u001b[39m,\u001b[38;5;241m20\u001b[39m)\n\u001b[0;32m      8\u001b[0m }\n\u001b[0;32m     10\u001b[0m rs \u001b[38;5;241m=\u001b[39m RandomizedSearchCV(RandomForestClassifier(random_state\u001b[38;5;241m=\u001b[39m\u001b[38;5;241m0\u001b[39m),\n\u001b[0;32m     11\u001b[0m                        params,\n\u001b[0;32m     12\u001b[0m                        scoring\u001b[38;5;241m=\u001b[39m\u001b[38;5;124m'\u001b[39m\u001b[38;5;124maccuracy\u001b[39m\u001b[38;5;124m'\u001b[39m,\n\u001b[0;32m     13\u001b[0m                        cv\u001b[38;5;241m=\u001b[39m\u001b[38;5;241m4\u001b[39m,\n\u001b[0;32m     14\u001b[0m                        n_jobs\u001b[38;5;241m=\u001b[39m\u001b[38;5;241m-\u001b[39m\u001b[38;5;241m1\u001b[39m,\n\u001b[0;32m     15\u001b[0m                        n_iter\u001b[38;5;241m=\u001b[39m\u001b[38;5;241m60\u001b[39m)\n\u001b[1;32m---> 17\u001b[0m \u001b[43mrs\u001b[49m\u001b[38;5;241;43m.\u001b[39;49m\u001b[43mfit\u001b[49m\u001b[43m(\u001b[49m\u001b[43mX_train\u001b[49m\u001b[43m,\u001b[49m\u001b[43m \u001b[49m\u001b[43my_train\u001b[49m\u001b[43m)\u001b[49m\n",
      "File \u001b[1;32m~\\anaconda3\\envs\\smoking\\lib\\site-packages\\sklearn\\model_selection\\_search.py:875\u001b[0m, in \u001b[0;36mBaseSearchCV.fit\u001b[1;34m(self, X, y, groups, **fit_params)\u001b[0m\n\u001b[0;32m    869\u001b[0m     results \u001b[38;5;241m=\u001b[39m \u001b[38;5;28mself\u001b[39m\u001b[38;5;241m.\u001b[39m_format_results(\n\u001b[0;32m    870\u001b[0m         all_candidate_params, n_splits, all_out, all_more_results\n\u001b[0;32m    871\u001b[0m     )\n\u001b[0;32m    873\u001b[0m     \u001b[38;5;28;01mreturn\u001b[39;00m results\n\u001b[1;32m--> 875\u001b[0m \u001b[38;5;28;43mself\u001b[39;49m\u001b[38;5;241;43m.\u001b[39;49m\u001b[43m_run_search\u001b[49m\u001b[43m(\u001b[49m\u001b[43mevaluate_candidates\u001b[49m\u001b[43m)\u001b[49m\n\u001b[0;32m    877\u001b[0m \u001b[38;5;66;03m# multimetric is determined here because in the case of a callable\u001b[39;00m\n\u001b[0;32m    878\u001b[0m \u001b[38;5;66;03m# self.scoring the return type is only known after calling\u001b[39;00m\n\u001b[0;32m    879\u001b[0m first_test_score \u001b[38;5;241m=\u001b[39m all_out[\u001b[38;5;241m0\u001b[39m][\u001b[38;5;124m\"\u001b[39m\u001b[38;5;124mtest_scores\u001b[39m\u001b[38;5;124m\"\u001b[39m]\n",
      "File \u001b[1;32m~\\anaconda3\\envs\\smoking\\lib\\site-packages\\sklearn\\model_selection\\_search.py:1749\u001b[0m, in \u001b[0;36mRandomizedSearchCV._run_search\u001b[1;34m(self, evaluate_candidates)\u001b[0m\n\u001b[0;32m   1747\u001b[0m \u001b[38;5;28;01mdef\u001b[39;00m \u001b[38;5;21m_run_search\u001b[39m(\u001b[38;5;28mself\u001b[39m, evaluate_candidates):\n\u001b[0;32m   1748\u001b[0m     \u001b[38;5;124;03m\"\"\"Search n_iter candidates from param_distributions\"\"\"\u001b[39;00m\n\u001b[1;32m-> 1749\u001b[0m     \u001b[43mevaluate_candidates\u001b[49m\u001b[43m(\u001b[49m\n\u001b[0;32m   1750\u001b[0m \u001b[43m        \u001b[49m\u001b[43mParameterSampler\u001b[49m\u001b[43m(\u001b[49m\n\u001b[0;32m   1751\u001b[0m \u001b[43m            \u001b[49m\u001b[38;5;28;43mself\u001b[39;49m\u001b[38;5;241;43m.\u001b[39;49m\u001b[43mparam_distributions\u001b[49m\u001b[43m,\u001b[49m\u001b[43m \u001b[49m\u001b[38;5;28;43mself\u001b[39;49m\u001b[38;5;241;43m.\u001b[39;49m\u001b[43mn_iter\u001b[49m\u001b[43m,\u001b[49m\u001b[43m \u001b[49m\u001b[43mrandom_state\u001b[49m\u001b[38;5;241;43m=\u001b[39;49m\u001b[38;5;28;43mself\u001b[39;49m\u001b[38;5;241;43m.\u001b[39;49m\u001b[43mrandom_state\u001b[49m\n\u001b[0;32m   1752\u001b[0m \u001b[43m        \u001b[49m\u001b[43m)\u001b[49m\n\u001b[0;32m   1753\u001b[0m \u001b[43m    \u001b[49m\u001b[43m)\u001b[49m\n",
      "File \u001b[1;32m~\\anaconda3\\envs\\smoking\\lib\\site-packages\\sklearn\\model_selection\\_search.py:822\u001b[0m, in \u001b[0;36mBaseSearchCV.fit.<locals>.evaluate_candidates\u001b[1;34m(candidate_params, cv, more_results)\u001b[0m\n\u001b[0;32m    814\u001b[0m \u001b[38;5;28;01mif\u001b[39;00m \u001b[38;5;28mself\u001b[39m\u001b[38;5;241m.\u001b[39mverbose \u001b[38;5;241m>\u001b[39m \u001b[38;5;241m0\u001b[39m:\n\u001b[0;32m    815\u001b[0m     \u001b[38;5;28mprint\u001b[39m(\n\u001b[0;32m    816\u001b[0m         \u001b[38;5;124m\"\u001b[39m\u001b[38;5;124mFitting \u001b[39m\u001b[38;5;132;01m{0}\u001b[39;00m\u001b[38;5;124m folds for each of \u001b[39m\u001b[38;5;132;01m{1}\u001b[39;00m\u001b[38;5;124m candidates,\u001b[39m\u001b[38;5;124m\"\u001b[39m\n\u001b[0;32m    817\u001b[0m         \u001b[38;5;124m\"\u001b[39m\u001b[38;5;124m totalling \u001b[39m\u001b[38;5;132;01m{2}\u001b[39;00m\u001b[38;5;124m fits\u001b[39m\u001b[38;5;124m\"\u001b[39m\u001b[38;5;241m.\u001b[39mformat(\n\u001b[0;32m    818\u001b[0m             n_splits, n_candidates, n_candidates \u001b[38;5;241m*\u001b[39m n_splits\n\u001b[0;32m    819\u001b[0m         )\n\u001b[0;32m    820\u001b[0m     )\n\u001b[1;32m--> 822\u001b[0m out \u001b[38;5;241m=\u001b[39m \u001b[43mparallel\u001b[49m\u001b[43m(\u001b[49m\n\u001b[0;32m    823\u001b[0m \u001b[43m    \u001b[49m\u001b[43mdelayed\u001b[49m\u001b[43m(\u001b[49m\u001b[43m_fit_and_score\u001b[49m\u001b[43m)\u001b[49m\u001b[43m(\u001b[49m\n\u001b[0;32m    824\u001b[0m \u001b[43m        \u001b[49m\u001b[43mclone\u001b[49m\u001b[43m(\u001b[49m\u001b[43mbase_estimator\u001b[49m\u001b[43m)\u001b[49m\u001b[43m,\u001b[49m\n\u001b[0;32m    825\u001b[0m \u001b[43m        \u001b[49m\u001b[43mX\u001b[49m\u001b[43m,\u001b[49m\n\u001b[0;32m    826\u001b[0m \u001b[43m        \u001b[49m\u001b[43my\u001b[49m\u001b[43m,\u001b[49m\n\u001b[0;32m    827\u001b[0m \u001b[43m        \u001b[49m\u001b[43mtrain\u001b[49m\u001b[38;5;241;43m=\u001b[39;49m\u001b[43mtrain\u001b[49m\u001b[43m,\u001b[49m\n\u001b[0;32m    828\u001b[0m \u001b[43m        \u001b[49m\u001b[43mtest\u001b[49m\u001b[38;5;241;43m=\u001b[39;49m\u001b[43mtest\u001b[49m\u001b[43m,\u001b[49m\n\u001b[0;32m    829\u001b[0m \u001b[43m        \u001b[49m\u001b[43mparameters\u001b[49m\u001b[38;5;241;43m=\u001b[39;49m\u001b[43mparameters\u001b[49m\u001b[43m,\u001b[49m\n\u001b[0;32m    830\u001b[0m \u001b[43m        \u001b[49m\u001b[43msplit_progress\u001b[49m\u001b[38;5;241;43m=\u001b[39;49m\u001b[43m(\u001b[49m\u001b[43msplit_idx\u001b[49m\u001b[43m,\u001b[49m\u001b[43m \u001b[49m\u001b[43mn_splits\u001b[49m\u001b[43m)\u001b[49m\u001b[43m,\u001b[49m\n\u001b[0;32m    831\u001b[0m \u001b[43m        \u001b[49m\u001b[43mcandidate_progress\u001b[49m\u001b[38;5;241;43m=\u001b[39;49m\u001b[43m(\u001b[49m\u001b[43mcand_idx\u001b[49m\u001b[43m,\u001b[49m\u001b[43m \u001b[49m\u001b[43mn_candidates\u001b[49m\u001b[43m)\u001b[49m\u001b[43m,\u001b[49m\n\u001b[0;32m    832\u001b[0m \u001b[43m        \u001b[49m\u001b[38;5;241;43m*\u001b[39;49m\u001b[38;5;241;43m*\u001b[39;49m\u001b[43mfit_and_score_kwargs\u001b[49m\u001b[43m,\u001b[49m\n\u001b[0;32m    833\u001b[0m \u001b[43m    \u001b[49m\u001b[43m)\u001b[49m\n\u001b[0;32m    834\u001b[0m \u001b[43m    \u001b[49m\u001b[38;5;28;43;01mfor\u001b[39;49;00m\u001b[43m \u001b[49m\u001b[43m(\u001b[49m\u001b[43mcand_idx\u001b[49m\u001b[43m,\u001b[49m\u001b[43m \u001b[49m\u001b[43mparameters\u001b[49m\u001b[43m)\u001b[49m\u001b[43m,\u001b[49m\u001b[43m \u001b[49m\u001b[43m(\u001b[49m\u001b[43msplit_idx\u001b[49m\u001b[43m,\u001b[49m\u001b[43m \u001b[49m\u001b[43m(\u001b[49m\u001b[43mtrain\u001b[49m\u001b[43m,\u001b[49m\u001b[43m \u001b[49m\u001b[43mtest\u001b[49m\u001b[43m)\u001b[49m\u001b[43m)\u001b[49m\u001b[43m \u001b[49m\u001b[38;5;129;43;01min\u001b[39;49;00m\u001b[43m \u001b[49m\u001b[43mproduct\u001b[49m\u001b[43m(\u001b[49m\n\u001b[0;32m    835\u001b[0m \u001b[43m        \u001b[49m\u001b[38;5;28;43menumerate\u001b[39;49m\u001b[43m(\u001b[49m\u001b[43mcandidate_params\u001b[49m\u001b[43m)\u001b[49m\u001b[43m,\u001b[49m\u001b[43m \u001b[49m\u001b[38;5;28;43menumerate\u001b[39;49m\u001b[43m(\u001b[49m\u001b[43mcv\u001b[49m\u001b[38;5;241;43m.\u001b[39;49m\u001b[43msplit\u001b[49m\u001b[43m(\u001b[49m\u001b[43mX\u001b[49m\u001b[43m,\u001b[49m\u001b[43m \u001b[49m\u001b[43my\u001b[49m\u001b[43m,\u001b[49m\u001b[43m \u001b[49m\u001b[43mgroups\u001b[49m\u001b[43m)\u001b[49m\u001b[43m)\u001b[49m\n\u001b[0;32m    836\u001b[0m \u001b[43m    \u001b[49m\u001b[43m)\u001b[49m\n\u001b[0;32m    837\u001b[0m \u001b[43m\u001b[49m\u001b[43m)\u001b[49m\n\u001b[0;32m    839\u001b[0m \u001b[38;5;28;01mif\u001b[39;00m \u001b[38;5;28mlen\u001b[39m(out) \u001b[38;5;241m<\u001b[39m \u001b[38;5;241m1\u001b[39m:\n\u001b[0;32m    840\u001b[0m     \u001b[38;5;28;01mraise\u001b[39;00m \u001b[38;5;167;01mValueError\u001b[39;00m(\n\u001b[0;32m    841\u001b[0m         \u001b[38;5;124m\"\u001b[39m\u001b[38;5;124mNo fits were performed. \u001b[39m\u001b[38;5;124m\"\u001b[39m\n\u001b[0;32m    842\u001b[0m         \u001b[38;5;124m\"\u001b[39m\u001b[38;5;124mWas the CV iterator empty? \u001b[39m\u001b[38;5;124m\"\u001b[39m\n\u001b[0;32m    843\u001b[0m         \u001b[38;5;124m\"\u001b[39m\u001b[38;5;124mWere there no candidates?\u001b[39m\u001b[38;5;124m\"\u001b[39m\n\u001b[0;32m    844\u001b[0m     )\n",
      "File \u001b[1;32m~\\anaconda3\\envs\\smoking\\lib\\site-packages\\joblib\\parallel.py:1056\u001b[0m, in \u001b[0;36mParallel.__call__\u001b[1;34m(self, iterable)\u001b[0m\n\u001b[0;32m   1053\u001b[0m     \u001b[38;5;28mself\u001b[39m\u001b[38;5;241m.\u001b[39m_iterating \u001b[38;5;241m=\u001b[39m \u001b[38;5;28;01mFalse\u001b[39;00m\n\u001b[0;32m   1055\u001b[0m \u001b[38;5;28;01mwith\u001b[39;00m \u001b[38;5;28mself\u001b[39m\u001b[38;5;241m.\u001b[39m_backend\u001b[38;5;241m.\u001b[39mretrieval_context():\n\u001b[1;32m-> 1056\u001b[0m     \u001b[38;5;28;43mself\u001b[39;49m\u001b[38;5;241;43m.\u001b[39;49m\u001b[43mretrieve\u001b[49m\u001b[43m(\u001b[49m\u001b[43m)\u001b[49m\n\u001b[0;32m   1057\u001b[0m \u001b[38;5;66;03m# Make sure that we get a last message telling us we are done\u001b[39;00m\n\u001b[0;32m   1058\u001b[0m elapsed_time \u001b[38;5;241m=\u001b[39m time\u001b[38;5;241m.\u001b[39mtime() \u001b[38;5;241m-\u001b[39m \u001b[38;5;28mself\u001b[39m\u001b[38;5;241m.\u001b[39m_start_time\n",
      "File \u001b[1;32m~\\anaconda3\\envs\\smoking\\lib\\site-packages\\joblib\\parallel.py:935\u001b[0m, in \u001b[0;36mParallel.retrieve\u001b[1;34m(self)\u001b[0m\n\u001b[0;32m    933\u001b[0m \u001b[38;5;28;01mtry\u001b[39;00m:\n\u001b[0;32m    934\u001b[0m     \u001b[38;5;28;01mif\u001b[39;00m \u001b[38;5;28mgetattr\u001b[39m(\u001b[38;5;28mself\u001b[39m\u001b[38;5;241m.\u001b[39m_backend, \u001b[38;5;124m'\u001b[39m\u001b[38;5;124msupports_timeout\u001b[39m\u001b[38;5;124m'\u001b[39m, \u001b[38;5;28;01mFalse\u001b[39;00m):\n\u001b[1;32m--> 935\u001b[0m         \u001b[38;5;28mself\u001b[39m\u001b[38;5;241m.\u001b[39m_output\u001b[38;5;241m.\u001b[39mextend(\u001b[43mjob\u001b[49m\u001b[38;5;241;43m.\u001b[39;49m\u001b[43mget\u001b[49m\u001b[43m(\u001b[49m\u001b[43mtimeout\u001b[49m\u001b[38;5;241;43m=\u001b[39;49m\u001b[38;5;28;43mself\u001b[39;49m\u001b[38;5;241;43m.\u001b[39;49m\u001b[43mtimeout\u001b[49m\u001b[43m)\u001b[49m)\n\u001b[0;32m    936\u001b[0m     \u001b[38;5;28;01melse\u001b[39;00m:\n\u001b[0;32m    937\u001b[0m         \u001b[38;5;28mself\u001b[39m\u001b[38;5;241m.\u001b[39m_output\u001b[38;5;241m.\u001b[39mextend(job\u001b[38;5;241m.\u001b[39mget())\n",
      "File \u001b[1;32m~\\anaconda3\\envs\\smoking\\lib\\site-packages\\joblib\\_parallel_backends.py:542\u001b[0m, in \u001b[0;36mLokyBackend.wrap_future_result\u001b[1;34m(future, timeout)\u001b[0m\n\u001b[0;32m    539\u001b[0m \u001b[38;5;124;03m\"\"\"Wrapper for Future.result to implement the same behaviour as\u001b[39;00m\n\u001b[0;32m    540\u001b[0m \u001b[38;5;124;03mAsyncResults.get from multiprocessing.\"\"\"\u001b[39;00m\n\u001b[0;32m    541\u001b[0m \u001b[38;5;28;01mtry\u001b[39;00m:\n\u001b[1;32m--> 542\u001b[0m     \u001b[38;5;28;01mreturn\u001b[39;00m \u001b[43mfuture\u001b[49m\u001b[38;5;241;43m.\u001b[39;49m\u001b[43mresult\u001b[49m\u001b[43m(\u001b[49m\u001b[43mtimeout\u001b[49m\u001b[38;5;241;43m=\u001b[39;49m\u001b[43mtimeout\u001b[49m\u001b[43m)\u001b[49m\n\u001b[0;32m    543\u001b[0m \u001b[38;5;28;01mexcept\u001b[39;00m CfTimeoutError \u001b[38;5;28;01mas\u001b[39;00m e:\n\u001b[0;32m    544\u001b[0m     \u001b[38;5;28;01mraise\u001b[39;00m \u001b[38;5;167;01mTimeoutError\u001b[39;00m \u001b[38;5;28;01mfrom\u001b[39;00m \u001b[38;5;21;01me\u001b[39;00m\n",
      "File \u001b[1;32m~\\anaconda3\\envs\\smoking\\lib\\concurrent\\futures\\_base.py:439\u001b[0m, in \u001b[0;36mFuture.result\u001b[1;34m(self, timeout)\u001b[0m\n\u001b[0;32m    436\u001b[0m \u001b[38;5;28;01melif\u001b[39;00m \u001b[38;5;28mself\u001b[39m\u001b[38;5;241m.\u001b[39m_state \u001b[38;5;241m==\u001b[39m FINISHED:\n\u001b[0;32m    437\u001b[0m     \u001b[38;5;28;01mreturn\u001b[39;00m \u001b[38;5;28mself\u001b[39m\u001b[38;5;241m.\u001b[39m__get_result()\n\u001b[1;32m--> 439\u001b[0m \u001b[38;5;28;43mself\u001b[39;49m\u001b[38;5;241;43m.\u001b[39;49m\u001b[43m_condition\u001b[49m\u001b[38;5;241;43m.\u001b[39;49m\u001b[43mwait\u001b[49m\u001b[43m(\u001b[49m\u001b[43mtimeout\u001b[49m\u001b[43m)\u001b[49m\n\u001b[0;32m    441\u001b[0m \u001b[38;5;28;01mif\u001b[39;00m \u001b[38;5;28mself\u001b[39m\u001b[38;5;241m.\u001b[39m_state \u001b[38;5;129;01min\u001b[39;00m [CANCELLED, CANCELLED_AND_NOTIFIED]:\n\u001b[0;32m    442\u001b[0m     \u001b[38;5;28;01mraise\u001b[39;00m CancelledError()\n",
      "File \u001b[1;32m~\\anaconda3\\envs\\smoking\\lib\\threading.py:302\u001b[0m, in \u001b[0;36mCondition.wait\u001b[1;34m(self, timeout)\u001b[0m\n\u001b[0;32m    300\u001b[0m \u001b[38;5;28;01mtry\u001b[39;00m:    \u001b[38;5;66;03m# restore state no matter what (e.g., KeyboardInterrupt)\u001b[39;00m\n\u001b[0;32m    301\u001b[0m     \u001b[38;5;28;01mif\u001b[39;00m timeout \u001b[38;5;129;01mis\u001b[39;00m \u001b[38;5;28;01mNone\u001b[39;00m:\n\u001b[1;32m--> 302\u001b[0m         \u001b[43mwaiter\u001b[49m\u001b[38;5;241;43m.\u001b[39;49m\u001b[43macquire\u001b[49m\u001b[43m(\u001b[49m\u001b[43m)\u001b[49m\n\u001b[0;32m    303\u001b[0m         gotit \u001b[38;5;241m=\u001b[39m \u001b[38;5;28;01mTrue\u001b[39;00m\n\u001b[0;32m    304\u001b[0m     \u001b[38;5;28;01melse\u001b[39;00m:\n",
      "\u001b[1;31mKeyboardInterrupt\u001b[0m: "
     ]
    }
   ],
   "source": [
    "from sklearn.ensemble import RandomForestClassifier\n",
    "\n",
    "params = {\n",
    "    'n_estimators':range(100,701,100),\n",
    "    'max_depth':range(20,40),\n",
    "    'max_features':range(10,20)\n",
    "}\n",
    "\n",
    "rs = RandomizedSearchCV(RandomForestClassifier(random_state=0),\n",
    "                       params,\n",
    "                       scoring='accuracy',\n",
    "                       cv=4,\n",
    "                       n_jobs=-1,\n",
    "                       n_iter=60)\n",
    "\n",
    "rs.fit(X_train, y_train)"
   ]
  },
  {
   "cell_type": "code",
   "execution_count": 255,
   "id": "06f17582",
   "metadata": {},
   "outputs": [
    {
     "data": {
      "text/plain": [
       "0.7995262223114687"
      ]
     },
     "execution_count": 255,
     "metadata": {},
     "output_type": "execute_result"
    }
   ],
   "source": [
    "rs.best_score_"
   ]
  },
  {
   "cell_type": "code",
   "execution_count": 256,
   "id": "1face7c8",
   "metadata": {},
   "outputs": [
    {
     "data": {
      "text/plain": [
       "{'n_estimators': 600, 'max_depth': 33}"
      ]
     },
     "execution_count": 256,
     "metadata": {},
     "output_type": "execute_result"
    }
   ],
   "source": [
    "rs.best_params_"
   ]
  },
  {
   "cell_type": "markdown",
   "id": "4c05c112",
   "metadata": {},
   "source": [
    "##### feature importance"
   ]
  },
  {
   "cell_type": "markdown",
   "id": "128c4a8c",
   "metadata": {},
   "source": [
    "### 최적의 하이퍼 파라미터 찾기 \n",
    "- 과대적합 줄이고\n",
    "- 성능 "
   ]
  },
  {
   "cell_type": "markdown",
   "id": "ce4acefe",
   "metadata": {},
   "source": [
    "- esimators 갯수에 따른 최적의 depth 찾기. 성능 좋은 것 고르기. 패턴 찾기\n",
    "- 두 조합 최적을 구했으면 다른 매개변수 ramdomserach 돌려 최적의 값 찾기"
   ]
  },
  {
   "cell_type": "markdown",
   "id": "29a14207",
   "metadata": {},
   "source": [
    "#### 1. n_estimators=500\n",
    "##### ramdom serach : 500 기준 depth  결과 => 21"
   ]
  },
  {
   "cell_type": "markdown",
   "id": "c47a48ca",
   "metadata": {},
   "source": [
    "- max_depth 19 기준 500 하니 : 600 보다 조금 떨어짐. "
   ]
  },
  {
   "cell_type": "markdown",
   "id": "20b8736a",
   "metadata": {},
   "source": [
    "##### max_depth = 18 정확도 0.8187\n",
    "\n",
    "##### max_depth = 19 정확도 0.82091 - test set : 0.82091 ^_^\n",
    "##### max_depth = 20 정확도 0.81943 - test set : 0.82022  \n",
    "\n",
    "##### max_depth = 21 정확도 0.81864   - test set : 0.8197\n",
    "\n",
    "##### max_depth = 22 정확도 0.82249 => 과대적합 일 수도. 랜덤서치 돌려봐야 함.\n",
    "##### max_depth = 23 정확도  0.81993  => 과대적합\n",
    "##### max_depth = 24 정확도  0.8211   => 과대적합\n"
   ]
  },
  {
   "cell_type": "code",
   "execution_count": 131,
   "id": "216ee948",
   "metadata": {},
   "outputs": [
    {
     "name": "stdout",
     "output_type": "stream",
     "text": [
      "==================================================\n",
      "rf모델 train 데이터 평가지표\n",
      "==================================================\n",
      "정확도(Accuracy): 0.997006874321613\n",
      "재현율(Recall): 0.9936708860759493\n",
      "정밀도(Precision): 0.9974587039390089\n",
      "F1 점수(F1 Score) 0.9955611921369689\n",
      "==================================================\n",
      "==================================================\n",
      "rf 모델 val 데이터 평가지표\n",
      "==================================================\n",
      "정확도(Accuracy): 0.8200296003946719\n",
      "재현율(Recall): 0.7397020157756354\n",
      "정밀도(Precision): 0.7307359307359307\n",
      "F1 점수(F1 Score) 0.735191637630662\n",
      "==================================================\n"
     ]
    }
   ],
   "source": [
    "from sklearn.ensemble import RandomForestClassifier\n",
    "\n",
    "rf = RandomForestClassifier(n_estimators=500, # decisionTree 모델의 갯수\n",
    "                            max_depth=19,# max depth 최적화하기\n",
    "                            random_state=0, \n",
    "                            #max_features= 24, # 전체피쳐 sqrt\n",
    "                            n_jobs=-1)\n",
    "\n",
    "rf.fit(X_train, y_train)\n",
    "\n",
    "# 예측\n",
    "pred_train_rf1 = rf.predict(X_train)\n",
    "pred_val_rf1 = rf.predict(X_val)\n",
    "\n",
    "proba_train_rf1 = rf.predict_proba(X_train)[:,1]\n",
    "proba_val_rf1 = rf.predict_proba(X_val)[:,1]\n",
    "\n",
    "\n",
    "print_classification_metrics(y_train, pred_train_rf1, title='rf모델 train 데이터 평가지표')\n",
    "print_classification_metrics(y_val, pred_val_rf1, title='rf 모델 val 데이터 평가지표')"
   ]
  },
  {
   "cell_type": "code",
   "execution_count": 132,
   "id": "a291ecc2",
   "metadata": {},
   "outputs": [
    {
     "name": "stdout",
     "output_type": "stream",
     "text": [
      "==================================================\n",
      "Train 성능지표\n",
      "==================================================\n",
      "정확도(Accuracy): 0.997006874321613\n",
      "재현율(Recall): 0.9936708860759493\n",
      "정밀도(Precision): 0.9974587039390089\n",
      "F1 점수(F1 Score) 0.9955611921369689\n",
      "==================================================\n",
      "==================================================\n",
      "Test 성능지표\n",
      "==================================================\n",
      "정확도(Accuracy): 0.8210162802170695\n",
      "재현율(Recall): 0.7403621495327103\n",
      "정밀도(Precision): 0.7326589595375722\n",
      "F1 점수(F1 Score) 0.7364904125508425\n",
      "==================================================\n",
      "==================================================\n",
      "roc-auc score\n",
      "==================================================\n",
      "0.9035872893854002\n",
      "==================================================\n"
     ]
    },
    {
     "data": {
      "image/png": "[encoded data removed]",
      "text/plain": [
       "<Figure size 432x288 with 1 Axes>"
      ]
     },
     "metadata": {
      "needs_background": "light"
     },
     "output_type": "display_data"
    }
   ],
   "source": [
    "pred_train = rf.predict(X_train)\n",
    "pred_test = rf.predict(X_test)\n",
    "\n",
    "proba_train = rf.predict_proba(X_train)[:,1]\n",
    "proba_test = rf.predict_proba(X_test)[:,1]\n",
    "\n",
    "print_classification_metrics(y_train, pred_train, title='Train 성능지표')\n",
    "print_classification_metrics(y_test, pred_test, title='Test 성능지표')\n",
    "\n",
    "display_roc_curve(y_test, proba_test, title='Test_roc curve')"
   ]
  },
  {
   "cell_type": "code",
   "execution_count": 134,
   "id": "81c51553",
   "metadata": {},
   "outputs": [
    {
     "data": {
      "image/png": "[encoded data removed]",
      "text/plain": [
       "<Figure size 576x432 with 1 Axes>"
      ]
     },
     "metadata": {
      "needs_background": "light"
     },
     "output_type": "display_data"
    }
   ],
   "source": [
    "ftr_importances_values = rf.feature_importances_\n",
    "ftr_importances = pd.Series(ftr_importances_values, index = X_train.columns)\n",
    "ftr = ftr_importances.sort_values(ascending=False)\n",
    "\n",
    "plt.figure(figsize=(8,6))\n",
    "plt.title('Feature Importances')\n",
    "sns.barplot(x=ftr, y=ftr.index)\n",
    "plt.show()"
   ]
  },
  {
   "cell_type": "markdown",
   "id": "24327c2c",
   "metadata": {},
   "source": [
    "#### 2. n_estimators=600\n",
    "##### ramdom serach :  600 기준 depth 10 ~ 24  결과 => 21"
   ]
  },
  {
   "cell_type": "markdown",
   "id": "96eddf81",
   "metadata": {},
   "source": [
    "##### max_depth = 18 정확도 0.81785 - test set : 0.81884\n",
    "##### max_depth = 19 정확도 0.82190 - test set : 0.81963\n",
    "\n",
    "##### max_depth = 20 정확도  0.82081 - test set : 0.82052   ^_^\n",
    "##### max_depth = 21 정확도  0.81736  - test set : 0.81953\n",
    "\n",
    "##### max_depth = 22 정확도  0.82160  - test set : 0.82170    => 과대적합,,?\n",
    "##### max_depth = 23 정확도 0.81993 - test set : 0.81953 => 과대적합\n"
   ]
  },
  {
   "cell_type": "code",
   "execution_count": 54,
   "id": "69465b88",
   "metadata": {},
   "outputs": [],
   "source": [
    "from sklearn.ensemble import RandomForestClassifier\n",
    "\n",
    "rf = RandomForestClassifier(n_estimators=600, # decisionTree 모델의 갯수\n",
    "                            max_depth=18,# max depth 최적화하기\n",
    "                            random_state=0, \n",
    "                            #max_features= 24, # 전체피쳐 sqrt\n",
    "                            n_jobs=-1)\n",
    "\n",
    "rf.fit(X_train, y_train)\n",
    "\n",
    "# 예측\n",
    "pred_train_rf1 = rf.predict(X_train)\n",
    "pred_val_rf1 = rf.predict(X_val)\n",
    "\n",
    "proba_train_rf1 = rf.predict_proba(X_train)[:,1]\n",
    "proba_val_rf1 = rf.predict_proba(X_val)[:,1]"
   ]
  },
  {
   "cell_type": "code",
   "execution_count": 55,
   "id": "ca8d0cab",
   "metadata": {},
   "outputs": [
    {
     "name": "stdout",
     "output_type": "stream",
     "text": [
      "==================================================\n",
      "rf모델 train 데이터 평가지표\n",
      "==================================================\n",
      "정확도(Accuracy): 0.9928954379502023\n",
      "재현율(Recall): 0.9883154819863681\n",
      "정밀도(Precision): 0.9906304899472965\n",
      "F1 점수(F1 Score) 0.989471631897056\n",
      "==================================================\n",
      "==================================================\n",
      "rf 모델 val 데이터 평가지표\n",
      "==================================================\n",
      "정확도(Accuracy): 0.8178589047853971\n",
      "재현율(Recall): 0.7373648846041484\n",
      "정밀도(Precision): 0.7271679631230193\n",
      "F1 점수(F1 Score) 0.7322309254424136\n",
      "==================================================\n"
     ]
    }
   ],
   "source": [
    "print_classification_metrics(y_train, pred_train_rf1, title='rf모델 train 데이터 평가지표')\n",
    "print_classification_metrics(y_val, pred_val_rf1, title='rf 모델 val 데이터 평가지표')"
   ]
  },
  {
   "cell_type": "code",
   "execution_count": 56,
   "id": "1e371b01",
   "metadata": {},
   "outputs": [
    {
     "name": "stdout",
     "output_type": "stream",
     "text": [
      "==================================================\n",
      "Train 성능지표\n",
      "==================================================\n",
      "정확도(Accuracy): 0.9928954379502023\n",
      "재현율(Recall): 0.9883154819863681\n",
      "정밀도(Precision): 0.9906304899472965\n",
      "F1 점수(F1 Score) 0.989471631897056\n",
      "==================================================\n",
      "==================================================\n",
      "Test 성능지표\n",
      "==================================================\n",
      "정확도(Accuracy): 0.8188455846077948\n",
      "재현율(Recall): 0.7380257009345794\n",
      "정밀도(Precision): 0.7290825158684362\n",
      "F1 점수(F1 Score) 0.7335268505079825\n",
      "==================================================\n",
      "==================================================\n",
      "roc-auc score\n",
      "==================================================\n",
      "0.9038956215698316\n",
      "==================================================\n"
     ]
    },
    {
     "data": {
      "image/png": "[encoded data removed]",
      "text/plain": [
       "<Figure size 432x288 with 1 Axes>"
      ]
     },
     "metadata": {
      "needs_background": "light"
     },
     "output_type": "display_data"
    }
   ],
   "source": [
    "pred_train = rf.predict(X_train)\n",
    "pred_test = rf.predict(X_test)\n",
    "\n",
    "proba_train = rf.predict_proba(X_train)[:,1]\n",
    "proba_val = rf.predict_proba(X_test)[:,1]\n",
    "\n",
    "print_classification_metrics(y_train, pred_train, title='Train 성능지표')\n",
    "print_classification_metrics(y_test, pred_test, title='Test 성능지표')\n",
    "\n",
    "display_roc_curve(y_test, proba_test, title='Test_roc curve')"
   ]
  },
  {
   "cell_type": "markdown",
   "id": "349f2b05",
   "metadata": {},
   "source": [
    "#### 3. n_estimators=700\n",
    "##### ramdom serach : 700 기준 depth  => 22"
   ]
  },
  {
   "cell_type": "markdown",
   "id": "43ca3f36",
   "metadata": {},
   "source": [
    "##### max_depth = 18 정확도 0.8169  - test set : 0.81766\n",
    "##### max_depth = 19 정확도 0.82180  - test set : 0.82032 \n",
    "##### max_depth = 20 정확도 0.82259  - test set : 0.82081   ^_^\n",
    "##### max_depth = 21 정확도 0.8183  - test set : 0.82012       => 과대적합 ??\n",
    "##### max_depth = 22 정확도 0.822594 - test set : 0.8214  \n"
   ]
  },
  {
   "cell_type": "code",
   "execution_count": 67,
   "id": "b8844359",
   "metadata": {},
   "outputs": [
    {
     "name": "stdout",
     "output_type": "stream",
     "text": [
      "==================================================\n",
      "rf모델 train 데이터 평가지표\n",
      "==================================================\n",
      "정확도(Accuracy): 0.999769759563201\n",
      "재현율(Recall): 0.9993184031158715\n",
      "정밀도(Precision): 1.0\n",
      "F1 점수(F1 Score) 0.9996590853747626\n",
      "==================================================\n",
      "==================================================\n",
      "rf 모델 val 데이터 평가지표\n",
      "==================================================\n",
      "정확도(Accuracy): 0.8225949679329058\n",
      "재현율(Recall): 0.740578439964943\n",
      "정밀도(Precision): 0.7358490566037735\n",
      "F1 점수(F1 Score) 0.7382061735585322\n",
      "==================================================\n"
     ]
    }
   ],
   "source": [
    "from sklearn.ensemble import RandomForestClassifier\n",
    "\n",
    "rf = RandomForestClassifier(n_estimators=700, # decisionTree 모델의 갯수\n",
    "                            max_depth=22,# max depth 최적화하기\n",
    "                            random_state=0, \n",
    "                            #max_features= 24, # 전체피쳐 sqrt\n",
    "                            n_jobs=-1)\n",
    "\n",
    "rf.fit(X_train, y_train)\n",
    "\n",
    "# 예측\n",
    "pred_train_rf1 = rf.predict(X_train)\n",
    "pred_val_rf1 = rf.predict(X_val)\n",
    "\n",
    "proba_train_rf1 = rf.predict_proba(X_train)[:,1]\n",
    "proba_val_rf1 = rf.predict_proba(X_val)[:,1]\n",
    "\n",
    "\n",
    "print_classification_metrics(y_train, pred_train_rf1, title='rf모델 train 데이터 평가지표')\n",
    "print_classification_metrics(y_val, pred_val_rf1, title='rf 모델 val 데이터 평가지표')"
   ]
  },
  {
   "cell_type": "code",
   "execution_count": 66,
   "id": "8872c430",
   "metadata": {},
   "outputs": [
    {
     "name": "stdout",
     "output_type": "stream",
     "text": [
      "==================================================\n",
      "Train 성능지표\n",
      "==================================================\n",
      "정확도(Accuracy): 0.9930598954050587\n",
      "재현율(Recall): 0.9883154819863681\n",
      "정밀도(Precision): 0.9911141490088858\n",
      "F1 점수(F1 Score) 0.989712837014285\n",
      "==================================================\n",
      "==================================================\n",
      "Test 성능지표\n",
      "==================================================\n",
      "정확도(Accuracy): 0.8176615688209176\n",
      "재현율(Recall): 0.7362733644859814\n",
      "정밀도(Precision): 0.7273514137334103\n",
      "F1 점수(F1 Score) 0.7317851959361393\n",
      "==================================================\n",
      "==================================================\n",
      "roc-auc score\n",
      "==================================================\n",
      "0.9038956215698316\n",
      "==================================================\n"
     ]
    },
    {
     "data": {
      "image/png": "[encoded data removed]",
      "text/plain": [
       "<Figure size 432x288 with 1 Axes>"
      ]
     },
     "metadata": {
      "needs_background": "light"
     },
     "output_type": "display_data"
    }
   ],
   "source": [
    "pred_train = rf.predict(X_train)\n",
    "pred_test = rf.predict(X_test)\n",
    "\n",
    "proba_train = rf.predict_proba(X_train)[:,1]\n",
    "proba_val = rf.predict_proba(X_test)[:,1]\n",
    "\n",
    "print_classification_metrics(y_train, pred_train, title='Train 성능지표')\n",
    "print_classification_metrics(y_test, pred_test, title='Test 성능지표')\n",
    "\n",
    "display_roc_curve(y_test, proba_test, title='Test_roc curve')"
   ]
  },
  {
   "cell_type": "code",
   "execution_count": null,
   "id": "b200f453",
   "metadata": {},
   "outputs": [],
   "source": []
  },
  {
   "cell_type": "markdown",
   "id": "af72b5b9",
   "metadata": {},
   "source": [
    "### - 'oral', 'hearing(left)', 'hearing(right)' 만 제거."
   ]
  },
  {
   "cell_type": "markdown",
   "id": "d1ac890a",
   "metadata": {},
   "source": [
    "## 학습"
   ]
  },
  {
   "cell_type": "code",
   "execution_count": 121,
   "id": "83d83e15",
   "metadata": {},
   "outputs": [
    {
     "data": {
      "text/html": [
       "<style>#sk-container-id-6 {color: black;background-color: white;}#sk-container-id-6 pre{padding: 0;}#sk-container-id-6 div.sk-toggleable {background-color: white;}#sk-container-id-6 label.sk-toggleable__label {cursor: pointer;display: block;width: 100%;margin-bottom: 0;padding: 0.3em;box-sizing: border-box;text-align: center;}#sk-container-id-6 label.sk-toggleable__label-arrow:before {content: \"▸\";float: left;margin-right: 0.25em;color: #696969;}#sk-container-id-6 label.sk-toggleable__label-arrow:hover:before {color: black;}#sk-container-id-6 div.sk-estimator:hover label.sk-toggleable__label-arrow:before {color: black;}#sk-container-id-6 div.sk-toggleable__content {max-height: 0;max-width: 0;overflow: hidden;text-align: left;background-color: #f0f8ff;}#sk-container-id-6 div.sk-toggleable__content pre {margin: 0.2em;color: black;border-radius: 0.25em;background-color: #f0f8ff;}#sk-container-id-6 input.sk-toggleable__control:checked~div.sk-toggleable__content {max-height: 200px;max-width: 100%;overflow: auto;}#sk-container-id-6 input.sk-toggleable__control:checked~label.sk-toggleable__label-arrow:before {content: \"▾\";}#sk-container-id-6 div.sk-estimator input.sk-toggleable__control:checked~label.sk-toggleable__label {background-color: #d4ebff;}#sk-container-id-6 div.sk-label input.sk-toggleable__control:checked~label.sk-toggleable__label {background-color: #d4ebff;}#sk-container-id-6 input.sk-hidden--visually {border: 0;clip: rect(1px 1px 1px 1px);clip: rect(1px, 1px, 1px, 1px);height: 1px;margin: -1px;overflow: hidden;padding: 0;position: absolute;width: 1px;}#sk-container-id-6 div.sk-estimator {font-family: monospace;background-color: #f0f8ff;border: 1px dotted black;border-radius: 0.25em;box-sizing: border-box;margin-bottom: 0.5em;}#sk-container-id-6 div.sk-estimator:hover {background-color: #d4ebff;}#sk-container-id-6 div.sk-parallel-item::after {content: \"\";width: 100%;border-bottom: 1px solid gray;flex-grow: 1;}#sk-container-id-6 div.sk-label:hover label.sk-toggleable__label {background-color: #d4ebff;}#sk-container-id-6 div.sk-serial::before {content: \"\";position: absolute;border-left: 1px solid gray;box-sizing: border-box;top: 0;bottom: 0;left: 50%;z-index: 0;}#sk-container-id-6 div.sk-serial {display: flex;flex-direction: column;align-items: center;background-color: white;padding-right: 0.2em;padding-left: 0.2em;position: relative;}#sk-container-id-6 div.sk-item {position: relative;z-index: 1;}#sk-container-id-6 div.sk-parallel {display: flex;align-items: stretch;justify-content: center;background-color: white;position: relative;}#sk-container-id-6 div.sk-item::before, #sk-container-id-6 div.sk-parallel-item::before {content: \"\";position: absolute;border-left: 1px solid gray;box-sizing: border-box;top: 0;bottom: 0;left: 50%;z-index: -1;}#sk-container-id-6 div.sk-parallel-item {display: flex;flex-direction: column;z-index: 1;position: relative;background-color: white;}#sk-container-id-6 div.sk-parallel-item:first-child::after {align-self: flex-end;width: 50%;}#sk-container-id-6 div.sk-parallel-item:last-child::after {align-self: flex-start;width: 50%;}#sk-container-id-6 div.sk-parallel-item:only-child::after {width: 0;}#sk-container-id-6 div.sk-dashed-wrapped {border: 1px dashed gray;margin: 0 0.4em 0.5em 0.4em;box-sizing: border-box;padding-bottom: 0.4em;background-color: white;}#sk-container-id-6 div.sk-label label {font-family: monospace;font-weight: bold;display: inline-block;line-height: 1.2em;}#sk-container-id-6 div.sk-label-container {text-align: center;}#sk-container-id-6 div.sk-container {/* jupyter's `normalize.less` sets `[hidden] { display: none; }` but bootstrap.min.css set `[hidden] { display: none !important; }` so we also need the `!important` here to be able to override the default hidden behavior on the sphinx rendered scikit-learn.org. See: https://github.com/scikit-learn/scikit-learn/issues/21755 */display: inline-block !important;position: relative;}#sk-container-id-6 div.sk-text-repr-fallback {display: none;}</style><div id=\"sk-container-id-6\" class=\"sk-top-container\"><div class=\"sk-text-repr-fallback\"><pre>RandomForestClassifier(max_depth=20, n_estimators=500, n_jobs=-1,\n",
       "                       random_state=0)</pre><b>In a Jupyter environment, please rerun this cell to show the HTML representation or trust the notebook. <br />On GitHub, the HTML representation is unable to render, please try loading this page with nbviewer.org.</b></div><div class=\"sk-container\" hidden><div class=\"sk-item\"><div class=\"sk-estimator sk-toggleable\"><input class=\"sk-toggleable__control sk-hidden--visually\" id=\"sk-estimator-id-6\" type=\"checkbox\" checked><label for=\"sk-estimator-id-6\" class=\"sk-toggleable__label sk-toggleable__label-arrow\">RandomForestClassifier</label><div class=\"sk-toggleable__content\"><pre>RandomForestClassifier(max_depth=20, n_estimators=500, n_jobs=-1,\n",
       "                       random_state=0)</pre></div></div></div></div></div>"
      ],
      "text/plain": [
       "RandomForestClassifier(max_depth=20, n_estimators=500, n_jobs=-1,\n",
       "                       random_state=0)"
      ]
     },
     "execution_count": 121,
     "metadata": {},
     "output_type": "execute_result"
    }
   ],
   "source": [
    "from sklearn.ensemble import RandomForestClassifier\n",
    "\n",
    "rf = RandomForestClassifier(n_estimators=500, # decisionTree 모델의 갯수\n",
    "                            max_depth=20,# DecisionTree 들의 하이퍼파라미터인 max_depth 를 5로 설정\n",
    "                            random_state=0, \n",
    "                            #max_features= 24, # 전체피쳐 sqrt\n",
    "                            n_jobs=-1)\n",
    "\n",
    "rf.fit(X_train, y_train)\n"
   ]
  },
  {
   "cell_type": "code",
   "execution_count": 122,
   "id": "c1da5698",
   "metadata": {},
   "outputs": [],
   "source": [
    "# 예측\n",
    "pred_train_rf1 = rf.predict(X_train)\n",
    "pred_val_rf1 = rf.predict(X_val)\n",
    "\n",
    "proba_train_rf1 = rf.predict_proba(X_train)[:,1]\n",
    "proba_val_rf1 = rf.predict_proba(X_val)[:,1]\n"
   ]
  },
  {
   "cell_type": "markdown",
   "id": "0d29d422",
   "metadata": {},
   "source": [
    "##### - 하이퍼파라미터 :{'n_estimators': 500, 'max_depth': 19} => 0.8200"
   ]
  },
  {
   "cell_type": "code",
   "execution_count": 112,
   "id": "b5da4e9a",
   "metadata": {},
   "outputs": [
    {
     "name": "stdout",
     "output_type": "stream",
     "text": [
      "==================================================\n",
      "rf모델 train 데이터 평가지표\n",
      "==================================================\n",
      "정확도(Accuracy): 0.997006874321613\n",
      "재현율(Recall): 0.9936708860759493\n",
      "정밀도(Precision): 0.9974587039390089\n",
      "F1 점수(F1 Score) 0.9955611921369689\n",
      "==================================================\n"
     ]
    }
   ],
   "source": [
    "print_classification_metrics(y_train, pred_train_rf1, title='rf모델 train 데이터 평가지표')"
   ]
  },
  {
   "cell_type": "code",
   "execution_count": 111,
   "id": "097e9477",
   "metadata": {
    "scrolled": false
   },
   "outputs": [
    {
     "name": "stdout",
     "output_type": "stream",
     "text": [
      "==================================================\n",
      "rf 모델 val 데이터 평가지표\n",
      "==================================================\n",
      "정확도(Accuracy): 0.8200296003946719\n",
      "재현율(Recall): 0.7397020157756354\n",
      "정밀도(Precision): 0.7307359307359307\n",
      "F1 점수(F1 Score) 0.735191637630662\n",
      "==================================================\n"
     ]
    }
   ],
   "source": [
    "print_classification_metrics(y_val, pred_val_rf1, title='rf 모델 val 데이터 평가지표')"
   ]
  },
  {
   "cell_type": "markdown",
   "id": "92f95fcb",
   "metadata": {},
   "source": [
    "##### - 하이퍼파라미터 :{'n_estimators': 500, 'max_depth': 20} => 0.82200"
   ]
  },
  {
   "cell_type": "code",
   "execution_count": 123,
   "id": "79185280",
   "metadata": {
    "scrolled": false
   },
   "outputs": [
    {
     "name": "stdout",
     "output_type": "stream",
     "text": [
      "==================================================\n",
      "rf모델 train 데이터 평가지표\n",
      "==================================================\n",
      "정확도(Accuracy): 0.9984540999243495\n",
      "재현율(Recall): 0.9965920155793574\n",
      "정밀도(Precision): 0.9988289255391822\n",
      "F1 점수(F1 Score) 0.9977092167470878\n",
      "==================================================\n"
     ]
    }
   ],
   "source": [
    "print_classification_metrics(y_train, pred_train_rf1, title='rf모델 train 데이터 평가지표')"
   ]
  },
  {
   "cell_type": "code",
   "execution_count": 124,
   "id": "3dca6ab9",
   "metadata": {
    "scrolled": false
   },
   "outputs": [
    {
     "name": "stdout",
     "output_type": "stream",
     "text": [
      "==================================================\n",
      "rf 모델 val 데이터 평가지표\n",
      "==================================================\n",
      "정확도(Accuracy): 0.8220029600394672\n",
      "재현율(Recall): 0.7411627227578148\n",
      "정밀도(Precision): 0.7342981186685963\n",
      "F1 점수(F1 Score) 0.7377144518755452\n",
      "==================================================\n"
     ]
    }
   ],
   "source": [
    "print_classification_metrics(y_val, pred_val_rf1, title='rf 모델 val 데이터 평가지표')"
   ]
  },
  {
   "cell_type": "markdown",
   "id": "4fe54f2e",
   "metadata": {},
   "source": [
    "##### - 하이퍼파라미터 :{'n_estimators': 500, 'max_depth': 21} => 0.82279"
   ]
  },
  {
   "cell_type": "code",
   "execution_count": 115,
   "id": "ed57d4c2",
   "metadata": {},
   "outputs": [
    {
     "name": "stdout",
     "output_type": "stream",
     "text": [
      "==================================================\n",
      "rf모델 train 데이터 평가지표\n",
      "==================================================\n",
      "정확도(Accuracy): 0.9994079531625168\n",
      "재현율(Recall): 0.9986368062317429\n",
      "정밀도(Precision): 0.9996101364522417\n",
      "F1 점수(F1 Score) 0.999123234291281\n",
      "==================================================\n"
     ]
    }
   ],
   "source": [
    "print_classification_metrics(y_train, pred_train_rf1, title='rf모델 train 데이터 평가지표')"
   ]
  },
  {
   "cell_type": "code",
   "execution_count": 116,
   "id": "8bd18f87",
   "metadata": {
    "scrolled": false
   },
   "outputs": [
    {
     "name": "stdout",
     "output_type": "stream",
     "text": [
      "==================================================\n",
      "rf 모델 val 데이터 평가지표\n",
      "==================================================\n",
      "정확도(Accuracy): 0.8227923038973853\n",
      "재현율(Recall): 0.7446684195150453\n",
      "정밀도(Precision): 0.7343704984154422\n",
      "F1 점수(F1 Score) 0.7394836089353061\n",
      "==================================================\n"
     ]
    }
   ],
   "source": [
    "print_classification_metrics(y_val, pred_val_rf1, title='rf 모델 val 데이터 평가지표')"
   ]
  },
  {
   "cell_type": "markdown",
   "id": "46180289",
   "metadata": {},
   "source": [
    "##### - 하이퍼파라미터 :{'n_estimators': 500, 'max_depth': 22} => 0.8196"
   ]
  },
  {
   "cell_type": "code",
   "execution_count": 119,
   "id": "ee00ea83",
   "metadata": {},
   "outputs": [
    {
     "name": "stdout",
     "output_type": "stream",
     "text": [
      "==================================================\n",
      "rf모델 train 데이터 평가지표\n",
      "==================================================\n",
      "정확도(Accuracy): 0.9998684340361148\n",
      "재현율(Recall): 0.9996105160662123\n",
      "정밀도(Precision): 1.0\n",
      "F1 점수(F1 Score) 0.9998052201012856\n",
      "==================================================\n"
     ]
    }
   ],
   "source": [
    "print_classification_metrics(y_train, pred_train_rf1, title='rf모델 train 데이터 평가지표')"
   ]
  },
  {
   "cell_type": "code",
   "execution_count": 120,
   "id": "0756f264",
   "metadata": {
    "scrolled": true
   },
   "outputs": [
    {
     "name": "stdout",
     "output_type": "stream",
     "text": [
      "==================================================\n",
      "rf 모델 val 데이터 평가지표\n",
      "==================================================\n",
      "정확도(Accuracy): 0.8196349284657128\n",
      "재현율(Recall): 0.7356120362255332\n",
      "정밀도(Precision): 0.7317640220866027\n",
      "F1 점수(F1 Score) 0.7336829836829837\n",
      "==================================================\n"
     ]
    }
   ],
   "source": [
    "print_classification_metrics(y_val, pred_val_rf1, title='rf 모델 val 데이터 평가지표')"
   ]
  },
  {
   "cell_type": "code",
   "execution_count": 103,
   "id": "75a7115a",
   "metadata": {
    "scrolled": true
   },
   "outputs": [
    {
     "name": "stdout",
     "output_type": "stream",
     "text": [
      "==================================================\n",
      "roc-auc score\n",
      "==================================================\n",
      "0.904122954270296\n",
      "==================================================\n"
     ]
    },
    {
     "data": {
      "image/png": "[encoded data removed]",
      "text/plain": [
       "<Figure size 432x288 with 1 Axes>"
      ]
     },
     "metadata": {
      "needs_background": "light"
     },
     "output_type": "display_data"
    }
   ],
   "source": [
    "display_roc_curve(y_val, proba_val_rf1, title='rf모델 val_roc curve')"
   ]
  },
  {
   "cell_type": "markdown",
   "id": "fde4a170",
   "metadata": {},
   "source": [
    "##### - 하이퍼파라미터 조정 : n_estimators=500, max_depth=20,  => 0.8220"
   ]
  },
  {
   "cell_type": "code",
   "execution_count": 106,
   "id": "97b118b9",
   "metadata": {},
   "outputs": [
    {
     "name": "stdout",
     "output_type": "stream",
     "text": [
      "==================================================\n",
      "rf모델 train 데이터 평가지표\n",
      "==================================================\n",
      "정확도(Accuracy): 0.9984540999243495\n",
      "재현율(Recall): 0.9965920155793574\n",
      "정밀도(Precision): 0.9988289255391822\n",
      "F1 점수(F1 Score) 0.9977092167470878\n",
      "==================================================\n"
     ]
    }
   ],
   "source": [
    "print_classification_metrics(y_train, pred_train_rf1, title='rf모델 train 데이터 평가지표')"
   ]
  },
  {
   "cell_type": "code",
   "execution_count": 107,
   "id": "dc12b0ae",
   "metadata": {
    "scrolled": false
   },
   "outputs": [
    {
     "name": "stdout",
     "output_type": "stream",
     "text": [
      "==================================================\n",
      "rf 모델 val 데이터 평가지표\n",
      "==================================================\n",
      "정확도(Accuracy): 0.8220029600394672\n",
      "재현율(Recall): 0.7411627227578148\n",
      "정밀도(Precision): 0.7342981186685963\n",
      "F1 점수(F1 Score) 0.7377144518755452\n",
      "==================================================\n"
     ]
    }
   ],
   "source": [
    "# max_depth=29, n_estimators=500\n",
    "print_classification_metrics(y_val, pred_val_rf1, title='rf 모델 val 데이터 평가지표')"
   ]
  },
  {
   "cell_type": "code",
   "execution_count": 74,
   "id": "ba629e20",
   "metadata": {
    "scrolled": true
   },
   "outputs": [
    {
     "name": "stdout",
     "output_type": "stream",
     "text": [
      "==================================================\n",
      "roc-auc score\n",
      "==================================================\n",
      "0.9072692643762877\n",
      "==================================================\n"
     ]
    },
    {
     "data": {
      "image/png": "[encoded data removed]",
      "text/plain": [
       "<Figure size 432x288 with 1 Axes>"
      ]
     },
     "metadata": {
      "needs_background": "light"
     },
     "output_type": "display_data"
    }
   ],
   "source": [
    "display_roc_curve(y_val, proba_val_rf1, title='rf모델 val_roc curve')"
   ]
  },
  {
   "cell_type": "code",
   "execution_count": null,
   "id": "b56d013d",
   "metadata": {},
   "outputs": [],
   "source": []
  },
  {
   "cell_type": "code",
   "execution_count": null,
   "id": "1da6a50f",
   "metadata": {},
   "outputs": [],
   "source": []
  },
  {
   "cell_type": "code",
   "execution_count": null,
   "id": "8b86d9ff",
   "metadata": {},
   "outputs": [],
   "source": []
  },
  {
   "cell_type": "code",
   "execution_count": null,
   "id": "ca033611",
   "metadata": {},
   "outputs": [],
   "source": []
  },
  {
   "cell_type": "code",
   "execution_count": null,
   "id": "ea0ac113",
   "metadata": {},
   "outputs": [],
   "source": []
  },
  {
   "cell_type": "code",
   "execution_count": null,
   "id": "beb733d4",
   "metadata": {},
   "outputs": [],
   "source": []
  },
  {
   "cell_type": "code",
   "execution_count": null,
   "id": "10ed9bb8",
   "metadata": {},
   "outputs": [],
   "source": []
  },
  {
   "cell_type": "markdown",
   "id": "c0857403",
   "metadata": {},
   "source": [
    "#### - 최종평가"
   ]
  },
  {
   "cell_type": "code",
   "execution_count": null,
   "id": "ad201e7d",
   "metadata": {},
   "outputs": [],
   "source": [
    "pred_train = rf.predict(X_train)\n",
    "pred_test = rf.predict(X_test)\n",
    "\n",
    "proba_train = rf.predict_proba(X_train)[:,1]\n",
    "proba_val = rf.predict_proba(X_test)[:,1]\n",
    "\n",
    "print_classification_metrics(y_train, pred_train, title='Train 성능지표')\n",
    "print_classification_metrics(y_test, pred_test, title='Test 성능지표')\n",
    "\n",
    "display_roc_curve(y_test, proba_test, title='Test_roc curve')"
   ]
  },
  {
   "cell_type": "markdown",
   "id": "d5a8cbe3",
   "metadata": {},
   "source": [
    "### -  oral 만 제거."
   ]
  },
  {
   "cell_type": "markdown",
   "id": "07004e54",
   "metadata": {},
   "source": [
    "- 하이퍼파라미터 : {'n_estimators': 400, 'max_depth': 30} \n",
    "    - 정확도(Accuracy): 0.8221867153617896\n",
    "    - 재현율(Recall): 0.7408026755852842\n",
    "    - 정밀도(Precision): 0.7388258839226151\n",
    "    - roc-auc score : 0.9072692643762877\n",
    "    \n",
    "    \n",
    "- 하이퍼파라미터 : {'n_estimators': 600, 'max_depth': 33}\n",
    "    - 정확도(Accuracy): 0.8215096201282683\n",
    "    - 재현율(Recall): 0.7437919953257377\n",
    "    - 정밀도(Precision): 0.7320299022426682\n",
    "    - roc-auc score : 0.9057357601961352"
   ]
  },
  {
   "cell_type": "code",
   "execution_count": 124,
   "id": "2b57216e",
   "metadata": {},
   "outputs": [
    {
     "name": "stdout",
     "output_type": "stream",
     "text": [
      "==================================================\n",
      "rf모델 train 데이터 평가지표\n",
      "==================================================\n",
      "정확도(Accuracy): 1.0\n",
      "재현율(Recall): 1.0\n",
      "정밀도(Precision): 1.0\n",
      "F1 점수(F1 Score) 1.0\n",
      "==================================================\n"
     ]
    }
   ],
   "source": [
    "print_classification_metrics(y_train, pred_train_rf1, title='rf모델 train 데이터 평가지표')"
   ]
  },
  {
   "cell_type": "code",
   "execution_count": 126,
   "id": "288abb6c",
   "metadata": {
    "scrolled": false
   },
   "outputs": [
    {
     "name": "stdout",
     "output_type": "stream",
     "text": [
      "==================================================\n",
      "rf 모델 val 데이터 평가지표-oral만 제거\n",
      "==================================================\n",
      "정확도(Accuracy): 0.8221867153617896\n",
      "재현율(Recall): 0.7408026755852842\n",
      "정밀도(Precision): 0.7388258839226151\n",
      "F1 점수(F1 Score) 0.739812959251837\n",
      "==================================================\n"
     ]
    }
   ],
   "source": [
    "print_classification_metrics(y_val, pred_val_rf1, title='rf 모델 val 데이터 평가지표-oral만 제거')"
   ]
  },
  {
   "cell_type": "code",
   "execution_count": 74,
   "id": "3fd85877",
   "metadata": {},
   "outputs": [
    {
     "name": "stdout",
     "output_type": "stream",
     "text": [
      "==================================================\n",
      "roc-auc score\n",
      "==================================================\n",
      "0.9072692643762877\n",
      "==================================================\n"
     ]
    },
    {
     "data": {
      "image/png": "[encoded data removed]",
      "text/plain": [
       "<Figure size 432x288 with 1 Axes>"
      ]
     },
     "metadata": {
      "needs_background": "light"
     },
     "output_type": "display_data"
    }
   ],
   "source": [
    "display_roc_curve(y_val, proba_val_rf1, title='rf모델 val_roc curve')"
   ]
  },
  {
   "cell_type": "code",
   "execution_count": 75,
   "id": "766536e7",
   "metadata": {
    "scrolled": false
   },
   "outputs": [
    {
     "name": "stdout",
     "output_type": "stream",
     "text": [
      "==================================================\n",
      "ap score\n",
      "==================================================\n",
      "0.836400652981231\n",
      "==================================================\n"
     ]
    },
    {
     "data": {
      "image/png": "[encoded data removed]",
      "text/plain": [
       "<Figure size 432x288 with 1 Axes>"
      ]
     },
     "metadata": {
      "needs_background": "light"
     },
     "output_type": "display_data"
    }
   ],
   "source": [
    "display_precision_recall_curve(y_val, proba_val_rf1, title='rf모델 val_Precision Recall Curve')\n"
   ]
  },
  {
   "cell_type": "markdown",
   "id": "4bed2160",
   "metadata": {},
   "source": [
    "##### -하이퍼 파라미터 조정 'n_estimators': 600, 'max_depth': 33"
   ]
  },
  {
   "cell_type": "code",
   "execution_count": 259,
   "id": "1afffc27",
   "metadata": {},
   "outputs": [
    {
     "name": "stdout",
     "output_type": "stream",
     "text": [
      "==================================================\n",
      "rf모델 train 데이터 평가지표\n",
      "==================================================\n",
      "정확도(Accuracy): 1.0\n",
      "재현율(Recall): 1.0\n",
      "정밀도(Precision): 1.0\n",
      "F1 점수(F1 Score) 1.0\n",
      "==================================================\n"
     ]
    }
   ],
   "source": [
    "print_classification_metrics(y_train, pred_train_rf1, title='rf모델 train 데이터 평가지표')"
   ]
  },
  {
   "cell_type": "code",
   "execution_count": 260,
   "id": "cf256c06",
   "metadata": {
    "scrolled": false
   },
   "outputs": [
    {
     "name": "stdout",
     "output_type": "stream",
     "text": [
      "==================================================\n",
      "rf 모델 val 데이터 평가지표-oral만 제거\n",
      "==================================================\n",
      "정확도(Accuracy): 0.8215096201282683\n",
      "재현율(Recall): 0.7437919953257377\n",
      "정밀도(Precision): 0.7320299022426682\n",
      "F1 점수(F1 Score) 0.7378640776699029\n",
      "==================================================\n"
     ]
    }
   ],
   "source": [
    "print_classification_metrics(y_val, pred_val_rf1, title='rf 모델 val 데이터 평가지표-oral만 제거')"
   ]
  },
  {
   "cell_type": "code",
   "execution_count": 261,
   "id": "1ecb8e76",
   "metadata": {},
   "outputs": [
    {
     "name": "stdout",
     "output_type": "stream",
     "text": [
      "==================================================\n",
      "roc-auc score\n",
      "==================================================\n",
      "0.9057357601961352\n",
      "==================================================\n"
     ]
    },
    {
     "data": {
      "image/png": "[encoded data removed]",
      "text/plain": [
       "<Figure size 432x288 with 1 Axes>"
      ]
     },
     "metadata": {
      "needs_background": "light"
     },
     "output_type": "display_data"
    }
   ],
   "source": [
    "display_roc_curve(y_val, proba_val_rf1, title='rf모델 val_roc curve')"
   ]
  },
  {
   "cell_type": "code",
   "execution_count": 262,
   "id": "196a866a",
   "metadata": {
    "collapsed": true
   },
   "outputs": [
    {
     "name": "stdout",
     "output_type": "stream",
     "text": [
      "==================================================\n",
      "ap score\n",
      "==================================================\n",
      "0.8307099905112497\n",
      "==================================================\n"
     ]
    },
    {
     "data": {
      "image/png": "[encoded data removed]",
      "text/plain": [
       "<Figure size 432x288 with 1 Axes>"
      ]
     },
     "metadata": {
      "needs_background": "light"
     },
     "output_type": "display_data"
    }
   ],
   "source": [
    "display_precision_recall_curve(y_val, proba_val_rf1, title='rf모델 val_Precision Recall Curve')\n"
   ]
  },
  {
   "cell_type": "markdown",
   "id": "ec7d5ec8",
   "metadata": {},
   "source": [
    "#### - RandomForest 모델 최종평가"
   ]
  },
  {
   "cell_type": "code",
   "execution_count": null,
   "id": "538143ca",
   "metadata": {},
   "outputs": [],
   "source": [
    "pred_train = rf.predict(X_train)\n",
    "pred_test = rf.predict(X_test)\n",
    "\n",
    "proba_train = rf.predict_proba(X_train)[:,1]\n",
    "proba_val = rf.predict_proba(X_test)[:,1]\n",
    "\n",
    "print_classification_metrics(y_train, pred_train, title='Train 성능지표')\n",
    "print_classification_metrics(y_test, pred_test, title='Test 성능지표')\n",
    "\n",
    "display_roc_curve(y_test, proba_test, title='Test_roc curve')"
   ]
  },
  {
   "cell_type": "code",
   "execution_count": null,
   "id": "e3e04afe",
   "metadata": {},
   "outputs": [],
   "source": []
  },
  {
   "cell_type": "code",
   "execution_count": null,
   "id": "7bb332f6",
   "metadata": {},
   "outputs": [],
   "source": []
  },
  {
   "cell_type": "markdown",
   "id": "7d4ae466",
   "metadata": {},
   "source": [
    "## GradientBoostingClassifier 모델"
   ]
  },
  {
   "cell_type": "code",
   "execution_count": 58,
   "id": "68f9ed00",
   "metadata": {
    "collapsed": true
   },
   "outputs": [
    {
     "ename": "KeyboardInterrupt",
     "evalue": "",
     "output_type": "error",
     "traceback": [
      "\u001b[1;31m---------------------------------------------------------------------------\u001b[0m",
      "\u001b[1;31mKeyboardInterrupt\u001b[0m                         Traceback (most recent call last)",
      "Input \u001b[1;32mIn [58]\u001b[0m, in \u001b[0;36m<cell line: 5>\u001b[1;34m()\u001b[0m\n\u001b[0;32m      1\u001b[0m \u001b[38;5;28;01mfrom\u001b[39;00m \u001b[38;5;21;01msklearn\u001b[39;00m\u001b[38;5;21;01m.\u001b[39;00m\u001b[38;5;21;01mensemble\u001b[39;00m \u001b[38;5;28;01mimport\u001b[39;00m GradientBoostingClassifier\n\u001b[0;32m      3\u001b[0m gb \u001b[38;5;241m=\u001b[39m GradientBoostingClassifier(random_state\u001b[38;5;241m=\u001b[39m\u001b[38;5;241m0\u001b[39m, max_depth\u001b[38;5;241m=\u001b[39m \u001b[38;5;241m10\u001b[39m, learning_rate\u001b[38;5;241m=\u001b[39m\u001b[38;5;241m0.1\u001b[39m, n_estimators\u001b[38;5;241m=\u001b[39m\u001b[38;5;241m1000\u001b[39m) \u001b[38;5;66;03m#learning_rate: 0.1 (기본값), n_estimators=100(기본)\u001b[39;00m\n\u001b[1;32m----> 5\u001b[0m \u001b[43mgb\u001b[49m\u001b[38;5;241;43m.\u001b[39;49m\u001b[43mfit\u001b[49m\u001b[43m(\u001b[49m\u001b[43mX_train\u001b[49m\u001b[43m,\u001b[49m\u001b[43m \u001b[49m\u001b[43my_train\u001b[49m\u001b[43m)\u001b[49m\n\u001b[0;32m      6\u001b[0m pred_train \u001b[38;5;241m=\u001b[39m gb\u001b[38;5;241m.\u001b[39mpredict(X_train)\n\u001b[0;32m      7\u001b[0m pred_test \u001b[38;5;241m=\u001b[39m gb\u001b[38;5;241m.\u001b[39mpredict(X_val)\n",
      "File \u001b[1;32m~\\anaconda3\\envs\\smoking\\lib\\site-packages\\sklearn\\ensemble\\_gb.py:668\u001b[0m, in \u001b[0;36mBaseGradientBoosting.fit\u001b[1;34m(self, X, y, sample_weight, monitor)\u001b[0m\n\u001b[0;32m    665\u001b[0m     \u001b[38;5;28mself\u001b[39m\u001b[38;5;241m.\u001b[39m_resize_state()\n\u001b[0;32m    667\u001b[0m \u001b[38;5;66;03m# fit the boosting stages\u001b[39;00m\n\u001b[1;32m--> 668\u001b[0m n_stages \u001b[38;5;241m=\u001b[39m \u001b[38;5;28;43mself\u001b[39;49m\u001b[38;5;241;43m.\u001b[39;49m\u001b[43m_fit_stages\u001b[49m\u001b[43m(\u001b[49m\n\u001b[0;32m    669\u001b[0m \u001b[43m    \u001b[49m\u001b[43mX\u001b[49m\u001b[43m,\u001b[49m\n\u001b[0;32m    670\u001b[0m \u001b[43m    \u001b[49m\u001b[43my\u001b[49m\u001b[43m,\u001b[49m\n\u001b[0;32m    671\u001b[0m \u001b[43m    \u001b[49m\u001b[43mraw_predictions\u001b[49m\u001b[43m,\u001b[49m\n\u001b[0;32m    672\u001b[0m \u001b[43m    \u001b[49m\u001b[43msample_weight\u001b[49m\u001b[43m,\u001b[49m\n\u001b[0;32m    673\u001b[0m \u001b[43m    \u001b[49m\u001b[38;5;28;43mself\u001b[39;49m\u001b[38;5;241;43m.\u001b[39;49m\u001b[43m_rng\u001b[49m\u001b[43m,\u001b[49m\n\u001b[0;32m    674\u001b[0m \u001b[43m    \u001b[49m\u001b[43mX_val\u001b[49m\u001b[43m,\u001b[49m\n\u001b[0;32m    675\u001b[0m \u001b[43m    \u001b[49m\u001b[43my_val\u001b[49m\u001b[43m,\u001b[49m\n\u001b[0;32m    676\u001b[0m \u001b[43m    \u001b[49m\u001b[43msample_weight_val\u001b[49m\u001b[43m,\u001b[49m\n\u001b[0;32m    677\u001b[0m \u001b[43m    \u001b[49m\u001b[43mbegin_at_stage\u001b[49m\u001b[43m,\u001b[49m\n\u001b[0;32m    678\u001b[0m \u001b[43m    \u001b[49m\u001b[43mmonitor\u001b[49m\u001b[43m,\u001b[49m\n\u001b[0;32m    679\u001b[0m \u001b[43m\u001b[49m\u001b[43m)\u001b[49m\n\u001b[0;32m    681\u001b[0m \u001b[38;5;66;03m# change shape of arrays after fit (early-stopping or additional ests)\u001b[39;00m\n\u001b[0;32m    682\u001b[0m \u001b[38;5;28;01mif\u001b[39;00m n_stages \u001b[38;5;241m!=\u001b[39m \u001b[38;5;28mself\u001b[39m\u001b[38;5;241m.\u001b[39mestimators_\u001b[38;5;241m.\u001b[39mshape[\u001b[38;5;241m0\u001b[39m]:\n",
      "File \u001b[1;32m~\\anaconda3\\envs\\smoking\\lib\\site-packages\\sklearn\\ensemble\\_gb.py:745\u001b[0m, in \u001b[0;36mBaseGradientBoosting._fit_stages\u001b[1;34m(self, X, y, raw_predictions, sample_weight, random_state, X_val, y_val, sample_weight_val, begin_at_stage, monitor)\u001b[0m\n\u001b[0;32m    738\u001b[0m     old_oob_score \u001b[38;5;241m=\u001b[39m loss_(\n\u001b[0;32m    739\u001b[0m         y[\u001b[38;5;241m~\u001b[39msample_mask],\n\u001b[0;32m    740\u001b[0m         raw_predictions[\u001b[38;5;241m~\u001b[39msample_mask],\n\u001b[0;32m    741\u001b[0m         sample_weight[\u001b[38;5;241m~\u001b[39msample_mask],\n\u001b[0;32m    742\u001b[0m     )\n\u001b[0;32m    744\u001b[0m \u001b[38;5;66;03m# fit next stage of trees\u001b[39;00m\n\u001b[1;32m--> 745\u001b[0m raw_predictions \u001b[38;5;241m=\u001b[39m \u001b[38;5;28;43mself\u001b[39;49m\u001b[38;5;241;43m.\u001b[39;49m\u001b[43m_fit_stage\u001b[49m\u001b[43m(\u001b[49m\n\u001b[0;32m    746\u001b[0m \u001b[43m    \u001b[49m\u001b[43mi\u001b[49m\u001b[43m,\u001b[49m\n\u001b[0;32m    747\u001b[0m \u001b[43m    \u001b[49m\u001b[43mX\u001b[49m\u001b[43m,\u001b[49m\n\u001b[0;32m    748\u001b[0m \u001b[43m    \u001b[49m\u001b[43my\u001b[49m\u001b[43m,\u001b[49m\n\u001b[0;32m    749\u001b[0m \u001b[43m    \u001b[49m\u001b[43mraw_predictions\u001b[49m\u001b[43m,\u001b[49m\n\u001b[0;32m    750\u001b[0m \u001b[43m    \u001b[49m\u001b[43msample_weight\u001b[49m\u001b[43m,\u001b[49m\n\u001b[0;32m    751\u001b[0m \u001b[43m    \u001b[49m\u001b[43msample_mask\u001b[49m\u001b[43m,\u001b[49m\n\u001b[0;32m    752\u001b[0m \u001b[43m    \u001b[49m\u001b[43mrandom_state\u001b[49m\u001b[43m,\u001b[49m\n\u001b[0;32m    753\u001b[0m \u001b[43m    \u001b[49m\u001b[43mX_csc\u001b[49m\u001b[43m,\u001b[49m\n\u001b[0;32m    754\u001b[0m \u001b[43m    \u001b[49m\u001b[43mX_csr\u001b[49m\u001b[43m,\u001b[49m\n\u001b[0;32m    755\u001b[0m \u001b[43m\u001b[49m\u001b[43m)\u001b[49m\n\u001b[0;32m    757\u001b[0m \u001b[38;5;66;03m# track deviance (= loss)\u001b[39;00m\n\u001b[0;32m    758\u001b[0m \u001b[38;5;28;01mif\u001b[39;00m do_oob:\n",
      "File \u001b[1;32m~\\anaconda3\\envs\\smoking\\lib\\site-packages\\sklearn\\ensemble\\_gb.py:247\u001b[0m, in \u001b[0;36mBaseGradientBoosting._fit_stage\u001b[1;34m(self, i, X, y, raw_predictions, sample_weight, sample_mask, random_state, X_csc, X_csr)\u001b[0m\n\u001b[0;32m    244\u001b[0m     sample_weight \u001b[38;5;241m=\u001b[39m sample_weight \u001b[38;5;241m*\u001b[39m sample_mask\u001b[38;5;241m.\u001b[39mastype(np\u001b[38;5;241m.\u001b[39mfloat64)\n\u001b[0;32m    246\u001b[0m X \u001b[38;5;241m=\u001b[39m X_csr \u001b[38;5;28;01mif\u001b[39;00m X_csr \u001b[38;5;129;01mis\u001b[39;00m \u001b[38;5;129;01mnot\u001b[39;00m \u001b[38;5;28;01mNone\u001b[39;00m \u001b[38;5;28;01melse\u001b[39;00m X\n\u001b[1;32m--> 247\u001b[0m \u001b[43mtree\u001b[49m\u001b[38;5;241;43m.\u001b[39;49m\u001b[43mfit\u001b[49m\u001b[43m(\u001b[49m\u001b[43mX\u001b[49m\u001b[43m,\u001b[49m\u001b[43m \u001b[49m\u001b[43mresidual\u001b[49m\u001b[43m,\u001b[49m\u001b[43m \u001b[49m\u001b[43msample_weight\u001b[49m\u001b[38;5;241;43m=\u001b[39;49m\u001b[43msample_weight\u001b[49m\u001b[43m,\u001b[49m\u001b[43m \u001b[49m\u001b[43mcheck_input\u001b[49m\u001b[38;5;241;43m=\u001b[39;49m\u001b[38;5;28;43;01mFalse\u001b[39;49;00m\u001b[43m)\u001b[49m\n\u001b[0;32m    249\u001b[0m \u001b[38;5;66;03m# update tree leaves\u001b[39;00m\n\u001b[0;32m    250\u001b[0m loss\u001b[38;5;241m.\u001b[39mupdate_terminal_regions(\n\u001b[0;32m    251\u001b[0m     tree\u001b[38;5;241m.\u001b[39mtree_,\n\u001b[0;32m    252\u001b[0m     X,\n\u001b[1;32m   (...)\u001b[0m\n\u001b[0;32m    259\u001b[0m     k\u001b[38;5;241m=\u001b[39mk,\n\u001b[0;32m    260\u001b[0m )\n",
      "File \u001b[1;32m~\\anaconda3\\envs\\smoking\\lib\\site-packages\\sklearn\\tree\\_classes.py:1342\u001b[0m, in \u001b[0;36mDecisionTreeRegressor.fit\u001b[1;34m(self, X, y, sample_weight, check_input)\u001b[0m\n\u001b[0;32m   1313\u001b[0m \u001b[38;5;28;01mdef\u001b[39;00m \u001b[38;5;21mfit\u001b[39m(\u001b[38;5;28mself\u001b[39m, X, y, sample_weight\u001b[38;5;241m=\u001b[39m\u001b[38;5;28;01mNone\u001b[39;00m, check_input\u001b[38;5;241m=\u001b[39m\u001b[38;5;28;01mTrue\u001b[39;00m):\n\u001b[0;32m   1314\u001b[0m     \u001b[38;5;124;03m\"\"\"Build a decision tree regressor from the training set (X, y).\u001b[39;00m\n\u001b[0;32m   1315\u001b[0m \n\u001b[0;32m   1316\u001b[0m \u001b[38;5;124;03m    Parameters\u001b[39;00m\n\u001b[1;32m   (...)\u001b[0m\n\u001b[0;32m   1339\u001b[0m \u001b[38;5;124;03m        Fitted estimator.\u001b[39;00m\n\u001b[0;32m   1340\u001b[0m \u001b[38;5;124;03m    \"\"\"\u001b[39;00m\n\u001b[1;32m-> 1342\u001b[0m     \u001b[38;5;28;43msuper\u001b[39;49m\u001b[43m(\u001b[49m\u001b[43m)\u001b[49m\u001b[38;5;241;43m.\u001b[39;49m\u001b[43mfit\u001b[49m\u001b[43m(\u001b[49m\n\u001b[0;32m   1343\u001b[0m \u001b[43m        \u001b[49m\u001b[43mX\u001b[49m\u001b[43m,\u001b[49m\n\u001b[0;32m   1344\u001b[0m \u001b[43m        \u001b[49m\u001b[43my\u001b[49m\u001b[43m,\u001b[49m\n\u001b[0;32m   1345\u001b[0m \u001b[43m        \u001b[49m\u001b[43msample_weight\u001b[49m\u001b[38;5;241;43m=\u001b[39;49m\u001b[43msample_weight\u001b[49m\u001b[43m,\u001b[49m\n\u001b[0;32m   1346\u001b[0m \u001b[43m        \u001b[49m\u001b[43mcheck_input\u001b[49m\u001b[38;5;241;43m=\u001b[39;49m\u001b[43mcheck_input\u001b[49m\u001b[43m,\u001b[49m\n\u001b[0;32m   1347\u001b[0m \u001b[43m    \u001b[49m\u001b[43m)\u001b[49m\n\u001b[0;32m   1348\u001b[0m     \u001b[38;5;28;01mreturn\u001b[39;00m \u001b[38;5;28mself\u001b[39m\n",
      "File \u001b[1;32m~\\anaconda3\\envs\\smoking\\lib\\site-packages\\sklearn\\tree\\_classes.py:458\u001b[0m, in \u001b[0;36mBaseDecisionTree.fit\u001b[1;34m(self, X, y, sample_weight, check_input)\u001b[0m\n\u001b[0;32m    447\u001b[0m \u001b[38;5;28;01melse\u001b[39;00m:\n\u001b[0;32m    448\u001b[0m     builder \u001b[38;5;241m=\u001b[39m BestFirstTreeBuilder(\n\u001b[0;32m    449\u001b[0m         splitter,\n\u001b[0;32m    450\u001b[0m         min_samples_split,\n\u001b[1;32m   (...)\u001b[0m\n\u001b[0;32m    455\u001b[0m         \u001b[38;5;28mself\u001b[39m\u001b[38;5;241m.\u001b[39mmin_impurity_decrease,\n\u001b[0;32m    456\u001b[0m     )\n\u001b[1;32m--> 458\u001b[0m \u001b[43mbuilder\u001b[49m\u001b[38;5;241;43m.\u001b[39;49m\u001b[43mbuild\u001b[49m\u001b[43m(\u001b[49m\u001b[38;5;28;43mself\u001b[39;49m\u001b[38;5;241;43m.\u001b[39;49m\u001b[43mtree_\u001b[49m\u001b[43m,\u001b[49m\u001b[43m \u001b[49m\u001b[43mX\u001b[49m\u001b[43m,\u001b[49m\u001b[43m \u001b[49m\u001b[43my\u001b[49m\u001b[43m,\u001b[49m\u001b[43m \u001b[49m\u001b[43msample_weight\u001b[49m\u001b[43m)\u001b[49m\n\u001b[0;32m    460\u001b[0m \u001b[38;5;28;01mif\u001b[39;00m \u001b[38;5;28mself\u001b[39m\u001b[38;5;241m.\u001b[39mn_outputs_ \u001b[38;5;241m==\u001b[39m \u001b[38;5;241m1\u001b[39m \u001b[38;5;129;01mand\u001b[39;00m is_classifier(\u001b[38;5;28mself\u001b[39m):\n\u001b[0;32m    461\u001b[0m     \u001b[38;5;28mself\u001b[39m\u001b[38;5;241m.\u001b[39mn_classes_ \u001b[38;5;241m=\u001b[39m \u001b[38;5;28mself\u001b[39m\u001b[38;5;241m.\u001b[39mn_classes_[\u001b[38;5;241m0\u001b[39m]\n",
      "\u001b[1;31mKeyboardInterrupt\u001b[0m: "
     ]
    }
   ],
   "source": [
    "from sklearn.ensemble import GradientBoostingClassifier\n",
    "\n",
    "gb = GradientBoostingClassifier(random_state=0, max_depth= 10, learning_rate=0.1, n_estimators=1000) #learning_rate: 0.1 (기본값), n_estimators=100(기본)\n",
    "\n",
    "gb.fit(X_train, y_train)\n",
    "pred_train = gb.predict(X_train)\n",
    "pred_test = gb.predict(X_val)\n",
    "\n",
    "print_classification_metrics(y_train, pred_train, title='Train')\n",
    "print_classification_metrics(y_val, pred_val, title='val')"
   ]
  },
  {
   "cell_type": "code",
   "execution_count": 43,
   "id": "807d8012",
   "metadata": {
    "collapsed": true
   },
   "outputs": [
    {
     "ename": "KeyboardInterrupt",
     "evalue": "",
     "output_type": "error",
     "traceback": [
      "\u001b[1;31m---------------------------------------------------------------------------\u001b[0m",
      "\u001b[1;31mKeyboardInterrupt\u001b[0m                         Traceback (most recent call last)",
      "Input \u001b[1;32mIn [43]\u001b[0m, in \u001b[0;36m<cell line: 17>\u001b[1;34m()\u001b[0m\n\u001b[0;32m      3\u001b[0m param \u001b[38;5;241m=\u001b[39m {\n\u001b[0;32m      4\u001b[0m     \u001b[38;5;124m'\u001b[39m\u001b[38;5;124mn_estimators\u001b[39m\u001b[38;5;124m'\u001b[39m:\u001b[38;5;28mrange\u001b[39m(\u001b[38;5;241m500\u001b[39m, \u001b[38;5;241m1001\u001b[39m, \u001b[38;5;241m200\u001b[39m),\n\u001b[0;32m      5\u001b[0m     \u001b[38;5;124m'\u001b[39m\u001b[38;5;124mlearning_rate\u001b[39m\u001b[38;5;124m'\u001b[39m:[\u001b[38;5;241m0.05\u001b[39m, \u001b[38;5;241m0.01\u001b[39m, \u001b[38;5;241m0.1\u001b[39m, \u001b[38;5;241m0.5\u001b[39m], \n\u001b[0;32m      6\u001b[0m     \u001b[38;5;124m'\u001b[39m\u001b[38;5;124mmax_depth\u001b[39m\u001b[38;5;124m'\u001b[39m:\u001b[38;5;28mrange\u001b[39m(\u001b[38;5;241m5\u001b[39m,\u001b[38;5;241m10\u001b[39m),\n\u001b[0;32m      7\u001b[0m     \u001b[38;5;124m'\u001b[39m\u001b[38;5;124msubsample\u001b[39m\u001b[38;5;124m'\u001b[39m:[\u001b[38;5;241m0.5\u001b[39m, \u001b[38;5;241m0.7\u001b[39m, \u001b[38;5;241m0.9\u001b[39m, \u001b[38;5;241m1\u001b[39m]\n\u001b[0;32m      8\u001b[0m }\n\u001b[0;32m     10\u001b[0m rs \u001b[38;5;241m=\u001b[39m RandomizedSearchCV(GradientBoostingClassifier(random_state\u001b[38;5;241m=\u001b[39m\u001b[38;5;241m0\u001b[39m),\n\u001b[0;32m     11\u001b[0m                         param,\n\u001b[0;32m     12\u001b[0m                         cv\u001b[38;5;241m=\u001b[39m\u001b[38;5;241m4\u001b[39m, \n\u001b[0;32m     13\u001b[0m                         n_iter\u001b[38;5;241m=\u001b[39m\u001b[38;5;241m60\u001b[39m, \n\u001b[0;32m     14\u001b[0m                         scoring\u001b[38;5;241m=\u001b[39m\u001b[38;5;124m'\u001b[39m\u001b[38;5;124maccuracy\u001b[39m\u001b[38;5;124m'\u001b[39m, \n\u001b[0;32m     15\u001b[0m                         n_jobs\u001b[38;5;241m=\u001b[39m\u001b[38;5;241m-\u001b[39m\u001b[38;5;241m1\u001b[39m)\n\u001b[1;32m---> 17\u001b[0m \u001b[43mrs\u001b[49m\u001b[38;5;241;43m.\u001b[39;49m\u001b[43mfit\u001b[49m\u001b[43m(\u001b[49m\u001b[43mX_train\u001b[49m\u001b[43m,\u001b[49m\u001b[43m \u001b[49m\u001b[43my_train\u001b[49m\u001b[43m)\u001b[49m\n",
      "File \u001b[1;32m~\\anaconda3\\envs\\smoking\\lib\\site-packages\\sklearn\\model_selection\\_search.py:875\u001b[0m, in \u001b[0;36mBaseSearchCV.fit\u001b[1;34m(self, X, y, groups, **fit_params)\u001b[0m\n\u001b[0;32m    869\u001b[0m     results \u001b[38;5;241m=\u001b[39m \u001b[38;5;28mself\u001b[39m\u001b[38;5;241m.\u001b[39m_format_results(\n\u001b[0;32m    870\u001b[0m         all_candidate_params, n_splits, all_out, all_more_results\n\u001b[0;32m    871\u001b[0m     )\n\u001b[0;32m    873\u001b[0m     \u001b[38;5;28;01mreturn\u001b[39;00m results\n\u001b[1;32m--> 875\u001b[0m \u001b[38;5;28;43mself\u001b[39;49m\u001b[38;5;241;43m.\u001b[39;49m\u001b[43m_run_search\u001b[49m\u001b[43m(\u001b[49m\u001b[43mevaluate_candidates\u001b[49m\u001b[43m)\u001b[49m\n\u001b[0;32m    877\u001b[0m \u001b[38;5;66;03m# multimetric is determined here because in the case of a callable\u001b[39;00m\n\u001b[0;32m    878\u001b[0m \u001b[38;5;66;03m# self.scoring the return type is only known after calling\u001b[39;00m\n\u001b[0;32m    879\u001b[0m first_test_score \u001b[38;5;241m=\u001b[39m all_out[\u001b[38;5;241m0\u001b[39m][\u001b[38;5;124m\"\u001b[39m\u001b[38;5;124mtest_scores\u001b[39m\u001b[38;5;124m\"\u001b[39m]\n",
      "File \u001b[1;32m~\\anaconda3\\envs\\smoking\\lib\\site-packages\\sklearn\\model_selection\\_search.py:1749\u001b[0m, in \u001b[0;36mRandomizedSearchCV._run_search\u001b[1;34m(self, evaluate_candidates)\u001b[0m\n\u001b[0;32m   1747\u001b[0m \u001b[38;5;28;01mdef\u001b[39;00m \u001b[38;5;21m_run_search\u001b[39m(\u001b[38;5;28mself\u001b[39m, evaluate_candidates):\n\u001b[0;32m   1748\u001b[0m     \u001b[38;5;124;03m\"\"\"Search n_iter candidates from param_distributions\"\"\"\u001b[39;00m\n\u001b[1;32m-> 1749\u001b[0m     \u001b[43mevaluate_candidates\u001b[49m\u001b[43m(\u001b[49m\n\u001b[0;32m   1750\u001b[0m \u001b[43m        \u001b[49m\u001b[43mParameterSampler\u001b[49m\u001b[43m(\u001b[49m\n\u001b[0;32m   1751\u001b[0m \u001b[43m            \u001b[49m\u001b[38;5;28;43mself\u001b[39;49m\u001b[38;5;241;43m.\u001b[39;49m\u001b[43mparam_distributions\u001b[49m\u001b[43m,\u001b[49m\u001b[43m \u001b[49m\u001b[38;5;28;43mself\u001b[39;49m\u001b[38;5;241;43m.\u001b[39;49m\u001b[43mn_iter\u001b[49m\u001b[43m,\u001b[49m\u001b[43m \u001b[49m\u001b[43mrandom_state\u001b[49m\u001b[38;5;241;43m=\u001b[39;49m\u001b[38;5;28;43mself\u001b[39;49m\u001b[38;5;241;43m.\u001b[39;49m\u001b[43mrandom_state\u001b[49m\n\u001b[0;32m   1752\u001b[0m \u001b[43m        \u001b[49m\u001b[43m)\u001b[49m\n\u001b[0;32m   1753\u001b[0m \u001b[43m    \u001b[49m\u001b[43m)\u001b[49m\n",
      "File \u001b[1;32m~\\anaconda3\\envs\\smoking\\lib\\site-packages\\sklearn\\model_selection\\_search.py:822\u001b[0m, in \u001b[0;36mBaseSearchCV.fit.<locals>.evaluate_candidates\u001b[1;34m(candidate_params, cv, more_results)\u001b[0m\n\u001b[0;32m    814\u001b[0m \u001b[38;5;28;01mif\u001b[39;00m \u001b[38;5;28mself\u001b[39m\u001b[38;5;241m.\u001b[39mverbose \u001b[38;5;241m>\u001b[39m \u001b[38;5;241m0\u001b[39m:\n\u001b[0;32m    815\u001b[0m     \u001b[38;5;28mprint\u001b[39m(\n\u001b[0;32m    816\u001b[0m         \u001b[38;5;124m\"\u001b[39m\u001b[38;5;124mFitting \u001b[39m\u001b[38;5;132;01m{0}\u001b[39;00m\u001b[38;5;124m folds for each of \u001b[39m\u001b[38;5;132;01m{1}\u001b[39;00m\u001b[38;5;124m candidates,\u001b[39m\u001b[38;5;124m\"\u001b[39m\n\u001b[0;32m    817\u001b[0m         \u001b[38;5;124m\"\u001b[39m\u001b[38;5;124m totalling \u001b[39m\u001b[38;5;132;01m{2}\u001b[39;00m\u001b[38;5;124m fits\u001b[39m\u001b[38;5;124m\"\u001b[39m\u001b[38;5;241m.\u001b[39mformat(\n\u001b[0;32m    818\u001b[0m             n_splits, n_candidates, n_candidates \u001b[38;5;241m*\u001b[39m n_splits\n\u001b[0;32m    819\u001b[0m         )\n\u001b[0;32m    820\u001b[0m     )\n\u001b[1;32m--> 822\u001b[0m out \u001b[38;5;241m=\u001b[39m \u001b[43mparallel\u001b[49m\u001b[43m(\u001b[49m\n\u001b[0;32m    823\u001b[0m \u001b[43m    \u001b[49m\u001b[43mdelayed\u001b[49m\u001b[43m(\u001b[49m\u001b[43m_fit_and_score\u001b[49m\u001b[43m)\u001b[49m\u001b[43m(\u001b[49m\n\u001b[0;32m    824\u001b[0m \u001b[43m        \u001b[49m\u001b[43mclone\u001b[49m\u001b[43m(\u001b[49m\u001b[43mbase_estimator\u001b[49m\u001b[43m)\u001b[49m\u001b[43m,\u001b[49m\n\u001b[0;32m    825\u001b[0m \u001b[43m        \u001b[49m\u001b[43mX\u001b[49m\u001b[43m,\u001b[49m\n\u001b[0;32m    826\u001b[0m \u001b[43m        \u001b[49m\u001b[43my\u001b[49m\u001b[43m,\u001b[49m\n\u001b[0;32m    827\u001b[0m \u001b[43m        \u001b[49m\u001b[43mtrain\u001b[49m\u001b[38;5;241;43m=\u001b[39;49m\u001b[43mtrain\u001b[49m\u001b[43m,\u001b[49m\n\u001b[0;32m    828\u001b[0m \u001b[43m        \u001b[49m\u001b[43mtest\u001b[49m\u001b[38;5;241;43m=\u001b[39;49m\u001b[43mtest\u001b[49m\u001b[43m,\u001b[49m\n\u001b[0;32m    829\u001b[0m \u001b[43m        \u001b[49m\u001b[43mparameters\u001b[49m\u001b[38;5;241;43m=\u001b[39;49m\u001b[43mparameters\u001b[49m\u001b[43m,\u001b[49m\n\u001b[0;32m    830\u001b[0m \u001b[43m        \u001b[49m\u001b[43msplit_progress\u001b[49m\u001b[38;5;241;43m=\u001b[39;49m\u001b[43m(\u001b[49m\u001b[43msplit_idx\u001b[49m\u001b[43m,\u001b[49m\u001b[43m \u001b[49m\u001b[43mn_splits\u001b[49m\u001b[43m)\u001b[49m\u001b[43m,\u001b[49m\n\u001b[0;32m    831\u001b[0m \u001b[43m        \u001b[49m\u001b[43mcandidate_progress\u001b[49m\u001b[38;5;241;43m=\u001b[39;49m\u001b[43m(\u001b[49m\u001b[43mcand_idx\u001b[49m\u001b[43m,\u001b[49m\u001b[43m \u001b[49m\u001b[43mn_candidates\u001b[49m\u001b[43m)\u001b[49m\u001b[43m,\u001b[49m\n\u001b[0;32m    832\u001b[0m \u001b[43m        \u001b[49m\u001b[38;5;241;43m*\u001b[39;49m\u001b[38;5;241;43m*\u001b[39;49m\u001b[43mfit_and_score_kwargs\u001b[49m\u001b[43m,\u001b[49m\n\u001b[0;32m    833\u001b[0m \u001b[43m    \u001b[49m\u001b[43m)\u001b[49m\n\u001b[0;32m    834\u001b[0m \u001b[43m    \u001b[49m\u001b[38;5;28;43;01mfor\u001b[39;49;00m\u001b[43m \u001b[49m\u001b[43m(\u001b[49m\u001b[43mcand_idx\u001b[49m\u001b[43m,\u001b[49m\u001b[43m \u001b[49m\u001b[43mparameters\u001b[49m\u001b[43m)\u001b[49m\u001b[43m,\u001b[49m\u001b[43m \u001b[49m\u001b[43m(\u001b[49m\u001b[43msplit_idx\u001b[49m\u001b[43m,\u001b[49m\u001b[43m \u001b[49m\u001b[43m(\u001b[49m\u001b[43mtrain\u001b[49m\u001b[43m,\u001b[49m\u001b[43m \u001b[49m\u001b[43mtest\u001b[49m\u001b[43m)\u001b[49m\u001b[43m)\u001b[49m\u001b[43m \u001b[49m\u001b[38;5;129;43;01min\u001b[39;49;00m\u001b[43m \u001b[49m\u001b[43mproduct\u001b[49m\u001b[43m(\u001b[49m\n\u001b[0;32m    835\u001b[0m \u001b[43m        \u001b[49m\u001b[38;5;28;43menumerate\u001b[39;49m\u001b[43m(\u001b[49m\u001b[43mcandidate_params\u001b[49m\u001b[43m)\u001b[49m\u001b[43m,\u001b[49m\u001b[43m \u001b[49m\u001b[38;5;28;43menumerate\u001b[39;49m\u001b[43m(\u001b[49m\u001b[43mcv\u001b[49m\u001b[38;5;241;43m.\u001b[39;49m\u001b[43msplit\u001b[49m\u001b[43m(\u001b[49m\u001b[43mX\u001b[49m\u001b[43m,\u001b[49m\u001b[43m \u001b[49m\u001b[43my\u001b[49m\u001b[43m,\u001b[49m\u001b[43m \u001b[49m\u001b[43mgroups\u001b[49m\u001b[43m)\u001b[49m\u001b[43m)\u001b[49m\n\u001b[0;32m    836\u001b[0m \u001b[43m    \u001b[49m\u001b[43m)\u001b[49m\n\u001b[0;32m    837\u001b[0m \u001b[43m\u001b[49m\u001b[43m)\u001b[49m\n\u001b[0;32m    839\u001b[0m \u001b[38;5;28;01mif\u001b[39;00m \u001b[38;5;28mlen\u001b[39m(out) \u001b[38;5;241m<\u001b[39m \u001b[38;5;241m1\u001b[39m:\n\u001b[0;32m    840\u001b[0m     \u001b[38;5;28;01mraise\u001b[39;00m \u001b[38;5;167;01mValueError\u001b[39;00m(\n\u001b[0;32m    841\u001b[0m         \u001b[38;5;124m\"\u001b[39m\u001b[38;5;124mNo fits were performed. \u001b[39m\u001b[38;5;124m\"\u001b[39m\n\u001b[0;32m    842\u001b[0m         \u001b[38;5;124m\"\u001b[39m\u001b[38;5;124mWas the CV iterator empty? \u001b[39m\u001b[38;5;124m\"\u001b[39m\n\u001b[0;32m    843\u001b[0m         \u001b[38;5;124m\"\u001b[39m\u001b[38;5;124mWere there no candidates?\u001b[39m\u001b[38;5;124m\"\u001b[39m\n\u001b[0;32m    844\u001b[0m     )\n",
      "File \u001b[1;32m~\\anaconda3\\envs\\smoking\\lib\\site-packages\\joblib\\parallel.py:1056\u001b[0m, in \u001b[0;36mParallel.__call__\u001b[1;34m(self, iterable)\u001b[0m\n\u001b[0;32m   1053\u001b[0m     \u001b[38;5;28mself\u001b[39m\u001b[38;5;241m.\u001b[39m_iterating \u001b[38;5;241m=\u001b[39m \u001b[38;5;28;01mFalse\u001b[39;00m\n\u001b[0;32m   1055\u001b[0m \u001b[38;5;28;01mwith\u001b[39;00m \u001b[38;5;28mself\u001b[39m\u001b[38;5;241m.\u001b[39m_backend\u001b[38;5;241m.\u001b[39mretrieval_context():\n\u001b[1;32m-> 1056\u001b[0m     \u001b[38;5;28;43mself\u001b[39;49m\u001b[38;5;241;43m.\u001b[39;49m\u001b[43mretrieve\u001b[49m\u001b[43m(\u001b[49m\u001b[43m)\u001b[49m\n\u001b[0;32m   1057\u001b[0m \u001b[38;5;66;03m# Make sure that we get a last message telling us we are done\u001b[39;00m\n\u001b[0;32m   1058\u001b[0m elapsed_time \u001b[38;5;241m=\u001b[39m time\u001b[38;5;241m.\u001b[39mtime() \u001b[38;5;241m-\u001b[39m \u001b[38;5;28mself\u001b[39m\u001b[38;5;241m.\u001b[39m_start_time\n",
      "File \u001b[1;32m~\\anaconda3\\envs\\smoking\\lib\\site-packages\\joblib\\parallel.py:935\u001b[0m, in \u001b[0;36mParallel.retrieve\u001b[1;34m(self)\u001b[0m\n\u001b[0;32m    933\u001b[0m \u001b[38;5;28;01mtry\u001b[39;00m:\n\u001b[0;32m    934\u001b[0m     \u001b[38;5;28;01mif\u001b[39;00m \u001b[38;5;28mgetattr\u001b[39m(\u001b[38;5;28mself\u001b[39m\u001b[38;5;241m.\u001b[39m_backend, \u001b[38;5;124m'\u001b[39m\u001b[38;5;124msupports_timeout\u001b[39m\u001b[38;5;124m'\u001b[39m, \u001b[38;5;28;01mFalse\u001b[39;00m):\n\u001b[1;32m--> 935\u001b[0m         \u001b[38;5;28mself\u001b[39m\u001b[38;5;241m.\u001b[39m_output\u001b[38;5;241m.\u001b[39mextend(\u001b[43mjob\u001b[49m\u001b[38;5;241;43m.\u001b[39;49m\u001b[43mget\u001b[49m\u001b[43m(\u001b[49m\u001b[43mtimeout\u001b[49m\u001b[38;5;241;43m=\u001b[39;49m\u001b[38;5;28;43mself\u001b[39;49m\u001b[38;5;241;43m.\u001b[39;49m\u001b[43mtimeout\u001b[49m\u001b[43m)\u001b[49m)\n\u001b[0;32m    936\u001b[0m     \u001b[38;5;28;01melse\u001b[39;00m:\n\u001b[0;32m    937\u001b[0m         \u001b[38;5;28mself\u001b[39m\u001b[38;5;241m.\u001b[39m_output\u001b[38;5;241m.\u001b[39mextend(job\u001b[38;5;241m.\u001b[39mget())\n",
      "File \u001b[1;32m~\\anaconda3\\envs\\smoking\\lib\\site-packages\\joblib\\_parallel_backends.py:542\u001b[0m, in \u001b[0;36mLokyBackend.wrap_future_result\u001b[1;34m(future, timeout)\u001b[0m\n\u001b[0;32m    539\u001b[0m \u001b[38;5;124;03m\"\"\"Wrapper for Future.result to implement the same behaviour as\u001b[39;00m\n\u001b[0;32m    540\u001b[0m \u001b[38;5;124;03mAsyncResults.get from multiprocessing.\"\"\"\u001b[39;00m\n\u001b[0;32m    541\u001b[0m \u001b[38;5;28;01mtry\u001b[39;00m:\n\u001b[1;32m--> 542\u001b[0m     \u001b[38;5;28;01mreturn\u001b[39;00m \u001b[43mfuture\u001b[49m\u001b[38;5;241;43m.\u001b[39;49m\u001b[43mresult\u001b[49m\u001b[43m(\u001b[49m\u001b[43mtimeout\u001b[49m\u001b[38;5;241;43m=\u001b[39;49m\u001b[43mtimeout\u001b[49m\u001b[43m)\u001b[49m\n\u001b[0;32m    543\u001b[0m \u001b[38;5;28;01mexcept\u001b[39;00m CfTimeoutError \u001b[38;5;28;01mas\u001b[39;00m e:\n\u001b[0;32m    544\u001b[0m     \u001b[38;5;28;01mraise\u001b[39;00m \u001b[38;5;167;01mTimeoutError\u001b[39;00m \u001b[38;5;28;01mfrom\u001b[39;00m \u001b[38;5;21;01me\u001b[39;00m\n",
      "File \u001b[1;32m~\\anaconda3\\envs\\smoking\\lib\\concurrent\\futures\\_base.py:439\u001b[0m, in \u001b[0;36mFuture.result\u001b[1;34m(self, timeout)\u001b[0m\n\u001b[0;32m    436\u001b[0m \u001b[38;5;28;01melif\u001b[39;00m \u001b[38;5;28mself\u001b[39m\u001b[38;5;241m.\u001b[39m_state \u001b[38;5;241m==\u001b[39m FINISHED:\n\u001b[0;32m    437\u001b[0m     \u001b[38;5;28;01mreturn\u001b[39;00m \u001b[38;5;28mself\u001b[39m\u001b[38;5;241m.\u001b[39m__get_result()\n\u001b[1;32m--> 439\u001b[0m \u001b[38;5;28;43mself\u001b[39;49m\u001b[38;5;241;43m.\u001b[39;49m\u001b[43m_condition\u001b[49m\u001b[38;5;241;43m.\u001b[39;49m\u001b[43mwait\u001b[49m\u001b[43m(\u001b[49m\u001b[43mtimeout\u001b[49m\u001b[43m)\u001b[49m\n\u001b[0;32m    441\u001b[0m \u001b[38;5;28;01mif\u001b[39;00m \u001b[38;5;28mself\u001b[39m\u001b[38;5;241m.\u001b[39m_state \u001b[38;5;129;01min\u001b[39;00m [CANCELLED, CANCELLED_AND_NOTIFIED]:\n\u001b[0;32m    442\u001b[0m     \u001b[38;5;28;01mraise\u001b[39;00m CancelledError()\n",
      "File \u001b[1;32m~\\anaconda3\\envs\\smoking\\lib\\threading.py:302\u001b[0m, in \u001b[0;36mCondition.wait\u001b[1;34m(self, timeout)\u001b[0m\n\u001b[0;32m    300\u001b[0m \u001b[38;5;28;01mtry\u001b[39;00m:    \u001b[38;5;66;03m# restore state no matter what (e.g., KeyboardInterrupt)\u001b[39;00m\n\u001b[0;32m    301\u001b[0m     \u001b[38;5;28;01mif\u001b[39;00m timeout \u001b[38;5;129;01mis\u001b[39;00m \u001b[38;5;28;01mNone\u001b[39;00m:\n\u001b[1;32m--> 302\u001b[0m         \u001b[43mwaiter\u001b[49m\u001b[38;5;241;43m.\u001b[39;49m\u001b[43macquire\u001b[49m\u001b[43m(\u001b[49m\u001b[43m)\u001b[49m\n\u001b[0;32m    303\u001b[0m         gotit \u001b[38;5;241m=\u001b[39m \u001b[38;5;28;01mTrue\u001b[39;00m\n\u001b[0;32m    304\u001b[0m     \u001b[38;5;28;01melse\u001b[39;00m:\n",
      "\u001b[1;31mKeyboardInterrupt\u001b[0m: "
     ]
    }
   ],
   "source": [
    "from sklearn.model_selection import RandomizedSearchCV\n",
    "\n",
    "param = {\n",
    "    'n_estimators':range(500, 1001, 200),\n",
    "    'learning_rate':[0.05, 0.01, 0.1, 0.5], \n",
    "    'max_depth':range(5,10),\n",
    "    'subsample':[0.5, 0.7, 0.9, 1]\n",
    "}\n",
    "\n",
    "rs = RandomizedSearchCV(GradientBoostingClassifier(random_state=0),\n",
    "                        param,\n",
    "                        cv=4, \n",
    "                        n_iter=60, \n",
    "                        scoring='accuracy', \n",
    "                        n_jobs=-1)\n",
    "\n",
    "rs.fit(X_train, y_train)"
   ]
  },
  {
   "cell_type": "code",
   "execution_count": null,
   "id": "2bb431a7",
   "metadata": {},
   "outputs": [],
   "source": [
    "rs.best_score_"
   ]
  },
  {
   "cell_type": "code",
   "execution_count": null,
   "id": "06140bcd",
   "metadata": {},
   "outputs": [],
   "source": [
    "rs.best_params_"
   ]
  },
  {
   "cell_type": "code",
   "execution_count": null,
   "id": "41afc4b4",
   "metadata": {},
   "outputs": [],
   "source": [
    "# feature importance\n",
    "ftr_importances_values = rf.feature_importances_\n",
    "ftr_importances = pd.Series(ftr_importances_values, index = X_train.columns)\n",
    "ftr = ftr_importances.sort_values(ascending=False)\n",
    "\n",
    "plt.figure(figsize=(8,6))\n",
    "plt.title('Feature Importances')\n",
    "sns.barplot(x=ftr, y=ftr.index)\n",
    "plt.show()"
   ]
  },
  {
   "cell_type": "markdown",
   "id": "aa8636f7",
   "metadata": {},
   "source": [
    "#### - GradientBoostingClassifier 모델 최종평가"
   ]
  },
  {
   "cell_type": "code",
   "execution_count": null,
   "id": "b8055621",
   "metadata": {},
   "outputs": [],
   "source": [
    "pred_train = gb.predict(X_train)\n",
    "pred_test = gb.predict(X_test)\n",
    "\n",
    "proba_train = gb.predict_proba(X_train)[:,1]\n",
    "proba_val = gb.predict_proba(X_test)[:,1]\n",
    "\n",
    "print_classification_metrics(y_train, pred_train, title='Train 성능지표')\n",
    "print_classification_metrics(y_test, pred_test, title='Test 성능지표')\n",
    "\n",
    "display_roc_curve(y_test, proba_test, title='Test_roc curve')"
   ]
  },
  {
   "cell_type": "code",
   "execution_count": null,
   "id": "ec5793dd",
   "metadata": {},
   "outputs": [],
   "source": []
  },
  {
   "cell_type": "markdown",
   "id": "f426568a",
   "metadata": {},
   "source": [
    "## XGBoost(Extra Gradient Boost) 모델"
   ]
  },
  {
   "cell_type": "markdown",
   "id": "2af7260a",
   "metadata": {},
   "source": [
    "- Gradient Boost의 단점인 느린수행시간을 해결하고 과적합을 제어할 수 있는 규제들을 제공하여 성능을 높임.\n",
    "- 회귀와 분류 모두 지원한다."
   ]
  },
  {
   "cell_type": "markdown",
   "id": "91030e75",
   "metadata": {},
   "source": [
    "### 주요 매개변수\n",
    "- learning_rate : 학습률, 보통 0.01 ~ 0.2 사이의 값 사용\n",
    "- n_estimators : week tree 개수\n"
   ]
  },
  {
   "cell_type": "code",
   "execution_count": 47,
   "id": "df34f05c",
   "metadata": {
    "scrolled": true
   },
   "outputs": [
    {
     "name": "stdout",
     "output_type": "stream",
     "text": [
      "Collecting xgboost\n",
      "  Downloading xgboost-1.6.1-py3-none-win_amd64.whl (125.4 MB)\n",
      "     -------------------------------------- 125.4/125.4 MB 8.1 MB/s eta 0:00:00\n",
      "Requirement already satisfied: numpy in c:\\users\\csyj\\anaconda3\\envs\\smoking\\lib\\site-packages (from xgboost) (1.23.1)\n",
      "Requirement already satisfied: scipy in c:\\users\\csyj\\anaconda3\\envs\\smoking\\lib\\site-packages (from xgboost) (1.8.1)\n",
      "Installing collected packages: xgboost\n",
      "Successfully installed xgboost-1.6.1\n"
     ]
    }
   ],
   "source": [
    "!pip install xgboost "
   ]
  },
  {
   "cell_type": "markdown",
   "id": "0d48f429",
   "metadata": {},
   "source": [
    "- 과적합 문제가 심할 경우\n",
    "\n",
    "    - eta 값 낮춤\n",
    "    \n",
    "    - max_depth 값 낮춤\n",
    "    \n",
    "    - min_child_weight 값 높임\n",
    "    \n",
    "    - gamma 값 높임\n",
    "\n",
    "    - subsample / colsample_bytree 생성\n"
   ]
  },
  {
   "cell_type": "markdown",
   "id": "7aaf42b3",
   "metadata": {},
   "source": [
    "### 하이퍼파라미터 설정\n",
    "\n",
    "\n",
    "- learning_rate : 0.01 ~ 0.2 \n",
    "- n_estimators : 500 ~ 1000\n",
    "- 'max_depth' = 6 \n",
    "\n",
    "\n",
    "- subsample : \n",
    "\n",
    "\n",
    "    \n"
   ]
  },
  {
   "cell_type": "markdown",
   "id": "af53d8f8",
   "metadata": {},
   "source": [
    "#### RS 결과\n",
    "- estimators 와 상관없이 depth 가 6 이면 학습률을 0.17 이 최적이다.\n",
    "- 일단, depth = 6 을 해야 과적합을 막을 수 있을 것 같아 고정하고 \n",
    "    - 이때, 최적의 estimators 를 rs 로 구해보자. => 결과 800\n",
    "    - 그리고 이 내가 학습으로 돌려본 500 ~ 900 사이 결과 값 중에 제일 성능이 잘 나온 것도 보자.\n",
    "\n",
    "\n",
    "- estimators 가 정해지면, 다른 매개변수를 이용해 과대적합을 막으면서도 성능이 좋은 지표를 찾아보자.\n"
   ]
  },
  {
   "cell_type": "markdown",
   "id": "96747735",
   "metadata": {},
   "source": [
    "#### n_estimators=900,"
   ]
  },
  {
   "cell_type": "markdown",
   "id": "d7cf460a",
   "metadata": {},
   "source": [
    "##### max_depth=6, - rs -  lr = 0.17"
   ]
  },
  {
   "cell_type": "code",
   "execution_count": 135,
   "id": "d6bca66e",
   "metadata": {},
   "outputs": [],
   "source": [
    "from xgboost import XGBClassifier\n",
    "\n",
    "xgb = XGBClassifier(n_estimators=900,\n",
    "                    learning_rate=0.17, # 0.1~0.2 중에 0.17 보다 낮음\n",
    "                    max_depth=6,\n",
    "                    #subsample=0.9,\n",
    "                    random_state=0)\n",
    "\n",
    "xgb.fit(X_train, y_train)\n",
    "\n",
    "pred_train = xgb.predict(X_train)\n",
    "pred_val = xgb.predict(X_val)"
   ]
  },
  {
   "cell_type": "code",
   "execution_count": 159,
   "id": "e3eeece2",
   "metadata": {
    "scrolled": true
   },
   "outputs": [
    {
     "name": "stdout",
     "output_type": "stream",
     "text": [
      "==================================================\n",
      "XGB Train\n",
      "==================================================\n",
      "정확도(Accuracy): 0.9974015722132684\n",
      "재현율(Recall): 0.9962999026290166\n",
      "정밀도(Precision): 0.9960089555144553\n",
      "F1 점수(F1 Score) 0.9961544078274839\n",
      "==================================================\n",
      "==================================================\n",
      "XGB val\n",
      "==================================================\n",
      "정확도(Accuracy): 0.8092747903305377\n",
      "재현율(Recall): 0.7099035933391762\n",
      "정밀도(Precision): 0.7210682492581603\n",
      "F1 점수(F1 Score) 0.7154423671426469\n",
      "==================================================\n"
     ]
    }
   ],
   "source": [
    "print_classification_metrics(y_train, pred_train, \"XGB Train\")\n",
    "print_classification_metrics(y_val, pred_val, 'XGB val')"
   ]
  },
  {
   "cell_type": "code",
   "execution_count": 134,
   "id": "756c7799",
   "metadata": {},
   "outputs": [],
   "source": [
    "from xgboost import XGBClassifier\n",
    "\n",
    "xgb = XGBClassifier(n_estimators=900,\n",
    "                    learning_rate=0.17, # 0.15 ~ 0.19 중에 최적 \n",
    "                    max_depth=6,\n",
    "                    #subsample=0.9,\n",
    "                    random_state=0)\n",
    "\n",
    "xgb.fit(X_train, y_train)\n",
    "\n",
    "pred_train = xgb.predict(X_train)\n",
    "pred_val = xgb.predict(X_val)"
   ]
  },
  {
   "cell_type": "code",
   "execution_count": 135,
   "id": "249725b0",
   "metadata": {},
   "outputs": [
    {
     "name": "stdout",
     "output_type": "stream",
     "text": [
      "==================================================\n",
      "XGB Train\n",
      "==================================================\n",
      "정확도(Accuracy): 0.9974015722132684\n",
      "재현율(Recall): 0.9962999026290166\n",
      "정밀도(Precision): 0.9960089555144553\n",
      "F1 점수(F1 Score) 0.9961544078274839\n",
      "==================================================\n",
      "==================================================\n",
      "XGB val\n",
      "==================================================\n",
      "정확도(Accuracy): 0.8092747903305377\n",
      "재현율(Recall): 0.7099035933391762\n",
      "정밀도(Precision): 0.7210682492581603\n",
      "F1 점수(F1 Score) 0.7154423671426469\n",
      "==================================================\n"
     ]
    }
   ],
   "source": [
    "print_classification_metrics(y_train, pred_train, \"XGB Train\")\n",
    "print_classification_metrics(y_val, pred_val, 'XGB val')"
   ]
  },
  {
   "cell_type": "markdown",
   "id": "1b0bcfda",
   "metadata": {},
   "source": [
    "#### n_estimators=800,"
   ]
  },
  {
   "cell_type": "markdown",
   "id": "4588599f",
   "metadata": {},
   "source": [
    "##### max_depth=6 - rs -  lr = 0.17"
   ]
  },
  {
   "cell_type": "code",
   "execution_count": 151,
   "id": "19161be5",
   "metadata": {},
   "outputs": [],
   "source": [
    "from xgboost import XGBClassifier\n",
    "\n",
    "xgb = XGBClassifier(n_estimators=800,\n",
    "                    learning_rate=0.17, \n",
    "                    max_depth=6,\n",
    "                    #subsample=0.9,\n",
    "                    random_state=0)\n",
    "\n",
    "xgb.fit(X_train, y_train)\n",
    "\n",
    "pred_train = xgb.predict(X_train)\n",
    "pred_val = xgb.predict(X_val)"
   ]
  },
  {
   "cell_type": "code",
   "execution_count": 152,
   "id": "d5552bf0",
   "metadata": {},
   "outputs": [
    {
     "name": "stdout",
     "output_type": "stream",
     "text": [
      "==================================================\n",
      "XGB Train\n",
      "==================================================\n",
      "정확도(Accuracy): 0.995164950827221\n",
      "재현율(Recall): 0.99269717624148\n",
      "정밀도(Precision): 0.9929872406740041\n",
      "F1 점수(F1 Score) 0.9928421872717534\n",
      "==================================================\n",
      "==================================================\n",
      "XGB val\n",
      "==================================================\n",
      "정확도(Accuracy): 0.8068080907745436\n",
      "재현율(Recall): 0.7104878761320479\n",
      "정밀도(Precision): 0.7155045601647544\n",
      "F1 점수(F1 Score) 0.7129873937261801\n",
      "==================================================\n"
     ]
    }
   ],
   "source": [
    "print_classification_metrics(y_train, pred_train, \"XGB Train\")\n",
    "print_classification_metrics(y_val, pred_val, 'XGB val')"
   ]
  },
  {
   "cell_type": "code",
   "execution_count": null,
   "id": "51fbf9a9",
   "metadata": {},
   "outputs": [],
   "source": []
  },
  {
   "cell_type": "markdown",
   "id": "04feed42",
   "metadata": {},
   "source": [
    "#### n_estimators=700,"
   ]
  },
  {
   "cell_type": "markdown",
   "id": "e2224ecd",
   "metadata": {},
   "source": [
    "##### max_depth=6 - rs -  lr = 0.17"
   ]
  },
  {
   "cell_type": "code",
   "execution_count": 125,
   "id": "2e5b8e4d",
   "metadata": {},
   "outputs": [],
   "source": [
    "from xgboost import XGBClassifier\n",
    "\n",
    "xgb = XGBClassifier(n_estimators=700,\n",
    "                    learning_rate=0.17, # 0.1~0.2 최적\n",
    "                    max_depth=6,\n",
    "                    #subsample=0.9,\n",
    "                    random_state=0)\n",
    "\n",
    "xgb.fit(X_train, y_train)\n",
    "\n",
    "pred_train = xgb.predict(X_train)\n",
    "pred_val = xgb.predict(X_val)"
   ]
  },
  {
   "cell_type": "code",
   "execution_count": 126,
   "id": "24375339",
   "metadata": {},
   "outputs": [
    {
     "name": "stdout",
     "output_type": "stream",
     "text": [
      "==================================================\n",
      "XGB Train\n",
      "==================================================\n",
      "정확도(Accuracy): 0.9897707463079302\n",
      "재현율(Recall): 0.9837390457643622\n",
      "정밀도(Precision): 0.9859471064701864\n",
      "F1 점수(F1 Score) 0.9848418384754106\n",
      "==================================================\n",
      "==================================================\n",
      "XGB val\n",
      "==================================================\n",
      "정확도(Accuracy): 0.8065120868278244\n",
      "재현율(Recall): 0.710195734735612\n",
      "정밀도(Precision): 0.715\n",
      "F1 점수(F1 Score) 0.7125897698959404\n",
      "==================================================\n"
     ]
    }
   ],
   "source": [
    "print_classification_metrics(y_train, pred_train, \"XGB Train\")\n",
    "print_classification_metrics(y_val, pred_val, 'XGB val')"
   ]
  },
  {
   "cell_type": "markdown",
   "id": "5618a0c3",
   "metadata": {},
   "source": [
    "##### max_depth=7  rs - lr = 0.2"
   ]
  },
  {
   "cell_type": "code",
   "execution_count": 142,
   "id": "05a7e60a",
   "metadata": {},
   "outputs": [],
   "source": [
    "from xgboost import XGBClassifier\n",
    "\n",
    "xgb = XGBClassifier(n_estimators=700,\n",
    "                    learning_rate= 0.2,  \n",
    "                    max_depth=7,\n",
    "                    #subsample=0.9,\n",
    "                    random_state=0)\n",
    "\n",
    "xgb.fit(X_train, y_train)\n",
    "\n",
    "pred_train = xgb.predict(X_train)\n",
    "pred_val = xgb.predict(X_val)"
   ]
  },
  {
   "cell_type": "code",
   "execution_count": 143,
   "id": "33bac3a4",
   "metadata": {
    "scrolled": true
   },
   "outputs": [
    {
     "name": "stdout",
     "output_type": "stream",
     "text": [
      "==================================================\n",
      "XGB Train\n",
      "==================================================\n",
      "정확도(Accuracy): 1.0\n",
      "재현율(Recall): 1.0\n",
      "정밀도(Precision): 1.0\n",
      "F1 점수(F1 Score) 1.0\n",
      "==================================================\n",
      "==================================================\n",
      "XGB val\n",
      "==================================================\n",
      "정확도(Accuracy): 0.8083867784903799\n",
      "재현율(Recall): 0.7099035933391762\n",
      "정밀도(Precision): 0.7191476768274637\n",
      "F1 점수(F1 Score) 0.7144957365480741\n",
      "==================================================\n"
     ]
    }
   ],
   "source": [
    "print_classification_metrics(y_train, pred_train, \"XGB Train\")\n",
    "print_classification_metrics(y_val, pred_val, 'XGB val')"
   ]
  },
  {
   "cell_type": "code",
   "execution_count": 68,
   "id": "f93e8e5d",
   "metadata": {},
   "outputs": [],
   "source": [
    "from xgboost import XGBClassifier\n",
    "\n",
    "xgb = XGBClassifier(n_estimators=700,\n",
    "                    learning_rate=0.18,\n",
    "                    max_depth=7,\n",
    "                    #subsample=0.9,\n",
    "                    random_state=0)\n",
    "\n",
    "xgb.fit(X_train, y_train)\n",
    "\n",
    "pred_train = xgb.predict(X_train)\n",
    "pred_val = xgb.predict(X_val)"
   ]
  },
  {
   "cell_type": "code",
   "execution_count": 69,
   "id": "b1d65ce0",
   "metadata": {
    "scrolled": true
   },
   "outputs": [
    {
     "name": "stdout",
     "output_type": "stream",
     "text": [
      "==================================================\n",
      "XGB Train\n",
      "==================================================\n",
      "정확도(Accuracy): 0.9999013255270861\n",
      "재현율(Recall): 0.9997078870496592\n",
      "정밀도(Precision): 1.0\n",
      "F1 점수(F1 Score) 0.9998539221892194\n",
      "==================================================\n",
      "==================================================\n",
      "XGB val\n",
      "==================================================\n",
      "정확도(Accuracy): 0.8079921065614208\n",
      "재현율(Recall): 0.7084428863569968\n",
      "정밀도(Precision): 0.7189445597391046\n",
      "F1 점수(F1 Score) 0.7136550912301354\n",
      "==================================================\n"
     ]
    }
   ],
   "source": [
    "print_classification_metrics(y_train, pred_train, \"XGB Train\")\n",
    "print_classification_metrics(y_val, pred_val, 'XGB val')"
   ]
  },
  {
   "cell_type": "code",
   "execution_count": null,
   "id": "d4ee160f",
   "metadata": {},
   "outputs": [],
   "source": []
  },
  {
   "cell_type": "code",
   "execution_count": null,
   "id": "cff2b799",
   "metadata": {},
   "outputs": [],
   "source": []
  },
  {
   "cell_type": "markdown",
   "id": "5b1f1a15",
   "metadata": {},
   "source": [
    "#### 'n_estimators': 600\n"
   ]
  },
  {
   "cell_type": "markdown",
   "id": "e587ebc4",
   "metadata": {},
   "source": [
    "##### 'max_depth': 6,   - rs - lr = 0.17"
   ]
  },
  {
   "cell_type": "code",
   "execution_count": 156,
   "id": "a94f66f8",
   "metadata": {},
   "outputs": [],
   "source": [
    "from xgboost import XGBClassifier\n",
    "\n",
    "xgb = XGBClassifier(n_estimators=600,\n",
    "                    learning_rate=0.17,\n",
    "                    max_depth=6,\n",
    "                    #subsample=0.9,\n",
    "                    random_state=0)\n",
    "\n",
    "xgb.fit(X_train, y_train)\n",
    "\n",
    "pred_train = xgb.predict(X_train)\n",
    "pred_val = xgb.predict(X_val)"
   ]
  },
  {
   "cell_type": "code",
   "execution_count": 157,
   "id": "23b0492b",
   "metadata": {},
   "outputs": [
    {
     "name": "stdout",
     "output_type": "stream",
     "text": [
      "==================================================\n",
      "XGB Train\n",
      "==================================================\n",
      "정확도(Accuracy): 0.9804953458540275\n",
      "재현율(Recall): 0.9697176241480039\n",
      "정밀도(Precision): 0.9724636265989649\n",
      "F1 점수(F1 Score) 0.9710886841207157\n",
      "==================================================\n",
      "==================================================\n",
      "XGB val\n",
      "==================================================\n",
      "정확도(Accuracy): 0.8056240749876665\n",
      "재현율(Recall): 0.7063978965819456\n",
      "정밀도(Precision): 0.7147502216967189\n",
      "F1 점수(F1 Score) 0.7105495151337055\n",
      "==================================================\n"
     ]
    }
   ],
   "source": [
    "print_classification_metrics(y_train, pred_train, \"XGB Train\")\n",
    "print_classification_metrics(y_val, pred_val, 'XGB val')"
   ]
  },
  {
   "cell_type": "code",
   "execution_count": null,
   "id": "ab5720a9",
   "metadata": {},
   "outputs": [],
   "source": []
  },
  {
   "cell_type": "code",
   "execution_count": null,
   "id": "88112c31",
   "metadata": {},
   "outputs": [],
   "source": []
  },
  {
   "cell_type": "markdown",
   "id": "6b3b5e89",
   "metadata": {},
   "source": [
    "#### n_estimators=500,"
   ]
  },
  {
   "cell_type": "markdown",
   "id": "2cb4c395",
   "metadata": {},
   "source": [
    "##### max_depth=7 - rs - lr = 0.2"
   ]
  },
  {
   "cell_type": "code",
   "execution_count": 146,
   "id": "be3ea5cb",
   "metadata": {},
   "outputs": [],
   "source": [
    "from xgboost import XGBClassifier\n",
    "\n",
    "xgb = XGBClassifier(n_estimators=500,\n",
    "                    learning_rate=0.2,\n",
    "                    max_depth=7,\n",
    "                    #subsample=0.9,\n",
    "                    random_state=0)\n",
    "\n",
    "xgb.fit(X_train, y_train)\n",
    "\n",
    "pred_train = xgb.predict(X_train)\n",
    "pred_val = xgb.predict(X_val)"
   ]
  },
  {
   "cell_type": "code",
   "execution_count": 147,
   "id": "9b888c40",
   "metadata": {},
   "outputs": [
    {
     "name": "stdout",
     "output_type": "stream",
     "text": [
      "==================================================\n",
      "XGB Train\n",
      "==================================================\n",
      "정확도(Accuracy): 0.999079038252804\n",
      "재현율(Recall): 0.9979552093476144\n",
      "정밀도(Precision): 0.9993174726989079\n",
      "F1 점수(F1 Score) 0.9986358764493813\n",
      "==================================================\n",
      "==================================================\n",
      "XGB val\n",
      "==================================================\n",
      "정확도(Accuracy): 0.809570794277257\n",
      "재현율(Recall): 0.7145778556821502\n",
      "정밀도(Precision): 0.7196234186525449\n",
      "F1 점수(F1 Score) 0.7170917619466433\n",
      "==================================================\n"
     ]
    }
   ],
   "source": [
    "print_classification_metrics(y_train, pred_train, \"XGB Train\")\n",
    "print_classification_metrics(y_val, pred_val, 'XGB val')"
   ]
  },
  {
   "cell_type": "code",
   "execution_count": null,
   "id": "8c4d448f",
   "metadata": {},
   "outputs": [],
   "source": []
  },
  {
   "cell_type": "code",
   "execution_count": 153,
   "id": "7104282a",
   "metadata": {},
   "outputs": [
    {
     "data": {
      "text/html": [
       "<style>#sk-container-id-3 {color: black;background-color: white;}#sk-container-id-3 pre{padding: 0;}#sk-container-id-3 div.sk-toggleable {background-color: white;}#sk-container-id-3 label.sk-toggleable__label {cursor: pointer;display: block;width: 100%;margin-bottom: 0;padding: 0.3em;box-sizing: border-box;text-align: center;}#sk-container-id-3 label.sk-toggleable__label-arrow:before {content: \"▸\";float: left;margin-right: 0.25em;color: #696969;}#sk-container-id-3 label.sk-toggleable__label-arrow:hover:before {color: black;}#sk-container-id-3 div.sk-estimator:hover label.sk-toggleable__label-arrow:before {color: black;}#sk-container-id-3 div.sk-toggleable__content {max-height: 0;max-width: 0;overflow: hidden;text-align: left;background-color: #f0f8ff;}#sk-container-id-3 div.sk-toggleable__content pre {margin: 0.2em;color: black;border-radius: 0.25em;background-color: #f0f8ff;}#sk-container-id-3 input.sk-toggleable__control:checked~div.sk-toggleable__content {max-height: 200px;max-width: 100%;overflow: auto;}#sk-container-id-3 input.sk-toggleable__control:checked~label.sk-toggleable__label-arrow:before {content: \"▾\";}#sk-container-id-3 div.sk-estimator input.sk-toggleable__control:checked~label.sk-toggleable__label {background-color: #d4ebff;}#sk-container-id-3 div.sk-label input.sk-toggleable__control:checked~label.sk-toggleable__label {background-color: #d4ebff;}#sk-container-id-3 input.sk-hidden--visually {border: 0;clip: rect(1px 1px 1px 1px);clip: rect(1px, 1px, 1px, 1px);height: 1px;margin: -1px;overflow: hidden;padding: 0;position: absolute;width: 1px;}#sk-container-id-3 div.sk-estimator {font-family: monospace;background-color: #f0f8ff;border: 1px dotted black;border-radius: 0.25em;box-sizing: border-box;margin-bottom: 0.5em;}#sk-container-id-3 div.sk-estimator:hover {background-color: #d4ebff;}#sk-container-id-3 div.sk-parallel-item::after {content: \"\";width: 100%;border-bottom: 1px solid gray;flex-grow: 1;}#sk-container-id-3 div.sk-label:hover label.sk-toggleable__label {background-color: #d4ebff;}#sk-container-id-3 div.sk-serial::before {content: \"\";position: absolute;border-left: 1px solid gray;box-sizing: border-box;top: 0;bottom: 0;left: 50%;z-index: 0;}#sk-container-id-3 div.sk-serial {display: flex;flex-direction: column;align-items: center;background-color: white;padding-right: 0.2em;padding-left: 0.2em;position: relative;}#sk-container-id-3 div.sk-item {position: relative;z-index: 1;}#sk-container-id-3 div.sk-parallel {display: flex;align-items: stretch;justify-content: center;background-color: white;position: relative;}#sk-container-id-3 div.sk-item::before, #sk-container-id-3 div.sk-parallel-item::before {content: \"\";position: absolute;border-left: 1px solid gray;box-sizing: border-box;top: 0;bottom: 0;left: 50%;z-index: -1;}#sk-container-id-3 div.sk-parallel-item {display: flex;flex-direction: column;z-index: 1;position: relative;background-color: white;}#sk-container-id-3 div.sk-parallel-item:first-child::after {align-self: flex-end;width: 50%;}#sk-container-id-3 div.sk-parallel-item:last-child::after {align-self: flex-start;width: 50%;}#sk-container-id-3 div.sk-parallel-item:only-child::after {width: 0;}#sk-container-id-3 div.sk-dashed-wrapped {border: 1px dashed gray;margin: 0 0.4em 0.5em 0.4em;box-sizing: border-box;padding-bottom: 0.4em;background-color: white;}#sk-container-id-3 div.sk-label label {font-family: monospace;font-weight: bold;display: inline-block;line-height: 1.2em;}#sk-container-id-3 div.sk-label-container {text-align: center;}#sk-container-id-3 div.sk-container {/* jupyter's `normalize.less` sets `[hidden] { display: none; }` but bootstrap.min.css set `[hidden] { display: none !important; }` so we also need the `!important` here to be able to override the default hidden behavior on the sphinx rendered scikit-learn.org. See: https://github.com/scikit-learn/scikit-learn/issues/21755 */display: inline-block !important;position: relative;}#sk-container-id-3 div.sk-text-repr-fallback {display: none;}</style><div id=\"sk-container-id-3\" class=\"sk-top-container\"><div class=\"sk-text-repr-fallback\"><pre>RandomizedSearchCV(cv=4,\n",
       "                   estimator=XGBClassifier(base_score=None, booster=None,\n",
       "                                           callbacks=None,\n",
       "                                           colsample_bylevel=None,\n",
       "                                           colsample_bynode=None,\n",
       "                                           colsample_bytree=None,\n",
       "                                           early_stopping_rounds=None,\n",
       "                                           enable_categorical=False,\n",
       "                                           eval_metric=None, gamma=None,\n",
       "                                           gpu_id=None, grow_policy=None,\n",
       "                                           importance_type=None,\n",
       "                                           interaction_constraints=None,\n",
       "                                           learning_rate=None, max_bin=None,...\n",
       "                                           max_delta_step=None, max_depth=None,\n",
       "                                           max_leaves=None,\n",
       "                                           min_child_weight=None, missing=nan,\n",
       "                                           monotone_constraints=None,\n",
       "                                           n_estimators=100, n_jobs=None,\n",
       "                                           num_parallel_tree=None,\n",
       "                                           predictor=None, random_state=0,\n",
       "                                           reg_alpha=None, reg_lambda=None, ...),\n",
       "                   n_iter=60, n_jobs=-1,\n",
       "                   param_distributions={&#x27;learning_rate&#x27;: [0.15, 0.17, 0.19,\n",
       "                                                          0.2],\n",
       "                                        &#x27;max_depth&#x27;: [6],\n",
       "                                        &#x27;n_estimators&#x27;: [600]},\n",
       "                   scoring=&#x27;accuracy&#x27;)</pre><b>In a Jupyter environment, please rerun this cell to show the HTML representation or trust the notebook. <br />On GitHub, the HTML representation is unable to render, please try loading this page with nbviewer.org.</b></div><div class=\"sk-container\" hidden><div class=\"sk-item sk-dashed-wrapped\"><div class=\"sk-label-container\"><div class=\"sk-label sk-toggleable\"><input class=\"sk-toggleable__control sk-hidden--visually\" id=\"sk-estimator-id-7\" type=\"checkbox\" ><label for=\"sk-estimator-id-7\" class=\"sk-toggleable__label sk-toggleable__label-arrow\">RandomizedSearchCV</label><div class=\"sk-toggleable__content\"><pre>RandomizedSearchCV(cv=4,\n",
       "                   estimator=XGBClassifier(base_score=None, booster=None,\n",
       "                                           callbacks=None,\n",
       "                                           colsample_bylevel=None,\n",
       "                                           colsample_bynode=None,\n",
       "                                           colsample_bytree=None,\n",
       "                                           early_stopping_rounds=None,\n",
       "                                           enable_categorical=False,\n",
       "                                           eval_metric=None, gamma=None,\n",
       "                                           gpu_id=None, grow_policy=None,\n",
       "                                           importance_type=None,\n",
       "                                           interaction_constraints=None,\n",
       "                                           learning_rate=None, max_bin=None,...\n",
       "                                           max_delta_step=None, max_depth=None,\n",
       "                                           max_leaves=None,\n",
       "                                           min_child_weight=None, missing=nan,\n",
       "                                           monotone_constraints=None,\n",
       "                                           n_estimators=100, n_jobs=None,\n",
       "                                           num_parallel_tree=None,\n",
       "                                           predictor=None, random_state=0,\n",
       "                                           reg_alpha=None, reg_lambda=None, ...),\n",
       "                   n_iter=60, n_jobs=-1,\n",
       "                   param_distributions={&#x27;learning_rate&#x27;: [0.15, 0.17, 0.19,\n",
       "                                                          0.2],\n",
       "                                        &#x27;max_depth&#x27;: [6],\n",
       "                                        &#x27;n_estimators&#x27;: [600]},\n",
       "                   scoring=&#x27;accuracy&#x27;)</pre></div></div></div><div class=\"sk-parallel\"><div class=\"sk-parallel-item\"><div class=\"sk-item\"><div class=\"sk-label-container\"><div class=\"sk-label sk-toggleable\"><input class=\"sk-toggleable__control sk-hidden--visually\" id=\"sk-estimator-id-8\" type=\"checkbox\" ><label for=\"sk-estimator-id-8\" class=\"sk-toggleable__label sk-toggleable__label-arrow\">estimator: XGBClassifier</label><div class=\"sk-toggleable__content\"><pre>XGBClassifier(base_score=None, booster=None, callbacks=None,\n",
       "              colsample_bylevel=None, colsample_bynode=None,\n",
       "              colsample_bytree=None, early_stopping_rounds=None,\n",
       "              enable_categorical=False, eval_metric=None, gamma=None,\n",
       "              gpu_id=None, grow_policy=None, importance_type=None,\n",
       "              interaction_constraints=None, learning_rate=None, max_bin=None,\n",
       "              max_cat_to_onehot=None, max_delta_step=None, max_depth=None,\n",
       "              max_leaves=None, min_child_weight=None, missing=nan,\n",
       "              monotone_constraints=None, n_estimators=100, n_jobs=None,\n",
       "              num_parallel_tree=None, predictor=None, random_state=0,\n",
       "              reg_alpha=None, reg_lambda=None, ...)</pre></div></div></div><div class=\"sk-serial\"><div class=\"sk-item\"><div class=\"sk-estimator sk-toggleable\"><input class=\"sk-toggleable__control sk-hidden--visually\" id=\"sk-estimator-id-9\" type=\"checkbox\" ><label for=\"sk-estimator-id-9\" class=\"sk-toggleable__label sk-toggleable__label-arrow\">XGBClassifier</label><div class=\"sk-toggleable__content\"><pre>XGBClassifier(base_score=None, booster=None, callbacks=None,\n",
       "              colsample_bylevel=None, colsample_bynode=None,\n",
       "              colsample_bytree=None, early_stopping_rounds=None,\n",
       "              enable_categorical=False, eval_metric=None, gamma=None,\n",
       "              gpu_id=None, grow_policy=None, importance_type=None,\n",
       "              interaction_constraints=None, learning_rate=None, max_bin=None,\n",
       "              max_cat_to_onehot=None, max_delta_step=None, max_depth=None,\n",
       "              max_leaves=None, min_child_weight=None, missing=nan,\n",
       "              monotone_constraints=None, n_estimators=100, n_jobs=None,\n",
       "              num_parallel_tree=None, predictor=None, random_state=0,\n",
       "              reg_alpha=None, reg_lambda=None, ...)</pre></div></div></div></div></div></div></div></div></div></div>"
      ],
      "text/plain": [
       "RandomizedSearchCV(cv=4,\n",
       "                   estimator=XGBClassifier(base_score=None, booster=None,\n",
       "                                           callbacks=None,\n",
       "                                           colsample_bylevel=None,\n",
       "                                           colsample_bynode=None,\n",
       "                                           colsample_bytree=None,\n",
       "                                           early_stopping_rounds=None,\n",
       "                                           enable_categorical=False,\n",
       "                                           eval_metric=None, gamma=None,\n",
       "                                           gpu_id=None, grow_policy=None,\n",
       "                                           importance_type=None,\n",
       "                                           interaction_constraints=None,\n",
       "                                           learning_rate=None, max_bin=None,...\n",
       "                                           max_delta_step=None, max_depth=None,\n",
       "                                           max_leaves=None,\n",
       "                                           min_child_weight=None, missing=nan,\n",
       "                                           monotone_constraints=None,\n",
       "                                           n_estimators=100, n_jobs=None,\n",
       "                                           num_parallel_tree=None,\n",
       "                                           predictor=None, random_state=0,\n",
       "                                           reg_alpha=None, reg_lambda=None, ...),\n",
       "                   n_iter=60, n_jobs=-1,\n",
       "                   param_distributions={'learning_rate': [0.15, 0.17, 0.19,\n",
       "                                                          0.2],\n",
       "                                        'max_depth': [6],\n",
       "                                        'n_estimators': [600]},\n",
       "                   scoring='accuracy')"
      ]
     },
     "execution_count": 153,
     "metadata": {},
     "output_type": "execute_result"
    }
   ],
   "source": [
    "from sklearn.model_selection import RandomizedSearchCV\n",
    "\n",
    "param = {\n",
    "    'n_estimators':[600], # range(400, 701, 100),\n",
    "    'learning_rate':[0.15,0.17,0.19, 0.2], \n",
    "    'max_depth':[6]\n",
    "    #'subsample':[0.5, 0.7, 0.9, 1] # 0.5, 0.7, 0.9, 1\n",
    "}\n",
    "\n",
    "rs = RandomizedSearchCV(XGBClassifier(random_state=0),\n",
    "                        param,\n",
    "                        cv=4, \n",
    "                        n_iter=60, \n",
    "                        scoring='accuracy', \n",
    "                        n_jobs=-1)\n",
    "\n",
    "rs.fit(X_train, y_train)"
   ]
  },
  {
   "cell_type": "code",
   "execution_count": 154,
   "id": "aac07332",
   "metadata": {},
   "outputs": [
    {
     "data": {
      "text/plain": [
       "{'n_estimators': 600, 'max_depth': 6, 'learning_rate': 0.17}"
      ]
     },
     "execution_count": 154,
     "metadata": {},
     "output_type": "execute_result"
    }
   ],
   "source": [
    "rs.best_params_"
   ]
  },
  {
   "cell_type": "code",
   "execution_count": null,
   "id": "601981cc",
   "metadata": {},
   "outputs": [],
   "source": []
  },
  {
   "cell_type": "markdown",
   "id": "7013cef2",
   "metadata": {},
   "source": [
    "#### - XGBoost(Extra Gradient Boost) 모델 최종평가"
   ]
  },
  {
   "cell_type": "code",
   "execution_count": null,
   "id": "3cf17c0b",
   "metadata": {},
   "outputs": [],
   "source": [
    "pred_train = xgb.predict(X_train)\n",
    "pred_test = xgb.predict(X_test)\n",
    "\n",
    "proba_train = xgb.predict_proba(X_train)[:,1]\n",
    "proba_val = xgb.predict_proba(X_test)[:,1]\n",
    "\n",
    "print_classification_metrics(y_train, pred_train, title='Train 성능지표')\n",
    "print_classification_metrics(y_test, pred_test, title='Test 성능지표')\n",
    "\n",
    "display_roc_curve(y_test, proba_test, title='Test_roc curve')"
   ]
  },
  {
   "cell_type": "code",
   "execution_count": null,
   "id": "b576d045",
   "metadata": {},
   "outputs": [],
   "source": []
  },
  {
   "cell_type": "code",
   "execution_count": null,
   "id": "933fd11a",
   "metadata": {},
   "outputs": [],
   "source": []
  }
 ],
 "metadata": {
  "kernelspec": {
   "display_name": "Python 3 (ipykernel)",
   "language": "python",
   "name": "python3"
  },
  "language_info": {
   "codemirror_mode": {
    "name": "ipython",
    "version": 3
   },
   "file_extension": ".py",
   "mimetype": "text/x-python",
   "name": "python",
   "nbconvert_exporter": "python",
   "pygments_lexer": "ipython3",
   "version": "3.8.13"
  }
 },
 "nbformat": 4,
 "nbformat_minor": 5
}
