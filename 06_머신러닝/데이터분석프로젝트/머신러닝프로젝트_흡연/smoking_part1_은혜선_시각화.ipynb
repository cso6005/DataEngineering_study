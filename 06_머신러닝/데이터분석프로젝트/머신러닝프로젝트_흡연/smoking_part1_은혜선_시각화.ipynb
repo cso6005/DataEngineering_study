{
 "cells": [
  {
   "cell_type": "code",
   "execution_count": 2,
   "id": "4972922d",
   "metadata": {
    "ExecuteTime": {
     "end_time": "2022-07-20T06:01:37.808359Z",
     "start_time": "2022-07-20T06:01:37.797371Z"
    }
   },
   "outputs": [
    {
     "name": "stderr",
     "output_type": "stream",
     "text": [
      "C:\\Users\\Playdata\\AppData\\Local\\Temp\\ipykernel_3588\\1226147920.py:1: DeprecationWarning: Importing display from IPython.core.display is deprecated since IPython 7.14, please import from IPython display\n",
      "  from IPython.core.display import display, HTML\n"
     ]
    },
    {
     "data": {
      "text/html": [
       "<style>.container { width:95% !important; }</style>"
      ],
      "text/plain": [
       "<IPython.core.display.HTML object>"
      ]
     },
     "metadata": {},
     "output_type": "display_data"
    }
   ],
   "source": [
    "from IPython.core.display import display, HTML\n",
    "display(HTML(\"<style>.container { width:95% !important; }</style>\"))"
   ]
  },
  {
   "cell_type": "code",
   "execution_count": 65,
   "id": "3b35fdcf",
   "metadata": {},
   "outputs": [
    {
     "name": "stdout",
     "output_type": "stream",
     "text": [
      "['AppleGothic']\n"
     ]
    }
   ],
   "source": [
    "import matplotlib.pyplot as plt\n",
    "\n",
    "plt.rc('font', family='AppleGothic') # For MacOS\n",
    "print(plt.rcParams['font.family'])"
   ]
  },
  {
   "cell_type": "code",
   "execution_count": 47,
   "id": "3cc4e193",
   "metadata": {},
   "outputs": [],
   "source": [
    "import warnings\n",
    "warnings.filterwarnings(action='ignore')"
   ]
  },
  {
   "cell_type": "code",
   "execution_count": 27,
   "id": "8b4c839e",
   "metadata": {
    "scrolled": true
   },
   "outputs": [],
   "source": [
    "import pandas as pd\n",
    "import numpy as np\n",
    "import pandas as pd\n",
    "import seaborn as sns\n",
    "import matplotlib.pyplot as plt"
   ]
  },
  {
   "cell_type": "code",
   "execution_count": 136,
   "id": "59b4b6d7",
   "metadata": {},
   "outputs": [
    {
     "data": {
      "text/html": [
       "<div>\n",
       "<style scoped>\n",
       "    .dataframe tbody tr th:only-of-type {\n",
       "        vertical-align: middle;\n",
       "    }\n",
       "\n",
       "    .dataframe tbody tr th {\n",
       "        vertical-align: top;\n",
       "    }\n",
       "\n",
       "    .dataframe thead th {\n",
       "        text-align: right;\n",
       "    }\n",
       "</style>\n",
       "<table border=\"1\" class=\"dataframe\">\n",
       "  <thead>\n",
       "    <tr style=\"text-align: right;\">\n",
       "      <th></th>\n",
       "      <th>gender</th>\n",
       "      <th>age</th>\n",
       "      <th>height(cm)</th>\n",
       "      <th>weight(kg)</th>\n",
       "      <th>waist(cm)</th>\n",
       "      <th>eyesight(left)</th>\n",
       "      <th>eyesight(right)</th>\n",
       "      <th>hearing(left)</th>\n",
       "      <th>hearing(right)</th>\n",
       "      <th>systolic</th>\n",
       "      <th>...</th>\n",
       "      <th>hemoglobin</th>\n",
       "      <th>Urine protein</th>\n",
       "      <th>serum creatinine</th>\n",
       "      <th>AST</th>\n",
       "      <th>ALT</th>\n",
       "      <th>Gtp</th>\n",
       "      <th>oral</th>\n",
       "      <th>dental caries</th>\n",
       "      <th>tartar</th>\n",
       "      <th>smoking</th>\n",
       "    </tr>\n",
       "    <tr>\n",
       "      <th>ID</th>\n",
       "      <th></th>\n",
       "      <th></th>\n",
       "      <th></th>\n",
       "      <th></th>\n",
       "      <th></th>\n",
       "      <th></th>\n",
       "      <th></th>\n",
       "      <th></th>\n",
       "      <th></th>\n",
       "      <th></th>\n",
       "      <th></th>\n",
       "      <th></th>\n",
       "      <th></th>\n",
       "      <th></th>\n",
       "      <th></th>\n",
       "      <th></th>\n",
       "      <th></th>\n",
       "      <th></th>\n",
       "      <th></th>\n",
       "      <th></th>\n",
       "      <th></th>\n",
       "    </tr>\n",
       "  </thead>\n",
       "  <tbody>\n",
       "    <tr>\n",
       "      <th>0</th>\n",
       "      <td>F</td>\n",
       "      <td>40</td>\n",
       "      <td>155</td>\n",
       "      <td>60</td>\n",
       "      <td>81.3</td>\n",
       "      <td>1.2</td>\n",
       "      <td>1.0</td>\n",
       "      <td>1.0</td>\n",
       "      <td>1.0</td>\n",
       "      <td>114.0</td>\n",
       "      <td>...</td>\n",
       "      <td>12.9</td>\n",
       "      <td>1.0</td>\n",
       "      <td>0.7</td>\n",
       "      <td>18.0</td>\n",
       "      <td>19.0</td>\n",
       "      <td>27.0</td>\n",
       "      <td>Y</td>\n",
       "      <td>0</td>\n",
       "      <td>Y</td>\n",
       "      <td>0</td>\n",
       "    </tr>\n",
       "    <tr>\n",
       "      <th>1</th>\n",
       "      <td>F</td>\n",
       "      <td>40</td>\n",
       "      <td>160</td>\n",
       "      <td>60</td>\n",
       "      <td>81.0</td>\n",
       "      <td>0.8</td>\n",
       "      <td>0.6</td>\n",
       "      <td>1.0</td>\n",
       "      <td>1.0</td>\n",
       "      <td>119.0</td>\n",
       "      <td>...</td>\n",
       "      <td>12.7</td>\n",
       "      <td>1.0</td>\n",
       "      <td>0.6</td>\n",
       "      <td>22.0</td>\n",
       "      <td>19.0</td>\n",
       "      <td>18.0</td>\n",
       "      <td>Y</td>\n",
       "      <td>0</td>\n",
       "      <td>Y</td>\n",
       "      <td>0</td>\n",
       "    </tr>\n",
       "    <tr>\n",
       "      <th>2</th>\n",
       "      <td>M</td>\n",
       "      <td>55</td>\n",
       "      <td>170</td>\n",
       "      <td>60</td>\n",
       "      <td>80.0</td>\n",
       "      <td>0.8</td>\n",
       "      <td>0.8</td>\n",
       "      <td>1.0</td>\n",
       "      <td>1.0</td>\n",
       "      <td>138.0</td>\n",
       "      <td>...</td>\n",
       "      <td>15.8</td>\n",
       "      <td>1.0</td>\n",
       "      <td>1.0</td>\n",
       "      <td>21.0</td>\n",
       "      <td>16.0</td>\n",
       "      <td>22.0</td>\n",
       "      <td>Y</td>\n",
       "      <td>0</td>\n",
       "      <td>N</td>\n",
       "      <td>1</td>\n",
       "    </tr>\n",
       "    <tr>\n",
       "      <th>3</th>\n",
       "      <td>M</td>\n",
       "      <td>40</td>\n",
       "      <td>165</td>\n",
       "      <td>70</td>\n",
       "      <td>88.0</td>\n",
       "      <td>1.5</td>\n",
       "      <td>1.5</td>\n",
       "      <td>1.0</td>\n",
       "      <td>1.0</td>\n",
       "      <td>100.0</td>\n",
       "      <td>...</td>\n",
       "      <td>14.7</td>\n",
       "      <td>1.0</td>\n",
       "      <td>1.0</td>\n",
       "      <td>19.0</td>\n",
       "      <td>26.0</td>\n",
       "      <td>18.0</td>\n",
       "      <td>Y</td>\n",
       "      <td>0</td>\n",
       "      <td>Y</td>\n",
       "      <td>0</td>\n",
       "    </tr>\n",
       "    <tr>\n",
       "      <th>4</th>\n",
       "      <td>F</td>\n",
       "      <td>40</td>\n",
       "      <td>155</td>\n",
       "      <td>60</td>\n",
       "      <td>86.0</td>\n",
       "      <td>1.0</td>\n",
       "      <td>1.0</td>\n",
       "      <td>1.0</td>\n",
       "      <td>1.0</td>\n",
       "      <td>120.0</td>\n",
       "      <td>...</td>\n",
       "      <td>12.5</td>\n",
       "      <td>1.0</td>\n",
       "      <td>0.6</td>\n",
       "      <td>16.0</td>\n",
       "      <td>14.0</td>\n",
       "      <td>22.0</td>\n",
       "      <td>Y</td>\n",
       "      <td>0</td>\n",
       "      <td>N</td>\n",
       "      <td>0</td>\n",
       "    </tr>\n",
       "  </tbody>\n",
       "</table>\n",
       "<p>5 rows × 26 columns</p>\n",
       "</div>"
      ],
      "text/plain": [
       "   gender  age  height(cm)  weight(kg)  waist(cm)  eyesight(left)  \\\n",
       "ID                                                                  \n",
       "0       F   40         155          60       81.3             1.2   \n",
       "1       F   40         160          60       81.0             0.8   \n",
       "2       M   55         170          60       80.0             0.8   \n",
       "3       M   40         165          70       88.0             1.5   \n",
       "4       F   40         155          60       86.0             1.0   \n",
       "\n",
       "    eyesight(right)  hearing(left)  hearing(right)  systolic  ...  hemoglobin  \\\n",
       "ID                                                            ...               \n",
       "0               1.0            1.0             1.0     114.0  ...        12.9   \n",
       "1               0.6            1.0             1.0     119.0  ...        12.7   \n",
       "2               0.8            1.0             1.0     138.0  ...        15.8   \n",
       "3               1.5            1.0             1.0     100.0  ...        14.7   \n",
       "4               1.0            1.0             1.0     120.0  ...        12.5   \n",
       "\n",
       "    Urine protein  serum creatinine   AST   ALT   Gtp  oral  dental caries  \\\n",
       "ID                                                                           \n",
       "0             1.0               0.7  18.0  19.0  27.0     Y              0   \n",
       "1             1.0               0.6  22.0  19.0  18.0     Y              0   \n",
       "2             1.0               1.0  21.0  16.0  22.0     Y              0   \n",
       "3             1.0               1.0  19.0  26.0  18.0     Y              0   \n",
       "4             1.0               0.6  16.0  14.0  22.0     Y              0   \n",
       "\n",
       "    tartar  smoking  \n",
       "ID                   \n",
       "0        Y        0  \n",
       "1        Y        0  \n",
       "2        N        1  \n",
       "3        Y        0  \n",
       "4        N        0  \n",
       "\n",
       "[5 rows x 26 columns]"
      ]
     },
     "execution_count": 136,
     "metadata": {},
     "output_type": "execute_result"
    }
   ],
   "source": [
    "#index => 'ID'\n",
    "data = pd.read_csv('smoking_data/smoking.csv', index_col=0)\n",
    "data.head()"
   ]
  },
  {
   "cell_type": "code",
   "execution_count": 8,
   "id": "3c41f2e7",
   "metadata": {},
   "outputs": [
    {
     "data": {
      "text/html": [
       "<div>\n",
       "<style scoped>\n",
       "    .dataframe tbody tr th:only-of-type {\n",
       "        vertical-align: middle;\n",
       "    }\n",
       "\n",
       "    .dataframe tbody tr th {\n",
       "        vertical-align: top;\n",
       "    }\n",
       "\n",
       "    .dataframe thead th {\n",
       "        text-align: right;\n",
       "    }\n",
       "</style>\n",
       "<table border=\"1\" class=\"dataframe\">\n",
       "  <thead>\n",
       "    <tr style=\"text-align: right;\">\n",
       "      <th></th>\n",
       "      <th>gender</th>\n",
       "      <th>age</th>\n",
       "      <th>height(cm)</th>\n",
       "      <th>weight(kg)</th>\n",
       "      <th>waist(cm)</th>\n",
       "      <th>eyesight(left)</th>\n",
       "      <th>eyesight(right)</th>\n",
       "      <th>hearing(left)</th>\n",
       "      <th>hearing(right)</th>\n",
       "      <th>systolic</th>\n",
       "      <th>...</th>\n",
       "      <th>hemoglobin</th>\n",
       "      <th>Urine protein</th>\n",
       "      <th>serum creatinine</th>\n",
       "      <th>AST</th>\n",
       "      <th>ALT</th>\n",
       "      <th>Gtp</th>\n",
       "      <th>oral</th>\n",
       "      <th>dental caries</th>\n",
       "      <th>tartar</th>\n",
       "      <th>smoking</th>\n",
       "    </tr>\n",
       "    <tr>\n",
       "      <th>ID</th>\n",
       "      <th></th>\n",
       "      <th></th>\n",
       "      <th></th>\n",
       "      <th></th>\n",
       "      <th></th>\n",
       "      <th></th>\n",
       "      <th></th>\n",
       "      <th></th>\n",
       "      <th></th>\n",
       "      <th></th>\n",
       "      <th></th>\n",
       "      <th></th>\n",
       "      <th></th>\n",
       "      <th></th>\n",
       "      <th></th>\n",
       "      <th></th>\n",
       "      <th></th>\n",
       "      <th></th>\n",
       "      <th></th>\n",
       "      <th></th>\n",
       "      <th></th>\n",
       "    </tr>\n",
       "  </thead>\n",
       "  <tbody>\n",
       "    <tr>\n",
       "      <th>1</th>\n",
       "      <td>F</td>\n",
       "      <td>40</td>\n",
       "      <td>155</td>\n",
       "      <td>60</td>\n",
       "      <td>81.3</td>\n",
       "      <td>1.2</td>\n",
       "      <td>1.0</td>\n",
       "      <td>1.0</td>\n",
       "      <td>1.0</td>\n",
       "      <td>114.0</td>\n",
       "      <td>...</td>\n",
       "      <td>12.9</td>\n",
       "      <td>1.0</td>\n",
       "      <td>0.7</td>\n",
       "      <td>18.0</td>\n",
       "      <td>19.0</td>\n",
       "      <td>27.0</td>\n",
       "      <td>Y</td>\n",
       "      <td>0</td>\n",
       "      <td>Y</td>\n",
       "      <td>0</td>\n",
       "    </tr>\n",
       "    <tr>\n",
       "      <th>2</th>\n",
       "      <td>F</td>\n",
       "      <td>40</td>\n",
       "      <td>160</td>\n",
       "      <td>60</td>\n",
       "      <td>81.0</td>\n",
       "      <td>0.8</td>\n",
       "      <td>0.6</td>\n",
       "      <td>1.0</td>\n",
       "      <td>1.0</td>\n",
       "      <td>119.0</td>\n",
       "      <td>...</td>\n",
       "      <td>12.7</td>\n",
       "      <td>1.0</td>\n",
       "      <td>0.6</td>\n",
       "      <td>22.0</td>\n",
       "      <td>19.0</td>\n",
       "      <td>18.0</td>\n",
       "      <td>Y</td>\n",
       "      <td>0</td>\n",
       "      <td>Y</td>\n",
       "      <td>0</td>\n",
       "    </tr>\n",
       "    <tr>\n",
       "      <th>3</th>\n",
       "      <td>M</td>\n",
       "      <td>55</td>\n",
       "      <td>170</td>\n",
       "      <td>60</td>\n",
       "      <td>80.0</td>\n",
       "      <td>0.8</td>\n",
       "      <td>0.8</td>\n",
       "      <td>1.0</td>\n",
       "      <td>1.0</td>\n",
       "      <td>138.0</td>\n",
       "      <td>...</td>\n",
       "      <td>15.8</td>\n",
       "      <td>1.0</td>\n",
       "      <td>1.0</td>\n",
       "      <td>21.0</td>\n",
       "      <td>16.0</td>\n",
       "      <td>22.0</td>\n",
       "      <td>Y</td>\n",
       "      <td>0</td>\n",
       "      <td>N</td>\n",
       "      <td>1</td>\n",
       "    </tr>\n",
       "    <tr>\n",
       "      <th>4</th>\n",
       "      <td>M</td>\n",
       "      <td>40</td>\n",
       "      <td>165</td>\n",
       "      <td>70</td>\n",
       "      <td>88.0</td>\n",
       "      <td>1.5</td>\n",
       "      <td>1.5</td>\n",
       "      <td>1.0</td>\n",
       "      <td>1.0</td>\n",
       "      <td>100.0</td>\n",
       "      <td>...</td>\n",
       "      <td>14.7</td>\n",
       "      <td>1.0</td>\n",
       "      <td>1.0</td>\n",
       "      <td>19.0</td>\n",
       "      <td>26.0</td>\n",
       "      <td>18.0</td>\n",
       "      <td>Y</td>\n",
       "      <td>0</td>\n",
       "      <td>Y</td>\n",
       "      <td>0</td>\n",
       "    </tr>\n",
       "    <tr>\n",
       "      <th>5</th>\n",
       "      <td>F</td>\n",
       "      <td>40</td>\n",
       "      <td>155</td>\n",
       "      <td>60</td>\n",
       "      <td>86.0</td>\n",
       "      <td>1.0</td>\n",
       "      <td>1.0</td>\n",
       "      <td>1.0</td>\n",
       "      <td>1.0</td>\n",
       "      <td>120.0</td>\n",
       "      <td>...</td>\n",
       "      <td>12.5</td>\n",
       "      <td>1.0</td>\n",
       "      <td>0.6</td>\n",
       "      <td>16.0</td>\n",
       "      <td>14.0</td>\n",
       "      <td>22.0</td>\n",
       "      <td>Y</td>\n",
       "      <td>0</td>\n",
       "      <td>N</td>\n",
       "      <td>0</td>\n",
       "    </tr>\n",
       "  </tbody>\n",
       "</table>\n",
       "<p>5 rows × 26 columns</p>\n",
       "</div>"
      ],
      "text/plain": [
       "   gender  age  height(cm)  weight(kg)  waist(cm)  eyesight(left)  \\\n",
       "ID                                                                  \n",
       "1       F   40         155          60       81.3             1.2   \n",
       "2       F   40         160          60       81.0             0.8   \n",
       "3       M   55         170          60       80.0             0.8   \n",
       "4       M   40         165          70       88.0             1.5   \n",
       "5       F   40         155          60       86.0             1.0   \n",
       "\n",
       "    eyesight(right)  hearing(left)  hearing(right)  systolic  ...  hemoglobin  \\\n",
       "ID                                                            ...               \n",
       "1               1.0            1.0             1.0     114.0  ...        12.9   \n",
       "2               0.6            1.0             1.0     119.0  ...        12.7   \n",
       "3               0.8            1.0             1.0     138.0  ...        15.8   \n",
       "4               1.5            1.0             1.0     100.0  ...        14.7   \n",
       "5               1.0            1.0             1.0     120.0  ...        12.5   \n",
       "\n",
       "    Urine protein  serum creatinine   AST   ALT   Gtp  oral  dental caries  \\\n",
       "ID                                                                           \n",
       "1             1.0               0.7  18.0  19.0  27.0     Y              0   \n",
       "2             1.0               0.6  22.0  19.0  18.0     Y              0   \n",
       "3             1.0               1.0  21.0  16.0  22.0     Y              0   \n",
       "4             1.0               1.0  19.0  26.0  18.0     Y              0   \n",
       "5             1.0               0.6  16.0  14.0  22.0     Y              0   \n",
       "\n",
       "    tartar  smoking  \n",
       "ID                   \n",
       "1        Y        0  \n",
       "2        Y        0  \n",
       "3        N        1  \n",
       "4        Y        0  \n",
       "5        N        0  \n",
       "\n",
       "[5 rows x 26 columns]"
      ]
     },
     "execution_count": 8,
     "metadata": {},
     "output_type": "execute_result"
    }
   ],
   "source": [
    "# index 1부터 시작하기\n",
    "data.index = data.index+1\n",
    "data.head()"
   ]
  },
  {
   "cell_type": "code",
   "execution_count": 10,
   "id": "827f5694",
   "metadata": {},
   "outputs": [
    {
     "name": "stdout",
     "output_type": "stream",
     "text": [
      "<class 'pandas.core.frame.DataFrame'>\n",
      "Int64Index: 55692 entries, 1 to 55692\n",
      "Data columns (total 26 columns):\n",
      " #   Column               Non-Null Count  Dtype  \n",
      "---  ------               --------------  -----  \n",
      " 0   gender               55692 non-null  object \n",
      " 1   age                  55692 non-null  int64  \n",
      " 2   height(cm)           55692 non-null  int64  \n",
      " 3   weight(kg)           55692 non-null  int64  \n",
      " 4   waist(cm)            55692 non-null  float64\n",
      " 5   eyesight(left)       55692 non-null  float64\n",
      " 6   eyesight(right)      55692 non-null  float64\n",
      " 7   hearing(left)        55692 non-null  float64\n",
      " 8   hearing(right)       55692 non-null  float64\n",
      " 9   systolic             55692 non-null  float64\n",
      " 10  relaxation           55692 non-null  float64\n",
      " 11  fasting blood sugar  55692 non-null  float64\n",
      " 12  Cholesterol          55692 non-null  float64\n",
      " 13  triglyceride         55692 non-null  float64\n",
      " 14  HDL                  55692 non-null  float64\n",
      " 15  LDL                  55692 non-null  float64\n",
      " 16  hemoglobin           55692 non-null  float64\n",
      " 17  Urine protein        55692 non-null  float64\n",
      " 18  serum creatinine     55692 non-null  float64\n",
      " 19  AST                  55692 non-null  float64\n",
      " 20  ALT                  55692 non-null  float64\n",
      " 21  Gtp                  55692 non-null  float64\n",
      " 22  oral                 55692 non-null  object \n",
      " 23  dental caries        55692 non-null  int64  \n",
      " 24  tartar               55692 non-null  object \n",
      " 25  smoking              55692 non-null  int64  \n",
      "dtypes: float64(18), int64(5), object(3)\n",
      "memory usage: 11.5+ MB\n"
     ]
    }
   ],
   "source": [
    "data.info()"
   ]
  },
  {
   "cell_type": "code",
   "execution_count": 12,
   "id": "2ffb3500",
   "metadata": {},
   "outputs": [
    {
     "name": "stdout",
     "output_type": "stream",
     "text": [
      "(55692, 26)\n"
     ]
    }
   ],
   "source": [
    "print(data.shape)"
   ]
  },
  {
   "cell_type": "code",
   "execution_count": 13,
   "id": "499fd896",
   "metadata": {
    "collapsed": true
   },
   "outputs": [
    {
     "name": "stdout",
     "output_type": "stream",
     "text": [
      "                age    height(cm)    weight(kg)     waist(cm)  eyesight(left)  \\\n",
      "count  55692.000000  55692.000000  55692.000000  55692.000000    55692.000000   \n",
      "mean      44.182917    164.649321     65.864936     82.046418        1.012623   \n",
      "std       12.071418      9.194597     12.820306      9.274223        0.486873   \n",
      "min       20.000000    130.000000     30.000000     51.000000        0.100000   \n",
      "25%       40.000000    160.000000     55.000000     76.000000        0.800000   \n",
      "50%       40.000000    165.000000     65.000000     82.000000        1.000000   \n",
      "75%       55.000000    170.000000     75.000000     88.000000        1.200000   \n",
      "max       85.000000    190.000000    135.000000    129.000000        9.900000   \n",
      "\n",
      "       eyesight(right)  hearing(left)  hearing(right)      systolic  \\\n",
      "count     55692.000000   55692.000000    55692.000000  55692.000000   \n",
      "mean          1.007443       1.025587        1.026144    121.494218   \n",
      "std           0.485964       0.157902        0.159564     13.675989   \n",
      "min           0.100000       1.000000        1.000000     71.000000   \n",
      "25%           0.800000       1.000000        1.000000    112.000000   \n",
      "50%           1.000000       1.000000        1.000000    120.000000   \n",
      "75%           1.200000       1.000000        1.000000    130.000000   \n",
      "max           9.900000       2.000000        2.000000    240.000000   \n",
      "\n",
      "         relaxation  ...           HDL           LDL    hemoglobin  \\\n",
      "count  55692.000000  ...  55692.000000  55692.000000  55692.000000   \n",
      "mean      76.004830  ...     57.290347    114.964501     14.622592   \n",
      "std        9.679278  ...     14.738963     40.926476      1.564498   \n",
      "min       40.000000  ...      4.000000      1.000000      4.900000   \n",
      "25%       70.000000  ...     47.000000     92.000000     13.600000   \n",
      "50%       76.000000  ...     55.000000    113.000000     14.800000   \n",
      "75%       82.000000  ...     66.000000    136.000000     15.800000   \n",
      "max      146.000000  ...    618.000000   1860.000000     21.100000   \n",
      "\n",
      "       Urine protein  serum creatinine           AST           ALT  \\\n",
      "count   55692.000000      55692.000000  55692.000000  55692.000000   \n",
      "mean        1.087212          0.885738     26.182935     27.036037   \n",
      "std         0.404882          0.221524     19.355460     30.947853   \n",
      "min         1.000000          0.100000      6.000000      1.000000   \n",
      "25%         1.000000          0.800000     19.000000     15.000000   \n",
      "50%         1.000000          0.900000     23.000000     21.000000   \n",
      "75%         1.000000          1.000000     28.000000     31.000000   \n",
      "max         6.000000         11.600000   1311.000000   2914.000000   \n",
      "\n",
      "                Gtp  dental caries       smoking  \n",
      "count  55692.000000   55692.000000  55692.000000  \n",
      "mean      39.952201       0.213334      0.367288  \n",
      "std       50.290539       0.409665      0.482070  \n",
      "min        1.000000       0.000000      0.000000  \n",
      "25%       17.000000       0.000000      0.000000  \n",
      "50%       25.000000       0.000000      0.000000  \n",
      "75%       43.000000       0.000000      1.000000  \n",
      "max      999.000000       1.000000      1.000000  \n",
      "\n",
      "[8 rows x 23 columns]\n"
     ]
    }
   ],
   "source": [
    "print(data.describe())"
   ]
  },
  {
   "cell_type": "code",
   "execution_count": 15,
   "id": "af31f53f",
   "metadata": {
    "scrolled": true
   },
   "outputs": [
    {
     "data": {
      "text/plain": [
       "oral                     1\n",
       "gender                   2\n",
       "dental caries            2\n",
       "tartar                   2\n",
       "hearing(right)           2\n",
       "hearing(left)            2\n",
       "smoking                  2\n",
       "Urine protein            6\n",
       "height(cm)              13\n",
       "age                     14\n",
       "eyesight(right)         17\n",
       "eyesight(left)          19\n",
       "weight(kg)              22\n",
       "serum creatinine        38\n",
       "relaxation              95\n",
       "HDL                    126\n",
       "systolic               130\n",
       "hemoglobin             145\n",
       "AST                    219\n",
       "ALT                    245\n",
       "fasting blood sugar    276\n",
       "Cholesterol            286\n",
       "LDL                    289\n",
       "triglyceride           390\n",
       "Gtp                    488\n",
       "waist(cm)              566\n",
       "dtype: int64"
      ]
     },
     "execution_count": 15,
     "metadata": {},
     "output_type": "execute_result"
    }
   ],
   "source": [
    "#고유값 개수\n",
    "data.nunique().sort_values()"
   ]
  },
  {
   "cell_type": "code",
   "execution_count": 21,
   "id": "db27c6eb",
   "metadata": {},
   "outputs": [
    {
     "data": {
      "text/plain": [
       "array(['Y', 'N'], dtype=object)"
      ]
     },
     "execution_count": 21,
     "metadata": {},
     "output_type": "execute_result"
    }
   ],
   "source": [
    "data['tartar'].unique()"
   ]
  },
  {
   "cell_type": "code",
   "execution_count": 16,
   "id": "f7ab37c5",
   "metadata": {
    "scrolled": true
   },
   "outputs": [
    {
     "data": {
      "text/plain": [
       "Index(['gender', 'age', 'height(cm)', 'weight(kg)', 'waist(cm)',\n",
       "       'eyesight(left)', 'eyesight(right)', 'hearing(left)', 'hearing(right)',\n",
       "       'systolic', 'relaxation', 'fasting blood sugar', 'Cholesterol',\n",
       "       'triglyceride', 'HDL', 'LDL', 'hemoglobin', 'Urine protein',\n",
       "       'serum creatinine', 'AST', 'ALT', 'Gtp', 'oral', 'dental caries',\n",
       "       'tartar', 'smoking'],\n",
       "      dtype='object')"
      ]
     },
     "execution_count": 16,
     "metadata": {},
     "output_type": "execute_result"
    }
   ],
   "source": [
    "#column 확인\n",
    "data.columns"
   ]
  },
  {
   "cell_type": "code",
   "execution_count": 34,
   "id": "d355b0ba",
   "metadata": {},
   "outputs": [],
   "source": [
    "data.columns = ['gender', 'age', 'height', 'weight', 'waist',\n",
    "       'eyesight(left)', 'eyesight(right)', 'hearing(left)', 'hearing(right)',\n",
    "       'systolic', 'relaxation', 'fasting blood sugar', 'Cholesterol',\n",
    "       'triglyceride', 'HDL', 'LDL', 'hemoglobin', 'Urine protein',\n",
    "       'serum creatinine', 'AST', 'ALT', 'Gtp', 'oral', 'dental caries',\n",
    "       'tartar', 'smoking']"
   ]
  },
  {
   "cell_type": "code",
   "execution_count": 24,
   "id": "6802eb70",
   "metadata": {},
   "outputs": [
    {
     "data": {
      "text/plain": [
       "<AxesSubplot:ylabel='gender'>"
      ]
     },
     "execution_count": 24,
     "metadata": {},
     "output_type": "execute_result"
    },
    {
     "data": {
      "image/png": "[encoded data removed]",
      "text/plain": [
       "<Figure size 432x288 with 1 Axes>"
      ]
     },
     "metadata": {},
     "output_type": "display_data"
    }
   ],
   "source": [
    "#성별 비율 -> pie graph\n",
    "data['gender'].value_counts().plot.pie(explode=[0,0.1],autopct='%1.1f%%')"
   ]
  },
  {
   "cell_type": "code",
   "execution_count": 28,
   "id": "9191e7c4",
   "metadata": {},
   "outputs": [
    {
     "data": {
      "text/plain": [
       "<AxesSubplot:ylabel='smoking'>"
      ]
     },
     "execution_count": 28,
     "metadata": {},
     "output_type": "execute_result"
    },
    {
     "data": {
      "image/png": "[encoded data removed]",
      "text/plain": [
       "<Figure size 432x288 with 1 Axes>"
      ]
     },
     "metadata": {},
     "output_type": "display_data"
    }
   ],
   "source": [
    "# 흡연 비율 -> pie graph\n",
    "data['smoking'].value_counts().plot.pie(explode=[0,0.1],autopct='%1.1f%%')"
   ]
  },
  {
   "cell_type": "code",
   "execution_count": 30,
   "id": "5e74cdc2",
   "metadata": {},
   "outputs": [
    {
     "data": {
      "image/png": "[encoded data removed]",
      "text/plain": [
       "<Figure size 432x288 with 1 Axes>"
      ]
     },
     "metadata": {
      "needs_background": "light"
     },
     "output_type": "display_data"
    }
   ],
   "source": [
    "plt.boxplot(data[\"age\"])\n",
    "plt.show()"
   ]
  },
  {
   "cell_type": "code",
   "execution_count": 32,
   "id": "52337915",
   "metadata": {},
   "outputs": [
    {
     "name": "stdout",
     "output_type": "stream",
     "text": [
      "평균나이:  44.18\n",
      "가장 어린 나이:  20\n",
      "가장 많은 나이:  85\n"
     ]
    }
   ],
   "source": [
    "print('평균나이: ', round(data['age'].mean(), 2))\n",
    "print('가장 어린 나이: ', data['age'].min())\n",
    "print('가장 많은 나이: ', data['age'].max())"
   ]
  },
  {
   "cell_type": "code",
   "execution_count": 35,
   "id": "b8e2fac0",
   "metadata": {},
   "outputs": [
    {
     "data": {
      "image/png": "[encoded data removed]",
      "text/plain": [
       "<Figure size 432x288 with 1 Axes>"
      ]
     },
     "metadata": {
      "needs_background": "light"
     },
     "output_type": "display_data"
    }
   ],
   "source": [
    "#몸무게 분포 -> boxplot\n",
    "plt.boxplot(data[\"weight\"])\n",
    "plt.show()"
   ]
  },
  {
   "cell_type": "code",
   "execution_count": 48,
   "id": "e320ed4e",
   "metadata": {},
   "outputs": [
    {
     "data": {
      "image/png": "[encoded data removed]",
      "text/plain": [
       "<Figure size 432x288 with 1 Axes>"
      ]
     },
     "metadata": {
      "needs_background": "light"
     },
     "output_type": "display_data"
    }
   ],
   "source": [
    "sns.distplot(data['weight'])\n",
    "plt.show()"
   ]
  },
  {
   "cell_type": "code",
   "execution_count": 36,
   "id": "12929856",
   "metadata": {},
   "outputs": [
    {
     "name": "stdout",
     "output_type": "stream",
     "text": [
      "평균 체중:  65.86\n",
      "최저 몸무게:  30\n",
      "최고 몸무게:  135\n"
     ]
    }
   ],
   "source": [
    "print('평균 체중: ', round(data['weight'].mean(), 2))\n",
    "print('최저 몸무게: ', data['weight'].min())\n",
    "print('최고 몸무게: ', data['weight'].max())"
   ]
  },
  {
   "cell_type": "code",
   "execution_count": 72,
   "id": "b2e1ed57",
   "metadata": {},
   "outputs": [
    {
     "data": {
      "image/png": "[encoded data removed]",
      "text/plain": [
       "<Figure size 426x360 with 1 Axes>"
      ]
     },
     "metadata": {
      "needs_background": "light"
     },
     "output_type": "display_data"
    }
   ],
   "source": [
    "data['smoking'] = data['smoking'].replace(1, '흡연')\n",
    "data['smoking'] = data['smoking'].replace(0, '비흡연')\n",
    "sns.relplot(x=\"age\", y=\"weight\", hue='smoking', data=data)\n",
    "plt.show()"
   ]
  },
  {
   "cell_type": "code",
   "execution_count": 68,
   "id": "9bd6b66d",
   "metadata": {},
   "outputs": [
    {
     "data": {
      "text/plain": [
       "ID\n",
       "1    0\n",
       "2    0\n",
       "3    1\n",
       "4    0\n",
       "5    0\n",
       "Name: smoking, dtype: int64"
      ]
     },
     "execution_count": 68,
     "metadata": {},
     "output_type": "execute_result"
    }
   ],
   "source": [
    "data['smoking'] = data['smoking'].replace('흡연', 1)\n",
    "data['smoking'] = data['smoking'].replace('비흡연', 0)\n",
    "data['smoking'].head()"
   ]
  },
  {
   "cell_type": "code",
   "execution_count": 80,
   "id": "4666633e",
   "metadata": {},
   "outputs": [
    {
     "data": {
      "text/html": [
       "<div>\n",
       "<style scoped>\n",
       "    .dataframe tbody tr th:only-of-type {\n",
       "        vertical-align: middle;\n",
       "    }\n",
       "\n",
       "    .dataframe tbody tr th {\n",
       "        vertical-align: top;\n",
       "    }\n",
       "\n",
       "    .dataframe thead th {\n",
       "        text-align: right;\n",
       "    }\n",
       "</style>\n",
       "<table border=\"1\" class=\"dataframe\">\n",
       "  <thead>\n",
       "    <tr style=\"text-align: right;\">\n",
       "      <th></th>\n",
       "      <th></th>\n",
       "      <th>eyesight(left)</th>\n",
       "      <th>eyesight(right)</th>\n",
       "      <th>hearing(left)</th>\n",
       "      <th>hearing(right)</th>\n",
       "      <th>systolic</th>\n",
       "      <th>relaxation</th>\n",
       "      <th>fasting blood sugar</th>\n",
       "      <th>Cholesterol</th>\n",
       "      <th>triglyceride</th>\n",
       "      <th>HDL</th>\n",
       "      <th>LDL</th>\n",
       "      <th>hemoglobin</th>\n",
       "      <th>Urine protein</th>\n",
       "      <th>serum creatinine</th>\n",
       "      <th>AST</th>\n",
       "      <th>ALT</th>\n",
       "      <th>Gtp</th>\n",
       "      <th>dental caries</th>\n",
       "    </tr>\n",
       "    <tr>\n",
       "      <th>smoking</th>\n",
       "      <th>gender</th>\n",
       "      <th></th>\n",
       "      <th></th>\n",
       "      <th></th>\n",
       "      <th></th>\n",
       "      <th></th>\n",
       "      <th></th>\n",
       "      <th></th>\n",
       "      <th></th>\n",
       "      <th></th>\n",
       "      <th></th>\n",
       "      <th></th>\n",
       "      <th></th>\n",
       "      <th></th>\n",
       "      <th></th>\n",
       "      <th></th>\n",
       "      <th></th>\n",
       "      <th></th>\n",
       "      <th></th>\n",
       "    </tr>\n",
       "  </thead>\n",
       "  <tbody>\n",
       "    <tr>\n",
       "      <th rowspan=\"2\" valign=\"top\">비흡연</th>\n",
       "      <th>F</th>\n",
       "      <td>0.93</td>\n",
       "      <td>0.93</td>\n",
       "      <td>1.03</td>\n",
       "      <td>1.03</td>\n",
       "      <td>118.58</td>\n",
       "      <td>73.76</td>\n",
       "      <td>96.50</td>\n",
       "      <td>201.08</td>\n",
       "      <td>102.90</td>\n",
       "      <td>63.23</td>\n",
       "      <td>117.57</td>\n",
       "      <td>13.16</td>\n",
       "      <td>1.08</td>\n",
       "      <td>0.74</td>\n",
       "      <td>23.75</td>\n",
       "      <td>20.17</td>\n",
       "      <td>23.68</td>\n",
       "      <td>0.16</td>\n",
       "    </tr>\n",
       "    <tr>\n",
       "      <th>M</th>\n",
       "      <td>1.06</td>\n",
       "      <td>1.05</td>\n",
       "      <td>1.03</td>\n",
       "      <td>1.03</td>\n",
       "      <td>123.38</td>\n",
       "      <td>76.99</td>\n",
       "      <td>99.22</td>\n",
       "      <td>193.53</td>\n",
       "      <td>125.24</td>\n",
       "      <td>54.46</td>\n",
       "      <td>114.91</td>\n",
       "      <td>15.36</td>\n",
       "      <td>1.09</td>\n",
       "      <td>0.99</td>\n",
       "      <td>27.23</td>\n",
       "      <td>30.36</td>\n",
       "      <td>39.74</td>\n",
       "      <td>0.20</td>\n",
       "    </tr>\n",
       "    <tr>\n",
       "      <th rowspan=\"2\" valign=\"top\">흡연</th>\n",
       "      <th>F</th>\n",
       "      <td>0.90</td>\n",
       "      <td>0.91</td>\n",
       "      <td>1.02</td>\n",
       "      <td>1.03</td>\n",
       "      <td>115.99</td>\n",
       "      <td>73.11</td>\n",
       "      <td>99.19</td>\n",
       "      <td>199.05</td>\n",
       "      <td>124.34</td>\n",
       "      <td>64.02</td>\n",
       "      <td>110.36</td>\n",
       "      <td>13.46</td>\n",
       "      <td>1.08</td>\n",
       "      <td>0.73</td>\n",
       "      <td>23.46</td>\n",
       "      <td>20.17</td>\n",
       "      <td>35.70</td>\n",
       "      <td>0.24</td>\n",
       "    </tr>\n",
       "    <tr>\n",
       "      <th>M</th>\n",
       "      <td>1.06</td>\n",
       "      <td>1.05</td>\n",
       "      <td>1.02</td>\n",
       "      <td>1.02</td>\n",
       "      <td>123.11</td>\n",
       "      <td>77.57</td>\n",
       "      <td>102.17</td>\n",
       "      <td>195.39</td>\n",
       "      <td>151.48</td>\n",
       "      <td>53.39</td>\n",
       "      <td>112.63</td>\n",
       "      <td>15.53</td>\n",
       "      <td>1.10</td>\n",
       "      <td>0.96</td>\n",
       "      <td>27.87</td>\n",
       "      <td>31.46</td>\n",
       "      <td>56.44</td>\n",
       "      <td>0.27</td>\n",
       "    </tr>\n",
       "  </tbody>\n",
       "</table>\n",
       "</div>"
      ],
      "text/plain": [
       "                eyesight(left)  eyesight(right)  hearing(left)  \\\n",
       "smoking gender                                                   \n",
       "비흡연     F                 0.93             0.93           1.03   \n",
       "        M                 1.06             1.05           1.03   \n",
       "흡연      F                 0.90             0.91           1.02   \n",
       "        M                 1.06             1.05           1.02   \n",
       "\n",
       "                hearing(right)  systolic  relaxation  fasting blood sugar  \\\n",
       "smoking gender                                                              \n",
       "비흡연     F                 1.03    118.58       73.76                96.50   \n",
       "        M                 1.03    123.38       76.99                99.22   \n",
       "흡연      F                 1.03    115.99       73.11                99.19   \n",
       "        M                 1.02    123.11       77.57               102.17   \n",
       "\n",
       "                Cholesterol  triglyceride    HDL     LDL  hemoglobin  \\\n",
       "smoking gender                                                         \n",
       "비흡연     F            201.08        102.90  63.23  117.57       13.16   \n",
       "        M            193.53        125.24  54.46  114.91       15.36   \n",
       "흡연      F            199.05        124.34  64.02  110.36       13.46   \n",
       "        M            195.39        151.48  53.39  112.63       15.53   \n",
       "\n",
       "                Urine protein  serum creatinine    AST    ALT    Gtp  \\\n",
       "smoking gender                                                         \n",
       "비흡연     F                1.08              0.74  23.75  20.17  23.68   \n",
       "        M                1.09              0.99  27.23  30.36  39.74   \n",
       "흡연      F                1.08              0.73  23.46  20.17  35.70   \n",
       "        M                1.10              0.96  27.87  31.46  56.44   \n",
       "\n",
       "                dental caries  \n",
       "smoking gender                 \n",
       "비흡연     F                0.16  \n",
       "        M                0.20  \n",
       "흡연      F                0.24  \n",
       "        M                0.27  "
      ]
     },
     "execution_count": 80,
     "metadata": {},
     "output_type": "execute_result"
    }
   ],
   "source": [
    "pd.set_option('display.max_columns', 20)\n",
    "data.groupby(['smoking', 'gender'])['eyesight(left)', 'eyesight(right)', 'hearing(left)', 'hearing(right)',\n",
    "       'systolic', 'relaxation', 'fasting blood sugar', 'Cholesterol',\n",
    "       'triglyceride', 'HDL', 'LDL', 'hemoglobin', 'Urine protein',\n",
    "       'serum creatinine', 'AST', 'ALT', 'Gtp', 'oral', 'dental caries',\n",
    "       'tartar'].mean().round(2)"
   ]
  },
  {
   "cell_type": "code",
   "execution_count": 117,
   "id": "2cdbd239",
   "metadata": {},
   "outputs": [
    {
     "data": {
      "image/png": "[encoded data removed]",
      "text/plain": [
       "<Figure size 936x504 with 3 Axes>"
      ]
     },
     "metadata": {
      "needs_background": "light"
     },
     "output_type": "display_data"
    }
   ],
   "source": [
    "summary = ['fasting blood sugar','triglyceride','Gtp']\n",
    "s1 = data.groupby(['smoking', 'gender'])['fasting blood sugar'].mean().round(2)\n",
    "s2 = data.groupby(['smoking', 'gender'])['triglyceride'].mean().round(2)\n",
    "s3 = data.groupby(['smoking', 'gender'])['Gtp'].mean().round(2)\n",
    "\n",
    "colors = ['lightgrey','dimgray']\n",
    "plt.figure(figsize=(13,7))\n",
    "\n",
    "plt.subplot(1,3,1)\n",
    "s1.plot(kind=\"bar\", color=colors)\n",
    "plt.title(f\"성별, 흡연 여부에 따른 {summary[0]}의 차이\", rotation=5)\n",
    "plt.ylim(85,105)\n",
    "\n",
    "\n",
    "plt.subplot(1,3,2)\n",
    "s2.plot(kind=\"bar\", color=colors)\n",
    "plt.title(f\"성별, 흡연 여부에 따른 {summary[1]}의 차이\", rotation=5)\n",
    "\n",
    "plt.subplot(1,3,3)\n",
    "s3.plot(kind=\"bar\", color=colors)\n",
    "plt.title(f\"성별, 흡연 여부에 따른 {summary[2]}의 차이\", rotation=5)\n",
    "\n",
    "\n",
    "plt.show()"
   ]
  },
  {
   "cell_type": "code",
   "execution_count": 107,
   "id": "9bb63e41",
   "metadata": {},
   "outputs": [
    {
     "data": {
      "text/plain": [
       "<AxesSubplot:xlabel='smoking,gender'>"
      ]
     },
     "execution_count": 107,
     "metadata": {},
     "output_type": "execute_result"
    },
    {
     "data": {
      "image/png": "[encoded data removed]",
      "text/plain": [
       "<Figure size 1080x504 with 1 Axes>"
      ]
     },
     "metadata": {
      "needs_background": "light"
     },
     "output_type": "display_data"
    }
   ],
   "source": [
    "summary = data.groupby(['smoking', 'gender'])['fasting blood sugar','triglyceride','Gtp'].mean().round(2)\n",
    "summary.plot(kind=\"bar\",figsize=(15,7))"
   ]
  },
  {
   "cell_type": "code",
   "execution_count": 113,
   "id": "bcf4e271",
   "metadata": {},
   "outputs": [
    {
     "data": {
      "text/plain": [
       "<AxesSubplot:xlabel='smoking'>"
      ]
     },
     "execution_count": 113,
     "metadata": {},
     "output_type": "execute_result"
    },
    {
     "data": {
      "image/png": "[encoded data removed]",
      "text/plain": [
       "<Figure size 1080x504 with 1 Axes>"
      ]
     },
     "metadata": {
      "needs_background": "light"
     },
     "output_type": "display_data"
    }
   ],
   "source": [
    "summary = data[data['gender']=='M'].groupby('smoking')['fasting blood sugar','triglyceride','Gtp'].mean().round(2)\n",
    "summary.plot(kind=\"bar\",figsize=(15,7))"
   ]
  },
  {
   "cell_type": "code",
   "execution_count": 114,
   "id": "313b5b0e",
   "metadata": {},
   "outputs": [
    {
     "data": {
      "text/plain": [
       "<AxesSubplot:xlabel='smoking'>"
      ]
     },
     "execution_count": 114,
     "metadata": {},
     "output_type": "execute_result"
    },
    {
     "data": {
      "image/png": "[encoded data removed]",
      "text/plain": [
       "<Figure size 1080x504 with 1 Axes>"
      ]
     },
     "metadata": {
      "needs_background": "light"
     },
     "output_type": "display_data"
    }
   ],
   "source": [
    "summary = data[data['gender']=='F'].groupby('smoking')['fasting blood sugar','triglyceride','Gtp'].mean().round(2)\n",
    "summary.plot(kind=\"bar\",figsize=(15,7))"
   ]
  },
  {
   "cell_type": "code",
   "execution_count": 132,
   "id": "c355ad4f",
   "metadata": {},
   "outputs": [
    {
     "data": {
      "image/png": "[encoded data removed]",
      "text/plain": [
       "<Figure size 432x288 with 1 Axes>"
      ]
     },
     "metadata": {
      "needs_background": "light"
     },
     "output_type": "display_data"
    }
   ],
   "source": [
    "a = ['fasting blood sugar','triglyceride','Gtp']\n",
    "plt.boxplot([data['fasting blood sugar'], data['triglyceride'], data['Gtp']], labels= a)\n",
    "plt.show()"
   ]
  },
  {
   "cell_type": "code",
   "execution_count": null,
   "id": "49d86f90",
   "metadata": {},
   "outputs": [],
   "source": [
    "plt.boxplot(data['eyesight(left)'])"
   ]
  },
  {
   "cell_type": "code",
   "execution_count": null,
   "id": "fa7a45d2",
   "metadata": {},
   "outputs": [],
   "source": []
  }
 ],
 "metadata": {
  "kernelspec": {
   "display_name": "Python 3 (ipykernel)",
   "language": "python",
   "name": "python3"
  },
  "language_info": {
   "codemirror_mode": {
    "name": "ipython",
    "version": 3
   },
   "file_extension": ".py",
   "mimetype": "text/x-python",
   "name": "python",
   "nbconvert_exporter": "python",
   "pygments_lexer": "ipython3",
   "version": "3.9.12"
  }
 },
 "nbformat": 4,
 "nbformat_minor": 5
}
