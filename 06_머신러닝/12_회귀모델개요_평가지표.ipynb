{
 "cells": [
  {
   "cell_type": "markdown",
   "metadata": {
    "slideshow": {
     "slide_type": "slide"
    }
   },
   "source": [
    "# 회귀(Regression)\n",
    "\n",
    "예측할 값(Target)이 연속형(continuous) 데이터(float)인 지도 학습(Supervised Learning)."
   ]
  },
  {
   "cell_type": "markdown",
   "metadata": {
    "slideshow": {
     "slide_type": "fragment"
    }
   },
   "source": [
    "## 회귀의 주요 평가 지표\n",
    "\n",
    "- ### MSE (Mean Squared Error)\n",
    "    - 실제 값과 예측값의 차를 제곱해 평균 낸 것\n",
    "    - scikit-learn 평가함수: mean_squared_error() \n",
    "    - 교차검증시 지정할 문자열: 'neg_mean_squared_error'\n",
    "    $$\n",
    "    MSE = \\frac{1}{n}\\sum_{i=1}^{n}(y_i - \\hat{y_i})^2\\\\\n",
    "    y_i: 실제값, \\hat{y_i}: 모델이 예측한 값\n",
    "    $$\n",
    "    "
   ]
  },
  {
   "cell_type": "markdown",
   "metadata": {
    "slideshow": {
     "slide_type": "fragment"
    }
   },
   "source": [
    "- ### RMSE (Root Mean Squared Error)\n",
    "    - MSE는 오차의 제곱한 값이므로 실제 오차의 평균보다 큰 값이 나온다.  MSE의 제곱근이 RMSE이다.\n",
    "    - mean_squared_error() 의 squared=False로 설정해서 계산. 또는 MSE를 구한 뒤 np.sqrt()로 제곱근을 구한다.\n",
    "    - 교차검증시 지정할 문자열: 'neg_root_mean_squared_error'\n",
    "    \n",
    "    $$\n",
    "    RMSE = \\sqrt{\\frac{1}{n}\\sum_{i=1}^{n}(y_i - \\hat{y_i})^2}\n",
    "    $$"
   ]
  },
  {
   "cell_type": "markdown",
   "metadata": {
    "slideshow": {
     "slide_type": "fragment"
    }
   },
   "source": [
    "- ### $R^2$ (R square, 결정계수)\n",
    "    - 평균으로 예측했을 때 오차(총오차) 보다 모델을 사용했을 때 얼마 만큼 더 좋은 성능을 내는지를 비율로 나타낸 값. \n",
    "    - 1에 가까울 수록 좋은 모델.\n",
    "    - scikit-learn 평가함수: r2_score()\n",
    "    - 교차검증시 지정할 문자열: 'r2'\n",
    "    - [참고](https://ko.khanacademy.org/math/statistics-probability/describing-relationships-quantitative-data/assessing-the-fit-in-least-squares-regression/a/r-squared-intuition)\n",
    "    $$\n",
    "    R^2 = \\cfrac{\\sum_{i=1}^{n}(\\hat{y_i}-\\bar{y})^2}{\\sum_{i=1}^{n}(y_i - \\bar{y})^2}\\\\\n",
    "    R^2 = 1 - \\cfrac{\\sum_{i=1}^{n}(y_i - \\hat{y_i})^2}{\\sum_{i=1}^{n}(y_i - \\bar{y})^2}\n",
    "    $$\n",
    "\n",
    "- $y_i$ : i번째 정답값, \n",
    "- $\\hat{y_i}$ : i 번째 예측 값, \n",
    "- $\\bar{y}$ : y의 평균    "
   ]
  },
  {
   "cell_type": "markdown",
   "metadata": {
    "slideshow": {
     "slide_type": "slide"
    }
   },
   "source": [
    "### 예제"
   ]
  },
  {
   "cell_type": "markdown",
   "metadata": {
    "slideshow": {
     "slide_type": "fragment"
    }
   },
   "source": [
    "##### import"
   ]
  },
  {
   "cell_type": "code",
   "execution_count": 6,
   "metadata": {
    "ExecuteTime": {
     "end_time": "2021-11-19T08:27:15.901903Z",
     "start_time": "2021-11-19T08:27:15.880959Z"
    },
    "slideshow": {
     "slide_type": "fragment"
    }
   },
   "outputs": [],
   "source": [
    "import matplotlib.pyplot as plt\n",
    "import numpy as np\n",
    "\n",
    "from sklearn.datasets import make_regression # 회귀 문제를 위한 dummy dataset 생성\n",
    "from sklearn.model_selection import cross_val_score\n",
    "\n",
    "from sklearn.linear_model import LinearRegression # 선형 회귀 모델"
   ]
  },
  {
   "cell_type": "markdown",
   "metadata": {
    "slideshow": {
     "slide_type": "slide"
    }
   },
   "source": [
    "##### Dataset 생성\n",
    "- make_xxxxx() 함수\n",
    "    - 머신러닝 학습을 위한 dummy dataset 구현 함수\n",
    "    - 필요한 설정을 직접하여 테스트할 수 있는 데이터셋을 생성해준다.\n",
    "- make_regression(): 회귀 문제를 위한 dummy dataset 생성\n",
    "- make_classification(): 분류 문제를 위한 dummy dataset 생성"
   ]
  },
  {
   "cell_type": "code",
   "execution_count": 32,
   "metadata": {
    "ExecuteTime": {
     "end_time": "2021-11-19T08:27:16.510926Z",
     "start_time": "2021-11-19T08:27:16.496963Z"
    },
    "slideshow": {
     "slide_type": "fragment"
    }
   },
   "outputs": [],
   "source": [
    "X, y = make_regression(n_samples=1000, # 표본의 갯수 \n",
    "                       n_features=1, # feature의 수\n",
    "                       # n_targets = 1, # target의 수 def = 1\n",
    "                       n_informative=1, # feature 중 실제 target과 상관 관계가 있는 수\n",
    "                       noise=50, # target 에 더해지는 정규 분포의 표준편차\n",
    "                       random_state=0)"
   ]
  },
  {
   "cell_type": "code",
   "execution_count": 33,
   "metadata": {
    "ExecuteTime": {
     "end_time": "2021-11-19T08:27:17.012749Z",
     "start_time": "2021-11-19T08:27:16.992800Z"
    },
    "slideshow": {
     "slide_type": "fragment"
    }
   },
   "outputs": [
    {
     "data": {
      "text/plain": [
       "((1000, 1), (1000,))"
      ]
     },
     "execution_count": 33,
     "metadata": {},
     "output_type": "execute_result"
    }
   ],
   "source": [
    "X.shape, y.shape"
   ]
  },
  {
   "cell_type": "code",
   "execution_count": 34,
   "metadata": {
    "ExecuteTime": {
     "end_time": "2021-11-19T08:27:17.434691Z",
     "start_time": "2021-11-19T08:27:17.191618Z"
    },
    "slideshow": {
     "slide_type": "fragment"
    }
   },
   "outputs": [
    {
     "data": {
      "text/plain": [
       "<matplotlib.collections.PathCollection at 0x1eb98625288>"
      ]
     },
     "execution_count": 34,
     "metadata": {},
     "output_type": "execute_result"
    },
    {
     "data": {
      "image/png": "[encoded data removed]",
      "text/plain": [
       "<Figure size 432x288 with 1 Axes>"
      ]
     },
     "metadata": {
      "needs_background": "light"
     },
     "output_type": "display_data"
    }
   ],
   "source": [
    "plt.scatter(X, y)"
   ]
  },
  {
   "cell_type": "code",
   "execution_count": 35,
   "metadata": {
    "ExecuteTime": {
     "end_time": "2021-11-19T08:27:17.530724Z",
     "start_time": "2021-11-19T08:27:17.507775Z"
    },
    "slideshow": {
     "slide_type": "fragment"
    }
   },
   "outputs": [
    {
     "data": {
      "text/plain": [
       "(-2.4124246930110305,\n",
       " -309.93372019710404,\n",
       " 278.9216433229993,\n",
       " -0.8565443356377808)"
      ]
     },
     "execution_count": 35,
     "metadata": {},
     "output_type": "execute_result"
    }
   ],
   "source": [
    "np.mean(y), np.min(y), np.max(y), np.median(y)"
   ]
  },
  {
   "cell_type": "markdown",
   "metadata": {
    "slideshow": {
     "slide_type": "slide"
    }
   },
   "source": [
    "##### 모델 생성, 학습, 추론"
   ]
  },
  {
   "cell_type": "code",
   "execution_count": 36,
   "metadata": {
    "ExecuteTime": {
     "end_time": "2021-11-19T08:27:17.780443Z",
     "start_time": "2021-11-19T08:27:17.770468Z"
    },
    "slideshow": {
     "slide_type": "fragment"
    }
   },
   "outputs": [],
   "source": [
    "lr = LinearRegression()\n",
    "lr.fit(X, y)\n",
    "pred = lr.predict(X)"
   ]
  },
  {
   "cell_type": "markdown",
   "metadata": {
    "slideshow": {
     "slide_type": "fragment"
    }
   },
   "source": [
    "##### 평가"
   ]
  },
  {
   "cell_type": "code",
   "execution_count": 39,
   "metadata": {
    "ExecuteTime": {
     "end_time": "2021-11-19T08:27:18.138922Z",
     "start_time": "2021-11-19T08:27:18.127973Z"
    },
    "slideshow": {
     "slide_type": "fragment"
    }
   },
   "outputs": [
    {
     "name": "stdout",
     "output_type": "stream",
     "text": [
      "MSE :  2461.0377337239934\n",
      "RMSE :  49.60884733315211\n",
      "R^2 :  0.7264007364619969\n"
     ]
    }
   ],
   "source": [
    "from sklearn.metrics import mean_squared_error, r2_score\n",
    "\n",
    "mse = mean_squared_error(y, pred)\n",
    "r2 = r2_score(y, pred)\n",
    "\n",
    "print(\"MSE : \", mse)\n",
    "print(\"RMSE : \", np.sqrt(mse))\n",
    "print('R^2 : ', r2)"
   ]
  },
  {
   "cell_type": "markdown",
   "metadata": {
    "slideshow": {
     "slide_type": "slide"
    }
   },
   "source": [
    "##### 교차검증 (cross validation)"
   ]
  },
  {
   "cell_type": "code",
   "execution_count": 49,
   "metadata": {
    "ExecuteTime": {
     "end_time": "2021-11-19T08:27:18.624898Z",
     "start_time": "2021-11-19T08:27:18.586002Z"
    },
    "slideshow": {
     "slide_type": "fragment"
    }
   },
   "outputs": [
    {
     "name": "stdout",
     "output_type": "stream",
     "text": [
      "cv별 R2: [0.75601278 0.698025   0.72635497 0.72045804 0.72727316]\n",
      "평균 R2:  0.7256247907760487\n"
     ]
    }
   ],
   "source": [
    "score = cross_val_score(lr, X, y, cv=5) # , scoring = 'r2') 기본값 \n",
    "print(\"cv별 R2:\", score)\n",
    "print(\"평균 R2: \", np.mean(score))"
   ]
  },
  {
   "cell_type": "code",
   "execution_count": 45,
   "metadata": {
    "ExecuteTime": {
     "end_time": "2021-11-19T08:27:18.889364Z",
     "start_time": "2021-11-19T08:27:18.864432Z"
    },
    "slideshow": {
     "slide_type": "fragment"
    }
   },
   "outputs": [
    {
     "name": "stdout",
     "output_type": "stream",
     "text": [
      "mse: [2010.85262268 2838.55092577 2644.84308496 2556.21216438 2309.34464992]\n",
      "mse평균:  2471.9606895426596\n"
     ]
    }
   ],
   "source": [
    "score = cross_val_score(lr, X, y, scoring='neg_mean_squared_error', cv=5)\n",
    "\n",
    "print(\"mse:\", score*-1)\n",
    "print(\"mse평균: \", np.mean(score)*-1)"
   ]
  },
  {
   "cell_type": "markdown",
   "metadata": {
    "slideshow": {
     "slide_type": "slide"
    }
   },
   "source": [
    "##### 모델이 찾은 계수(coef, 가중치-weigth)와 절편(intercept, 편향-bias) 조회\n",
    "- LinearRegression 모델이 학습해서 찾는 파라미터 제공 attribute\n",
    "    - coef_: Feature에 곱하는 가중치\n",
    "    - intercept_: 모든 Feature가 0일때 예측값"
   ]
  },
  {
   "cell_type": "code",
   "execution_count": 50,
   "metadata": {
    "ExecuteTime": {
     "end_time": "2021-11-19T08:27:19.640047Z",
     "start_time": "2021-11-19T08:27:19.616075Z"
    },
    "slideshow": {
     "slide_type": "fragment"
    }
   },
   "outputs": [
    {
     "name": "stdout",
     "output_type": "stream",
     "text": [
      "coef: [81.89512864] intercept: 1.2938791888157457\n"
     ]
    }
   ],
   "source": [
    "lr.fit(X, y)\n",
    "print(\"coef:\", lr.coef_, \"intercept:\",lr.intercept_)"
   ]
  },
  {
   "cell_type": "markdown",
   "metadata": {
    "slideshow": {
     "slide_type": "fragment"
    }
   },
   "source": [
    "##### X, y와 추론결과  시각화"
   ]
  },
  {
   "cell_type": "code",
   "execution_count": 54,
   "metadata": {
    "ExecuteTime": {
     "end_time": "2021-11-19T08:27:21.639326Z",
     "start_time": "2021-11-19T08:27:21.488306Z"
    },
    "slideshow": {
     "slide_type": "fragment"
    }
   },
   "outputs": [
    {
     "data": {
      "image/png": "[encoded data removed]",
      "text/plain": [
       "<Figure size 576x432 with 1 Axes>"
      ]
     },
     "metadata": {
      "needs_background": "light"
     },
     "output_type": "display_data"
    }
   ],
   "source": [
    "plt.figure(figsize=(8,6))\n",
    "plt.scatter(X, y)\n",
    "\n",
    "# y_hat = X*lr.coef_ + lr.intercept_\n",
    "y_hat = lr.predict(X)\n",
    "\n",
    "plt.plot(X, y_hat, color='red')\n",
    "plt.show()"
   ]
  },
  {
   "cell_type": "markdown",
   "metadata": {
    "slideshow": {
     "slide_type": "slide"
    }
   },
   "source": [
    "## 기존 분류 모델의 회귀 모델"
   ]
  },
  {
   "cell_type": "markdown",
   "metadata": {
    "slideshow": {
     "slide_type": "fragment"
    }
   },
   "source": [
    "##### import"
   ]
  },
  {
   "cell_type": "code",
   "execution_count": 55,
   "metadata": {
    "ExecuteTime": {
     "end_time": "2021-11-19T08:27:23.130812Z",
     "start_time": "2021-11-19T08:27:23.120838Z"
    },
    "slideshow": {
     "slide_type": "fragment"
    }
   },
   "outputs": [],
   "source": [
    "from sklearn.model_selection import train_test_split\n",
    "\n",
    "from sklearn.neighbors import KNeighborsRegressor\n",
    "from sklearn.tree import DecisionTreeRegressor\n",
    "from sklearn.ensemble import RandomForestRegressor, GradientBoostingRegressor, VotingRegressor\n",
    "from sklearn.linear_model import LinearRegression\n",
    "\n",
    "X_train, X_test, y_train, y_test = train_test_split(X, y, test_size=0.2, random_state=0)"
   ]
  },
  {
   "cell_type": "markdown",
   "metadata": {
    "slideshow": {
     "slide_type": "fragment"
    }
   },
   "source": [
    "##### 모델들 생성"
   ]
  },
  {
   "cell_type": "code",
   "execution_count": 56,
   "metadata": {
    "ExecuteTime": {
     "end_time": "2021-11-19T08:27:24.403137Z",
     "start_time": "2021-11-19T08:27:24.384189Z"
    },
    "slideshow": {
     "slide_type": "fragment"
    }
   },
   "outputs": [],
   "source": [
    "knn_reg = KNeighborsRegressor(n_neighbors=3)\n",
    "tree_reg = DecisionTreeRegressor(max_depth=5)\n",
    "rf_reg = RandomForestRegressor(n_estimators=300, max_depth=2)\n",
    "gb_reg = GradientBoostingRegressor(n_estimators=200, max_depth=1)\n",
    "lr_reg = LinearRegression()\n",
    "\n",
    "estimators = [(\"knn\",knn_reg),\n",
    "              ('decision tree',tree_reg), \n",
    "              ('random forest',rf_reg), \n",
    "              ('Gradient Boosting', gb_reg), \n",
    "              ('linear reg',lr_reg)]"
   ]
  },
  {
   "cell_type": "markdown",
   "metadata": {
    "slideshow": {
     "slide_type": "slide"
    }
   },
   "source": [
    "##### 평가출력 함수"
   ]
  },
  {
   "cell_type": "code",
   "execution_count": 57,
   "metadata": {
    "ExecuteTime": {
     "end_time": "2021-11-19T08:24:38.826933Z",
     "start_time": "2021-11-19T08:24:38.808982Z"
    }
   },
   "outputs": [],
   "source": [
    "# %%writefile metrics.py\n",
    "# %load metrics.py\n"
   ]
  },
  {
   "cell_type": "code",
   "execution_count": 58,
   "metadata": {
    "ExecuteTime": {
     "end_time": "2021-11-19T08:06:58.832370Z",
     "start_time": "2021-11-19T08:06:58.814417Z"
    },
    "slideshow": {
     "slide_type": "fragment"
    }
   },
   "outputs": [],
   "source": [
    "# def print_regression_metrics(y, y_pred, title=None):\n",
    "#     mse = mean_squared_error(y, y_pred)\n",
    "#     rmse = np.sqrt(mse)\n",
    "#     r2 = r2_score(y, y_pred)\n",
    "#     if title:\n",
    "#         print(title)\n",
    "#     print(f\"MSE:{mse}, RMSE:{rmse}, R Square:{r2}\")"
   ]
  },
  {
   "cell_type": "code",
   "execution_count": 59,
   "metadata": {
    "ExecuteTime": {
     "end_time": "2021-11-19T08:27:27.913948Z",
     "start_time": "2021-11-19T08:27:27.904970Z"
    }
   },
   "outputs": [],
   "source": [
    "from metrics import print_regression_metrics as print_metrics"
   ]
  },
  {
   "cell_type": "markdown",
   "metadata": {
    "slideshow": {
     "slide_type": "fragment"
    }
   },
   "source": [
    "##### 모델 학습 및 평가"
   ]
  },
  {
   "cell_type": "code",
   "execution_count": 60,
   "metadata": {
    "ExecuteTime": {
     "end_time": "2021-11-19T08:27:29.443436Z",
     "start_time": "2021-11-19T08:27:28.977935Z"
    },
    "slideshow": {
     "slide_type": "fragment"
    }
   },
   "outputs": [
    {
     "name": "stdout",
     "output_type": "stream",
     "text": [
      "knn - Train\n",
      "MSE:1679.6187250500195, RMSE:40.98315172177488, R Square:0.8184828910339228\n",
      "knn - Test\n",
      "MSE:3442.396313867112, RMSE:58.67193804423979, R Square:0.5594566421799264\n",
      "-------------------------------------------\n",
      "decision tree - Train\n",
      "MSE:2217.4084565943126, RMSE:47.0893667041118, R Square:0.7603637263415575\n",
      "decision tree - Test\n",
      "MSE:2783.782970499863, RMSE:52.76156717251548, R Square:0.6437431993736178\n",
      "-------------------------------------------\n",
      "random forest - Train\n",
      "MSE:2756.0020475553924, RMSE:52.49763849503511, R Square:0.7021576882206132\n",
      "random forest - Test\n",
      "MSE:2701.713388346681, RMSE:51.97800869932092, R Square:0.654246118270843\n",
      "-------------------------------------------\n",
      "Gradient Boosting - Train\n",
      "MSE:2308.134948570383, RMSE:48.04305307295096, R Square:0.7505588758213062\n",
      "Gradient Boosting - Test\n",
      "MSE:2400.6902945745173, RMSE:48.996839638639116, R Square:0.6927697838864388\n",
      "-------------------------------------------\n",
      "linear reg - Train\n",
      "MSE:2498.9189752885563, RMSE:49.98918858401841, R Square:0.7299407650260968\n",
      "linear reg - Test\n",
      "MSE:2311.484472230395, RMSE:48.077900039731304, R Square:0.7041859686976619\n",
      "-------------------------------------------\n"
     ]
    }
   ],
   "source": [
    "for name, model in estimators:\n",
    "#     학습\n",
    "    model.fit(X_train, y_train)\n",
    "#     추론\n",
    "    pred_train = model.predict(X_train)\n",
    "    pred_test = model.predict(X_test)\n",
    "#     평가\n",
    "    print_metrics(y_train, pred_train, name+\" - Train\")\n",
    "    print_metrics(y_test, pred_test, name+\" - Test\")\n",
    "    print(\"-------------------------------------------\")"
   ]
  },
  {
   "cell_type": "markdown",
   "metadata": {
    "slideshow": {
     "slide_type": "slide"
    }
   },
   "source": [
    "##### Voting\n",
    "- VotingRegressor \n",
    "    - 각 모델이 예측한 값의 평균을 반환한다."
   ]
  },
  {
   "cell_type": "code",
   "execution_count": 61,
   "metadata": {
    "ExecuteTime": {
     "end_time": "2021-11-19T08:09:33.538903Z",
     "start_time": "2021-11-19T08:09:33.099573Z"
    },
    "slideshow": {
     "slide_type": "fragment"
    }
   },
   "outputs": [],
   "source": [
    "knn_reg = KNeighborsRegressor(n_neighbors=3)\n",
    "tree_reg = DecisionTreeRegressor(max_depth=2)\n",
    "rf_reg = RandomForestRegressor(n_estimators=200, max_depth=2)\n",
    "gb_reg = GradientBoostingRegressor(n_estimators=200, max_depth=1)\n",
    "lr_reg = LinearRegression()\n",
    "\n",
    "estimators = [(\"knn\",knn_reg), ('random forest',rf_reg), ('Gradient Boosting', gb_reg), ('linear reg',lr_reg)]\n",
    "\n",
    "vote_reg = VotingRegressor(estimators)\n",
    "vote_reg.fit(X_train, y_train)\n",
    "\n",
    "pred_train = vote_reg.predict(X_train)\n",
    "pred_test = vote_reg.predict(X_test)"
   ]
  },
  {
   "cell_type": "code",
   "execution_count": 62,
   "metadata": {
    "ExecuteTime": {
     "end_time": "2021-11-19T08:09:37.902608Z",
     "start_time": "2021-11-19T08:09:37.885689Z"
    },
    "slideshow": {
     "slide_type": "fragment"
    }
   },
   "outputs": [
    {
     "name": "stdout",
     "output_type": "stream",
     "text": [
      "MSE:2094.9472696702032, RMSE:45.77059394054444, R Square:0.7735981588228675\n",
      "MSE:2486.761145329778, RMSE:49.867435720415564, R Square:0.6817547995136612\n"
     ]
    }
   ],
   "source": [
    "print_metrics(y_train, pred_train)\n",
    "print_metrics(y_test, pred_test)"
   ]
  },
  {
   "cell_type": "markdown",
   "metadata": {
    "slideshow": {
     "slide_type": "slide"
    }
   },
   "source": [
    "##### DecisionTreeRegressor Tree 시각화"
   ]
  },
  {
   "cell_type": "code",
   "execution_count": 63,
   "metadata": {
    "ExecuteTime": {
     "end_time": "2021-11-19T08:16:13.188183Z",
     "start_time": "2021-11-19T08:16:13.173186Z"
    },
    "slideshow": {
     "slide_type": "fragment"
    }
   },
   "outputs": [],
   "source": [
    "tree_reg = DecisionTreeRegressor(max_depth=3)"
   ]
  },
  {
   "cell_type": "code",
   "execution_count": 64,
   "metadata": {
    "ExecuteTime": {
     "end_time": "2021-11-19T08:16:13.859803Z",
     "start_time": "2021-11-19T08:16:13.844828Z"
    },
    "slideshow": {
     "slide_type": "fragment"
    }
   },
   "outputs": [
    {
     "data": {
      "text/plain": [
       "DecisionTreeRegressor(max_depth=3)"
      ]
     },
     "execution_count": 64,
     "metadata": {},
     "output_type": "execute_result"
    }
   ],
   "source": [
    "tree_reg.fit(X_train, y_train)"
   ]
  },
  {
   "cell_type": "code",
   "execution_count": 65,
   "metadata": {
    "ExecuteTime": {
     "end_time": "2021-11-19T08:16:15.040172Z",
     "start_time": "2021-11-19T08:16:14.723874Z"
    },
    "collapsed": true,
    "slideshow": {
     "slide_type": "fragment"
    }
   },
   "outputs": [
    {
     "ename": "ModuleNotFoundError",
     "evalue": "No module named 'graphviz'",
     "output_type": "error",
     "traceback": [
      "\u001b[1;31m---------------------------------------------------------------------------\u001b[0m",
      "\u001b[1;31mModuleNotFoundError\u001b[0m                       Traceback (most recent call last)",
      "\u001b[1;32m~\\AppData\\Local\\Temp\\ipykernel_14872\\96715231.py\u001b[0m in \u001b[0;36m<module>\u001b[1;34m\u001b[0m\n\u001b[0;32m      1\u001b[0m \u001b[1;32mfrom\u001b[0m \u001b[0msklearn\u001b[0m\u001b[1;33m.\u001b[0m\u001b[0mtree\u001b[0m \u001b[1;32mimport\u001b[0m \u001b[0mexport_graphviz\u001b[0m\u001b[1;33m\u001b[0m\u001b[1;33m\u001b[0m\u001b[0m\n\u001b[1;32m----> 2\u001b[1;33m \u001b[1;32mfrom\u001b[0m \u001b[0mgraphviz\u001b[0m \u001b[1;32mimport\u001b[0m \u001b[0mSource\u001b[0m\u001b[1;33m\u001b[0m\u001b[1;33m\u001b[0m\u001b[0m\n\u001b[0m\u001b[0;32m      3\u001b[0m graph = Source(export_graphviz(tree_reg, \n\u001b[0;32m      4\u001b[0m                                \u001b[0mout_file\u001b[0m\u001b[1;33m=\u001b[0m\u001b[1;32mNone\u001b[0m\u001b[1;33m,\u001b[0m\u001b[1;33m\u001b[0m\u001b[1;33m\u001b[0m\u001b[0m\n\u001b[0;32m      5\u001b[0m                                rounded=True, filled=True))\n",
      "\u001b[1;31mModuleNotFoundError\u001b[0m: No module named 'graphviz'"
     ]
    }
   ],
   "source": [
    "from sklearn.tree import export_graphviz\n",
    "from graphviz import Source\n",
    "graph = Source(export_graphviz(tree_reg, \n",
    "                               out_file=None,\n",
    "                               rounded=True, filled=True))\n",
    "# display(SVG(graph.pipe(format='svg')))\n",
    "graph"
   ]
  },
  {
   "cell_type": "code",
   "execution_count": 66,
   "metadata": {
    "ExecuteTime": {
     "end_time": "2021-11-19T08:17:20.326889Z",
     "start_time": "2021-11-19T08:17:20.307938Z"
    }
   },
   "outputs": [
    {
     "data": {
      "text/plain": [
       "array([1.])"
      ]
     },
     "execution_count": 66,
     "metadata": {},
     "output_type": "execute_result"
    }
   ],
   "source": [
    "tree_reg.feature_importances_"
   ]
  },
  {
   "cell_type": "code",
   "execution_count": null,
   "metadata": {},
   "outputs": [],
   "source": []
  }
 ],
 "metadata": {
  "kernelspec": {
   "display_name": "Python 3 (ipykernel)",
   "language": "python",
   "name": "python3"
  },
  "language_info": {
   "codemirror_mode": {
    "name": "ipython",
    "version": 3
   },
   "file_extension": ".py",
   "mimetype": "text/x-python",
   "name": "python",
   "nbconvert_exporter": "python",
   "pygments_lexer": "ipython3",
   "version": "3.7.13"
  },
  "toc": {
   "base_numbering": 1,
   "nav_menu": {},
   "number_sections": false,
   "sideBar": true,
   "skip_h1_title": false,
   "title_cell": "Table of Contents",
   "title_sidebar": "Contents",
   "toc_cell": false,
   "toc_position": {},
   "toc_section_display": true,
   "toc_window_display": false
  },
  "varInspector": {
   "cols": {
    "lenName": 16,
    "lenType": 16,
    "lenVar": 40
   },
   "kernels_config": {
    "python": {
     "delete_cmd_postfix": "",
     "delete_cmd_prefix": "del ",
     "library": "var_list.py",
     "varRefreshCmd": "print(var_dic_list())"
    },
    "r": {
     "delete_cmd_postfix": ") ",
     "delete_cmd_prefix": "rm(",
     "library": "var_list.r",
     "varRefreshCmd": "cat(var_dic_list()) "
    }
   },
   "types_to_exclude": [
    "module",
    "function",
    "builtin_function_or_method",
    "instance",
    "_Feature"
   ],
   "window_display": false
  }
 },
 "nbformat": 4,
 "nbformat_minor": 2
}
