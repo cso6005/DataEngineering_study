{
 "cells": [
  {
   "cell_type": "markdown",
   "metadata": {},
   "source": [
    "# 배열을 파일에 저장 및 불러오기\n",
    "- ## 바이너리 파일로 저장/불러오기\n",
    "    - 메모리에 있는 그대로\n",
    "    - ### np.save(\"파일경로\", 배열)\n",
    "        - 배열을 raw 바이너리 형식으로 저장한다. (압축하지 않은)\n",
    "        - 파일명에 확장자로 npy를 붙인다. (무조건 붙인다. abc.xxx 해도 abc.xxx.npy 로 저장)\n",
    "    - ### np.load(\"파일경로\") \n",
    "        - 파일에 저장된 배열을 불러온다.\n",
    "    - ### np.savez(\"파일경로\", 이름=배열, 이름=배열, ...)\n",
    "        - 여러개의 배열을 저장할 때 사용\n",
    "        - 파일명에 확장자로 npz가 붙는다.\n",
    "        - 내부적으로 압축해서 저장한다.\n",
    "        - load() 함수로 불러오면 저장된 배열목록이 반환 된다. 저장시 지정한 이름을 이용해 조회 \n",
    "- ## 텍스트 파일로 저장하고 불러오기 (csv)\n",
    "    - ### savetxt(\"파일경로\", 배열 [, delimiter='공백') \n",
    "        - 텍스트 형태로 저장.\n",
    "        - 각 원소는 공백을 기준으로 나뉘며 delimiter 속성으로 구분자를 지정할 수 있다. (delimiter생략시 공백)\n",
    "        - 1차원과 2차원 배열만 저장 가능하다. (3차원 이상은 저장이 안된다.)\n",
    "    - ### loadtxt(\"파일경로\" [,dtype=float, delimiter=공백)"
   ]
  },
  {
   "cell_type": "code",
   "execution_count": 1,
   "metadata": {},
   "outputs": [
    {
     "name": "stdout",
     "output_type": "stream",
     "text": [
      "(5,) (3, 4, 2) (5, 10)\n"
     ]
    }
   ],
   "source": [
    "import numpy as np\n",
    "\n",
    "a = np.array([1,5,8,9,10]) # 1차원\n",
    "b = np.ones(shape = (3,4,2)) # 3차원\n",
    "c = np.random.normal(size = (5,10)) # 2차원\n",
    "\n",
    "print(a.shape, b.shape, c.shape)\n"
   ]
  },
  {
   "cell_type": "code",
   "execution_count": 5,
   "metadata": {},
   "outputs": [],
   "source": [
    "# 저장 - binary 형식\n",
    "# a 배열을 /a.npy 파일에 저장\n",
    "\n",
    "import os\n",
    "\n",
    "# 저장할 디렉토리가 없으면 만들어라\n",
    "save_dir = 'save_data' \n",
    "if not os.path.isdir(save_dir): # 디렉토리가 있는지 여부 확인 - 디렉토리가 없으면\n",
    "    os.mkdir(save_dir) # 디렉토리 생성 (있으면 오류나서 if문 처리해주기)\n",
    "\n",
    "np.save('save_data/a', a) "
   ]
  },
  {
   "cell_type": "code",
   "execution_count": 6,
   "metadata": {},
   "outputs": [],
   "source": [
    "np.save('save_data/b', b)\n",
    "np.save('save_data/c', c)"
   ]
  },
  {
   "cell_type": "code",
   "execution_count": 8,
   "metadata": {},
   "outputs": [
    {
     "data": {
      "text/plain": [
       "array([ 1,  5,  8,  9, 10])"
      ]
     },
     "execution_count": 8,
     "metadata": {},
     "output_type": "execute_result"
    }
   ],
   "source": [
    "# binary로 저장된 배열을 불러오기\n",
    "a2 = np.load('save_data/a.npy')\n",
    "a2"
   ]
  },
  {
   "cell_type": "code",
   "execution_count": 9,
   "metadata": {
    "collapsed": true
   },
   "outputs": [
    {
     "data": {
      "text/plain": [
       "array([[[1., 1.],\n",
       "        [1., 1.],\n",
       "        [1., 1.],\n",
       "        [1., 1.]],\n",
       "\n",
       "       [[1., 1.],\n",
       "        [1., 1.],\n",
       "        [1., 1.],\n",
       "        [1., 1.]],\n",
       "\n",
       "       [[1., 1.],\n",
       "        [1., 1.],\n",
       "        [1., 1.],\n",
       "        [1., 1.]]])"
      ]
     },
     "execution_count": 9,
     "metadata": {},
     "output_type": "execute_result"
    }
   ],
   "source": [
    "b2 = np.load('save_data/b.npy')\n",
    "b2"
   ]
  },
  {
   "cell_type": "code",
   "execution_count": 10,
   "metadata": {},
   "outputs": [
    {
     "data": {
      "text/plain": [
       "array([[[1., 1.],\n",
       "        [1., 1.],\n",
       "        [1., 1.],\n",
       "        [1., 1.]],\n",
       "\n",
       "       [[1., 1.],\n",
       "        [1., 1.],\n",
       "        [1., 1.],\n",
       "        [1., 1.]],\n",
       "\n",
       "       [[1., 1.],\n",
       "        [1., 1.],\n",
       "        [1., 1.],\n",
       "        [1., 1.]]])"
      ]
     },
     "execution_count": 10,
     "metadata": {},
     "output_type": "execute_result"
    }
   ],
   "source": [
    "c2 = np.load('save_data/b.npy')\n",
    "c2"
   ]
  },
  {
   "cell_type": "code",
   "execution_count": 11,
   "metadata": {},
   "outputs": [],
   "source": [
    "# 세 개의 배열을 한 파일에 저장 (N개를 한 파일에 저장)\n",
    "np.savez('save_data/all', arr_a=a, arr_b=b, arr_c=c)"
   ]
  },
  {
   "cell_type": "code",
   "execution_count": null,
   "metadata": {},
   "outputs": [],
   "source": [
    "# npz 파일 읽어오기 - load()\n",
    "arr_all = np.load('save_data/all.npz')"
   ]
  },
  {
   "cell_type": "code",
   "execution_count": 13,
   "metadata": {},
   "outputs": [
    {
     "data": {
      "text/plain": [
       "['arr_a', 'arr_b', 'arr_c']"
      ]
     },
     "execution_count": 13,
     "metadata": {},
     "output_type": "execute_result"
    }
   ],
   "source": [
    "# 저장할 때 지정한 이름 조회\n",
    "arr_all.files"
   ]
  },
  {
   "cell_type": "code",
   "execution_count": 14,
   "metadata": {},
   "outputs": [],
   "source": [
    "# 불러온 npz파일에서 각 배열 불러오기 \n",
    "a3 = arr_all['arr_a']\n",
    "b3 = arr_all['arr_b']\n",
    "c3 = arr_all['arr_c']"
   ]
  },
  {
   "cell_type": "code",
   "execution_count": 15,
   "metadata": {},
   "outputs": [
    {
     "data": {
      "text/plain": [
       "(array([ 1,  5,  8,  9, 10]), array([ 1,  5,  8,  9, 10]))"
      ]
     },
     "execution_count": 15,
     "metadata": {},
     "output_type": "execute_result"
    }
   ],
   "source": [
    "a,a3"
   ]
  },
  {
   "cell_type": "markdown",
   "metadata": {},
   "source": [
    "- 텍스트 파일로 저장 = > 1차원, 2차원 배열만 가능"
   ]
  },
  {
   "cell_type": "code",
   "execution_count": 19,
   "metadata": {},
   "outputs": [],
   "source": [
    "# 1차원 \n",
    "# delimiter 상관없음. 설정해줘도 원소 당 \\n로\n",
    "# 기본이 실수로 저장됨.\n",
    "np.savetxt('save_data/a_txt.csv', a)"
   ]
  },
  {
   "cell_type": "code",
   "execution_count": 21,
   "metadata": {},
   "outputs": [],
   "source": [
    "np.savetxt('save_data/c.csv', c, delimiter=',')"
   ]
  },
  {
   "cell_type": "code",
   "execution_count": 23,
   "metadata": {
    "collapsed": true
   },
   "outputs": [
    {
     "data": {
      "text/plain": [
       "array([[-0.09565259, -1.25854295, -0.15543603,  3.27987503, -2.34520922,\n",
       "        -0.66403495, -0.29347092, -0.8722688 , -0.05872433,  0.28209193],\n",
       "       [ 0.74703488, -0.90347318, -1.22281773,  0.23410479, -0.28557795,\n",
       "         0.73440895, -0.86475544, -1.27432918, -0.34574281,  0.2270336 ],\n",
       "       [ 0.44104281, -0.60535399, -2.13033811,  0.40378215, -1.25446813,\n",
       "         2.72436253, -1.12600656, -0.89775721, -2.00646919, -2.15162935],\n",
       "       [-0.31427384, -0.61700352,  0.55622468,  1.41322763, -0.55259957,\n",
       "        -0.25543099,  0.26532183, -0.57033572, -0.74386418,  2.16820366],\n",
       "       [ 1.00879706, -0.73171976,  2.23174747, -0.48258047, -0.75171223,\n",
       "         1.69571106,  0.24702797, -0.20032806, -1.1706279 ,  0.19516239]])"
      ]
     },
     "execution_count": 23,
     "metadata": {},
     "output_type": "execute_result"
    }
   ],
   "source": [
    "# 저장되어있는 구분자와 동일한 것을 지정한다. \n",
    "c4 = np.loadtxt('save_data/c.csv', delimiter = ',')\n",
    "c4"
   ]
  },
  {
   "cell_type": "code",
   "execution_count": 24,
   "metadata": {
    "collapsed": true
   },
   "outputs": [
    {
     "ename": "ValueError",
     "evalue": "Expected 1D or 2D array, got 3D array instead",
     "output_type": "error",
     "traceback": [
      "\u001b[1;31m---------------------------------------------------------------------------\u001b[0m",
      "\u001b[1;31mValueError\u001b[0m                                Traceback (most recent call last)",
      "\u001b[1;32m~\\AppData\\Local\\Temp\\ipykernel_27136\\1798467275.py\u001b[0m in \u001b[0;36m<module>\u001b[1;34m\u001b[0m\n\u001b[0;32m      1\u001b[0m \u001b[1;31m# 3차원 배열은 저장 안됨.\u001b[0m\u001b[1;33m\u001b[0m\u001b[1;33m\u001b[0m\u001b[1;33m\u001b[0m\u001b[0m\n\u001b[1;32m----> 2\u001b[1;33m \u001b[0mnp\u001b[0m\u001b[1;33m.\u001b[0m\u001b[0msavetxt\u001b[0m\u001b[1;33m(\u001b[0m\u001b[1;34m'test'\u001b[0m\u001b[1;33m,\u001b[0m \u001b[0mb\u001b[0m\u001b[1;33m)\u001b[0m\u001b[1;33m\u001b[0m\u001b[1;33m\u001b[0m\u001b[0m\n\u001b[0m",
      "\u001b[1;32m<__array_function__ internals>\u001b[0m in \u001b[0;36msavetxt\u001b[1;34m(*args, **kwargs)\u001b[0m\n",
      "\u001b[1;32m~\\anaconda3\\envs\\ml\\lib\\site-packages\\numpy\\lib\\npyio.py\u001b[0m in \u001b[0;36msavetxt\u001b[1;34m(fname, X, fmt, delimiter, newline, header, footer, comments, encoding)\u001b[0m\n\u001b[0;32m   1381\u001b[0m         \u001b[1;32mif\u001b[0m \u001b[0mX\u001b[0m\u001b[1;33m.\u001b[0m\u001b[0mndim\u001b[0m \u001b[1;33m==\u001b[0m \u001b[1;36m0\u001b[0m \u001b[1;32mor\u001b[0m \u001b[0mX\u001b[0m\u001b[1;33m.\u001b[0m\u001b[0mndim\u001b[0m \u001b[1;33m>\u001b[0m \u001b[1;36m2\u001b[0m\u001b[1;33m:\u001b[0m\u001b[1;33m\u001b[0m\u001b[1;33m\u001b[0m\u001b[0m\n\u001b[0;32m   1382\u001b[0m             raise ValueError(\n\u001b[1;32m-> 1383\u001b[1;33m                 \"Expected 1D or 2D array, got %dD array instead\" % X.ndim)\n\u001b[0m\u001b[0;32m   1384\u001b[0m         \u001b[1;32melif\u001b[0m \u001b[0mX\u001b[0m\u001b[1;33m.\u001b[0m\u001b[0mndim\u001b[0m \u001b[1;33m==\u001b[0m \u001b[1;36m1\u001b[0m\u001b[1;33m:\u001b[0m\u001b[1;33m\u001b[0m\u001b[1;33m\u001b[0m\u001b[0m\n\u001b[0;32m   1385\u001b[0m             \u001b[1;31m# Common case -- 1d array of numbers\u001b[0m\u001b[1;33m\u001b[0m\u001b[1;33m\u001b[0m\u001b[1;33m\u001b[0m\u001b[0m\n",
      "\u001b[1;31mValueError\u001b[0m: Expected 1D or 2D array, got 3D array instead"
     ]
    }
   ],
   "source": [
    "# 3차원 배열은 저장 안됨.\n",
    "np.savetxt('test', b)"
   ]
  },
  {
   "cell_type": "code",
   "execution_count": 27,
   "metadata": {},
   "outputs": [
    {
     "data": {
      "text/plain": [
       "dtype('int32')"
      ]
     },
     "execution_count": 27,
     "metadata": {},
     "output_type": "execute_result"
    }
   ],
   "source": [
    "# txt 저장할 때 float64 로 저장됨. -> 불러올 때 타입 정해서\n",
    "\n",
    "a5 = np.loadtxt('save_data/a_txt.csv', dtype = 'int32')\n",
    "a5.dtype"
   ]
  },
  {
   "cell_type": "code",
   "execution_count": 31,
   "metadata": {},
   "outputs": [
    {
     "data": {
      "text/html": [
       "<div>\n",
       "<style scoped>\n",
       "    .dataframe tbody tr th:only-of-type {\n",
       "        vertical-align: middle;\n",
       "    }\n",
       "\n",
       "    .dataframe tbody tr th {\n",
       "        vertical-align: top;\n",
       "    }\n",
       "\n",
       "    .dataframe thead th {\n",
       "        text-align: right;\n",
       "    }\n",
       "</style>\n",
       "<table border=\"1\" class=\"dataframe\">\n",
       "  <thead>\n",
       "    <tr style=\"text-align: right;\">\n",
       "      <th></th>\n",
       "      <th>0</th>\n",
       "      <th>1</th>\n",
       "      <th>2</th>\n",
       "      <th>3</th>\n",
       "      <th>4</th>\n",
       "      <th>5</th>\n",
       "      <th>6</th>\n",
       "      <th>7</th>\n",
       "      <th>8</th>\n",
       "      <th>9</th>\n",
       "    </tr>\n",
       "  </thead>\n",
       "  <tbody>\n",
       "    <tr>\n",
       "      <th>0</th>\n",
       "      <td>-0.095653</td>\n",
       "      <td>-1.258543</td>\n",
       "      <td>-0.155436</td>\n",
       "      <td>3.279875</td>\n",
       "      <td>-2.345209</td>\n",
       "      <td>-0.664035</td>\n",
       "      <td>-0.293471</td>\n",
       "      <td>-0.872269</td>\n",
       "      <td>-0.058724</td>\n",
       "      <td>0.282092</td>\n",
       "    </tr>\n",
       "    <tr>\n",
       "      <th>1</th>\n",
       "      <td>0.747035</td>\n",
       "      <td>-0.903473</td>\n",
       "      <td>-1.222818</td>\n",
       "      <td>0.234105</td>\n",
       "      <td>-0.285578</td>\n",
       "      <td>0.734409</td>\n",
       "      <td>-0.864755</td>\n",
       "      <td>-1.274329</td>\n",
       "      <td>-0.345743</td>\n",
       "      <td>0.227034</td>\n",
       "    </tr>\n",
       "    <tr>\n",
       "      <th>2</th>\n",
       "      <td>0.441043</td>\n",
       "      <td>-0.605354</td>\n",
       "      <td>-2.130338</td>\n",
       "      <td>0.403782</td>\n",
       "      <td>-1.254468</td>\n",
       "      <td>2.724363</td>\n",
       "      <td>-1.126007</td>\n",
       "      <td>-0.897757</td>\n",
       "      <td>-2.006469</td>\n",
       "      <td>-2.151629</td>\n",
       "    </tr>\n",
       "    <tr>\n",
       "      <th>3</th>\n",
       "      <td>-0.314274</td>\n",
       "      <td>-0.617004</td>\n",
       "      <td>0.556225</td>\n",
       "      <td>1.413228</td>\n",
       "      <td>-0.552600</td>\n",
       "      <td>-0.255431</td>\n",
       "      <td>0.265322</td>\n",
       "      <td>-0.570336</td>\n",
       "      <td>-0.743864</td>\n",
       "      <td>2.168204</td>\n",
       "    </tr>\n",
       "    <tr>\n",
       "      <th>4</th>\n",
       "      <td>1.008797</td>\n",
       "      <td>-0.731720</td>\n",
       "      <td>2.231747</td>\n",
       "      <td>-0.482580</td>\n",
       "      <td>-0.751712</td>\n",
       "      <td>1.695711</td>\n",
       "      <td>0.247028</td>\n",
       "      <td>-0.200328</td>\n",
       "      <td>-1.170628</td>\n",
       "      <td>0.195162</td>\n",
       "    </tr>\n",
       "  </tbody>\n",
       "</table>\n",
       "</div>"
      ],
      "text/plain": [
       "          0         1         2         3         4         5         6  \\\n",
       "0 -0.095653 -1.258543 -0.155436  3.279875 -2.345209 -0.664035 -0.293471   \n",
       "1  0.747035 -0.903473 -1.222818  0.234105 -0.285578  0.734409 -0.864755   \n",
       "2  0.441043 -0.605354 -2.130338  0.403782 -1.254468  2.724363 -1.126007   \n",
       "3 -0.314274 -0.617004  0.556225  1.413228 -0.552600 -0.255431  0.265322   \n",
       "4  1.008797 -0.731720  2.231747 -0.482580 -0.751712  1.695711  0.247028   \n",
       "\n",
       "          7         8         9  \n",
       "0 -0.872269 -0.058724  0.282092  \n",
       "1 -1.274329 -0.345743  0.227034  \n",
       "2 -0.897757 -2.006469 -2.151629  \n",
       "3 -0.570336 -0.743864  2.168204  \n",
       "4 -0.200328 -1.170628  0.195162  "
      ]
     },
     "execution_count": 31,
     "metadata": {},
     "output_type": "execute_result"
    }
   ],
   "source": [
    "import pandas as pd\n",
    "\n",
    "df = pd.read_csv('save_data/c.csv', header=None )\n",
    "df\n",
    "\n",
    "# 정수로 불러올려면?"
   ]
  },
  {
   "cell_type": "code",
   "execution_count": null,
   "metadata": {},
   "outputs": [],
   "source": []
  }
 ],
 "metadata": {
  "kernelspec": {
   "display_name": "Python 3 (ipykernel)",
   "language": "python",
   "name": "python3"
  },
  "language_info": {
   "codemirror_mode": {
    "name": "ipython",
    "version": 3
   },
   "file_extension": ".py",
   "mimetype": "text/x-python",
   "name": "python",
   "nbconvert_exporter": "python",
   "pygments_lexer": "ipython3",
   "version": "3.7.13"
  },
  "toc": {
   "base_numbering": 1,
   "nav_menu": {},
   "number_sections": true,
   "sideBar": true,
   "skip_h1_title": false,
   "title_cell": "Table of Contents",
   "title_sidebar": "Contents",
   "toc_cell": false,
   "toc_position": {},
   "toc_section_display": true,
   "toc_window_display": false
  },
  "varInspector": {
   "cols": {
    "lenName": 16,
    "lenType": 16,
    "lenVar": 40
   },
   "kernels_config": {
    "python": {
     "delete_cmd_postfix": "",
     "delete_cmd_prefix": "del ",
     "library": "var_list.py",
     "varRefreshCmd": "print(var_dic_list())"
    },
    "r": {
     "delete_cmd_postfix": ") ",
     "delete_cmd_prefix": "rm(",
     "library": "var_list.r",
     "varRefreshCmd": "cat(var_dic_list()) "
    }
   },
   "types_to_exclude": [
    "module",
    "function",
    "builtin_function_or_method",
    "instance",
    "_Feature"
   ],
   "window_display": false
  }
 },
 "nbformat": 4,
 "nbformat_minor": 2
}
