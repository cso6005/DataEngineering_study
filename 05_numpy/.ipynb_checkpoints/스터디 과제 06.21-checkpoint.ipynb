{
 "cells": [
  {
   "cell_type": "code",
   "execution_count": null,
   "id": "95853047",
   "metadata": {},
   "outputs": [],
   "source": [
    "import pandas as pd\n",
    "import numpy as np\n",
    "import matplotlib.pyplot as plt\n",
    "import matplotlib\n",
    "from datetime import datetime "
   ]
  },
  {
   "cell_type": "code",
   "execution_count": 2,
   "id": "302aeb11",
   "metadata": {},
   "outputs": [],
   "source": [
    "#python 파일 경로에 data폴더 만든 후 다음의 파일들 넣어놓기\n",
    "#데이터 불러오기 (pd.read_csv)\n"
   ]
  },
  {
   "cell_type": "code",
   "execution_count": null,
   "id": "8040baa9",
   "metadata": {},
   "outputs": [],
   "source": [
    "#1. 3개의 데이터를 병합하시오"
   ]
  },
  {
   "cell_type": "code",
   "execution_count": null,
   "id": "2f0b6152",
   "metadata": {},
   "outputs": [],
   "source": [
    "#====이후문제는 병합한 데이터프레임을 이용 ===========\n",
    "#2. 년도, 월별로 인덱스를 설정(멀티인덱스) 하고 데이터를 보여 주시오"
   ]
  },
  {
   "cell_type": "code",
   "execution_count": null,
   "id": "f699f5b0",
   "metadata": {},
   "outputs": [],
   "source": [
    "#3. 년도 및 월별 평균 사망자를 보여주시오"
   ]
  },
  {
   "cell_type": "code",
   "execution_count": null,
   "id": "7842c005",
   "metadata": {},
   "outputs": [],
   "source": [
    "#4.  2016년 사고대비 사망율을 구하시오"
   ]
  },
  {
   "cell_type": "code",
   "execution_count": null,
   "id": "c61bf941",
   "metadata": {},
   "outputs": [],
   "source": [
    "#5. 2014년도 월별 사망, 부상 데이터를 바차트로 보여주시오"
   ]
  },
  {
   "cell_type": "code",
   "execution_count": null,
   "id": "fa605b1d",
   "metadata": {},
   "outputs": [],
   "source": [
    "#6. 2015년 대비  사망이 가장 많이 증가한 2016년도 월을 구하시오"
   ]
  }
 ],
 "metadata": {
  "kernelspec": {
   "display_name": "Python 3 (ipykernel)",
   "language": "python",
   "name": "python3"
  },
  "language_info": {
   "codemirror_mode": {
    "name": "ipython",
    "version": 3
   },
   "file_extension": ".py",
   "mimetype": "text/x-python",
   "name": "python",
   "nbconvert_exporter": "python",
   "pygments_lexer": "ipython3",
   "version": "3.7.13"
  }
 },
 "nbformat": 4,
 "nbformat_minor": 5
}
