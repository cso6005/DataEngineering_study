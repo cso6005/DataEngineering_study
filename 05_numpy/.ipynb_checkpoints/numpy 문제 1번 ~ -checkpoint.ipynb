{
 "cells": [
  {
   "cell_type": "code",
   "execution_count": null,
   "id": "093f4709",
   "metadata": {},
   "outputs": [],
   "source": [
    "1. Import the numpy package under the name np "
   ]
  },
  {
   "cell_type": "code",
   "execution_count": null,
   "id": "82ddd802",
   "metadata": {},
   "outputs": [],
   "source": []
  },
  {
   "cell_type": "code",
   "execution_count": null,
   "id": "a117d5e4",
   "metadata": {},
   "outputs": [],
   "source": [
    "3. Create a null vector of size 10 \n",
    "null vector는 zero vector를 뜻함"
   ]
  },
  {
   "cell_type": "code",
   "execution_count": null,
   "id": "09697d8b",
   "metadata": {},
   "outputs": [],
   "source": []
  },
  {
   "cell_type": "code",
   "execution_count": null,
   "id": "bb58b3dc",
   "metadata": {},
   "outputs": [],
   "source": [
    "4.How to find the memory size of any array \n",
    "array의 메모리 사이즈 찾는 방법"
   ]
  },
  {
   "cell_type": "code",
   "execution_count": null,
   "id": "13ce21bb",
   "metadata": {},
   "outputs": [],
   "source": []
  },
  {
   "cell_type": "code",
   "execution_count": null,
   "id": "04a5c48c",
   "metadata": {},
   "outputs": [],
   "source": [
    "5. size가 10인 null vector를 만들고 5번째 원소는 1로 만들기"
   ]
  },
  {
   "cell_type": "code",
   "execution_count": null,
   "id": "7b5abda7",
   "metadata": {},
   "outputs": [],
   "source": []
  },
  {
   "cell_type": "code",
   "execution_count": null,
   "id": "16b8fc3b",
   "metadata": {},
   "outputs": [],
   "source": [
    "7. Create a vector with values ranging from 10 to 49 "
   ]
  },
  {
   "cell_type": "code",
   "execution_count": null,
   "id": "7e0b44ac",
   "metadata": {},
   "outputs": [],
   "source": []
  },
  {
   "cell_type": "code",
   "execution_count": null,
   "id": "933cbe7b",
   "metadata": {},
   "outputs": [],
   "source": [
    "8. Reverse a vector (first element becomes last)\n",
    "위 배열의 원소를 뒤집는 문제\n"
   ]
  },
  {
   "cell_type": "code",
   "execution_count": null,
   "id": "2cbf472b",
   "metadata": {},
   "outputs": [],
   "source": []
  },
  {
   "cell_type": "code",
   "execution_count": null,
   "id": "d15223a7",
   "metadata": {},
   "outputs": [],
   "source": [
    "9. Create a 3x3 matrix with values ranging from 0 to 8 \n",
    "0부터 8을 원소로 가지는 3 x 3의 행렬을 만들어라"
   ]
  },
  {
   "cell_type": "code",
   "execution_count": null,
   "id": "43d651c9",
   "metadata": {},
   "outputs": [],
   "source": []
  },
  {
   "cell_type": "code",
   "execution_count": null,
   "id": "202f0059",
   "metadata": {},
   "outputs": [],
   "source": [
    "10. Find indices of non-zero elements from [1,2,0,0,4,0] \n",
    "[1,2,0,0,4,0]에서 0이 아닌 요소의 인덱스 찾기\n",
    "\n"
   ]
  },
  {
   "cell_type": "code",
   "execution_count": null,
   "id": "9dd2b124",
   "metadata": {},
   "outputs": [],
   "source": []
  },
  {
   "cell_type": "code",
   "execution_count": null,
   "id": "d2854283",
   "metadata": {},
   "outputs": [],
   "source": [
    "11. Create a 3x3 identity matrix \n",
    "3 x 3의 항등행렬을 만들어라\n"
   ]
  },
  {
   "cell_type": "code",
   "execution_count": null,
   "id": "b1cb986a",
   "metadata": {},
   "outputs": [],
   "source": []
  },
  {
   "cell_type": "code",
   "execution_count": null,
   "id": "92bad150",
   "metadata": {},
   "outputs": [],
   "source": [
    "12. Create a 3x3x3 array with random values \n",
    "무작위 원소를 가진 3x3x3의 array를 만들어라\n"
   ]
  },
  {
   "cell_type": "code",
   "execution_count": null,
   "id": "c5787700",
   "metadata": {},
   "outputs": [],
   "source": []
  },
  {
   "cell_type": "code",
   "execution_count": null,
   "id": "52434277",
   "metadata": {},
   "outputs": [],
   "source": [
    "13. Create a 10x10 array with random values and find the minimum and maximum values (★☆☆)\n",
    "10x10의 무작위 원소를 가진 array를 만들고 최솟값과 최댓값을 찾아라.\n"
   ]
  },
  {
   "cell_type": "code",
   "execution_count": null,
   "id": "076ce415",
   "metadata": {},
   "outputs": [],
   "source": []
  },
  {
   "cell_type": "code",
   "execution_count": null,
   "id": "4a1d484d",
   "metadata": {},
   "outputs": [],
   "source": [
    "14. Create a random vector of size 30 and find the mean value \n",
    "size가 30인 무작위 벡터를 만들고 평균값을 구하라\n"
   ]
  },
  {
   "cell_type": "code",
   "execution_count": null,
   "id": "7e2beb0b",
   "metadata": {},
   "outputs": [],
   "source": []
  },
  {
   "cell_type": "code",
   "execution_count": null,
   "id": "ebd68700",
   "metadata": {},
   "outputs": [],
   "source": [
    "15. Create a 2d array with 1 on the border and 0 inside \n",
    "테두리의 원소가 1이고 안쪽 원소가 0인 2차원 배열을 만들어라\n"
   ]
  },
  {
   "cell_type": "code",
   "execution_count": null,
   "id": "f8acd54b",
   "metadata": {},
   "outputs": [],
   "source": []
  }
 ],
 "metadata": {
  "kernelspec": {
   "display_name": "Python 3 (ipykernel)",
   "language": "python",
   "name": "python3"
  },
  "language_info": {
   "codemirror_mode": {
    "name": "ipython",
    "version": 3
   },
   "file_extension": ".py",
   "mimetype": "text/x-python",
   "name": "python",
   "nbconvert_exporter": "python",
   "pygments_lexer": "ipython3",
   "version": "3.7.13"
  }
 },
 "nbformat": 4,
 "nbformat_minor": 5
}
